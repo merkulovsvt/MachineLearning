{
 "cells": [
  {
   "cell_type": "code",
   "id": "initial_id",
   "metadata": {
    "collapsed": true,
    "ExecuteTime": {
     "end_time": "2024-12-04T08:31:25.317952Z",
     "start_time": "2024-12-04T08:30:50.359985Z"
    }
   },
   "source": [
    "import gensim.downloader as api\n",
    "\n",
    "model = api.load(\"glove-wiki-gigaword-50\")"
   ],
   "outputs": [
    {
     "name": "stdout",
     "output_type": "stream",
     "text": [
      "[==================================================] 100.0% 66.0/66.0MB downloaded\n"
     ]
    }
   ],
   "execution_count": 1
  },
  {
   "metadata": {
    "ExecuteTime": {
     "end_time": "2024-12-04T08:38:51.632852Z",
     "start_time": "2024-12-04T08:38:51.601885Z"
    }
   },
   "cell_type": "code",
   "source": "model.most_similar(positive=['transgender', 'sex', 'svyatoslav'], negative=['woman'])",
   "id": "ee90b6f58d5af5de",
   "outputs": [
    {
     "data": {
      "text/plain": [
       "[('arousal', 0.6494056582450867),\n",
       " ('myoclonus', 0.6422102451324463),\n",
       " ('heterosexuals', 0.6351547837257385),\n",
       " ('epilepsy', 0.6345536112785339),\n",
       " ('deviance', 0.6246837377548218),\n",
       " ('promiscuity', 0.6230077147483826),\n",
       " ('non-celibate', 0.6199751496315002),\n",
       " ('nsaids', 0.6193693280220032),\n",
       " ('in-group', 0.6185669898986816),\n",
       " ('transgendered', 0.618081271648407)]"
      ]
     },
     "execution_count": 43,
     "metadata": {},
     "output_type": "execute_result"
    }
   ],
   "execution_count": 43
  },
  {
   "metadata": {
    "ExecuteTime": {
     "end_time": "2024-12-04T08:37:37.407262Z",
     "start_time": "2024-12-04T08:36:20.625060Z"
    }
   },
   "cell_type": "code",
   "source": "model_ru = api.load(\"word2vec-ruscorpora-300\")",
   "id": "dad45a8b96c1f5dd",
   "outputs": [
    {
     "name": "stdout",
     "output_type": "stream",
     "text": [
      "[==================================================] 100.0% 198.8/198.8MB downloaded\n"
     ]
    }
   ],
   "execution_count": 32
  },
  {
   "metadata": {
    "ExecuteTime": {
     "end_time": "2024-12-04T08:41:33.091393Z",
     "start_time": "2024-12-04T08:41:33.068378Z"
    }
   },
   "cell_type": "code",
   "source": "model_ru.most_similar(positive=['россия_NOUN', 'москва_NOUN'], negative=[\"столица_NOUN\"])",
   "id": "a7d73a8650a1671b",
   "outputs": [
    {
     "data": {
      "text/plain": [
       "[('издание::нти_NOUN', 0.5584619641304016),\n",
       " ('польша_NOUN', 0.503848671913147),\n",
       " ('украина_NOUN', 0.5031332969665527),\n",
       " ('белоруссия_NOUN', 0.4901531934738159),\n",
       " ('российский_ADJ', 0.48994162678718567),\n",
       " ('германия_NOUN', 0.48210251331329346),\n",
       " ('гао::ввц_NOUN', 0.4638255536556244),\n",
       " ('европа_NOUN', 0.45887893438339233),\n",
       " ('роспечать::подписной_NOUN', 0.4582009017467499),\n",
       " ('франция_NOUN', 0.4574510455131531)]"
      ]
     },
     "execution_count": 54,
     "metadata": {},
     "output_type": "execute_result"
    }
   ],
   "execution_count": 54
  }
 ],
 "metadata": {
  "kernelspec": {
   "display_name": "Python 3",
   "language": "python",
   "name": "python3"
  },
  "language_info": {
   "codemirror_mode": {
    "name": "ipython",
    "version": 2
   },
   "file_extension": ".py",
   "mimetype": "text/x-python",
   "name": "python",
   "nbconvert_exporter": "python",
   "pygments_lexer": "ipython2",
   "version": "2.7.6"
  }
 },
 "nbformat": 4,
 "nbformat_minor": 5
}
