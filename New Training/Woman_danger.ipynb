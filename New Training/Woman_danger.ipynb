{
 "cells": [
  {
   "cell_type": "code",
   "id": "initial_id",
   "metadata": {
    "collapsed": true,
    "ExecuteTime": {
     "end_time": "2024-11-08T14:15:59.495898Z",
     "start_time": "2024-11-08T14:15:59.465999Z"
    }
   },
   "source": "import pandas as pd",
   "outputs": [],
   "execution_count": 296
  },
  {
   "metadata": {
    "ExecuteTime": {
     "end_time": "2024-11-08T14:15:59.654670Z",
     "start_time": "2024-11-08T14:15:59.612543Z"
    }
   },
   "cell_type": "code",
   "source": [
    "data = pd.read_csv('Data/Woman_danger/women_danger.csv', sep=',')\n",
    "data = data.rename(columns=lambda x: x.split('MostDangerousCountriesForWomen_')[1] if x != 'country' else x)\n",
    "data.head()"
   ],
   "id": "12d63e95a0f588c8",
   "outputs": [
    {
     "data": {
      "text/plain": [
       "         country  WomenPeaceAndSecurityIndex_Score_2023  \\\n",
       "0          India                                  0.595   \n",
       "1          China                                  0.700   \n",
       "2  United States                                  0.823   \n",
       "3      Indonesia                                  0.700   \n",
       "4       Pakistan                                  0.481   \n",
       "\n",
       "   WomensDangerIndexWDI_TotalScore_2019  WDIStreetSafety_2019  \\\n",
       "0                                541.25                  41.0   \n",
       "1                                444.55                  23.0   \n",
       "2                                456.31                  51.0   \n",
       "3                                442.10                  37.0   \n",
       "4                                   NaN                   NaN   \n",
       "\n",
       "   WDIIntentionalHomicide_2019  WDINonPartnerViolence_2019  \\\n",
       "0                         30.0                        19.0   \n",
       "1                          6.0                        70.0   \n",
       "2                         25.0                        75.0   \n",
       "3                          3.0                        30.0   \n",
       "4                          NaN                         NaN   \n",
       "\n",
       "   WDIIntimatePartnerViolence_2019  WDILegalDiscrimination_2019  \\\n",
       "0                             83.0                         44.0   \n",
       "1                             86.0                         44.0   \n",
       "2                             81.0                         24.0   \n",
       "3                             66.0                         54.0   \n",
       "4                              NaN                          NaN   \n",
       "\n",
       "   WDIGlobalGenderGap_2019  WDIGenderInequality_2019  \\\n",
       "0                     79.0                     100.0   \n",
       "1                     78.0                      29.0   \n",
       "2                     68.0                      36.0   \n",
       "3                     74.0                      86.0   \n",
       "4                      NaN                       NaN   \n",
       "\n",
       "   WDIAttitudesTowardViolence_2019  \n",
       "0                             74.0  \n",
       "1                             80.0  \n",
       "2                             21.0  \n",
       "3                             51.0  \n",
       "4                              NaN  "
      ],
      "text/html": [
       "<div>\n",
       "<style scoped>\n",
       "    .dataframe tbody tr th:only-of-type {\n",
       "        vertical-align: middle;\n",
       "    }\n",
       "\n",
       "    .dataframe tbody tr th {\n",
       "        vertical-align: top;\n",
       "    }\n",
       "\n",
       "    .dataframe thead th {\n",
       "        text-align: right;\n",
       "    }\n",
       "</style>\n",
       "<table border=\"1\" class=\"dataframe\">\n",
       "  <thead>\n",
       "    <tr style=\"text-align: right;\">\n",
       "      <th></th>\n",
       "      <th>country</th>\n",
       "      <th>WomenPeaceAndSecurityIndex_Score_2023</th>\n",
       "      <th>WomensDangerIndexWDI_TotalScore_2019</th>\n",
       "      <th>WDIStreetSafety_2019</th>\n",
       "      <th>WDIIntentionalHomicide_2019</th>\n",
       "      <th>WDINonPartnerViolence_2019</th>\n",
       "      <th>WDIIntimatePartnerViolence_2019</th>\n",
       "      <th>WDILegalDiscrimination_2019</th>\n",
       "      <th>WDIGlobalGenderGap_2019</th>\n",
       "      <th>WDIGenderInequality_2019</th>\n",
       "      <th>WDIAttitudesTowardViolence_2019</th>\n",
       "    </tr>\n",
       "  </thead>\n",
       "  <tbody>\n",
       "    <tr>\n",
       "      <th>0</th>\n",
       "      <td>India</td>\n",
       "      <td>0.595</td>\n",
       "      <td>541.25</td>\n",
       "      <td>41.0</td>\n",
       "      <td>30.0</td>\n",
       "      <td>19.0</td>\n",
       "      <td>83.0</td>\n",
       "      <td>44.0</td>\n",
       "      <td>79.0</td>\n",
       "      <td>100.0</td>\n",
       "      <td>74.0</td>\n",
       "    </tr>\n",
       "    <tr>\n",
       "      <th>1</th>\n",
       "      <td>China</td>\n",
       "      <td>0.700</td>\n",
       "      <td>444.55</td>\n",
       "      <td>23.0</td>\n",
       "      <td>6.0</td>\n",
       "      <td>70.0</td>\n",
       "      <td>86.0</td>\n",
       "      <td>44.0</td>\n",
       "      <td>78.0</td>\n",
       "      <td>29.0</td>\n",
       "      <td>80.0</td>\n",
       "    </tr>\n",
       "    <tr>\n",
       "      <th>2</th>\n",
       "      <td>United States</td>\n",
       "      <td>0.823</td>\n",
       "      <td>456.31</td>\n",
       "      <td>51.0</td>\n",
       "      <td>25.0</td>\n",
       "      <td>75.0</td>\n",
       "      <td>81.0</td>\n",
       "      <td>24.0</td>\n",
       "      <td>68.0</td>\n",
       "      <td>36.0</td>\n",
       "      <td>21.0</td>\n",
       "    </tr>\n",
       "    <tr>\n",
       "      <th>3</th>\n",
       "      <td>Indonesia</td>\n",
       "      <td>0.700</td>\n",
       "      <td>442.10</td>\n",
       "      <td>37.0</td>\n",
       "      <td>3.0</td>\n",
       "      <td>30.0</td>\n",
       "      <td>66.0</td>\n",
       "      <td>54.0</td>\n",
       "      <td>74.0</td>\n",
       "      <td>86.0</td>\n",
       "      <td>51.0</td>\n",
       "    </tr>\n",
       "    <tr>\n",
       "      <th>4</th>\n",
       "      <td>Pakistan</td>\n",
       "      <td>0.481</td>\n",
       "      <td>NaN</td>\n",
       "      <td>NaN</td>\n",
       "      <td>NaN</td>\n",
       "      <td>NaN</td>\n",
       "      <td>NaN</td>\n",
       "      <td>NaN</td>\n",
       "      <td>NaN</td>\n",
       "      <td>NaN</td>\n",
       "      <td>NaN</td>\n",
       "    </tr>\n",
       "  </tbody>\n",
       "</table>\n",
       "</div>"
      ]
     },
     "execution_count": 297,
     "metadata": {},
     "output_type": "execute_result"
    }
   ],
   "execution_count": 297
  },
  {
   "metadata": {
    "ExecuteTime": {
     "end_time": "2024-11-08T14:15:59.788939Z",
     "start_time": "2024-11-08T14:15:59.757681Z"
    }
   },
   "cell_type": "code",
   "source": "data.country",
   "id": "fd3a1d3d5e440a25",
   "outputs": [
    {
     "data": {
      "text/plain": [
       "0                      India\n",
       "1                      China\n",
       "2              United States\n",
       "3                  Indonesia\n",
       "4                   Pakistan\n",
       "               ...          \n",
       "171                 Barbados\n",
       "172    Sao Tome and Principe\n",
       "173                    Samoa\n",
       "174               Seychelles\n",
       "175                    Tonga\n",
       "Name: country, Length: 176, dtype: object"
      ]
     },
     "execution_count": 298,
     "metadata": {},
     "output_type": "execute_result"
    }
   ],
   "execution_count": 298
  },
  {
   "metadata": {
    "ExecuteTime": {
     "end_time": "2024-11-08T14:15:59.994230Z",
     "start_time": "2024-11-08T14:15:59.978346Z"
    }
   },
   "cell_type": "code",
   "source": [
    "import pycountry\n",
    "\n",
    "data['iso_alpha'] = data.apply(\n",
    "    lambda row: pycountry.countries.get(name=row['country']).alpha_3 if pycountry.countries.get(\n",
    "        name=row['country']) else 'change', axis=1)"
   ],
   "id": "3a05292b0d469c4f",
   "outputs": [],
   "execution_count": 299
  },
  {
   "metadata": {
    "ExecuteTime": {
     "end_time": "2024-11-08T14:16:00.109028Z",
     "start_time": "2024-11-08T14:16:00.077406Z"
    }
   },
   "cell_type": "code",
   "source": "data[['country', 'iso_alpha']][data['iso_alpha'] == 'change']",
   "id": "ee23ad2ba4f1bcd4",
   "outputs": [
    {
     "data": {
      "text/plain": [
       "                   country iso_alpha\n",
       "8                   Russia    change\n",
       "14                DR Congo    change\n",
       "15                 Vietnam    change\n",
       "16                    Iran    change\n",
       "17                  Turkey    change\n",
       "21                Tanzania    change\n",
       "28             South Korea    change\n",
       "49             Ivory Coast    change\n",
       "52               Venezuela    change\n",
       "55                   Syria    change\n",
       "58                  Taiwan    change\n",
       "77                 Bolivia    change\n",
       "86          Czech Republic    change\n",
       "100                   Laos    change\n",
       "110  Republic of the Congo    change\n",
       "118              Palestine    change\n",
       "134                Moldova    change\n",
       "167             Cape Verde    change"
      ],
      "text/html": [
       "<div>\n",
       "<style scoped>\n",
       "    .dataframe tbody tr th:only-of-type {\n",
       "        vertical-align: middle;\n",
       "    }\n",
       "\n",
       "    .dataframe tbody tr th {\n",
       "        vertical-align: top;\n",
       "    }\n",
       "\n",
       "    .dataframe thead th {\n",
       "        text-align: right;\n",
       "    }\n",
       "</style>\n",
       "<table border=\"1\" class=\"dataframe\">\n",
       "  <thead>\n",
       "    <tr style=\"text-align: right;\">\n",
       "      <th></th>\n",
       "      <th>country</th>\n",
       "      <th>iso_alpha</th>\n",
       "    </tr>\n",
       "  </thead>\n",
       "  <tbody>\n",
       "    <tr>\n",
       "      <th>8</th>\n",
       "      <td>Russia</td>\n",
       "      <td>change</td>\n",
       "    </tr>\n",
       "    <tr>\n",
       "      <th>14</th>\n",
       "      <td>DR Congo</td>\n",
       "      <td>change</td>\n",
       "    </tr>\n",
       "    <tr>\n",
       "      <th>15</th>\n",
       "      <td>Vietnam</td>\n",
       "      <td>change</td>\n",
       "    </tr>\n",
       "    <tr>\n",
       "      <th>16</th>\n",
       "      <td>Iran</td>\n",
       "      <td>change</td>\n",
       "    </tr>\n",
       "    <tr>\n",
       "      <th>17</th>\n",
       "      <td>Turkey</td>\n",
       "      <td>change</td>\n",
       "    </tr>\n",
       "    <tr>\n",
       "      <th>21</th>\n",
       "      <td>Tanzania</td>\n",
       "      <td>change</td>\n",
       "    </tr>\n",
       "    <tr>\n",
       "      <th>28</th>\n",
       "      <td>South Korea</td>\n",
       "      <td>change</td>\n",
       "    </tr>\n",
       "    <tr>\n",
       "      <th>49</th>\n",
       "      <td>Ivory Coast</td>\n",
       "      <td>change</td>\n",
       "    </tr>\n",
       "    <tr>\n",
       "      <th>52</th>\n",
       "      <td>Venezuela</td>\n",
       "      <td>change</td>\n",
       "    </tr>\n",
       "    <tr>\n",
       "      <th>55</th>\n",
       "      <td>Syria</td>\n",
       "      <td>change</td>\n",
       "    </tr>\n",
       "    <tr>\n",
       "      <th>58</th>\n",
       "      <td>Taiwan</td>\n",
       "      <td>change</td>\n",
       "    </tr>\n",
       "    <tr>\n",
       "      <th>77</th>\n",
       "      <td>Bolivia</td>\n",
       "      <td>change</td>\n",
       "    </tr>\n",
       "    <tr>\n",
       "      <th>86</th>\n",
       "      <td>Czech Republic</td>\n",
       "      <td>change</td>\n",
       "    </tr>\n",
       "    <tr>\n",
       "      <th>100</th>\n",
       "      <td>Laos</td>\n",
       "      <td>change</td>\n",
       "    </tr>\n",
       "    <tr>\n",
       "      <th>110</th>\n",
       "      <td>Republic of the Congo</td>\n",
       "      <td>change</td>\n",
       "    </tr>\n",
       "    <tr>\n",
       "      <th>118</th>\n",
       "      <td>Palestine</td>\n",
       "      <td>change</td>\n",
       "    </tr>\n",
       "    <tr>\n",
       "      <th>134</th>\n",
       "      <td>Moldova</td>\n",
       "      <td>change</td>\n",
       "    </tr>\n",
       "    <tr>\n",
       "      <th>167</th>\n",
       "      <td>Cape Verde</td>\n",
       "      <td>change</td>\n",
       "    </tr>\n",
       "  </tbody>\n",
       "</table>\n",
       "</div>"
      ]
     },
     "execution_count": 300,
     "metadata": {},
     "output_type": "execute_result"
    }
   ],
   "execution_count": 300
  },
  {
   "metadata": {
    "ExecuteTime": {
     "end_time": "2024-11-08T14:16:00.797432Z",
     "start_time": "2024-11-08T14:16:00.781391Z"
    }
   },
   "cell_type": "code",
   "source": "data = data.drop([17, 49], axis=0)",
   "id": "23107fd42261f9d5",
   "outputs": [],
   "execution_count": 301
  },
  {
   "metadata": {
    "ExecuteTime": {
     "end_time": "2024-11-08T14:16:03.611359Z",
     "start_time": "2024-11-08T14:16:01.563701Z"
    }
   },
   "cell_type": "code",
   "source": [
    "import seaborn as sns\n",
    "import matplotlib.pyplot as plt\n",
    "\n",
    "a, b = 5, 2\n",
    "fig, ax = plt.subplots(nrows=a, ncols=b, figsize=(16, 26))\n",
    "\n",
    "for i, col in enumerate(data.columns):\n",
    "    if col not in ('country', 'iso_alpha'):\n",
    "        sns.histplot(ax=ax[i // 2 - 1, i % 2], x=data[col], kde=True, bins=15)\n",
    "        ax[i // 2 - 1, i % 2].axvline(data[col].mean(), color='red')\n",
    "\n",
    "fig.subplots_adjust()"
   ],
   "id": "6d0038c21b6960bd",
   "outputs": [
    {
     "data": {
      "text/plain": [
       "<Figure size 1600x2600 with 10 Axes>"
      ],
      "image/png": "[encoded data removed]"
     },
     "metadata": {},
     "output_type": "display_data"
    }
   ],
   "execution_count": 302
  },
  {
   "metadata": {
    "ExecuteTime": {
     "end_time": "2024-11-08T14:16:03.636904Z",
     "start_time": "2024-11-08T14:16:03.611359Z"
    }
   },
   "cell_type": "code",
   "source": [
    "for col in data.columns:\n",
    "    if col not in ('country', 'iso_alpha'):\n",
    "        print(f'{col}:\\n'\n",
    "              f'Max - {data[col].max()} ({data.iloc[data[col].idxmax(), :].country})\\n'\n",
    "              f'Min - {data[col].min()} ({data.iloc[data[col].idxmin(), :].country})\\n'\n",
    "              f'Mean - {data[col].mean()}\\n'\n",
    "              f'Median -  {data[col].median()}', end='\\n\\n')"
   ],
   "id": "f688ee117c6c758a",
   "outputs": [
    {
     "name": "stdout",
     "output_type": "stream",
     "text": [
      "WomenPeaceAndSecurityIndex_Score_2023:\n",
      "Max - 0.932 (Lebanon)\n",
      "Min - 0.286 (Yemen)\n",
      "Mean - 0.6810344827586208\n",
      "Median -  0.693\n",
      "\n",
      "WomensDangerIndexWDI_TotalScore_2019:\n",
      "Max - 771.82 (Italy)\n",
      "Min - 212.04 (Algeria)\n",
      "Mean - 410.7908163265306\n",
      "Median -  380.84\n",
      "\n",
      "WDIStreetSafety_2019:\n",
      "Max - 100.0 (Italy)\n",
      "Min - 9.0 (Finland)\n",
      "Mean - 53.36734693877551\n",
      "Median -  53.0\n",
      "\n",
      "WDIIntentionalHomicide_2019:\n",
      "Max - 100.0 (Italy)\n",
      "Min - 3.0 (Indonesia)\n",
      "Mean - 15.510204081632653\n",
      "Median -  9.0\n",
      "\n",
      "WDINonPartnerViolence_2019:\n",
      "Max - 100.0 (Italy)\n",
      "Min - 6.0 (Uzbekistan)\n",
      "Mean - 40.02040816326531\n",
      "Median -  30.0\n",
      "\n",
      "WDIIntimatePartnerViolence_2019:\n",
      "Max - 100.0 (Angola)\n",
      "Min - 14.0 (Poland)\n",
      "Mean - 51.183673469387756\n",
      "Median -  47.0\n",
      "\n",
      "WDILegalDiscrimination_2019:\n",
      "Max - 100.0 (Madagascar)\n",
      "Min - 15.0 (Mexico)\n",
      "Mean - 36.3469387755102\n",
      "Median -  30.0\n",
      "\n",
      "WDIGlobalGenderGap_2019:\n",
      "Max - 100.0 (Iran)\n",
      "Min - 41.0 (Palestine)\n",
      "Mean - 70.18367346938776\n",
      "Median -  71.0\n",
      "\n",
      "WDIGenderInequality_2019:\n",
      "Max - 100.0 (India)\n",
      "Min - 7.0 (Laos)\n",
      "Mean - 41.91836734693877\n",
      "Median -  36.0\n",
      "\n",
      "WDIAttitudesTowardViolence_2019:\n",
      "Max - 100.0 (United Kingdom)\n",
      "Min - 7.0 (Afghanistan)\n",
      "Mean - 33.83673469387755\n",
      "Median -  23.0\n",
      "\n"
     ]
    }
   ],
   "execution_count": 303
  },
  {
   "metadata": {
    "ExecuteTime": {
     "end_time": "2024-11-08T14:16:03.986490Z",
     "start_time": "2024-11-08T14:16:03.636904Z"
    }
   },
   "cell_type": "code",
   "source": [
    "import plotly.express as px\n",
    "\n",
    "for col in data.columns:\n",
    "    if col not in ('country', 'iso_alpha'):\n",
    "        fig = px.choropleth(data_frame=data, locations='iso_alpha',\n",
    "                            color=col,\n",
    "                            hover_name='country',\n",
    "                            projection='natural earth',\n",
    "                            title=col)\n",
    "        fig.show()\n",
    "\n",
    "# В изначальных данных неподходящие названия стран :("
   ],
   "id": "575a6c4d49d60055",
   "outputs": [
    {
     "data": {
      "application/vnd.plotly.v1+json": {
       "data": [
        {
         "coloraxis": "coloraxis",
         "geo": "geo",
         "hovertemplate": "<b>%{hovertext}</b><br><br>iso_alpha=%{location}<br>WomenPeaceAndSecurityIndex_Score_2023=%{z}<extra></extra>",
         "hovertext": [
          "India",
          "China",
          "United States",
          "Indonesia",
          "Pakistan",
          "Nigeria",
          "Brazil",
          "Bangladesh",
          "Russia",
          "Ethiopia",
          "Mexico",
          "Japan",
          "Egypt",
          "Philippines",
          "DR Congo",
          "Vietnam",
          "Iran",
          "Germany",
          "Thailand",
          "United Kingdom",
          "Tanzania",
          "France",
          "South Africa",
          "Italy",
          "Kenya",
          "Myanmar",
          "Colombia",
          "South Korea",
          "Sudan",
          "Uganda",
          "Spain",
          "Algeria",
          "Iraq",
          "Argentina",
          "Afghanistan",
          "Yemen",
          "Canada",
          "Poland",
          "Morocco",
          "Angola",
          "Ukraine",
          "Uzbekistan",
          "Malaysia",
          "Mozambique",
          "Ghana",
          "Peru",
          "Saudi Arabia",
          "Madagascar",
          "Nepal",
          "Cameroon",
          "Venezuela",
          "Niger",
          "Australia",
          "Syria",
          "Mali",
          "Burkina Faso",
          "Taiwan",
          "Sri Lanka",
          "Malawi",
          "Zambia",
          "Kazakhstan",
          "Chad",
          "Chile",
          "Romania",
          "Somalia",
          "Senegal",
          "Guatemala",
          "Netherlands",
          "Ecuador",
          "Cambodia",
          "Zimbabwe",
          "Guinea",
          "Benin",
          "Rwanda",
          "Burundi",
          "Bolivia",
          "Tunisia",
          "South Sudan",
          "Haiti",
          "Belgium",
          "Jordan",
          "Dominican Republic",
          "United Arab Emirates",
          "Honduras",
          "Czech Republic",
          "Sweden",
          "Tajikistan",
          "Papua New Guinea",
          "Portugal",
          "Azerbaijan",
          "Greece",
          "Hungary",
          "Togo",
          "Israel",
          "Austria",
          "Belarus",
          "Switzerland",
          "Sierra Leone",
          "Laos",
          "Turkmenistan",
          "Hong Kong",
          "Libya",
          "Kyrgyzstan",
          "Paraguay",
          "Nicaragua",
          "Bulgaria",
          "Serbia",
          "El Salvador",
          "Republic of the Congo",
          "Denmark",
          "Singapore",
          "Lebanon",
          "Finland",
          "Liberia",
          "Norway",
          "Slovakia",
          "Palestine",
          "Central African Republic",
          "Oman",
          "Ireland",
          "New Zealand",
          "Mauritania",
          "Costa Rica",
          "Kuwait",
          "Panama",
          "Croatia",
          "Georgia",
          "Mongolia",
          "Uruguay",
          "Puerto Rico",
          "Bosnia and Herzegovina",
          "Qatar",
          "Moldova",
          "Namibia",
          "Armenia",
          "Lithuania",
          "Jamaica",
          "Albania",
          "Gambia",
          "Gabon",
          "Botswana",
          "Lesotho",
          "Guinea-Bissau",
          "Slovenia",
          "Equatorial Guinea",
          "Latvia",
          "North Macedonia",
          "Bahrain",
          "Trinidad and Tobago",
          "Timor-Leste",
          "Estonia",
          "Cyprus",
          "Mauritius",
          "Eswatini",
          "Djibouti",
          "Fiji",
          "Comoros",
          "Guyana",
          "Solomon Islands",
          "Bhutan",
          "Luxembourg",
          "Montenegro",
          "Suriname",
          "Malta",
          "Maldives",
          "Cape Verde",
          "Belize",
          "Iceland",
          "Vanuatu",
          "Barbados",
          "Sao Tome and Principe",
          "Samoa",
          "Seychelles",
          "Tonga"
         ],
         "locations": [
          "IND",
          "CHN",
          "USA",
          "IDN",
          "PAK",
          "NGA",
          "BRA",
          "BGD",
          "change",
          "ETH",
          "MEX",
          "JPN",
          "EGY",
          "PHL",
          "change",
          "change",
          "change",
          "DEU",
          "THA",
          "GBR",
          "change",
          "FRA",
          "ZAF",
          "ITA",
          "KEN",
          "MMR",
          "COL",
          "change",
          "SDN",
          "UGA",
          "ESP",
          "DZA",
          "IRQ",
          "ARG",
          "AFG",
          "YEM",
          "CAN",
          "POL",
          "MAR",
          "AGO",
          "UKR",
          "UZB",
          "MYS",
          "MOZ",
          "GHA",
          "PER",
          "SAU",
          "MDG",
          "NPL",
          "CMR",
          "change",
          "NER",
          "AUS",
          "change",
          "MLI",
          "BFA",
          "change",
          "LKA",
          "MWI",
          "ZMB",
          "KAZ",
          "TCD",
          "CHL",
          "ROU",
          "SOM",
          "SEN",
          "GTM",
          "NLD",
          "ECU",
          "KHM",
          "ZWE",
          "GIN",
          "BEN",
          "RWA",
          "BDI",
          "change",
          "TUN",
          "SSD",
          "HTI",
          "BEL",
          "JOR",
          "DOM",
          "ARE",
          "HND",
          "change",
          "SWE",
          "TJK",
          "PNG",
          "PRT",
          "AZE",
          "GRC",
          "HUN",
          "TGO",
          "ISR",
          "AUT",
          "BLR",
          "CHE",
          "SLE",
          "change",
          "TKM",
          "HKG",
          "LBY",
          "KGZ",
          "PRY",
          "NIC",
          "BGR",
          "SRB",
          "SLV",
          "change",
          "DNK",
          "SGP",
          "LBN",
          "FIN",
          "LBR",
          "NOR",
          "SVK",
          "change",
          "CAF",
          "OMN",
          "IRL",
          "NZL",
          "MRT",
          "CRI",
          "KWT",
          "PAN",
          "HRV",
          "GEO",
          "MNG",
          "URY",
          "PRI",
          "BIH",
          "QAT",
          "change",
          "NAM",
          "ARM",
          "LTU",
          "JAM",
          "ALB",
          "GMB",
          "GAB",
          "BWA",
          "LSO",
          "GNB",
          "SVN",
          "GNQ",
          "LVA",
          "MKD",
          "BHR",
          "TTO",
          "TLS",
          "EST",
          "CYP",
          "MUS",
          "SWZ",
          "DJI",
          "FJI",
          "COM",
          "GUY",
          "SLB",
          "BTN",
          "LUX",
          "MNE",
          "SUR",
          "MLT",
          "MDV",
          "change",
          "BLZ",
          "ISL",
          "VUT",
          "BRB",
          "STP",
          "WSM",
          "SYC",
          "TON"
         ],
         "name": "",
         "z": [
          0.595,
          0.7,
          0.823,
          0.7,
          0.481,
          0.465,
          0.63,
          0.593,
          0.752,
          0.521,
          0.551,
          0.866,
          0.645,
          0.612,
          0.384,
          0.707,
          0.557,
          0.871,
          0.764,
          0.86,
          0.652,
          0.864,
          0.688,
          0.827,
          0.511,
          0.451,
          0.582,
          0.848,
          0.46,
          0.544,
          0.859,
          0.622,
          0.424,
          0.768,
          0.286,
          0.287,
          0.885,
          0.859,
          0.637,
          0.598,
          0.626,
          0.674,
          0.738,
          0.58,
          0.651,
          0.717,
          0.737,
          0.505,
          0.644,
          0.466,
          0.628,
          0.442,
          0.902,
          0.407,
          0.481,
          0.481,
          0.818,
          0.743,
          0.521,
          0.556,
          0.729,
          0.462,
          0.736,
          0.8,
          0.417,
          0.619,
          0.569,
          0.908,
          0.655,
          0.645,
          0.604,
          0.539,
          0.566,
          0.663,
          0.394,
          0.696,
          0.669,
          0.388,
          0.431,
          0.902,
          0.679,
          0.666,
          0.868,
          0.61,
          0.884,
          0.926,
          0.69,
          0.487,
          0.877,
          0.667,
          0.766,
          0.835,
          0.595,
          0.703,
          0.911,
          0.733,
          0.928,
          0.543,
          0.704,
          0.75,
          0.812,
          0.61,
          0.673,
          0.691,
          0.717,
          0.826,
          0.835,
          0.566,
          0.507,
          0.932,
          0.887,
          0.595,
          0.924,
          0.5,
          0.92,
          0.856,
          0.483,
          0.378,
          0.715,
          0.892,
          0.904,
          0.506,
          0.743,
          0.742,
          0.757,
          0.862,
          0.812,
          0.794,
          0.748,
          0.692,
          0.754,
          0.703,
          0.758,
          0.61,
          0.772,
          0.886,
          0.71,
          0.796,
          0.575,
          0.593,
          0.659,
          0.605,
          0.483,
          0.824,
          0.619,
          0.872,
          0.798,
          0.752,
          0.721,
          0.664,
          0.892,
          0.739,
          0.678,
          0.415,
          0.504,
          0.738,
          0.519,
          0.769,
          0.664,
          0.7,
          0.924,
          0.808,
          0.694,
          0.846,
          0.72,
          0.738,
          0.657,
          0.924,
          0.644,
          0.779,
          0.648,
          0.711,
          0.799,
          0.697
         ],
         "type": "choropleth"
        }
       ],
       "layout": {
        "template": {
         "data": {
          "histogram2dcontour": [
           {
            "type": "histogram2dcontour",
            "colorbar": {
             "outlinewidth": 0,
             "ticks": ""
            },
            "colorscale": [
             [
              0.0,
              "#0d0887"
             ],
             [
              0.1111111111111111,
              "#46039f"
             ],
             [
              0.2222222222222222,
              "#7201a8"
             ],
             [
              0.3333333333333333,
              "#9c179e"
             ],
             [
              0.4444444444444444,
              "#bd3786"
             ],
             [
              0.5555555555555556,
              "#d8576b"
             ],
             [
              0.6666666666666666,
              "#ed7953"
             ],
             [
              0.7777777777777778,
              "#fb9f3a"
             ],
             [
              0.8888888888888888,
              "#fdca26"
             ],
             [
              1.0,
              "#f0f921"
             ]
            ]
           }
          ],
          "choropleth": [
           {
            "type": "choropleth",
            "colorbar": {
             "outlinewidth": 0,
             "ticks": ""
            }
           }
          ],
          "histogram2d": [
           {
            "type": "histogram2d",
            "colorbar": {
             "outlinewidth": 0,
             "ticks": ""
            },
            "colorscale": [
             [
              0.0,
              "#0d0887"
             ],
             [
              0.1111111111111111,
              "#46039f"
             ],
             [
              0.2222222222222222,
              "#7201a8"
             ],
             [
              0.3333333333333333,
              "#9c179e"
             ],
             [
              0.4444444444444444,
              "#bd3786"
             ],
             [
              0.5555555555555556,
              "#d8576b"
             ],
             [
              0.6666666666666666,
              "#ed7953"
             ],
             [
              0.7777777777777778,
              "#fb9f3a"
             ],
             [
              0.8888888888888888,
              "#fdca26"
             ],
             [
              1.0,
              "#f0f921"
             ]
            ]
           }
          ],
          "heatmap": [
           {
            "type": "heatmap",
            "colorbar": {
             "outlinewidth": 0,
             "ticks": ""
            },
            "colorscale": [
             [
              0.0,
              "#0d0887"
             ],
             [
              0.1111111111111111,
              "#46039f"
             ],
             [
              0.2222222222222222,
              "#7201a8"
             ],
             [
              0.3333333333333333,
              "#9c179e"
             ],
             [
              0.4444444444444444,
              "#bd3786"
             ],
             [
              0.5555555555555556,
              "#d8576b"
             ],
             [
              0.6666666666666666,
              "#ed7953"
             ],
             [
              0.7777777777777778,
              "#fb9f3a"
             ],
             [
              0.8888888888888888,
              "#fdca26"
             ],
             [
              1.0,
              "#f0f921"
             ]
            ]
           }
          ],
          "heatmapgl": [
           {
            "type": "heatmapgl",
            "colorbar": {
             "outlinewidth": 0,
             "ticks": ""
            },
            "colorscale": [
             [
              0.0,
              "#0d0887"
             ],
             [
              0.1111111111111111,
              "#46039f"
             ],
             [
              0.2222222222222222,
              "#7201a8"
             ],
             [
              0.3333333333333333,
              "#9c179e"
             ],
             [
              0.4444444444444444,
              "#bd3786"
             ],
             [
              0.5555555555555556,
              "#d8576b"
             ],
             [
              0.6666666666666666,
              "#ed7953"
             ],
             [
              0.7777777777777778,
              "#fb9f3a"
             ],
             [
              0.8888888888888888,
              "#fdca26"
             ],
             [
              1.0,
              "#f0f921"
             ]
            ]
           }
          ],
          "contourcarpet": [
           {
            "type": "contourcarpet",
            "colorbar": {
             "outlinewidth": 0,
             "ticks": ""
            }
           }
          ],
          "contour": [
           {
            "type": "contour",
            "colorbar": {
             "outlinewidth": 0,
             "ticks": ""
            },
            "colorscale": [
             [
              0.0,
              "#0d0887"
             ],
             [
              0.1111111111111111,
              "#46039f"
             ],
             [
              0.2222222222222222,
              "#7201a8"
             ],
             [
              0.3333333333333333,
              "#9c179e"
             ],
             [
              0.4444444444444444,
              "#bd3786"
             ],
             [
              0.5555555555555556,
              "#d8576b"
             ],
             [
              0.6666666666666666,
              "#ed7953"
             ],
             [
              0.7777777777777778,
              "#fb9f3a"
             ],
             [
              0.8888888888888888,
              "#fdca26"
             ],
             [
              1.0,
              "#f0f921"
             ]
            ]
           }
          ],
          "surface": [
           {
            "type": "surface",
            "colorbar": {
             "outlinewidth": 0,
             "ticks": ""
            },
            "colorscale": [
             [
              0.0,
              "#0d0887"
             ],
             [
              0.1111111111111111,
              "#46039f"
             ],
             [
              0.2222222222222222,
              "#7201a8"
             ],
             [
              0.3333333333333333,
              "#9c179e"
             ],
             [
              0.4444444444444444,
              "#bd3786"
             ],
             [
              0.5555555555555556,
              "#d8576b"
             ],
             [
              0.6666666666666666,
              "#ed7953"
             ],
             [
              0.7777777777777778,
              "#fb9f3a"
             ],
             [
              0.8888888888888888,
              "#fdca26"
             ],
             [
              1.0,
              "#f0f921"
             ]
            ]
           }
          ],
          "mesh3d": [
           {
            "type": "mesh3d",
            "colorbar": {
             "outlinewidth": 0,
             "ticks": ""
            }
           }
          ],
          "scatter": [
           {
            "fillpattern": {
             "fillmode": "overlay",
             "size": 10,
             "solidity": 0.2
            },
            "type": "scatter"
           }
          ],
          "parcoords": [
           {
            "type": "parcoords",
            "line": {
             "colorbar": {
              "outlinewidth": 0,
              "ticks": ""
             }
            }
           }
          ],
          "scatterpolargl": [
           {
            "type": "scatterpolargl",
            "marker": {
             "colorbar": {
              "outlinewidth": 0,
              "ticks": ""
             }
            }
           }
          ],
          "bar": [
           {
            "error_x": {
             "color": "#2a3f5f"
            },
            "error_y": {
             "color": "#2a3f5f"
            },
            "marker": {
             "line": {
              "color": "#E5ECF6",
              "width": 0.5
             },
             "pattern": {
              "fillmode": "overlay",
              "size": 10,
              "solidity": 0.2
             }
            },
            "type": "bar"
           }
          ],
          "scattergeo": [
           {
            "type": "scattergeo",
            "marker": {
             "colorbar": {
              "outlinewidth": 0,
              "ticks": ""
             }
            }
           }
          ],
          "scatterpolar": [
           {
            "type": "scatterpolar",
            "marker": {
             "colorbar": {
              "outlinewidth": 0,
              "ticks": ""
             }
            }
           }
          ],
          "histogram": [
           {
            "marker": {
             "pattern": {
              "fillmode": "overlay",
              "size": 10,
              "solidity": 0.2
             }
            },
            "type": "histogram"
           }
          ],
          "scattergl": [
           {
            "type": "scattergl",
            "marker": {
             "colorbar": {
              "outlinewidth": 0,
              "ticks": ""
             }
            }
           }
          ],
          "scatter3d": [
           {
            "type": "scatter3d",
            "line": {
             "colorbar": {
              "outlinewidth": 0,
              "ticks": ""
             }
            },
            "marker": {
             "colorbar": {
              "outlinewidth": 0,
              "ticks": ""
             }
            }
           }
          ],
          "scattermapbox": [
           {
            "type": "scattermapbox",
            "marker": {
             "colorbar": {
              "outlinewidth": 0,
              "ticks": ""
             }
            }
           }
          ],
          "scatterternary": [
           {
            "type": "scatterternary",
            "marker": {
             "colorbar": {
              "outlinewidth": 0,
              "ticks": ""
             }
            }
           }
          ],
          "scattercarpet": [
           {
            "type": "scattercarpet",
            "marker": {
             "colorbar": {
              "outlinewidth": 0,
              "ticks": ""
             }
            }
           }
          ],
          "carpet": [
           {
            "aaxis": {
             "endlinecolor": "#2a3f5f",
             "gridcolor": "white",
             "linecolor": "white",
             "minorgridcolor": "white",
             "startlinecolor": "#2a3f5f"
            },
            "baxis": {
             "endlinecolor": "#2a3f5f",
             "gridcolor": "white",
             "linecolor": "white",
             "minorgridcolor": "white",
             "startlinecolor": "#2a3f5f"
            },
            "type": "carpet"
           }
          ],
          "table": [
           {
            "cells": {
             "fill": {
              "color": "#EBF0F8"
             },
             "line": {
              "color": "white"
             }
            },
            "header": {
             "fill": {
              "color": "#C8D4E3"
             },
             "line": {
              "color": "white"
             }
            },
            "type": "table"
           }
          ],
          "barpolar": [
           {
            "marker": {
             "line": {
              "color": "#E5ECF6",
              "width": 0.5
             },
             "pattern": {
              "fillmode": "overlay",
              "size": 10,
              "solidity": 0.2
             }
            },
            "type": "barpolar"
           }
          ],
          "pie": [
           {
            "automargin": true,
            "type": "pie"
           }
          ]
         },
         "layout": {
          "autotypenumbers": "strict",
          "colorway": [
           "#636efa",
           "#EF553B",
           "#00cc96",
           "#ab63fa",
           "#FFA15A",
           "#19d3f3",
           "#FF6692",
           "#B6E880",
           "#FF97FF",
           "#FECB52"
          ],
          "font": {
           "color": "#2a3f5f"
          },
          "hovermode": "closest",
          "hoverlabel": {
           "align": "left"
          },
          "paper_bgcolor": "white",
          "plot_bgcolor": "#E5ECF6",
          "polar": {
           "bgcolor": "#E5ECF6",
           "angularaxis": {
            "gridcolor": "white",
            "linecolor": "white",
            "ticks": ""
           },
           "radialaxis": {
            "gridcolor": "white",
            "linecolor": "white",
            "ticks": ""
           }
          },
          "ternary": {
           "bgcolor": "#E5ECF6",
           "aaxis": {
            "gridcolor": "white",
            "linecolor": "white",
            "ticks": ""
           },
           "baxis": {
            "gridcolor": "white",
            "linecolor": "white",
            "ticks": ""
           },
           "caxis": {
            "gridcolor": "white",
            "linecolor": "white",
            "ticks": ""
           }
          },
          "coloraxis": {
           "colorbar": {
            "outlinewidth": 0,
            "ticks": ""
           }
          },
          "colorscale": {
           "sequential": [
            [
             0.0,
             "#0d0887"
            ],
            [
             0.1111111111111111,
             "#46039f"
            ],
            [
             0.2222222222222222,
             "#7201a8"
            ],
            [
             0.3333333333333333,
             "#9c179e"
            ],
            [
             0.4444444444444444,
             "#bd3786"
            ],
            [
             0.5555555555555556,
             "#d8576b"
            ],
            [
             0.6666666666666666,
             "#ed7953"
            ],
            [
             0.7777777777777778,
             "#fb9f3a"
            ],
            [
             0.8888888888888888,
             "#fdca26"
            ],
            [
             1.0,
             "#f0f921"
            ]
           ],
           "sequentialminus": [
            [
             0.0,
             "#0d0887"
            ],
            [
             0.1111111111111111,
             "#46039f"
            ],
            [
             0.2222222222222222,
             "#7201a8"
            ],
            [
             0.3333333333333333,
             "#9c179e"
            ],
            [
             0.4444444444444444,
             "#bd3786"
            ],
            [
             0.5555555555555556,
             "#d8576b"
            ],
            [
             0.6666666666666666,
             "#ed7953"
            ],
            [
             0.7777777777777778,
             "#fb9f3a"
            ],
            [
             0.8888888888888888,
             "#fdca26"
            ],
            [
             1.0,
             "#f0f921"
            ]
           ],
           "diverging": [
            [
             0,
             "#8e0152"
            ],
            [
             0.1,
             "#c51b7d"
            ],
            [
             0.2,
             "#de77ae"
            ],
            [
             0.3,
             "#f1b6da"
            ],
            [
             0.4,
             "#fde0ef"
            ],
            [
             0.5,
             "#f7f7f7"
            ],
            [
             0.6,
             "#e6f5d0"
            ],
            [
             0.7,
             "#b8e186"
            ],
            [
             0.8,
             "#7fbc41"
            ],
            [
             0.9,
             "#4d9221"
            ],
            [
             1,
             "#276419"
            ]
           ]
          },
          "xaxis": {
           "gridcolor": "white",
           "linecolor": "white",
           "ticks": "",
           "title": {
            "standoff": 15
           },
           "zerolinecolor": "white",
           "automargin": true,
           "zerolinewidth": 2
          },
          "yaxis": {
           "gridcolor": "white",
           "linecolor": "white",
           "ticks": "",
           "title": {
            "standoff": 15
           },
           "zerolinecolor": "white",
           "automargin": true,
           "zerolinewidth": 2
          },
          "scene": {
           "xaxis": {
            "backgroundcolor": "#E5ECF6",
            "gridcolor": "white",
            "linecolor": "white",
            "showbackground": true,
            "ticks": "",
            "zerolinecolor": "white",
            "gridwidth": 2
           },
           "yaxis": {
            "backgroundcolor": "#E5ECF6",
            "gridcolor": "white",
            "linecolor": "white",
            "showbackground": true,
            "ticks": "",
            "zerolinecolor": "white",
            "gridwidth": 2
           },
           "zaxis": {
            "backgroundcolor": "#E5ECF6",
            "gridcolor": "white",
            "linecolor": "white",
            "showbackground": true,
            "ticks": "",
            "zerolinecolor": "white",
            "gridwidth": 2
           }
          },
          "shapedefaults": {
           "line": {
            "color": "#2a3f5f"
           }
          },
          "annotationdefaults": {
           "arrowcolor": "#2a3f5f",
           "arrowhead": 0,
           "arrowwidth": 1
          },
          "geo": {
           "bgcolor": "white",
           "landcolor": "#E5ECF6",
           "subunitcolor": "white",
           "showland": true,
           "showlakes": true,
           "lakecolor": "white"
          },
          "title": {
           "x": 0.05
          },
          "mapbox": {
           "style": "light"
          }
         }
        },
        "geo": {
         "domain": {
          "x": [
           0.0,
           1.0
          ],
          "y": [
           0.0,
           1.0
          ]
         },
         "projection": {
          "type": "natural earth"
         },
         "center": {}
        },
        "coloraxis": {
         "colorbar": {
          "title": {
           "text": "WomenPeaceAndSecurityIndex_Score_2023"
          }
         },
         "colorscale": [
          [
           0.0,
           "#0d0887"
          ],
          [
           0.1111111111111111,
           "#46039f"
          ],
          [
           0.2222222222222222,
           "#7201a8"
          ],
          [
           0.3333333333333333,
           "#9c179e"
          ],
          [
           0.4444444444444444,
           "#bd3786"
          ],
          [
           0.5555555555555556,
           "#d8576b"
          ],
          [
           0.6666666666666666,
           "#ed7953"
          ],
          [
           0.7777777777777778,
           "#fb9f3a"
          ],
          [
           0.8888888888888888,
           "#fdca26"
          ],
          [
           1.0,
           "#f0f921"
          ]
         ]
        },
        "legend": {
         "tracegroupgap": 0
        },
        "title": {
         "text": "WomenPeaceAndSecurityIndex_Score_2023"
        }
       },
       "config": {
        "plotlyServerURL": "https://plot.ly"
       }
      },
      "text/html": [
       "<div>                            <div id=\"2c4fa5fa-2db0-4454-935b-ccc7ad741e2a\" class=\"plotly-graph-div\" style=\"height:525px; width:100%;\"></div>            <script type=\"text/javascript\">                require([\"plotly\"], function(Plotly) {                    window.PLOTLYENV=window.PLOTLYENV || {};                                    if (document.getElementById(\"2c4fa5fa-2db0-4454-935b-ccc7ad741e2a\")) {                    Plotly.newPlot(                        \"2c4fa5fa-2db0-4454-935b-ccc7ad741e2a\",                        [{\"coloraxis\":\"coloraxis\",\"geo\":\"geo\",\"hovertemplate\":\"\\u003cb\\u003e%{hovertext}\\u003c\\u002fb\\u003e\\u003cbr\\u003e\\u003cbr\\u003eiso_alpha=%{location}\\u003cbr\\u003eWomenPeaceAndSecurityIndex_Score_2023=%{z}\\u003cextra\\u003e\\u003c\\u002fextra\\u003e\",\"hovertext\":[\"India\",\"China\",\"United States\",\"Indonesia\",\"Pakistan\",\"Nigeria\",\"Brazil\",\"Bangladesh\",\"Russia\",\"Ethiopia\",\"Mexico\",\"Japan\",\"Egypt\",\"Philippines\",\"DR Congo\",\"Vietnam\",\"Iran\",\"Germany\",\"Thailand\",\"United Kingdom\",\"Tanzania\",\"France\",\"South Africa\",\"Italy\",\"Kenya\",\"Myanmar\",\"Colombia\",\"South Korea\",\"Sudan\",\"Uganda\",\"Spain\",\"Algeria\",\"Iraq\",\"Argentina\",\"Afghanistan\",\"Yemen\",\"Canada\",\"Poland\",\"Morocco\",\"Angola\",\"Ukraine\",\"Uzbekistan\",\"Malaysia\",\"Mozambique\",\"Ghana\",\"Peru\",\"Saudi Arabia\",\"Madagascar\",\"Nepal\",\"Cameroon\",\"Venezuela\",\"Niger\",\"Australia\",\"Syria\",\"Mali\",\"Burkina Faso\",\"Taiwan\",\"Sri Lanka\",\"Malawi\",\"Zambia\",\"Kazakhstan\",\"Chad\",\"Chile\",\"Romania\",\"Somalia\",\"Senegal\",\"Guatemala\",\"Netherlands\",\"Ecuador\",\"Cambodia\",\"Zimbabwe\",\"Guinea\",\"Benin\",\"Rwanda\",\"Burundi\",\"Bolivia\",\"Tunisia\",\"South Sudan\",\"Haiti\",\"Belgium\",\"Jordan\",\"Dominican Republic\",\"United Arab Emirates\",\"Honduras\",\"Czech Republic\",\"Sweden\",\"Tajikistan\",\"Papua New Guinea\",\"Portugal\",\"Azerbaijan\",\"Greece\",\"Hungary\",\"Togo\",\"Israel\",\"Austria\",\"Belarus\",\"Switzerland\",\"Sierra Leone\",\"Laos\",\"Turkmenistan\",\"Hong Kong\",\"Libya\",\"Kyrgyzstan\",\"Paraguay\",\"Nicaragua\",\"Bulgaria\",\"Serbia\",\"El Salvador\",\"Republic of the Congo\",\"Denmark\",\"Singapore\",\"Lebanon\",\"Finland\",\"Liberia\",\"Norway\",\"Slovakia\",\"Palestine\",\"Central African Republic\",\"Oman\",\"Ireland\",\"New Zealand\",\"Mauritania\",\"Costa Rica\",\"Kuwait\",\"Panama\",\"Croatia\",\"Georgia\",\"Mongolia\",\"Uruguay\",\"Puerto Rico\",\"Bosnia and Herzegovina\",\"Qatar\",\"Moldova\",\"Namibia\",\"Armenia\",\"Lithuania\",\"Jamaica\",\"Albania\",\"Gambia\",\"Gabon\",\"Botswana\",\"Lesotho\",\"Guinea-Bissau\",\"Slovenia\",\"Equatorial Guinea\",\"Latvia\",\"North Macedonia\",\"Bahrain\",\"Trinidad and Tobago\",\"Timor-Leste\",\"Estonia\",\"Cyprus\",\"Mauritius\",\"Eswatini\",\"Djibouti\",\"Fiji\",\"Comoros\",\"Guyana\",\"Solomon Islands\",\"Bhutan\",\"Luxembourg\",\"Montenegro\",\"Suriname\",\"Malta\",\"Maldives\",\"Cape Verde\",\"Belize\",\"Iceland\",\"Vanuatu\",\"Barbados\",\"Sao Tome and Principe\",\"Samoa\",\"Seychelles\",\"Tonga\"],\"locations\":[\"IND\",\"CHN\",\"USA\",\"IDN\",\"PAK\",\"NGA\",\"BRA\",\"BGD\",\"change\",\"ETH\",\"MEX\",\"JPN\",\"EGY\",\"PHL\",\"change\",\"change\",\"change\",\"DEU\",\"THA\",\"GBR\",\"change\",\"FRA\",\"ZAF\",\"ITA\",\"KEN\",\"MMR\",\"COL\",\"change\",\"SDN\",\"UGA\",\"ESP\",\"DZA\",\"IRQ\",\"ARG\",\"AFG\",\"YEM\",\"CAN\",\"POL\",\"MAR\",\"AGO\",\"UKR\",\"UZB\",\"MYS\",\"MOZ\",\"GHA\",\"PER\",\"SAU\",\"MDG\",\"NPL\",\"CMR\",\"change\",\"NER\",\"AUS\",\"change\",\"MLI\",\"BFA\",\"change\",\"LKA\",\"MWI\",\"ZMB\",\"KAZ\",\"TCD\",\"CHL\",\"ROU\",\"SOM\",\"SEN\",\"GTM\",\"NLD\",\"ECU\",\"KHM\",\"ZWE\",\"GIN\",\"BEN\",\"RWA\",\"BDI\",\"change\",\"TUN\",\"SSD\",\"HTI\",\"BEL\",\"JOR\",\"DOM\",\"ARE\",\"HND\",\"change\",\"SWE\",\"TJK\",\"PNG\",\"PRT\",\"AZE\",\"GRC\",\"HUN\",\"TGO\",\"ISR\",\"AUT\",\"BLR\",\"CHE\",\"SLE\",\"change\",\"TKM\",\"HKG\",\"LBY\",\"KGZ\",\"PRY\",\"NIC\",\"BGR\",\"SRB\",\"SLV\",\"change\",\"DNK\",\"SGP\",\"LBN\",\"FIN\",\"LBR\",\"NOR\",\"SVK\",\"change\",\"CAF\",\"OMN\",\"IRL\",\"NZL\",\"MRT\",\"CRI\",\"KWT\",\"PAN\",\"HRV\",\"GEO\",\"MNG\",\"URY\",\"PRI\",\"BIH\",\"QAT\",\"change\",\"NAM\",\"ARM\",\"LTU\",\"JAM\",\"ALB\",\"GMB\",\"GAB\",\"BWA\",\"LSO\",\"GNB\",\"SVN\",\"GNQ\",\"LVA\",\"MKD\",\"BHR\",\"TTO\",\"TLS\",\"EST\",\"CYP\",\"MUS\",\"SWZ\",\"DJI\",\"FJI\",\"COM\",\"GUY\",\"SLB\",\"BTN\",\"LUX\",\"MNE\",\"SUR\",\"MLT\",\"MDV\",\"change\",\"BLZ\",\"ISL\",\"VUT\",\"BRB\",\"STP\",\"WSM\",\"SYC\",\"TON\"],\"name\":\"\",\"z\":[0.595,0.7,0.823,0.7,0.481,0.465,0.63,0.593,0.752,0.521,0.551,0.866,0.645,0.612,0.384,0.707,0.557,0.871,0.764,0.86,0.652,0.864,0.688,0.827,0.511,0.451,0.582,0.848,0.46,0.544,0.859,0.622,0.424,0.768,0.286,0.287,0.885,0.859,0.637,0.598,0.626,0.674,0.738,0.58,0.651,0.717,0.737,0.505,0.644,0.466,0.628,0.442,0.902,0.407,0.481,0.481,0.818,0.743,0.521,0.556,0.729,0.462,0.736,0.8,0.417,0.619,0.569,0.908,0.655,0.645,0.604,0.539,0.566,0.663,0.394,0.696,0.669,0.388,0.431,0.902,0.679,0.666,0.868,0.61,0.884,0.926,0.69,0.487,0.877,0.667,0.766,0.835,0.595,0.703,0.911,0.733,0.928,0.543,0.704,0.75,0.812,0.61,0.673,0.691,0.717,0.826,0.835,0.566,0.507,0.932,0.887,0.595,0.924,0.5,0.92,0.856,0.483,0.378,0.715,0.892,0.904,0.506,0.743,0.742,0.757,0.862,0.812,0.794,0.748,0.692,0.754,0.703,0.758,0.61,0.772,0.886,0.71,0.796,0.575,0.593,0.659,0.605,0.483,0.824,0.619,0.872,0.798,0.752,0.721,0.664,0.892,0.739,0.678,0.415,0.504,0.738,0.519,0.769,0.664,0.7,0.924,0.808,0.694,0.846,0.72,0.738,0.657,0.924,0.644,0.779,0.648,0.711,0.799,0.697],\"type\":\"choropleth\"}],                        {\"template\":{\"data\":{\"histogram2dcontour\":[{\"type\":\"histogram2dcontour\",\"colorbar\":{\"outlinewidth\":0,\"ticks\":\"\"},\"colorscale\":[[0.0,\"#0d0887\"],[0.1111111111111111,\"#46039f\"],[0.2222222222222222,\"#7201a8\"],[0.3333333333333333,\"#9c179e\"],[0.4444444444444444,\"#bd3786\"],[0.5555555555555556,\"#d8576b\"],[0.6666666666666666,\"#ed7953\"],[0.7777777777777778,\"#fb9f3a\"],[0.8888888888888888,\"#fdca26\"],[1.0,\"#f0f921\"]]}],\"choropleth\":[{\"type\":\"choropleth\",\"colorbar\":{\"outlinewidth\":0,\"ticks\":\"\"}}],\"histogram2d\":[{\"type\":\"histogram2d\",\"colorbar\":{\"outlinewidth\":0,\"ticks\":\"\"},\"colorscale\":[[0.0,\"#0d0887\"],[0.1111111111111111,\"#46039f\"],[0.2222222222222222,\"#7201a8\"],[0.3333333333333333,\"#9c179e\"],[0.4444444444444444,\"#bd3786\"],[0.5555555555555556,\"#d8576b\"],[0.6666666666666666,\"#ed7953\"],[0.7777777777777778,\"#fb9f3a\"],[0.8888888888888888,\"#fdca26\"],[1.0,\"#f0f921\"]]}],\"heatmap\":[{\"type\":\"heatmap\",\"colorbar\":{\"outlinewidth\":0,\"ticks\":\"\"},\"colorscale\":[[0.0,\"#0d0887\"],[0.1111111111111111,\"#46039f\"],[0.2222222222222222,\"#7201a8\"],[0.3333333333333333,\"#9c179e\"],[0.4444444444444444,\"#bd3786\"],[0.5555555555555556,\"#d8576b\"],[0.6666666666666666,\"#ed7953\"],[0.7777777777777778,\"#fb9f3a\"],[0.8888888888888888,\"#fdca26\"],[1.0,\"#f0f921\"]]}],\"heatmapgl\":[{\"type\":\"heatmapgl\",\"colorbar\":{\"outlinewidth\":0,\"ticks\":\"\"},\"colorscale\":[[0.0,\"#0d0887\"],[0.1111111111111111,\"#46039f\"],[0.2222222222222222,\"#7201a8\"],[0.3333333333333333,\"#9c179e\"],[0.4444444444444444,\"#bd3786\"],[0.5555555555555556,\"#d8576b\"],[0.6666666666666666,\"#ed7953\"],[0.7777777777777778,\"#fb9f3a\"],[0.8888888888888888,\"#fdca26\"],[1.0,\"#f0f921\"]]}],\"contourcarpet\":[{\"type\":\"contourcarpet\",\"colorbar\":{\"outlinewidth\":0,\"ticks\":\"\"}}],\"contour\":[{\"type\":\"contour\",\"colorbar\":{\"outlinewidth\":0,\"ticks\":\"\"},\"colorscale\":[[0.0,\"#0d0887\"],[0.1111111111111111,\"#46039f\"],[0.2222222222222222,\"#7201a8\"],[0.3333333333333333,\"#9c179e\"],[0.4444444444444444,\"#bd3786\"],[0.5555555555555556,\"#d8576b\"],[0.6666666666666666,\"#ed7953\"],[0.7777777777777778,\"#fb9f3a\"],[0.8888888888888888,\"#fdca26\"],[1.0,\"#f0f921\"]]}],\"surface\":[{\"type\":\"surface\",\"colorbar\":{\"outlinewidth\":0,\"ticks\":\"\"},\"colorscale\":[[0.0,\"#0d0887\"],[0.1111111111111111,\"#46039f\"],[0.2222222222222222,\"#7201a8\"],[0.3333333333333333,\"#9c179e\"],[0.4444444444444444,\"#bd3786\"],[0.5555555555555556,\"#d8576b\"],[0.6666666666666666,\"#ed7953\"],[0.7777777777777778,\"#fb9f3a\"],[0.8888888888888888,\"#fdca26\"],[1.0,\"#f0f921\"]]}],\"mesh3d\":[{\"type\":\"mesh3d\",\"colorbar\":{\"outlinewidth\":0,\"ticks\":\"\"}}],\"scatter\":[{\"fillpattern\":{\"fillmode\":\"overlay\",\"size\":10,\"solidity\":0.2},\"type\":\"scatter\"}],\"parcoords\":[{\"type\":\"parcoords\",\"line\":{\"colorbar\":{\"outlinewidth\":0,\"ticks\":\"\"}}}],\"scatterpolargl\":[{\"type\":\"scatterpolargl\",\"marker\":{\"colorbar\":{\"outlinewidth\":0,\"ticks\":\"\"}}}],\"bar\":[{\"error_x\":{\"color\":\"#2a3f5f\"},\"error_y\":{\"color\":\"#2a3f5f\"},\"marker\":{\"line\":{\"color\":\"#E5ECF6\",\"width\":0.5},\"pattern\":{\"fillmode\":\"overlay\",\"size\":10,\"solidity\":0.2}},\"type\":\"bar\"}],\"scattergeo\":[{\"type\":\"scattergeo\",\"marker\":{\"colorbar\":{\"outlinewidth\":0,\"ticks\":\"\"}}}],\"scatterpolar\":[{\"type\":\"scatterpolar\",\"marker\":{\"colorbar\":{\"outlinewidth\":0,\"ticks\":\"\"}}}],\"histogram\":[{\"marker\":{\"pattern\":{\"fillmode\":\"overlay\",\"size\":10,\"solidity\":0.2}},\"type\":\"histogram\"}],\"scattergl\":[{\"type\":\"scattergl\",\"marker\":{\"colorbar\":{\"outlinewidth\":0,\"ticks\":\"\"}}}],\"scatter3d\":[{\"type\":\"scatter3d\",\"line\":{\"colorbar\":{\"outlinewidth\":0,\"ticks\":\"\"}},\"marker\":{\"colorbar\":{\"outlinewidth\":0,\"ticks\":\"\"}}}],\"scattermapbox\":[{\"type\":\"scattermapbox\",\"marker\":{\"colorbar\":{\"outlinewidth\":0,\"ticks\":\"\"}}}],\"scatterternary\":[{\"type\":\"scatterternary\",\"marker\":{\"colorbar\":{\"outlinewidth\":0,\"ticks\":\"\"}}}],\"scattercarpet\":[{\"type\":\"scattercarpet\",\"marker\":{\"colorbar\":{\"outlinewidth\":0,\"ticks\":\"\"}}}],\"carpet\":[{\"aaxis\":{\"endlinecolor\":\"#2a3f5f\",\"gridcolor\":\"white\",\"linecolor\":\"white\",\"minorgridcolor\":\"white\",\"startlinecolor\":\"#2a3f5f\"},\"baxis\":{\"endlinecolor\":\"#2a3f5f\",\"gridcolor\":\"white\",\"linecolor\":\"white\",\"minorgridcolor\":\"white\",\"startlinecolor\":\"#2a3f5f\"},\"type\":\"carpet\"}],\"table\":[{\"cells\":{\"fill\":{\"color\":\"#EBF0F8\"},\"line\":{\"color\":\"white\"}},\"header\":{\"fill\":{\"color\":\"#C8D4E3\"},\"line\":{\"color\":\"white\"}},\"type\":\"table\"}],\"barpolar\":[{\"marker\":{\"line\":{\"color\":\"#E5ECF6\",\"width\":0.5},\"pattern\":{\"fillmode\":\"overlay\",\"size\":10,\"solidity\":0.2}},\"type\":\"barpolar\"}],\"pie\":[{\"automargin\":true,\"type\":\"pie\"}]},\"layout\":{\"autotypenumbers\":\"strict\",\"colorway\":[\"#636efa\",\"#EF553B\",\"#00cc96\",\"#ab63fa\",\"#FFA15A\",\"#19d3f3\",\"#FF6692\",\"#B6E880\",\"#FF97FF\",\"#FECB52\"],\"font\":{\"color\":\"#2a3f5f\"},\"hovermode\":\"closest\",\"hoverlabel\":{\"align\":\"left\"},\"paper_bgcolor\":\"white\",\"plot_bgcolor\":\"#E5ECF6\",\"polar\":{\"bgcolor\":\"#E5ECF6\",\"angularaxis\":{\"gridcolor\":\"white\",\"linecolor\":\"white\",\"ticks\":\"\"},\"radialaxis\":{\"gridcolor\":\"white\",\"linecolor\":\"white\",\"ticks\":\"\"}},\"ternary\":{\"bgcolor\":\"#E5ECF6\",\"aaxis\":{\"gridcolor\":\"white\",\"linecolor\":\"white\",\"ticks\":\"\"},\"baxis\":{\"gridcolor\":\"white\",\"linecolor\":\"white\",\"ticks\":\"\"},\"caxis\":{\"gridcolor\":\"white\",\"linecolor\":\"white\",\"ticks\":\"\"}},\"coloraxis\":{\"colorbar\":{\"outlinewidth\":0,\"ticks\":\"\"}},\"colorscale\":{\"sequential\":[[0.0,\"#0d0887\"],[0.1111111111111111,\"#46039f\"],[0.2222222222222222,\"#7201a8\"],[0.3333333333333333,\"#9c179e\"],[0.4444444444444444,\"#bd3786\"],[0.5555555555555556,\"#d8576b\"],[0.6666666666666666,\"#ed7953\"],[0.7777777777777778,\"#fb9f3a\"],[0.8888888888888888,\"#fdca26\"],[1.0,\"#f0f921\"]],\"sequentialminus\":[[0.0,\"#0d0887\"],[0.1111111111111111,\"#46039f\"],[0.2222222222222222,\"#7201a8\"],[0.3333333333333333,\"#9c179e\"],[0.4444444444444444,\"#bd3786\"],[0.5555555555555556,\"#d8576b\"],[0.6666666666666666,\"#ed7953\"],[0.7777777777777778,\"#fb9f3a\"],[0.8888888888888888,\"#fdca26\"],[1.0,\"#f0f921\"]],\"diverging\":[[0,\"#8e0152\"],[0.1,\"#c51b7d\"],[0.2,\"#de77ae\"],[0.3,\"#f1b6da\"],[0.4,\"#fde0ef\"],[0.5,\"#f7f7f7\"],[0.6,\"#e6f5d0\"],[0.7,\"#b8e186\"],[0.8,\"#7fbc41\"],[0.9,\"#4d9221\"],[1,\"#276419\"]]},\"xaxis\":{\"gridcolor\":\"white\",\"linecolor\":\"white\",\"ticks\":\"\",\"title\":{\"standoff\":15},\"zerolinecolor\":\"white\",\"automargin\":true,\"zerolinewidth\":2},\"yaxis\":{\"gridcolor\":\"white\",\"linecolor\":\"white\",\"ticks\":\"\",\"title\":{\"standoff\":15},\"zerolinecolor\":\"white\",\"automargin\":true,\"zerolinewidth\":2},\"scene\":{\"xaxis\":{\"backgroundcolor\":\"#E5ECF6\",\"gridcolor\":\"white\",\"linecolor\":\"white\",\"showbackground\":true,\"ticks\":\"\",\"zerolinecolor\":\"white\",\"gridwidth\":2},\"yaxis\":{\"backgroundcolor\":\"#E5ECF6\",\"gridcolor\":\"white\",\"linecolor\":\"white\",\"showbackground\":true,\"ticks\":\"\",\"zerolinecolor\":\"white\",\"gridwidth\":2},\"zaxis\":{\"backgroundcolor\":\"#E5ECF6\",\"gridcolor\":\"white\",\"linecolor\":\"white\",\"showbackground\":true,\"ticks\":\"\",\"zerolinecolor\":\"white\",\"gridwidth\":2}},\"shapedefaults\":{\"line\":{\"color\":\"#2a3f5f\"}},\"annotationdefaults\":{\"arrowcolor\":\"#2a3f5f\",\"arrowhead\":0,\"arrowwidth\":1},\"geo\":{\"bgcolor\":\"white\",\"landcolor\":\"#E5ECF6\",\"subunitcolor\":\"white\",\"showland\":true,\"showlakes\":true,\"lakecolor\":\"white\"},\"title\":{\"x\":0.05},\"mapbox\":{\"style\":\"light\"}}},\"geo\":{\"domain\":{\"x\":[0.0,1.0],\"y\":[0.0,1.0]},\"projection\":{\"type\":\"natural earth\"},\"center\":{}},\"coloraxis\":{\"colorbar\":{\"title\":{\"text\":\"WomenPeaceAndSecurityIndex_Score_2023\"}},\"colorscale\":[[0.0,\"#0d0887\"],[0.1111111111111111,\"#46039f\"],[0.2222222222222222,\"#7201a8\"],[0.3333333333333333,\"#9c179e\"],[0.4444444444444444,\"#bd3786\"],[0.5555555555555556,\"#d8576b\"],[0.6666666666666666,\"#ed7953\"],[0.7777777777777778,\"#fb9f3a\"],[0.8888888888888888,\"#fdca26\"],[1.0,\"#f0f921\"]]},\"legend\":{\"tracegroupgap\":0},\"title\":{\"text\":\"WomenPeaceAndSecurityIndex_Score_2023\"}},                        {\"responsive\": true}                    ).then(function(){\n",
       "                            \n",
       "var gd = document.getElementById('2c4fa5fa-2db0-4454-935b-ccc7ad741e2a');\n",
       "var x = new MutationObserver(function (mutations, observer) {{\n",
       "        var display = window.getComputedStyle(gd).display;\n",
       "        if (!display || display === 'none') {{\n",
       "            console.log([gd, 'removed!']);\n",
       "            Plotly.purge(gd);\n",
       "            observer.disconnect();\n",
       "        }}\n",
       "}});\n",
       "\n",
       "// Listen for the removal of the full notebook cells\n",
       "var notebookContainer = gd.closest('#notebook-container');\n",
       "if (notebookContainer) {{\n",
       "    x.observe(notebookContainer, {childList: true});\n",
       "}}\n",
       "\n",
       "// Listen for the clearing of the current output cell\n",
       "var outputEl = gd.closest('.output');\n",
       "if (outputEl) {{\n",
       "    x.observe(outputEl, {childList: true});\n",
       "}}\n",
       "\n",
       "                        })                };                });            </script>        </div>"
      ]
     },
     "metadata": {},
     "output_type": "display_data"
    },
    {
     "data": {
      "application/vnd.plotly.v1+json": {
       "data": [
        {
         "coloraxis": "coloraxis",
         "geo": "geo",
         "hovertemplate": "<b>%{hovertext}</b><br><br>iso_alpha=%{location}<br>WomensDangerIndexWDI_TotalScore_2019=%{z}<extra></extra>",
         "hovertext": [
          "India",
          "China",
          "United States",
          "Indonesia",
          "Pakistan",
          "Nigeria",
          "Brazil",
          "Bangladesh",
          "Russia",
          "Ethiopia",
          "Mexico",
          "Japan",
          "Egypt",
          "Philippines",
          "DR Congo",
          "Vietnam",
          "Iran",
          "Germany",
          "Thailand",
          "United Kingdom",
          "Tanzania",
          "France",
          "South Africa",
          "Italy",
          "Kenya",
          "Myanmar",
          "Colombia",
          "South Korea",
          "Sudan",
          "Uganda",
          "Spain",
          "Algeria",
          "Iraq",
          "Argentina",
          "Afghanistan",
          "Yemen",
          "Canada",
          "Poland",
          "Morocco",
          "Angola",
          "Ukraine",
          "Uzbekistan",
          "Malaysia",
          "Mozambique",
          "Ghana",
          "Peru",
          "Saudi Arabia",
          "Madagascar",
          "Nepal",
          "Cameroon",
          "Venezuela",
          "Niger",
          "Australia",
          "Syria",
          "Mali",
          "Burkina Faso",
          "Taiwan",
          "Sri Lanka",
          "Malawi",
          "Zambia",
          "Kazakhstan",
          "Chad",
          "Chile",
          "Romania",
          "Somalia",
          "Senegal",
          "Guatemala",
          "Netherlands",
          "Ecuador",
          "Cambodia",
          "Zimbabwe",
          "Guinea",
          "Benin",
          "Rwanda",
          "Burundi",
          "Bolivia",
          "Tunisia",
          "South Sudan",
          "Haiti",
          "Belgium",
          "Jordan",
          "Dominican Republic",
          "United Arab Emirates",
          "Honduras",
          "Czech Republic",
          "Sweden",
          "Tajikistan",
          "Papua New Guinea",
          "Portugal",
          "Azerbaijan",
          "Greece",
          "Hungary",
          "Togo",
          "Israel",
          "Austria",
          "Belarus",
          "Switzerland",
          "Sierra Leone",
          "Laos",
          "Turkmenistan",
          "Hong Kong",
          "Libya",
          "Kyrgyzstan",
          "Paraguay",
          "Nicaragua",
          "Bulgaria",
          "Serbia",
          "El Salvador",
          "Republic of the Congo",
          "Denmark",
          "Singapore",
          "Lebanon",
          "Finland",
          "Liberia",
          "Norway",
          "Slovakia",
          "Palestine",
          "Central African Republic",
          "Oman",
          "Ireland",
          "New Zealand",
          "Mauritania",
          "Costa Rica",
          "Kuwait",
          "Panama",
          "Croatia",
          "Georgia",
          "Mongolia",
          "Uruguay",
          "Puerto Rico",
          "Bosnia and Herzegovina",
          "Qatar",
          "Moldova",
          "Namibia",
          "Armenia",
          "Lithuania",
          "Jamaica",
          "Albania",
          "Gambia",
          "Gabon",
          "Botswana",
          "Lesotho",
          "Guinea-Bissau",
          "Slovenia",
          "Equatorial Guinea",
          "Latvia",
          "North Macedonia",
          "Bahrain",
          "Trinidad and Tobago",
          "Timor-Leste",
          "Estonia",
          "Cyprus",
          "Mauritius",
          "Eswatini",
          "Djibouti",
          "Fiji",
          "Comoros",
          "Guyana",
          "Solomon Islands",
          "Bhutan",
          "Luxembourg",
          "Montenegro",
          "Suriname",
          "Malta",
          "Maldives",
          "Cape Verde",
          "Belize",
          "Iceland",
          "Vanuatu",
          "Barbados",
          "Sao Tome and Principe",
          "Samoa",
          "Seychelles",
          "Tonga"
         ],
         "locations": [
          "IND",
          "CHN",
          "USA",
          "IDN",
          "PAK",
          "NGA",
          "BRA",
          "BGD",
          "change",
          "ETH",
          "MEX",
          "JPN",
          "EGY",
          "PHL",
          "change",
          "change",
          "change",
          "DEU",
          "THA",
          "GBR",
          "change",
          "FRA",
          "ZAF",
          "ITA",
          "KEN",
          "MMR",
          "COL",
          "change",
          "SDN",
          "UGA",
          "ESP",
          "DZA",
          "IRQ",
          "ARG",
          "AFG",
          "YEM",
          "CAN",
          "POL",
          "MAR",
          "AGO",
          "UKR",
          "UZB",
          "MYS",
          "MOZ",
          "GHA",
          "PER",
          "SAU",
          "MDG",
          "NPL",
          "CMR",
          "change",
          "NER",
          "AUS",
          "change",
          "MLI",
          "BFA",
          "change",
          "LKA",
          "MWI",
          "ZMB",
          "KAZ",
          "TCD",
          "CHL",
          "ROU",
          "SOM",
          "SEN",
          "GTM",
          "NLD",
          "ECU",
          "KHM",
          "ZWE",
          "GIN",
          "BEN",
          "RWA",
          "BDI",
          "change",
          "TUN",
          "SSD",
          "HTI",
          "BEL",
          "JOR",
          "DOM",
          "ARE",
          "HND",
          "change",
          "SWE",
          "TJK",
          "PNG",
          "PRT",
          "AZE",
          "GRC",
          "HUN",
          "TGO",
          "ISR",
          "AUT",
          "BLR",
          "CHE",
          "SLE",
          "change",
          "TKM",
          "HKG",
          "LBY",
          "KGZ",
          "PRY",
          "NIC",
          "BGR",
          "SRB",
          "SLV",
          "change",
          "DNK",
          "SGP",
          "LBN",
          "FIN",
          "LBR",
          "NOR",
          "SVK",
          "change",
          "CAF",
          "OMN",
          "IRL",
          "NZL",
          "MRT",
          "CRI",
          "KWT",
          "PAN",
          "HRV",
          "GEO",
          "MNG",
          "URY",
          "PRI",
          "BIH",
          "QAT",
          "change",
          "NAM",
          "ARM",
          "LTU",
          "JAM",
          "ALB",
          "GMB",
          "GAB",
          "BWA",
          "LSO",
          "GNB",
          "SVN",
          "GNQ",
          "LVA",
          "MKD",
          "BHR",
          "TTO",
          "TLS",
          "EST",
          "CYP",
          "MUS",
          "SWZ",
          "DJI",
          "FJI",
          "COM",
          "GUY",
          "SLB",
          "BTN",
          "LUX",
          "MNE",
          "SUR",
          "MLT",
          "MDV",
          "change",
          "BLZ",
          "ISL",
          "VUT",
          "BRB",
          "STP",
          "WSM",
          "SYC",
          "TON"
         ],
         "name": "",
         "z": [
          541.25,
          444.55,
          456.31,
          442.1,
          null,
          null,
          624.28,
          null,
          592.71,
          null,
          576.05,
          366.2,
          546.91,
          408.23,
          null,
          449.65,
          553.11,
          335.1,
          533.22,
          296.85,
          null,
          309.92,
          771.82,
          323.19,
          null,
          null,
          null,
          366.98,
          null,
          null,
          212.04,
          null,
          null,
          494.11,
          null,
          null,
          290.83,
          291.23,
          542.75,
          null,
          453.61,
          null,
          527.64,
          null,
          null,
          null,
          524.36,
          null,
          null,
          null,
          null,
          null,
          370.1,
          null,
          null,
          null,
          null,
          null,
          null,
          null,
          null,
          null,
          487.96,
          null,
          null,
          null,
          null,
          302.81,
          null,
          485.73,
          null,
          null,
          null,
          null,
          null,
          null,
          468.26,
          null,
          null,
          372.88,
          null,
          551.32,
          450.66,
          null,
          325.33,
          326.42,
          null,
          null,
          277.58,
          null,
          337.8,
          375.89,
          null,
          null,
          251.63,
          null,
          252.78,
          null,
          null,
          null,
          null,
          null,
          null,
          null,
          null,
          380.84,
          null,
          null,
          null,
          320.65,
          245.26,
          null,
          null,
          null,
          259.92,
          null,
          null,
          null,
          null,
          247.31,
          null,
          null,
          null,
          null,
          null,
          286.53,
          null,
          null,
          null,
          null,
          null,
          null,
          null,
          null,
          null,
          null,
          null,
          null,
          null,
          null,
          null,
          null,
          null,
          null,
          null,
          null,
          null,
          476.09,
          null,
          null,
          null,
          null,
          null,
          null,
          null,
          null,
          null,
          null,
          null,
          null,
          null,
          null,
          null,
          null,
          null,
          null,
          null,
          null,
          null,
          null,
          null,
          null,
          null,
          null
         ],
         "type": "choropleth"
        }
       ],
       "layout": {
        "template": {
         "data": {
          "histogram2dcontour": [
           {
            "type": "histogram2dcontour",
            "colorbar": {
             "outlinewidth": 0,
             "ticks": ""
            },
            "colorscale": [
             [
              0.0,
              "#0d0887"
             ],
             [
              0.1111111111111111,
              "#46039f"
             ],
             [
              0.2222222222222222,
              "#7201a8"
             ],
             [
              0.3333333333333333,
              "#9c179e"
             ],
             [
              0.4444444444444444,
              "#bd3786"
             ],
             [
              0.5555555555555556,
              "#d8576b"
             ],
             [
              0.6666666666666666,
              "#ed7953"
             ],
             [
              0.7777777777777778,
              "#fb9f3a"
             ],
             [
              0.8888888888888888,
              "#fdca26"
             ],
             [
              1.0,
              "#f0f921"
             ]
            ]
           }
          ],
          "choropleth": [
           {
            "type": "choropleth",
            "colorbar": {
             "outlinewidth": 0,
             "ticks": ""
            }
           }
          ],
          "histogram2d": [
           {
            "type": "histogram2d",
            "colorbar": {
             "outlinewidth": 0,
             "ticks": ""
            },
            "colorscale": [
             [
              0.0,
              "#0d0887"
             ],
             [
              0.1111111111111111,
              "#46039f"
             ],
             [
              0.2222222222222222,
              "#7201a8"
             ],
             [
              0.3333333333333333,
              "#9c179e"
             ],
             [
              0.4444444444444444,
              "#bd3786"
             ],
             [
              0.5555555555555556,
              "#d8576b"
             ],
             [
              0.6666666666666666,
              "#ed7953"
             ],
             [
              0.7777777777777778,
              "#fb9f3a"
             ],
             [
              0.8888888888888888,
              "#fdca26"
             ],
             [
              1.0,
              "#f0f921"
             ]
            ]
           }
          ],
          "heatmap": [
           {
            "type": "heatmap",
            "colorbar": {
             "outlinewidth": 0,
             "ticks": ""
            },
            "colorscale": [
             [
              0.0,
              "#0d0887"
             ],
             [
              0.1111111111111111,
              "#46039f"
             ],
             [
              0.2222222222222222,
              "#7201a8"
             ],
             [
              0.3333333333333333,
              "#9c179e"
             ],
             [
              0.4444444444444444,
              "#bd3786"
             ],
             [
              0.5555555555555556,
              "#d8576b"
             ],
             [
              0.6666666666666666,
              "#ed7953"
             ],
             [
              0.7777777777777778,
              "#fb9f3a"
             ],
             [
              0.8888888888888888,
              "#fdca26"
             ],
             [
              1.0,
              "#f0f921"
             ]
            ]
           }
          ],
          "heatmapgl": [
           {
            "type": "heatmapgl",
            "colorbar": {
             "outlinewidth": 0,
             "ticks": ""
            },
            "colorscale": [
             [
              0.0,
              "#0d0887"
             ],
             [
              0.1111111111111111,
              "#46039f"
             ],
             [
              0.2222222222222222,
              "#7201a8"
             ],
             [
              0.3333333333333333,
              "#9c179e"
             ],
             [
              0.4444444444444444,
              "#bd3786"
             ],
             [
              0.5555555555555556,
              "#d8576b"
             ],
             [
              0.6666666666666666,
              "#ed7953"
             ],
             [
              0.7777777777777778,
              "#fb9f3a"
             ],
             [
              0.8888888888888888,
              "#fdca26"
             ],
             [
              1.0,
              "#f0f921"
             ]
            ]
           }
          ],
          "contourcarpet": [
           {
            "type": "contourcarpet",
            "colorbar": {
             "outlinewidth": 0,
             "ticks": ""
            }
           }
          ],
          "contour": [
           {
            "type": "contour",
            "colorbar": {
             "outlinewidth": 0,
             "ticks": ""
            },
            "colorscale": [
             [
              0.0,
              "#0d0887"
             ],
             [
              0.1111111111111111,
              "#46039f"
             ],
             [
              0.2222222222222222,
              "#7201a8"
             ],
             [
              0.3333333333333333,
              "#9c179e"
             ],
             [
              0.4444444444444444,
              "#bd3786"
             ],
             [
              0.5555555555555556,
              "#d8576b"
             ],
             [
              0.6666666666666666,
              "#ed7953"
             ],
             [
              0.7777777777777778,
              "#fb9f3a"
             ],
             [
              0.8888888888888888,
              "#fdca26"
             ],
             [
              1.0,
              "#f0f921"
             ]
            ]
           }
          ],
          "surface": [
           {
            "type": "surface",
            "colorbar": {
             "outlinewidth": 0,
             "ticks": ""
            },
            "colorscale": [
             [
              0.0,
              "#0d0887"
             ],
             [
              0.1111111111111111,
              "#46039f"
             ],
             [
              0.2222222222222222,
              "#7201a8"
             ],
             [
              0.3333333333333333,
              "#9c179e"
             ],
             [
              0.4444444444444444,
              "#bd3786"
             ],
             [
              0.5555555555555556,
              "#d8576b"
             ],
             [
              0.6666666666666666,
              "#ed7953"
             ],
             [
              0.7777777777777778,
              "#fb9f3a"
             ],
             [
              0.8888888888888888,
              "#fdca26"
             ],
             [
              1.0,
              "#f0f921"
             ]
            ]
           }
          ],
          "mesh3d": [
           {
            "type": "mesh3d",
            "colorbar": {
             "outlinewidth": 0,
             "ticks": ""
            }
           }
          ],
          "scatter": [
           {
            "fillpattern": {
             "fillmode": "overlay",
             "size": 10,
             "solidity": 0.2
            },
            "type": "scatter"
           }
          ],
          "parcoords": [
           {
            "type": "parcoords",
            "line": {
             "colorbar": {
              "outlinewidth": 0,
              "ticks": ""
             }
            }
           }
          ],
          "scatterpolargl": [
           {
            "type": "scatterpolargl",
            "marker": {
             "colorbar": {
              "outlinewidth": 0,
              "ticks": ""
             }
            }
           }
          ],
          "bar": [
           {
            "error_x": {
             "color": "#2a3f5f"
            },
            "error_y": {
             "color": "#2a3f5f"
            },
            "marker": {
             "line": {
              "color": "#E5ECF6",
              "width": 0.5
             },
             "pattern": {
              "fillmode": "overlay",
              "size": 10,
              "solidity": 0.2
             }
            },
            "type": "bar"
           }
          ],
          "scattergeo": [
           {
            "type": "scattergeo",
            "marker": {
             "colorbar": {
              "outlinewidth": 0,
              "ticks": ""
             }
            }
           }
          ],
          "scatterpolar": [
           {
            "type": "scatterpolar",
            "marker": {
             "colorbar": {
              "outlinewidth": 0,
              "ticks": ""
             }
            }
           }
          ],
          "histogram": [
           {
            "marker": {
             "pattern": {
              "fillmode": "overlay",
              "size": 10,
              "solidity": 0.2
             }
            },
            "type": "histogram"
           }
          ],
          "scattergl": [
           {
            "type": "scattergl",
            "marker": {
             "colorbar": {
              "outlinewidth": 0,
              "ticks": ""
             }
            }
           }
          ],
          "scatter3d": [
           {
            "type": "scatter3d",
            "line": {
             "colorbar": {
              "outlinewidth": 0,
              "ticks": ""
             }
            },
            "marker": {
             "colorbar": {
              "outlinewidth": 0,
              "ticks": ""
             }
            }
           }
          ],
          "scattermapbox": [
           {
            "type": "scattermapbox",
            "marker": {
             "colorbar": {
              "outlinewidth": 0,
              "ticks": ""
             }
            }
           }
          ],
          "scatterternary": [
           {
            "type": "scatterternary",
            "marker": {
             "colorbar": {
              "outlinewidth": 0,
              "ticks": ""
             }
            }
           }
          ],
          "scattercarpet": [
           {
            "type": "scattercarpet",
            "marker": {
             "colorbar": {
              "outlinewidth": 0,
              "ticks": ""
             }
            }
           }
          ],
          "carpet": [
           {
            "aaxis": {
             "endlinecolor": "#2a3f5f",
             "gridcolor": "white",
             "linecolor": "white",
             "minorgridcolor": "white",
             "startlinecolor": "#2a3f5f"
            },
            "baxis": {
             "endlinecolor": "#2a3f5f",
             "gridcolor": "white",
             "linecolor": "white",
             "minorgridcolor": "white",
             "startlinecolor": "#2a3f5f"
            },
            "type": "carpet"
           }
          ],
          "table": [
           {
            "cells": {
             "fill": {
              "color": "#EBF0F8"
             },
             "line": {
              "color": "white"
             }
            },
            "header": {
             "fill": {
              "color": "#C8D4E3"
             },
             "line": {
              "color": "white"
             }
            },
            "type": "table"
           }
          ],
          "barpolar": [
           {
            "marker": {
             "line": {
              "color": "#E5ECF6",
              "width": 0.5
             },
             "pattern": {
              "fillmode": "overlay",
              "size": 10,
              "solidity": 0.2
             }
            },
            "type": "barpolar"
           }
          ],
          "pie": [
           {
            "automargin": true,
            "type": "pie"
           }
          ]
         },
         "layout": {
          "autotypenumbers": "strict",
          "colorway": [
           "#636efa",
           "#EF553B",
           "#00cc96",
           "#ab63fa",
           "#FFA15A",
           "#19d3f3",
           "#FF6692",
           "#B6E880",
           "#FF97FF",
           "#FECB52"
          ],
          "font": {
           "color": "#2a3f5f"
          },
          "hovermode": "closest",
          "hoverlabel": {
           "align": "left"
          },
          "paper_bgcolor": "white",
          "plot_bgcolor": "#E5ECF6",
          "polar": {
           "bgcolor": "#E5ECF6",
           "angularaxis": {
            "gridcolor": "white",
            "linecolor": "white",
            "ticks": ""
           },
           "radialaxis": {
            "gridcolor": "white",
            "linecolor": "white",
            "ticks": ""
           }
          },
          "ternary": {
           "bgcolor": "#E5ECF6",
           "aaxis": {
            "gridcolor": "white",
            "linecolor": "white",
            "ticks": ""
           },
           "baxis": {
            "gridcolor": "white",
            "linecolor": "white",
            "ticks": ""
           },
           "caxis": {
            "gridcolor": "white",
            "linecolor": "white",
            "ticks": ""
           }
          },
          "coloraxis": {
           "colorbar": {
            "outlinewidth": 0,
            "ticks": ""
           }
          },
          "colorscale": {
           "sequential": [
            [
             0.0,
             "#0d0887"
            ],
            [
             0.1111111111111111,
             "#46039f"
            ],
            [
             0.2222222222222222,
             "#7201a8"
            ],
            [
             0.3333333333333333,
             "#9c179e"
            ],
            [
             0.4444444444444444,
             "#bd3786"
            ],
            [
             0.5555555555555556,
             "#d8576b"
            ],
            [
             0.6666666666666666,
             "#ed7953"
            ],
            [
             0.7777777777777778,
             "#fb9f3a"
            ],
            [
             0.8888888888888888,
             "#fdca26"
            ],
            [
             1.0,
             "#f0f921"
            ]
           ],
           "sequentialminus": [
            [
             0.0,
             "#0d0887"
            ],
            [
             0.1111111111111111,
             "#46039f"
            ],
            [
             0.2222222222222222,
             "#7201a8"
            ],
            [
             0.3333333333333333,
             "#9c179e"
            ],
            [
             0.4444444444444444,
             "#bd3786"
            ],
            [
             0.5555555555555556,
             "#d8576b"
            ],
            [
             0.6666666666666666,
             "#ed7953"
            ],
            [
             0.7777777777777778,
             "#fb9f3a"
            ],
            [
             0.8888888888888888,
             "#fdca26"
            ],
            [
             1.0,
             "#f0f921"
            ]
           ],
           "diverging": [
            [
             0,
             "#8e0152"
            ],
            [
             0.1,
             "#c51b7d"
            ],
            [
             0.2,
             "#de77ae"
            ],
            [
             0.3,
             "#f1b6da"
            ],
            [
             0.4,
             "#fde0ef"
            ],
            [
             0.5,
             "#f7f7f7"
            ],
            [
             0.6,
             "#e6f5d0"
            ],
            [
             0.7,
             "#b8e186"
            ],
            [
             0.8,
             "#7fbc41"
            ],
            [
             0.9,
             "#4d9221"
            ],
            [
             1,
             "#276419"
            ]
           ]
          },
          "xaxis": {
           "gridcolor": "white",
           "linecolor": "white",
           "ticks": "",
           "title": {
            "standoff": 15
           },
           "zerolinecolor": "white",
           "automargin": true,
           "zerolinewidth": 2
          },
          "yaxis": {
           "gridcolor": "white",
           "linecolor": "white",
           "ticks": "",
           "title": {
            "standoff": 15
           },
           "zerolinecolor": "white",
           "automargin": true,
           "zerolinewidth": 2
          },
          "scene": {
           "xaxis": {
            "backgroundcolor": "#E5ECF6",
            "gridcolor": "white",
            "linecolor": "white",
            "showbackground": true,
            "ticks": "",
            "zerolinecolor": "white",
            "gridwidth": 2
           },
           "yaxis": {
            "backgroundcolor": "#E5ECF6",
            "gridcolor": "white",
            "linecolor": "white",
            "showbackground": true,
            "ticks": "",
            "zerolinecolor": "white",
            "gridwidth": 2
           },
           "zaxis": {
            "backgroundcolor": "#E5ECF6",
            "gridcolor": "white",
            "linecolor": "white",
            "showbackground": true,
            "ticks": "",
            "zerolinecolor": "white",
            "gridwidth": 2
           }
          },
          "shapedefaults": {
           "line": {
            "color": "#2a3f5f"
           }
          },
          "annotationdefaults": {
           "arrowcolor": "#2a3f5f",
           "arrowhead": 0,
           "arrowwidth": 1
          },
          "geo": {
           "bgcolor": "white",
           "landcolor": "#E5ECF6",
           "subunitcolor": "white",
           "showland": true,
           "showlakes": true,
           "lakecolor": "white"
          },
          "title": {
           "x": 0.05
          },
          "mapbox": {
           "style": "light"
          }
         }
        },
        "geo": {
         "domain": {
          "x": [
           0.0,
           1.0
          ],
          "y": [
           0.0,
           1.0
          ]
         },
         "projection": {
          "type": "natural earth"
         },
         "center": {}
        },
        "coloraxis": {
         "colorbar": {
          "title": {
           "text": "WomensDangerIndexWDI_TotalScore_2019"
          }
         },
         "colorscale": [
          [
           0.0,
           "#0d0887"
          ],
          [
           0.1111111111111111,
           "#46039f"
          ],
          [
           0.2222222222222222,
           "#7201a8"
          ],
          [
           0.3333333333333333,
           "#9c179e"
          ],
          [
           0.4444444444444444,
           "#bd3786"
          ],
          [
           0.5555555555555556,
           "#d8576b"
          ],
          [
           0.6666666666666666,
           "#ed7953"
          ],
          [
           0.7777777777777778,
           "#fb9f3a"
          ],
          [
           0.8888888888888888,
           "#fdca26"
          ],
          [
           1.0,
           "#f0f921"
          ]
         ]
        },
        "legend": {
         "tracegroupgap": 0
        },
        "title": {
         "text": "WomensDangerIndexWDI_TotalScore_2019"
        }
       },
       "config": {
        "plotlyServerURL": "https://plot.ly"
       }
      },
      "text/html": [
       "<div>                            <div id=\"aba274d6-7703-4905-9adb-ce353ea3db8e\" class=\"plotly-graph-div\" style=\"height:525px; width:100%;\"></div>            <script type=\"text/javascript\">                require([\"plotly\"], function(Plotly) {                    window.PLOTLYENV=window.PLOTLYENV || {};                                    if (document.getElementById(\"aba274d6-7703-4905-9adb-ce353ea3db8e\")) {                    Plotly.newPlot(                        \"aba274d6-7703-4905-9adb-ce353ea3db8e\",                        [{\"coloraxis\":\"coloraxis\",\"geo\":\"geo\",\"hovertemplate\":\"\\u003cb\\u003e%{hovertext}\\u003c\\u002fb\\u003e\\u003cbr\\u003e\\u003cbr\\u003eiso_alpha=%{location}\\u003cbr\\u003eWomensDangerIndexWDI_TotalScore_2019=%{z}\\u003cextra\\u003e\\u003c\\u002fextra\\u003e\",\"hovertext\":[\"India\",\"China\",\"United States\",\"Indonesia\",\"Pakistan\",\"Nigeria\",\"Brazil\",\"Bangladesh\",\"Russia\",\"Ethiopia\",\"Mexico\",\"Japan\",\"Egypt\",\"Philippines\",\"DR Congo\",\"Vietnam\",\"Iran\",\"Germany\",\"Thailand\",\"United Kingdom\",\"Tanzania\",\"France\",\"South Africa\",\"Italy\",\"Kenya\",\"Myanmar\",\"Colombia\",\"South Korea\",\"Sudan\",\"Uganda\",\"Spain\",\"Algeria\",\"Iraq\",\"Argentina\",\"Afghanistan\",\"Yemen\",\"Canada\",\"Poland\",\"Morocco\",\"Angola\",\"Ukraine\",\"Uzbekistan\",\"Malaysia\",\"Mozambique\",\"Ghana\",\"Peru\",\"Saudi Arabia\",\"Madagascar\",\"Nepal\",\"Cameroon\",\"Venezuela\",\"Niger\",\"Australia\",\"Syria\",\"Mali\",\"Burkina Faso\",\"Taiwan\",\"Sri Lanka\",\"Malawi\",\"Zambia\",\"Kazakhstan\",\"Chad\",\"Chile\",\"Romania\",\"Somalia\",\"Senegal\",\"Guatemala\",\"Netherlands\",\"Ecuador\",\"Cambodia\",\"Zimbabwe\",\"Guinea\",\"Benin\",\"Rwanda\",\"Burundi\",\"Bolivia\",\"Tunisia\",\"South Sudan\",\"Haiti\",\"Belgium\",\"Jordan\",\"Dominican Republic\",\"United Arab Emirates\",\"Honduras\",\"Czech Republic\",\"Sweden\",\"Tajikistan\",\"Papua New Guinea\",\"Portugal\",\"Azerbaijan\",\"Greece\",\"Hungary\",\"Togo\",\"Israel\",\"Austria\",\"Belarus\",\"Switzerland\",\"Sierra Leone\",\"Laos\",\"Turkmenistan\",\"Hong Kong\",\"Libya\",\"Kyrgyzstan\",\"Paraguay\",\"Nicaragua\",\"Bulgaria\",\"Serbia\",\"El Salvador\",\"Republic of the Congo\",\"Denmark\",\"Singapore\",\"Lebanon\",\"Finland\",\"Liberia\",\"Norway\",\"Slovakia\",\"Palestine\",\"Central African Republic\",\"Oman\",\"Ireland\",\"New Zealand\",\"Mauritania\",\"Costa Rica\",\"Kuwait\",\"Panama\",\"Croatia\",\"Georgia\",\"Mongolia\",\"Uruguay\",\"Puerto Rico\",\"Bosnia and Herzegovina\",\"Qatar\",\"Moldova\",\"Namibia\",\"Armenia\",\"Lithuania\",\"Jamaica\",\"Albania\",\"Gambia\",\"Gabon\",\"Botswana\",\"Lesotho\",\"Guinea-Bissau\",\"Slovenia\",\"Equatorial Guinea\",\"Latvia\",\"North Macedonia\",\"Bahrain\",\"Trinidad and Tobago\",\"Timor-Leste\",\"Estonia\",\"Cyprus\",\"Mauritius\",\"Eswatini\",\"Djibouti\",\"Fiji\",\"Comoros\",\"Guyana\",\"Solomon Islands\",\"Bhutan\",\"Luxembourg\",\"Montenegro\",\"Suriname\",\"Malta\",\"Maldives\",\"Cape Verde\",\"Belize\",\"Iceland\",\"Vanuatu\",\"Barbados\",\"Sao Tome and Principe\",\"Samoa\",\"Seychelles\",\"Tonga\"],\"locations\":[\"IND\",\"CHN\",\"USA\",\"IDN\",\"PAK\",\"NGA\",\"BRA\",\"BGD\",\"change\",\"ETH\",\"MEX\",\"JPN\",\"EGY\",\"PHL\",\"change\",\"change\",\"change\",\"DEU\",\"THA\",\"GBR\",\"change\",\"FRA\",\"ZAF\",\"ITA\",\"KEN\",\"MMR\",\"COL\",\"change\",\"SDN\",\"UGA\",\"ESP\",\"DZA\",\"IRQ\",\"ARG\",\"AFG\",\"YEM\",\"CAN\",\"POL\",\"MAR\",\"AGO\",\"UKR\",\"UZB\",\"MYS\",\"MOZ\",\"GHA\",\"PER\",\"SAU\",\"MDG\",\"NPL\",\"CMR\",\"change\",\"NER\",\"AUS\",\"change\",\"MLI\",\"BFA\",\"change\",\"LKA\",\"MWI\",\"ZMB\",\"KAZ\",\"TCD\",\"CHL\",\"ROU\",\"SOM\",\"SEN\",\"GTM\",\"NLD\",\"ECU\",\"KHM\",\"ZWE\",\"GIN\",\"BEN\",\"RWA\",\"BDI\",\"change\",\"TUN\",\"SSD\",\"HTI\",\"BEL\",\"JOR\",\"DOM\",\"ARE\",\"HND\",\"change\",\"SWE\",\"TJK\",\"PNG\",\"PRT\",\"AZE\",\"GRC\",\"HUN\",\"TGO\",\"ISR\",\"AUT\",\"BLR\",\"CHE\",\"SLE\",\"change\",\"TKM\",\"HKG\",\"LBY\",\"KGZ\",\"PRY\",\"NIC\",\"BGR\",\"SRB\",\"SLV\",\"change\",\"DNK\",\"SGP\",\"LBN\",\"FIN\",\"LBR\",\"NOR\",\"SVK\",\"change\",\"CAF\",\"OMN\",\"IRL\",\"NZL\",\"MRT\",\"CRI\",\"KWT\",\"PAN\",\"HRV\",\"GEO\",\"MNG\",\"URY\",\"PRI\",\"BIH\",\"QAT\",\"change\",\"NAM\",\"ARM\",\"LTU\",\"JAM\",\"ALB\",\"GMB\",\"GAB\",\"BWA\",\"LSO\",\"GNB\",\"SVN\",\"GNQ\",\"LVA\",\"MKD\",\"BHR\",\"TTO\",\"TLS\",\"EST\",\"CYP\",\"MUS\",\"SWZ\",\"DJI\",\"FJI\",\"COM\",\"GUY\",\"SLB\",\"BTN\",\"LUX\",\"MNE\",\"SUR\",\"MLT\",\"MDV\",\"change\",\"BLZ\",\"ISL\",\"VUT\",\"BRB\",\"STP\",\"WSM\",\"SYC\",\"TON\"],\"name\":\"\",\"z\":[541.25,444.55,456.31,442.1,null,null,624.28,null,592.71,null,576.05,366.2,546.91,408.23,null,449.65,553.11,335.1,533.22,296.85,null,309.92,771.82,323.19,null,null,null,366.98,null,null,212.04,null,null,494.11,null,null,290.83,291.23,542.75,null,453.61,null,527.64,null,null,null,524.36,null,null,null,null,null,370.1,null,null,null,null,null,null,null,null,null,487.96,null,null,null,null,302.81,null,485.73,null,null,null,null,null,null,468.26,null,null,372.88,null,551.32,450.66,null,325.33,326.42,null,null,277.58,null,337.8,375.89,null,null,251.63,null,252.78,null,null,null,null,null,null,null,null,380.84,null,null,null,320.65,245.26,null,null,null,259.92,null,null,null,null,247.31,null,null,null,null,null,286.53,null,null,null,null,null,null,null,null,null,null,null,null,null,null,null,null,null,null,null,null,null,476.09,null,null,null,null,null,null,null,null,null,null,null,null,null,null,null,null,null,null,null,null,null,null,null,null,null,null],\"type\":\"choropleth\"}],                        {\"template\":{\"data\":{\"histogram2dcontour\":[{\"type\":\"histogram2dcontour\",\"colorbar\":{\"outlinewidth\":0,\"ticks\":\"\"},\"colorscale\":[[0.0,\"#0d0887\"],[0.1111111111111111,\"#46039f\"],[0.2222222222222222,\"#7201a8\"],[0.3333333333333333,\"#9c179e\"],[0.4444444444444444,\"#bd3786\"],[0.5555555555555556,\"#d8576b\"],[0.6666666666666666,\"#ed7953\"],[0.7777777777777778,\"#fb9f3a\"],[0.8888888888888888,\"#fdca26\"],[1.0,\"#f0f921\"]]}],\"choropleth\":[{\"type\":\"choropleth\",\"colorbar\":{\"outlinewidth\":0,\"ticks\":\"\"}}],\"histogram2d\":[{\"type\":\"histogram2d\",\"colorbar\":{\"outlinewidth\":0,\"ticks\":\"\"},\"colorscale\":[[0.0,\"#0d0887\"],[0.1111111111111111,\"#46039f\"],[0.2222222222222222,\"#7201a8\"],[0.3333333333333333,\"#9c179e\"],[0.4444444444444444,\"#bd3786\"],[0.5555555555555556,\"#d8576b\"],[0.6666666666666666,\"#ed7953\"],[0.7777777777777778,\"#fb9f3a\"],[0.8888888888888888,\"#fdca26\"],[1.0,\"#f0f921\"]]}],\"heatmap\":[{\"type\":\"heatmap\",\"colorbar\":{\"outlinewidth\":0,\"ticks\":\"\"},\"colorscale\":[[0.0,\"#0d0887\"],[0.1111111111111111,\"#46039f\"],[0.2222222222222222,\"#7201a8\"],[0.3333333333333333,\"#9c179e\"],[0.4444444444444444,\"#bd3786\"],[0.5555555555555556,\"#d8576b\"],[0.6666666666666666,\"#ed7953\"],[0.7777777777777778,\"#fb9f3a\"],[0.8888888888888888,\"#fdca26\"],[1.0,\"#f0f921\"]]}],\"heatmapgl\":[{\"type\":\"heatmapgl\",\"colorbar\":{\"outlinewidth\":0,\"ticks\":\"\"},\"colorscale\":[[0.0,\"#0d0887\"],[0.1111111111111111,\"#46039f\"],[0.2222222222222222,\"#7201a8\"],[0.3333333333333333,\"#9c179e\"],[0.4444444444444444,\"#bd3786\"],[0.5555555555555556,\"#d8576b\"],[0.6666666666666666,\"#ed7953\"],[0.7777777777777778,\"#fb9f3a\"],[0.8888888888888888,\"#fdca26\"],[1.0,\"#f0f921\"]]}],\"contourcarpet\":[{\"type\":\"contourcarpet\",\"colorbar\":{\"outlinewidth\":0,\"ticks\":\"\"}}],\"contour\":[{\"type\":\"contour\",\"colorbar\":{\"outlinewidth\":0,\"ticks\":\"\"},\"colorscale\":[[0.0,\"#0d0887\"],[0.1111111111111111,\"#46039f\"],[0.2222222222222222,\"#7201a8\"],[0.3333333333333333,\"#9c179e\"],[0.4444444444444444,\"#bd3786\"],[0.5555555555555556,\"#d8576b\"],[0.6666666666666666,\"#ed7953\"],[0.7777777777777778,\"#fb9f3a\"],[0.8888888888888888,\"#fdca26\"],[1.0,\"#f0f921\"]]}],\"surface\":[{\"type\":\"surface\",\"colorbar\":{\"outlinewidth\":0,\"ticks\":\"\"},\"colorscale\":[[0.0,\"#0d0887\"],[0.1111111111111111,\"#46039f\"],[0.2222222222222222,\"#7201a8\"],[0.3333333333333333,\"#9c179e\"],[0.4444444444444444,\"#bd3786\"],[0.5555555555555556,\"#d8576b\"],[0.6666666666666666,\"#ed7953\"],[0.7777777777777778,\"#fb9f3a\"],[0.8888888888888888,\"#fdca26\"],[1.0,\"#f0f921\"]]}],\"mesh3d\":[{\"type\":\"mesh3d\",\"colorbar\":{\"outlinewidth\":0,\"ticks\":\"\"}}],\"scatter\":[{\"fillpattern\":{\"fillmode\":\"overlay\",\"size\":10,\"solidity\":0.2},\"type\":\"scatter\"}],\"parcoords\":[{\"type\":\"parcoords\",\"line\":{\"colorbar\":{\"outlinewidth\":0,\"ticks\":\"\"}}}],\"scatterpolargl\":[{\"type\":\"scatterpolargl\",\"marker\":{\"colorbar\":{\"outlinewidth\":0,\"ticks\":\"\"}}}],\"bar\":[{\"error_x\":{\"color\":\"#2a3f5f\"},\"error_y\":{\"color\":\"#2a3f5f\"},\"marker\":{\"line\":{\"color\":\"#E5ECF6\",\"width\":0.5},\"pattern\":{\"fillmode\":\"overlay\",\"size\":10,\"solidity\":0.2}},\"type\":\"bar\"}],\"scattergeo\":[{\"type\":\"scattergeo\",\"marker\":{\"colorbar\":{\"outlinewidth\":0,\"ticks\":\"\"}}}],\"scatterpolar\":[{\"type\":\"scatterpolar\",\"marker\":{\"colorbar\":{\"outlinewidth\":0,\"ticks\":\"\"}}}],\"histogram\":[{\"marker\":{\"pattern\":{\"fillmode\":\"overlay\",\"size\":10,\"solidity\":0.2}},\"type\":\"histogram\"}],\"scattergl\":[{\"type\":\"scattergl\",\"marker\":{\"colorbar\":{\"outlinewidth\":0,\"ticks\":\"\"}}}],\"scatter3d\":[{\"type\":\"scatter3d\",\"line\":{\"colorbar\":{\"outlinewidth\":0,\"ticks\":\"\"}},\"marker\":{\"colorbar\":{\"outlinewidth\":0,\"ticks\":\"\"}}}],\"scattermapbox\":[{\"type\":\"scattermapbox\",\"marker\":{\"colorbar\":{\"outlinewidth\":0,\"ticks\":\"\"}}}],\"scatterternary\":[{\"type\":\"scatterternary\",\"marker\":{\"colorbar\":{\"outlinewidth\":0,\"ticks\":\"\"}}}],\"scattercarpet\":[{\"type\":\"scattercarpet\",\"marker\":{\"colorbar\":{\"outlinewidth\":0,\"ticks\":\"\"}}}],\"carpet\":[{\"aaxis\":{\"endlinecolor\":\"#2a3f5f\",\"gridcolor\":\"white\",\"linecolor\":\"white\",\"minorgridcolor\":\"white\",\"startlinecolor\":\"#2a3f5f\"},\"baxis\":{\"endlinecolor\":\"#2a3f5f\",\"gridcolor\":\"white\",\"linecolor\":\"white\",\"minorgridcolor\":\"white\",\"startlinecolor\":\"#2a3f5f\"},\"type\":\"carpet\"}],\"table\":[{\"cells\":{\"fill\":{\"color\":\"#EBF0F8\"},\"line\":{\"color\":\"white\"}},\"header\":{\"fill\":{\"color\":\"#C8D4E3\"},\"line\":{\"color\":\"white\"}},\"type\":\"table\"}],\"barpolar\":[{\"marker\":{\"line\":{\"color\":\"#E5ECF6\",\"width\":0.5},\"pattern\":{\"fillmode\":\"overlay\",\"size\":10,\"solidity\":0.2}},\"type\":\"barpolar\"}],\"pie\":[{\"automargin\":true,\"type\":\"pie\"}]},\"layout\":{\"autotypenumbers\":\"strict\",\"colorway\":[\"#636efa\",\"#EF553B\",\"#00cc96\",\"#ab63fa\",\"#FFA15A\",\"#19d3f3\",\"#FF6692\",\"#B6E880\",\"#FF97FF\",\"#FECB52\"],\"font\":{\"color\":\"#2a3f5f\"},\"hovermode\":\"closest\",\"hoverlabel\":{\"align\":\"left\"},\"paper_bgcolor\":\"white\",\"plot_bgcolor\":\"#E5ECF6\",\"polar\":{\"bgcolor\":\"#E5ECF6\",\"angularaxis\":{\"gridcolor\":\"white\",\"linecolor\":\"white\",\"ticks\":\"\"},\"radialaxis\":{\"gridcolor\":\"white\",\"linecolor\":\"white\",\"ticks\":\"\"}},\"ternary\":{\"bgcolor\":\"#E5ECF6\",\"aaxis\":{\"gridcolor\":\"white\",\"linecolor\":\"white\",\"ticks\":\"\"},\"baxis\":{\"gridcolor\":\"white\",\"linecolor\":\"white\",\"ticks\":\"\"},\"caxis\":{\"gridcolor\":\"white\",\"linecolor\":\"white\",\"ticks\":\"\"}},\"coloraxis\":{\"colorbar\":{\"outlinewidth\":0,\"ticks\":\"\"}},\"colorscale\":{\"sequential\":[[0.0,\"#0d0887\"],[0.1111111111111111,\"#46039f\"],[0.2222222222222222,\"#7201a8\"],[0.3333333333333333,\"#9c179e\"],[0.4444444444444444,\"#bd3786\"],[0.5555555555555556,\"#d8576b\"],[0.6666666666666666,\"#ed7953\"],[0.7777777777777778,\"#fb9f3a\"],[0.8888888888888888,\"#fdca26\"],[1.0,\"#f0f921\"]],\"sequentialminus\":[[0.0,\"#0d0887\"],[0.1111111111111111,\"#46039f\"],[0.2222222222222222,\"#7201a8\"],[0.3333333333333333,\"#9c179e\"],[0.4444444444444444,\"#bd3786\"],[0.5555555555555556,\"#d8576b\"],[0.6666666666666666,\"#ed7953\"],[0.7777777777777778,\"#fb9f3a\"],[0.8888888888888888,\"#fdca26\"],[1.0,\"#f0f921\"]],\"diverging\":[[0,\"#8e0152\"],[0.1,\"#c51b7d\"],[0.2,\"#de77ae\"],[0.3,\"#f1b6da\"],[0.4,\"#fde0ef\"],[0.5,\"#f7f7f7\"],[0.6,\"#e6f5d0\"],[0.7,\"#b8e186\"],[0.8,\"#7fbc41\"],[0.9,\"#4d9221\"],[1,\"#276419\"]]},\"xaxis\":{\"gridcolor\":\"white\",\"linecolor\":\"white\",\"ticks\":\"\",\"title\":{\"standoff\":15},\"zerolinecolor\":\"white\",\"automargin\":true,\"zerolinewidth\":2},\"yaxis\":{\"gridcolor\":\"white\",\"linecolor\":\"white\",\"ticks\":\"\",\"title\":{\"standoff\":15},\"zerolinecolor\":\"white\",\"automargin\":true,\"zerolinewidth\":2},\"scene\":{\"xaxis\":{\"backgroundcolor\":\"#E5ECF6\",\"gridcolor\":\"white\",\"linecolor\":\"white\",\"showbackground\":true,\"ticks\":\"\",\"zerolinecolor\":\"white\",\"gridwidth\":2},\"yaxis\":{\"backgroundcolor\":\"#E5ECF6\",\"gridcolor\":\"white\",\"linecolor\":\"white\",\"showbackground\":true,\"ticks\":\"\",\"zerolinecolor\":\"white\",\"gridwidth\":2},\"zaxis\":{\"backgroundcolor\":\"#E5ECF6\",\"gridcolor\":\"white\",\"linecolor\":\"white\",\"showbackground\":true,\"ticks\":\"\",\"zerolinecolor\":\"white\",\"gridwidth\":2}},\"shapedefaults\":{\"line\":{\"color\":\"#2a3f5f\"}},\"annotationdefaults\":{\"arrowcolor\":\"#2a3f5f\",\"arrowhead\":0,\"arrowwidth\":1},\"geo\":{\"bgcolor\":\"white\",\"landcolor\":\"#E5ECF6\",\"subunitcolor\":\"white\",\"showland\":true,\"showlakes\":true,\"lakecolor\":\"white\"},\"title\":{\"x\":0.05},\"mapbox\":{\"style\":\"light\"}}},\"geo\":{\"domain\":{\"x\":[0.0,1.0],\"y\":[0.0,1.0]},\"projection\":{\"type\":\"natural earth\"},\"center\":{}},\"coloraxis\":{\"colorbar\":{\"title\":{\"text\":\"WomensDangerIndexWDI_TotalScore_2019\"}},\"colorscale\":[[0.0,\"#0d0887\"],[0.1111111111111111,\"#46039f\"],[0.2222222222222222,\"#7201a8\"],[0.3333333333333333,\"#9c179e\"],[0.4444444444444444,\"#bd3786\"],[0.5555555555555556,\"#d8576b\"],[0.6666666666666666,\"#ed7953\"],[0.7777777777777778,\"#fb9f3a\"],[0.8888888888888888,\"#fdca26\"],[1.0,\"#f0f921\"]]},\"legend\":{\"tracegroupgap\":0},\"title\":{\"text\":\"WomensDangerIndexWDI_TotalScore_2019\"}},                        {\"responsive\": true}                    ).then(function(){\n",
       "                            \n",
       "var gd = document.getElementById('aba274d6-7703-4905-9adb-ce353ea3db8e');\n",
       "var x = new MutationObserver(function (mutations, observer) {{\n",
       "        var display = window.getComputedStyle(gd).display;\n",
       "        if (!display || display === 'none') {{\n",
       "            console.log([gd, 'removed!']);\n",
       "            Plotly.purge(gd);\n",
       "            observer.disconnect();\n",
       "        }}\n",
       "}});\n",
       "\n",
       "// Listen for the removal of the full notebook cells\n",
       "var notebookContainer = gd.closest('#notebook-container');\n",
       "if (notebookContainer) {{\n",
       "    x.observe(notebookContainer, {childList: true});\n",
       "}}\n",
       "\n",
       "// Listen for the clearing of the current output cell\n",
       "var outputEl = gd.closest('.output');\n",
       "if (outputEl) {{\n",
       "    x.observe(outputEl, {childList: true});\n",
       "}}\n",
       "\n",
       "                        })                };                });            </script>        </div>"
      ]
     },
     "metadata": {},
     "output_type": "display_data"
    },
    {
     "data": {
      "application/vnd.plotly.v1+json": {
       "data": [
        {
         "coloraxis": "coloraxis",
         "geo": "geo",
         "hovertemplate": "<b>%{hovertext}</b><br><br>iso_alpha=%{location}<br>WDIStreetSafety_2019=%{z}<extra></extra>",
         "hovertext": [
          "India",
          "China",
          "United States",
          "Indonesia",
          "Pakistan",
          "Nigeria",
          "Brazil",
          "Bangladesh",
          "Russia",
          "Ethiopia",
          "Mexico",
          "Japan",
          "Egypt",
          "Philippines",
          "DR Congo",
          "Vietnam",
          "Iran",
          "Germany",
          "Thailand",
          "United Kingdom",
          "Tanzania",
          "France",
          "South Africa",
          "Italy",
          "Kenya",
          "Myanmar",
          "Colombia",
          "South Korea",
          "Sudan",
          "Uganda",
          "Spain",
          "Algeria",
          "Iraq",
          "Argentina",
          "Afghanistan",
          "Yemen",
          "Canada",
          "Poland",
          "Morocco",
          "Angola",
          "Ukraine",
          "Uzbekistan",
          "Malaysia",
          "Mozambique",
          "Ghana",
          "Peru",
          "Saudi Arabia",
          "Madagascar",
          "Nepal",
          "Cameroon",
          "Venezuela",
          "Niger",
          "Australia",
          "Syria",
          "Mali",
          "Burkina Faso",
          "Taiwan",
          "Sri Lanka",
          "Malawi",
          "Zambia",
          "Kazakhstan",
          "Chad",
          "Chile",
          "Romania",
          "Somalia",
          "Senegal",
          "Guatemala",
          "Netherlands",
          "Ecuador",
          "Cambodia",
          "Zimbabwe",
          "Guinea",
          "Benin",
          "Rwanda",
          "Burundi",
          "Bolivia",
          "Tunisia",
          "South Sudan",
          "Haiti",
          "Belgium",
          "Jordan",
          "Dominican Republic",
          "United Arab Emirates",
          "Honduras",
          "Czech Republic",
          "Sweden",
          "Tajikistan",
          "Papua New Guinea",
          "Portugal",
          "Azerbaijan",
          "Greece",
          "Hungary",
          "Togo",
          "Israel",
          "Austria",
          "Belarus",
          "Switzerland",
          "Sierra Leone",
          "Laos",
          "Turkmenistan",
          "Hong Kong",
          "Libya",
          "Kyrgyzstan",
          "Paraguay",
          "Nicaragua",
          "Bulgaria",
          "Serbia",
          "El Salvador",
          "Republic of the Congo",
          "Denmark",
          "Singapore",
          "Lebanon",
          "Finland",
          "Liberia",
          "Norway",
          "Slovakia",
          "Palestine",
          "Central African Republic",
          "Oman",
          "Ireland",
          "New Zealand",
          "Mauritania",
          "Costa Rica",
          "Kuwait",
          "Panama",
          "Croatia",
          "Georgia",
          "Mongolia",
          "Uruguay",
          "Puerto Rico",
          "Bosnia and Herzegovina",
          "Qatar",
          "Moldova",
          "Namibia",
          "Armenia",
          "Lithuania",
          "Jamaica",
          "Albania",
          "Gambia",
          "Gabon",
          "Botswana",
          "Lesotho",
          "Guinea-Bissau",
          "Slovenia",
          "Equatorial Guinea",
          "Latvia",
          "North Macedonia",
          "Bahrain",
          "Trinidad and Tobago",
          "Timor-Leste",
          "Estonia",
          "Cyprus",
          "Mauritius",
          "Eswatini",
          "Djibouti",
          "Fiji",
          "Comoros",
          "Guyana",
          "Solomon Islands",
          "Bhutan",
          "Luxembourg",
          "Montenegro",
          "Suriname",
          "Malta",
          "Maldives",
          "Cape Verde",
          "Belize",
          "Iceland",
          "Vanuatu",
          "Barbados",
          "Sao Tome and Principe",
          "Samoa",
          "Seychelles",
          "Tonga"
         ],
         "locations": [
          "IND",
          "CHN",
          "USA",
          "IDN",
          "PAK",
          "NGA",
          "BRA",
          "BGD",
          "change",
          "ETH",
          "MEX",
          "JPN",
          "EGY",
          "PHL",
          "change",
          "change",
          "change",
          "DEU",
          "THA",
          "GBR",
          "change",
          "FRA",
          "ZAF",
          "ITA",
          "KEN",
          "MMR",
          "COL",
          "change",
          "SDN",
          "UGA",
          "ESP",
          "DZA",
          "IRQ",
          "ARG",
          "AFG",
          "YEM",
          "CAN",
          "POL",
          "MAR",
          "AGO",
          "UKR",
          "UZB",
          "MYS",
          "MOZ",
          "GHA",
          "PER",
          "SAU",
          "MDG",
          "NPL",
          "CMR",
          "change",
          "NER",
          "AUS",
          "change",
          "MLI",
          "BFA",
          "change",
          "LKA",
          "MWI",
          "ZMB",
          "KAZ",
          "TCD",
          "CHL",
          "ROU",
          "SOM",
          "SEN",
          "GTM",
          "NLD",
          "ECU",
          "KHM",
          "ZWE",
          "GIN",
          "BEN",
          "RWA",
          "BDI",
          "change",
          "TUN",
          "SSD",
          "HTI",
          "BEL",
          "JOR",
          "DOM",
          "ARE",
          "HND",
          "change",
          "SWE",
          "TJK",
          "PNG",
          "PRT",
          "AZE",
          "GRC",
          "HUN",
          "TGO",
          "ISR",
          "AUT",
          "BLR",
          "CHE",
          "SLE",
          "change",
          "TKM",
          "HKG",
          "LBY",
          "KGZ",
          "PRY",
          "NIC",
          "BGR",
          "SRB",
          "SLV",
          "change",
          "DNK",
          "SGP",
          "LBN",
          "FIN",
          "LBR",
          "NOR",
          "SVK",
          "change",
          "CAF",
          "OMN",
          "IRL",
          "NZL",
          "MRT",
          "CRI",
          "KWT",
          "PAN",
          "HRV",
          "GEO",
          "MNG",
          "URY",
          "PRI",
          "BIH",
          "QAT",
          "change",
          "NAM",
          "ARM",
          "LTU",
          "JAM",
          "ALB",
          "GMB",
          "GAB",
          "BWA",
          "LSO",
          "GNB",
          "SVN",
          "GNQ",
          "LVA",
          "MKD",
          "BHR",
          "TTO",
          "TLS",
          "EST",
          "CYP",
          "MUS",
          "SWZ",
          "DJI",
          "FJI",
          "COM",
          "GUY",
          "SLB",
          "BTN",
          "LUX",
          "MNE",
          "SUR",
          "MLT",
          "MDV",
          "change",
          "BLZ",
          "ISL",
          "VUT",
          "BRB",
          "STP",
          "WSM",
          "SYC",
          "TON"
         ],
         "name": "",
         "z": [
          41.0,
          23.0,
          51.0,
          37.0,
          null,
          null,
          96.0,
          null,
          69.0,
          null,
          89.0,
          47.0,
          71.0,
          55.0,
          null,
          63.0,
          69.0,
          41.0,
          45.0,
          31.0,
          null,
          40.0,
          100.0,
          59.0,
          null,
          null,
          null,
          51.0,
          null,
          null,
          24.0,
          null,
          null,
          92.0,
          null,
          null,
          35.0,
          53.0,
          59.0,
          null,
          81.0,
          null,
          72.0,
          null,
          null,
          null,
          56.0,
          null,
          null,
          null,
          null,
          null,
          57.0,
          null,
          null,
          null,
          null,
          null,
          null,
          null,
          null,
          null,
          81.0,
          null,
          null,
          null,
          null,
          32.0,
          null,
          65.0,
          null,
          null,
          null,
          null,
          null,
          null,
          63.0,
          null,
          null,
          63.0,
          null,
          89.0,
          51.0,
          null,
          47.0,
          44.0,
          null,
          null,
          47.0,
          null,
          71.0,
          57.0,
          null,
          null,
          27.0,
          null,
          15.0,
          null,
          null,
          null,
          null,
          null,
          null,
          null,
          null,
          61.0,
          null,
          null,
          null,
          28.0,
          9.0,
          null,
          null,
          null,
          16.0,
          null,
          null,
          null,
          null,
          35.0,
          null,
          null,
          null,
          null,
          null,
          43.0,
          null,
          null,
          null,
          null,
          null,
          null,
          null,
          null,
          null,
          null,
          null,
          null,
          null,
          null,
          null,
          null,
          null,
          null,
          null,
          null,
          null,
          64.0,
          null,
          null,
          null,
          null,
          null,
          null,
          null,
          null,
          null,
          null,
          null,
          null,
          null,
          null,
          null,
          null,
          null,
          null,
          null,
          null,
          null,
          null,
          null,
          null,
          null,
          null
         ],
         "type": "choropleth"
        }
       ],
       "layout": {
        "template": {
         "data": {
          "histogram2dcontour": [
           {
            "type": "histogram2dcontour",
            "colorbar": {
             "outlinewidth": 0,
             "ticks": ""
            },
            "colorscale": [
             [
              0.0,
              "#0d0887"
             ],
             [
              0.1111111111111111,
              "#46039f"
             ],
             [
              0.2222222222222222,
              "#7201a8"
             ],
             [
              0.3333333333333333,
              "#9c179e"
             ],
             [
              0.4444444444444444,
              "#bd3786"
             ],
             [
              0.5555555555555556,
              "#d8576b"
             ],
             [
              0.6666666666666666,
              "#ed7953"
             ],
             [
              0.7777777777777778,
              "#fb9f3a"
             ],
             [
              0.8888888888888888,
              "#fdca26"
             ],
             [
              1.0,
              "#f0f921"
             ]
            ]
           }
          ],
          "choropleth": [
           {
            "type": "choropleth",
            "colorbar": {
             "outlinewidth": 0,
             "ticks": ""
            }
           }
          ],
          "histogram2d": [
           {
            "type": "histogram2d",
            "colorbar": {
             "outlinewidth": 0,
             "ticks": ""
            },
            "colorscale": [
             [
              0.0,
              "#0d0887"
             ],
             [
              0.1111111111111111,
              "#46039f"
             ],
             [
              0.2222222222222222,
              "#7201a8"
             ],
             [
              0.3333333333333333,
              "#9c179e"
             ],
             [
              0.4444444444444444,
              "#bd3786"
             ],
             [
              0.5555555555555556,
              "#d8576b"
             ],
             [
              0.6666666666666666,
              "#ed7953"
             ],
             [
              0.7777777777777778,
              "#fb9f3a"
             ],
             [
              0.8888888888888888,
              "#fdca26"
             ],
             [
              1.0,
              "#f0f921"
             ]
            ]
           }
          ],
          "heatmap": [
           {
            "type": "heatmap",
            "colorbar": {
             "outlinewidth": 0,
             "ticks": ""
            },
            "colorscale": [
             [
              0.0,
              "#0d0887"
             ],
             [
              0.1111111111111111,
              "#46039f"
             ],
             [
              0.2222222222222222,
              "#7201a8"
             ],
             [
              0.3333333333333333,
              "#9c179e"
             ],
             [
              0.4444444444444444,
              "#bd3786"
             ],
             [
              0.5555555555555556,
              "#d8576b"
             ],
             [
              0.6666666666666666,
              "#ed7953"
             ],
             [
              0.7777777777777778,
              "#fb9f3a"
             ],
             [
              0.8888888888888888,
              "#fdca26"
             ],
             [
              1.0,
              "#f0f921"
             ]
            ]
           }
          ],
          "heatmapgl": [
           {
            "type": "heatmapgl",
            "colorbar": {
             "outlinewidth": 0,
             "ticks": ""
            },
            "colorscale": [
             [
              0.0,
              "#0d0887"
             ],
             [
              0.1111111111111111,
              "#46039f"
             ],
             [
              0.2222222222222222,
              "#7201a8"
             ],
             [
              0.3333333333333333,
              "#9c179e"
             ],
             [
              0.4444444444444444,
              "#bd3786"
             ],
             [
              0.5555555555555556,
              "#d8576b"
             ],
             [
              0.6666666666666666,
              "#ed7953"
             ],
             [
              0.7777777777777778,
              "#fb9f3a"
             ],
             [
              0.8888888888888888,
              "#fdca26"
             ],
             [
              1.0,
              "#f0f921"
             ]
            ]
           }
          ],
          "contourcarpet": [
           {
            "type": "contourcarpet",
            "colorbar": {
             "outlinewidth": 0,
             "ticks": ""
            }
           }
          ],
          "contour": [
           {
            "type": "contour",
            "colorbar": {
             "outlinewidth": 0,
             "ticks": ""
            },
            "colorscale": [
             [
              0.0,
              "#0d0887"
             ],
             [
              0.1111111111111111,
              "#46039f"
             ],
             [
              0.2222222222222222,
              "#7201a8"
             ],
             [
              0.3333333333333333,
              "#9c179e"
             ],
             [
              0.4444444444444444,
              "#bd3786"
             ],
             [
              0.5555555555555556,
              "#d8576b"
             ],
             [
              0.6666666666666666,
              "#ed7953"
             ],
             [
              0.7777777777777778,
              "#fb9f3a"
             ],
             [
              0.8888888888888888,
              "#fdca26"
             ],
             [
              1.0,
              "#f0f921"
             ]
            ]
           }
          ],
          "surface": [
           {
            "type": "surface",
            "colorbar": {
             "outlinewidth": 0,
             "ticks": ""
            },
            "colorscale": [
             [
              0.0,
              "#0d0887"
             ],
             [
              0.1111111111111111,
              "#46039f"
             ],
             [
              0.2222222222222222,
              "#7201a8"
             ],
             [
              0.3333333333333333,
              "#9c179e"
             ],
             [
              0.4444444444444444,
              "#bd3786"
             ],
             [
              0.5555555555555556,
              "#d8576b"
             ],
             [
              0.6666666666666666,
              "#ed7953"
             ],
             [
              0.7777777777777778,
              "#fb9f3a"
             ],
             [
              0.8888888888888888,
              "#fdca26"
             ],
             [
              1.0,
              "#f0f921"
             ]
            ]
           }
          ],
          "mesh3d": [
           {
            "type": "mesh3d",
            "colorbar": {
             "outlinewidth": 0,
             "ticks": ""
            }
           }
          ],
          "scatter": [
           {
            "fillpattern": {
             "fillmode": "overlay",
             "size": 10,
             "solidity": 0.2
            },
            "type": "scatter"
           }
          ],
          "parcoords": [
           {
            "type": "parcoords",
            "line": {
             "colorbar": {
              "outlinewidth": 0,
              "ticks": ""
             }
            }
           }
          ],
          "scatterpolargl": [
           {
            "type": "scatterpolargl",
            "marker": {
             "colorbar": {
              "outlinewidth": 0,
              "ticks": ""
             }
            }
           }
          ],
          "bar": [
           {
            "error_x": {
             "color": "#2a3f5f"
            },
            "error_y": {
             "color": "#2a3f5f"
            },
            "marker": {
             "line": {
              "color": "#E5ECF6",
              "width": 0.5
             },
             "pattern": {
              "fillmode": "overlay",
              "size": 10,
              "solidity": 0.2
             }
            },
            "type": "bar"
           }
          ],
          "scattergeo": [
           {
            "type": "scattergeo",
            "marker": {
             "colorbar": {
              "outlinewidth": 0,
              "ticks": ""
             }
            }
           }
          ],
          "scatterpolar": [
           {
            "type": "scatterpolar",
            "marker": {
             "colorbar": {
              "outlinewidth": 0,
              "ticks": ""
             }
            }
           }
          ],
          "histogram": [
           {
            "marker": {
             "pattern": {
              "fillmode": "overlay",
              "size": 10,
              "solidity": 0.2
             }
            },
            "type": "histogram"
           }
          ],
          "scattergl": [
           {
            "type": "scattergl",
            "marker": {
             "colorbar": {
              "outlinewidth": 0,
              "ticks": ""
             }
            }
           }
          ],
          "scatter3d": [
           {
            "type": "scatter3d",
            "line": {
             "colorbar": {
              "outlinewidth": 0,
              "ticks": ""
             }
            },
            "marker": {
             "colorbar": {
              "outlinewidth": 0,
              "ticks": ""
             }
            }
           }
          ],
          "scattermapbox": [
           {
            "type": "scattermapbox",
            "marker": {
             "colorbar": {
              "outlinewidth": 0,
              "ticks": ""
             }
            }
           }
          ],
          "scatterternary": [
           {
            "type": "scatterternary",
            "marker": {
             "colorbar": {
              "outlinewidth": 0,
              "ticks": ""
             }
            }
           }
          ],
          "scattercarpet": [
           {
            "type": "scattercarpet",
            "marker": {
             "colorbar": {
              "outlinewidth": 0,
              "ticks": ""
             }
            }
           }
          ],
          "carpet": [
           {
            "aaxis": {
             "endlinecolor": "#2a3f5f",
             "gridcolor": "white",
             "linecolor": "white",
             "minorgridcolor": "white",
             "startlinecolor": "#2a3f5f"
            },
            "baxis": {
             "endlinecolor": "#2a3f5f",
             "gridcolor": "white",
             "linecolor": "white",
             "minorgridcolor": "white",
             "startlinecolor": "#2a3f5f"
            },
            "type": "carpet"
           }
          ],
          "table": [
           {
            "cells": {
             "fill": {
              "color": "#EBF0F8"
             },
             "line": {
              "color": "white"
             }
            },
            "header": {
             "fill": {
              "color": "#C8D4E3"
             },
             "line": {
              "color": "white"
             }
            },
            "type": "table"
           }
          ],
          "barpolar": [
           {
            "marker": {
             "line": {
              "color": "#E5ECF6",
              "width": 0.5
             },
             "pattern": {
              "fillmode": "overlay",
              "size": 10,
              "solidity": 0.2
             }
            },
            "type": "barpolar"
           }
          ],
          "pie": [
           {
            "automargin": true,
            "type": "pie"
           }
          ]
         },
         "layout": {
          "autotypenumbers": "strict",
          "colorway": [
           "#636efa",
           "#EF553B",
           "#00cc96",
           "#ab63fa",
           "#FFA15A",
           "#19d3f3",
           "#FF6692",
           "#B6E880",
           "#FF97FF",
           "#FECB52"
          ],
          "font": {
           "color": "#2a3f5f"
          },
          "hovermode": "closest",
          "hoverlabel": {
           "align": "left"
          },
          "paper_bgcolor": "white",
          "plot_bgcolor": "#E5ECF6",
          "polar": {
           "bgcolor": "#E5ECF6",
           "angularaxis": {
            "gridcolor": "white",
            "linecolor": "white",
            "ticks": ""
           },
           "radialaxis": {
            "gridcolor": "white",
            "linecolor": "white",
            "ticks": ""
           }
          },
          "ternary": {
           "bgcolor": "#E5ECF6",
           "aaxis": {
            "gridcolor": "white",
            "linecolor": "white",
            "ticks": ""
           },
           "baxis": {
            "gridcolor": "white",
            "linecolor": "white",
            "ticks": ""
           },
           "caxis": {
            "gridcolor": "white",
            "linecolor": "white",
            "ticks": ""
           }
          },
          "coloraxis": {
           "colorbar": {
            "outlinewidth": 0,
            "ticks": ""
           }
          },
          "colorscale": {
           "sequential": [
            [
             0.0,
             "#0d0887"
            ],
            [
             0.1111111111111111,
             "#46039f"
            ],
            [
             0.2222222222222222,
             "#7201a8"
            ],
            [
             0.3333333333333333,
             "#9c179e"
            ],
            [
             0.4444444444444444,
             "#bd3786"
            ],
            [
             0.5555555555555556,
             "#d8576b"
            ],
            [
             0.6666666666666666,
             "#ed7953"
            ],
            [
             0.7777777777777778,
             "#fb9f3a"
            ],
            [
             0.8888888888888888,
             "#fdca26"
            ],
            [
             1.0,
             "#f0f921"
            ]
           ],
           "sequentialminus": [
            [
             0.0,
             "#0d0887"
            ],
            [
             0.1111111111111111,
             "#46039f"
            ],
            [
             0.2222222222222222,
             "#7201a8"
            ],
            [
             0.3333333333333333,
             "#9c179e"
            ],
            [
             0.4444444444444444,
             "#bd3786"
            ],
            [
             0.5555555555555556,
             "#d8576b"
            ],
            [
             0.6666666666666666,
             "#ed7953"
            ],
            [
             0.7777777777777778,
             "#fb9f3a"
            ],
            [
             0.8888888888888888,
             "#fdca26"
            ],
            [
             1.0,
             "#f0f921"
            ]
           ],
           "diverging": [
            [
             0,
             "#8e0152"
            ],
            [
             0.1,
             "#c51b7d"
            ],
            [
             0.2,
             "#de77ae"
            ],
            [
             0.3,
             "#f1b6da"
            ],
            [
             0.4,
             "#fde0ef"
            ],
            [
             0.5,
             "#f7f7f7"
            ],
            [
             0.6,
             "#e6f5d0"
            ],
            [
             0.7,
             "#b8e186"
            ],
            [
             0.8,
             "#7fbc41"
            ],
            [
             0.9,
             "#4d9221"
            ],
            [
             1,
             "#276419"
            ]
           ]
          },
          "xaxis": {
           "gridcolor": "white",
           "linecolor": "white",
           "ticks": "",
           "title": {
            "standoff": 15
           },
           "zerolinecolor": "white",
           "automargin": true,
           "zerolinewidth": 2
          },
          "yaxis": {
           "gridcolor": "white",
           "linecolor": "white",
           "ticks": "",
           "title": {
            "standoff": 15
           },
           "zerolinecolor": "white",
           "automargin": true,
           "zerolinewidth": 2
          },
          "scene": {
           "xaxis": {
            "backgroundcolor": "#E5ECF6",
            "gridcolor": "white",
            "linecolor": "white",
            "showbackground": true,
            "ticks": "",
            "zerolinecolor": "white",
            "gridwidth": 2
           },
           "yaxis": {
            "backgroundcolor": "#E5ECF6",
            "gridcolor": "white",
            "linecolor": "white",
            "showbackground": true,
            "ticks": "",
            "zerolinecolor": "white",
            "gridwidth": 2
           },
           "zaxis": {
            "backgroundcolor": "#E5ECF6",
            "gridcolor": "white",
            "linecolor": "white",
            "showbackground": true,
            "ticks": "",
            "zerolinecolor": "white",
            "gridwidth": 2
           }
          },
          "shapedefaults": {
           "line": {
            "color": "#2a3f5f"
           }
          },
          "annotationdefaults": {
           "arrowcolor": "#2a3f5f",
           "arrowhead": 0,
           "arrowwidth": 1
          },
          "geo": {
           "bgcolor": "white",
           "landcolor": "#E5ECF6",
           "subunitcolor": "white",
           "showland": true,
           "showlakes": true,
           "lakecolor": "white"
          },
          "title": {
           "x": 0.05
          },
          "mapbox": {
           "style": "light"
          }
         }
        },
        "geo": {
         "domain": {
          "x": [
           0.0,
           1.0
          ],
          "y": [
           0.0,
           1.0
          ]
         },
         "projection": {
          "type": "natural earth"
         },
         "center": {}
        },
        "coloraxis": {
         "colorbar": {
          "title": {
           "text": "WDIStreetSafety_2019"
          }
         },
         "colorscale": [
          [
           0.0,
           "#0d0887"
          ],
          [
           0.1111111111111111,
           "#46039f"
          ],
          [
           0.2222222222222222,
           "#7201a8"
          ],
          [
           0.3333333333333333,
           "#9c179e"
          ],
          [
           0.4444444444444444,
           "#bd3786"
          ],
          [
           0.5555555555555556,
           "#d8576b"
          ],
          [
           0.6666666666666666,
           "#ed7953"
          ],
          [
           0.7777777777777778,
           "#fb9f3a"
          ],
          [
           0.8888888888888888,
           "#fdca26"
          ],
          [
           1.0,
           "#f0f921"
          ]
         ]
        },
        "legend": {
         "tracegroupgap": 0
        },
        "title": {
         "text": "WDIStreetSafety_2019"
        }
       },
       "config": {
        "plotlyServerURL": "https://plot.ly"
       }
      },
      "text/html": [
       "<div>                            <div id=\"700aa79e-65e7-4a1a-8b83-0aadd604adc4\" class=\"plotly-graph-div\" style=\"height:525px; width:100%;\"></div>            <script type=\"text/javascript\">                require([\"plotly\"], function(Plotly) {                    window.PLOTLYENV=window.PLOTLYENV || {};                                    if (document.getElementById(\"700aa79e-65e7-4a1a-8b83-0aadd604adc4\")) {                    Plotly.newPlot(                        \"700aa79e-65e7-4a1a-8b83-0aadd604adc4\",                        [{\"coloraxis\":\"coloraxis\",\"geo\":\"geo\",\"hovertemplate\":\"\\u003cb\\u003e%{hovertext}\\u003c\\u002fb\\u003e\\u003cbr\\u003e\\u003cbr\\u003eiso_alpha=%{location}\\u003cbr\\u003eWDIStreetSafety_2019=%{z}\\u003cextra\\u003e\\u003c\\u002fextra\\u003e\",\"hovertext\":[\"India\",\"China\",\"United States\",\"Indonesia\",\"Pakistan\",\"Nigeria\",\"Brazil\",\"Bangladesh\",\"Russia\",\"Ethiopia\",\"Mexico\",\"Japan\",\"Egypt\",\"Philippines\",\"DR Congo\",\"Vietnam\",\"Iran\",\"Germany\",\"Thailand\",\"United Kingdom\",\"Tanzania\",\"France\",\"South Africa\",\"Italy\",\"Kenya\",\"Myanmar\",\"Colombia\",\"South Korea\",\"Sudan\",\"Uganda\",\"Spain\",\"Algeria\",\"Iraq\",\"Argentina\",\"Afghanistan\",\"Yemen\",\"Canada\",\"Poland\",\"Morocco\",\"Angola\",\"Ukraine\",\"Uzbekistan\",\"Malaysia\",\"Mozambique\",\"Ghana\",\"Peru\",\"Saudi Arabia\",\"Madagascar\",\"Nepal\",\"Cameroon\",\"Venezuela\",\"Niger\",\"Australia\",\"Syria\",\"Mali\",\"Burkina Faso\",\"Taiwan\",\"Sri Lanka\",\"Malawi\",\"Zambia\",\"Kazakhstan\",\"Chad\",\"Chile\",\"Romania\",\"Somalia\",\"Senegal\",\"Guatemala\",\"Netherlands\",\"Ecuador\",\"Cambodia\",\"Zimbabwe\",\"Guinea\",\"Benin\",\"Rwanda\",\"Burundi\",\"Bolivia\",\"Tunisia\",\"South Sudan\",\"Haiti\",\"Belgium\",\"Jordan\",\"Dominican Republic\",\"United Arab Emirates\",\"Honduras\",\"Czech Republic\",\"Sweden\",\"Tajikistan\",\"Papua New Guinea\",\"Portugal\",\"Azerbaijan\",\"Greece\",\"Hungary\",\"Togo\",\"Israel\",\"Austria\",\"Belarus\",\"Switzerland\",\"Sierra Leone\",\"Laos\",\"Turkmenistan\",\"Hong Kong\",\"Libya\",\"Kyrgyzstan\",\"Paraguay\",\"Nicaragua\",\"Bulgaria\",\"Serbia\",\"El Salvador\",\"Republic of the Congo\",\"Denmark\",\"Singapore\",\"Lebanon\",\"Finland\",\"Liberia\",\"Norway\",\"Slovakia\",\"Palestine\",\"Central African Republic\",\"Oman\",\"Ireland\",\"New Zealand\",\"Mauritania\",\"Costa Rica\",\"Kuwait\",\"Panama\",\"Croatia\",\"Georgia\",\"Mongolia\",\"Uruguay\",\"Puerto Rico\",\"Bosnia and Herzegovina\",\"Qatar\",\"Moldova\",\"Namibia\",\"Armenia\",\"Lithuania\",\"Jamaica\",\"Albania\",\"Gambia\",\"Gabon\",\"Botswana\",\"Lesotho\",\"Guinea-Bissau\",\"Slovenia\",\"Equatorial Guinea\",\"Latvia\",\"North Macedonia\",\"Bahrain\",\"Trinidad and Tobago\",\"Timor-Leste\",\"Estonia\",\"Cyprus\",\"Mauritius\",\"Eswatini\",\"Djibouti\",\"Fiji\",\"Comoros\",\"Guyana\",\"Solomon Islands\",\"Bhutan\",\"Luxembourg\",\"Montenegro\",\"Suriname\",\"Malta\",\"Maldives\",\"Cape Verde\",\"Belize\",\"Iceland\",\"Vanuatu\",\"Barbados\",\"Sao Tome and Principe\",\"Samoa\",\"Seychelles\",\"Tonga\"],\"locations\":[\"IND\",\"CHN\",\"USA\",\"IDN\",\"PAK\",\"NGA\",\"BRA\",\"BGD\",\"change\",\"ETH\",\"MEX\",\"JPN\",\"EGY\",\"PHL\",\"change\",\"change\",\"change\",\"DEU\",\"THA\",\"GBR\",\"change\",\"FRA\",\"ZAF\",\"ITA\",\"KEN\",\"MMR\",\"COL\",\"change\",\"SDN\",\"UGA\",\"ESP\",\"DZA\",\"IRQ\",\"ARG\",\"AFG\",\"YEM\",\"CAN\",\"POL\",\"MAR\",\"AGO\",\"UKR\",\"UZB\",\"MYS\",\"MOZ\",\"GHA\",\"PER\",\"SAU\",\"MDG\",\"NPL\",\"CMR\",\"change\",\"NER\",\"AUS\",\"change\",\"MLI\",\"BFA\",\"change\",\"LKA\",\"MWI\",\"ZMB\",\"KAZ\",\"TCD\",\"CHL\",\"ROU\",\"SOM\",\"SEN\",\"GTM\",\"NLD\",\"ECU\",\"KHM\",\"ZWE\",\"GIN\",\"BEN\",\"RWA\",\"BDI\",\"change\",\"TUN\",\"SSD\",\"HTI\",\"BEL\",\"JOR\",\"DOM\",\"ARE\",\"HND\",\"change\",\"SWE\",\"TJK\",\"PNG\",\"PRT\",\"AZE\",\"GRC\",\"HUN\",\"TGO\",\"ISR\",\"AUT\",\"BLR\",\"CHE\",\"SLE\",\"change\",\"TKM\",\"HKG\",\"LBY\",\"KGZ\",\"PRY\",\"NIC\",\"BGR\",\"SRB\",\"SLV\",\"change\",\"DNK\",\"SGP\",\"LBN\",\"FIN\",\"LBR\",\"NOR\",\"SVK\",\"change\",\"CAF\",\"OMN\",\"IRL\",\"NZL\",\"MRT\",\"CRI\",\"KWT\",\"PAN\",\"HRV\",\"GEO\",\"MNG\",\"URY\",\"PRI\",\"BIH\",\"QAT\",\"change\",\"NAM\",\"ARM\",\"LTU\",\"JAM\",\"ALB\",\"GMB\",\"GAB\",\"BWA\",\"LSO\",\"GNB\",\"SVN\",\"GNQ\",\"LVA\",\"MKD\",\"BHR\",\"TTO\",\"TLS\",\"EST\",\"CYP\",\"MUS\",\"SWZ\",\"DJI\",\"FJI\",\"COM\",\"GUY\",\"SLB\",\"BTN\",\"LUX\",\"MNE\",\"SUR\",\"MLT\",\"MDV\",\"change\",\"BLZ\",\"ISL\",\"VUT\",\"BRB\",\"STP\",\"WSM\",\"SYC\",\"TON\"],\"name\":\"\",\"z\":[41.0,23.0,51.0,37.0,null,null,96.0,null,69.0,null,89.0,47.0,71.0,55.0,null,63.0,69.0,41.0,45.0,31.0,null,40.0,100.0,59.0,null,null,null,51.0,null,null,24.0,null,null,92.0,null,null,35.0,53.0,59.0,null,81.0,null,72.0,null,null,null,56.0,null,null,null,null,null,57.0,null,null,null,null,null,null,null,null,null,81.0,null,null,null,null,32.0,null,65.0,null,null,null,null,null,null,63.0,null,null,63.0,null,89.0,51.0,null,47.0,44.0,null,null,47.0,null,71.0,57.0,null,null,27.0,null,15.0,null,null,null,null,null,null,null,null,61.0,null,null,null,28.0,9.0,null,null,null,16.0,null,null,null,null,35.0,null,null,null,null,null,43.0,null,null,null,null,null,null,null,null,null,null,null,null,null,null,null,null,null,null,null,null,null,64.0,null,null,null,null,null,null,null,null,null,null,null,null,null,null,null,null,null,null,null,null,null,null,null,null,null,null],\"type\":\"choropleth\"}],                        {\"template\":{\"data\":{\"histogram2dcontour\":[{\"type\":\"histogram2dcontour\",\"colorbar\":{\"outlinewidth\":0,\"ticks\":\"\"},\"colorscale\":[[0.0,\"#0d0887\"],[0.1111111111111111,\"#46039f\"],[0.2222222222222222,\"#7201a8\"],[0.3333333333333333,\"#9c179e\"],[0.4444444444444444,\"#bd3786\"],[0.5555555555555556,\"#d8576b\"],[0.6666666666666666,\"#ed7953\"],[0.7777777777777778,\"#fb9f3a\"],[0.8888888888888888,\"#fdca26\"],[1.0,\"#f0f921\"]]}],\"choropleth\":[{\"type\":\"choropleth\",\"colorbar\":{\"outlinewidth\":0,\"ticks\":\"\"}}],\"histogram2d\":[{\"type\":\"histogram2d\",\"colorbar\":{\"outlinewidth\":0,\"ticks\":\"\"},\"colorscale\":[[0.0,\"#0d0887\"],[0.1111111111111111,\"#46039f\"],[0.2222222222222222,\"#7201a8\"],[0.3333333333333333,\"#9c179e\"],[0.4444444444444444,\"#bd3786\"],[0.5555555555555556,\"#d8576b\"],[0.6666666666666666,\"#ed7953\"],[0.7777777777777778,\"#fb9f3a\"],[0.8888888888888888,\"#fdca26\"],[1.0,\"#f0f921\"]]}],\"heatmap\":[{\"type\":\"heatmap\",\"colorbar\":{\"outlinewidth\":0,\"ticks\":\"\"},\"colorscale\":[[0.0,\"#0d0887\"],[0.1111111111111111,\"#46039f\"],[0.2222222222222222,\"#7201a8\"],[0.3333333333333333,\"#9c179e\"],[0.4444444444444444,\"#bd3786\"],[0.5555555555555556,\"#d8576b\"],[0.6666666666666666,\"#ed7953\"],[0.7777777777777778,\"#fb9f3a\"],[0.8888888888888888,\"#fdca26\"],[1.0,\"#f0f921\"]]}],\"heatmapgl\":[{\"type\":\"heatmapgl\",\"colorbar\":{\"outlinewidth\":0,\"ticks\":\"\"},\"colorscale\":[[0.0,\"#0d0887\"],[0.1111111111111111,\"#46039f\"],[0.2222222222222222,\"#7201a8\"],[0.3333333333333333,\"#9c179e\"],[0.4444444444444444,\"#bd3786\"],[0.5555555555555556,\"#d8576b\"],[0.6666666666666666,\"#ed7953\"],[0.7777777777777778,\"#fb9f3a\"],[0.8888888888888888,\"#fdca26\"],[1.0,\"#f0f921\"]]}],\"contourcarpet\":[{\"type\":\"contourcarpet\",\"colorbar\":{\"outlinewidth\":0,\"ticks\":\"\"}}],\"contour\":[{\"type\":\"contour\",\"colorbar\":{\"outlinewidth\":0,\"ticks\":\"\"},\"colorscale\":[[0.0,\"#0d0887\"],[0.1111111111111111,\"#46039f\"],[0.2222222222222222,\"#7201a8\"],[0.3333333333333333,\"#9c179e\"],[0.4444444444444444,\"#bd3786\"],[0.5555555555555556,\"#d8576b\"],[0.6666666666666666,\"#ed7953\"],[0.7777777777777778,\"#fb9f3a\"],[0.8888888888888888,\"#fdca26\"],[1.0,\"#f0f921\"]]}],\"surface\":[{\"type\":\"surface\",\"colorbar\":{\"outlinewidth\":0,\"ticks\":\"\"},\"colorscale\":[[0.0,\"#0d0887\"],[0.1111111111111111,\"#46039f\"],[0.2222222222222222,\"#7201a8\"],[0.3333333333333333,\"#9c179e\"],[0.4444444444444444,\"#bd3786\"],[0.5555555555555556,\"#d8576b\"],[0.6666666666666666,\"#ed7953\"],[0.7777777777777778,\"#fb9f3a\"],[0.8888888888888888,\"#fdca26\"],[1.0,\"#f0f921\"]]}],\"mesh3d\":[{\"type\":\"mesh3d\",\"colorbar\":{\"outlinewidth\":0,\"ticks\":\"\"}}],\"scatter\":[{\"fillpattern\":{\"fillmode\":\"overlay\",\"size\":10,\"solidity\":0.2},\"type\":\"scatter\"}],\"parcoords\":[{\"type\":\"parcoords\",\"line\":{\"colorbar\":{\"outlinewidth\":0,\"ticks\":\"\"}}}],\"scatterpolargl\":[{\"type\":\"scatterpolargl\",\"marker\":{\"colorbar\":{\"outlinewidth\":0,\"ticks\":\"\"}}}],\"bar\":[{\"error_x\":{\"color\":\"#2a3f5f\"},\"error_y\":{\"color\":\"#2a3f5f\"},\"marker\":{\"line\":{\"color\":\"#E5ECF6\",\"width\":0.5},\"pattern\":{\"fillmode\":\"overlay\",\"size\":10,\"solidity\":0.2}},\"type\":\"bar\"}],\"scattergeo\":[{\"type\":\"scattergeo\",\"marker\":{\"colorbar\":{\"outlinewidth\":0,\"ticks\":\"\"}}}],\"scatterpolar\":[{\"type\":\"scatterpolar\",\"marker\":{\"colorbar\":{\"outlinewidth\":0,\"ticks\":\"\"}}}],\"histogram\":[{\"marker\":{\"pattern\":{\"fillmode\":\"overlay\",\"size\":10,\"solidity\":0.2}},\"type\":\"histogram\"}],\"scattergl\":[{\"type\":\"scattergl\",\"marker\":{\"colorbar\":{\"outlinewidth\":0,\"ticks\":\"\"}}}],\"scatter3d\":[{\"type\":\"scatter3d\",\"line\":{\"colorbar\":{\"outlinewidth\":0,\"ticks\":\"\"}},\"marker\":{\"colorbar\":{\"outlinewidth\":0,\"ticks\":\"\"}}}],\"scattermapbox\":[{\"type\":\"scattermapbox\",\"marker\":{\"colorbar\":{\"outlinewidth\":0,\"ticks\":\"\"}}}],\"scatterternary\":[{\"type\":\"scatterternary\",\"marker\":{\"colorbar\":{\"outlinewidth\":0,\"ticks\":\"\"}}}],\"scattercarpet\":[{\"type\":\"scattercarpet\",\"marker\":{\"colorbar\":{\"outlinewidth\":0,\"ticks\":\"\"}}}],\"carpet\":[{\"aaxis\":{\"endlinecolor\":\"#2a3f5f\",\"gridcolor\":\"white\",\"linecolor\":\"white\",\"minorgridcolor\":\"white\",\"startlinecolor\":\"#2a3f5f\"},\"baxis\":{\"endlinecolor\":\"#2a3f5f\",\"gridcolor\":\"white\",\"linecolor\":\"white\",\"minorgridcolor\":\"white\",\"startlinecolor\":\"#2a3f5f\"},\"type\":\"carpet\"}],\"table\":[{\"cells\":{\"fill\":{\"color\":\"#EBF0F8\"},\"line\":{\"color\":\"white\"}},\"header\":{\"fill\":{\"color\":\"#C8D4E3\"},\"line\":{\"color\":\"white\"}},\"type\":\"table\"}],\"barpolar\":[{\"marker\":{\"line\":{\"color\":\"#E5ECF6\",\"width\":0.5},\"pattern\":{\"fillmode\":\"overlay\",\"size\":10,\"solidity\":0.2}},\"type\":\"barpolar\"}],\"pie\":[{\"automargin\":true,\"type\":\"pie\"}]},\"layout\":{\"autotypenumbers\":\"strict\",\"colorway\":[\"#636efa\",\"#EF553B\",\"#00cc96\",\"#ab63fa\",\"#FFA15A\",\"#19d3f3\",\"#FF6692\",\"#B6E880\",\"#FF97FF\",\"#FECB52\"],\"font\":{\"color\":\"#2a3f5f\"},\"hovermode\":\"closest\",\"hoverlabel\":{\"align\":\"left\"},\"paper_bgcolor\":\"white\",\"plot_bgcolor\":\"#E5ECF6\",\"polar\":{\"bgcolor\":\"#E5ECF6\",\"angularaxis\":{\"gridcolor\":\"white\",\"linecolor\":\"white\",\"ticks\":\"\"},\"radialaxis\":{\"gridcolor\":\"white\",\"linecolor\":\"white\",\"ticks\":\"\"}},\"ternary\":{\"bgcolor\":\"#E5ECF6\",\"aaxis\":{\"gridcolor\":\"white\",\"linecolor\":\"white\",\"ticks\":\"\"},\"baxis\":{\"gridcolor\":\"white\",\"linecolor\":\"white\",\"ticks\":\"\"},\"caxis\":{\"gridcolor\":\"white\",\"linecolor\":\"white\",\"ticks\":\"\"}},\"coloraxis\":{\"colorbar\":{\"outlinewidth\":0,\"ticks\":\"\"}},\"colorscale\":{\"sequential\":[[0.0,\"#0d0887\"],[0.1111111111111111,\"#46039f\"],[0.2222222222222222,\"#7201a8\"],[0.3333333333333333,\"#9c179e\"],[0.4444444444444444,\"#bd3786\"],[0.5555555555555556,\"#d8576b\"],[0.6666666666666666,\"#ed7953\"],[0.7777777777777778,\"#fb9f3a\"],[0.8888888888888888,\"#fdca26\"],[1.0,\"#f0f921\"]],\"sequentialminus\":[[0.0,\"#0d0887\"],[0.1111111111111111,\"#46039f\"],[0.2222222222222222,\"#7201a8\"],[0.3333333333333333,\"#9c179e\"],[0.4444444444444444,\"#bd3786\"],[0.5555555555555556,\"#d8576b\"],[0.6666666666666666,\"#ed7953\"],[0.7777777777777778,\"#fb9f3a\"],[0.8888888888888888,\"#fdca26\"],[1.0,\"#f0f921\"]],\"diverging\":[[0,\"#8e0152\"],[0.1,\"#c51b7d\"],[0.2,\"#de77ae\"],[0.3,\"#f1b6da\"],[0.4,\"#fde0ef\"],[0.5,\"#f7f7f7\"],[0.6,\"#e6f5d0\"],[0.7,\"#b8e186\"],[0.8,\"#7fbc41\"],[0.9,\"#4d9221\"],[1,\"#276419\"]]},\"xaxis\":{\"gridcolor\":\"white\",\"linecolor\":\"white\",\"ticks\":\"\",\"title\":{\"standoff\":15},\"zerolinecolor\":\"white\",\"automargin\":true,\"zerolinewidth\":2},\"yaxis\":{\"gridcolor\":\"white\",\"linecolor\":\"white\",\"ticks\":\"\",\"title\":{\"standoff\":15},\"zerolinecolor\":\"white\",\"automargin\":true,\"zerolinewidth\":2},\"scene\":{\"xaxis\":{\"backgroundcolor\":\"#E5ECF6\",\"gridcolor\":\"white\",\"linecolor\":\"white\",\"showbackground\":true,\"ticks\":\"\",\"zerolinecolor\":\"white\",\"gridwidth\":2},\"yaxis\":{\"backgroundcolor\":\"#E5ECF6\",\"gridcolor\":\"white\",\"linecolor\":\"white\",\"showbackground\":true,\"ticks\":\"\",\"zerolinecolor\":\"white\",\"gridwidth\":2},\"zaxis\":{\"backgroundcolor\":\"#E5ECF6\",\"gridcolor\":\"white\",\"linecolor\":\"white\",\"showbackground\":true,\"ticks\":\"\",\"zerolinecolor\":\"white\",\"gridwidth\":2}},\"shapedefaults\":{\"line\":{\"color\":\"#2a3f5f\"}},\"annotationdefaults\":{\"arrowcolor\":\"#2a3f5f\",\"arrowhead\":0,\"arrowwidth\":1},\"geo\":{\"bgcolor\":\"white\",\"landcolor\":\"#E5ECF6\",\"subunitcolor\":\"white\",\"showland\":true,\"showlakes\":true,\"lakecolor\":\"white\"},\"title\":{\"x\":0.05},\"mapbox\":{\"style\":\"light\"}}},\"geo\":{\"domain\":{\"x\":[0.0,1.0],\"y\":[0.0,1.0]},\"projection\":{\"type\":\"natural earth\"},\"center\":{}},\"coloraxis\":{\"colorbar\":{\"title\":{\"text\":\"WDIStreetSafety_2019\"}},\"colorscale\":[[0.0,\"#0d0887\"],[0.1111111111111111,\"#46039f\"],[0.2222222222222222,\"#7201a8\"],[0.3333333333333333,\"#9c179e\"],[0.4444444444444444,\"#bd3786\"],[0.5555555555555556,\"#d8576b\"],[0.6666666666666666,\"#ed7953\"],[0.7777777777777778,\"#fb9f3a\"],[0.8888888888888888,\"#fdca26\"],[1.0,\"#f0f921\"]]},\"legend\":{\"tracegroupgap\":0},\"title\":{\"text\":\"WDIStreetSafety_2019\"}},                        {\"responsive\": true}                    ).then(function(){\n",
       "                            \n",
       "var gd = document.getElementById('700aa79e-65e7-4a1a-8b83-0aadd604adc4');\n",
       "var x = new MutationObserver(function (mutations, observer) {{\n",
       "        var display = window.getComputedStyle(gd).display;\n",
       "        if (!display || display === 'none') {{\n",
       "            console.log([gd, 'removed!']);\n",
       "            Plotly.purge(gd);\n",
       "            observer.disconnect();\n",
       "        }}\n",
       "}});\n",
       "\n",
       "// Listen for the removal of the full notebook cells\n",
       "var notebookContainer = gd.closest('#notebook-container');\n",
       "if (notebookContainer) {{\n",
       "    x.observe(notebookContainer, {childList: true});\n",
       "}}\n",
       "\n",
       "// Listen for the clearing of the current output cell\n",
       "var outputEl = gd.closest('.output');\n",
       "if (outputEl) {{\n",
       "    x.observe(outputEl, {childList: true});\n",
       "}}\n",
       "\n",
       "                        })                };                });            </script>        </div>"
      ]
     },
     "metadata": {},
     "output_type": "display_data"
    },
    {
     "data": {
      "application/vnd.plotly.v1+json": {
       "data": [
        {
         "coloraxis": "coloraxis",
         "geo": "geo",
         "hovertemplate": "<b>%{hovertext}</b><br><br>iso_alpha=%{location}<br>WDIIntentionalHomicide_2019=%{z}<extra></extra>",
         "hovertext": [
          "India",
          "China",
          "United States",
          "Indonesia",
          "Pakistan",
          "Nigeria",
          "Brazil",
          "Bangladesh",
          "Russia",
          "Ethiopia",
          "Mexico",
          "Japan",
          "Egypt",
          "Philippines",
          "DR Congo",
          "Vietnam",
          "Iran",
          "Germany",
          "Thailand",
          "United Kingdom",
          "Tanzania",
          "France",
          "South Africa",
          "Italy",
          "Kenya",
          "Myanmar",
          "Colombia",
          "South Korea",
          "Sudan",
          "Uganda",
          "Spain",
          "Algeria",
          "Iraq",
          "Argentina",
          "Afghanistan",
          "Yemen",
          "Canada",
          "Poland",
          "Morocco",
          "Angola",
          "Ukraine",
          "Uzbekistan",
          "Malaysia",
          "Mozambique",
          "Ghana",
          "Peru",
          "Saudi Arabia",
          "Madagascar",
          "Nepal",
          "Cameroon",
          "Venezuela",
          "Niger",
          "Australia",
          "Syria",
          "Mali",
          "Burkina Faso",
          "Taiwan",
          "Sri Lanka",
          "Malawi",
          "Zambia",
          "Kazakhstan",
          "Chad",
          "Chile",
          "Romania",
          "Somalia",
          "Senegal",
          "Guatemala",
          "Netherlands",
          "Ecuador",
          "Cambodia",
          "Zimbabwe",
          "Guinea",
          "Benin",
          "Rwanda",
          "Burundi",
          "Bolivia",
          "Tunisia",
          "South Sudan",
          "Haiti",
          "Belgium",
          "Jordan",
          "Dominican Republic",
          "United Arab Emirates",
          "Honduras",
          "Czech Republic",
          "Sweden",
          "Tajikistan",
          "Papua New Guinea",
          "Portugal",
          "Azerbaijan",
          "Greece",
          "Hungary",
          "Togo",
          "Israel",
          "Austria",
          "Belarus",
          "Switzerland",
          "Sierra Leone",
          "Laos",
          "Turkmenistan",
          "Hong Kong",
          "Libya",
          "Kyrgyzstan",
          "Paraguay",
          "Nicaragua",
          "Bulgaria",
          "Serbia",
          "El Salvador",
          "Republic of the Congo",
          "Denmark",
          "Singapore",
          "Lebanon",
          "Finland",
          "Liberia",
          "Norway",
          "Slovakia",
          "Palestine",
          "Central African Republic",
          "Oman",
          "Ireland",
          "New Zealand",
          "Mauritania",
          "Costa Rica",
          "Kuwait",
          "Panama",
          "Croatia",
          "Georgia",
          "Mongolia",
          "Uruguay",
          "Puerto Rico",
          "Bosnia and Herzegovina",
          "Qatar",
          "Moldova",
          "Namibia",
          "Armenia",
          "Lithuania",
          "Jamaica",
          "Albania",
          "Gambia",
          "Gabon",
          "Botswana",
          "Lesotho",
          "Guinea-Bissau",
          "Slovenia",
          "Equatorial Guinea",
          "Latvia",
          "North Macedonia",
          "Bahrain",
          "Trinidad and Tobago",
          "Timor-Leste",
          "Estonia",
          "Cyprus",
          "Mauritius",
          "Eswatini",
          "Djibouti",
          "Fiji",
          "Comoros",
          "Guyana",
          "Solomon Islands",
          "Bhutan",
          "Luxembourg",
          "Montenegro",
          "Suriname",
          "Malta",
          "Maldives",
          "Cape Verde",
          "Belize",
          "Iceland",
          "Vanuatu",
          "Barbados",
          "Sao Tome and Principe",
          "Samoa",
          "Seychelles",
          "Tonga"
         ],
         "locations": [
          "IND",
          "CHN",
          "USA",
          "IDN",
          "PAK",
          "NGA",
          "BRA",
          "BGD",
          "change",
          "ETH",
          "MEX",
          "JPN",
          "EGY",
          "PHL",
          "change",
          "change",
          "change",
          "DEU",
          "THA",
          "GBR",
          "change",
          "FRA",
          "ZAF",
          "ITA",
          "KEN",
          "MMR",
          "COL",
          "change",
          "SDN",
          "UGA",
          "ESP",
          "DZA",
          "IRQ",
          "ARG",
          "AFG",
          "YEM",
          "CAN",
          "POL",
          "MAR",
          "AGO",
          "UKR",
          "UZB",
          "MYS",
          "MOZ",
          "GHA",
          "PER",
          "SAU",
          "MDG",
          "NPL",
          "CMR",
          "change",
          "NER",
          "AUS",
          "change",
          "MLI",
          "BFA",
          "change",
          "LKA",
          "MWI",
          "ZMB",
          "KAZ",
          "TCD",
          "CHL",
          "ROU",
          "SOM",
          "SEN",
          "GTM",
          "NLD",
          "ECU",
          "KHM",
          "ZWE",
          "GIN",
          "BEN",
          "RWA",
          "BDI",
          "change",
          "TUN",
          "SSD",
          "HTI",
          "BEL",
          "JOR",
          "DOM",
          "ARE",
          "HND",
          "change",
          "SWE",
          "TJK",
          "PNG",
          "PRT",
          "AZE",
          "GRC",
          "HUN",
          "TGO",
          "ISR",
          "AUT",
          "BLR",
          "CHE",
          "SLE",
          "change",
          "TKM",
          "HKG",
          "LBY",
          "KGZ",
          "PRY",
          "NIC",
          "BGR",
          "SRB",
          "SLV",
          "change",
          "DNK",
          "SGP",
          "LBN",
          "FIN",
          "LBR",
          "NOR",
          "SVK",
          "change",
          "CAF",
          "OMN",
          "IRL",
          "NZL",
          "MRT",
          "CRI",
          "KWT",
          "PAN",
          "HRV",
          "GEO",
          "MNG",
          "URY",
          "PRI",
          "BIH",
          "QAT",
          "change",
          "NAM",
          "ARM",
          "LTU",
          "JAM",
          "ALB",
          "GMB",
          "GAB",
          "BWA",
          "LSO",
          "GNB",
          "SVN",
          "GNQ",
          "LVA",
          "MKD",
          "BHR",
          "TTO",
          "TLS",
          "EST",
          "CYP",
          "MUS",
          "SWZ",
          "DJI",
          "FJI",
          "COM",
          "GUY",
          "SLB",
          "BTN",
          "LUX",
          "MNE",
          "SUR",
          "MLT",
          "MDV",
          "change",
          "BLZ",
          "ISL",
          "VUT",
          "BRB",
          "STP",
          "WSM",
          "SYC",
          "TON"
         ],
         "name": "",
         "z": [
          30.0,
          6.0,
          25.0,
          3.0,
          null,
          null,
          49.0,
          null,
          77.0,
          null,
          49.0,
          3.0,
          7.0,
          25.0,
          null,
          5.0,
          11.0,
          12.0,
          13.0,
          10.0,
          null,
          12.0,
          100.0,
          5.0,
          null,
          null,
          null,
          8.0,
          null,
          null,
          5.0,
          null,
          null,
          19.0,
          null,
          null,
          9.0,
          4.0,
          6.0,
          null,
          27.0,
          null,
          8.0,
          null,
          null,
          null,
          13.0,
          null,
          null,
          null,
          null,
          null,
          7.0,
          null,
          null,
          null,
          null,
          null,
          null,
          null,
          null,
          null,
          11.0,
          null,
          null,
          null,
          null,
          4.0,
          null,
          6.0,
          null,
          null,
          null,
          null,
          null,
          null,
          11.0,
          null,
          null,
          16.0,
          null,
          35.0,
          13.0,
          null,
          7.0,
          7.0,
          null,
          null,
          10.0,
          null,
          5.0,
          18.0,
          null,
          null,
          8.0,
          null,
          7.0,
          null,
          null,
          null,
          null,
          null,
          null,
          null,
          null,
          7.0,
          null,
          null,
          null,
          9.0,
          5.0,
          null,
          null,
          null,
          5.0,
          null,
          null,
          null,
          null,
          4.0,
          null,
          null,
          null,
          null,
          null,
          10.0,
          null,
          null,
          null,
          null,
          null,
          null,
          null,
          null,
          null,
          null,
          null,
          null,
          null,
          null,
          null,
          null,
          null,
          null,
          null,
          null,
          null,
          14.0,
          null,
          null,
          null,
          null,
          null,
          null,
          null,
          null,
          null,
          null,
          null,
          null,
          null,
          null,
          null,
          null,
          null,
          null,
          null,
          null,
          null,
          null,
          null,
          null,
          null,
          null
         ],
         "type": "choropleth"
        }
       ],
       "layout": {
        "template": {
         "data": {
          "histogram2dcontour": [
           {
            "type": "histogram2dcontour",
            "colorbar": {
             "outlinewidth": 0,
             "ticks": ""
            },
            "colorscale": [
             [
              0.0,
              "#0d0887"
             ],
             [
              0.1111111111111111,
              "#46039f"
             ],
             [
              0.2222222222222222,
              "#7201a8"
             ],
             [
              0.3333333333333333,
              "#9c179e"
             ],
             [
              0.4444444444444444,
              "#bd3786"
             ],
             [
              0.5555555555555556,
              "#d8576b"
             ],
             [
              0.6666666666666666,
              "#ed7953"
             ],
             [
              0.7777777777777778,
              "#fb9f3a"
             ],
             [
              0.8888888888888888,
              "#fdca26"
             ],
             [
              1.0,
              "#f0f921"
             ]
            ]
           }
          ],
          "choropleth": [
           {
            "type": "choropleth",
            "colorbar": {
             "outlinewidth": 0,
             "ticks": ""
            }
           }
          ],
          "histogram2d": [
           {
            "type": "histogram2d",
            "colorbar": {
             "outlinewidth": 0,
             "ticks": ""
            },
            "colorscale": [
             [
              0.0,
              "#0d0887"
             ],
             [
              0.1111111111111111,
              "#46039f"
             ],
             [
              0.2222222222222222,
              "#7201a8"
             ],
             [
              0.3333333333333333,
              "#9c179e"
             ],
             [
              0.4444444444444444,
              "#bd3786"
             ],
             [
              0.5555555555555556,
              "#d8576b"
             ],
             [
              0.6666666666666666,
              "#ed7953"
             ],
             [
              0.7777777777777778,
              "#fb9f3a"
             ],
             [
              0.8888888888888888,
              "#fdca26"
             ],
             [
              1.0,
              "#f0f921"
             ]
            ]
           }
          ],
          "heatmap": [
           {
            "type": "heatmap",
            "colorbar": {
             "outlinewidth": 0,
             "ticks": ""
            },
            "colorscale": [
             [
              0.0,
              "#0d0887"
             ],
             [
              0.1111111111111111,
              "#46039f"
             ],
             [
              0.2222222222222222,
              "#7201a8"
             ],
             [
              0.3333333333333333,
              "#9c179e"
             ],
             [
              0.4444444444444444,
              "#bd3786"
             ],
             [
              0.5555555555555556,
              "#d8576b"
             ],
             [
              0.6666666666666666,
              "#ed7953"
             ],
             [
              0.7777777777777778,
              "#fb9f3a"
             ],
             [
              0.8888888888888888,
              "#fdca26"
             ],
             [
              1.0,
              "#f0f921"
             ]
            ]
           }
          ],
          "heatmapgl": [
           {
            "type": "heatmapgl",
            "colorbar": {
             "outlinewidth": 0,
             "ticks": ""
            },
            "colorscale": [
             [
              0.0,
              "#0d0887"
             ],
             [
              0.1111111111111111,
              "#46039f"
             ],
             [
              0.2222222222222222,
              "#7201a8"
             ],
             [
              0.3333333333333333,
              "#9c179e"
             ],
             [
              0.4444444444444444,
              "#bd3786"
             ],
             [
              0.5555555555555556,
              "#d8576b"
             ],
             [
              0.6666666666666666,
              "#ed7953"
             ],
             [
              0.7777777777777778,
              "#fb9f3a"
             ],
             [
              0.8888888888888888,
              "#fdca26"
             ],
             [
              1.0,
              "#f0f921"
             ]
            ]
           }
          ],
          "contourcarpet": [
           {
            "type": "contourcarpet",
            "colorbar": {
             "outlinewidth": 0,
             "ticks": ""
            }
           }
          ],
          "contour": [
           {
            "type": "contour",
            "colorbar": {
             "outlinewidth": 0,
             "ticks": ""
            },
            "colorscale": [
             [
              0.0,
              "#0d0887"
             ],
             [
              0.1111111111111111,
              "#46039f"
             ],
             [
              0.2222222222222222,
              "#7201a8"
             ],
             [
              0.3333333333333333,
              "#9c179e"
             ],
             [
              0.4444444444444444,
              "#bd3786"
             ],
             [
              0.5555555555555556,
              "#d8576b"
             ],
             [
              0.6666666666666666,
              "#ed7953"
             ],
             [
              0.7777777777777778,
              "#fb9f3a"
             ],
             [
              0.8888888888888888,
              "#fdca26"
             ],
             [
              1.0,
              "#f0f921"
             ]
            ]
           }
          ],
          "surface": [
           {
            "type": "surface",
            "colorbar": {
             "outlinewidth": 0,
             "ticks": ""
            },
            "colorscale": [
             [
              0.0,
              "#0d0887"
             ],
             [
              0.1111111111111111,
              "#46039f"
             ],
             [
              0.2222222222222222,
              "#7201a8"
             ],
             [
              0.3333333333333333,
              "#9c179e"
             ],
             [
              0.4444444444444444,
              "#bd3786"
             ],
             [
              0.5555555555555556,
              "#d8576b"
             ],
             [
              0.6666666666666666,
              "#ed7953"
             ],
             [
              0.7777777777777778,
              "#fb9f3a"
             ],
             [
              0.8888888888888888,
              "#fdca26"
             ],
             [
              1.0,
              "#f0f921"
             ]
            ]
           }
          ],
          "mesh3d": [
           {
            "type": "mesh3d",
            "colorbar": {
             "outlinewidth": 0,
             "ticks": ""
            }
           }
          ],
          "scatter": [
           {
            "fillpattern": {
             "fillmode": "overlay",
             "size": 10,
             "solidity": 0.2
            },
            "type": "scatter"
           }
          ],
          "parcoords": [
           {
            "type": "parcoords",
            "line": {
             "colorbar": {
              "outlinewidth": 0,
              "ticks": ""
             }
            }
           }
          ],
          "scatterpolargl": [
           {
            "type": "scatterpolargl",
            "marker": {
             "colorbar": {
              "outlinewidth": 0,
              "ticks": ""
             }
            }
           }
          ],
          "bar": [
           {
            "error_x": {
             "color": "#2a3f5f"
            },
            "error_y": {
             "color": "#2a3f5f"
            },
            "marker": {
             "line": {
              "color": "#E5ECF6",
              "width": 0.5
             },
             "pattern": {
              "fillmode": "overlay",
              "size": 10,
              "solidity": 0.2
             }
            },
            "type": "bar"
           }
          ],
          "scattergeo": [
           {
            "type": "scattergeo",
            "marker": {
             "colorbar": {
              "outlinewidth": 0,
              "ticks": ""
             }
            }
           }
          ],
          "scatterpolar": [
           {
            "type": "scatterpolar",
            "marker": {
             "colorbar": {
              "outlinewidth": 0,
              "ticks": ""
             }
            }
           }
          ],
          "histogram": [
           {
            "marker": {
             "pattern": {
              "fillmode": "overlay",
              "size": 10,
              "solidity": 0.2
             }
            },
            "type": "histogram"
           }
          ],
          "scattergl": [
           {
            "type": "scattergl",
            "marker": {
             "colorbar": {
              "outlinewidth": 0,
              "ticks": ""
             }
            }
           }
          ],
          "scatter3d": [
           {
            "type": "scatter3d",
            "line": {
             "colorbar": {
              "outlinewidth": 0,
              "ticks": ""
             }
            },
            "marker": {
             "colorbar": {
              "outlinewidth": 0,
              "ticks": ""
             }
            }
           }
          ],
          "scattermapbox": [
           {
            "type": "scattermapbox",
            "marker": {
             "colorbar": {
              "outlinewidth": 0,
              "ticks": ""
             }
            }
           }
          ],
          "scatterternary": [
           {
            "type": "scatterternary",
            "marker": {
             "colorbar": {
              "outlinewidth": 0,
              "ticks": ""
             }
            }
           }
          ],
          "scattercarpet": [
           {
            "type": "scattercarpet",
            "marker": {
             "colorbar": {
              "outlinewidth": 0,
              "ticks": ""
             }
            }
           }
          ],
          "carpet": [
           {
            "aaxis": {
             "endlinecolor": "#2a3f5f",
             "gridcolor": "white",
             "linecolor": "white",
             "minorgridcolor": "white",
             "startlinecolor": "#2a3f5f"
            },
            "baxis": {
             "endlinecolor": "#2a3f5f",
             "gridcolor": "white",
             "linecolor": "white",
             "minorgridcolor": "white",
             "startlinecolor": "#2a3f5f"
            },
            "type": "carpet"
           }
          ],
          "table": [
           {
            "cells": {
             "fill": {
              "color": "#EBF0F8"
             },
             "line": {
              "color": "white"
             }
            },
            "header": {
             "fill": {
              "color": "#C8D4E3"
             },
             "line": {
              "color": "white"
             }
            },
            "type": "table"
           }
          ],
          "barpolar": [
           {
            "marker": {
             "line": {
              "color": "#E5ECF6",
              "width": 0.5
             },
             "pattern": {
              "fillmode": "overlay",
              "size": 10,
              "solidity": 0.2
             }
            },
            "type": "barpolar"
           }
          ],
          "pie": [
           {
            "automargin": true,
            "type": "pie"
           }
          ]
         },
         "layout": {
          "autotypenumbers": "strict",
          "colorway": [
           "#636efa",
           "#EF553B",
           "#00cc96",
           "#ab63fa",
           "#FFA15A",
           "#19d3f3",
           "#FF6692",
           "#B6E880",
           "#FF97FF",
           "#FECB52"
          ],
          "font": {
           "color": "#2a3f5f"
          },
          "hovermode": "closest",
          "hoverlabel": {
           "align": "left"
          },
          "paper_bgcolor": "white",
          "plot_bgcolor": "#E5ECF6",
          "polar": {
           "bgcolor": "#E5ECF6",
           "angularaxis": {
            "gridcolor": "white",
            "linecolor": "white",
            "ticks": ""
           },
           "radialaxis": {
            "gridcolor": "white",
            "linecolor": "white",
            "ticks": ""
           }
          },
          "ternary": {
           "bgcolor": "#E5ECF6",
           "aaxis": {
            "gridcolor": "white",
            "linecolor": "white",
            "ticks": ""
           },
           "baxis": {
            "gridcolor": "white",
            "linecolor": "white",
            "ticks": ""
           },
           "caxis": {
            "gridcolor": "white",
            "linecolor": "white",
            "ticks": ""
           }
          },
          "coloraxis": {
           "colorbar": {
            "outlinewidth": 0,
            "ticks": ""
           }
          },
          "colorscale": {
           "sequential": [
            [
             0.0,
             "#0d0887"
            ],
            [
             0.1111111111111111,
             "#46039f"
            ],
            [
             0.2222222222222222,
             "#7201a8"
            ],
            [
             0.3333333333333333,
             "#9c179e"
            ],
            [
             0.4444444444444444,
             "#bd3786"
            ],
            [
             0.5555555555555556,
             "#d8576b"
            ],
            [
             0.6666666666666666,
             "#ed7953"
            ],
            [
             0.7777777777777778,
             "#fb9f3a"
            ],
            [
             0.8888888888888888,
             "#fdca26"
            ],
            [
             1.0,
             "#f0f921"
            ]
           ],
           "sequentialminus": [
            [
             0.0,
             "#0d0887"
            ],
            [
             0.1111111111111111,
             "#46039f"
            ],
            [
             0.2222222222222222,
             "#7201a8"
            ],
            [
             0.3333333333333333,
             "#9c179e"
            ],
            [
             0.4444444444444444,
             "#bd3786"
            ],
            [
             0.5555555555555556,
             "#d8576b"
            ],
            [
             0.6666666666666666,
             "#ed7953"
            ],
            [
             0.7777777777777778,
             "#fb9f3a"
            ],
            [
             0.8888888888888888,
             "#fdca26"
            ],
            [
             1.0,
             "#f0f921"
            ]
           ],
           "diverging": [
            [
             0,
             "#8e0152"
            ],
            [
             0.1,
             "#c51b7d"
            ],
            [
             0.2,
             "#de77ae"
            ],
            [
             0.3,
             "#f1b6da"
            ],
            [
             0.4,
             "#fde0ef"
            ],
            [
             0.5,
             "#f7f7f7"
            ],
            [
             0.6,
             "#e6f5d0"
            ],
            [
             0.7,
             "#b8e186"
            ],
            [
             0.8,
             "#7fbc41"
            ],
            [
             0.9,
             "#4d9221"
            ],
            [
             1,
             "#276419"
            ]
           ]
          },
          "xaxis": {
           "gridcolor": "white",
           "linecolor": "white",
           "ticks": "",
           "title": {
            "standoff": 15
           },
           "zerolinecolor": "white",
           "automargin": true,
           "zerolinewidth": 2
          },
          "yaxis": {
           "gridcolor": "white",
           "linecolor": "white",
           "ticks": "",
           "title": {
            "standoff": 15
           },
           "zerolinecolor": "white",
           "automargin": true,
           "zerolinewidth": 2
          },
          "scene": {
           "xaxis": {
            "backgroundcolor": "#E5ECF6",
            "gridcolor": "white",
            "linecolor": "white",
            "showbackground": true,
            "ticks": "",
            "zerolinecolor": "white",
            "gridwidth": 2
           },
           "yaxis": {
            "backgroundcolor": "#E5ECF6",
            "gridcolor": "white",
            "linecolor": "white",
            "showbackground": true,
            "ticks": "",
            "zerolinecolor": "white",
            "gridwidth": 2
           },
           "zaxis": {
            "backgroundcolor": "#E5ECF6",
            "gridcolor": "white",
            "linecolor": "white",
            "showbackground": true,
            "ticks": "",
            "zerolinecolor": "white",
            "gridwidth": 2
           }
          },
          "shapedefaults": {
           "line": {
            "color": "#2a3f5f"
           }
          },
          "annotationdefaults": {
           "arrowcolor": "#2a3f5f",
           "arrowhead": 0,
           "arrowwidth": 1
          },
          "geo": {
           "bgcolor": "white",
           "landcolor": "#E5ECF6",
           "subunitcolor": "white",
           "showland": true,
           "showlakes": true,
           "lakecolor": "white"
          },
          "title": {
           "x": 0.05
          },
          "mapbox": {
           "style": "light"
          }
         }
        },
        "geo": {
         "domain": {
          "x": [
           0.0,
           1.0
          ],
          "y": [
           0.0,
           1.0
          ]
         },
         "projection": {
          "type": "natural earth"
         },
         "center": {}
        },
        "coloraxis": {
         "colorbar": {
          "title": {
           "text": "WDIIntentionalHomicide_2019"
          }
         },
         "colorscale": [
          [
           0.0,
           "#0d0887"
          ],
          [
           0.1111111111111111,
           "#46039f"
          ],
          [
           0.2222222222222222,
           "#7201a8"
          ],
          [
           0.3333333333333333,
           "#9c179e"
          ],
          [
           0.4444444444444444,
           "#bd3786"
          ],
          [
           0.5555555555555556,
           "#d8576b"
          ],
          [
           0.6666666666666666,
           "#ed7953"
          ],
          [
           0.7777777777777778,
           "#fb9f3a"
          ],
          [
           0.8888888888888888,
           "#fdca26"
          ],
          [
           1.0,
           "#f0f921"
          ]
         ]
        },
        "legend": {
         "tracegroupgap": 0
        },
        "title": {
         "text": "WDIIntentionalHomicide_2019"
        }
       },
       "config": {
        "plotlyServerURL": "https://plot.ly"
       }
      },
      "text/html": [
       "<div>                            <div id=\"b4bd8c33-82a8-4661-b933-f682b5429ea8\" class=\"plotly-graph-div\" style=\"height:525px; width:100%;\"></div>            <script type=\"text/javascript\">                require([\"plotly\"], function(Plotly) {                    window.PLOTLYENV=window.PLOTLYENV || {};                                    if (document.getElementById(\"b4bd8c33-82a8-4661-b933-f682b5429ea8\")) {                    Plotly.newPlot(                        \"b4bd8c33-82a8-4661-b933-f682b5429ea8\",                        [{\"coloraxis\":\"coloraxis\",\"geo\":\"geo\",\"hovertemplate\":\"\\u003cb\\u003e%{hovertext}\\u003c\\u002fb\\u003e\\u003cbr\\u003e\\u003cbr\\u003eiso_alpha=%{location}\\u003cbr\\u003eWDIIntentionalHomicide_2019=%{z}\\u003cextra\\u003e\\u003c\\u002fextra\\u003e\",\"hovertext\":[\"India\",\"China\",\"United States\",\"Indonesia\",\"Pakistan\",\"Nigeria\",\"Brazil\",\"Bangladesh\",\"Russia\",\"Ethiopia\",\"Mexico\",\"Japan\",\"Egypt\",\"Philippines\",\"DR Congo\",\"Vietnam\",\"Iran\",\"Germany\",\"Thailand\",\"United Kingdom\",\"Tanzania\",\"France\",\"South Africa\",\"Italy\",\"Kenya\",\"Myanmar\",\"Colombia\",\"South Korea\",\"Sudan\",\"Uganda\",\"Spain\",\"Algeria\",\"Iraq\",\"Argentina\",\"Afghanistan\",\"Yemen\",\"Canada\",\"Poland\",\"Morocco\",\"Angola\",\"Ukraine\",\"Uzbekistan\",\"Malaysia\",\"Mozambique\",\"Ghana\",\"Peru\",\"Saudi Arabia\",\"Madagascar\",\"Nepal\",\"Cameroon\",\"Venezuela\",\"Niger\",\"Australia\",\"Syria\",\"Mali\",\"Burkina Faso\",\"Taiwan\",\"Sri Lanka\",\"Malawi\",\"Zambia\",\"Kazakhstan\",\"Chad\",\"Chile\",\"Romania\",\"Somalia\",\"Senegal\",\"Guatemala\",\"Netherlands\",\"Ecuador\",\"Cambodia\",\"Zimbabwe\",\"Guinea\",\"Benin\",\"Rwanda\",\"Burundi\",\"Bolivia\",\"Tunisia\",\"South Sudan\",\"Haiti\",\"Belgium\",\"Jordan\",\"Dominican Republic\",\"United Arab Emirates\",\"Honduras\",\"Czech Republic\",\"Sweden\",\"Tajikistan\",\"Papua New Guinea\",\"Portugal\",\"Azerbaijan\",\"Greece\",\"Hungary\",\"Togo\",\"Israel\",\"Austria\",\"Belarus\",\"Switzerland\",\"Sierra Leone\",\"Laos\",\"Turkmenistan\",\"Hong Kong\",\"Libya\",\"Kyrgyzstan\",\"Paraguay\",\"Nicaragua\",\"Bulgaria\",\"Serbia\",\"El Salvador\",\"Republic of the Congo\",\"Denmark\",\"Singapore\",\"Lebanon\",\"Finland\",\"Liberia\",\"Norway\",\"Slovakia\",\"Palestine\",\"Central African Republic\",\"Oman\",\"Ireland\",\"New Zealand\",\"Mauritania\",\"Costa Rica\",\"Kuwait\",\"Panama\",\"Croatia\",\"Georgia\",\"Mongolia\",\"Uruguay\",\"Puerto Rico\",\"Bosnia and Herzegovina\",\"Qatar\",\"Moldova\",\"Namibia\",\"Armenia\",\"Lithuania\",\"Jamaica\",\"Albania\",\"Gambia\",\"Gabon\",\"Botswana\",\"Lesotho\",\"Guinea-Bissau\",\"Slovenia\",\"Equatorial Guinea\",\"Latvia\",\"North Macedonia\",\"Bahrain\",\"Trinidad and Tobago\",\"Timor-Leste\",\"Estonia\",\"Cyprus\",\"Mauritius\",\"Eswatini\",\"Djibouti\",\"Fiji\",\"Comoros\",\"Guyana\",\"Solomon Islands\",\"Bhutan\",\"Luxembourg\",\"Montenegro\",\"Suriname\",\"Malta\",\"Maldives\",\"Cape Verde\",\"Belize\",\"Iceland\",\"Vanuatu\",\"Barbados\",\"Sao Tome and Principe\",\"Samoa\",\"Seychelles\",\"Tonga\"],\"locations\":[\"IND\",\"CHN\",\"USA\",\"IDN\",\"PAK\",\"NGA\",\"BRA\",\"BGD\",\"change\",\"ETH\",\"MEX\",\"JPN\",\"EGY\",\"PHL\",\"change\",\"change\",\"change\",\"DEU\",\"THA\",\"GBR\",\"change\",\"FRA\",\"ZAF\",\"ITA\",\"KEN\",\"MMR\",\"COL\",\"change\",\"SDN\",\"UGA\",\"ESP\",\"DZA\",\"IRQ\",\"ARG\",\"AFG\",\"YEM\",\"CAN\",\"POL\",\"MAR\",\"AGO\",\"UKR\",\"UZB\",\"MYS\",\"MOZ\",\"GHA\",\"PER\",\"SAU\",\"MDG\",\"NPL\",\"CMR\",\"change\",\"NER\",\"AUS\",\"change\",\"MLI\",\"BFA\",\"change\",\"LKA\",\"MWI\",\"ZMB\",\"KAZ\",\"TCD\",\"CHL\",\"ROU\",\"SOM\",\"SEN\",\"GTM\",\"NLD\",\"ECU\",\"KHM\",\"ZWE\",\"GIN\",\"BEN\",\"RWA\",\"BDI\",\"change\",\"TUN\",\"SSD\",\"HTI\",\"BEL\",\"JOR\",\"DOM\",\"ARE\",\"HND\",\"change\",\"SWE\",\"TJK\",\"PNG\",\"PRT\",\"AZE\",\"GRC\",\"HUN\",\"TGO\",\"ISR\",\"AUT\",\"BLR\",\"CHE\",\"SLE\",\"change\",\"TKM\",\"HKG\",\"LBY\",\"KGZ\",\"PRY\",\"NIC\",\"BGR\",\"SRB\",\"SLV\",\"change\",\"DNK\",\"SGP\",\"LBN\",\"FIN\",\"LBR\",\"NOR\",\"SVK\",\"change\",\"CAF\",\"OMN\",\"IRL\",\"NZL\",\"MRT\",\"CRI\",\"KWT\",\"PAN\",\"HRV\",\"GEO\",\"MNG\",\"URY\",\"PRI\",\"BIH\",\"QAT\",\"change\",\"NAM\",\"ARM\",\"LTU\",\"JAM\",\"ALB\",\"GMB\",\"GAB\",\"BWA\",\"LSO\",\"GNB\",\"SVN\",\"GNQ\",\"LVA\",\"MKD\",\"BHR\",\"TTO\",\"TLS\",\"EST\",\"CYP\",\"MUS\",\"SWZ\",\"DJI\",\"FJI\",\"COM\",\"GUY\",\"SLB\",\"BTN\",\"LUX\",\"MNE\",\"SUR\",\"MLT\",\"MDV\",\"change\",\"BLZ\",\"ISL\",\"VUT\",\"BRB\",\"STP\",\"WSM\",\"SYC\",\"TON\"],\"name\":\"\",\"z\":[30.0,6.0,25.0,3.0,null,null,49.0,null,77.0,null,49.0,3.0,7.0,25.0,null,5.0,11.0,12.0,13.0,10.0,null,12.0,100.0,5.0,null,null,null,8.0,null,null,5.0,null,null,19.0,null,null,9.0,4.0,6.0,null,27.0,null,8.0,null,null,null,13.0,null,null,null,null,null,7.0,null,null,null,null,null,null,null,null,null,11.0,null,null,null,null,4.0,null,6.0,null,null,null,null,null,null,11.0,null,null,16.0,null,35.0,13.0,null,7.0,7.0,null,null,10.0,null,5.0,18.0,null,null,8.0,null,7.0,null,null,null,null,null,null,null,null,7.0,null,null,null,9.0,5.0,null,null,null,5.0,null,null,null,null,4.0,null,null,null,null,null,10.0,null,null,null,null,null,null,null,null,null,null,null,null,null,null,null,null,null,null,null,null,null,14.0,null,null,null,null,null,null,null,null,null,null,null,null,null,null,null,null,null,null,null,null,null,null,null,null,null,null],\"type\":\"choropleth\"}],                        {\"template\":{\"data\":{\"histogram2dcontour\":[{\"type\":\"histogram2dcontour\",\"colorbar\":{\"outlinewidth\":0,\"ticks\":\"\"},\"colorscale\":[[0.0,\"#0d0887\"],[0.1111111111111111,\"#46039f\"],[0.2222222222222222,\"#7201a8\"],[0.3333333333333333,\"#9c179e\"],[0.4444444444444444,\"#bd3786\"],[0.5555555555555556,\"#d8576b\"],[0.6666666666666666,\"#ed7953\"],[0.7777777777777778,\"#fb9f3a\"],[0.8888888888888888,\"#fdca26\"],[1.0,\"#f0f921\"]]}],\"choropleth\":[{\"type\":\"choropleth\",\"colorbar\":{\"outlinewidth\":0,\"ticks\":\"\"}}],\"histogram2d\":[{\"type\":\"histogram2d\",\"colorbar\":{\"outlinewidth\":0,\"ticks\":\"\"},\"colorscale\":[[0.0,\"#0d0887\"],[0.1111111111111111,\"#46039f\"],[0.2222222222222222,\"#7201a8\"],[0.3333333333333333,\"#9c179e\"],[0.4444444444444444,\"#bd3786\"],[0.5555555555555556,\"#d8576b\"],[0.6666666666666666,\"#ed7953\"],[0.7777777777777778,\"#fb9f3a\"],[0.8888888888888888,\"#fdca26\"],[1.0,\"#f0f921\"]]}],\"heatmap\":[{\"type\":\"heatmap\",\"colorbar\":{\"outlinewidth\":0,\"ticks\":\"\"},\"colorscale\":[[0.0,\"#0d0887\"],[0.1111111111111111,\"#46039f\"],[0.2222222222222222,\"#7201a8\"],[0.3333333333333333,\"#9c179e\"],[0.4444444444444444,\"#bd3786\"],[0.5555555555555556,\"#d8576b\"],[0.6666666666666666,\"#ed7953\"],[0.7777777777777778,\"#fb9f3a\"],[0.8888888888888888,\"#fdca26\"],[1.0,\"#f0f921\"]]}],\"heatmapgl\":[{\"type\":\"heatmapgl\",\"colorbar\":{\"outlinewidth\":0,\"ticks\":\"\"},\"colorscale\":[[0.0,\"#0d0887\"],[0.1111111111111111,\"#46039f\"],[0.2222222222222222,\"#7201a8\"],[0.3333333333333333,\"#9c179e\"],[0.4444444444444444,\"#bd3786\"],[0.5555555555555556,\"#d8576b\"],[0.6666666666666666,\"#ed7953\"],[0.7777777777777778,\"#fb9f3a\"],[0.8888888888888888,\"#fdca26\"],[1.0,\"#f0f921\"]]}],\"contourcarpet\":[{\"type\":\"contourcarpet\",\"colorbar\":{\"outlinewidth\":0,\"ticks\":\"\"}}],\"contour\":[{\"type\":\"contour\",\"colorbar\":{\"outlinewidth\":0,\"ticks\":\"\"},\"colorscale\":[[0.0,\"#0d0887\"],[0.1111111111111111,\"#46039f\"],[0.2222222222222222,\"#7201a8\"],[0.3333333333333333,\"#9c179e\"],[0.4444444444444444,\"#bd3786\"],[0.5555555555555556,\"#d8576b\"],[0.6666666666666666,\"#ed7953\"],[0.7777777777777778,\"#fb9f3a\"],[0.8888888888888888,\"#fdca26\"],[1.0,\"#f0f921\"]]}],\"surface\":[{\"type\":\"surface\",\"colorbar\":{\"outlinewidth\":0,\"ticks\":\"\"},\"colorscale\":[[0.0,\"#0d0887\"],[0.1111111111111111,\"#46039f\"],[0.2222222222222222,\"#7201a8\"],[0.3333333333333333,\"#9c179e\"],[0.4444444444444444,\"#bd3786\"],[0.5555555555555556,\"#d8576b\"],[0.6666666666666666,\"#ed7953\"],[0.7777777777777778,\"#fb9f3a\"],[0.8888888888888888,\"#fdca26\"],[1.0,\"#f0f921\"]]}],\"mesh3d\":[{\"type\":\"mesh3d\",\"colorbar\":{\"outlinewidth\":0,\"ticks\":\"\"}}],\"scatter\":[{\"fillpattern\":{\"fillmode\":\"overlay\",\"size\":10,\"solidity\":0.2},\"type\":\"scatter\"}],\"parcoords\":[{\"type\":\"parcoords\",\"line\":{\"colorbar\":{\"outlinewidth\":0,\"ticks\":\"\"}}}],\"scatterpolargl\":[{\"type\":\"scatterpolargl\",\"marker\":{\"colorbar\":{\"outlinewidth\":0,\"ticks\":\"\"}}}],\"bar\":[{\"error_x\":{\"color\":\"#2a3f5f\"},\"error_y\":{\"color\":\"#2a3f5f\"},\"marker\":{\"line\":{\"color\":\"#E5ECF6\",\"width\":0.5},\"pattern\":{\"fillmode\":\"overlay\",\"size\":10,\"solidity\":0.2}},\"type\":\"bar\"}],\"scattergeo\":[{\"type\":\"scattergeo\",\"marker\":{\"colorbar\":{\"outlinewidth\":0,\"ticks\":\"\"}}}],\"scatterpolar\":[{\"type\":\"scatterpolar\",\"marker\":{\"colorbar\":{\"outlinewidth\":0,\"ticks\":\"\"}}}],\"histogram\":[{\"marker\":{\"pattern\":{\"fillmode\":\"overlay\",\"size\":10,\"solidity\":0.2}},\"type\":\"histogram\"}],\"scattergl\":[{\"type\":\"scattergl\",\"marker\":{\"colorbar\":{\"outlinewidth\":0,\"ticks\":\"\"}}}],\"scatter3d\":[{\"type\":\"scatter3d\",\"line\":{\"colorbar\":{\"outlinewidth\":0,\"ticks\":\"\"}},\"marker\":{\"colorbar\":{\"outlinewidth\":0,\"ticks\":\"\"}}}],\"scattermapbox\":[{\"type\":\"scattermapbox\",\"marker\":{\"colorbar\":{\"outlinewidth\":0,\"ticks\":\"\"}}}],\"scatterternary\":[{\"type\":\"scatterternary\",\"marker\":{\"colorbar\":{\"outlinewidth\":0,\"ticks\":\"\"}}}],\"scattercarpet\":[{\"type\":\"scattercarpet\",\"marker\":{\"colorbar\":{\"outlinewidth\":0,\"ticks\":\"\"}}}],\"carpet\":[{\"aaxis\":{\"endlinecolor\":\"#2a3f5f\",\"gridcolor\":\"white\",\"linecolor\":\"white\",\"minorgridcolor\":\"white\",\"startlinecolor\":\"#2a3f5f\"},\"baxis\":{\"endlinecolor\":\"#2a3f5f\",\"gridcolor\":\"white\",\"linecolor\":\"white\",\"minorgridcolor\":\"white\",\"startlinecolor\":\"#2a3f5f\"},\"type\":\"carpet\"}],\"table\":[{\"cells\":{\"fill\":{\"color\":\"#EBF0F8\"},\"line\":{\"color\":\"white\"}},\"header\":{\"fill\":{\"color\":\"#C8D4E3\"},\"line\":{\"color\":\"white\"}},\"type\":\"table\"}],\"barpolar\":[{\"marker\":{\"line\":{\"color\":\"#E5ECF6\",\"width\":0.5},\"pattern\":{\"fillmode\":\"overlay\",\"size\":10,\"solidity\":0.2}},\"type\":\"barpolar\"}],\"pie\":[{\"automargin\":true,\"type\":\"pie\"}]},\"layout\":{\"autotypenumbers\":\"strict\",\"colorway\":[\"#636efa\",\"#EF553B\",\"#00cc96\",\"#ab63fa\",\"#FFA15A\",\"#19d3f3\",\"#FF6692\",\"#B6E880\",\"#FF97FF\",\"#FECB52\"],\"font\":{\"color\":\"#2a3f5f\"},\"hovermode\":\"closest\",\"hoverlabel\":{\"align\":\"left\"},\"paper_bgcolor\":\"white\",\"plot_bgcolor\":\"#E5ECF6\",\"polar\":{\"bgcolor\":\"#E5ECF6\",\"angularaxis\":{\"gridcolor\":\"white\",\"linecolor\":\"white\",\"ticks\":\"\"},\"radialaxis\":{\"gridcolor\":\"white\",\"linecolor\":\"white\",\"ticks\":\"\"}},\"ternary\":{\"bgcolor\":\"#E5ECF6\",\"aaxis\":{\"gridcolor\":\"white\",\"linecolor\":\"white\",\"ticks\":\"\"},\"baxis\":{\"gridcolor\":\"white\",\"linecolor\":\"white\",\"ticks\":\"\"},\"caxis\":{\"gridcolor\":\"white\",\"linecolor\":\"white\",\"ticks\":\"\"}},\"coloraxis\":{\"colorbar\":{\"outlinewidth\":0,\"ticks\":\"\"}},\"colorscale\":{\"sequential\":[[0.0,\"#0d0887\"],[0.1111111111111111,\"#46039f\"],[0.2222222222222222,\"#7201a8\"],[0.3333333333333333,\"#9c179e\"],[0.4444444444444444,\"#bd3786\"],[0.5555555555555556,\"#d8576b\"],[0.6666666666666666,\"#ed7953\"],[0.7777777777777778,\"#fb9f3a\"],[0.8888888888888888,\"#fdca26\"],[1.0,\"#f0f921\"]],\"sequentialminus\":[[0.0,\"#0d0887\"],[0.1111111111111111,\"#46039f\"],[0.2222222222222222,\"#7201a8\"],[0.3333333333333333,\"#9c179e\"],[0.4444444444444444,\"#bd3786\"],[0.5555555555555556,\"#d8576b\"],[0.6666666666666666,\"#ed7953\"],[0.7777777777777778,\"#fb9f3a\"],[0.8888888888888888,\"#fdca26\"],[1.0,\"#f0f921\"]],\"diverging\":[[0,\"#8e0152\"],[0.1,\"#c51b7d\"],[0.2,\"#de77ae\"],[0.3,\"#f1b6da\"],[0.4,\"#fde0ef\"],[0.5,\"#f7f7f7\"],[0.6,\"#e6f5d0\"],[0.7,\"#b8e186\"],[0.8,\"#7fbc41\"],[0.9,\"#4d9221\"],[1,\"#276419\"]]},\"xaxis\":{\"gridcolor\":\"white\",\"linecolor\":\"white\",\"ticks\":\"\",\"title\":{\"standoff\":15},\"zerolinecolor\":\"white\",\"automargin\":true,\"zerolinewidth\":2},\"yaxis\":{\"gridcolor\":\"white\",\"linecolor\":\"white\",\"ticks\":\"\",\"title\":{\"standoff\":15},\"zerolinecolor\":\"white\",\"automargin\":true,\"zerolinewidth\":2},\"scene\":{\"xaxis\":{\"backgroundcolor\":\"#E5ECF6\",\"gridcolor\":\"white\",\"linecolor\":\"white\",\"showbackground\":true,\"ticks\":\"\",\"zerolinecolor\":\"white\",\"gridwidth\":2},\"yaxis\":{\"backgroundcolor\":\"#E5ECF6\",\"gridcolor\":\"white\",\"linecolor\":\"white\",\"showbackground\":true,\"ticks\":\"\",\"zerolinecolor\":\"white\",\"gridwidth\":2},\"zaxis\":{\"backgroundcolor\":\"#E5ECF6\",\"gridcolor\":\"white\",\"linecolor\":\"white\",\"showbackground\":true,\"ticks\":\"\",\"zerolinecolor\":\"white\",\"gridwidth\":2}},\"shapedefaults\":{\"line\":{\"color\":\"#2a3f5f\"}},\"annotationdefaults\":{\"arrowcolor\":\"#2a3f5f\",\"arrowhead\":0,\"arrowwidth\":1},\"geo\":{\"bgcolor\":\"white\",\"landcolor\":\"#E5ECF6\",\"subunitcolor\":\"white\",\"showland\":true,\"showlakes\":true,\"lakecolor\":\"white\"},\"title\":{\"x\":0.05},\"mapbox\":{\"style\":\"light\"}}},\"geo\":{\"domain\":{\"x\":[0.0,1.0],\"y\":[0.0,1.0]},\"projection\":{\"type\":\"natural earth\"},\"center\":{}},\"coloraxis\":{\"colorbar\":{\"title\":{\"text\":\"WDIIntentionalHomicide_2019\"}},\"colorscale\":[[0.0,\"#0d0887\"],[0.1111111111111111,\"#46039f\"],[0.2222222222222222,\"#7201a8\"],[0.3333333333333333,\"#9c179e\"],[0.4444444444444444,\"#bd3786\"],[0.5555555555555556,\"#d8576b\"],[0.6666666666666666,\"#ed7953\"],[0.7777777777777778,\"#fb9f3a\"],[0.8888888888888888,\"#fdca26\"],[1.0,\"#f0f921\"]]},\"legend\":{\"tracegroupgap\":0},\"title\":{\"text\":\"WDIIntentionalHomicide_2019\"}},                        {\"responsive\": true}                    ).then(function(){\n",
       "                            \n",
       "var gd = document.getElementById('b4bd8c33-82a8-4661-b933-f682b5429ea8');\n",
       "var x = new MutationObserver(function (mutations, observer) {{\n",
       "        var display = window.getComputedStyle(gd).display;\n",
       "        if (!display || display === 'none') {{\n",
       "            console.log([gd, 'removed!']);\n",
       "            Plotly.purge(gd);\n",
       "            observer.disconnect();\n",
       "        }}\n",
       "}});\n",
       "\n",
       "// Listen for the removal of the full notebook cells\n",
       "var notebookContainer = gd.closest('#notebook-container');\n",
       "if (notebookContainer) {{\n",
       "    x.observe(notebookContainer, {childList: true});\n",
       "}}\n",
       "\n",
       "// Listen for the clearing of the current output cell\n",
       "var outputEl = gd.closest('.output');\n",
       "if (outputEl) {{\n",
       "    x.observe(outputEl, {childList: true});\n",
       "}}\n",
       "\n",
       "                        })                };                });            </script>        </div>"
      ]
     },
     "metadata": {},
     "output_type": "display_data"
    },
    {
     "data": {
      "application/vnd.plotly.v1+json": {
       "data": [
        {
         "coloraxis": "coloraxis",
         "geo": "geo",
         "hovertemplate": "<b>%{hovertext}</b><br><br>iso_alpha=%{location}<br>WDINonPartnerViolence_2019=%{z}<extra></extra>",
         "hovertext": [
          "India",
          "China",
          "United States",
          "Indonesia",
          "Pakistan",
          "Nigeria",
          "Brazil",
          "Bangladesh",
          "Russia",
          "Ethiopia",
          "Mexico",
          "Japan",
          "Egypt",
          "Philippines",
          "DR Congo",
          "Vietnam",
          "Iran",
          "Germany",
          "Thailand",
          "United Kingdom",
          "Tanzania",
          "France",
          "South Africa",
          "Italy",
          "Kenya",
          "Myanmar",
          "Colombia",
          "South Korea",
          "Sudan",
          "Uganda",
          "Spain",
          "Algeria",
          "Iraq",
          "Argentina",
          "Afghanistan",
          "Yemen",
          "Canada",
          "Poland",
          "Morocco",
          "Angola",
          "Ukraine",
          "Uzbekistan",
          "Malaysia",
          "Mozambique",
          "Ghana",
          "Peru",
          "Saudi Arabia",
          "Madagascar",
          "Nepal",
          "Cameroon",
          "Venezuela",
          "Niger",
          "Australia",
          "Syria",
          "Mali",
          "Burkina Faso",
          "Taiwan",
          "Sri Lanka",
          "Malawi",
          "Zambia",
          "Kazakhstan",
          "Chad",
          "Chile",
          "Romania",
          "Somalia",
          "Senegal",
          "Guatemala",
          "Netherlands",
          "Ecuador",
          "Cambodia",
          "Zimbabwe",
          "Guinea",
          "Benin",
          "Rwanda",
          "Burundi",
          "Bolivia",
          "Tunisia",
          "South Sudan",
          "Haiti",
          "Belgium",
          "Jordan",
          "Dominican Republic",
          "United Arab Emirates",
          "Honduras",
          "Czech Republic",
          "Sweden",
          "Tajikistan",
          "Papua New Guinea",
          "Portugal",
          "Azerbaijan",
          "Greece",
          "Hungary",
          "Togo",
          "Israel",
          "Austria",
          "Belarus",
          "Switzerland",
          "Sierra Leone",
          "Laos",
          "Turkmenistan",
          "Hong Kong",
          "Libya",
          "Kyrgyzstan",
          "Paraguay",
          "Nicaragua",
          "Bulgaria",
          "Serbia",
          "El Salvador",
          "Republic of the Congo",
          "Denmark",
          "Singapore",
          "Lebanon",
          "Finland",
          "Liberia",
          "Norway",
          "Slovakia",
          "Palestine",
          "Central African Republic",
          "Oman",
          "Ireland",
          "New Zealand",
          "Mauritania",
          "Costa Rica",
          "Kuwait",
          "Panama",
          "Croatia",
          "Georgia",
          "Mongolia",
          "Uruguay",
          "Puerto Rico",
          "Bosnia and Herzegovina",
          "Qatar",
          "Moldova",
          "Namibia",
          "Armenia",
          "Lithuania",
          "Jamaica",
          "Albania",
          "Gambia",
          "Gabon",
          "Botswana",
          "Lesotho",
          "Guinea-Bissau",
          "Slovenia",
          "Equatorial Guinea",
          "Latvia",
          "North Macedonia",
          "Bahrain",
          "Trinidad and Tobago",
          "Timor-Leste",
          "Estonia",
          "Cyprus",
          "Mauritius",
          "Eswatini",
          "Djibouti",
          "Fiji",
          "Comoros",
          "Guyana",
          "Solomon Islands",
          "Bhutan",
          "Luxembourg",
          "Montenegro",
          "Suriname",
          "Malta",
          "Maldives",
          "Cape Verde",
          "Belize",
          "Iceland",
          "Vanuatu",
          "Barbados",
          "Sao Tome and Principe",
          "Samoa",
          "Seychelles",
          "Tonga"
         ],
         "locations": [
          "IND",
          "CHN",
          "USA",
          "IDN",
          "PAK",
          "NGA",
          "BRA",
          "BGD",
          "change",
          "ETH",
          "MEX",
          "JPN",
          "EGY",
          "PHL",
          "change",
          "change",
          "change",
          "DEU",
          "THA",
          "GBR",
          "change",
          "FRA",
          "ZAF",
          "ITA",
          "KEN",
          "MMR",
          "COL",
          "change",
          "SDN",
          "UGA",
          "ESP",
          "DZA",
          "IRQ",
          "ARG",
          "AFG",
          "YEM",
          "CAN",
          "POL",
          "MAR",
          "AGO",
          "UKR",
          "UZB",
          "MYS",
          "MOZ",
          "GHA",
          "PER",
          "SAU",
          "MDG",
          "NPL",
          "CMR",
          "change",
          "NER",
          "AUS",
          "change",
          "MLI",
          "BFA",
          "change",
          "LKA",
          "MWI",
          "ZMB",
          "KAZ",
          "TCD",
          "CHL",
          "ROU",
          "SOM",
          "SEN",
          "GTM",
          "NLD",
          "ECU",
          "KHM",
          "ZWE",
          "GIN",
          "BEN",
          "RWA",
          "BDI",
          "change",
          "TUN",
          "SSD",
          "HTI",
          "BEL",
          "JOR",
          "DOM",
          "ARE",
          "HND",
          "change",
          "SWE",
          "TJK",
          "PNG",
          "PRT",
          "AZE",
          "GRC",
          "HUN",
          "TGO",
          "ISR",
          "AUT",
          "BLR",
          "CHE",
          "SLE",
          "change",
          "TKM",
          "HKG",
          "LBY",
          "KGZ",
          "PRY",
          "NIC",
          "BGR",
          "SRB",
          "SLV",
          "change",
          "DNK",
          "SGP",
          "LBN",
          "FIN",
          "LBR",
          "NOR",
          "SVK",
          "change",
          "CAF",
          "OMN",
          "IRL",
          "NZL",
          "MRT",
          "CRI",
          "KWT",
          "PAN",
          "HRV",
          "GEO",
          "MNG",
          "URY",
          "PRI",
          "BIH",
          "QAT",
          "change",
          "NAM",
          "ARM",
          "LTU",
          "JAM",
          "ALB",
          "GMB",
          "GAB",
          "BWA",
          "LSO",
          "GNB",
          "SVN",
          "GNQ",
          "LVA",
          "MKD",
          "BHR",
          "TTO",
          "TLS",
          "EST",
          "CYP",
          "MUS",
          "SWZ",
          "DJI",
          "FJI",
          "COM",
          "GUY",
          "SLB",
          "BTN",
          "LUX",
          "MNE",
          "SUR",
          "MLT",
          "MDV",
          "change",
          "BLZ",
          "ISL",
          "VUT",
          "BRB",
          "STP",
          "WSM",
          "SYC",
          "TON"
         ],
         "name": "",
         "z": [
          19.0,
          70.0,
          75.0,
          30.0,
          null,
          null,
          44.0,
          null,
          40.0,
          null,
          88.0,
          70.0,
          26.0,
          30.0,
          null,
          11.0,
          26.0,
          40.0,
          30.0,
          40.0,
          null,
          52.0,
          100.0,
          29.0,
          null,
          null,
          null,
          70.0,
          null,
          null,
          17.0,
          null,
          null,
          34.0,
          null,
          null,
          75.0,
          11.0,
          26.0,
          null,
          6.0,
          null,
          30.0,
          null,
          null,
          null,
          30.0,
          null,
          null,
          null,
          null,
          null,
          95.0,
          null,
          null,
          null,
          null,
          null,
          null,
          null,
          null,
          null,
          34.0,
          null,
          null,
          null,
          null,
          69.0,
          null,
          23.0,
          null,
          null,
          null,
          null,
          null,
          null,
          26.0,
          null,
          null,
          46.0,
          null,
          59.0,
          26.0,
          null,
          23.0,
          69.0,
          null,
          null,
          6.0,
          null,
          6.0,
          17.0,
          null,
          null,
          23.0,
          null,
          66.0,
          null,
          null,
          null,
          null,
          null,
          null,
          null,
          null,
          34.0,
          null,
          null,
          null,
          63.0,
          19.0,
          null,
          null,
          null,
          66.0,
          null,
          null,
          null,
          null,
          29.0,
          null,
          null,
          null,
          null,
          null,
          17.0,
          null,
          null,
          null,
          null,
          null,
          null,
          null,
          null,
          null,
          null,
          null,
          null,
          null,
          null,
          null,
          null,
          null,
          null,
          null,
          null,
          null,
          26.0,
          null,
          null,
          null,
          null,
          null,
          null,
          null,
          null,
          null,
          null,
          null,
          null,
          null,
          null,
          null,
          null,
          null,
          null,
          null,
          null,
          null,
          null,
          null,
          null,
          null,
          null
         ],
         "type": "choropleth"
        }
       ],
       "layout": {
        "template": {
         "data": {
          "histogram2dcontour": [
           {
            "type": "histogram2dcontour",
            "colorbar": {
             "outlinewidth": 0,
             "ticks": ""
            },
            "colorscale": [
             [
              0.0,
              "#0d0887"
             ],
             [
              0.1111111111111111,
              "#46039f"
             ],
             [
              0.2222222222222222,
              "#7201a8"
             ],
             [
              0.3333333333333333,
              "#9c179e"
             ],
             [
              0.4444444444444444,
              "#bd3786"
             ],
             [
              0.5555555555555556,
              "#d8576b"
             ],
             [
              0.6666666666666666,
              "#ed7953"
             ],
             [
              0.7777777777777778,
              "#fb9f3a"
             ],
             [
              0.8888888888888888,
              "#fdca26"
             ],
             [
              1.0,
              "#f0f921"
             ]
            ]
           }
          ],
          "choropleth": [
           {
            "type": "choropleth",
            "colorbar": {
             "outlinewidth": 0,
             "ticks": ""
            }
           }
          ],
          "histogram2d": [
           {
            "type": "histogram2d",
            "colorbar": {
             "outlinewidth": 0,
             "ticks": ""
            },
            "colorscale": [
             [
              0.0,
              "#0d0887"
             ],
             [
              0.1111111111111111,
              "#46039f"
             ],
             [
              0.2222222222222222,
              "#7201a8"
             ],
             [
              0.3333333333333333,
              "#9c179e"
             ],
             [
              0.4444444444444444,
              "#bd3786"
             ],
             [
              0.5555555555555556,
              "#d8576b"
             ],
             [
              0.6666666666666666,
              "#ed7953"
             ],
             [
              0.7777777777777778,
              "#fb9f3a"
             ],
             [
              0.8888888888888888,
              "#fdca26"
             ],
             [
              1.0,
              "#f0f921"
             ]
            ]
           }
          ],
          "heatmap": [
           {
            "type": "heatmap",
            "colorbar": {
             "outlinewidth": 0,
             "ticks": ""
            },
            "colorscale": [
             [
              0.0,
              "#0d0887"
             ],
             [
              0.1111111111111111,
              "#46039f"
             ],
             [
              0.2222222222222222,
              "#7201a8"
             ],
             [
              0.3333333333333333,
              "#9c179e"
             ],
             [
              0.4444444444444444,
              "#bd3786"
             ],
             [
              0.5555555555555556,
              "#d8576b"
             ],
             [
              0.6666666666666666,
              "#ed7953"
             ],
             [
              0.7777777777777778,
              "#fb9f3a"
             ],
             [
              0.8888888888888888,
              "#fdca26"
             ],
             [
              1.0,
              "#f0f921"
             ]
            ]
           }
          ],
          "heatmapgl": [
           {
            "type": "heatmapgl",
            "colorbar": {
             "outlinewidth": 0,
             "ticks": ""
            },
            "colorscale": [
             [
              0.0,
              "#0d0887"
             ],
             [
              0.1111111111111111,
              "#46039f"
             ],
             [
              0.2222222222222222,
              "#7201a8"
             ],
             [
              0.3333333333333333,
              "#9c179e"
             ],
             [
              0.4444444444444444,
              "#bd3786"
             ],
             [
              0.5555555555555556,
              "#d8576b"
             ],
             [
              0.6666666666666666,
              "#ed7953"
             ],
             [
              0.7777777777777778,
              "#fb9f3a"
             ],
             [
              0.8888888888888888,
              "#fdca26"
             ],
             [
              1.0,
              "#f0f921"
             ]
            ]
           }
          ],
          "contourcarpet": [
           {
            "type": "contourcarpet",
            "colorbar": {
             "outlinewidth": 0,
             "ticks": ""
            }
           }
          ],
          "contour": [
           {
            "type": "contour",
            "colorbar": {
             "outlinewidth": 0,
             "ticks": ""
            },
            "colorscale": [
             [
              0.0,
              "#0d0887"
             ],
             [
              0.1111111111111111,
              "#46039f"
             ],
             [
              0.2222222222222222,
              "#7201a8"
             ],
             [
              0.3333333333333333,
              "#9c179e"
             ],
             [
              0.4444444444444444,
              "#bd3786"
             ],
             [
              0.5555555555555556,
              "#d8576b"
             ],
             [
              0.6666666666666666,
              "#ed7953"
             ],
             [
              0.7777777777777778,
              "#fb9f3a"
             ],
             [
              0.8888888888888888,
              "#fdca26"
             ],
             [
              1.0,
              "#f0f921"
             ]
            ]
           }
          ],
          "surface": [
           {
            "type": "surface",
            "colorbar": {
             "outlinewidth": 0,
             "ticks": ""
            },
            "colorscale": [
             [
              0.0,
              "#0d0887"
             ],
             [
              0.1111111111111111,
              "#46039f"
             ],
             [
              0.2222222222222222,
              "#7201a8"
             ],
             [
              0.3333333333333333,
              "#9c179e"
             ],
             [
              0.4444444444444444,
              "#bd3786"
             ],
             [
              0.5555555555555556,
              "#d8576b"
             ],
             [
              0.6666666666666666,
              "#ed7953"
             ],
             [
              0.7777777777777778,
              "#fb9f3a"
             ],
             [
              0.8888888888888888,
              "#fdca26"
             ],
             [
              1.0,
              "#f0f921"
             ]
            ]
           }
          ],
          "mesh3d": [
           {
            "type": "mesh3d",
            "colorbar": {
             "outlinewidth": 0,
             "ticks": ""
            }
           }
          ],
          "scatter": [
           {
            "fillpattern": {
             "fillmode": "overlay",
             "size": 10,
             "solidity": 0.2
            },
            "type": "scatter"
           }
          ],
          "parcoords": [
           {
            "type": "parcoords",
            "line": {
             "colorbar": {
              "outlinewidth": 0,
              "ticks": ""
             }
            }
           }
          ],
          "scatterpolargl": [
           {
            "type": "scatterpolargl",
            "marker": {
             "colorbar": {
              "outlinewidth": 0,
              "ticks": ""
             }
            }
           }
          ],
          "bar": [
           {
            "error_x": {
             "color": "#2a3f5f"
            },
            "error_y": {
             "color": "#2a3f5f"
            },
            "marker": {
             "line": {
              "color": "#E5ECF6",
              "width": 0.5
             },
             "pattern": {
              "fillmode": "overlay",
              "size": 10,
              "solidity": 0.2
             }
            },
            "type": "bar"
           }
          ],
          "scattergeo": [
           {
            "type": "scattergeo",
            "marker": {
             "colorbar": {
              "outlinewidth": 0,
              "ticks": ""
             }
            }
           }
          ],
          "scatterpolar": [
           {
            "type": "scatterpolar",
            "marker": {
             "colorbar": {
              "outlinewidth": 0,
              "ticks": ""
             }
            }
           }
          ],
          "histogram": [
           {
            "marker": {
             "pattern": {
              "fillmode": "overlay",
              "size": 10,
              "solidity": 0.2
             }
            },
            "type": "histogram"
           }
          ],
          "scattergl": [
           {
            "type": "scattergl",
            "marker": {
             "colorbar": {
              "outlinewidth": 0,
              "ticks": ""
             }
            }
           }
          ],
          "scatter3d": [
           {
            "type": "scatter3d",
            "line": {
             "colorbar": {
              "outlinewidth": 0,
              "ticks": ""
             }
            },
            "marker": {
             "colorbar": {
              "outlinewidth": 0,
              "ticks": ""
             }
            }
           }
          ],
          "scattermapbox": [
           {
            "type": "scattermapbox",
            "marker": {
             "colorbar": {
              "outlinewidth": 0,
              "ticks": ""
             }
            }
           }
          ],
          "scatterternary": [
           {
            "type": "scatterternary",
            "marker": {
             "colorbar": {
              "outlinewidth": 0,
              "ticks": ""
             }
            }
           }
          ],
          "scattercarpet": [
           {
            "type": "scattercarpet",
            "marker": {
             "colorbar": {
              "outlinewidth": 0,
              "ticks": ""
             }
            }
           }
          ],
          "carpet": [
           {
            "aaxis": {
             "endlinecolor": "#2a3f5f",
             "gridcolor": "white",
             "linecolor": "white",
             "minorgridcolor": "white",
             "startlinecolor": "#2a3f5f"
            },
            "baxis": {
             "endlinecolor": "#2a3f5f",
             "gridcolor": "white",
             "linecolor": "white",
             "minorgridcolor": "white",
             "startlinecolor": "#2a3f5f"
            },
            "type": "carpet"
           }
          ],
          "table": [
           {
            "cells": {
             "fill": {
              "color": "#EBF0F8"
             },
             "line": {
              "color": "white"
             }
            },
            "header": {
             "fill": {
              "color": "#C8D4E3"
             },
             "line": {
              "color": "white"
             }
            },
            "type": "table"
           }
          ],
          "barpolar": [
           {
            "marker": {
             "line": {
              "color": "#E5ECF6",
              "width": 0.5
             },
             "pattern": {
              "fillmode": "overlay",
              "size": 10,
              "solidity": 0.2
             }
            },
            "type": "barpolar"
           }
          ],
          "pie": [
           {
            "automargin": true,
            "type": "pie"
           }
          ]
         },
         "layout": {
          "autotypenumbers": "strict",
          "colorway": [
           "#636efa",
           "#EF553B",
           "#00cc96",
           "#ab63fa",
           "#FFA15A",
           "#19d3f3",
           "#FF6692",
           "#B6E880",
           "#FF97FF",
           "#FECB52"
          ],
          "font": {
           "color": "#2a3f5f"
          },
          "hovermode": "closest",
          "hoverlabel": {
           "align": "left"
          },
          "paper_bgcolor": "white",
          "plot_bgcolor": "#E5ECF6",
          "polar": {
           "bgcolor": "#E5ECF6",
           "angularaxis": {
            "gridcolor": "white",
            "linecolor": "white",
            "ticks": ""
           },
           "radialaxis": {
            "gridcolor": "white",
            "linecolor": "white",
            "ticks": ""
           }
          },
          "ternary": {
           "bgcolor": "#E5ECF6",
           "aaxis": {
            "gridcolor": "white",
            "linecolor": "white",
            "ticks": ""
           },
           "baxis": {
            "gridcolor": "white",
            "linecolor": "white",
            "ticks": ""
           },
           "caxis": {
            "gridcolor": "white",
            "linecolor": "white",
            "ticks": ""
           }
          },
          "coloraxis": {
           "colorbar": {
            "outlinewidth": 0,
            "ticks": ""
           }
          },
          "colorscale": {
           "sequential": [
            [
             0.0,
             "#0d0887"
            ],
            [
             0.1111111111111111,
             "#46039f"
            ],
            [
             0.2222222222222222,
             "#7201a8"
            ],
            [
             0.3333333333333333,
             "#9c179e"
            ],
            [
             0.4444444444444444,
             "#bd3786"
            ],
            [
             0.5555555555555556,
             "#d8576b"
            ],
            [
             0.6666666666666666,
             "#ed7953"
            ],
            [
             0.7777777777777778,
             "#fb9f3a"
            ],
            [
             0.8888888888888888,
             "#fdca26"
            ],
            [
             1.0,
             "#f0f921"
            ]
           ],
           "sequentialminus": [
            [
             0.0,
             "#0d0887"
            ],
            [
             0.1111111111111111,
             "#46039f"
            ],
            [
             0.2222222222222222,
             "#7201a8"
            ],
            [
             0.3333333333333333,
             "#9c179e"
            ],
            [
             0.4444444444444444,
             "#bd3786"
            ],
            [
             0.5555555555555556,
             "#d8576b"
            ],
            [
             0.6666666666666666,
             "#ed7953"
            ],
            [
             0.7777777777777778,
             "#fb9f3a"
            ],
            [
             0.8888888888888888,
             "#fdca26"
            ],
            [
             1.0,
             "#f0f921"
            ]
           ],
           "diverging": [
            [
             0,
             "#8e0152"
            ],
            [
             0.1,
             "#c51b7d"
            ],
            [
             0.2,
             "#de77ae"
            ],
            [
             0.3,
             "#f1b6da"
            ],
            [
             0.4,
             "#fde0ef"
            ],
            [
             0.5,
             "#f7f7f7"
            ],
            [
             0.6,
             "#e6f5d0"
            ],
            [
             0.7,
             "#b8e186"
            ],
            [
             0.8,
             "#7fbc41"
            ],
            [
             0.9,
             "#4d9221"
            ],
            [
             1,
             "#276419"
            ]
           ]
          },
          "xaxis": {
           "gridcolor": "white",
           "linecolor": "white",
           "ticks": "",
           "title": {
            "standoff": 15
           },
           "zerolinecolor": "white",
           "automargin": true,
           "zerolinewidth": 2
          },
          "yaxis": {
           "gridcolor": "white",
           "linecolor": "white",
           "ticks": "",
           "title": {
            "standoff": 15
           },
           "zerolinecolor": "white",
           "automargin": true,
           "zerolinewidth": 2
          },
          "scene": {
           "xaxis": {
            "backgroundcolor": "#E5ECF6",
            "gridcolor": "white",
            "linecolor": "white",
            "showbackground": true,
            "ticks": "",
            "zerolinecolor": "white",
            "gridwidth": 2
           },
           "yaxis": {
            "backgroundcolor": "#E5ECF6",
            "gridcolor": "white",
            "linecolor": "white",
            "showbackground": true,
            "ticks": "",
            "zerolinecolor": "white",
            "gridwidth": 2
           },
           "zaxis": {
            "backgroundcolor": "#E5ECF6",
            "gridcolor": "white",
            "linecolor": "white",
            "showbackground": true,
            "ticks": "",
            "zerolinecolor": "white",
            "gridwidth": 2
           }
          },
          "shapedefaults": {
           "line": {
            "color": "#2a3f5f"
           }
          },
          "annotationdefaults": {
           "arrowcolor": "#2a3f5f",
           "arrowhead": 0,
           "arrowwidth": 1
          },
          "geo": {
           "bgcolor": "white",
           "landcolor": "#E5ECF6",
           "subunitcolor": "white",
           "showland": true,
           "showlakes": true,
           "lakecolor": "white"
          },
          "title": {
           "x": 0.05
          },
          "mapbox": {
           "style": "light"
          }
         }
        },
        "geo": {
         "domain": {
          "x": [
           0.0,
           1.0
          ],
          "y": [
           0.0,
           1.0
          ]
         },
         "projection": {
          "type": "natural earth"
         },
         "center": {}
        },
        "coloraxis": {
         "colorbar": {
          "title": {
           "text": "WDINonPartnerViolence_2019"
          }
         },
         "colorscale": [
          [
           0.0,
           "#0d0887"
          ],
          [
           0.1111111111111111,
           "#46039f"
          ],
          [
           0.2222222222222222,
           "#7201a8"
          ],
          [
           0.3333333333333333,
           "#9c179e"
          ],
          [
           0.4444444444444444,
           "#bd3786"
          ],
          [
           0.5555555555555556,
           "#d8576b"
          ],
          [
           0.6666666666666666,
           "#ed7953"
          ],
          [
           0.7777777777777778,
           "#fb9f3a"
          ],
          [
           0.8888888888888888,
           "#fdca26"
          ],
          [
           1.0,
           "#f0f921"
          ]
         ]
        },
        "legend": {
         "tracegroupgap": 0
        },
        "title": {
         "text": "WDINonPartnerViolence_2019"
        }
       },
       "config": {
        "plotlyServerURL": "https://plot.ly"
       }
      },
      "text/html": [
       "<div>                            <div id=\"34e09ad0-8d2c-416d-b253-9eaa14fd91db\" class=\"plotly-graph-div\" style=\"height:525px; width:100%;\"></div>            <script type=\"text/javascript\">                require([\"plotly\"], function(Plotly) {                    window.PLOTLYENV=window.PLOTLYENV || {};                                    if (document.getElementById(\"34e09ad0-8d2c-416d-b253-9eaa14fd91db\")) {                    Plotly.newPlot(                        \"34e09ad0-8d2c-416d-b253-9eaa14fd91db\",                        [{\"coloraxis\":\"coloraxis\",\"geo\":\"geo\",\"hovertemplate\":\"\\u003cb\\u003e%{hovertext}\\u003c\\u002fb\\u003e\\u003cbr\\u003e\\u003cbr\\u003eiso_alpha=%{location}\\u003cbr\\u003eWDINonPartnerViolence_2019=%{z}\\u003cextra\\u003e\\u003c\\u002fextra\\u003e\",\"hovertext\":[\"India\",\"China\",\"United States\",\"Indonesia\",\"Pakistan\",\"Nigeria\",\"Brazil\",\"Bangladesh\",\"Russia\",\"Ethiopia\",\"Mexico\",\"Japan\",\"Egypt\",\"Philippines\",\"DR Congo\",\"Vietnam\",\"Iran\",\"Germany\",\"Thailand\",\"United Kingdom\",\"Tanzania\",\"France\",\"South Africa\",\"Italy\",\"Kenya\",\"Myanmar\",\"Colombia\",\"South Korea\",\"Sudan\",\"Uganda\",\"Spain\",\"Algeria\",\"Iraq\",\"Argentina\",\"Afghanistan\",\"Yemen\",\"Canada\",\"Poland\",\"Morocco\",\"Angola\",\"Ukraine\",\"Uzbekistan\",\"Malaysia\",\"Mozambique\",\"Ghana\",\"Peru\",\"Saudi Arabia\",\"Madagascar\",\"Nepal\",\"Cameroon\",\"Venezuela\",\"Niger\",\"Australia\",\"Syria\",\"Mali\",\"Burkina Faso\",\"Taiwan\",\"Sri Lanka\",\"Malawi\",\"Zambia\",\"Kazakhstan\",\"Chad\",\"Chile\",\"Romania\",\"Somalia\",\"Senegal\",\"Guatemala\",\"Netherlands\",\"Ecuador\",\"Cambodia\",\"Zimbabwe\",\"Guinea\",\"Benin\",\"Rwanda\",\"Burundi\",\"Bolivia\",\"Tunisia\",\"South Sudan\",\"Haiti\",\"Belgium\",\"Jordan\",\"Dominican Republic\",\"United Arab Emirates\",\"Honduras\",\"Czech Republic\",\"Sweden\",\"Tajikistan\",\"Papua New Guinea\",\"Portugal\",\"Azerbaijan\",\"Greece\",\"Hungary\",\"Togo\",\"Israel\",\"Austria\",\"Belarus\",\"Switzerland\",\"Sierra Leone\",\"Laos\",\"Turkmenistan\",\"Hong Kong\",\"Libya\",\"Kyrgyzstan\",\"Paraguay\",\"Nicaragua\",\"Bulgaria\",\"Serbia\",\"El Salvador\",\"Republic of the Congo\",\"Denmark\",\"Singapore\",\"Lebanon\",\"Finland\",\"Liberia\",\"Norway\",\"Slovakia\",\"Palestine\",\"Central African Republic\",\"Oman\",\"Ireland\",\"New Zealand\",\"Mauritania\",\"Costa Rica\",\"Kuwait\",\"Panama\",\"Croatia\",\"Georgia\",\"Mongolia\",\"Uruguay\",\"Puerto Rico\",\"Bosnia and Herzegovina\",\"Qatar\",\"Moldova\",\"Namibia\",\"Armenia\",\"Lithuania\",\"Jamaica\",\"Albania\",\"Gambia\",\"Gabon\",\"Botswana\",\"Lesotho\",\"Guinea-Bissau\",\"Slovenia\",\"Equatorial Guinea\",\"Latvia\",\"North Macedonia\",\"Bahrain\",\"Trinidad and Tobago\",\"Timor-Leste\",\"Estonia\",\"Cyprus\",\"Mauritius\",\"Eswatini\",\"Djibouti\",\"Fiji\",\"Comoros\",\"Guyana\",\"Solomon Islands\",\"Bhutan\",\"Luxembourg\",\"Montenegro\",\"Suriname\",\"Malta\",\"Maldives\",\"Cape Verde\",\"Belize\",\"Iceland\",\"Vanuatu\",\"Barbados\",\"Sao Tome and Principe\",\"Samoa\",\"Seychelles\",\"Tonga\"],\"locations\":[\"IND\",\"CHN\",\"USA\",\"IDN\",\"PAK\",\"NGA\",\"BRA\",\"BGD\",\"change\",\"ETH\",\"MEX\",\"JPN\",\"EGY\",\"PHL\",\"change\",\"change\",\"change\",\"DEU\",\"THA\",\"GBR\",\"change\",\"FRA\",\"ZAF\",\"ITA\",\"KEN\",\"MMR\",\"COL\",\"change\",\"SDN\",\"UGA\",\"ESP\",\"DZA\",\"IRQ\",\"ARG\",\"AFG\",\"YEM\",\"CAN\",\"POL\",\"MAR\",\"AGO\",\"UKR\",\"UZB\",\"MYS\",\"MOZ\",\"GHA\",\"PER\",\"SAU\",\"MDG\",\"NPL\",\"CMR\",\"change\",\"NER\",\"AUS\",\"change\",\"MLI\",\"BFA\",\"change\",\"LKA\",\"MWI\",\"ZMB\",\"KAZ\",\"TCD\",\"CHL\",\"ROU\",\"SOM\",\"SEN\",\"GTM\",\"NLD\",\"ECU\",\"KHM\",\"ZWE\",\"GIN\",\"BEN\",\"RWA\",\"BDI\",\"change\",\"TUN\",\"SSD\",\"HTI\",\"BEL\",\"JOR\",\"DOM\",\"ARE\",\"HND\",\"change\",\"SWE\",\"TJK\",\"PNG\",\"PRT\",\"AZE\",\"GRC\",\"HUN\",\"TGO\",\"ISR\",\"AUT\",\"BLR\",\"CHE\",\"SLE\",\"change\",\"TKM\",\"HKG\",\"LBY\",\"KGZ\",\"PRY\",\"NIC\",\"BGR\",\"SRB\",\"SLV\",\"change\",\"DNK\",\"SGP\",\"LBN\",\"FIN\",\"LBR\",\"NOR\",\"SVK\",\"change\",\"CAF\",\"OMN\",\"IRL\",\"NZL\",\"MRT\",\"CRI\",\"KWT\",\"PAN\",\"HRV\",\"GEO\",\"MNG\",\"URY\",\"PRI\",\"BIH\",\"QAT\",\"change\",\"NAM\",\"ARM\",\"LTU\",\"JAM\",\"ALB\",\"GMB\",\"GAB\",\"BWA\",\"LSO\",\"GNB\",\"SVN\",\"GNQ\",\"LVA\",\"MKD\",\"BHR\",\"TTO\",\"TLS\",\"EST\",\"CYP\",\"MUS\",\"SWZ\",\"DJI\",\"FJI\",\"COM\",\"GUY\",\"SLB\",\"BTN\",\"LUX\",\"MNE\",\"SUR\",\"MLT\",\"MDV\",\"change\",\"BLZ\",\"ISL\",\"VUT\",\"BRB\",\"STP\",\"WSM\",\"SYC\",\"TON\"],\"name\":\"\",\"z\":[19.0,70.0,75.0,30.0,null,null,44.0,null,40.0,null,88.0,70.0,26.0,30.0,null,11.0,26.0,40.0,30.0,40.0,null,52.0,100.0,29.0,null,null,null,70.0,null,null,17.0,null,null,34.0,null,null,75.0,11.0,26.0,null,6.0,null,30.0,null,null,null,30.0,null,null,null,null,null,95.0,null,null,null,null,null,null,null,null,null,34.0,null,null,null,null,69.0,null,23.0,null,null,null,null,null,null,26.0,null,null,46.0,null,59.0,26.0,null,23.0,69.0,null,null,6.0,null,6.0,17.0,null,null,23.0,null,66.0,null,null,null,null,null,null,null,null,34.0,null,null,null,63.0,19.0,null,null,null,66.0,null,null,null,null,29.0,null,null,null,null,null,17.0,null,null,null,null,null,null,null,null,null,null,null,null,null,null,null,null,null,null,null,null,null,26.0,null,null,null,null,null,null,null,null,null,null,null,null,null,null,null,null,null,null,null,null,null,null,null,null,null,null],\"type\":\"choropleth\"}],                        {\"template\":{\"data\":{\"histogram2dcontour\":[{\"type\":\"histogram2dcontour\",\"colorbar\":{\"outlinewidth\":0,\"ticks\":\"\"},\"colorscale\":[[0.0,\"#0d0887\"],[0.1111111111111111,\"#46039f\"],[0.2222222222222222,\"#7201a8\"],[0.3333333333333333,\"#9c179e\"],[0.4444444444444444,\"#bd3786\"],[0.5555555555555556,\"#d8576b\"],[0.6666666666666666,\"#ed7953\"],[0.7777777777777778,\"#fb9f3a\"],[0.8888888888888888,\"#fdca26\"],[1.0,\"#f0f921\"]]}],\"choropleth\":[{\"type\":\"choropleth\",\"colorbar\":{\"outlinewidth\":0,\"ticks\":\"\"}}],\"histogram2d\":[{\"type\":\"histogram2d\",\"colorbar\":{\"outlinewidth\":0,\"ticks\":\"\"},\"colorscale\":[[0.0,\"#0d0887\"],[0.1111111111111111,\"#46039f\"],[0.2222222222222222,\"#7201a8\"],[0.3333333333333333,\"#9c179e\"],[0.4444444444444444,\"#bd3786\"],[0.5555555555555556,\"#d8576b\"],[0.6666666666666666,\"#ed7953\"],[0.7777777777777778,\"#fb9f3a\"],[0.8888888888888888,\"#fdca26\"],[1.0,\"#f0f921\"]]}],\"heatmap\":[{\"type\":\"heatmap\",\"colorbar\":{\"outlinewidth\":0,\"ticks\":\"\"},\"colorscale\":[[0.0,\"#0d0887\"],[0.1111111111111111,\"#46039f\"],[0.2222222222222222,\"#7201a8\"],[0.3333333333333333,\"#9c179e\"],[0.4444444444444444,\"#bd3786\"],[0.5555555555555556,\"#d8576b\"],[0.6666666666666666,\"#ed7953\"],[0.7777777777777778,\"#fb9f3a\"],[0.8888888888888888,\"#fdca26\"],[1.0,\"#f0f921\"]]}],\"heatmapgl\":[{\"type\":\"heatmapgl\",\"colorbar\":{\"outlinewidth\":0,\"ticks\":\"\"},\"colorscale\":[[0.0,\"#0d0887\"],[0.1111111111111111,\"#46039f\"],[0.2222222222222222,\"#7201a8\"],[0.3333333333333333,\"#9c179e\"],[0.4444444444444444,\"#bd3786\"],[0.5555555555555556,\"#d8576b\"],[0.6666666666666666,\"#ed7953\"],[0.7777777777777778,\"#fb9f3a\"],[0.8888888888888888,\"#fdca26\"],[1.0,\"#f0f921\"]]}],\"contourcarpet\":[{\"type\":\"contourcarpet\",\"colorbar\":{\"outlinewidth\":0,\"ticks\":\"\"}}],\"contour\":[{\"type\":\"contour\",\"colorbar\":{\"outlinewidth\":0,\"ticks\":\"\"},\"colorscale\":[[0.0,\"#0d0887\"],[0.1111111111111111,\"#46039f\"],[0.2222222222222222,\"#7201a8\"],[0.3333333333333333,\"#9c179e\"],[0.4444444444444444,\"#bd3786\"],[0.5555555555555556,\"#d8576b\"],[0.6666666666666666,\"#ed7953\"],[0.7777777777777778,\"#fb9f3a\"],[0.8888888888888888,\"#fdca26\"],[1.0,\"#f0f921\"]]}],\"surface\":[{\"type\":\"surface\",\"colorbar\":{\"outlinewidth\":0,\"ticks\":\"\"},\"colorscale\":[[0.0,\"#0d0887\"],[0.1111111111111111,\"#46039f\"],[0.2222222222222222,\"#7201a8\"],[0.3333333333333333,\"#9c179e\"],[0.4444444444444444,\"#bd3786\"],[0.5555555555555556,\"#d8576b\"],[0.6666666666666666,\"#ed7953\"],[0.7777777777777778,\"#fb9f3a\"],[0.8888888888888888,\"#fdca26\"],[1.0,\"#f0f921\"]]}],\"mesh3d\":[{\"type\":\"mesh3d\",\"colorbar\":{\"outlinewidth\":0,\"ticks\":\"\"}}],\"scatter\":[{\"fillpattern\":{\"fillmode\":\"overlay\",\"size\":10,\"solidity\":0.2},\"type\":\"scatter\"}],\"parcoords\":[{\"type\":\"parcoords\",\"line\":{\"colorbar\":{\"outlinewidth\":0,\"ticks\":\"\"}}}],\"scatterpolargl\":[{\"type\":\"scatterpolargl\",\"marker\":{\"colorbar\":{\"outlinewidth\":0,\"ticks\":\"\"}}}],\"bar\":[{\"error_x\":{\"color\":\"#2a3f5f\"},\"error_y\":{\"color\":\"#2a3f5f\"},\"marker\":{\"line\":{\"color\":\"#E5ECF6\",\"width\":0.5},\"pattern\":{\"fillmode\":\"overlay\",\"size\":10,\"solidity\":0.2}},\"type\":\"bar\"}],\"scattergeo\":[{\"type\":\"scattergeo\",\"marker\":{\"colorbar\":{\"outlinewidth\":0,\"ticks\":\"\"}}}],\"scatterpolar\":[{\"type\":\"scatterpolar\",\"marker\":{\"colorbar\":{\"outlinewidth\":0,\"ticks\":\"\"}}}],\"histogram\":[{\"marker\":{\"pattern\":{\"fillmode\":\"overlay\",\"size\":10,\"solidity\":0.2}},\"type\":\"histogram\"}],\"scattergl\":[{\"type\":\"scattergl\",\"marker\":{\"colorbar\":{\"outlinewidth\":0,\"ticks\":\"\"}}}],\"scatter3d\":[{\"type\":\"scatter3d\",\"line\":{\"colorbar\":{\"outlinewidth\":0,\"ticks\":\"\"}},\"marker\":{\"colorbar\":{\"outlinewidth\":0,\"ticks\":\"\"}}}],\"scattermapbox\":[{\"type\":\"scattermapbox\",\"marker\":{\"colorbar\":{\"outlinewidth\":0,\"ticks\":\"\"}}}],\"scatterternary\":[{\"type\":\"scatterternary\",\"marker\":{\"colorbar\":{\"outlinewidth\":0,\"ticks\":\"\"}}}],\"scattercarpet\":[{\"type\":\"scattercarpet\",\"marker\":{\"colorbar\":{\"outlinewidth\":0,\"ticks\":\"\"}}}],\"carpet\":[{\"aaxis\":{\"endlinecolor\":\"#2a3f5f\",\"gridcolor\":\"white\",\"linecolor\":\"white\",\"minorgridcolor\":\"white\",\"startlinecolor\":\"#2a3f5f\"},\"baxis\":{\"endlinecolor\":\"#2a3f5f\",\"gridcolor\":\"white\",\"linecolor\":\"white\",\"minorgridcolor\":\"white\",\"startlinecolor\":\"#2a3f5f\"},\"type\":\"carpet\"}],\"table\":[{\"cells\":{\"fill\":{\"color\":\"#EBF0F8\"},\"line\":{\"color\":\"white\"}},\"header\":{\"fill\":{\"color\":\"#C8D4E3\"},\"line\":{\"color\":\"white\"}},\"type\":\"table\"}],\"barpolar\":[{\"marker\":{\"line\":{\"color\":\"#E5ECF6\",\"width\":0.5},\"pattern\":{\"fillmode\":\"overlay\",\"size\":10,\"solidity\":0.2}},\"type\":\"barpolar\"}],\"pie\":[{\"automargin\":true,\"type\":\"pie\"}]},\"layout\":{\"autotypenumbers\":\"strict\",\"colorway\":[\"#636efa\",\"#EF553B\",\"#00cc96\",\"#ab63fa\",\"#FFA15A\",\"#19d3f3\",\"#FF6692\",\"#B6E880\",\"#FF97FF\",\"#FECB52\"],\"font\":{\"color\":\"#2a3f5f\"},\"hovermode\":\"closest\",\"hoverlabel\":{\"align\":\"left\"},\"paper_bgcolor\":\"white\",\"plot_bgcolor\":\"#E5ECF6\",\"polar\":{\"bgcolor\":\"#E5ECF6\",\"angularaxis\":{\"gridcolor\":\"white\",\"linecolor\":\"white\",\"ticks\":\"\"},\"radialaxis\":{\"gridcolor\":\"white\",\"linecolor\":\"white\",\"ticks\":\"\"}},\"ternary\":{\"bgcolor\":\"#E5ECF6\",\"aaxis\":{\"gridcolor\":\"white\",\"linecolor\":\"white\",\"ticks\":\"\"},\"baxis\":{\"gridcolor\":\"white\",\"linecolor\":\"white\",\"ticks\":\"\"},\"caxis\":{\"gridcolor\":\"white\",\"linecolor\":\"white\",\"ticks\":\"\"}},\"coloraxis\":{\"colorbar\":{\"outlinewidth\":0,\"ticks\":\"\"}},\"colorscale\":{\"sequential\":[[0.0,\"#0d0887\"],[0.1111111111111111,\"#46039f\"],[0.2222222222222222,\"#7201a8\"],[0.3333333333333333,\"#9c179e\"],[0.4444444444444444,\"#bd3786\"],[0.5555555555555556,\"#d8576b\"],[0.6666666666666666,\"#ed7953\"],[0.7777777777777778,\"#fb9f3a\"],[0.8888888888888888,\"#fdca26\"],[1.0,\"#f0f921\"]],\"sequentialminus\":[[0.0,\"#0d0887\"],[0.1111111111111111,\"#46039f\"],[0.2222222222222222,\"#7201a8\"],[0.3333333333333333,\"#9c179e\"],[0.4444444444444444,\"#bd3786\"],[0.5555555555555556,\"#d8576b\"],[0.6666666666666666,\"#ed7953\"],[0.7777777777777778,\"#fb9f3a\"],[0.8888888888888888,\"#fdca26\"],[1.0,\"#f0f921\"]],\"diverging\":[[0,\"#8e0152\"],[0.1,\"#c51b7d\"],[0.2,\"#de77ae\"],[0.3,\"#f1b6da\"],[0.4,\"#fde0ef\"],[0.5,\"#f7f7f7\"],[0.6,\"#e6f5d0\"],[0.7,\"#b8e186\"],[0.8,\"#7fbc41\"],[0.9,\"#4d9221\"],[1,\"#276419\"]]},\"xaxis\":{\"gridcolor\":\"white\",\"linecolor\":\"white\",\"ticks\":\"\",\"title\":{\"standoff\":15},\"zerolinecolor\":\"white\",\"automargin\":true,\"zerolinewidth\":2},\"yaxis\":{\"gridcolor\":\"white\",\"linecolor\":\"white\",\"ticks\":\"\",\"title\":{\"standoff\":15},\"zerolinecolor\":\"white\",\"automargin\":true,\"zerolinewidth\":2},\"scene\":{\"xaxis\":{\"backgroundcolor\":\"#E5ECF6\",\"gridcolor\":\"white\",\"linecolor\":\"white\",\"showbackground\":true,\"ticks\":\"\",\"zerolinecolor\":\"white\",\"gridwidth\":2},\"yaxis\":{\"backgroundcolor\":\"#E5ECF6\",\"gridcolor\":\"white\",\"linecolor\":\"white\",\"showbackground\":true,\"ticks\":\"\",\"zerolinecolor\":\"white\",\"gridwidth\":2},\"zaxis\":{\"backgroundcolor\":\"#E5ECF6\",\"gridcolor\":\"white\",\"linecolor\":\"white\",\"showbackground\":true,\"ticks\":\"\",\"zerolinecolor\":\"white\",\"gridwidth\":2}},\"shapedefaults\":{\"line\":{\"color\":\"#2a3f5f\"}},\"annotationdefaults\":{\"arrowcolor\":\"#2a3f5f\",\"arrowhead\":0,\"arrowwidth\":1},\"geo\":{\"bgcolor\":\"white\",\"landcolor\":\"#E5ECF6\",\"subunitcolor\":\"white\",\"showland\":true,\"showlakes\":true,\"lakecolor\":\"white\"},\"title\":{\"x\":0.05},\"mapbox\":{\"style\":\"light\"}}},\"geo\":{\"domain\":{\"x\":[0.0,1.0],\"y\":[0.0,1.0]},\"projection\":{\"type\":\"natural earth\"},\"center\":{}},\"coloraxis\":{\"colorbar\":{\"title\":{\"text\":\"WDINonPartnerViolence_2019\"}},\"colorscale\":[[0.0,\"#0d0887\"],[0.1111111111111111,\"#46039f\"],[0.2222222222222222,\"#7201a8\"],[0.3333333333333333,\"#9c179e\"],[0.4444444444444444,\"#bd3786\"],[0.5555555555555556,\"#d8576b\"],[0.6666666666666666,\"#ed7953\"],[0.7777777777777778,\"#fb9f3a\"],[0.8888888888888888,\"#fdca26\"],[1.0,\"#f0f921\"]]},\"legend\":{\"tracegroupgap\":0},\"title\":{\"text\":\"WDINonPartnerViolence_2019\"}},                        {\"responsive\": true}                    ).then(function(){\n",
       "                            \n",
       "var gd = document.getElementById('34e09ad0-8d2c-416d-b253-9eaa14fd91db');\n",
       "var x = new MutationObserver(function (mutations, observer) {{\n",
       "        var display = window.getComputedStyle(gd).display;\n",
       "        if (!display || display === 'none') {{\n",
       "            console.log([gd, 'removed!']);\n",
       "            Plotly.purge(gd);\n",
       "            observer.disconnect();\n",
       "        }}\n",
       "}});\n",
       "\n",
       "// Listen for the removal of the full notebook cells\n",
       "var notebookContainer = gd.closest('#notebook-container');\n",
       "if (notebookContainer) {{\n",
       "    x.observe(notebookContainer, {childList: true});\n",
       "}}\n",
       "\n",
       "// Listen for the clearing of the current output cell\n",
       "var outputEl = gd.closest('.output');\n",
       "if (outputEl) {{\n",
       "    x.observe(outputEl, {childList: true});\n",
       "}}\n",
       "\n",
       "                        })                };                });            </script>        </div>"
      ]
     },
     "metadata": {},
     "output_type": "display_data"
    },
    {
     "data": {
      "application/vnd.plotly.v1+json": {
       "data": [
        {
         "coloraxis": "coloraxis",
         "geo": "geo",
         "hovertemplate": "<b>%{hovertext}</b><br><br>iso_alpha=%{location}<br>WDIIntimatePartnerViolence_2019=%{z}<extra></extra>",
         "hovertext": [
          "India",
          "China",
          "United States",
          "Indonesia",
          "Pakistan",
          "Nigeria",
          "Brazil",
          "Bangladesh",
          "Russia",
          "Ethiopia",
          "Mexico",
          "Japan",
          "Egypt",
          "Philippines",
          "DR Congo",
          "Vietnam",
          "Iran",
          "Germany",
          "Thailand",
          "United Kingdom",
          "Tanzania",
          "France",
          "South Africa",
          "Italy",
          "Kenya",
          "Myanmar",
          "Colombia",
          "South Korea",
          "Sudan",
          "Uganda",
          "Spain",
          "Algeria",
          "Iraq",
          "Argentina",
          "Afghanistan",
          "Yemen",
          "Canada",
          "Poland",
          "Morocco",
          "Angola",
          "Ukraine",
          "Uzbekistan",
          "Malaysia",
          "Mozambique",
          "Ghana",
          "Peru",
          "Saudi Arabia",
          "Madagascar",
          "Nepal",
          "Cameroon",
          "Venezuela",
          "Niger",
          "Australia",
          "Syria",
          "Mali",
          "Burkina Faso",
          "Taiwan",
          "Sri Lanka",
          "Malawi",
          "Zambia",
          "Kazakhstan",
          "Chad",
          "Chile",
          "Romania",
          "Somalia",
          "Senegal",
          "Guatemala",
          "Netherlands",
          "Ecuador",
          "Cambodia",
          "Zimbabwe",
          "Guinea",
          "Benin",
          "Rwanda",
          "Burundi",
          "Bolivia",
          "Tunisia",
          "South Sudan",
          "Haiti",
          "Belgium",
          "Jordan",
          "Dominican Republic",
          "United Arab Emirates",
          "Honduras",
          "Czech Republic",
          "Sweden",
          "Tajikistan",
          "Papua New Guinea",
          "Portugal",
          "Azerbaijan",
          "Greece",
          "Hungary",
          "Togo",
          "Israel",
          "Austria",
          "Belarus",
          "Switzerland",
          "Sierra Leone",
          "Laos",
          "Turkmenistan",
          "Hong Kong",
          "Libya",
          "Kyrgyzstan",
          "Paraguay",
          "Nicaragua",
          "Bulgaria",
          "Serbia",
          "El Salvador",
          "Republic of the Congo",
          "Denmark",
          "Singapore",
          "Lebanon",
          "Finland",
          "Liberia",
          "Norway",
          "Slovakia",
          "Palestine",
          "Central African Republic",
          "Oman",
          "Ireland",
          "New Zealand",
          "Mauritania",
          "Costa Rica",
          "Kuwait",
          "Panama",
          "Croatia",
          "Georgia",
          "Mongolia",
          "Uruguay",
          "Puerto Rico",
          "Bosnia and Herzegovina",
          "Qatar",
          "Moldova",
          "Namibia",
          "Armenia",
          "Lithuania",
          "Jamaica",
          "Albania",
          "Gambia",
          "Gabon",
          "Botswana",
          "Lesotho",
          "Guinea-Bissau",
          "Slovenia",
          "Equatorial Guinea",
          "Latvia",
          "North Macedonia",
          "Bahrain",
          "Trinidad and Tobago",
          "Timor-Leste",
          "Estonia",
          "Cyprus",
          "Mauritius",
          "Eswatini",
          "Djibouti",
          "Fiji",
          "Comoros",
          "Guyana",
          "Solomon Islands",
          "Bhutan",
          "Luxembourg",
          "Montenegro",
          "Suriname",
          "Malta",
          "Maldives",
          "Cape Verde",
          "Belize",
          "Iceland",
          "Vanuatu",
          "Barbados",
          "Sao Tome and Principe",
          "Samoa",
          "Seychelles",
          "Tonga"
         ],
         "locations": [
          "IND",
          "CHN",
          "USA",
          "IDN",
          "PAK",
          "NGA",
          "BRA",
          "BGD",
          "change",
          "ETH",
          "MEX",
          "JPN",
          "EGY",
          "PHL",
          "change",
          "change",
          "change",
          "DEU",
          "THA",
          "GBR",
          "change",
          "FRA",
          "ZAF",
          "ITA",
          "KEN",
          "MMR",
          "COL",
          "change",
          "SDN",
          "UGA",
          "ESP",
          "DZA",
          "IRQ",
          "ARG",
          "AFG",
          "YEM",
          "CAN",
          "POL",
          "MAR",
          "AGO",
          "UKR",
          "UZB",
          "MYS",
          "MOZ",
          "GHA",
          "PER",
          "SAU",
          "MDG",
          "NPL",
          "CMR",
          "change",
          "NER",
          "AUS",
          "change",
          "MLI",
          "BFA",
          "change",
          "LKA",
          "MWI",
          "ZMB",
          "KAZ",
          "TCD",
          "CHL",
          "ROU",
          "SOM",
          "SEN",
          "GTM",
          "NLD",
          "ECU",
          "KHM",
          "ZWE",
          "GIN",
          "BEN",
          "RWA",
          "BDI",
          "change",
          "TUN",
          "SSD",
          "HTI",
          "BEL",
          "JOR",
          "DOM",
          "ARE",
          "HND",
          "change",
          "SWE",
          "TJK",
          "PNG",
          "PRT",
          "AZE",
          "GRC",
          "HUN",
          "TGO",
          "ISR",
          "AUT",
          "BLR",
          "CHE",
          "SLE",
          "change",
          "TKM",
          "HKG",
          "LBY",
          "KGZ",
          "PRY",
          "NIC",
          "BGR",
          "SRB",
          "SLV",
          "change",
          "DNK",
          "SGP",
          "LBN",
          "FIN",
          "LBR",
          "NOR",
          "SVK",
          "change",
          "CAF",
          "OMN",
          "IRL",
          "NZL",
          "MRT",
          "CRI",
          "KWT",
          "PAN",
          "HRV",
          "GEO",
          "MNG",
          "URY",
          "PRI",
          "BIH",
          "QAT",
          "change",
          "NAM",
          "ARM",
          "LTU",
          "JAM",
          "ALB",
          "GMB",
          "GAB",
          "BWA",
          "LSO",
          "GNB",
          "SVN",
          "GNQ",
          "LVA",
          "MKD",
          "BHR",
          "TTO",
          "TLS",
          "EST",
          "CYP",
          "MUS",
          "SWZ",
          "DJI",
          "FJI",
          "COM",
          "GUY",
          "SLB",
          "BTN",
          "LUX",
          "MNE",
          "SUR",
          "MLT",
          "MDV",
          "change",
          "BLZ",
          "ISL",
          "VUT",
          "BRB",
          "STP",
          "WSM",
          "SYC",
          "TON"
         ],
         "name": "",
         "z": [
          83.0,
          86.0,
          81.0,
          66.0,
          null,
          null,
          82.0,
          null,
          47.0,
          null,
          31.0,
          34.0,
          58.0,
          32.0,
          null,
          76.0,
          59.0,
          49.0,
          98.0,
          64.0,
          null,
          58.0,
          56.0,
          42.0,
          null,
          null,
          null,
          31.0,
          null,
          null,
          29.0,
          null,
          null,
          73.0,
          null,
          null,
          14.0,
          29.0,
          100.0,
          null,
          29.0,
          null,
          66.0,
          null,
          null,
          null,
          60.0,
          null,
          null,
          null,
          null,
          null,
          38.0,
          null,
          null,
          null,
          null,
          null,
          null,
          null,
          null,
          null,
          79.0,
          null,
          null,
          null,
          null,
          56.0,
          null,
          47.0,
          null,
          null,
          null,
          null,
          null,
          null,
          45.0,
          null,
          null,
          53.0,
          null,
          50.0,
          30.0,
          null,
          47.0,
          62.0,
          null,
          null,
          42.0,
          null,
          42.0,
          47.0,
          null,
          null,
          29.0,
          null,
          22.0,
          null,
          null,
          null,
          null,
          null,
          null,
          null,
          null,
          47.0,
          null,
          null,
          null,
          71.0,
          14.0,
          null,
          null,
          null,
          62.0,
          null,
          null,
          null,
          null,
          33.0,
          null,
          null,
          null,
          null,
          null,
          29.0,
          null,
          null,
          null,
          null,
          null,
          null,
          null,
          null,
          null,
          null,
          null,
          null,
          null,
          null,
          null,
          null,
          null,
          null,
          null,
          null,
          null,
          30.0,
          null,
          null,
          null,
          null,
          null,
          null,
          null,
          null,
          null,
          null,
          null,
          null,
          null,
          null,
          null,
          null,
          null,
          null,
          null,
          null,
          null,
          null,
          null,
          null,
          null,
          null
         ],
         "type": "choropleth"
        }
       ],
       "layout": {
        "template": {
         "data": {
          "histogram2dcontour": [
           {
            "type": "histogram2dcontour",
            "colorbar": {
             "outlinewidth": 0,
             "ticks": ""
            },
            "colorscale": [
             [
              0.0,
              "#0d0887"
             ],
             [
              0.1111111111111111,
              "#46039f"
             ],
             [
              0.2222222222222222,
              "#7201a8"
             ],
             [
              0.3333333333333333,
              "#9c179e"
             ],
             [
              0.4444444444444444,
              "#bd3786"
             ],
             [
              0.5555555555555556,
              "#d8576b"
             ],
             [
              0.6666666666666666,
              "#ed7953"
             ],
             [
              0.7777777777777778,
              "#fb9f3a"
             ],
             [
              0.8888888888888888,
              "#fdca26"
             ],
             [
              1.0,
              "#f0f921"
             ]
            ]
           }
          ],
          "choropleth": [
           {
            "type": "choropleth",
            "colorbar": {
             "outlinewidth": 0,
             "ticks": ""
            }
           }
          ],
          "histogram2d": [
           {
            "type": "histogram2d",
            "colorbar": {
             "outlinewidth": 0,
             "ticks": ""
            },
            "colorscale": [
             [
              0.0,
              "#0d0887"
             ],
             [
              0.1111111111111111,
              "#46039f"
             ],
             [
              0.2222222222222222,
              "#7201a8"
             ],
             [
              0.3333333333333333,
              "#9c179e"
             ],
             [
              0.4444444444444444,
              "#bd3786"
             ],
             [
              0.5555555555555556,
              "#d8576b"
             ],
             [
              0.6666666666666666,
              "#ed7953"
             ],
             [
              0.7777777777777778,
              "#fb9f3a"
             ],
             [
              0.8888888888888888,
              "#fdca26"
             ],
             [
              1.0,
              "#f0f921"
             ]
            ]
           }
          ],
          "heatmap": [
           {
            "type": "heatmap",
            "colorbar": {
             "outlinewidth": 0,
             "ticks": ""
            },
            "colorscale": [
             [
              0.0,
              "#0d0887"
             ],
             [
              0.1111111111111111,
              "#46039f"
             ],
             [
              0.2222222222222222,
              "#7201a8"
             ],
             [
              0.3333333333333333,
              "#9c179e"
             ],
             [
              0.4444444444444444,
              "#bd3786"
             ],
             [
              0.5555555555555556,
              "#d8576b"
             ],
             [
              0.6666666666666666,
              "#ed7953"
             ],
             [
              0.7777777777777778,
              "#fb9f3a"
             ],
             [
              0.8888888888888888,
              "#fdca26"
             ],
             [
              1.0,
              "#f0f921"
             ]
            ]
           }
          ],
          "heatmapgl": [
           {
            "type": "heatmapgl",
            "colorbar": {
             "outlinewidth": 0,
             "ticks": ""
            },
            "colorscale": [
             [
              0.0,
              "#0d0887"
             ],
             [
              0.1111111111111111,
              "#46039f"
             ],
             [
              0.2222222222222222,
              "#7201a8"
             ],
             [
              0.3333333333333333,
              "#9c179e"
             ],
             [
              0.4444444444444444,
              "#bd3786"
             ],
             [
              0.5555555555555556,
              "#d8576b"
             ],
             [
              0.6666666666666666,
              "#ed7953"
             ],
             [
              0.7777777777777778,
              "#fb9f3a"
             ],
             [
              0.8888888888888888,
              "#fdca26"
             ],
             [
              1.0,
              "#f0f921"
             ]
            ]
           }
          ],
          "contourcarpet": [
           {
            "type": "contourcarpet",
            "colorbar": {
             "outlinewidth": 0,
             "ticks": ""
            }
           }
          ],
          "contour": [
           {
            "type": "contour",
            "colorbar": {
             "outlinewidth": 0,
             "ticks": ""
            },
            "colorscale": [
             [
              0.0,
              "#0d0887"
             ],
             [
              0.1111111111111111,
              "#46039f"
             ],
             [
              0.2222222222222222,
              "#7201a8"
             ],
             [
              0.3333333333333333,
              "#9c179e"
             ],
             [
              0.4444444444444444,
              "#bd3786"
             ],
             [
              0.5555555555555556,
              "#d8576b"
             ],
             [
              0.6666666666666666,
              "#ed7953"
             ],
             [
              0.7777777777777778,
              "#fb9f3a"
             ],
             [
              0.8888888888888888,
              "#fdca26"
             ],
             [
              1.0,
              "#f0f921"
             ]
            ]
           }
          ],
          "surface": [
           {
            "type": "surface",
            "colorbar": {
             "outlinewidth": 0,
             "ticks": ""
            },
            "colorscale": [
             [
              0.0,
              "#0d0887"
             ],
             [
              0.1111111111111111,
              "#46039f"
             ],
             [
              0.2222222222222222,
              "#7201a8"
             ],
             [
              0.3333333333333333,
              "#9c179e"
             ],
             [
              0.4444444444444444,
              "#bd3786"
             ],
             [
              0.5555555555555556,
              "#d8576b"
             ],
             [
              0.6666666666666666,
              "#ed7953"
             ],
             [
              0.7777777777777778,
              "#fb9f3a"
             ],
             [
              0.8888888888888888,
              "#fdca26"
             ],
             [
              1.0,
              "#f0f921"
             ]
            ]
           }
          ],
          "mesh3d": [
           {
            "type": "mesh3d",
            "colorbar": {
             "outlinewidth": 0,
             "ticks": ""
            }
           }
          ],
          "scatter": [
           {
            "fillpattern": {
             "fillmode": "overlay",
             "size": 10,
             "solidity": 0.2
            },
            "type": "scatter"
           }
          ],
          "parcoords": [
           {
            "type": "parcoords",
            "line": {
             "colorbar": {
              "outlinewidth": 0,
              "ticks": ""
             }
            }
           }
          ],
          "scatterpolargl": [
           {
            "type": "scatterpolargl",
            "marker": {
             "colorbar": {
              "outlinewidth": 0,
              "ticks": ""
             }
            }
           }
          ],
          "bar": [
           {
            "error_x": {
             "color": "#2a3f5f"
            },
            "error_y": {
             "color": "#2a3f5f"
            },
            "marker": {
             "line": {
              "color": "#E5ECF6",
              "width": 0.5
             },
             "pattern": {
              "fillmode": "overlay",
              "size": 10,
              "solidity": 0.2
             }
            },
            "type": "bar"
           }
          ],
          "scattergeo": [
           {
            "type": "scattergeo",
            "marker": {
             "colorbar": {
              "outlinewidth": 0,
              "ticks": ""
             }
            }
           }
          ],
          "scatterpolar": [
           {
            "type": "scatterpolar",
            "marker": {
             "colorbar": {
              "outlinewidth": 0,
              "ticks": ""
             }
            }
           }
          ],
          "histogram": [
           {
            "marker": {
             "pattern": {
              "fillmode": "overlay",
              "size": 10,
              "solidity": 0.2
             }
            },
            "type": "histogram"
           }
          ],
          "scattergl": [
           {
            "type": "scattergl",
            "marker": {
             "colorbar": {
              "outlinewidth": 0,
              "ticks": ""
             }
            }
           }
          ],
          "scatter3d": [
           {
            "type": "scatter3d",
            "line": {
             "colorbar": {
              "outlinewidth": 0,
              "ticks": ""
             }
            },
            "marker": {
             "colorbar": {
              "outlinewidth": 0,
              "ticks": ""
             }
            }
           }
          ],
          "scattermapbox": [
           {
            "type": "scattermapbox",
            "marker": {
             "colorbar": {
              "outlinewidth": 0,
              "ticks": ""
             }
            }
           }
          ],
          "scatterternary": [
           {
            "type": "scatterternary",
            "marker": {
             "colorbar": {
              "outlinewidth": 0,
              "ticks": ""
             }
            }
           }
          ],
          "scattercarpet": [
           {
            "type": "scattercarpet",
            "marker": {
             "colorbar": {
              "outlinewidth": 0,
              "ticks": ""
             }
            }
           }
          ],
          "carpet": [
           {
            "aaxis": {
             "endlinecolor": "#2a3f5f",
             "gridcolor": "white",
             "linecolor": "white",
             "minorgridcolor": "white",
             "startlinecolor": "#2a3f5f"
            },
            "baxis": {
             "endlinecolor": "#2a3f5f",
             "gridcolor": "white",
             "linecolor": "white",
             "minorgridcolor": "white",
             "startlinecolor": "#2a3f5f"
            },
            "type": "carpet"
           }
          ],
          "table": [
           {
            "cells": {
             "fill": {
              "color": "#EBF0F8"
             },
             "line": {
              "color": "white"
             }
            },
            "header": {
             "fill": {
              "color": "#C8D4E3"
             },
             "line": {
              "color": "white"
             }
            },
            "type": "table"
           }
          ],
          "barpolar": [
           {
            "marker": {
             "line": {
              "color": "#E5ECF6",
              "width": 0.5
             },
             "pattern": {
              "fillmode": "overlay",
              "size": 10,
              "solidity": 0.2
             }
            },
            "type": "barpolar"
           }
          ],
          "pie": [
           {
            "automargin": true,
            "type": "pie"
           }
          ]
         },
         "layout": {
          "autotypenumbers": "strict",
          "colorway": [
           "#636efa",
           "#EF553B",
           "#00cc96",
           "#ab63fa",
           "#FFA15A",
           "#19d3f3",
           "#FF6692",
           "#B6E880",
           "#FF97FF",
           "#FECB52"
          ],
          "font": {
           "color": "#2a3f5f"
          },
          "hovermode": "closest",
          "hoverlabel": {
           "align": "left"
          },
          "paper_bgcolor": "white",
          "plot_bgcolor": "#E5ECF6",
          "polar": {
           "bgcolor": "#E5ECF6",
           "angularaxis": {
            "gridcolor": "white",
            "linecolor": "white",
            "ticks": ""
           },
           "radialaxis": {
            "gridcolor": "white",
            "linecolor": "white",
            "ticks": ""
           }
          },
          "ternary": {
           "bgcolor": "#E5ECF6",
           "aaxis": {
            "gridcolor": "white",
            "linecolor": "white",
            "ticks": ""
           },
           "baxis": {
            "gridcolor": "white",
            "linecolor": "white",
            "ticks": ""
           },
           "caxis": {
            "gridcolor": "white",
            "linecolor": "white",
            "ticks": ""
           }
          },
          "coloraxis": {
           "colorbar": {
            "outlinewidth": 0,
            "ticks": ""
           }
          },
          "colorscale": {
           "sequential": [
            [
             0.0,
             "#0d0887"
            ],
            [
             0.1111111111111111,
             "#46039f"
            ],
            [
             0.2222222222222222,
             "#7201a8"
            ],
            [
             0.3333333333333333,
             "#9c179e"
            ],
            [
             0.4444444444444444,
             "#bd3786"
            ],
            [
             0.5555555555555556,
             "#d8576b"
            ],
            [
             0.6666666666666666,
             "#ed7953"
            ],
            [
             0.7777777777777778,
             "#fb9f3a"
            ],
            [
             0.8888888888888888,
             "#fdca26"
            ],
            [
             1.0,
             "#f0f921"
            ]
           ],
           "sequentialminus": [
            [
             0.0,
             "#0d0887"
            ],
            [
             0.1111111111111111,
             "#46039f"
            ],
            [
             0.2222222222222222,
             "#7201a8"
            ],
            [
             0.3333333333333333,
             "#9c179e"
            ],
            [
             0.4444444444444444,
             "#bd3786"
            ],
            [
             0.5555555555555556,
             "#d8576b"
            ],
            [
             0.6666666666666666,
             "#ed7953"
            ],
            [
             0.7777777777777778,
             "#fb9f3a"
            ],
            [
             0.8888888888888888,
             "#fdca26"
            ],
            [
             1.0,
             "#f0f921"
            ]
           ],
           "diverging": [
            [
             0,
             "#8e0152"
            ],
            [
             0.1,
             "#c51b7d"
            ],
            [
             0.2,
             "#de77ae"
            ],
            [
             0.3,
             "#f1b6da"
            ],
            [
             0.4,
             "#fde0ef"
            ],
            [
             0.5,
             "#f7f7f7"
            ],
            [
             0.6,
             "#e6f5d0"
            ],
            [
             0.7,
             "#b8e186"
            ],
            [
             0.8,
             "#7fbc41"
            ],
            [
             0.9,
             "#4d9221"
            ],
            [
             1,
             "#276419"
            ]
           ]
          },
          "xaxis": {
           "gridcolor": "white",
           "linecolor": "white",
           "ticks": "",
           "title": {
            "standoff": 15
           },
           "zerolinecolor": "white",
           "automargin": true,
           "zerolinewidth": 2
          },
          "yaxis": {
           "gridcolor": "white",
           "linecolor": "white",
           "ticks": "",
           "title": {
            "standoff": 15
           },
           "zerolinecolor": "white",
           "automargin": true,
           "zerolinewidth": 2
          },
          "scene": {
           "xaxis": {
            "backgroundcolor": "#E5ECF6",
            "gridcolor": "white",
            "linecolor": "white",
            "showbackground": true,
            "ticks": "",
            "zerolinecolor": "white",
            "gridwidth": 2
           },
           "yaxis": {
            "backgroundcolor": "#E5ECF6",
            "gridcolor": "white",
            "linecolor": "white",
            "showbackground": true,
            "ticks": "",
            "zerolinecolor": "white",
            "gridwidth": 2
           },
           "zaxis": {
            "backgroundcolor": "#E5ECF6",
            "gridcolor": "white",
            "linecolor": "white",
            "showbackground": true,
            "ticks": "",
            "zerolinecolor": "white",
            "gridwidth": 2
           }
          },
          "shapedefaults": {
           "line": {
            "color": "#2a3f5f"
           }
          },
          "annotationdefaults": {
           "arrowcolor": "#2a3f5f",
           "arrowhead": 0,
           "arrowwidth": 1
          },
          "geo": {
           "bgcolor": "white",
           "landcolor": "#E5ECF6",
           "subunitcolor": "white",
           "showland": true,
           "showlakes": true,
           "lakecolor": "white"
          },
          "title": {
           "x": 0.05
          },
          "mapbox": {
           "style": "light"
          }
         }
        },
        "geo": {
         "domain": {
          "x": [
           0.0,
           1.0
          ],
          "y": [
           0.0,
           1.0
          ]
         },
         "projection": {
          "type": "natural earth"
         },
         "center": {}
        },
        "coloraxis": {
         "colorbar": {
          "title": {
           "text": "WDIIntimatePartnerViolence_2019"
          }
         },
         "colorscale": [
          [
           0.0,
           "#0d0887"
          ],
          [
           0.1111111111111111,
           "#46039f"
          ],
          [
           0.2222222222222222,
           "#7201a8"
          ],
          [
           0.3333333333333333,
           "#9c179e"
          ],
          [
           0.4444444444444444,
           "#bd3786"
          ],
          [
           0.5555555555555556,
           "#d8576b"
          ],
          [
           0.6666666666666666,
           "#ed7953"
          ],
          [
           0.7777777777777778,
           "#fb9f3a"
          ],
          [
           0.8888888888888888,
           "#fdca26"
          ],
          [
           1.0,
           "#f0f921"
          ]
         ]
        },
        "legend": {
         "tracegroupgap": 0
        },
        "title": {
         "text": "WDIIntimatePartnerViolence_2019"
        }
       },
       "config": {
        "plotlyServerURL": "https://plot.ly"
       }
      },
      "text/html": [
       "<div>                            <div id=\"73aa03f8-c469-4089-89cd-cf68f531c4bf\" class=\"plotly-graph-div\" style=\"height:525px; width:100%;\"></div>            <script type=\"text/javascript\">                require([\"plotly\"], function(Plotly) {                    window.PLOTLYENV=window.PLOTLYENV || {};                                    if (document.getElementById(\"73aa03f8-c469-4089-89cd-cf68f531c4bf\")) {                    Plotly.newPlot(                        \"73aa03f8-c469-4089-89cd-cf68f531c4bf\",                        [{\"coloraxis\":\"coloraxis\",\"geo\":\"geo\",\"hovertemplate\":\"\\u003cb\\u003e%{hovertext}\\u003c\\u002fb\\u003e\\u003cbr\\u003e\\u003cbr\\u003eiso_alpha=%{location}\\u003cbr\\u003eWDIIntimatePartnerViolence_2019=%{z}\\u003cextra\\u003e\\u003c\\u002fextra\\u003e\",\"hovertext\":[\"India\",\"China\",\"United States\",\"Indonesia\",\"Pakistan\",\"Nigeria\",\"Brazil\",\"Bangladesh\",\"Russia\",\"Ethiopia\",\"Mexico\",\"Japan\",\"Egypt\",\"Philippines\",\"DR Congo\",\"Vietnam\",\"Iran\",\"Germany\",\"Thailand\",\"United Kingdom\",\"Tanzania\",\"France\",\"South Africa\",\"Italy\",\"Kenya\",\"Myanmar\",\"Colombia\",\"South Korea\",\"Sudan\",\"Uganda\",\"Spain\",\"Algeria\",\"Iraq\",\"Argentina\",\"Afghanistan\",\"Yemen\",\"Canada\",\"Poland\",\"Morocco\",\"Angola\",\"Ukraine\",\"Uzbekistan\",\"Malaysia\",\"Mozambique\",\"Ghana\",\"Peru\",\"Saudi Arabia\",\"Madagascar\",\"Nepal\",\"Cameroon\",\"Venezuela\",\"Niger\",\"Australia\",\"Syria\",\"Mali\",\"Burkina Faso\",\"Taiwan\",\"Sri Lanka\",\"Malawi\",\"Zambia\",\"Kazakhstan\",\"Chad\",\"Chile\",\"Romania\",\"Somalia\",\"Senegal\",\"Guatemala\",\"Netherlands\",\"Ecuador\",\"Cambodia\",\"Zimbabwe\",\"Guinea\",\"Benin\",\"Rwanda\",\"Burundi\",\"Bolivia\",\"Tunisia\",\"South Sudan\",\"Haiti\",\"Belgium\",\"Jordan\",\"Dominican Republic\",\"United Arab Emirates\",\"Honduras\",\"Czech Republic\",\"Sweden\",\"Tajikistan\",\"Papua New Guinea\",\"Portugal\",\"Azerbaijan\",\"Greece\",\"Hungary\",\"Togo\",\"Israel\",\"Austria\",\"Belarus\",\"Switzerland\",\"Sierra Leone\",\"Laos\",\"Turkmenistan\",\"Hong Kong\",\"Libya\",\"Kyrgyzstan\",\"Paraguay\",\"Nicaragua\",\"Bulgaria\",\"Serbia\",\"El Salvador\",\"Republic of the Congo\",\"Denmark\",\"Singapore\",\"Lebanon\",\"Finland\",\"Liberia\",\"Norway\",\"Slovakia\",\"Palestine\",\"Central African Republic\",\"Oman\",\"Ireland\",\"New Zealand\",\"Mauritania\",\"Costa Rica\",\"Kuwait\",\"Panama\",\"Croatia\",\"Georgia\",\"Mongolia\",\"Uruguay\",\"Puerto Rico\",\"Bosnia and Herzegovina\",\"Qatar\",\"Moldova\",\"Namibia\",\"Armenia\",\"Lithuania\",\"Jamaica\",\"Albania\",\"Gambia\",\"Gabon\",\"Botswana\",\"Lesotho\",\"Guinea-Bissau\",\"Slovenia\",\"Equatorial Guinea\",\"Latvia\",\"North Macedonia\",\"Bahrain\",\"Trinidad and Tobago\",\"Timor-Leste\",\"Estonia\",\"Cyprus\",\"Mauritius\",\"Eswatini\",\"Djibouti\",\"Fiji\",\"Comoros\",\"Guyana\",\"Solomon Islands\",\"Bhutan\",\"Luxembourg\",\"Montenegro\",\"Suriname\",\"Malta\",\"Maldives\",\"Cape Verde\",\"Belize\",\"Iceland\",\"Vanuatu\",\"Barbados\",\"Sao Tome and Principe\",\"Samoa\",\"Seychelles\",\"Tonga\"],\"locations\":[\"IND\",\"CHN\",\"USA\",\"IDN\",\"PAK\",\"NGA\",\"BRA\",\"BGD\",\"change\",\"ETH\",\"MEX\",\"JPN\",\"EGY\",\"PHL\",\"change\",\"change\",\"change\",\"DEU\",\"THA\",\"GBR\",\"change\",\"FRA\",\"ZAF\",\"ITA\",\"KEN\",\"MMR\",\"COL\",\"change\",\"SDN\",\"UGA\",\"ESP\",\"DZA\",\"IRQ\",\"ARG\",\"AFG\",\"YEM\",\"CAN\",\"POL\",\"MAR\",\"AGO\",\"UKR\",\"UZB\",\"MYS\",\"MOZ\",\"GHA\",\"PER\",\"SAU\",\"MDG\",\"NPL\",\"CMR\",\"change\",\"NER\",\"AUS\",\"change\",\"MLI\",\"BFA\",\"change\",\"LKA\",\"MWI\",\"ZMB\",\"KAZ\",\"TCD\",\"CHL\",\"ROU\",\"SOM\",\"SEN\",\"GTM\",\"NLD\",\"ECU\",\"KHM\",\"ZWE\",\"GIN\",\"BEN\",\"RWA\",\"BDI\",\"change\",\"TUN\",\"SSD\",\"HTI\",\"BEL\",\"JOR\",\"DOM\",\"ARE\",\"HND\",\"change\",\"SWE\",\"TJK\",\"PNG\",\"PRT\",\"AZE\",\"GRC\",\"HUN\",\"TGO\",\"ISR\",\"AUT\",\"BLR\",\"CHE\",\"SLE\",\"change\",\"TKM\",\"HKG\",\"LBY\",\"KGZ\",\"PRY\",\"NIC\",\"BGR\",\"SRB\",\"SLV\",\"change\",\"DNK\",\"SGP\",\"LBN\",\"FIN\",\"LBR\",\"NOR\",\"SVK\",\"change\",\"CAF\",\"OMN\",\"IRL\",\"NZL\",\"MRT\",\"CRI\",\"KWT\",\"PAN\",\"HRV\",\"GEO\",\"MNG\",\"URY\",\"PRI\",\"BIH\",\"QAT\",\"change\",\"NAM\",\"ARM\",\"LTU\",\"JAM\",\"ALB\",\"GMB\",\"GAB\",\"BWA\",\"LSO\",\"GNB\",\"SVN\",\"GNQ\",\"LVA\",\"MKD\",\"BHR\",\"TTO\",\"TLS\",\"EST\",\"CYP\",\"MUS\",\"SWZ\",\"DJI\",\"FJI\",\"COM\",\"GUY\",\"SLB\",\"BTN\",\"LUX\",\"MNE\",\"SUR\",\"MLT\",\"MDV\",\"change\",\"BLZ\",\"ISL\",\"VUT\",\"BRB\",\"STP\",\"WSM\",\"SYC\",\"TON\"],\"name\":\"\",\"z\":[83.0,86.0,81.0,66.0,null,null,82.0,null,47.0,null,31.0,34.0,58.0,32.0,null,76.0,59.0,49.0,98.0,64.0,null,58.0,56.0,42.0,null,null,null,31.0,null,null,29.0,null,null,73.0,null,null,14.0,29.0,100.0,null,29.0,null,66.0,null,null,null,60.0,null,null,null,null,null,38.0,null,null,null,null,null,null,null,null,null,79.0,null,null,null,null,56.0,null,47.0,null,null,null,null,null,null,45.0,null,null,53.0,null,50.0,30.0,null,47.0,62.0,null,null,42.0,null,42.0,47.0,null,null,29.0,null,22.0,null,null,null,null,null,null,null,null,47.0,null,null,null,71.0,14.0,null,null,null,62.0,null,null,null,null,33.0,null,null,null,null,null,29.0,null,null,null,null,null,null,null,null,null,null,null,null,null,null,null,null,null,null,null,null,null,30.0,null,null,null,null,null,null,null,null,null,null,null,null,null,null,null,null,null,null,null,null,null,null,null,null,null,null],\"type\":\"choropleth\"}],                        {\"template\":{\"data\":{\"histogram2dcontour\":[{\"type\":\"histogram2dcontour\",\"colorbar\":{\"outlinewidth\":0,\"ticks\":\"\"},\"colorscale\":[[0.0,\"#0d0887\"],[0.1111111111111111,\"#46039f\"],[0.2222222222222222,\"#7201a8\"],[0.3333333333333333,\"#9c179e\"],[0.4444444444444444,\"#bd3786\"],[0.5555555555555556,\"#d8576b\"],[0.6666666666666666,\"#ed7953\"],[0.7777777777777778,\"#fb9f3a\"],[0.8888888888888888,\"#fdca26\"],[1.0,\"#f0f921\"]]}],\"choropleth\":[{\"type\":\"choropleth\",\"colorbar\":{\"outlinewidth\":0,\"ticks\":\"\"}}],\"histogram2d\":[{\"type\":\"histogram2d\",\"colorbar\":{\"outlinewidth\":0,\"ticks\":\"\"},\"colorscale\":[[0.0,\"#0d0887\"],[0.1111111111111111,\"#46039f\"],[0.2222222222222222,\"#7201a8\"],[0.3333333333333333,\"#9c179e\"],[0.4444444444444444,\"#bd3786\"],[0.5555555555555556,\"#d8576b\"],[0.6666666666666666,\"#ed7953\"],[0.7777777777777778,\"#fb9f3a\"],[0.8888888888888888,\"#fdca26\"],[1.0,\"#f0f921\"]]}],\"heatmap\":[{\"type\":\"heatmap\",\"colorbar\":{\"outlinewidth\":0,\"ticks\":\"\"},\"colorscale\":[[0.0,\"#0d0887\"],[0.1111111111111111,\"#46039f\"],[0.2222222222222222,\"#7201a8\"],[0.3333333333333333,\"#9c179e\"],[0.4444444444444444,\"#bd3786\"],[0.5555555555555556,\"#d8576b\"],[0.6666666666666666,\"#ed7953\"],[0.7777777777777778,\"#fb9f3a\"],[0.8888888888888888,\"#fdca26\"],[1.0,\"#f0f921\"]]}],\"heatmapgl\":[{\"type\":\"heatmapgl\",\"colorbar\":{\"outlinewidth\":0,\"ticks\":\"\"},\"colorscale\":[[0.0,\"#0d0887\"],[0.1111111111111111,\"#46039f\"],[0.2222222222222222,\"#7201a8\"],[0.3333333333333333,\"#9c179e\"],[0.4444444444444444,\"#bd3786\"],[0.5555555555555556,\"#d8576b\"],[0.6666666666666666,\"#ed7953\"],[0.7777777777777778,\"#fb9f3a\"],[0.8888888888888888,\"#fdca26\"],[1.0,\"#f0f921\"]]}],\"contourcarpet\":[{\"type\":\"contourcarpet\",\"colorbar\":{\"outlinewidth\":0,\"ticks\":\"\"}}],\"contour\":[{\"type\":\"contour\",\"colorbar\":{\"outlinewidth\":0,\"ticks\":\"\"},\"colorscale\":[[0.0,\"#0d0887\"],[0.1111111111111111,\"#46039f\"],[0.2222222222222222,\"#7201a8\"],[0.3333333333333333,\"#9c179e\"],[0.4444444444444444,\"#bd3786\"],[0.5555555555555556,\"#d8576b\"],[0.6666666666666666,\"#ed7953\"],[0.7777777777777778,\"#fb9f3a\"],[0.8888888888888888,\"#fdca26\"],[1.0,\"#f0f921\"]]}],\"surface\":[{\"type\":\"surface\",\"colorbar\":{\"outlinewidth\":0,\"ticks\":\"\"},\"colorscale\":[[0.0,\"#0d0887\"],[0.1111111111111111,\"#46039f\"],[0.2222222222222222,\"#7201a8\"],[0.3333333333333333,\"#9c179e\"],[0.4444444444444444,\"#bd3786\"],[0.5555555555555556,\"#d8576b\"],[0.6666666666666666,\"#ed7953\"],[0.7777777777777778,\"#fb9f3a\"],[0.8888888888888888,\"#fdca26\"],[1.0,\"#f0f921\"]]}],\"mesh3d\":[{\"type\":\"mesh3d\",\"colorbar\":{\"outlinewidth\":0,\"ticks\":\"\"}}],\"scatter\":[{\"fillpattern\":{\"fillmode\":\"overlay\",\"size\":10,\"solidity\":0.2},\"type\":\"scatter\"}],\"parcoords\":[{\"type\":\"parcoords\",\"line\":{\"colorbar\":{\"outlinewidth\":0,\"ticks\":\"\"}}}],\"scatterpolargl\":[{\"type\":\"scatterpolargl\",\"marker\":{\"colorbar\":{\"outlinewidth\":0,\"ticks\":\"\"}}}],\"bar\":[{\"error_x\":{\"color\":\"#2a3f5f\"},\"error_y\":{\"color\":\"#2a3f5f\"},\"marker\":{\"line\":{\"color\":\"#E5ECF6\",\"width\":0.5},\"pattern\":{\"fillmode\":\"overlay\",\"size\":10,\"solidity\":0.2}},\"type\":\"bar\"}],\"scattergeo\":[{\"type\":\"scattergeo\",\"marker\":{\"colorbar\":{\"outlinewidth\":0,\"ticks\":\"\"}}}],\"scatterpolar\":[{\"type\":\"scatterpolar\",\"marker\":{\"colorbar\":{\"outlinewidth\":0,\"ticks\":\"\"}}}],\"histogram\":[{\"marker\":{\"pattern\":{\"fillmode\":\"overlay\",\"size\":10,\"solidity\":0.2}},\"type\":\"histogram\"}],\"scattergl\":[{\"type\":\"scattergl\",\"marker\":{\"colorbar\":{\"outlinewidth\":0,\"ticks\":\"\"}}}],\"scatter3d\":[{\"type\":\"scatter3d\",\"line\":{\"colorbar\":{\"outlinewidth\":0,\"ticks\":\"\"}},\"marker\":{\"colorbar\":{\"outlinewidth\":0,\"ticks\":\"\"}}}],\"scattermapbox\":[{\"type\":\"scattermapbox\",\"marker\":{\"colorbar\":{\"outlinewidth\":0,\"ticks\":\"\"}}}],\"scatterternary\":[{\"type\":\"scatterternary\",\"marker\":{\"colorbar\":{\"outlinewidth\":0,\"ticks\":\"\"}}}],\"scattercarpet\":[{\"type\":\"scattercarpet\",\"marker\":{\"colorbar\":{\"outlinewidth\":0,\"ticks\":\"\"}}}],\"carpet\":[{\"aaxis\":{\"endlinecolor\":\"#2a3f5f\",\"gridcolor\":\"white\",\"linecolor\":\"white\",\"minorgridcolor\":\"white\",\"startlinecolor\":\"#2a3f5f\"},\"baxis\":{\"endlinecolor\":\"#2a3f5f\",\"gridcolor\":\"white\",\"linecolor\":\"white\",\"minorgridcolor\":\"white\",\"startlinecolor\":\"#2a3f5f\"},\"type\":\"carpet\"}],\"table\":[{\"cells\":{\"fill\":{\"color\":\"#EBF0F8\"},\"line\":{\"color\":\"white\"}},\"header\":{\"fill\":{\"color\":\"#C8D4E3\"},\"line\":{\"color\":\"white\"}},\"type\":\"table\"}],\"barpolar\":[{\"marker\":{\"line\":{\"color\":\"#E5ECF6\",\"width\":0.5},\"pattern\":{\"fillmode\":\"overlay\",\"size\":10,\"solidity\":0.2}},\"type\":\"barpolar\"}],\"pie\":[{\"automargin\":true,\"type\":\"pie\"}]},\"layout\":{\"autotypenumbers\":\"strict\",\"colorway\":[\"#636efa\",\"#EF553B\",\"#00cc96\",\"#ab63fa\",\"#FFA15A\",\"#19d3f3\",\"#FF6692\",\"#B6E880\",\"#FF97FF\",\"#FECB52\"],\"font\":{\"color\":\"#2a3f5f\"},\"hovermode\":\"closest\",\"hoverlabel\":{\"align\":\"left\"},\"paper_bgcolor\":\"white\",\"plot_bgcolor\":\"#E5ECF6\",\"polar\":{\"bgcolor\":\"#E5ECF6\",\"angularaxis\":{\"gridcolor\":\"white\",\"linecolor\":\"white\",\"ticks\":\"\"},\"radialaxis\":{\"gridcolor\":\"white\",\"linecolor\":\"white\",\"ticks\":\"\"}},\"ternary\":{\"bgcolor\":\"#E5ECF6\",\"aaxis\":{\"gridcolor\":\"white\",\"linecolor\":\"white\",\"ticks\":\"\"},\"baxis\":{\"gridcolor\":\"white\",\"linecolor\":\"white\",\"ticks\":\"\"},\"caxis\":{\"gridcolor\":\"white\",\"linecolor\":\"white\",\"ticks\":\"\"}},\"coloraxis\":{\"colorbar\":{\"outlinewidth\":0,\"ticks\":\"\"}},\"colorscale\":{\"sequential\":[[0.0,\"#0d0887\"],[0.1111111111111111,\"#46039f\"],[0.2222222222222222,\"#7201a8\"],[0.3333333333333333,\"#9c179e\"],[0.4444444444444444,\"#bd3786\"],[0.5555555555555556,\"#d8576b\"],[0.6666666666666666,\"#ed7953\"],[0.7777777777777778,\"#fb9f3a\"],[0.8888888888888888,\"#fdca26\"],[1.0,\"#f0f921\"]],\"sequentialminus\":[[0.0,\"#0d0887\"],[0.1111111111111111,\"#46039f\"],[0.2222222222222222,\"#7201a8\"],[0.3333333333333333,\"#9c179e\"],[0.4444444444444444,\"#bd3786\"],[0.5555555555555556,\"#d8576b\"],[0.6666666666666666,\"#ed7953\"],[0.7777777777777778,\"#fb9f3a\"],[0.8888888888888888,\"#fdca26\"],[1.0,\"#f0f921\"]],\"diverging\":[[0,\"#8e0152\"],[0.1,\"#c51b7d\"],[0.2,\"#de77ae\"],[0.3,\"#f1b6da\"],[0.4,\"#fde0ef\"],[0.5,\"#f7f7f7\"],[0.6,\"#e6f5d0\"],[0.7,\"#b8e186\"],[0.8,\"#7fbc41\"],[0.9,\"#4d9221\"],[1,\"#276419\"]]},\"xaxis\":{\"gridcolor\":\"white\",\"linecolor\":\"white\",\"ticks\":\"\",\"title\":{\"standoff\":15},\"zerolinecolor\":\"white\",\"automargin\":true,\"zerolinewidth\":2},\"yaxis\":{\"gridcolor\":\"white\",\"linecolor\":\"white\",\"ticks\":\"\",\"title\":{\"standoff\":15},\"zerolinecolor\":\"white\",\"automargin\":true,\"zerolinewidth\":2},\"scene\":{\"xaxis\":{\"backgroundcolor\":\"#E5ECF6\",\"gridcolor\":\"white\",\"linecolor\":\"white\",\"showbackground\":true,\"ticks\":\"\",\"zerolinecolor\":\"white\",\"gridwidth\":2},\"yaxis\":{\"backgroundcolor\":\"#E5ECF6\",\"gridcolor\":\"white\",\"linecolor\":\"white\",\"showbackground\":true,\"ticks\":\"\",\"zerolinecolor\":\"white\",\"gridwidth\":2},\"zaxis\":{\"backgroundcolor\":\"#E5ECF6\",\"gridcolor\":\"white\",\"linecolor\":\"white\",\"showbackground\":true,\"ticks\":\"\",\"zerolinecolor\":\"white\",\"gridwidth\":2}},\"shapedefaults\":{\"line\":{\"color\":\"#2a3f5f\"}},\"annotationdefaults\":{\"arrowcolor\":\"#2a3f5f\",\"arrowhead\":0,\"arrowwidth\":1},\"geo\":{\"bgcolor\":\"white\",\"landcolor\":\"#E5ECF6\",\"subunitcolor\":\"white\",\"showland\":true,\"showlakes\":true,\"lakecolor\":\"white\"},\"title\":{\"x\":0.05},\"mapbox\":{\"style\":\"light\"}}},\"geo\":{\"domain\":{\"x\":[0.0,1.0],\"y\":[0.0,1.0]},\"projection\":{\"type\":\"natural earth\"},\"center\":{}},\"coloraxis\":{\"colorbar\":{\"title\":{\"text\":\"WDIIntimatePartnerViolence_2019\"}},\"colorscale\":[[0.0,\"#0d0887\"],[0.1111111111111111,\"#46039f\"],[0.2222222222222222,\"#7201a8\"],[0.3333333333333333,\"#9c179e\"],[0.4444444444444444,\"#bd3786\"],[0.5555555555555556,\"#d8576b\"],[0.6666666666666666,\"#ed7953\"],[0.7777777777777778,\"#fb9f3a\"],[0.8888888888888888,\"#fdca26\"],[1.0,\"#f0f921\"]]},\"legend\":{\"tracegroupgap\":0},\"title\":{\"text\":\"WDIIntimatePartnerViolence_2019\"}},                        {\"responsive\": true}                    ).then(function(){\n",
       "                            \n",
       "var gd = document.getElementById('73aa03f8-c469-4089-89cd-cf68f531c4bf');\n",
       "var x = new MutationObserver(function (mutations, observer) {{\n",
       "        var display = window.getComputedStyle(gd).display;\n",
       "        if (!display || display === 'none') {{\n",
       "            console.log([gd, 'removed!']);\n",
       "            Plotly.purge(gd);\n",
       "            observer.disconnect();\n",
       "        }}\n",
       "}});\n",
       "\n",
       "// Listen for the removal of the full notebook cells\n",
       "var notebookContainer = gd.closest('#notebook-container');\n",
       "if (notebookContainer) {{\n",
       "    x.observe(notebookContainer, {childList: true});\n",
       "}}\n",
       "\n",
       "// Listen for the clearing of the current output cell\n",
       "var outputEl = gd.closest('.output');\n",
       "if (outputEl) {{\n",
       "    x.observe(outputEl, {childList: true});\n",
       "}}\n",
       "\n",
       "                        })                };                });            </script>        </div>"
      ]
     },
     "metadata": {},
     "output_type": "display_data"
    },
    {
     "data": {
      "application/vnd.plotly.v1+json": {
       "data": [
        {
         "coloraxis": "coloraxis",
         "geo": "geo",
         "hovertemplate": "<b>%{hovertext}</b><br><br>iso_alpha=%{location}<br>WDILegalDiscrimination_2019=%{z}<extra></extra>",
         "hovertext": [
          "India",
          "China",
          "United States",
          "Indonesia",
          "Pakistan",
          "Nigeria",
          "Brazil",
          "Bangladesh",
          "Russia",
          "Ethiopia",
          "Mexico",
          "Japan",
          "Egypt",
          "Philippines",
          "DR Congo",
          "Vietnam",
          "Iran",
          "Germany",
          "Thailand",
          "United Kingdom",
          "Tanzania",
          "France",
          "South Africa",
          "Italy",
          "Kenya",
          "Myanmar",
          "Colombia",
          "South Korea",
          "Sudan",
          "Uganda",
          "Spain",
          "Algeria",
          "Iraq",
          "Argentina",
          "Afghanistan",
          "Yemen",
          "Canada",
          "Poland",
          "Morocco",
          "Angola",
          "Ukraine",
          "Uzbekistan",
          "Malaysia",
          "Mozambique",
          "Ghana",
          "Peru",
          "Saudi Arabia",
          "Madagascar",
          "Nepal",
          "Cameroon",
          "Venezuela",
          "Niger",
          "Australia",
          "Syria",
          "Mali",
          "Burkina Faso",
          "Taiwan",
          "Sri Lanka",
          "Malawi",
          "Zambia",
          "Kazakhstan",
          "Chad",
          "Chile",
          "Romania",
          "Somalia",
          "Senegal",
          "Guatemala",
          "Netherlands",
          "Ecuador",
          "Cambodia",
          "Zimbabwe",
          "Guinea",
          "Benin",
          "Rwanda",
          "Burundi",
          "Bolivia",
          "Tunisia",
          "South Sudan",
          "Haiti",
          "Belgium",
          "Jordan",
          "Dominican Republic",
          "United Arab Emirates",
          "Honduras",
          "Czech Republic",
          "Sweden",
          "Tajikistan",
          "Papua New Guinea",
          "Portugal",
          "Azerbaijan",
          "Greece",
          "Hungary",
          "Togo",
          "Israel",
          "Austria",
          "Belarus",
          "Switzerland",
          "Sierra Leone",
          "Laos",
          "Turkmenistan",
          "Hong Kong",
          "Libya",
          "Kyrgyzstan",
          "Paraguay",
          "Nicaragua",
          "Bulgaria",
          "Serbia",
          "El Salvador",
          "Republic of the Congo",
          "Denmark",
          "Singapore",
          "Lebanon",
          "Finland",
          "Liberia",
          "Norway",
          "Slovakia",
          "Palestine",
          "Central African Republic",
          "Oman",
          "Ireland",
          "New Zealand",
          "Mauritania",
          "Costa Rica",
          "Kuwait",
          "Panama",
          "Croatia",
          "Georgia",
          "Mongolia",
          "Uruguay",
          "Puerto Rico",
          "Bosnia and Herzegovina",
          "Qatar",
          "Moldova",
          "Namibia",
          "Armenia",
          "Lithuania",
          "Jamaica",
          "Albania",
          "Gambia",
          "Gabon",
          "Botswana",
          "Lesotho",
          "Guinea-Bissau",
          "Slovenia",
          "Equatorial Guinea",
          "Latvia",
          "North Macedonia",
          "Bahrain",
          "Trinidad and Tobago",
          "Timor-Leste",
          "Estonia",
          "Cyprus",
          "Mauritius",
          "Eswatini",
          "Djibouti",
          "Fiji",
          "Comoros",
          "Guyana",
          "Solomon Islands",
          "Bhutan",
          "Luxembourg",
          "Montenegro",
          "Suriname",
          "Malta",
          "Maldives",
          "Cape Verde",
          "Belize",
          "Iceland",
          "Vanuatu",
          "Barbados",
          "Sao Tome and Principe",
          "Samoa",
          "Seychelles",
          "Tonga"
         ],
         "locations": [
          "IND",
          "CHN",
          "USA",
          "IDN",
          "PAK",
          "NGA",
          "BRA",
          "BGD",
          "change",
          "ETH",
          "MEX",
          "JPN",
          "EGY",
          "PHL",
          "change",
          "change",
          "change",
          "DEU",
          "THA",
          "GBR",
          "change",
          "FRA",
          "ZAF",
          "ITA",
          "KEN",
          "MMR",
          "COL",
          "change",
          "SDN",
          "UGA",
          "ESP",
          "DZA",
          "IRQ",
          "ARG",
          "AFG",
          "YEM",
          "CAN",
          "POL",
          "MAR",
          "AGO",
          "UKR",
          "UZB",
          "MYS",
          "MOZ",
          "GHA",
          "PER",
          "SAU",
          "MDG",
          "NPL",
          "CMR",
          "change",
          "NER",
          "AUS",
          "change",
          "MLI",
          "BFA",
          "change",
          "LKA",
          "MWI",
          "ZMB",
          "KAZ",
          "TCD",
          "CHL",
          "ROU",
          "SOM",
          "SEN",
          "GTM",
          "NLD",
          "ECU",
          "KHM",
          "ZWE",
          "GIN",
          "BEN",
          "RWA",
          "BDI",
          "change",
          "TUN",
          "SSD",
          "HTI",
          "BEL",
          "JOR",
          "DOM",
          "ARE",
          "HND",
          "change",
          "SWE",
          "TJK",
          "PNG",
          "PRT",
          "AZE",
          "GRC",
          "HUN",
          "TGO",
          "ISR",
          "AUT",
          "BLR",
          "CHE",
          "SLE",
          "change",
          "TKM",
          "HKG",
          "LBY",
          "KGZ",
          "PRY",
          "NIC",
          "BGR",
          "SRB",
          "SLV",
          "change",
          "DNK",
          "SGP",
          "LBN",
          "FIN",
          "LBR",
          "NOR",
          "SVK",
          "change",
          "CAF",
          "OMN",
          "IRL",
          "NZL",
          "MRT",
          "CRI",
          "KWT",
          "PAN",
          "HRV",
          "GEO",
          "MNG",
          "URY",
          "PRI",
          "BIH",
          "QAT",
          "change",
          "NAM",
          "ARM",
          "LTU",
          "JAM",
          "ALB",
          "GMB",
          "GAB",
          "BWA",
          "LSO",
          "GNB",
          "SVN",
          "GNQ",
          "LVA",
          "MKD",
          "BHR",
          "TTO",
          "TLS",
          "EST",
          "CYP",
          "MUS",
          "SWZ",
          "DJI",
          "FJI",
          "COM",
          "GUY",
          "SLB",
          "BTN",
          "LUX",
          "MNE",
          "SUR",
          "MLT",
          "MDV",
          "change",
          "BLZ",
          "ISL",
          "VUT",
          "BRB",
          "STP",
          "WSM",
          "SYC",
          "TON"
         ],
         "name": "",
         "z": [
          44.0,
          44.0,
          24.0,
          54.0,
          null,
          null,
          30.0,
          null,
          50.0,
          null,
          15.0,
          37.0,
          65.0,
          31.0,
          null,
          37.0,
          85.0,
          39.0,
          41.0,
          15.0,
          null,
          17.0,
          28.0,
          22.0,
          null,
          null,
          null,
          20.0,
          null,
          null,
          15.0,
          null,
          null,
          26.0,
          null,
          null,
          31.0,
          30.0,
          46.0,
          null,
          41.0,
          null,
          69.0,
          null,
          null,
          null,
          100.0,
          null,
          null,
          null,
          null,
          null,
          17.0,
          null,
          null,
          null,
          null,
          null,
          null,
          null,
          null,
          null,
          39.0,
          null,
          null,
          null,
          null,
          20.0,
          null,
          30.0,
          null,
          null,
          null,
          null,
          null,
          null,
          59.0,
          null,
          null,
          26.0,
          null,
          28.0,
          87.0,
          null,
          30.0,
          22.0,
          null,
          null,
          17.0,
          null,
          22.0,
          19.0,
          null,
          null,
          28.0,
          null,
          30.0,
          null,
          null,
          null,
          null,
          null,
          null,
          null,
          null,
          30.0,
          null,
          null,
          null,
          31.0,
          46.0,
          null,
          null,
          null,
          22.0,
          null,
          null,
          null,
          null,
          19.0,
          null,
          null,
          null,
          null,
          null,
          22.0,
          null,
          null,
          null,
          null,
          null,
          null,
          null,
          null,
          null,
          null,
          null,
          null,
          null,
          null,
          null,
          null,
          null,
          null,
          null,
          null,
          null,
          81.0,
          null,
          null,
          null,
          null,
          null,
          null,
          null,
          null,
          null,
          null,
          null,
          null,
          null,
          null,
          null,
          null,
          null,
          null,
          null,
          null,
          null,
          null,
          null,
          null,
          null,
          null
         ],
         "type": "choropleth"
        }
       ],
       "layout": {
        "template": {
         "data": {
          "histogram2dcontour": [
           {
            "type": "histogram2dcontour",
            "colorbar": {
             "outlinewidth": 0,
             "ticks": ""
            },
            "colorscale": [
             [
              0.0,
              "#0d0887"
             ],
             [
              0.1111111111111111,
              "#46039f"
             ],
             [
              0.2222222222222222,
              "#7201a8"
             ],
             [
              0.3333333333333333,
              "#9c179e"
             ],
             [
              0.4444444444444444,
              "#bd3786"
             ],
             [
              0.5555555555555556,
              "#d8576b"
             ],
             [
              0.6666666666666666,
              "#ed7953"
             ],
             [
              0.7777777777777778,
              "#fb9f3a"
             ],
             [
              0.8888888888888888,
              "#fdca26"
             ],
             [
              1.0,
              "#f0f921"
             ]
            ]
           }
          ],
          "choropleth": [
           {
            "type": "choropleth",
            "colorbar": {
             "outlinewidth": 0,
             "ticks": ""
            }
           }
          ],
          "histogram2d": [
           {
            "type": "histogram2d",
            "colorbar": {
             "outlinewidth": 0,
             "ticks": ""
            },
            "colorscale": [
             [
              0.0,
              "#0d0887"
             ],
             [
              0.1111111111111111,
              "#46039f"
             ],
             [
              0.2222222222222222,
              "#7201a8"
             ],
             [
              0.3333333333333333,
              "#9c179e"
             ],
             [
              0.4444444444444444,
              "#bd3786"
             ],
             [
              0.5555555555555556,
              "#d8576b"
             ],
             [
              0.6666666666666666,
              "#ed7953"
             ],
             [
              0.7777777777777778,
              "#fb9f3a"
             ],
             [
              0.8888888888888888,
              "#fdca26"
             ],
             [
              1.0,
              "#f0f921"
             ]
            ]
           }
          ],
          "heatmap": [
           {
            "type": "heatmap",
            "colorbar": {
             "outlinewidth": 0,
             "ticks": ""
            },
            "colorscale": [
             [
              0.0,
              "#0d0887"
             ],
             [
              0.1111111111111111,
              "#46039f"
             ],
             [
              0.2222222222222222,
              "#7201a8"
             ],
             [
              0.3333333333333333,
              "#9c179e"
             ],
             [
              0.4444444444444444,
              "#bd3786"
             ],
             [
              0.5555555555555556,
              "#d8576b"
             ],
             [
              0.6666666666666666,
              "#ed7953"
             ],
             [
              0.7777777777777778,
              "#fb9f3a"
             ],
             [
              0.8888888888888888,
              "#fdca26"
             ],
             [
              1.0,
              "#f0f921"
             ]
            ]
           }
          ],
          "heatmapgl": [
           {
            "type": "heatmapgl",
            "colorbar": {
             "outlinewidth": 0,
             "ticks": ""
            },
            "colorscale": [
             [
              0.0,
              "#0d0887"
             ],
             [
              0.1111111111111111,
              "#46039f"
             ],
             [
              0.2222222222222222,
              "#7201a8"
             ],
             [
              0.3333333333333333,
              "#9c179e"
             ],
             [
              0.4444444444444444,
              "#bd3786"
             ],
             [
              0.5555555555555556,
              "#d8576b"
             ],
             [
              0.6666666666666666,
              "#ed7953"
             ],
             [
              0.7777777777777778,
              "#fb9f3a"
             ],
             [
              0.8888888888888888,
              "#fdca26"
             ],
             [
              1.0,
              "#f0f921"
             ]
            ]
           }
          ],
          "contourcarpet": [
           {
            "type": "contourcarpet",
            "colorbar": {
             "outlinewidth": 0,
             "ticks": ""
            }
           }
          ],
          "contour": [
           {
            "type": "contour",
            "colorbar": {
             "outlinewidth": 0,
             "ticks": ""
            },
            "colorscale": [
             [
              0.0,
              "#0d0887"
             ],
             [
              0.1111111111111111,
              "#46039f"
             ],
             [
              0.2222222222222222,
              "#7201a8"
             ],
             [
              0.3333333333333333,
              "#9c179e"
             ],
             [
              0.4444444444444444,
              "#bd3786"
             ],
             [
              0.5555555555555556,
              "#d8576b"
             ],
             [
              0.6666666666666666,
              "#ed7953"
             ],
             [
              0.7777777777777778,
              "#fb9f3a"
             ],
             [
              0.8888888888888888,
              "#fdca26"
             ],
             [
              1.0,
              "#f0f921"
             ]
            ]
           }
          ],
          "surface": [
           {
            "type": "surface",
            "colorbar": {
             "outlinewidth": 0,
             "ticks": ""
            },
            "colorscale": [
             [
              0.0,
              "#0d0887"
             ],
             [
              0.1111111111111111,
              "#46039f"
             ],
             [
              0.2222222222222222,
              "#7201a8"
             ],
             [
              0.3333333333333333,
              "#9c179e"
             ],
             [
              0.4444444444444444,
              "#bd3786"
             ],
             [
              0.5555555555555556,
              "#d8576b"
             ],
             [
              0.6666666666666666,
              "#ed7953"
             ],
             [
              0.7777777777777778,
              "#fb9f3a"
             ],
             [
              0.8888888888888888,
              "#fdca26"
             ],
             [
              1.0,
              "#f0f921"
             ]
            ]
           }
          ],
          "mesh3d": [
           {
            "type": "mesh3d",
            "colorbar": {
             "outlinewidth": 0,
             "ticks": ""
            }
           }
          ],
          "scatter": [
           {
            "fillpattern": {
             "fillmode": "overlay",
             "size": 10,
             "solidity": 0.2
            },
            "type": "scatter"
           }
          ],
          "parcoords": [
           {
            "type": "parcoords",
            "line": {
             "colorbar": {
              "outlinewidth": 0,
              "ticks": ""
             }
            }
           }
          ],
          "scatterpolargl": [
           {
            "type": "scatterpolargl",
            "marker": {
             "colorbar": {
              "outlinewidth": 0,
              "ticks": ""
             }
            }
           }
          ],
          "bar": [
           {
            "error_x": {
             "color": "#2a3f5f"
            },
            "error_y": {
             "color": "#2a3f5f"
            },
            "marker": {
             "line": {
              "color": "#E5ECF6",
              "width": 0.5
             },
             "pattern": {
              "fillmode": "overlay",
              "size": 10,
              "solidity": 0.2
             }
            },
            "type": "bar"
           }
          ],
          "scattergeo": [
           {
            "type": "scattergeo",
            "marker": {
             "colorbar": {
              "outlinewidth": 0,
              "ticks": ""
             }
            }
           }
          ],
          "scatterpolar": [
           {
            "type": "scatterpolar",
            "marker": {
             "colorbar": {
              "outlinewidth": 0,
              "ticks": ""
             }
            }
           }
          ],
          "histogram": [
           {
            "marker": {
             "pattern": {
              "fillmode": "overlay",
              "size": 10,
              "solidity": 0.2
             }
            },
            "type": "histogram"
           }
          ],
          "scattergl": [
           {
            "type": "scattergl",
            "marker": {
             "colorbar": {
              "outlinewidth": 0,
              "ticks": ""
             }
            }
           }
          ],
          "scatter3d": [
           {
            "type": "scatter3d",
            "line": {
             "colorbar": {
              "outlinewidth": 0,
              "ticks": ""
             }
            },
            "marker": {
             "colorbar": {
              "outlinewidth": 0,
              "ticks": ""
             }
            }
           }
          ],
          "scattermapbox": [
           {
            "type": "scattermapbox",
            "marker": {
             "colorbar": {
              "outlinewidth": 0,
              "ticks": ""
             }
            }
           }
          ],
          "scatterternary": [
           {
            "type": "scatterternary",
            "marker": {
             "colorbar": {
              "outlinewidth": 0,
              "ticks": ""
             }
            }
           }
          ],
          "scattercarpet": [
           {
            "type": "scattercarpet",
            "marker": {
             "colorbar": {
              "outlinewidth": 0,
              "ticks": ""
             }
            }
           }
          ],
          "carpet": [
           {
            "aaxis": {
             "endlinecolor": "#2a3f5f",
             "gridcolor": "white",
             "linecolor": "white",
             "minorgridcolor": "white",
             "startlinecolor": "#2a3f5f"
            },
            "baxis": {
             "endlinecolor": "#2a3f5f",
             "gridcolor": "white",
             "linecolor": "white",
             "minorgridcolor": "white",
             "startlinecolor": "#2a3f5f"
            },
            "type": "carpet"
           }
          ],
          "table": [
           {
            "cells": {
             "fill": {
              "color": "#EBF0F8"
             },
             "line": {
              "color": "white"
             }
            },
            "header": {
             "fill": {
              "color": "#C8D4E3"
             },
             "line": {
              "color": "white"
             }
            },
            "type": "table"
           }
          ],
          "barpolar": [
           {
            "marker": {
             "line": {
              "color": "#E5ECF6",
              "width": 0.5
             },
             "pattern": {
              "fillmode": "overlay",
              "size": 10,
              "solidity": 0.2
             }
            },
            "type": "barpolar"
           }
          ],
          "pie": [
           {
            "automargin": true,
            "type": "pie"
           }
          ]
         },
         "layout": {
          "autotypenumbers": "strict",
          "colorway": [
           "#636efa",
           "#EF553B",
           "#00cc96",
           "#ab63fa",
           "#FFA15A",
           "#19d3f3",
           "#FF6692",
           "#B6E880",
           "#FF97FF",
           "#FECB52"
          ],
          "font": {
           "color": "#2a3f5f"
          },
          "hovermode": "closest",
          "hoverlabel": {
           "align": "left"
          },
          "paper_bgcolor": "white",
          "plot_bgcolor": "#E5ECF6",
          "polar": {
           "bgcolor": "#E5ECF6",
           "angularaxis": {
            "gridcolor": "white",
            "linecolor": "white",
            "ticks": ""
           },
           "radialaxis": {
            "gridcolor": "white",
            "linecolor": "white",
            "ticks": ""
           }
          },
          "ternary": {
           "bgcolor": "#E5ECF6",
           "aaxis": {
            "gridcolor": "white",
            "linecolor": "white",
            "ticks": ""
           },
           "baxis": {
            "gridcolor": "white",
            "linecolor": "white",
            "ticks": ""
           },
           "caxis": {
            "gridcolor": "white",
            "linecolor": "white",
            "ticks": ""
           }
          },
          "coloraxis": {
           "colorbar": {
            "outlinewidth": 0,
            "ticks": ""
           }
          },
          "colorscale": {
           "sequential": [
            [
             0.0,
             "#0d0887"
            ],
            [
             0.1111111111111111,
             "#46039f"
            ],
            [
             0.2222222222222222,
             "#7201a8"
            ],
            [
             0.3333333333333333,
             "#9c179e"
            ],
            [
             0.4444444444444444,
             "#bd3786"
            ],
            [
             0.5555555555555556,
             "#d8576b"
            ],
            [
             0.6666666666666666,
             "#ed7953"
            ],
            [
             0.7777777777777778,
             "#fb9f3a"
            ],
            [
             0.8888888888888888,
             "#fdca26"
            ],
            [
             1.0,
             "#f0f921"
            ]
           ],
           "sequentialminus": [
            [
             0.0,
             "#0d0887"
            ],
            [
             0.1111111111111111,
             "#46039f"
            ],
            [
             0.2222222222222222,
             "#7201a8"
            ],
            [
             0.3333333333333333,
             "#9c179e"
            ],
            [
             0.4444444444444444,
             "#bd3786"
            ],
            [
             0.5555555555555556,
             "#d8576b"
            ],
            [
             0.6666666666666666,
             "#ed7953"
            ],
            [
             0.7777777777777778,
             "#fb9f3a"
            ],
            [
             0.8888888888888888,
             "#fdca26"
            ],
            [
             1.0,
             "#f0f921"
            ]
           ],
           "diverging": [
            [
             0,
             "#8e0152"
            ],
            [
             0.1,
             "#c51b7d"
            ],
            [
             0.2,
             "#de77ae"
            ],
            [
             0.3,
             "#f1b6da"
            ],
            [
             0.4,
             "#fde0ef"
            ],
            [
             0.5,
             "#f7f7f7"
            ],
            [
             0.6,
             "#e6f5d0"
            ],
            [
             0.7,
             "#b8e186"
            ],
            [
             0.8,
             "#7fbc41"
            ],
            [
             0.9,
             "#4d9221"
            ],
            [
             1,
             "#276419"
            ]
           ]
          },
          "xaxis": {
           "gridcolor": "white",
           "linecolor": "white",
           "ticks": "",
           "title": {
            "standoff": 15
           },
           "zerolinecolor": "white",
           "automargin": true,
           "zerolinewidth": 2
          },
          "yaxis": {
           "gridcolor": "white",
           "linecolor": "white",
           "ticks": "",
           "title": {
            "standoff": 15
           },
           "zerolinecolor": "white",
           "automargin": true,
           "zerolinewidth": 2
          },
          "scene": {
           "xaxis": {
            "backgroundcolor": "#E5ECF6",
            "gridcolor": "white",
            "linecolor": "white",
            "showbackground": true,
            "ticks": "",
            "zerolinecolor": "white",
            "gridwidth": 2
           },
           "yaxis": {
            "backgroundcolor": "#E5ECF6",
            "gridcolor": "white",
            "linecolor": "white",
            "showbackground": true,
            "ticks": "",
            "zerolinecolor": "white",
            "gridwidth": 2
           },
           "zaxis": {
            "backgroundcolor": "#E5ECF6",
            "gridcolor": "white",
            "linecolor": "white",
            "showbackground": true,
            "ticks": "",
            "zerolinecolor": "white",
            "gridwidth": 2
           }
          },
          "shapedefaults": {
           "line": {
            "color": "#2a3f5f"
           }
          },
          "annotationdefaults": {
           "arrowcolor": "#2a3f5f",
           "arrowhead": 0,
           "arrowwidth": 1
          },
          "geo": {
           "bgcolor": "white",
           "landcolor": "#E5ECF6",
           "subunitcolor": "white",
           "showland": true,
           "showlakes": true,
           "lakecolor": "white"
          },
          "title": {
           "x": 0.05
          },
          "mapbox": {
           "style": "light"
          }
         }
        },
        "geo": {
         "domain": {
          "x": [
           0.0,
           1.0
          ],
          "y": [
           0.0,
           1.0
          ]
         },
         "projection": {
          "type": "natural earth"
         },
         "center": {}
        },
        "coloraxis": {
         "colorbar": {
          "title": {
           "text": "WDILegalDiscrimination_2019"
          }
         },
         "colorscale": [
          [
           0.0,
           "#0d0887"
          ],
          [
           0.1111111111111111,
           "#46039f"
          ],
          [
           0.2222222222222222,
           "#7201a8"
          ],
          [
           0.3333333333333333,
           "#9c179e"
          ],
          [
           0.4444444444444444,
           "#bd3786"
          ],
          [
           0.5555555555555556,
           "#d8576b"
          ],
          [
           0.6666666666666666,
           "#ed7953"
          ],
          [
           0.7777777777777778,
           "#fb9f3a"
          ],
          [
           0.8888888888888888,
           "#fdca26"
          ],
          [
           1.0,
           "#f0f921"
          ]
         ]
        },
        "legend": {
         "tracegroupgap": 0
        },
        "title": {
         "text": "WDILegalDiscrimination_2019"
        }
       },
       "config": {
        "plotlyServerURL": "https://plot.ly"
       }
      },
      "text/html": [
       "<div>                            <div id=\"7ac1099c-2e79-41a2-8e6f-adae97f76337\" class=\"plotly-graph-div\" style=\"height:525px; width:100%;\"></div>            <script type=\"text/javascript\">                require([\"plotly\"], function(Plotly) {                    window.PLOTLYENV=window.PLOTLYENV || {};                                    if (document.getElementById(\"7ac1099c-2e79-41a2-8e6f-adae97f76337\")) {                    Plotly.newPlot(                        \"7ac1099c-2e79-41a2-8e6f-adae97f76337\",                        [{\"coloraxis\":\"coloraxis\",\"geo\":\"geo\",\"hovertemplate\":\"\\u003cb\\u003e%{hovertext}\\u003c\\u002fb\\u003e\\u003cbr\\u003e\\u003cbr\\u003eiso_alpha=%{location}\\u003cbr\\u003eWDILegalDiscrimination_2019=%{z}\\u003cextra\\u003e\\u003c\\u002fextra\\u003e\",\"hovertext\":[\"India\",\"China\",\"United States\",\"Indonesia\",\"Pakistan\",\"Nigeria\",\"Brazil\",\"Bangladesh\",\"Russia\",\"Ethiopia\",\"Mexico\",\"Japan\",\"Egypt\",\"Philippines\",\"DR Congo\",\"Vietnam\",\"Iran\",\"Germany\",\"Thailand\",\"United Kingdom\",\"Tanzania\",\"France\",\"South Africa\",\"Italy\",\"Kenya\",\"Myanmar\",\"Colombia\",\"South Korea\",\"Sudan\",\"Uganda\",\"Spain\",\"Algeria\",\"Iraq\",\"Argentina\",\"Afghanistan\",\"Yemen\",\"Canada\",\"Poland\",\"Morocco\",\"Angola\",\"Ukraine\",\"Uzbekistan\",\"Malaysia\",\"Mozambique\",\"Ghana\",\"Peru\",\"Saudi Arabia\",\"Madagascar\",\"Nepal\",\"Cameroon\",\"Venezuela\",\"Niger\",\"Australia\",\"Syria\",\"Mali\",\"Burkina Faso\",\"Taiwan\",\"Sri Lanka\",\"Malawi\",\"Zambia\",\"Kazakhstan\",\"Chad\",\"Chile\",\"Romania\",\"Somalia\",\"Senegal\",\"Guatemala\",\"Netherlands\",\"Ecuador\",\"Cambodia\",\"Zimbabwe\",\"Guinea\",\"Benin\",\"Rwanda\",\"Burundi\",\"Bolivia\",\"Tunisia\",\"South Sudan\",\"Haiti\",\"Belgium\",\"Jordan\",\"Dominican Republic\",\"United Arab Emirates\",\"Honduras\",\"Czech Republic\",\"Sweden\",\"Tajikistan\",\"Papua New Guinea\",\"Portugal\",\"Azerbaijan\",\"Greece\",\"Hungary\",\"Togo\",\"Israel\",\"Austria\",\"Belarus\",\"Switzerland\",\"Sierra Leone\",\"Laos\",\"Turkmenistan\",\"Hong Kong\",\"Libya\",\"Kyrgyzstan\",\"Paraguay\",\"Nicaragua\",\"Bulgaria\",\"Serbia\",\"El Salvador\",\"Republic of the Congo\",\"Denmark\",\"Singapore\",\"Lebanon\",\"Finland\",\"Liberia\",\"Norway\",\"Slovakia\",\"Palestine\",\"Central African Republic\",\"Oman\",\"Ireland\",\"New Zealand\",\"Mauritania\",\"Costa Rica\",\"Kuwait\",\"Panama\",\"Croatia\",\"Georgia\",\"Mongolia\",\"Uruguay\",\"Puerto Rico\",\"Bosnia and Herzegovina\",\"Qatar\",\"Moldova\",\"Namibia\",\"Armenia\",\"Lithuania\",\"Jamaica\",\"Albania\",\"Gambia\",\"Gabon\",\"Botswana\",\"Lesotho\",\"Guinea-Bissau\",\"Slovenia\",\"Equatorial Guinea\",\"Latvia\",\"North Macedonia\",\"Bahrain\",\"Trinidad and Tobago\",\"Timor-Leste\",\"Estonia\",\"Cyprus\",\"Mauritius\",\"Eswatini\",\"Djibouti\",\"Fiji\",\"Comoros\",\"Guyana\",\"Solomon Islands\",\"Bhutan\",\"Luxembourg\",\"Montenegro\",\"Suriname\",\"Malta\",\"Maldives\",\"Cape Verde\",\"Belize\",\"Iceland\",\"Vanuatu\",\"Barbados\",\"Sao Tome and Principe\",\"Samoa\",\"Seychelles\",\"Tonga\"],\"locations\":[\"IND\",\"CHN\",\"USA\",\"IDN\",\"PAK\",\"NGA\",\"BRA\",\"BGD\",\"change\",\"ETH\",\"MEX\",\"JPN\",\"EGY\",\"PHL\",\"change\",\"change\",\"change\",\"DEU\",\"THA\",\"GBR\",\"change\",\"FRA\",\"ZAF\",\"ITA\",\"KEN\",\"MMR\",\"COL\",\"change\",\"SDN\",\"UGA\",\"ESP\",\"DZA\",\"IRQ\",\"ARG\",\"AFG\",\"YEM\",\"CAN\",\"POL\",\"MAR\",\"AGO\",\"UKR\",\"UZB\",\"MYS\",\"MOZ\",\"GHA\",\"PER\",\"SAU\",\"MDG\",\"NPL\",\"CMR\",\"change\",\"NER\",\"AUS\",\"change\",\"MLI\",\"BFA\",\"change\",\"LKA\",\"MWI\",\"ZMB\",\"KAZ\",\"TCD\",\"CHL\",\"ROU\",\"SOM\",\"SEN\",\"GTM\",\"NLD\",\"ECU\",\"KHM\",\"ZWE\",\"GIN\",\"BEN\",\"RWA\",\"BDI\",\"change\",\"TUN\",\"SSD\",\"HTI\",\"BEL\",\"JOR\",\"DOM\",\"ARE\",\"HND\",\"change\",\"SWE\",\"TJK\",\"PNG\",\"PRT\",\"AZE\",\"GRC\",\"HUN\",\"TGO\",\"ISR\",\"AUT\",\"BLR\",\"CHE\",\"SLE\",\"change\",\"TKM\",\"HKG\",\"LBY\",\"KGZ\",\"PRY\",\"NIC\",\"BGR\",\"SRB\",\"SLV\",\"change\",\"DNK\",\"SGP\",\"LBN\",\"FIN\",\"LBR\",\"NOR\",\"SVK\",\"change\",\"CAF\",\"OMN\",\"IRL\",\"NZL\",\"MRT\",\"CRI\",\"KWT\",\"PAN\",\"HRV\",\"GEO\",\"MNG\",\"URY\",\"PRI\",\"BIH\",\"QAT\",\"change\",\"NAM\",\"ARM\",\"LTU\",\"JAM\",\"ALB\",\"GMB\",\"GAB\",\"BWA\",\"LSO\",\"GNB\",\"SVN\",\"GNQ\",\"LVA\",\"MKD\",\"BHR\",\"TTO\",\"TLS\",\"EST\",\"CYP\",\"MUS\",\"SWZ\",\"DJI\",\"FJI\",\"COM\",\"GUY\",\"SLB\",\"BTN\",\"LUX\",\"MNE\",\"SUR\",\"MLT\",\"MDV\",\"change\",\"BLZ\",\"ISL\",\"VUT\",\"BRB\",\"STP\",\"WSM\",\"SYC\",\"TON\"],\"name\":\"\",\"z\":[44.0,44.0,24.0,54.0,null,null,30.0,null,50.0,null,15.0,37.0,65.0,31.0,null,37.0,85.0,39.0,41.0,15.0,null,17.0,28.0,22.0,null,null,null,20.0,null,null,15.0,null,null,26.0,null,null,31.0,30.0,46.0,null,41.0,null,69.0,null,null,null,100.0,null,null,null,null,null,17.0,null,null,null,null,null,null,null,null,null,39.0,null,null,null,null,20.0,null,30.0,null,null,null,null,null,null,59.0,null,null,26.0,null,28.0,87.0,null,30.0,22.0,null,null,17.0,null,22.0,19.0,null,null,28.0,null,30.0,null,null,null,null,null,null,null,null,30.0,null,null,null,31.0,46.0,null,null,null,22.0,null,null,null,null,19.0,null,null,null,null,null,22.0,null,null,null,null,null,null,null,null,null,null,null,null,null,null,null,null,null,null,null,null,null,81.0,null,null,null,null,null,null,null,null,null,null,null,null,null,null,null,null,null,null,null,null,null,null,null,null,null,null],\"type\":\"choropleth\"}],                        {\"template\":{\"data\":{\"histogram2dcontour\":[{\"type\":\"histogram2dcontour\",\"colorbar\":{\"outlinewidth\":0,\"ticks\":\"\"},\"colorscale\":[[0.0,\"#0d0887\"],[0.1111111111111111,\"#46039f\"],[0.2222222222222222,\"#7201a8\"],[0.3333333333333333,\"#9c179e\"],[0.4444444444444444,\"#bd3786\"],[0.5555555555555556,\"#d8576b\"],[0.6666666666666666,\"#ed7953\"],[0.7777777777777778,\"#fb9f3a\"],[0.8888888888888888,\"#fdca26\"],[1.0,\"#f0f921\"]]}],\"choropleth\":[{\"type\":\"choropleth\",\"colorbar\":{\"outlinewidth\":0,\"ticks\":\"\"}}],\"histogram2d\":[{\"type\":\"histogram2d\",\"colorbar\":{\"outlinewidth\":0,\"ticks\":\"\"},\"colorscale\":[[0.0,\"#0d0887\"],[0.1111111111111111,\"#46039f\"],[0.2222222222222222,\"#7201a8\"],[0.3333333333333333,\"#9c179e\"],[0.4444444444444444,\"#bd3786\"],[0.5555555555555556,\"#d8576b\"],[0.6666666666666666,\"#ed7953\"],[0.7777777777777778,\"#fb9f3a\"],[0.8888888888888888,\"#fdca26\"],[1.0,\"#f0f921\"]]}],\"heatmap\":[{\"type\":\"heatmap\",\"colorbar\":{\"outlinewidth\":0,\"ticks\":\"\"},\"colorscale\":[[0.0,\"#0d0887\"],[0.1111111111111111,\"#46039f\"],[0.2222222222222222,\"#7201a8\"],[0.3333333333333333,\"#9c179e\"],[0.4444444444444444,\"#bd3786\"],[0.5555555555555556,\"#d8576b\"],[0.6666666666666666,\"#ed7953\"],[0.7777777777777778,\"#fb9f3a\"],[0.8888888888888888,\"#fdca26\"],[1.0,\"#f0f921\"]]}],\"heatmapgl\":[{\"type\":\"heatmapgl\",\"colorbar\":{\"outlinewidth\":0,\"ticks\":\"\"},\"colorscale\":[[0.0,\"#0d0887\"],[0.1111111111111111,\"#46039f\"],[0.2222222222222222,\"#7201a8\"],[0.3333333333333333,\"#9c179e\"],[0.4444444444444444,\"#bd3786\"],[0.5555555555555556,\"#d8576b\"],[0.6666666666666666,\"#ed7953\"],[0.7777777777777778,\"#fb9f3a\"],[0.8888888888888888,\"#fdca26\"],[1.0,\"#f0f921\"]]}],\"contourcarpet\":[{\"type\":\"contourcarpet\",\"colorbar\":{\"outlinewidth\":0,\"ticks\":\"\"}}],\"contour\":[{\"type\":\"contour\",\"colorbar\":{\"outlinewidth\":0,\"ticks\":\"\"},\"colorscale\":[[0.0,\"#0d0887\"],[0.1111111111111111,\"#46039f\"],[0.2222222222222222,\"#7201a8\"],[0.3333333333333333,\"#9c179e\"],[0.4444444444444444,\"#bd3786\"],[0.5555555555555556,\"#d8576b\"],[0.6666666666666666,\"#ed7953\"],[0.7777777777777778,\"#fb9f3a\"],[0.8888888888888888,\"#fdca26\"],[1.0,\"#f0f921\"]]}],\"surface\":[{\"type\":\"surface\",\"colorbar\":{\"outlinewidth\":0,\"ticks\":\"\"},\"colorscale\":[[0.0,\"#0d0887\"],[0.1111111111111111,\"#46039f\"],[0.2222222222222222,\"#7201a8\"],[0.3333333333333333,\"#9c179e\"],[0.4444444444444444,\"#bd3786\"],[0.5555555555555556,\"#d8576b\"],[0.6666666666666666,\"#ed7953\"],[0.7777777777777778,\"#fb9f3a\"],[0.8888888888888888,\"#fdca26\"],[1.0,\"#f0f921\"]]}],\"mesh3d\":[{\"type\":\"mesh3d\",\"colorbar\":{\"outlinewidth\":0,\"ticks\":\"\"}}],\"scatter\":[{\"fillpattern\":{\"fillmode\":\"overlay\",\"size\":10,\"solidity\":0.2},\"type\":\"scatter\"}],\"parcoords\":[{\"type\":\"parcoords\",\"line\":{\"colorbar\":{\"outlinewidth\":0,\"ticks\":\"\"}}}],\"scatterpolargl\":[{\"type\":\"scatterpolargl\",\"marker\":{\"colorbar\":{\"outlinewidth\":0,\"ticks\":\"\"}}}],\"bar\":[{\"error_x\":{\"color\":\"#2a3f5f\"},\"error_y\":{\"color\":\"#2a3f5f\"},\"marker\":{\"line\":{\"color\":\"#E5ECF6\",\"width\":0.5},\"pattern\":{\"fillmode\":\"overlay\",\"size\":10,\"solidity\":0.2}},\"type\":\"bar\"}],\"scattergeo\":[{\"type\":\"scattergeo\",\"marker\":{\"colorbar\":{\"outlinewidth\":0,\"ticks\":\"\"}}}],\"scatterpolar\":[{\"type\":\"scatterpolar\",\"marker\":{\"colorbar\":{\"outlinewidth\":0,\"ticks\":\"\"}}}],\"histogram\":[{\"marker\":{\"pattern\":{\"fillmode\":\"overlay\",\"size\":10,\"solidity\":0.2}},\"type\":\"histogram\"}],\"scattergl\":[{\"type\":\"scattergl\",\"marker\":{\"colorbar\":{\"outlinewidth\":0,\"ticks\":\"\"}}}],\"scatter3d\":[{\"type\":\"scatter3d\",\"line\":{\"colorbar\":{\"outlinewidth\":0,\"ticks\":\"\"}},\"marker\":{\"colorbar\":{\"outlinewidth\":0,\"ticks\":\"\"}}}],\"scattermapbox\":[{\"type\":\"scattermapbox\",\"marker\":{\"colorbar\":{\"outlinewidth\":0,\"ticks\":\"\"}}}],\"scatterternary\":[{\"type\":\"scatterternary\",\"marker\":{\"colorbar\":{\"outlinewidth\":0,\"ticks\":\"\"}}}],\"scattercarpet\":[{\"type\":\"scattercarpet\",\"marker\":{\"colorbar\":{\"outlinewidth\":0,\"ticks\":\"\"}}}],\"carpet\":[{\"aaxis\":{\"endlinecolor\":\"#2a3f5f\",\"gridcolor\":\"white\",\"linecolor\":\"white\",\"minorgridcolor\":\"white\",\"startlinecolor\":\"#2a3f5f\"},\"baxis\":{\"endlinecolor\":\"#2a3f5f\",\"gridcolor\":\"white\",\"linecolor\":\"white\",\"minorgridcolor\":\"white\",\"startlinecolor\":\"#2a3f5f\"},\"type\":\"carpet\"}],\"table\":[{\"cells\":{\"fill\":{\"color\":\"#EBF0F8\"},\"line\":{\"color\":\"white\"}},\"header\":{\"fill\":{\"color\":\"#C8D4E3\"},\"line\":{\"color\":\"white\"}},\"type\":\"table\"}],\"barpolar\":[{\"marker\":{\"line\":{\"color\":\"#E5ECF6\",\"width\":0.5},\"pattern\":{\"fillmode\":\"overlay\",\"size\":10,\"solidity\":0.2}},\"type\":\"barpolar\"}],\"pie\":[{\"automargin\":true,\"type\":\"pie\"}]},\"layout\":{\"autotypenumbers\":\"strict\",\"colorway\":[\"#636efa\",\"#EF553B\",\"#00cc96\",\"#ab63fa\",\"#FFA15A\",\"#19d3f3\",\"#FF6692\",\"#B6E880\",\"#FF97FF\",\"#FECB52\"],\"font\":{\"color\":\"#2a3f5f\"},\"hovermode\":\"closest\",\"hoverlabel\":{\"align\":\"left\"},\"paper_bgcolor\":\"white\",\"plot_bgcolor\":\"#E5ECF6\",\"polar\":{\"bgcolor\":\"#E5ECF6\",\"angularaxis\":{\"gridcolor\":\"white\",\"linecolor\":\"white\",\"ticks\":\"\"},\"radialaxis\":{\"gridcolor\":\"white\",\"linecolor\":\"white\",\"ticks\":\"\"}},\"ternary\":{\"bgcolor\":\"#E5ECF6\",\"aaxis\":{\"gridcolor\":\"white\",\"linecolor\":\"white\",\"ticks\":\"\"},\"baxis\":{\"gridcolor\":\"white\",\"linecolor\":\"white\",\"ticks\":\"\"},\"caxis\":{\"gridcolor\":\"white\",\"linecolor\":\"white\",\"ticks\":\"\"}},\"coloraxis\":{\"colorbar\":{\"outlinewidth\":0,\"ticks\":\"\"}},\"colorscale\":{\"sequential\":[[0.0,\"#0d0887\"],[0.1111111111111111,\"#46039f\"],[0.2222222222222222,\"#7201a8\"],[0.3333333333333333,\"#9c179e\"],[0.4444444444444444,\"#bd3786\"],[0.5555555555555556,\"#d8576b\"],[0.6666666666666666,\"#ed7953\"],[0.7777777777777778,\"#fb9f3a\"],[0.8888888888888888,\"#fdca26\"],[1.0,\"#f0f921\"]],\"sequentialminus\":[[0.0,\"#0d0887\"],[0.1111111111111111,\"#46039f\"],[0.2222222222222222,\"#7201a8\"],[0.3333333333333333,\"#9c179e\"],[0.4444444444444444,\"#bd3786\"],[0.5555555555555556,\"#d8576b\"],[0.6666666666666666,\"#ed7953\"],[0.7777777777777778,\"#fb9f3a\"],[0.8888888888888888,\"#fdca26\"],[1.0,\"#f0f921\"]],\"diverging\":[[0,\"#8e0152\"],[0.1,\"#c51b7d\"],[0.2,\"#de77ae\"],[0.3,\"#f1b6da\"],[0.4,\"#fde0ef\"],[0.5,\"#f7f7f7\"],[0.6,\"#e6f5d0\"],[0.7,\"#b8e186\"],[0.8,\"#7fbc41\"],[0.9,\"#4d9221\"],[1,\"#276419\"]]},\"xaxis\":{\"gridcolor\":\"white\",\"linecolor\":\"white\",\"ticks\":\"\",\"title\":{\"standoff\":15},\"zerolinecolor\":\"white\",\"automargin\":true,\"zerolinewidth\":2},\"yaxis\":{\"gridcolor\":\"white\",\"linecolor\":\"white\",\"ticks\":\"\",\"title\":{\"standoff\":15},\"zerolinecolor\":\"white\",\"automargin\":true,\"zerolinewidth\":2},\"scene\":{\"xaxis\":{\"backgroundcolor\":\"#E5ECF6\",\"gridcolor\":\"white\",\"linecolor\":\"white\",\"showbackground\":true,\"ticks\":\"\",\"zerolinecolor\":\"white\",\"gridwidth\":2},\"yaxis\":{\"backgroundcolor\":\"#E5ECF6\",\"gridcolor\":\"white\",\"linecolor\":\"white\",\"showbackground\":true,\"ticks\":\"\",\"zerolinecolor\":\"white\",\"gridwidth\":2},\"zaxis\":{\"backgroundcolor\":\"#E5ECF6\",\"gridcolor\":\"white\",\"linecolor\":\"white\",\"showbackground\":true,\"ticks\":\"\",\"zerolinecolor\":\"white\",\"gridwidth\":2}},\"shapedefaults\":{\"line\":{\"color\":\"#2a3f5f\"}},\"annotationdefaults\":{\"arrowcolor\":\"#2a3f5f\",\"arrowhead\":0,\"arrowwidth\":1},\"geo\":{\"bgcolor\":\"white\",\"landcolor\":\"#E5ECF6\",\"subunitcolor\":\"white\",\"showland\":true,\"showlakes\":true,\"lakecolor\":\"white\"},\"title\":{\"x\":0.05},\"mapbox\":{\"style\":\"light\"}}},\"geo\":{\"domain\":{\"x\":[0.0,1.0],\"y\":[0.0,1.0]},\"projection\":{\"type\":\"natural earth\"},\"center\":{}},\"coloraxis\":{\"colorbar\":{\"title\":{\"text\":\"WDILegalDiscrimination_2019\"}},\"colorscale\":[[0.0,\"#0d0887\"],[0.1111111111111111,\"#46039f\"],[0.2222222222222222,\"#7201a8\"],[0.3333333333333333,\"#9c179e\"],[0.4444444444444444,\"#bd3786\"],[0.5555555555555556,\"#d8576b\"],[0.6666666666666666,\"#ed7953\"],[0.7777777777777778,\"#fb9f3a\"],[0.8888888888888888,\"#fdca26\"],[1.0,\"#f0f921\"]]},\"legend\":{\"tracegroupgap\":0},\"title\":{\"text\":\"WDILegalDiscrimination_2019\"}},                        {\"responsive\": true}                    ).then(function(){\n",
       "                            \n",
       "var gd = document.getElementById('7ac1099c-2e79-41a2-8e6f-adae97f76337');\n",
       "var x = new MutationObserver(function (mutations, observer) {{\n",
       "        var display = window.getComputedStyle(gd).display;\n",
       "        if (!display || display === 'none') {{\n",
       "            console.log([gd, 'removed!']);\n",
       "            Plotly.purge(gd);\n",
       "            observer.disconnect();\n",
       "        }}\n",
       "}});\n",
       "\n",
       "// Listen for the removal of the full notebook cells\n",
       "var notebookContainer = gd.closest('#notebook-container');\n",
       "if (notebookContainer) {{\n",
       "    x.observe(notebookContainer, {childList: true});\n",
       "}}\n",
       "\n",
       "// Listen for the clearing of the current output cell\n",
       "var outputEl = gd.closest('.output');\n",
       "if (outputEl) {{\n",
       "    x.observe(outputEl, {childList: true});\n",
       "}}\n",
       "\n",
       "                        })                };                });            </script>        </div>"
      ]
     },
     "metadata": {},
     "output_type": "display_data"
    },
    {
     "data": {
      "application/vnd.plotly.v1+json": {
       "data": [
        {
         "coloraxis": "coloraxis",
         "geo": "geo",
         "hovertemplate": "<b>%{hovertext}</b><br><br>iso_alpha=%{location}<br>WDIGlobalGenderGap_2019=%{z}<extra></extra>",
         "hovertext": [
          "India",
          "China",
          "United States",
          "Indonesia",
          "Pakistan",
          "Nigeria",
          "Brazil",
          "Bangladesh",
          "Russia",
          "Ethiopia",
          "Mexico",
          "Japan",
          "Egypt",
          "Philippines",
          "DR Congo",
          "Vietnam",
          "Iran",
          "Germany",
          "Thailand",
          "United Kingdom",
          "Tanzania",
          "France",
          "South Africa",
          "Italy",
          "Kenya",
          "Myanmar",
          "Colombia",
          "South Korea",
          "Sudan",
          "Uganda",
          "Spain",
          "Algeria",
          "Iraq",
          "Argentina",
          "Afghanistan",
          "Yemen",
          "Canada",
          "Poland",
          "Morocco",
          "Angola",
          "Ukraine",
          "Uzbekistan",
          "Malaysia",
          "Mozambique",
          "Ghana",
          "Peru",
          "Saudi Arabia",
          "Madagascar",
          "Nepal",
          "Cameroon",
          "Venezuela",
          "Niger",
          "Australia",
          "Syria",
          "Mali",
          "Burkina Faso",
          "Taiwan",
          "Sri Lanka",
          "Malawi",
          "Zambia",
          "Kazakhstan",
          "Chad",
          "Chile",
          "Romania",
          "Somalia",
          "Senegal",
          "Guatemala",
          "Netherlands",
          "Ecuador",
          "Cambodia",
          "Zimbabwe",
          "Guinea",
          "Benin",
          "Rwanda",
          "Burundi",
          "Bolivia",
          "Tunisia",
          "South Sudan",
          "Haiti",
          "Belgium",
          "Jordan",
          "Dominican Republic",
          "United Arab Emirates",
          "Honduras",
          "Czech Republic",
          "Sweden",
          "Tajikistan",
          "Papua New Guinea",
          "Portugal",
          "Azerbaijan",
          "Greece",
          "Hungary",
          "Togo",
          "Israel",
          "Austria",
          "Belarus",
          "Switzerland",
          "Sierra Leone",
          "Laos",
          "Turkmenistan",
          "Hong Kong",
          "Libya",
          "Kyrgyzstan",
          "Paraguay",
          "Nicaragua",
          "Bulgaria",
          "Serbia",
          "El Salvador",
          "Republic of the Congo",
          "Denmark",
          "Singapore",
          "Lebanon",
          "Finland",
          "Liberia",
          "Norway",
          "Slovakia",
          "Palestine",
          "Central African Republic",
          "Oman",
          "Ireland",
          "New Zealand",
          "Mauritania",
          "Costa Rica",
          "Kuwait",
          "Panama",
          "Croatia",
          "Georgia",
          "Mongolia",
          "Uruguay",
          "Puerto Rico",
          "Bosnia and Herzegovina",
          "Qatar",
          "Moldova",
          "Namibia",
          "Armenia",
          "Lithuania",
          "Jamaica",
          "Albania",
          "Gambia",
          "Gabon",
          "Botswana",
          "Lesotho",
          "Guinea-Bissau",
          "Slovenia",
          "Equatorial Guinea",
          "Latvia",
          "North Macedonia",
          "Bahrain",
          "Trinidad and Tobago",
          "Timor-Leste",
          "Estonia",
          "Cyprus",
          "Mauritius",
          "Eswatini",
          "Djibouti",
          "Fiji",
          "Comoros",
          "Guyana",
          "Solomon Islands",
          "Bhutan",
          "Luxembourg",
          "Montenegro",
          "Suriname",
          "Malta",
          "Maldives",
          "Cape Verde",
          "Belize",
          "Iceland",
          "Vanuatu",
          "Barbados",
          "Sao Tome and Principe",
          "Samoa",
          "Seychelles",
          "Tonga"
         ],
         "locations": [
          "IND",
          "CHN",
          "USA",
          "IDN",
          "PAK",
          "NGA",
          "BRA",
          "BGD",
          "change",
          "ETH",
          "MEX",
          "JPN",
          "EGY",
          "PHL",
          "change",
          "change",
          "change",
          "DEU",
          "THA",
          "GBR",
          "change",
          "FRA",
          "ZAF",
          "ITA",
          "KEN",
          "MMR",
          "COL",
          "change",
          "SDN",
          "UGA",
          "ESP",
          "DZA",
          "IRQ",
          "ARG",
          "AFG",
          "YEM",
          "CAN",
          "POL",
          "MAR",
          "AGO",
          "UKR",
          "UZB",
          "MYS",
          "MOZ",
          "GHA",
          "PER",
          "SAU",
          "MDG",
          "NPL",
          "CMR",
          "change",
          "NER",
          "AUS",
          "change",
          "MLI",
          "BFA",
          "change",
          "LKA",
          "MWI",
          "ZMB",
          "KAZ",
          "TCD",
          "CHL",
          "ROU",
          "SOM",
          "SEN",
          "GTM",
          "NLD",
          "ECU",
          "KHM",
          "ZWE",
          "GIN",
          "BEN",
          "RWA",
          "BDI",
          "change",
          "TUN",
          "SSD",
          "HTI",
          "BEL",
          "JOR",
          "DOM",
          "ARE",
          "HND",
          "change",
          "SWE",
          "TJK",
          "PNG",
          "PRT",
          "AZE",
          "GRC",
          "HUN",
          "TGO",
          "ISR",
          "AUT",
          "BLR",
          "CHE",
          "SLE",
          "change",
          "TKM",
          "HKG",
          "LBY",
          "KGZ",
          "PRY",
          "NIC",
          "BGR",
          "SRB",
          "SLV",
          "change",
          "DNK",
          "SGP",
          "LBN",
          "FIN",
          "LBR",
          "NOR",
          "SVK",
          "change",
          "CAF",
          "OMN",
          "IRL",
          "NZL",
          "MRT",
          "CRI",
          "KWT",
          "PAN",
          "HRV",
          "GEO",
          "MNG",
          "URY",
          "PRI",
          "BIH",
          "QAT",
          "change",
          "NAM",
          "ARM",
          "LTU",
          "JAM",
          "ALB",
          "GMB",
          "GAB",
          "BWA",
          "LSO",
          "GNB",
          "SVN",
          "GNQ",
          "LVA",
          "MKD",
          "BHR",
          "TTO",
          "TLS",
          "EST",
          "CYP",
          "MUS",
          "SWZ",
          "DJI",
          "FJI",
          "COM",
          "GUY",
          "SLB",
          "BTN",
          "LUX",
          "MNE",
          "SUR",
          "MLT",
          "MDV",
          "change",
          "BLZ",
          "ISL",
          "VUT",
          "BRB",
          "STP",
          "WSM",
          "SYC",
          "TON"
         ],
         "name": "",
         "z": [
          79.0,
          78.0,
          68.0,
          74.0,
          null,
          null,
          76.0,
          null,
          73.0,
          null,
          74.0,
          82.0,
          94.0,
          50.0,
          null,
          72.0,
          100.0,
          53.0,
          73.0,
          55.0,
          null,
          53.0,
          59.0,
          74.0,
          null,
          null,
          null,
          84.0,
          null,
          null,
          61.0,
          null,
          null,
          64.0,
          null,
          null,
          55.0,
          65.0,
          96.0,
          null,
          71.0,
          null,
          79.0,
          null,
          null,
          null,
          100.0,
          null,
          null,
          null,
          null,
          null,
          65.0,
          null,
          null,
          null,
          null,
          null,
          null,
          null,
          null,
          null,
          71.0,
          null,
          null,
          null,
          null,
          63.0,
          null,
          78.0,
          null,
          null,
          null,
          null,
          null,
          null,
          84.0,
          null,
          null,
          63.0,
          null,
          73.0,
          84.0,
          null,
          75.0,
          44.0,
          null,
          null,
          64.0,
          null,
          74.0,
          79.0,
          null,
          null,
          70.0,
          null,
          59.0,
          null,
          null,
          null,
          null,
          null,
          null,
          null,
          null,
          59.0,
          null,
          null,
          null,
          54.0,
          71.0,
          null,
          null,
          null,
          41.0,
          null,
          null,
          null,
          null,
          49.0,
          null,
          null,
          null,
          null,
          null,
          69.0,
          null,
          null,
          null,
          null,
          null,
          null,
          null,
          null,
          null,
          null,
          null,
          null,
          null,
          null,
          null,
          null,
          null,
          null,
          null,
          null,
          null,
          88.0,
          null,
          null,
          null,
          null,
          null,
          null,
          null,
          null,
          null,
          null,
          null,
          null,
          null,
          null,
          null,
          null,
          null,
          null,
          null,
          null,
          null,
          null,
          null,
          null,
          null,
          null
         ],
         "type": "choropleth"
        }
       ],
       "layout": {
        "template": {
         "data": {
          "histogram2dcontour": [
           {
            "type": "histogram2dcontour",
            "colorbar": {
             "outlinewidth": 0,
             "ticks": ""
            },
            "colorscale": [
             [
              0.0,
              "#0d0887"
             ],
             [
              0.1111111111111111,
              "#46039f"
             ],
             [
              0.2222222222222222,
              "#7201a8"
             ],
             [
              0.3333333333333333,
              "#9c179e"
             ],
             [
              0.4444444444444444,
              "#bd3786"
             ],
             [
              0.5555555555555556,
              "#d8576b"
             ],
             [
              0.6666666666666666,
              "#ed7953"
             ],
             [
              0.7777777777777778,
              "#fb9f3a"
             ],
             [
              0.8888888888888888,
              "#fdca26"
             ],
             [
              1.0,
              "#f0f921"
             ]
            ]
           }
          ],
          "choropleth": [
           {
            "type": "choropleth",
            "colorbar": {
             "outlinewidth": 0,
             "ticks": ""
            }
           }
          ],
          "histogram2d": [
           {
            "type": "histogram2d",
            "colorbar": {
             "outlinewidth": 0,
             "ticks": ""
            },
            "colorscale": [
             [
              0.0,
              "#0d0887"
             ],
             [
              0.1111111111111111,
              "#46039f"
             ],
             [
              0.2222222222222222,
              "#7201a8"
             ],
             [
              0.3333333333333333,
              "#9c179e"
             ],
             [
              0.4444444444444444,
              "#bd3786"
             ],
             [
              0.5555555555555556,
              "#d8576b"
             ],
             [
              0.6666666666666666,
              "#ed7953"
             ],
             [
              0.7777777777777778,
              "#fb9f3a"
             ],
             [
              0.8888888888888888,
              "#fdca26"
             ],
             [
              1.0,
              "#f0f921"
             ]
            ]
           }
          ],
          "heatmap": [
           {
            "type": "heatmap",
            "colorbar": {
             "outlinewidth": 0,
             "ticks": ""
            },
            "colorscale": [
             [
              0.0,
              "#0d0887"
             ],
             [
              0.1111111111111111,
              "#46039f"
             ],
             [
              0.2222222222222222,
              "#7201a8"
             ],
             [
              0.3333333333333333,
              "#9c179e"
             ],
             [
              0.4444444444444444,
              "#bd3786"
             ],
             [
              0.5555555555555556,
              "#d8576b"
             ],
             [
              0.6666666666666666,
              "#ed7953"
             ],
             [
              0.7777777777777778,
              "#fb9f3a"
             ],
             [
              0.8888888888888888,
              "#fdca26"
             ],
             [
              1.0,
              "#f0f921"
             ]
            ]
           }
          ],
          "heatmapgl": [
           {
            "type": "heatmapgl",
            "colorbar": {
             "outlinewidth": 0,
             "ticks": ""
            },
            "colorscale": [
             [
              0.0,
              "#0d0887"
             ],
             [
              0.1111111111111111,
              "#46039f"
             ],
             [
              0.2222222222222222,
              "#7201a8"
             ],
             [
              0.3333333333333333,
              "#9c179e"
             ],
             [
              0.4444444444444444,
              "#bd3786"
             ],
             [
              0.5555555555555556,
              "#d8576b"
             ],
             [
              0.6666666666666666,
              "#ed7953"
             ],
             [
              0.7777777777777778,
              "#fb9f3a"
             ],
             [
              0.8888888888888888,
              "#fdca26"
             ],
             [
              1.0,
              "#f0f921"
             ]
            ]
           }
          ],
          "contourcarpet": [
           {
            "type": "contourcarpet",
            "colorbar": {
             "outlinewidth": 0,
             "ticks": ""
            }
           }
          ],
          "contour": [
           {
            "type": "contour",
            "colorbar": {
             "outlinewidth": 0,
             "ticks": ""
            },
            "colorscale": [
             [
              0.0,
              "#0d0887"
             ],
             [
              0.1111111111111111,
              "#46039f"
             ],
             [
              0.2222222222222222,
              "#7201a8"
             ],
             [
              0.3333333333333333,
              "#9c179e"
             ],
             [
              0.4444444444444444,
              "#bd3786"
             ],
             [
              0.5555555555555556,
              "#d8576b"
             ],
             [
              0.6666666666666666,
              "#ed7953"
             ],
             [
              0.7777777777777778,
              "#fb9f3a"
             ],
             [
              0.8888888888888888,
              "#fdca26"
             ],
             [
              1.0,
              "#f0f921"
             ]
            ]
           }
          ],
          "surface": [
           {
            "type": "surface",
            "colorbar": {
             "outlinewidth": 0,
             "ticks": ""
            },
            "colorscale": [
             [
              0.0,
              "#0d0887"
             ],
             [
              0.1111111111111111,
              "#46039f"
             ],
             [
              0.2222222222222222,
              "#7201a8"
             ],
             [
              0.3333333333333333,
              "#9c179e"
             ],
             [
              0.4444444444444444,
              "#bd3786"
             ],
             [
              0.5555555555555556,
              "#d8576b"
             ],
             [
              0.6666666666666666,
              "#ed7953"
             ],
             [
              0.7777777777777778,
              "#fb9f3a"
             ],
             [
              0.8888888888888888,
              "#fdca26"
             ],
             [
              1.0,
              "#f0f921"
             ]
            ]
           }
          ],
          "mesh3d": [
           {
            "type": "mesh3d",
            "colorbar": {
             "outlinewidth": 0,
             "ticks": ""
            }
           }
          ],
          "scatter": [
           {
            "fillpattern": {
             "fillmode": "overlay",
             "size": 10,
             "solidity": 0.2
            },
            "type": "scatter"
           }
          ],
          "parcoords": [
           {
            "type": "parcoords",
            "line": {
             "colorbar": {
              "outlinewidth": 0,
              "ticks": ""
             }
            }
           }
          ],
          "scatterpolargl": [
           {
            "type": "scatterpolargl",
            "marker": {
             "colorbar": {
              "outlinewidth": 0,
              "ticks": ""
             }
            }
           }
          ],
          "bar": [
           {
            "error_x": {
             "color": "#2a3f5f"
            },
            "error_y": {
             "color": "#2a3f5f"
            },
            "marker": {
             "line": {
              "color": "#E5ECF6",
              "width": 0.5
             },
             "pattern": {
              "fillmode": "overlay",
              "size": 10,
              "solidity": 0.2
             }
            },
            "type": "bar"
           }
          ],
          "scattergeo": [
           {
            "type": "scattergeo",
            "marker": {
             "colorbar": {
              "outlinewidth": 0,
              "ticks": ""
             }
            }
           }
          ],
          "scatterpolar": [
           {
            "type": "scatterpolar",
            "marker": {
             "colorbar": {
              "outlinewidth": 0,
              "ticks": ""
             }
            }
           }
          ],
          "histogram": [
           {
            "marker": {
             "pattern": {
              "fillmode": "overlay",
              "size": 10,
              "solidity": 0.2
             }
            },
            "type": "histogram"
           }
          ],
          "scattergl": [
           {
            "type": "scattergl",
            "marker": {
             "colorbar": {
              "outlinewidth": 0,
              "ticks": ""
             }
            }
           }
          ],
          "scatter3d": [
           {
            "type": "scatter3d",
            "line": {
             "colorbar": {
              "outlinewidth": 0,
              "ticks": ""
             }
            },
            "marker": {
             "colorbar": {
              "outlinewidth": 0,
              "ticks": ""
             }
            }
           }
          ],
          "scattermapbox": [
           {
            "type": "scattermapbox",
            "marker": {
             "colorbar": {
              "outlinewidth": 0,
              "ticks": ""
             }
            }
           }
          ],
          "scatterternary": [
           {
            "type": "scatterternary",
            "marker": {
             "colorbar": {
              "outlinewidth": 0,
              "ticks": ""
             }
            }
           }
          ],
          "scattercarpet": [
           {
            "type": "scattercarpet",
            "marker": {
             "colorbar": {
              "outlinewidth": 0,
              "ticks": ""
             }
            }
           }
          ],
          "carpet": [
           {
            "aaxis": {
             "endlinecolor": "#2a3f5f",
             "gridcolor": "white",
             "linecolor": "white",
             "minorgridcolor": "white",
             "startlinecolor": "#2a3f5f"
            },
            "baxis": {
             "endlinecolor": "#2a3f5f",
             "gridcolor": "white",
             "linecolor": "white",
             "minorgridcolor": "white",
             "startlinecolor": "#2a3f5f"
            },
            "type": "carpet"
           }
          ],
          "table": [
           {
            "cells": {
             "fill": {
              "color": "#EBF0F8"
             },
             "line": {
              "color": "white"
             }
            },
            "header": {
             "fill": {
              "color": "#C8D4E3"
             },
             "line": {
              "color": "white"
             }
            },
            "type": "table"
           }
          ],
          "barpolar": [
           {
            "marker": {
             "line": {
              "color": "#E5ECF6",
              "width": 0.5
             },
             "pattern": {
              "fillmode": "overlay",
              "size": 10,
              "solidity": 0.2
             }
            },
            "type": "barpolar"
           }
          ],
          "pie": [
           {
            "automargin": true,
            "type": "pie"
           }
          ]
         },
         "layout": {
          "autotypenumbers": "strict",
          "colorway": [
           "#636efa",
           "#EF553B",
           "#00cc96",
           "#ab63fa",
           "#FFA15A",
           "#19d3f3",
           "#FF6692",
           "#B6E880",
           "#FF97FF",
           "#FECB52"
          ],
          "font": {
           "color": "#2a3f5f"
          },
          "hovermode": "closest",
          "hoverlabel": {
           "align": "left"
          },
          "paper_bgcolor": "white",
          "plot_bgcolor": "#E5ECF6",
          "polar": {
           "bgcolor": "#E5ECF6",
           "angularaxis": {
            "gridcolor": "white",
            "linecolor": "white",
            "ticks": ""
           },
           "radialaxis": {
            "gridcolor": "white",
            "linecolor": "white",
            "ticks": ""
           }
          },
          "ternary": {
           "bgcolor": "#E5ECF6",
           "aaxis": {
            "gridcolor": "white",
            "linecolor": "white",
            "ticks": ""
           },
           "baxis": {
            "gridcolor": "white",
            "linecolor": "white",
            "ticks": ""
           },
           "caxis": {
            "gridcolor": "white",
            "linecolor": "white",
            "ticks": ""
           }
          },
          "coloraxis": {
           "colorbar": {
            "outlinewidth": 0,
            "ticks": ""
           }
          },
          "colorscale": {
           "sequential": [
            [
             0.0,
             "#0d0887"
            ],
            [
             0.1111111111111111,
             "#46039f"
            ],
            [
             0.2222222222222222,
             "#7201a8"
            ],
            [
             0.3333333333333333,
             "#9c179e"
            ],
            [
             0.4444444444444444,
             "#bd3786"
            ],
            [
             0.5555555555555556,
             "#d8576b"
            ],
            [
             0.6666666666666666,
             "#ed7953"
            ],
            [
             0.7777777777777778,
             "#fb9f3a"
            ],
            [
             0.8888888888888888,
             "#fdca26"
            ],
            [
             1.0,
             "#f0f921"
            ]
           ],
           "sequentialminus": [
            [
             0.0,
             "#0d0887"
            ],
            [
             0.1111111111111111,
             "#46039f"
            ],
            [
             0.2222222222222222,
             "#7201a8"
            ],
            [
             0.3333333333333333,
             "#9c179e"
            ],
            [
             0.4444444444444444,
             "#bd3786"
            ],
            [
             0.5555555555555556,
             "#d8576b"
            ],
            [
             0.6666666666666666,
             "#ed7953"
            ],
            [
             0.7777777777777778,
             "#fb9f3a"
            ],
            [
             0.8888888888888888,
             "#fdca26"
            ],
            [
             1.0,
             "#f0f921"
            ]
           ],
           "diverging": [
            [
             0,
             "#8e0152"
            ],
            [
             0.1,
             "#c51b7d"
            ],
            [
             0.2,
             "#de77ae"
            ],
            [
             0.3,
             "#f1b6da"
            ],
            [
             0.4,
             "#fde0ef"
            ],
            [
             0.5,
             "#f7f7f7"
            ],
            [
             0.6,
             "#e6f5d0"
            ],
            [
             0.7,
             "#b8e186"
            ],
            [
             0.8,
             "#7fbc41"
            ],
            [
             0.9,
             "#4d9221"
            ],
            [
             1,
             "#276419"
            ]
           ]
          },
          "xaxis": {
           "gridcolor": "white",
           "linecolor": "white",
           "ticks": "",
           "title": {
            "standoff": 15
           },
           "zerolinecolor": "white",
           "automargin": true,
           "zerolinewidth": 2
          },
          "yaxis": {
           "gridcolor": "white",
           "linecolor": "white",
           "ticks": "",
           "title": {
            "standoff": 15
           },
           "zerolinecolor": "white",
           "automargin": true,
           "zerolinewidth": 2
          },
          "scene": {
           "xaxis": {
            "backgroundcolor": "#E5ECF6",
            "gridcolor": "white",
            "linecolor": "white",
            "showbackground": true,
            "ticks": "",
            "zerolinecolor": "white",
            "gridwidth": 2
           },
           "yaxis": {
            "backgroundcolor": "#E5ECF6",
            "gridcolor": "white",
            "linecolor": "white",
            "showbackground": true,
            "ticks": "",
            "zerolinecolor": "white",
            "gridwidth": 2
           },
           "zaxis": {
            "backgroundcolor": "#E5ECF6",
            "gridcolor": "white",
            "linecolor": "white",
            "showbackground": true,
            "ticks": "",
            "zerolinecolor": "white",
            "gridwidth": 2
           }
          },
          "shapedefaults": {
           "line": {
            "color": "#2a3f5f"
           }
          },
          "annotationdefaults": {
           "arrowcolor": "#2a3f5f",
           "arrowhead": 0,
           "arrowwidth": 1
          },
          "geo": {
           "bgcolor": "white",
           "landcolor": "#E5ECF6",
           "subunitcolor": "white",
           "showland": true,
           "showlakes": true,
           "lakecolor": "white"
          },
          "title": {
           "x": 0.05
          },
          "mapbox": {
           "style": "light"
          }
         }
        },
        "geo": {
         "domain": {
          "x": [
           0.0,
           1.0
          ],
          "y": [
           0.0,
           1.0
          ]
         },
         "projection": {
          "type": "natural earth"
         },
         "center": {}
        },
        "coloraxis": {
         "colorbar": {
          "title": {
           "text": "WDIGlobalGenderGap_2019"
          }
         },
         "colorscale": [
          [
           0.0,
           "#0d0887"
          ],
          [
           0.1111111111111111,
           "#46039f"
          ],
          [
           0.2222222222222222,
           "#7201a8"
          ],
          [
           0.3333333333333333,
           "#9c179e"
          ],
          [
           0.4444444444444444,
           "#bd3786"
          ],
          [
           0.5555555555555556,
           "#d8576b"
          ],
          [
           0.6666666666666666,
           "#ed7953"
          ],
          [
           0.7777777777777778,
           "#fb9f3a"
          ],
          [
           0.8888888888888888,
           "#fdca26"
          ],
          [
           1.0,
           "#f0f921"
          ]
         ]
        },
        "legend": {
         "tracegroupgap": 0
        },
        "title": {
         "text": "WDIGlobalGenderGap_2019"
        }
       },
       "config": {
        "plotlyServerURL": "https://plot.ly"
       }
      },
      "text/html": [
       "<div>                            <div id=\"97789e8b-01a2-4dd5-88a8-9d8ae2284bce\" class=\"plotly-graph-div\" style=\"height:525px; width:100%;\"></div>            <script type=\"text/javascript\">                require([\"plotly\"], function(Plotly) {                    window.PLOTLYENV=window.PLOTLYENV || {};                                    if (document.getElementById(\"97789e8b-01a2-4dd5-88a8-9d8ae2284bce\")) {                    Plotly.newPlot(                        \"97789e8b-01a2-4dd5-88a8-9d8ae2284bce\",                        [{\"coloraxis\":\"coloraxis\",\"geo\":\"geo\",\"hovertemplate\":\"\\u003cb\\u003e%{hovertext}\\u003c\\u002fb\\u003e\\u003cbr\\u003e\\u003cbr\\u003eiso_alpha=%{location}\\u003cbr\\u003eWDIGlobalGenderGap_2019=%{z}\\u003cextra\\u003e\\u003c\\u002fextra\\u003e\",\"hovertext\":[\"India\",\"China\",\"United States\",\"Indonesia\",\"Pakistan\",\"Nigeria\",\"Brazil\",\"Bangladesh\",\"Russia\",\"Ethiopia\",\"Mexico\",\"Japan\",\"Egypt\",\"Philippines\",\"DR Congo\",\"Vietnam\",\"Iran\",\"Germany\",\"Thailand\",\"United Kingdom\",\"Tanzania\",\"France\",\"South Africa\",\"Italy\",\"Kenya\",\"Myanmar\",\"Colombia\",\"South Korea\",\"Sudan\",\"Uganda\",\"Spain\",\"Algeria\",\"Iraq\",\"Argentina\",\"Afghanistan\",\"Yemen\",\"Canada\",\"Poland\",\"Morocco\",\"Angola\",\"Ukraine\",\"Uzbekistan\",\"Malaysia\",\"Mozambique\",\"Ghana\",\"Peru\",\"Saudi Arabia\",\"Madagascar\",\"Nepal\",\"Cameroon\",\"Venezuela\",\"Niger\",\"Australia\",\"Syria\",\"Mali\",\"Burkina Faso\",\"Taiwan\",\"Sri Lanka\",\"Malawi\",\"Zambia\",\"Kazakhstan\",\"Chad\",\"Chile\",\"Romania\",\"Somalia\",\"Senegal\",\"Guatemala\",\"Netherlands\",\"Ecuador\",\"Cambodia\",\"Zimbabwe\",\"Guinea\",\"Benin\",\"Rwanda\",\"Burundi\",\"Bolivia\",\"Tunisia\",\"South Sudan\",\"Haiti\",\"Belgium\",\"Jordan\",\"Dominican Republic\",\"United Arab Emirates\",\"Honduras\",\"Czech Republic\",\"Sweden\",\"Tajikistan\",\"Papua New Guinea\",\"Portugal\",\"Azerbaijan\",\"Greece\",\"Hungary\",\"Togo\",\"Israel\",\"Austria\",\"Belarus\",\"Switzerland\",\"Sierra Leone\",\"Laos\",\"Turkmenistan\",\"Hong Kong\",\"Libya\",\"Kyrgyzstan\",\"Paraguay\",\"Nicaragua\",\"Bulgaria\",\"Serbia\",\"El Salvador\",\"Republic of the Congo\",\"Denmark\",\"Singapore\",\"Lebanon\",\"Finland\",\"Liberia\",\"Norway\",\"Slovakia\",\"Palestine\",\"Central African Republic\",\"Oman\",\"Ireland\",\"New Zealand\",\"Mauritania\",\"Costa Rica\",\"Kuwait\",\"Panama\",\"Croatia\",\"Georgia\",\"Mongolia\",\"Uruguay\",\"Puerto Rico\",\"Bosnia and Herzegovina\",\"Qatar\",\"Moldova\",\"Namibia\",\"Armenia\",\"Lithuania\",\"Jamaica\",\"Albania\",\"Gambia\",\"Gabon\",\"Botswana\",\"Lesotho\",\"Guinea-Bissau\",\"Slovenia\",\"Equatorial Guinea\",\"Latvia\",\"North Macedonia\",\"Bahrain\",\"Trinidad and Tobago\",\"Timor-Leste\",\"Estonia\",\"Cyprus\",\"Mauritius\",\"Eswatini\",\"Djibouti\",\"Fiji\",\"Comoros\",\"Guyana\",\"Solomon Islands\",\"Bhutan\",\"Luxembourg\",\"Montenegro\",\"Suriname\",\"Malta\",\"Maldives\",\"Cape Verde\",\"Belize\",\"Iceland\",\"Vanuatu\",\"Barbados\",\"Sao Tome and Principe\",\"Samoa\",\"Seychelles\",\"Tonga\"],\"locations\":[\"IND\",\"CHN\",\"USA\",\"IDN\",\"PAK\",\"NGA\",\"BRA\",\"BGD\",\"change\",\"ETH\",\"MEX\",\"JPN\",\"EGY\",\"PHL\",\"change\",\"change\",\"change\",\"DEU\",\"THA\",\"GBR\",\"change\",\"FRA\",\"ZAF\",\"ITA\",\"KEN\",\"MMR\",\"COL\",\"change\",\"SDN\",\"UGA\",\"ESP\",\"DZA\",\"IRQ\",\"ARG\",\"AFG\",\"YEM\",\"CAN\",\"POL\",\"MAR\",\"AGO\",\"UKR\",\"UZB\",\"MYS\",\"MOZ\",\"GHA\",\"PER\",\"SAU\",\"MDG\",\"NPL\",\"CMR\",\"change\",\"NER\",\"AUS\",\"change\",\"MLI\",\"BFA\",\"change\",\"LKA\",\"MWI\",\"ZMB\",\"KAZ\",\"TCD\",\"CHL\",\"ROU\",\"SOM\",\"SEN\",\"GTM\",\"NLD\",\"ECU\",\"KHM\",\"ZWE\",\"GIN\",\"BEN\",\"RWA\",\"BDI\",\"change\",\"TUN\",\"SSD\",\"HTI\",\"BEL\",\"JOR\",\"DOM\",\"ARE\",\"HND\",\"change\",\"SWE\",\"TJK\",\"PNG\",\"PRT\",\"AZE\",\"GRC\",\"HUN\",\"TGO\",\"ISR\",\"AUT\",\"BLR\",\"CHE\",\"SLE\",\"change\",\"TKM\",\"HKG\",\"LBY\",\"KGZ\",\"PRY\",\"NIC\",\"BGR\",\"SRB\",\"SLV\",\"change\",\"DNK\",\"SGP\",\"LBN\",\"FIN\",\"LBR\",\"NOR\",\"SVK\",\"change\",\"CAF\",\"OMN\",\"IRL\",\"NZL\",\"MRT\",\"CRI\",\"KWT\",\"PAN\",\"HRV\",\"GEO\",\"MNG\",\"URY\",\"PRI\",\"BIH\",\"QAT\",\"change\",\"NAM\",\"ARM\",\"LTU\",\"JAM\",\"ALB\",\"GMB\",\"GAB\",\"BWA\",\"LSO\",\"GNB\",\"SVN\",\"GNQ\",\"LVA\",\"MKD\",\"BHR\",\"TTO\",\"TLS\",\"EST\",\"CYP\",\"MUS\",\"SWZ\",\"DJI\",\"FJI\",\"COM\",\"GUY\",\"SLB\",\"BTN\",\"LUX\",\"MNE\",\"SUR\",\"MLT\",\"MDV\",\"change\",\"BLZ\",\"ISL\",\"VUT\",\"BRB\",\"STP\",\"WSM\",\"SYC\",\"TON\"],\"name\":\"\",\"z\":[79.0,78.0,68.0,74.0,null,null,76.0,null,73.0,null,74.0,82.0,94.0,50.0,null,72.0,100.0,53.0,73.0,55.0,null,53.0,59.0,74.0,null,null,null,84.0,null,null,61.0,null,null,64.0,null,null,55.0,65.0,96.0,null,71.0,null,79.0,null,null,null,100.0,null,null,null,null,null,65.0,null,null,null,null,null,null,null,null,null,71.0,null,null,null,null,63.0,null,78.0,null,null,null,null,null,null,84.0,null,null,63.0,null,73.0,84.0,null,75.0,44.0,null,null,64.0,null,74.0,79.0,null,null,70.0,null,59.0,null,null,null,null,null,null,null,null,59.0,null,null,null,54.0,71.0,null,null,null,41.0,null,null,null,null,49.0,null,null,null,null,null,69.0,null,null,null,null,null,null,null,null,null,null,null,null,null,null,null,null,null,null,null,null,null,88.0,null,null,null,null,null,null,null,null,null,null,null,null,null,null,null,null,null,null,null,null,null,null,null,null,null,null],\"type\":\"choropleth\"}],                        {\"template\":{\"data\":{\"histogram2dcontour\":[{\"type\":\"histogram2dcontour\",\"colorbar\":{\"outlinewidth\":0,\"ticks\":\"\"},\"colorscale\":[[0.0,\"#0d0887\"],[0.1111111111111111,\"#46039f\"],[0.2222222222222222,\"#7201a8\"],[0.3333333333333333,\"#9c179e\"],[0.4444444444444444,\"#bd3786\"],[0.5555555555555556,\"#d8576b\"],[0.6666666666666666,\"#ed7953\"],[0.7777777777777778,\"#fb9f3a\"],[0.8888888888888888,\"#fdca26\"],[1.0,\"#f0f921\"]]}],\"choropleth\":[{\"type\":\"choropleth\",\"colorbar\":{\"outlinewidth\":0,\"ticks\":\"\"}}],\"histogram2d\":[{\"type\":\"histogram2d\",\"colorbar\":{\"outlinewidth\":0,\"ticks\":\"\"},\"colorscale\":[[0.0,\"#0d0887\"],[0.1111111111111111,\"#46039f\"],[0.2222222222222222,\"#7201a8\"],[0.3333333333333333,\"#9c179e\"],[0.4444444444444444,\"#bd3786\"],[0.5555555555555556,\"#d8576b\"],[0.6666666666666666,\"#ed7953\"],[0.7777777777777778,\"#fb9f3a\"],[0.8888888888888888,\"#fdca26\"],[1.0,\"#f0f921\"]]}],\"heatmap\":[{\"type\":\"heatmap\",\"colorbar\":{\"outlinewidth\":0,\"ticks\":\"\"},\"colorscale\":[[0.0,\"#0d0887\"],[0.1111111111111111,\"#46039f\"],[0.2222222222222222,\"#7201a8\"],[0.3333333333333333,\"#9c179e\"],[0.4444444444444444,\"#bd3786\"],[0.5555555555555556,\"#d8576b\"],[0.6666666666666666,\"#ed7953\"],[0.7777777777777778,\"#fb9f3a\"],[0.8888888888888888,\"#fdca26\"],[1.0,\"#f0f921\"]]}],\"heatmapgl\":[{\"type\":\"heatmapgl\",\"colorbar\":{\"outlinewidth\":0,\"ticks\":\"\"},\"colorscale\":[[0.0,\"#0d0887\"],[0.1111111111111111,\"#46039f\"],[0.2222222222222222,\"#7201a8\"],[0.3333333333333333,\"#9c179e\"],[0.4444444444444444,\"#bd3786\"],[0.5555555555555556,\"#d8576b\"],[0.6666666666666666,\"#ed7953\"],[0.7777777777777778,\"#fb9f3a\"],[0.8888888888888888,\"#fdca26\"],[1.0,\"#f0f921\"]]}],\"contourcarpet\":[{\"type\":\"contourcarpet\",\"colorbar\":{\"outlinewidth\":0,\"ticks\":\"\"}}],\"contour\":[{\"type\":\"contour\",\"colorbar\":{\"outlinewidth\":0,\"ticks\":\"\"},\"colorscale\":[[0.0,\"#0d0887\"],[0.1111111111111111,\"#46039f\"],[0.2222222222222222,\"#7201a8\"],[0.3333333333333333,\"#9c179e\"],[0.4444444444444444,\"#bd3786\"],[0.5555555555555556,\"#d8576b\"],[0.6666666666666666,\"#ed7953\"],[0.7777777777777778,\"#fb9f3a\"],[0.8888888888888888,\"#fdca26\"],[1.0,\"#f0f921\"]]}],\"surface\":[{\"type\":\"surface\",\"colorbar\":{\"outlinewidth\":0,\"ticks\":\"\"},\"colorscale\":[[0.0,\"#0d0887\"],[0.1111111111111111,\"#46039f\"],[0.2222222222222222,\"#7201a8\"],[0.3333333333333333,\"#9c179e\"],[0.4444444444444444,\"#bd3786\"],[0.5555555555555556,\"#d8576b\"],[0.6666666666666666,\"#ed7953\"],[0.7777777777777778,\"#fb9f3a\"],[0.8888888888888888,\"#fdca26\"],[1.0,\"#f0f921\"]]}],\"mesh3d\":[{\"type\":\"mesh3d\",\"colorbar\":{\"outlinewidth\":0,\"ticks\":\"\"}}],\"scatter\":[{\"fillpattern\":{\"fillmode\":\"overlay\",\"size\":10,\"solidity\":0.2},\"type\":\"scatter\"}],\"parcoords\":[{\"type\":\"parcoords\",\"line\":{\"colorbar\":{\"outlinewidth\":0,\"ticks\":\"\"}}}],\"scatterpolargl\":[{\"type\":\"scatterpolargl\",\"marker\":{\"colorbar\":{\"outlinewidth\":0,\"ticks\":\"\"}}}],\"bar\":[{\"error_x\":{\"color\":\"#2a3f5f\"},\"error_y\":{\"color\":\"#2a3f5f\"},\"marker\":{\"line\":{\"color\":\"#E5ECF6\",\"width\":0.5},\"pattern\":{\"fillmode\":\"overlay\",\"size\":10,\"solidity\":0.2}},\"type\":\"bar\"}],\"scattergeo\":[{\"type\":\"scattergeo\",\"marker\":{\"colorbar\":{\"outlinewidth\":0,\"ticks\":\"\"}}}],\"scatterpolar\":[{\"type\":\"scatterpolar\",\"marker\":{\"colorbar\":{\"outlinewidth\":0,\"ticks\":\"\"}}}],\"histogram\":[{\"marker\":{\"pattern\":{\"fillmode\":\"overlay\",\"size\":10,\"solidity\":0.2}},\"type\":\"histogram\"}],\"scattergl\":[{\"type\":\"scattergl\",\"marker\":{\"colorbar\":{\"outlinewidth\":0,\"ticks\":\"\"}}}],\"scatter3d\":[{\"type\":\"scatter3d\",\"line\":{\"colorbar\":{\"outlinewidth\":0,\"ticks\":\"\"}},\"marker\":{\"colorbar\":{\"outlinewidth\":0,\"ticks\":\"\"}}}],\"scattermapbox\":[{\"type\":\"scattermapbox\",\"marker\":{\"colorbar\":{\"outlinewidth\":0,\"ticks\":\"\"}}}],\"scatterternary\":[{\"type\":\"scatterternary\",\"marker\":{\"colorbar\":{\"outlinewidth\":0,\"ticks\":\"\"}}}],\"scattercarpet\":[{\"type\":\"scattercarpet\",\"marker\":{\"colorbar\":{\"outlinewidth\":0,\"ticks\":\"\"}}}],\"carpet\":[{\"aaxis\":{\"endlinecolor\":\"#2a3f5f\",\"gridcolor\":\"white\",\"linecolor\":\"white\",\"minorgridcolor\":\"white\",\"startlinecolor\":\"#2a3f5f\"},\"baxis\":{\"endlinecolor\":\"#2a3f5f\",\"gridcolor\":\"white\",\"linecolor\":\"white\",\"minorgridcolor\":\"white\",\"startlinecolor\":\"#2a3f5f\"},\"type\":\"carpet\"}],\"table\":[{\"cells\":{\"fill\":{\"color\":\"#EBF0F8\"},\"line\":{\"color\":\"white\"}},\"header\":{\"fill\":{\"color\":\"#C8D4E3\"},\"line\":{\"color\":\"white\"}},\"type\":\"table\"}],\"barpolar\":[{\"marker\":{\"line\":{\"color\":\"#E5ECF6\",\"width\":0.5},\"pattern\":{\"fillmode\":\"overlay\",\"size\":10,\"solidity\":0.2}},\"type\":\"barpolar\"}],\"pie\":[{\"automargin\":true,\"type\":\"pie\"}]},\"layout\":{\"autotypenumbers\":\"strict\",\"colorway\":[\"#636efa\",\"#EF553B\",\"#00cc96\",\"#ab63fa\",\"#FFA15A\",\"#19d3f3\",\"#FF6692\",\"#B6E880\",\"#FF97FF\",\"#FECB52\"],\"font\":{\"color\":\"#2a3f5f\"},\"hovermode\":\"closest\",\"hoverlabel\":{\"align\":\"left\"},\"paper_bgcolor\":\"white\",\"plot_bgcolor\":\"#E5ECF6\",\"polar\":{\"bgcolor\":\"#E5ECF6\",\"angularaxis\":{\"gridcolor\":\"white\",\"linecolor\":\"white\",\"ticks\":\"\"},\"radialaxis\":{\"gridcolor\":\"white\",\"linecolor\":\"white\",\"ticks\":\"\"}},\"ternary\":{\"bgcolor\":\"#E5ECF6\",\"aaxis\":{\"gridcolor\":\"white\",\"linecolor\":\"white\",\"ticks\":\"\"},\"baxis\":{\"gridcolor\":\"white\",\"linecolor\":\"white\",\"ticks\":\"\"},\"caxis\":{\"gridcolor\":\"white\",\"linecolor\":\"white\",\"ticks\":\"\"}},\"coloraxis\":{\"colorbar\":{\"outlinewidth\":0,\"ticks\":\"\"}},\"colorscale\":{\"sequential\":[[0.0,\"#0d0887\"],[0.1111111111111111,\"#46039f\"],[0.2222222222222222,\"#7201a8\"],[0.3333333333333333,\"#9c179e\"],[0.4444444444444444,\"#bd3786\"],[0.5555555555555556,\"#d8576b\"],[0.6666666666666666,\"#ed7953\"],[0.7777777777777778,\"#fb9f3a\"],[0.8888888888888888,\"#fdca26\"],[1.0,\"#f0f921\"]],\"sequentialminus\":[[0.0,\"#0d0887\"],[0.1111111111111111,\"#46039f\"],[0.2222222222222222,\"#7201a8\"],[0.3333333333333333,\"#9c179e\"],[0.4444444444444444,\"#bd3786\"],[0.5555555555555556,\"#d8576b\"],[0.6666666666666666,\"#ed7953\"],[0.7777777777777778,\"#fb9f3a\"],[0.8888888888888888,\"#fdca26\"],[1.0,\"#f0f921\"]],\"diverging\":[[0,\"#8e0152\"],[0.1,\"#c51b7d\"],[0.2,\"#de77ae\"],[0.3,\"#f1b6da\"],[0.4,\"#fde0ef\"],[0.5,\"#f7f7f7\"],[0.6,\"#e6f5d0\"],[0.7,\"#b8e186\"],[0.8,\"#7fbc41\"],[0.9,\"#4d9221\"],[1,\"#276419\"]]},\"xaxis\":{\"gridcolor\":\"white\",\"linecolor\":\"white\",\"ticks\":\"\",\"title\":{\"standoff\":15},\"zerolinecolor\":\"white\",\"automargin\":true,\"zerolinewidth\":2},\"yaxis\":{\"gridcolor\":\"white\",\"linecolor\":\"white\",\"ticks\":\"\",\"title\":{\"standoff\":15},\"zerolinecolor\":\"white\",\"automargin\":true,\"zerolinewidth\":2},\"scene\":{\"xaxis\":{\"backgroundcolor\":\"#E5ECF6\",\"gridcolor\":\"white\",\"linecolor\":\"white\",\"showbackground\":true,\"ticks\":\"\",\"zerolinecolor\":\"white\",\"gridwidth\":2},\"yaxis\":{\"backgroundcolor\":\"#E5ECF6\",\"gridcolor\":\"white\",\"linecolor\":\"white\",\"showbackground\":true,\"ticks\":\"\",\"zerolinecolor\":\"white\",\"gridwidth\":2},\"zaxis\":{\"backgroundcolor\":\"#E5ECF6\",\"gridcolor\":\"white\",\"linecolor\":\"white\",\"showbackground\":true,\"ticks\":\"\",\"zerolinecolor\":\"white\",\"gridwidth\":2}},\"shapedefaults\":{\"line\":{\"color\":\"#2a3f5f\"}},\"annotationdefaults\":{\"arrowcolor\":\"#2a3f5f\",\"arrowhead\":0,\"arrowwidth\":1},\"geo\":{\"bgcolor\":\"white\",\"landcolor\":\"#E5ECF6\",\"subunitcolor\":\"white\",\"showland\":true,\"showlakes\":true,\"lakecolor\":\"white\"},\"title\":{\"x\":0.05},\"mapbox\":{\"style\":\"light\"}}},\"geo\":{\"domain\":{\"x\":[0.0,1.0],\"y\":[0.0,1.0]},\"projection\":{\"type\":\"natural earth\"},\"center\":{}},\"coloraxis\":{\"colorbar\":{\"title\":{\"text\":\"WDIGlobalGenderGap_2019\"}},\"colorscale\":[[0.0,\"#0d0887\"],[0.1111111111111111,\"#46039f\"],[0.2222222222222222,\"#7201a8\"],[0.3333333333333333,\"#9c179e\"],[0.4444444444444444,\"#bd3786\"],[0.5555555555555556,\"#d8576b\"],[0.6666666666666666,\"#ed7953\"],[0.7777777777777778,\"#fb9f3a\"],[0.8888888888888888,\"#fdca26\"],[1.0,\"#f0f921\"]]},\"legend\":{\"tracegroupgap\":0},\"title\":{\"text\":\"WDIGlobalGenderGap_2019\"}},                        {\"responsive\": true}                    ).then(function(){\n",
       "                            \n",
       "var gd = document.getElementById('97789e8b-01a2-4dd5-88a8-9d8ae2284bce');\n",
       "var x = new MutationObserver(function (mutations, observer) {{\n",
       "        var display = window.getComputedStyle(gd).display;\n",
       "        if (!display || display === 'none') {{\n",
       "            console.log([gd, 'removed!']);\n",
       "            Plotly.purge(gd);\n",
       "            observer.disconnect();\n",
       "        }}\n",
       "}});\n",
       "\n",
       "// Listen for the removal of the full notebook cells\n",
       "var notebookContainer = gd.closest('#notebook-container');\n",
       "if (notebookContainer) {{\n",
       "    x.observe(notebookContainer, {childList: true});\n",
       "}}\n",
       "\n",
       "// Listen for the clearing of the current output cell\n",
       "var outputEl = gd.closest('.output');\n",
       "if (outputEl) {{\n",
       "    x.observe(outputEl, {childList: true});\n",
       "}}\n",
       "\n",
       "                        })                };                });            </script>        </div>"
      ]
     },
     "metadata": {},
     "output_type": "display_data"
    },
    {
     "data": {
      "application/vnd.plotly.v1+json": {
       "data": [
        {
         "coloraxis": "coloraxis",
         "geo": "geo",
         "hovertemplate": "<b>%{hovertext}</b><br><br>iso_alpha=%{location}<br>WDIGenderInequality_2019=%{z}<extra></extra>",
         "hovertext": [
          "India",
          "China",
          "United States",
          "Indonesia",
          "Pakistan",
          "Nigeria",
          "Brazil",
          "Bangladesh",
          "Russia",
          "Ethiopia",
          "Mexico",
          "Japan",
          "Egypt",
          "Philippines",
          "DR Congo",
          "Vietnam",
          "Iran",
          "Germany",
          "Thailand",
          "United Kingdom",
          "Tanzania",
          "France",
          "South Africa",
          "Italy",
          "Kenya",
          "Myanmar",
          "Colombia",
          "South Korea",
          "Sudan",
          "Uganda",
          "Spain",
          "Algeria",
          "Iraq",
          "Argentina",
          "Afghanistan",
          "Yemen",
          "Canada",
          "Poland",
          "Morocco",
          "Angola",
          "Ukraine",
          "Uzbekistan",
          "Malaysia",
          "Mozambique",
          "Ghana",
          "Peru",
          "Saudi Arabia",
          "Madagascar",
          "Nepal",
          "Cameroon",
          "Venezuela",
          "Niger",
          "Australia",
          "Syria",
          "Mali",
          "Burkina Faso",
          "Taiwan",
          "Sri Lanka",
          "Malawi",
          "Zambia",
          "Kazakhstan",
          "Chad",
          "Chile",
          "Romania",
          "Somalia",
          "Senegal",
          "Guatemala",
          "Netherlands",
          "Ecuador",
          "Cambodia",
          "Zimbabwe",
          "Guinea",
          "Benin",
          "Rwanda",
          "Burundi",
          "Bolivia",
          "Tunisia",
          "South Sudan",
          "Haiti",
          "Belgium",
          "Jordan",
          "Dominican Republic",
          "United Arab Emirates",
          "Honduras",
          "Czech Republic",
          "Sweden",
          "Tajikistan",
          "Papua New Guinea",
          "Portugal",
          "Azerbaijan",
          "Greece",
          "Hungary",
          "Togo",
          "Israel",
          "Austria",
          "Belarus",
          "Switzerland",
          "Sierra Leone",
          "Laos",
          "Turkmenistan",
          "Hong Kong",
          "Libya",
          "Kyrgyzstan",
          "Paraguay",
          "Nicaragua",
          "Bulgaria",
          "Serbia",
          "El Salvador",
          "Republic of the Congo",
          "Denmark",
          "Singapore",
          "Lebanon",
          "Finland",
          "Liberia",
          "Norway",
          "Slovakia",
          "Palestine",
          "Central African Republic",
          "Oman",
          "Ireland",
          "New Zealand",
          "Mauritania",
          "Costa Rica",
          "Kuwait",
          "Panama",
          "Croatia",
          "Georgia",
          "Mongolia",
          "Uruguay",
          "Puerto Rico",
          "Bosnia and Herzegovina",
          "Qatar",
          "Moldova",
          "Namibia",
          "Armenia",
          "Lithuania",
          "Jamaica",
          "Albania",
          "Gambia",
          "Gabon",
          "Botswana",
          "Lesotho",
          "Guinea-Bissau",
          "Slovenia",
          "Equatorial Guinea",
          "Latvia",
          "North Macedonia",
          "Bahrain",
          "Trinidad and Tobago",
          "Timor-Leste",
          "Estonia",
          "Cyprus",
          "Mauritius",
          "Eswatini",
          "Djibouti",
          "Fiji",
          "Comoros",
          "Guyana",
          "Solomon Islands",
          "Bhutan",
          "Luxembourg",
          "Montenegro",
          "Suriname",
          "Malta",
          "Maldives",
          "Cape Verde",
          "Belize",
          "Iceland",
          "Vanuatu",
          "Barbados",
          "Sao Tome and Principe",
          "Samoa",
          "Seychelles",
          "Tonga"
         ],
         "locations": [
          "IND",
          "CHN",
          "USA",
          "IDN",
          "PAK",
          "NGA",
          "BRA",
          "BGD",
          "change",
          "ETH",
          "MEX",
          "JPN",
          "EGY",
          "PHL",
          "change",
          "change",
          "change",
          "DEU",
          "THA",
          "GBR",
          "change",
          "FRA",
          "ZAF",
          "ITA",
          "KEN",
          "MMR",
          "COL",
          "change",
          "SDN",
          "UGA",
          "ESP",
          "DZA",
          "IRQ",
          "ARG",
          "AFG",
          "YEM",
          "CAN",
          "POL",
          "MAR",
          "AGO",
          "UKR",
          "UZB",
          "MYS",
          "MOZ",
          "GHA",
          "PER",
          "SAU",
          "MDG",
          "NPL",
          "CMR",
          "change",
          "NER",
          "AUS",
          "change",
          "MLI",
          "BFA",
          "change",
          "LKA",
          "MWI",
          "ZMB",
          "KAZ",
          "TCD",
          "CHL",
          "ROU",
          "SOM",
          "SEN",
          "GTM",
          "NLD",
          "ECU",
          "KHM",
          "ZWE",
          "GIN",
          "BEN",
          "RWA",
          "BDI",
          "change",
          "TUN",
          "SSD",
          "HTI",
          "BEL",
          "JOR",
          "DOM",
          "ARE",
          "HND",
          "change",
          "SWE",
          "TJK",
          "PNG",
          "PRT",
          "AZE",
          "GRC",
          "HUN",
          "TGO",
          "ISR",
          "AUT",
          "BLR",
          "CHE",
          "SLE",
          "change",
          "TKM",
          "HKG",
          "LBY",
          "KGZ",
          "PRY",
          "NIC",
          "BGR",
          "SRB",
          "SLV",
          "change",
          "DNK",
          "SGP",
          "LBN",
          "FIN",
          "LBR",
          "NOR",
          "SVK",
          "change",
          "CAF",
          "OMN",
          "IRL",
          "NZL",
          "MRT",
          "CRI",
          "KWT",
          "PAN",
          "HRV",
          "GEO",
          "MNG",
          "URY",
          "PRI",
          "BIH",
          "QAT",
          "change",
          "NAM",
          "ARM",
          "LTU",
          "JAM",
          "ALB",
          "GMB",
          "GAB",
          "BWA",
          "LSO",
          "GNB",
          "SVN",
          "GNQ",
          "LVA",
          "MKD",
          "BHR",
          "TTO",
          "TLS",
          "EST",
          "CYP",
          "MUS",
          "SWZ",
          "DJI",
          "FJI",
          "COM",
          "GUY",
          "SLB",
          "BTN",
          "LUX",
          "MNE",
          "SUR",
          "MLT",
          "MDV",
          "change",
          "BLZ",
          "ISL",
          "VUT",
          "BRB",
          "STP",
          "WSM",
          "SYC",
          "TON"
         ],
         "name": "",
         "z": [
          100.0,
          29.0,
          36.0,
          86.0,
          null,
          null,
          78.0,
          null,
          49.0,
          null,
          65.0,
          20.0,
          86.0,
          81.0,
          null,
          58.0,
          88.0,
          14.0,
          75.0,
          22.0,
          null,
          16.0,
          74.0,
          17.0,
          null,
          null,
          null,
          12.0,
          null,
          null,
          15.0,
          null,
          null,
          68.0,
          null,
          null,
          18.0,
          25.0,
          92.0,
          null,
          54.0,
          null,
          55.0,
          null,
          null,
          null,
          45.0,
          null,
          null,
          null,
          null,
          null,
          21.0,
          null,
          null,
          null,
          null,
          null,
          null,
          null,
          null,
          null,
          61.0,
          null,
          null,
          null,
          null,
          8.0,
          null,
          90.0,
          null,
          null,
          null,
          null,
          null,
          null,
          57.0,
          null,
          null,
          9.0,
          null,
          86.0,
          44.0,
          null,
          24.0,
          8.0,
          null,
          null,
          17.0,
          null,
          23.0,
          49.0,
          null,
          null,
          14.0,
          null,
          7.0,
          null,
          null,
          null,
          null,
          null,
          null,
          null,
          null,
          41.0,
          null,
          null,
          null,
          8.0,
          13.0,
          null,
          null,
          null,
          9.0,
          null,
          null,
          null,
          null,
          21.0,
          null,
          null,
          null,
          null,
          null,
          24.0,
          null,
          null,
          null,
          null,
          null,
          null,
          null,
          null,
          null,
          null,
          null,
          null,
          null,
          null,
          null,
          null,
          null,
          null,
          null,
          null,
          null,
          42.0,
          null,
          null,
          null,
          null,
          null,
          null,
          null,
          null,
          null,
          null,
          null,
          null,
          null,
          null,
          null,
          null,
          null,
          null,
          null,
          null,
          null,
          null,
          null,
          null,
          null,
          null
         ],
         "type": "choropleth"
        }
       ],
       "layout": {
        "template": {
         "data": {
          "histogram2dcontour": [
           {
            "type": "histogram2dcontour",
            "colorbar": {
             "outlinewidth": 0,
             "ticks": ""
            },
            "colorscale": [
             [
              0.0,
              "#0d0887"
             ],
             [
              0.1111111111111111,
              "#46039f"
             ],
             [
              0.2222222222222222,
              "#7201a8"
             ],
             [
              0.3333333333333333,
              "#9c179e"
             ],
             [
              0.4444444444444444,
              "#bd3786"
             ],
             [
              0.5555555555555556,
              "#d8576b"
             ],
             [
              0.6666666666666666,
              "#ed7953"
             ],
             [
              0.7777777777777778,
              "#fb9f3a"
             ],
             [
              0.8888888888888888,
              "#fdca26"
             ],
             [
              1.0,
              "#f0f921"
             ]
            ]
           }
          ],
          "choropleth": [
           {
            "type": "choropleth",
            "colorbar": {
             "outlinewidth": 0,
             "ticks": ""
            }
           }
          ],
          "histogram2d": [
           {
            "type": "histogram2d",
            "colorbar": {
             "outlinewidth": 0,
             "ticks": ""
            },
            "colorscale": [
             [
              0.0,
              "#0d0887"
             ],
             [
              0.1111111111111111,
              "#46039f"
             ],
             [
              0.2222222222222222,
              "#7201a8"
             ],
             [
              0.3333333333333333,
              "#9c179e"
             ],
             [
              0.4444444444444444,
              "#bd3786"
             ],
             [
              0.5555555555555556,
              "#d8576b"
             ],
             [
              0.6666666666666666,
              "#ed7953"
             ],
             [
              0.7777777777777778,
              "#fb9f3a"
             ],
             [
              0.8888888888888888,
              "#fdca26"
             ],
             [
              1.0,
              "#f0f921"
             ]
            ]
           }
          ],
          "heatmap": [
           {
            "type": "heatmap",
            "colorbar": {
             "outlinewidth": 0,
             "ticks": ""
            },
            "colorscale": [
             [
              0.0,
              "#0d0887"
             ],
             [
              0.1111111111111111,
              "#46039f"
             ],
             [
              0.2222222222222222,
              "#7201a8"
             ],
             [
              0.3333333333333333,
              "#9c179e"
             ],
             [
              0.4444444444444444,
              "#bd3786"
             ],
             [
              0.5555555555555556,
              "#d8576b"
             ],
             [
              0.6666666666666666,
              "#ed7953"
             ],
             [
              0.7777777777777778,
              "#fb9f3a"
             ],
             [
              0.8888888888888888,
              "#fdca26"
             ],
             [
              1.0,
              "#f0f921"
             ]
            ]
           }
          ],
          "heatmapgl": [
           {
            "type": "heatmapgl",
            "colorbar": {
             "outlinewidth": 0,
             "ticks": ""
            },
            "colorscale": [
             [
              0.0,
              "#0d0887"
             ],
             [
              0.1111111111111111,
              "#46039f"
             ],
             [
              0.2222222222222222,
              "#7201a8"
             ],
             [
              0.3333333333333333,
              "#9c179e"
             ],
             [
              0.4444444444444444,
              "#bd3786"
             ],
             [
              0.5555555555555556,
              "#d8576b"
             ],
             [
              0.6666666666666666,
              "#ed7953"
             ],
             [
              0.7777777777777778,
              "#fb9f3a"
             ],
             [
              0.8888888888888888,
              "#fdca26"
             ],
             [
              1.0,
              "#f0f921"
             ]
            ]
           }
          ],
          "contourcarpet": [
           {
            "type": "contourcarpet",
            "colorbar": {
             "outlinewidth": 0,
             "ticks": ""
            }
           }
          ],
          "contour": [
           {
            "type": "contour",
            "colorbar": {
             "outlinewidth": 0,
             "ticks": ""
            },
            "colorscale": [
             [
              0.0,
              "#0d0887"
             ],
             [
              0.1111111111111111,
              "#46039f"
             ],
             [
              0.2222222222222222,
              "#7201a8"
             ],
             [
              0.3333333333333333,
              "#9c179e"
             ],
             [
              0.4444444444444444,
              "#bd3786"
             ],
             [
              0.5555555555555556,
              "#d8576b"
             ],
             [
              0.6666666666666666,
              "#ed7953"
             ],
             [
              0.7777777777777778,
              "#fb9f3a"
             ],
             [
              0.8888888888888888,
              "#fdca26"
             ],
             [
              1.0,
              "#f0f921"
             ]
            ]
           }
          ],
          "surface": [
           {
            "type": "surface",
            "colorbar": {
             "outlinewidth": 0,
             "ticks": ""
            },
            "colorscale": [
             [
              0.0,
              "#0d0887"
             ],
             [
              0.1111111111111111,
              "#46039f"
             ],
             [
              0.2222222222222222,
              "#7201a8"
             ],
             [
              0.3333333333333333,
              "#9c179e"
             ],
             [
              0.4444444444444444,
              "#bd3786"
             ],
             [
              0.5555555555555556,
              "#d8576b"
             ],
             [
              0.6666666666666666,
              "#ed7953"
             ],
             [
              0.7777777777777778,
              "#fb9f3a"
             ],
             [
              0.8888888888888888,
              "#fdca26"
             ],
             [
              1.0,
              "#f0f921"
             ]
            ]
           }
          ],
          "mesh3d": [
           {
            "type": "mesh3d",
            "colorbar": {
             "outlinewidth": 0,
             "ticks": ""
            }
           }
          ],
          "scatter": [
           {
            "fillpattern": {
             "fillmode": "overlay",
             "size": 10,
             "solidity": 0.2
            },
            "type": "scatter"
           }
          ],
          "parcoords": [
           {
            "type": "parcoords",
            "line": {
             "colorbar": {
              "outlinewidth": 0,
              "ticks": ""
             }
            }
           }
          ],
          "scatterpolargl": [
           {
            "type": "scatterpolargl",
            "marker": {
             "colorbar": {
              "outlinewidth": 0,
              "ticks": ""
             }
            }
           }
          ],
          "bar": [
           {
            "error_x": {
             "color": "#2a3f5f"
            },
            "error_y": {
             "color": "#2a3f5f"
            },
            "marker": {
             "line": {
              "color": "#E5ECF6",
              "width": 0.5
             },
             "pattern": {
              "fillmode": "overlay",
              "size": 10,
              "solidity": 0.2
             }
            },
            "type": "bar"
           }
          ],
          "scattergeo": [
           {
            "type": "scattergeo",
            "marker": {
             "colorbar": {
              "outlinewidth": 0,
              "ticks": ""
             }
            }
           }
          ],
          "scatterpolar": [
           {
            "type": "scatterpolar",
            "marker": {
             "colorbar": {
              "outlinewidth": 0,
              "ticks": ""
             }
            }
           }
          ],
          "histogram": [
           {
            "marker": {
             "pattern": {
              "fillmode": "overlay",
              "size": 10,
              "solidity": 0.2
             }
            },
            "type": "histogram"
           }
          ],
          "scattergl": [
           {
            "type": "scattergl",
            "marker": {
             "colorbar": {
              "outlinewidth": 0,
              "ticks": ""
             }
            }
           }
          ],
          "scatter3d": [
           {
            "type": "scatter3d",
            "line": {
             "colorbar": {
              "outlinewidth": 0,
              "ticks": ""
             }
            },
            "marker": {
             "colorbar": {
              "outlinewidth": 0,
              "ticks": ""
             }
            }
           }
          ],
          "scattermapbox": [
           {
            "type": "scattermapbox",
            "marker": {
             "colorbar": {
              "outlinewidth": 0,
              "ticks": ""
             }
            }
           }
          ],
          "scatterternary": [
           {
            "type": "scatterternary",
            "marker": {
             "colorbar": {
              "outlinewidth": 0,
              "ticks": ""
             }
            }
           }
          ],
          "scattercarpet": [
           {
            "type": "scattercarpet",
            "marker": {
             "colorbar": {
              "outlinewidth": 0,
              "ticks": ""
             }
            }
           }
          ],
          "carpet": [
           {
            "aaxis": {
             "endlinecolor": "#2a3f5f",
             "gridcolor": "white",
             "linecolor": "white",
             "minorgridcolor": "white",
             "startlinecolor": "#2a3f5f"
            },
            "baxis": {
             "endlinecolor": "#2a3f5f",
             "gridcolor": "white",
             "linecolor": "white",
             "minorgridcolor": "white",
             "startlinecolor": "#2a3f5f"
            },
            "type": "carpet"
           }
          ],
          "table": [
           {
            "cells": {
             "fill": {
              "color": "#EBF0F8"
             },
             "line": {
              "color": "white"
             }
            },
            "header": {
             "fill": {
              "color": "#C8D4E3"
             },
             "line": {
              "color": "white"
             }
            },
            "type": "table"
           }
          ],
          "barpolar": [
           {
            "marker": {
             "line": {
              "color": "#E5ECF6",
              "width": 0.5
             },
             "pattern": {
              "fillmode": "overlay",
              "size": 10,
              "solidity": 0.2
             }
            },
            "type": "barpolar"
           }
          ],
          "pie": [
           {
            "automargin": true,
            "type": "pie"
           }
          ]
         },
         "layout": {
          "autotypenumbers": "strict",
          "colorway": [
           "#636efa",
           "#EF553B",
           "#00cc96",
           "#ab63fa",
           "#FFA15A",
           "#19d3f3",
           "#FF6692",
           "#B6E880",
           "#FF97FF",
           "#FECB52"
          ],
          "font": {
           "color": "#2a3f5f"
          },
          "hovermode": "closest",
          "hoverlabel": {
           "align": "left"
          },
          "paper_bgcolor": "white",
          "plot_bgcolor": "#E5ECF6",
          "polar": {
           "bgcolor": "#E5ECF6",
           "angularaxis": {
            "gridcolor": "white",
            "linecolor": "white",
            "ticks": ""
           },
           "radialaxis": {
            "gridcolor": "white",
            "linecolor": "white",
            "ticks": ""
           }
          },
          "ternary": {
           "bgcolor": "#E5ECF6",
           "aaxis": {
            "gridcolor": "white",
            "linecolor": "white",
            "ticks": ""
           },
           "baxis": {
            "gridcolor": "white",
            "linecolor": "white",
            "ticks": ""
           },
           "caxis": {
            "gridcolor": "white",
            "linecolor": "white",
            "ticks": ""
           }
          },
          "coloraxis": {
           "colorbar": {
            "outlinewidth": 0,
            "ticks": ""
           }
          },
          "colorscale": {
           "sequential": [
            [
             0.0,
             "#0d0887"
            ],
            [
             0.1111111111111111,
             "#46039f"
            ],
            [
             0.2222222222222222,
             "#7201a8"
            ],
            [
             0.3333333333333333,
             "#9c179e"
            ],
            [
             0.4444444444444444,
             "#bd3786"
            ],
            [
             0.5555555555555556,
             "#d8576b"
            ],
            [
             0.6666666666666666,
             "#ed7953"
            ],
            [
             0.7777777777777778,
             "#fb9f3a"
            ],
            [
             0.8888888888888888,
             "#fdca26"
            ],
            [
             1.0,
             "#f0f921"
            ]
           ],
           "sequentialminus": [
            [
             0.0,
             "#0d0887"
            ],
            [
             0.1111111111111111,
             "#46039f"
            ],
            [
             0.2222222222222222,
             "#7201a8"
            ],
            [
             0.3333333333333333,
             "#9c179e"
            ],
            [
             0.4444444444444444,
             "#bd3786"
            ],
            [
             0.5555555555555556,
             "#d8576b"
            ],
            [
             0.6666666666666666,
             "#ed7953"
            ],
            [
             0.7777777777777778,
             "#fb9f3a"
            ],
            [
             0.8888888888888888,
             "#fdca26"
            ],
            [
             1.0,
             "#f0f921"
            ]
           ],
           "diverging": [
            [
             0,
             "#8e0152"
            ],
            [
             0.1,
             "#c51b7d"
            ],
            [
             0.2,
             "#de77ae"
            ],
            [
             0.3,
             "#f1b6da"
            ],
            [
             0.4,
             "#fde0ef"
            ],
            [
             0.5,
             "#f7f7f7"
            ],
            [
             0.6,
             "#e6f5d0"
            ],
            [
             0.7,
             "#b8e186"
            ],
            [
             0.8,
             "#7fbc41"
            ],
            [
             0.9,
             "#4d9221"
            ],
            [
             1,
             "#276419"
            ]
           ]
          },
          "xaxis": {
           "gridcolor": "white",
           "linecolor": "white",
           "ticks": "",
           "title": {
            "standoff": 15
           },
           "zerolinecolor": "white",
           "automargin": true,
           "zerolinewidth": 2
          },
          "yaxis": {
           "gridcolor": "white",
           "linecolor": "white",
           "ticks": "",
           "title": {
            "standoff": 15
           },
           "zerolinecolor": "white",
           "automargin": true,
           "zerolinewidth": 2
          },
          "scene": {
           "xaxis": {
            "backgroundcolor": "#E5ECF6",
            "gridcolor": "white",
            "linecolor": "white",
            "showbackground": true,
            "ticks": "",
            "zerolinecolor": "white",
            "gridwidth": 2
           },
           "yaxis": {
            "backgroundcolor": "#E5ECF6",
            "gridcolor": "white",
            "linecolor": "white",
            "showbackground": true,
            "ticks": "",
            "zerolinecolor": "white",
            "gridwidth": 2
           },
           "zaxis": {
            "backgroundcolor": "#E5ECF6",
            "gridcolor": "white",
            "linecolor": "white",
            "showbackground": true,
            "ticks": "",
            "zerolinecolor": "white",
            "gridwidth": 2
           }
          },
          "shapedefaults": {
           "line": {
            "color": "#2a3f5f"
           }
          },
          "annotationdefaults": {
           "arrowcolor": "#2a3f5f",
           "arrowhead": 0,
           "arrowwidth": 1
          },
          "geo": {
           "bgcolor": "white",
           "landcolor": "#E5ECF6",
           "subunitcolor": "white",
           "showland": true,
           "showlakes": true,
           "lakecolor": "white"
          },
          "title": {
           "x": 0.05
          },
          "mapbox": {
           "style": "light"
          }
         }
        },
        "geo": {
         "domain": {
          "x": [
           0.0,
           1.0
          ],
          "y": [
           0.0,
           1.0
          ]
         },
         "projection": {
          "type": "natural earth"
         },
         "center": {}
        },
        "coloraxis": {
         "colorbar": {
          "title": {
           "text": "WDIGenderInequality_2019"
          }
         },
         "colorscale": [
          [
           0.0,
           "#0d0887"
          ],
          [
           0.1111111111111111,
           "#46039f"
          ],
          [
           0.2222222222222222,
           "#7201a8"
          ],
          [
           0.3333333333333333,
           "#9c179e"
          ],
          [
           0.4444444444444444,
           "#bd3786"
          ],
          [
           0.5555555555555556,
           "#d8576b"
          ],
          [
           0.6666666666666666,
           "#ed7953"
          ],
          [
           0.7777777777777778,
           "#fb9f3a"
          ],
          [
           0.8888888888888888,
           "#fdca26"
          ],
          [
           1.0,
           "#f0f921"
          ]
         ]
        },
        "legend": {
         "tracegroupgap": 0
        },
        "title": {
         "text": "WDIGenderInequality_2019"
        }
       },
       "config": {
        "plotlyServerURL": "https://plot.ly"
       }
      },
      "text/html": [
       "<div>                            <div id=\"1bc325c3-5ba4-4c05-bebd-0d3d8846ac1c\" class=\"plotly-graph-div\" style=\"height:525px; width:100%;\"></div>            <script type=\"text/javascript\">                require([\"plotly\"], function(Plotly) {                    window.PLOTLYENV=window.PLOTLYENV || {};                                    if (document.getElementById(\"1bc325c3-5ba4-4c05-bebd-0d3d8846ac1c\")) {                    Plotly.newPlot(                        \"1bc325c3-5ba4-4c05-bebd-0d3d8846ac1c\",                        [{\"coloraxis\":\"coloraxis\",\"geo\":\"geo\",\"hovertemplate\":\"\\u003cb\\u003e%{hovertext}\\u003c\\u002fb\\u003e\\u003cbr\\u003e\\u003cbr\\u003eiso_alpha=%{location}\\u003cbr\\u003eWDIGenderInequality_2019=%{z}\\u003cextra\\u003e\\u003c\\u002fextra\\u003e\",\"hovertext\":[\"India\",\"China\",\"United States\",\"Indonesia\",\"Pakistan\",\"Nigeria\",\"Brazil\",\"Bangladesh\",\"Russia\",\"Ethiopia\",\"Mexico\",\"Japan\",\"Egypt\",\"Philippines\",\"DR Congo\",\"Vietnam\",\"Iran\",\"Germany\",\"Thailand\",\"United Kingdom\",\"Tanzania\",\"France\",\"South Africa\",\"Italy\",\"Kenya\",\"Myanmar\",\"Colombia\",\"South Korea\",\"Sudan\",\"Uganda\",\"Spain\",\"Algeria\",\"Iraq\",\"Argentina\",\"Afghanistan\",\"Yemen\",\"Canada\",\"Poland\",\"Morocco\",\"Angola\",\"Ukraine\",\"Uzbekistan\",\"Malaysia\",\"Mozambique\",\"Ghana\",\"Peru\",\"Saudi Arabia\",\"Madagascar\",\"Nepal\",\"Cameroon\",\"Venezuela\",\"Niger\",\"Australia\",\"Syria\",\"Mali\",\"Burkina Faso\",\"Taiwan\",\"Sri Lanka\",\"Malawi\",\"Zambia\",\"Kazakhstan\",\"Chad\",\"Chile\",\"Romania\",\"Somalia\",\"Senegal\",\"Guatemala\",\"Netherlands\",\"Ecuador\",\"Cambodia\",\"Zimbabwe\",\"Guinea\",\"Benin\",\"Rwanda\",\"Burundi\",\"Bolivia\",\"Tunisia\",\"South Sudan\",\"Haiti\",\"Belgium\",\"Jordan\",\"Dominican Republic\",\"United Arab Emirates\",\"Honduras\",\"Czech Republic\",\"Sweden\",\"Tajikistan\",\"Papua New Guinea\",\"Portugal\",\"Azerbaijan\",\"Greece\",\"Hungary\",\"Togo\",\"Israel\",\"Austria\",\"Belarus\",\"Switzerland\",\"Sierra Leone\",\"Laos\",\"Turkmenistan\",\"Hong Kong\",\"Libya\",\"Kyrgyzstan\",\"Paraguay\",\"Nicaragua\",\"Bulgaria\",\"Serbia\",\"El Salvador\",\"Republic of the Congo\",\"Denmark\",\"Singapore\",\"Lebanon\",\"Finland\",\"Liberia\",\"Norway\",\"Slovakia\",\"Palestine\",\"Central African Republic\",\"Oman\",\"Ireland\",\"New Zealand\",\"Mauritania\",\"Costa Rica\",\"Kuwait\",\"Panama\",\"Croatia\",\"Georgia\",\"Mongolia\",\"Uruguay\",\"Puerto Rico\",\"Bosnia and Herzegovina\",\"Qatar\",\"Moldova\",\"Namibia\",\"Armenia\",\"Lithuania\",\"Jamaica\",\"Albania\",\"Gambia\",\"Gabon\",\"Botswana\",\"Lesotho\",\"Guinea-Bissau\",\"Slovenia\",\"Equatorial Guinea\",\"Latvia\",\"North Macedonia\",\"Bahrain\",\"Trinidad and Tobago\",\"Timor-Leste\",\"Estonia\",\"Cyprus\",\"Mauritius\",\"Eswatini\",\"Djibouti\",\"Fiji\",\"Comoros\",\"Guyana\",\"Solomon Islands\",\"Bhutan\",\"Luxembourg\",\"Montenegro\",\"Suriname\",\"Malta\",\"Maldives\",\"Cape Verde\",\"Belize\",\"Iceland\",\"Vanuatu\",\"Barbados\",\"Sao Tome and Principe\",\"Samoa\",\"Seychelles\",\"Tonga\"],\"locations\":[\"IND\",\"CHN\",\"USA\",\"IDN\",\"PAK\",\"NGA\",\"BRA\",\"BGD\",\"change\",\"ETH\",\"MEX\",\"JPN\",\"EGY\",\"PHL\",\"change\",\"change\",\"change\",\"DEU\",\"THA\",\"GBR\",\"change\",\"FRA\",\"ZAF\",\"ITA\",\"KEN\",\"MMR\",\"COL\",\"change\",\"SDN\",\"UGA\",\"ESP\",\"DZA\",\"IRQ\",\"ARG\",\"AFG\",\"YEM\",\"CAN\",\"POL\",\"MAR\",\"AGO\",\"UKR\",\"UZB\",\"MYS\",\"MOZ\",\"GHA\",\"PER\",\"SAU\",\"MDG\",\"NPL\",\"CMR\",\"change\",\"NER\",\"AUS\",\"change\",\"MLI\",\"BFA\",\"change\",\"LKA\",\"MWI\",\"ZMB\",\"KAZ\",\"TCD\",\"CHL\",\"ROU\",\"SOM\",\"SEN\",\"GTM\",\"NLD\",\"ECU\",\"KHM\",\"ZWE\",\"GIN\",\"BEN\",\"RWA\",\"BDI\",\"change\",\"TUN\",\"SSD\",\"HTI\",\"BEL\",\"JOR\",\"DOM\",\"ARE\",\"HND\",\"change\",\"SWE\",\"TJK\",\"PNG\",\"PRT\",\"AZE\",\"GRC\",\"HUN\",\"TGO\",\"ISR\",\"AUT\",\"BLR\",\"CHE\",\"SLE\",\"change\",\"TKM\",\"HKG\",\"LBY\",\"KGZ\",\"PRY\",\"NIC\",\"BGR\",\"SRB\",\"SLV\",\"change\",\"DNK\",\"SGP\",\"LBN\",\"FIN\",\"LBR\",\"NOR\",\"SVK\",\"change\",\"CAF\",\"OMN\",\"IRL\",\"NZL\",\"MRT\",\"CRI\",\"KWT\",\"PAN\",\"HRV\",\"GEO\",\"MNG\",\"URY\",\"PRI\",\"BIH\",\"QAT\",\"change\",\"NAM\",\"ARM\",\"LTU\",\"JAM\",\"ALB\",\"GMB\",\"GAB\",\"BWA\",\"LSO\",\"GNB\",\"SVN\",\"GNQ\",\"LVA\",\"MKD\",\"BHR\",\"TTO\",\"TLS\",\"EST\",\"CYP\",\"MUS\",\"SWZ\",\"DJI\",\"FJI\",\"COM\",\"GUY\",\"SLB\",\"BTN\",\"LUX\",\"MNE\",\"SUR\",\"MLT\",\"MDV\",\"change\",\"BLZ\",\"ISL\",\"VUT\",\"BRB\",\"STP\",\"WSM\",\"SYC\",\"TON\"],\"name\":\"\",\"z\":[100.0,29.0,36.0,86.0,null,null,78.0,null,49.0,null,65.0,20.0,86.0,81.0,null,58.0,88.0,14.0,75.0,22.0,null,16.0,74.0,17.0,null,null,null,12.0,null,null,15.0,null,null,68.0,null,null,18.0,25.0,92.0,null,54.0,null,55.0,null,null,null,45.0,null,null,null,null,null,21.0,null,null,null,null,null,null,null,null,null,61.0,null,null,null,null,8.0,null,90.0,null,null,null,null,null,null,57.0,null,null,9.0,null,86.0,44.0,null,24.0,8.0,null,null,17.0,null,23.0,49.0,null,null,14.0,null,7.0,null,null,null,null,null,null,null,null,41.0,null,null,null,8.0,13.0,null,null,null,9.0,null,null,null,null,21.0,null,null,null,null,null,24.0,null,null,null,null,null,null,null,null,null,null,null,null,null,null,null,null,null,null,null,null,null,42.0,null,null,null,null,null,null,null,null,null,null,null,null,null,null,null,null,null,null,null,null,null,null,null,null,null,null],\"type\":\"choropleth\"}],                        {\"template\":{\"data\":{\"histogram2dcontour\":[{\"type\":\"histogram2dcontour\",\"colorbar\":{\"outlinewidth\":0,\"ticks\":\"\"},\"colorscale\":[[0.0,\"#0d0887\"],[0.1111111111111111,\"#46039f\"],[0.2222222222222222,\"#7201a8\"],[0.3333333333333333,\"#9c179e\"],[0.4444444444444444,\"#bd3786\"],[0.5555555555555556,\"#d8576b\"],[0.6666666666666666,\"#ed7953\"],[0.7777777777777778,\"#fb9f3a\"],[0.8888888888888888,\"#fdca26\"],[1.0,\"#f0f921\"]]}],\"choropleth\":[{\"type\":\"choropleth\",\"colorbar\":{\"outlinewidth\":0,\"ticks\":\"\"}}],\"histogram2d\":[{\"type\":\"histogram2d\",\"colorbar\":{\"outlinewidth\":0,\"ticks\":\"\"},\"colorscale\":[[0.0,\"#0d0887\"],[0.1111111111111111,\"#46039f\"],[0.2222222222222222,\"#7201a8\"],[0.3333333333333333,\"#9c179e\"],[0.4444444444444444,\"#bd3786\"],[0.5555555555555556,\"#d8576b\"],[0.6666666666666666,\"#ed7953\"],[0.7777777777777778,\"#fb9f3a\"],[0.8888888888888888,\"#fdca26\"],[1.0,\"#f0f921\"]]}],\"heatmap\":[{\"type\":\"heatmap\",\"colorbar\":{\"outlinewidth\":0,\"ticks\":\"\"},\"colorscale\":[[0.0,\"#0d0887\"],[0.1111111111111111,\"#46039f\"],[0.2222222222222222,\"#7201a8\"],[0.3333333333333333,\"#9c179e\"],[0.4444444444444444,\"#bd3786\"],[0.5555555555555556,\"#d8576b\"],[0.6666666666666666,\"#ed7953\"],[0.7777777777777778,\"#fb9f3a\"],[0.8888888888888888,\"#fdca26\"],[1.0,\"#f0f921\"]]}],\"heatmapgl\":[{\"type\":\"heatmapgl\",\"colorbar\":{\"outlinewidth\":0,\"ticks\":\"\"},\"colorscale\":[[0.0,\"#0d0887\"],[0.1111111111111111,\"#46039f\"],[0.2222222222222222,\"#7201a8\"],[0.3333333333333333,\"#9c179e\"],[0.4444444444444444,\"#bd3786\"],[0.5555555555555556,\"#d8576b\"],[0.6666666666666666,\"#ed7953\"],[0.7777777777777778,\"#fb9f3a\"],[0.8888888888888888,\"#fdca26\"],[1.0,\"#f0f921\"]]}],\"contourcarpet\":[{\"type\":\"contourcarpet\",\"colorbar\":{\"outlinewidth\":0,\"ticks\":\"\"}}],\"contour\":[{\"type\":\"contour\",\"colorbar\":{\"outlinewidth\":0,\"ticks\":\"\"},\"colorscale\":[[0.0,\"#0d0887\"],[0.1111111111111111,\"#46039f\"],[0.2222222222222222,\"#7201a8\"],[0.3333333333333333,\"#9c179e\"],[0.4444444444444444,\"#bd3786\"],[0.5555555555555556,\"#d8576b\"],[0.6666666666666666,\"#ed7953\"],[0.7777777777777778,\"#fb9f3a\"],[0.8888888888888888,\"#fdca26\"],[1.0,\"#f0f921\"]]}],\"surface\":[{\"type\":\"surface\",\"colorbar\":{\"outlinewidth\":0,\"ticks\":\"\"},\"colorscale\":[[0.0,\"#0d0887\"],[0.1111111111111111,\"#46039f\"],[0.2222222222222222,\"#7201a8\"],[0.3333333333333333,\"#9c179e\"],[0.4444444444444444,\"#bd3786\"],[0.5555555555555556,\"#d8576b\"],[0.6666666666666666,\"#ed7953\"],[0.7777777777777778,\"#fb9f3a\"],[0.8888888888888888,\"#fdca26\"],[1.0,\"#f0f921\"]]}],\"mesh3d\":[{\"type\":\"mesh3d\",\"colorbar\":{\"outlinewidth\":0,\"ticks\":\"\"}}],\"scatter\":[{\"fillpattern\":{\"fillmode\":\"overlay\",\"size\":10,\"solidity\":0.2},\"type\":\"scatter\"}],\"parcoords\":[{\"type\":\"parcoords\",\"line\":{\"colorbar\":{\"outlinewidth\":0,\"ticks\":\"\"}}}],\"scatterpolargl\":[{\"type\":\"scatterpolargl\",\"marker\":{\"colorbar\":{\"outlinewidth\":0,\"ticks\":\"\"}}}],\"bar\":[{\"error_x\":{\"color\":\"#2a3f5f\"},\"error_y\":{\"color\":\"#2a3f5f\"},\"marker\":{\"line\":{\"color\":\"#E5ECF6\",\"width\":0.5},\"pattern\":{\"fillmode\":\"overlay\",\"size\":10,\"solidity\":0.2}},\"type\":\"bar\"}],\"scattergeo\":[{\"type\":\"scattergeo\",\"marker\":{\"colorbar\":{\"outlinewidth\":0,\"ticks\":\"\"}}}],\"scatterpolar\":[{\"type\":\"scatterpolar\",\"marker\":{\"colorbar\":{\"outlinewidth\":0,\"ticks\":\"\"}}}],\"histogram\":[{\"marker\":{\"pattern\":{\"fillmode\":\"overlay\",\"size\":10,\"solidity\":0.2}},\"type\":\"histogram\"}],\"scattergl\":[{\"type\":\"scattergl\",\"marker\":{\"colorbar\":{\"outlinewidth\":0,\"ticks\":\"\"}}}],\"scatter3d\":[{\"type\":\"scatter3d\",\"line\":{\"colorbar\":{\"outlinewidth\":0,\"ticks\":\"\"}},\"marker\":{\"colorbar\":{\"outlinewidth\":0,\"ticks\":\"\"}}}],\"scattermapbox\":[{\"type\":\"scattermapbox\",\"marker\":{\"colorbar\":{\"outlinewidth\":0,\"ticks\":\"\"}}}],\"scatterternary\":[{\"type\":\"scatterternary\",\"marker\":{\"colorbar\":{\"outlinewidth\":0,\"ticks\":\"\"}}}],\"scattercarpet\":[{\"type\":\"scattercarpet\",\"marker\":{\"colorbar\":{\"outlinewidth\":0,\"ticks\":\"\"}}}],\"carpet\":[{\"aaxis\":{\"endlinecolor\":\"#2a3f5f\",\"gridcolor\":\"white\",\"linecolor\":\"white\",\"minorgridcolor\":\"white\",\"startlinecolor\":\"#2a3f5f\"},\"baxis\":{\"endlinecolor\":\"#2a3f5f\",\"gridcolor\":\"white\",\"linecolor\":\"white\",\"minorgridcolor\":\"white\",\"startlinecolor\":\"#2a3f5f\"},\"type\":\"carpet\"}],\"table\":[{\"cells\":{\"fill\":{\"color\":\"#EBF0F8\"},\"line\":{\"color\":\"white\"}},\"header\":{\"fill\":{\"color\":\"#C8D4E3\"},\"line\":{\"color\":\"white\"}},\"type\":\"table\"}],\"barpolar\":[{\"marker\":{\"line\":{\"color\":\"#E5ECF6\",\"width\":0.5},\"pattern\":{\"fillmode\":\"overlay\",\"size\":10,\"solidity\":0.2}},\"type\":\"barpolar\"}],\"pie\":[{\"automargin\":true,\"type\":\"pie\"}]},\"layout\":{\"autotypenumbers\":\"strict\",\"colorway\":[\"#636efa\",\"#EF553B\",\"#00cc96\",\"#ab63fa\",\"#FFA15A\",\"#19d3f3\",\"#FF6692\",\"#B6E880\",\"#FF97FF\",\"#FECB52\"],\"font\":{\"color\":\"#2a3f5f\"},\"hovermode\":\"closest\",\"hoverlabel\":{\"align\":\"left\"},\"paper_bgcolor\":\"white\",\"plot_bgcolor\":\"#E5ECF6\",\"polar\":{\"bgcolor\":\"#E5ECF6\",\"angularaxis\":{\"gridcolor\":\"white\",\"linecolor\":\"white\",\"ticks\":\"\"},\"radialaxis\":{\"gridcolor\":\"white\",\"linecolor\":\"white\",\"ticks\":\"\"}},\"ternary\":{\"bgcolor\":\"#E5ECF6\",\"aaxis\":{\"gridcolor\":\"white\",\"linecolor\":\"white\",\"ticks\":\"\"},\"baxis\":{\"gridcolor\":\"white\",\"linecolor\":\"white\",\"ticks\":\"\"},\"caxis\":{\"gridcolor\":\"white\",\"linecolor\":\"white\",\"ticks\":\"\"}},\"coloraxis\":{\"colorbar\":{\"outlinewidth\":0,\"ticks\":\"\"}},\"colorscale\":{\"sequential\":[[0.0,\"#0d0887\"],[0.1111111111111111,\"#46039f\"],[0.2222222222222222,\"#7201a8\"],[0.3333333333333333,\"#9c179e\"],[0.4444444444444444,\"#bd3786\"],[0.5555555555555556,\"#d8576b\"],[0.6666666666666666,\"#ed7953\"],[0.7777777777777778,\"#fb9f3a\"],[0.8888888888888888,\"#fdca26\"],[1.0,\"#f0f921\"]],\"sequentialminus\":[[0.0,\"#0d0887\"],[0.1111111111111111,\"#46039f\"],[0.2222222222222222,\"#7201a8\"],[0.3333333333333333,\"#9c179e\"],[0.4444444444444444,\"#bd3786\"],[0.5555555555555556,\"#d8576b\"],[0.6666666666666666,\"#ed7953\"],[0.7777777777777778,\"#fb9f3a\"],[0.8888888888888888,\"#fdca26\"],[1.0,\"#f0f921\"]],\"diverging\":[[0,\"#8e0152\"],[0.1,\"#c51b7d\"],[0.2,\"#de77ae\"],[0.3,\"#f1b6da\"],[0.4,\"#fde0ef\"],[0.5,\"#f7f7f7\"],[0.6,\"#e6f5d0\"],[0.7,\"#b8e186\"],[0.8,\"#7fbc41\"],[0.9,\"#4d9221\"],[1,\"#276419\"]]},\"xaxis\":{\"gridcolor\":\"white\",\"linecolor\":\"white\",\"ticks\":\"\",\"title\":{\"standoff\":15},\"zerolinecolor\":\"white\",\"automargin\":true,\"zerolinewidth\":2},\"yaxis\":{\"gridcolor\":\"white\",\"linecolor\":\"white\",\"ticks\":\"\",\"title\":{\"standoff\":15},\"zerolinecolor\":\"white\",\"automargin\":true,\"zerolinewidth\":2},\"scene\":{\"xaxis\":{\"backgroundcolor\":\"#E5ECF6\",\"gridcolor\":\"white\",\"linecolor\":\"white\",\"showbackground\":true,\"ticks\":\"\",\"zerolinecolor\":\"white\",\"gridwidth\":2},\"yaxis\":{\"backgroundcolor\":\"#E5ECF6\",\"gridcolor\":\"white\",\"linecolor\":\"white\",\"showbackground\":true,\"ticks\":\"\",\"zerolinecolor\":\"white\",\"gridwidth\":2},\"zaxis\":{\"backgroundcolor\":\"#E5ECF6\",\"gridcolor\":\"white\",\"linecolor\":\"white\",\"showbackground\":true,\"ticks\":\"\",\"zerolinecolor\":\"white\",\"gridwidth\":2}},\"shapedefaults\":{\"line\":{\"color\":\"#2a3f5f\"}},\"annotationdefaults\":{\"arrowcolor\":\"#2a3f5f\",\"arrowhead\":0,\"arrowwidth\":1},\"geo\":{\"bgcolor\":\"white\",\"landcolor\":\"#E5ECF6\",\"subunitcolor\":\"white\",\"showland\":true,\"showlakes\":true,\"lakecolor\":\"white\"},\"title\":{\"x\":0.05},\"mapbox\":{\"style\":\"light\"}}},\"geo\":{\"domain\":{\"x\":[0.0,1.0],\"y\":[0.0,1.0]},\"projection\":{\"type\":\"natural earth\"},\"center\":{}},\"coloraxis\":{\"colorbar\":{\"title\":{\"text\":\"WDIGenderInequality_2019\"}},\"colorscale\":[[0.0,\"#0d0887\"],[0.1111111111111111,\"#46039f\"],[0.2222222222222222,\"#7201a8\"],[0.3333333333333333,\"#9c179e\"],[0.4444444444444444,\"#bd3786\"],[0.5555555555555556,\"#d8576b\"],[0.6666666666666666,\"#ed7953\"],[0.7777777777777778,\"#fb9f3a\"],[0.8888888888888888,\"#fdca26\"],[1.0,\"#f0f921\"]]},\"legend\":{\"tracegroupgap\":0},\"title\":{\"text\":\"WDIGenderInequality_2019\"}},                        {\"responsive\": true}                    ).then(function(){\n",
       "                            \n",
       "var gd = document.getElementById('1bc325c3-5ba4-4c05-bebd-0d3d8846ac1c');\n",
       "var x = new MutationObserver(function (mutations, observer) {{\n",
       "        var display = window.getComputedStyle(gd).display;\n",
       "        if (!display || display === 'none') {{\n",
       "            console.log([gd, 'removed!']);\n",
       "            Plotly.purge(gd);\n",
       "            observer.disconnect();\n",
       "        }}\n",
       "}});\n",
       "\n",
       "// Listen for the removal of the full notebook cells\n",
       "var notebookContainer = gd.closest('#notebook-container');\n",
       "if (notebookContainer) {{\n",
       "    x.observe(notebookContainer, {childList: true});\n",
       "}}\n",
       "\n",
       "// Listen for the clearing of the current output cell\n",
       "var outputEl = gd.closest('.output');\n",
       "if (outputEl) {{\n",
       "    x.observe(outputEl, {childList: true});\n",
       "}}\n",
       "\n",
       "                        })                };                });            </script>        </div>"
      ]
     },
     "metadata": {},
     "output_type": "display_data"
    },
    {
     "data": {
      "application/vnd.plotly.v1+json": {
       "data": [
        {
         "coloraxis": "coloraxis",
         "geo": "geo",
         "hovertemplate": "<b>%{hovertext}</b><br><br>iso_alpha=%{location}<br>WDIAttitudesTowardViolence_2019=%{z}<extra></extra>",
         "hovertext": [
          "India",
          "China",
          "United States",
          "Indonesia",
          "Pakistan",
          "Nigeria",
          "Brazil",
          "Bangladesh",
          "Russia",
          "Ethiopia",
          "Mexico",
          "Japan",
          "Egypt",
          "Philippines",
          "DR Congo",
          "Vietnam",
          "Iran",
          "Germany",
          "Thailand",
          "United Kingdom",
          "Tanzania",
          "France",
          "South Africa",
          "Italy",
          "Kenya",
          "Myanmar",
          "Colombia",
          "South Korea",
          "Sudan",
          "Uganda",
          "Spain",
          "Algeria",
          "Iraq",
          "Argentina",
          "Afghanistan",
          "Yemen",
          "Canada",
          "Poland",
          "Morocco",
          "Angola",
          "Ukraine",
          "Uzbekistan",
          "Malaysia",
          "Mozambique",
          "Ghana",
          "Peru",
          "Saudi Arabia",
          "Madagascar",
          "Nepal",
          "Cameroon",
          "Venezuela",
          "Niger",
          "Australia",
          "Syria",
          "Mali",
          "Burkina Faso",
          "Taiwan",
          "Sri Lanka",
          "Malawi",
          "Zambia",
          "Kazakhstan",
          "Chad",
          "Chile",
          "Romania",
          "Somalia",
          "Senegal",
          "Guatemala",
          "Netherlands",
          "Ecuador",
          "Cambodia",
          "Zimbabwe",
          "Guinea",
          "Benin",
          "Rwanda",
          "Burundi",
          "Bolivia",
          "Tunisia",
          "South Sudan",
          "Haiti",
          "Belgium",
          "Jordan",
          "Dominican Republic",
          "United Arab Emirates",
          "Honduras",
          "Czech Republic",
          "Sweden",
          "Tajikistan",
          "Papua New Guinea",
          "Portugal",
          "Azerbaijan",
          "Greece",
          "Hungary",
          "Togo",
          "Israel",
          "Austria",
          "Belarus",
          "Switzerland",
          "Sierra Leone",
          "Laos",
          "Turkmenistan",
          "Hong Kong",
          "Libya",
          "Kyrgyzstan",
          "Paraguay",
          "Nicaragua",
          "Bulgaria",
          "Serbia",
          "El Salvador",
          "Republic of the Congo",
          "Denmark",
          "Singapore",
          "Lebanon",
          "Finland",
          "Liberia",
          "Norway",
          "Slovakia",
          "Palestine",
          "Central African Republic",
          "Oman",
          "Ireland",
          "New Zealand",
          "Mauritania",
          "Costa Rica",
          "Kuwait",
          "Panama",
          "Croatia",
          "Georgia",
          "Mongolia",
          "Uruguay",
          "Puerto Rico",
          "Bosnia and Herzegovina",
          "Qatar",
          "Moldova",
          "Namibia",
          "Armenia",
          "Lithuania",
          "Jamaica",
          "Albania",
          "Gambia",
          "Gabon",
          "Botswana",
          "Lesotho",
          "Guinea-Bissau",
          "Slovenia",
          "Equatorial Guinea",
          "Latvia",
          "North Macedonia",
          "Bahrain",
          "Trinidad and Tobago",
          "Timor-Leste",
          "Estonia",
          "Cyprus",
          "Mauritius",
          "Eswatini",
          "Djibouti",
          "Fiji",
          "Comoros",
          "Guyana",
          "Solomon Islands",
          "Bhutan",
          "Luxembourg",
          "Montenegro",
          "Suriname",
          "Malta",
          "Maldives",
          "Cape Verde",
          "Belize",
          "Iceland",
          "Vanuatu",
          "Barbados",
          "Sao Tome and Principe",
          "Samoa",
          "Seychelles",
          "Tonga"
         ],
         "locations": [
          "IND",
          "CHN",
          "USA",
          "IDN",
          "PAK",
          "NGA",
          "BRA",
          "BGD",
          "change",
          "ETH",
          "MEX",
          "JPN",
          "EGY",
          "PHL",
          "change",
          "change",
          "change",
          "DEU",
          "THA",
          "GBR",
          "change",
          "FRA",
          "ZAF",
          "ITA",
          "KEN",
          "MMR",
          "COL",
          "change",
          "SDN",
          "UGA",
          "ESP",
          "DZA",
          "IRQ",
          "ARG",
          "AFG",
          "YEM",
          "CAN",
          "POL",
          "MAR",
          "AGO",
          "UKR",
          "UZB",
          "MYS",
          "MOZ",
          "GHA",
          "PER",
          "SAU",
          "MDG",
          "NPL",
          "CMR",
          "change",
          "NER",
          "AUS",
          "change",
          "MLI",
          "BFA",
          "change",
          "LKA",
          "MWI",
          "ZMB",
          "KAZ",
          "TCD",
          "CHL",
          "ROU",
          "SOM",
          "SEN",
          "GTM",
          "NLD",
          "ECU",
          "KHM",
          "ZWE",
          "GIN",
          "BEN",
          "RWA",
          "BDI",
          "change",
          "TUN",
          "SSD",
          "HTI",
          "BEL",
          "JOR",
          "DOM",
          "ARE",
          "HND",
          "change",
          "SWE",
          "TJK",
          "PNG",
          "PRT",
          "AZE",
          "GRC",
          "HUN",
          "TGO",
          "ISR",
          "AUT",
          "BLR",
          "CHE",
          "SLE",
          "change",
          "TKM",
          "HKG",
          "LBY",
          "KGZ",
          "PRY",
          "NIC",
          "BGR",
          "SRB",
          "SLV",
          "change",
          "DNK",
          "SGP",
          "LBN",
          "FIN",
          "LBR",
          "NOR",
          "SVK",
          "change",
          "CAF",
          "OMN",
          "IRL",
          "NZL",
          "MRT",
          "CRI",
          "KWT",
          "PAN",
          "HRV",
          "GEO",
          "MNG",
          "URY",
          "PRI",
          "BIH",
          "QAT",
          "change",
          "NAM",
          "ARM",
          "LTU",
          "JAM",
          "ALB",
          "GMB",
          "GAB",
          "BWA",
          "LSO",
          "GNB",
          "SVN",
          "GNQ",
          "LVA",
          "MKD",
          "BHR",
          "TTO",
          "TLS",
          "EST",
          "CYP",
          "MUS",
          "SWZ",
          "DJI",
          "FJI",
          "COM",
          "GUY",
          "SLB",
          "BTN",
          "LUX",
          "MNE",
          "SUR",
          "MLT",
          "MDV",
          "change",
          "BLZ",
          "ISL",
          "VUT",
          "BRB",
          "STP",
          "WSM",
          "SYC",
          "TON"
         ],
         "name": "",
         "z": [
          74.0,
          80.0,
          21.0,
          51.0,
          null,
          null,
          25.0,
          null,
          41.0,
          null,
          26.0,
          23.0,
          64.0,
          23.0,
          null,
          59.0,
          34.0,
          33.0,
          100.0,
          20.0,
          null,
          11.0,
          56.0,
          11.0,
          null,
          null,
          null,
          31.0,
          null,
          null,
          16.0,
          null,
          null,
          7.0,
          null,
          null,
          10.0,
          16.0,
          52.0,
          null,
          36.0,
          null,
          69.0,
          null,
          null,
          null,
          52.0,
          null,
          null,
          null,
          null,
          null,
          7.0,
          null,
          null,
          null,
          null,
          null,
          null,
          null,
          null,
          null,
          20.0,
          null,
          null,
          null,
          null,
          15.0,
          null,
          75.0,
          null,
          null,
          null,
          null,
          null,
          null,
          49.0,
          null,
          null,
          20.0,
          null,
          7.0,
          52.0,
          null,
          20.0,
          20.0,
          null,
          null,
          20.0,
          null,
          20.0,
          15.0,
          null,
          null,
          20.0,
          null,
          26.0,
          null,
          null,
          null,
          null,
          null,
          null,
          null,
          null,
          34.0,
          null,
          null,
          null,
          20.0,
          67.0,
          null,
          null,
          null,
          18.0,
          null,
          null,
          null,
          null,
          20.0,
          null,
          null,
          null,
          null,
          null,
          20.0,
          null,
          null,
          null,
          null,
          null,
          null,
          null,
          null,
          null,
          null,
          null,
          null,
          null,
          null,
          null,
          null,
          null,
          null,
          null,
          null,
          null,
          52.0,
          null,
          null,
          null,
          null,
          null,
          null,
          null,
          null,
          null,
          null,
          null,
          null,
          null,
          null,
          null,
          null,
          null,
          null,
          null,
          null,
          null,
          null,
          null,
          null,
          null,
          null
         ],
         "type": "choropleth"
        }
       ],
       "layout": {
        "template": {
         "data": {
          "histogram2dcontour": [
           {
            "type": "histogram2dcontour",
            "colorbar": {
             "outlinewidth": 0,
             "ticks": ""
            },
            "colorscale": [
             [
              0.0,
              "#0d0887"
             ],
             [
              0.1111111111111111,
              "#46039f"
             ],
             [
              0.2222222222222222,
              "#7201a8"
             ],
             [
              0.3333333333333333,
              "#9c179e"
             ],
             [
              0.4444444444444444,
              "#bd3786"
             ],
             [
              0.5555555555555556,
              "#d8576b"
             ],
             [
              0.6666666666666666,
              "#ed7953"
             ],
             [
              0.7777777777777778,
              "#fb9f3a"
             ],
             [
              0.8888888888888888,
              "#fdca26"
             ],
             [
              1.0,
              "#f0f921"
             ]
            ]
           }
          ],
          "choropleth": [
           {
            "type": "choropleth",
            "colorbar": {
             "outlinewidth": 0,
             "ticks": ""
            }
           }
          ],
          "histogram2d": [
           {
            "type": "histogram2d",
            "colorbar": {
             "outlinewidth": 0,
             "ticks": ""
            },
            "colorscale": [
             [
              0.0,
              "#0d0887"
             ],
             [
              0.1111111111111111,
              "#46039f"
             ],
             [
              0.2222222222222222,
              "#7201a8"
             ],
             [
              0.3333333333333333,
              "#9c179e"
             ],
             [
              0.4444444444444444,
              "#bd3786"
             ],
             [
              0.5555555555555556,
              "#d8576b"
             ],
             [
              0.6666666666666666,
              "#ed7953"
             ],
             [
              0.7777777777777778,
              "#fb9f3a"
             ],
             [
              0.8888888888888888,
              "#fdca26"
             ],
             [
              1.0,
              "#f0f921"
             ]
            ]
           }
          ],
          "heatmap": [
           {
            "type": "heatmap",
            "colorbar": {
             "outlinewidth": 0,
             "ticks": ""
            },
            "colorscale": [
             [
              0.0,
              "#0d0887"
             ],
             [
              0.1111111111111111,
              "#46039f"
             ],
             [
              0.2222222222222222,
              "#7201a8"
             ],
             [
              0.3333333333333333,
              "#9c179e"
             ],
             [
              0.4444444444444444,
              "#bd3786"
             ],
             [
              0.5555555555555556,
              "#d8576b"
             ],
             [
              0.6666666666666666,
              "#ed7953"
             ],
             [
              0.7777777777777778,
              "#fb9f3a"
             ],
             [
              0.8888888888888888,
              "#fdca26"
             ],
             [
              1.0,
              "#f0f921"
             ]
            ]
           }
          ],
          "heatmapgl": [
           {
            "type": "heatmapgl",
            "colorbar": {
             "outlinewidth": 0,
             "ticks": ""
            },
            "colorscale": [
             [
              0.0,
              "#0d0887"
             ],
             [
              0.1111111111111111,
              "#46039f"
             ],
             [
              0.2222222222222222,
              "#7201a8"
             ],
             [
              0.3333333333333333,
              "#9c179e"
             ],
             [
              0.4444444444444444,
              "#bd3786"
             ],
             [
              0.5555555555555556,
              "#d8576b"
             ],
             [
              0.6666666666666666,
              "#ed7953"
             ],
             [
              0.7777777777777778,
              "#fb9f3a"
             ],
             [
              0.8888888888888888,
              "#fdca26"
             ],
             [
              1.0,
              "#f0f921"
             ]
            ]
           }
          ],
          "contourcarpet": [
           {
            "type": "contourcarpet",
            "colorbar": {
             "outlinewidth": 0,
             "ticks": ""
            }
           }
          ],
          "contour": [
           {
            "type": "contour",
            "colorbar": {
             "outlinewidth": 0,
             "ticks": ""
            },
            "colorscale": [
             [
              0.0,
              "#0d0887"
             ],
             [
              0.1111111111111111,
              "#46039f"
             ],
             [
              0.2222222222222222,
              "#7201a8"
             ],
             [
              0.3333333333333333,
              "#9c179e"
             ],
             [
              0.4444444444444444,
              "#bd3786"
             ],
             [
              0.5555555555555556,
              "#d8576b"
             ],
             [
              0.6666666666666666,
              "#ed7953"
             ],
             [
              0.7777777777777778,
              "#fb9f3a"
             ],
             [
              0.8888888888888888,
              "#fdca26"
             ],
             [
              1.0,
              "#f0f921"
             ]
            ]
           }
          ],
          "surface": [
           {
            "type": "surface",
            "colorbar": {
             "outlinewidth": 0,
             "ticks": ""
            },
            "colorscale": [
             [
              0.0,
              "#0d0887"
             ],
             [
              0.1111111111111111,
              "#46039f"
             ],
             [
              0.2222222222222222,
              "#7201a8"
             ],
             [
              0.3333333333333333,
              "#9c179e"
             ],
             [
              0.4444444444444444,
              "#bd3786"
             ],
             [
              0.5555555555555556,
              "#d8576b"
             ],
             [
              0.6666666666666666,
              "#ed7953"
             ],
             [
              0.7777777777777778,
              "#fb9f3a"
             ],
             [
              0.8888888888888888,
              "#fdca26"
             ],
             [
              1.0,
              "#f0f921"
             ]
            ]
           }
          ],
          "mesh3d": [
           {
            "type": "mesh3d",
            "colorbar": {
             "outlinewidth": 0,
             "ticks": ""
            }
           }
          ],
          "scatter": [
           {
            "fillpattern": {
             "fillmode": "overlay",
             "size": 10,
             "solidity": 0.2
            },
            "type": "scatter"
           }
          ],
          "parcoords": [
           {
            "type": "parcoords",
            "line": {
             "colorbar": {
              "outlinewidth": 0,
              "ticks": ""
             }
            }
           }
          ],
          "scatterpolargl": [
           {
            "type": "scatterpolargl",
            "marker": {
             "colorbar": {
              "outlinewidth": 0,
              "ticks": ""
             }
            }
           }
          ],
          "bar": [
           {
            "error_x": {
             "color": "#2a3f5f"
            },
            "error_y": {
             "color": "#2a3f5f"
            },
            "marker": {
             "line": {
              "color": "#E5ECF6",
              "width": 0.5
             },
             "pattern": {
              "fillmode": "overlay",
              "size": 10,
              "solidity": 0.2
             }
            },
            "type": "bar"
           }
          ],
          "scattergeo": [
           {
            "type": "scattergeo",
            "marker": {
             "colorbar": {
              "outlinewidth": 0,
              "ticks": ""
             }
            }
           }
          ],
          "scatterpolar": [
           {
            "type": "scatterpolar",
            "marker": {
             "colorbar": {
              "outlinewidth": 0,
              "ticks": ""
             }
            }
           }
          ],
          "histogram": [
           {
            "marker": {
             "pattern": {
              "fillmode": "overlay",
              "size": 10,
              "solidity": 0.2
             }
            },
            "type": "histogram"
           }
          ],
          "scattergl": [
           {
            "type": "scattergl",
            "marker": {
             "colorbar": {
              "outlinewidth": 0,
              "ticks": ""
             }
            }
           }
          ],
          "scatter3d": [
           {
            "type": "scatter3d",
            "line": {
             "colorbar": {
              "outlinewidth": 0,
              "ticks": ""
             }
            },
            "marker": {
             "colorbar": {
              "outlinewidth": 0,
              "ticks": ""
             }
            }
           }
          ],
          "scattermapbox": [
           {
            "type": "scattermapbox",
            "marker": {
             "colorbar": {
              "outlinewidth": 0,
              "ticks": ""
             }
            }
           }
          ],
          "scatterternary": [
           {
            "type": "scatterternary",
            "marker": {
             "colorbar": {
              "outlinewidth": 0,
              "ticks": ""
             }
            }
           }
          ],
          "scattercarpet": [
           {
            "type": "scattercarpet",
            "marker": {
             "colorbar": {
              "outlinewidth": 0,
              "ticks": ""
             }
            }
           }
          ],
          "carpet": [
           {
            "aaxis": {
             "endlinecolor": "#2a3f5f",
             "gridcolor": "white",
             "linecolor": "white",
             "minorgridcolor": "white",
             "startlinecolor": "#2a3f5f"
            },
            "baxis": {
             "endlinecolor": "#2a3f5f",
             "gridcolor": "white",
             "linecolor": "white",
             "minorgridcolor": "white",
             "startlinecolor": "#2a3f5f"
            },
            "type": "carpet"
           }
          ],
          "table": [
           {
            "cells": {
             "fill": {
              "color": "#EBF0F8"
             },
             "line": {
              "color": "white"
             }
            },
            "header": {
             "fill": {
              "color": "#C8D4E3"
             },
             "line": {
              "color": "white"
             }
            },
            "type": "table"
           }
          ],
          "barpolar": [
           {
            "marker": {
             "line": {
              "color": "#E5ECF6",
              "width": 0.5
             },
             "pattern": {
              "fillmode": "overlay",
              "size": 10,
              "solidity": 0.2
             }
            },
            "type": "barpolar"
           }
          ],
          "pie": [
           {
            "automargin": true,
            "type": "pie"
           }
          ]
         },
         "layout": {
          "autotypenumbers": "strict",
          "colorway": [
           "#636efa",
           "#EF553B",
           "#00cc96",
           "#ab63fa",
           "#FFA15A",
           "#19d3f3",
           "#FF6692",
           "#B6E880",
           "#FF97FF",
           "#FECB52"
          ],
          "font": {
           "color": "#2a3f5f"
          },
          "hovermode": "closest",
          "hoverlabel": {
           "align": "left"
          },
          "paper_bgcolor": "white",
          "plot_bgcolor": "#E5ECF6",
          "polar": {
           "bgcolor": "#E5ECF6",
           "angularaxis": {
            "gridcolor": "white",
            "linecolor": "white",
            "ticks": ""
           },
           "radialaxis": {
            "gridcolor": "white",
            "linecolor": "white",
            "ticks": ""
           }
          },
          "ternary": {
           "bgcolor": "#E5ECF6",
           "aaxis": {
            "gridcolor": "white",
            "linecolor": "white",
            "ticks": ""
           },
           "baxis": {
            "gridcolor": "white",
            "linecolor": "white",
            "ticks": ""
           },
           "caxis": {
            "gridcolor": "white",
            "linecolor": "white",
            "ticks": ""
           }
          },
          "coloraxis": {
           "colorbar": {
            "outlinewidth": 0,
            "ticks": ""
           }
          },
          "colorscale": {
           "sequential": [
            [
             0.0,
             "#0d0887"
            ],
            [
             0.1111111111111111,
             "#46039f"
            ],
            [
             0.2222222222222222,
             "#7201a8"
            ],
            [
             0.3333333333333333,
             "#9c179e"
            ],
            [
             0.4444444444444444,
             "#bd3786"
            ],
            [
             0.5555555555555556,
             "#d8576b"
            ],
            [
             0.6666666666666666,
             "#ed7953"
            ],
            [
             0.7777777777777778,
             "#fb9f3a"
            ],
            [
             0.8888888888888888,
             "#fdca26"
            ],
            [
             1.0,
             "#f0f921"
            ]
           ],
           "sequentialminus": [
            [
             0.0,
             "#0d0887"
            ],
            [
             0.1111111111111111,
             "#46039f"
            ],
            [
             0.2222222222222222,
             "#7201a8"
            ],
            [
             0.3333333333333333,
             "#9c179e"
            ],
            [
             0.4444444444444444,
             "#bd3786"
            ],
            [
             0.5555555555555556,
             "#d8576b"
            ],
            [
             0.6666666666666666,
             "#ed7953"
            ],
            [
             0.7777777777777778,
             "#fb9f3a"
            ],
            [
             0.8888888888888888,
             "#fdca26"
            ],
            [
             1.0,
             "#f0f921"
            ]
           ],
           "diverging": [
            [
             0,
             "#8e0152"
            ],
            [
             0.1,
             "#c51b7d"
            ],
            [
             0.2,
             "#de77ae"
            ],
            [
             0.3,
             "#f1b6da"
            ],
            [
             0.4,
             "#fde0ef"
            ],
            [
             0.5,
             "#f7f7f7"
            ],
            [
             0.6,
             "#e6f5d0"
            ],
            [
             0.7,
             "#b8e186"
            ],
            [
             0.8,
             "#7fbc41"
            ],
            [
             0.9,
             "#4d9221"
            ],
            [
             1,
             "#276419"
            ]
           ]
          },
          "xaxis": {
           "gridcolor": "white",
           "linecolor": "white",
           "ticks": "",
           "title": {
            "standoff": 15
           },
           "zerolinecolor": "white",
           "automargin": true,
           "zerolinewidth": 2
          },
          "yaxis": {
           "gridcolor": "white",
           "linecolor": "white",
           "ticks": "",
           "title": {
            "standoff": 15
           },
           "zerolinecolor": "white",
           "automargin": true,
           "zerolinewidth": 2
          },
          "scene": {
           "xaxis": {
            "backgroundcolor": "#E5ECF6",
            "gridcolor": "white",
            "linecolor": "white",
            "showbackground": true,
            "ticks": "",
            "zerolinecolor": "white",
            "gridwidth": 2
           },
           "yaxis": {
            "backgroundcolor": "#E5ECF6",
            "gridcolor": "white",
            "linecolor": "white",
            "showbackground": true,
            "ticks": "",
            "zerolinecolor": "white",
            "gridwidth": 2
           },
           "zaxis": {
            "backgroundcolor": "#E5ECF6",
            "gridcolor": "white",
            "linecolor": "white",
            "showbackground": true,
            "ticks": "",
            "zerolinecolor": "white",
            "gridwidth": 2
           }
          },
          "shapedefaults": {
           "line": {
            "color": "#2a3f5f"
           }
          },
          "annotationdefaults": {
           "arrowcolor": "#2a3f5f",
           "arrowhead": 0,
           "arrowwidth": 1
          },
          "geo": {
           "bgcolor": "white",
           "landcolor": "#E5ECF6",
           "subunitcolor": "white",
           "showland": true,
           "showlakes": true,
           "lakecolor": "white"
          },
          "title": {
           "x": 0.05
          },
          "mapbox": {
           "style": "light"
          }
         }
        },
        "geo": {
         "domain": {
          "x": [
           0.0,
           1.0
          ],
          "y": [
           0.0,
           1.0
          ]
         },
         "projection": {
          "type": "natural earth"
         },
         "center": {}
        },
        "coloraxis": {
         "colorbar": {
          "title": {
           "text": "WDIAttitudesTowardViolence_2019"
          }
         },
         "colorscale": [
          [
           0.0,
           "#0d0887"
          ],
          [
           0.1111111111111111,
           "#46039f"
          ],
          [
           0.2222222222222222,
           "#7201a8"
          ],
          [
           0.3333333333333333,
           "#9c179e"
          ],
          [
           0.4444444444444444,
           "#bd3786"
          ],
          [
           0.5555555555555556,
           "#d8576b"
          ],
          [
           0.6666666666666666,
           "#ed7953"
          ],
          [
           0.7777777777777778,
           "#fb9f3a"
          ],
          [
           0.8888888888888888,
           "#fdca26"
          ],
          [
           1.0,
           "#f0f921"
          ]
         ]
        },
        "legend": {
         "tracegroupgap": 0
        },
        "title": {
         "text": "WDIAttitudesTowardViolence_2019"
        }
       },
       "config": {
        "plotlyServerURL": "https://plot.ly"
       }
      },
      "text/html": [
       "<div>                            <div id=\"97d78d13-ca3f-43b5-9d71-5cf0419007ce\" class=\"plotly-graph-div\" style=\"height:525px; width:100%;\"></div>            <script type=\"text/javascript\">                require([\"plotly\"], function(Plotly) {                    window.PLOTLYENV=window.PLOTLYENV || {};                                    if (document.getElementById(\"97d78d13-ca3f-43b5-9d71-5cf0419007ce\")) {                    Plotly.newPlot(                        \"97d78d13-ca3f-43b5-9d71-5cf0419007ce\",                        [{\"coloraxis\":\"coloraxis\",\"geo\":\"geo\",\"hovertemplate\":\"\\u003cb\\u003e%{hovertext}\\u003c\\u002fb\\u003e\\u003cbr\\u003e\\u003cbr\\u003eiso_alpha=%{location}\\u003cbr\\u003eWDIAttitudesTowardViolence_2019=%{z}\\u003cextra\\u003e\\u003c\\u002fextra\\u003e\",\"hovertext\":[\"India\",\"China\",\"United States\",\"Indonesia\",\"Pakistan\",\"Nigeria\",\"Brazil\",\"Bangladesh\",\"Russia\",\"Ethiopia\",\"Mexico\",\"Japan\",\"Egypt\",\"Philippines\",\"DR Congo\",\"Vietnam\",\"Iran\",\"Germany\",\"Thailand\",\"United Kingdom\",\"Tanzania\",\"France\",\"South Africa\",\"Italy\",\"Kenya\",\"Myanmar\",\"Colombia\",\"South Korea\",\"Sudan\",\"Uganda\",\"Spain\",\"Algeria\",\"Iraq\",\"Argentina\",\"Afghanistan\",\"Yemen\",\"Canada\",\"Poland\",\"Morocco\",\"Angola\",\"Ukraine\",\"Uzbekistan\",\"Malaysia\",\"Mozambique\",\"Ghana\",\"Peru\",\"Saudi Arabia\",\"Madagascar\",\"Nepal\",\"Cameroon\",\"Venezuela\",\"Niger\",\"Australia\",\"Syria\",\"Mali\",\"Burkina Faso\",\"Taiwan\",\"Sri Lanka\",\"Malawi\",\"Zambia\",\"Kazakhstan\",\"Chad\",\"Chile\",\"Romania\",\"Somalia\",\"Senegal\",\"Guatemala\",\"Netherlands\",\"Ecuador\",\"Cambodia\",\"Zimbabwe\",\"Guinea\",\"Benin\",\"Rwanda\",\"Burundi\",\"Bolivia\",\"Tunisia\",\"South Sudan\",\"Haiti\",\"Belgium\",\"Jordan\",\"Dominican Republic\",\"United Arab Emirates\",\"Honduras\",\"Czech Republic\",\"Sweden\",\"Tajikistan\",\"Papua New Guinea\",\"Portugal\",\"Azerbaijan\",\"Greece\",\"Hungary\",\"Togo\",\"Israel\",\"Austria\",\"Belarus\",\"Switzerland\",\"Sierra Leone\",\"Laos\",\"Turkmenistan\",\"Hong Kong\",\"Libya\",\"Kyrgyzstan\",\"Paraguay\",\"Nicaragua\",\"Bulgaria\",\"Serbia\",\"El Salvador\",\"Republic of the Congo\",\"Denmark\",\"Singapore\",\"Lebanon\",\"Finland\",\"Liberia\",\"Norway\",\"Slovakia\",\"Palestine\",\"Central African Republic\",\"Oman\",\"Ireland\",\"New Zealand\",\"Mauritania\",\"Costa Rica\",\"Kuwait\",\"Panama\",\"Croatia\",\"Georgia\",\"Mongolia\",\"Uruguay\",\"Puerto Rico\",\"Bosnia and Herzegovina\",\"Qatar\",\"Moldova\",\"Namibia\",\"Armenia\",\"Lithuania\",\"Jamaica\",\"Albania\",\"Gambia\",\"Gabon\",\"Botswana\",\"Lesotho\",\"Guinea-Bissau\",\"Slovenia\",\"Equatorial Guinea\",\"Latvia\",\"North Macedonia\",\"Bahrain\",\"Trinidad and Tobago\",\"Timor-Leste\",\"Estonia\",\"Cyprus\",\"Mauritius\",\"Eswatini\",\"Djibouti\",\"Fiji\",\"Comoros\",\"Guyana\",\"Solomon Islands\",\"Bhutan\",\"Luxembourg\",\"Montenegro\",\"Suriname\",\"Malta\",\"Maldives\",\"Cape Verde\",\"Belize\",\"Iceland\",\"Vanuatu\",\"Barbados\",\"Sao Tome and Principe\",\"Samoa\",\"Seychelles\",\"Tonga\"],\"locations\":[\"IND\",\"CHN\",\"USA\",\"IDN\",\"PAK\",\"NGA\",\"BRA\",\"BGD\",\"change\",\"ETH\",\"MEX\",\"JPN\",\"EGY\",\"PHL\",\"change\",\"change\",\"change\",\"DEU\",\"THA\",\"GBR\",\"change\",\"FRA\",\"ZAF\",\"ITA\",\"KEN\",\"MMR\",\"COL\",\"change\",\"SDN\",\"UGA\",\"ESP\",\"DZA\",\"IRQ\",\"ARG\",\"AFG\",\"YEM\",\"CAN\",\"POL\",\"MAR\",\"AGO\",\"UKR\",\"UZB\",\"MYS\",\"MOZ\",\"GHA\",\"PER\",\"SAU\",\"MDG\",\"NPL\",\"CMR\",\"change\",\"NER\",\"AUS\",\"change\",\"MLI\",\"BFA\",\"change\",\"LKA\",\"MWI\",\"ZMB\",\"KAZ\",\"TCD\",\"CHL\",\"ROU\",\"SOM\",\"SEN\",\"GTM\",\"NLD\",\"ECU\",\"KHM\",\"ZWE\",\"GIN\",\"BEN\",\"RWA\",\"BDI\",\"change\",\"TUN\",\"SSD\",\"HTI\",\"BEL\",\"JOR\",\"DOM\",\"ARE\",\"HND\",\"change\",\"SWE\",\"TJK\",\"PNG\",\"PRT\",\"AZE\",\"GRC\",\"HUN\",\"TGO\",\"ISR\",\"AUT\",\"BLR\",\"CHE\",\"SLE\",\"change\",\"TKM\",\"HKG\",\"LBY\",\"KGZ\",\"PRY\",\"NIC\",\"BGR\",\"SRB\",\"SLV\",\"change\",\"DNK\",\"SGP\",\"LBN\",\"FIN\",\"LBR\",\"NOR\",\"SVK\",\"change\",\"CAF\",\"OMN\",\"IRL\",\"NZL\",\"MRT\",\"CRI\",\"KWT\",\"PAN\",\"HRV\",\"GEO\",\"MNG\",\"URY\",\"PRI\",\"BIH\",\"QAT\",\"change\",\"NAM\",\"ARM\",\"LTU\",\"JAM\",\"ALB\",\"GMB\",\"GAB\",\"BWA\",\"LSO\",\"GNB\",\"SVN\",\"GNQ\",\"LVA\",\"MKD\",\"BHR\",\"TTO\",\"TLS\",\"EST\",\"CYP\",\"MUS\",\"SWZ\",\"DJI\",\"FJI\",\"COM\",\"GUY\",\"SLB\",\"BTN\",\"LUX\",\"MNE\",\"SUR\",\"MLT\",\"MDV\",\"change\",\"BLZ\",\"ISL\",\"VUT\",\"BRB\",\"STP\",\"WSM\",\"SYC\",\"TON\"],\"name\":\"\",\"z\":[74.0,80.0,21.0,51.0,null,null,25.0,null,41.0,null,26.0,23.0,64.0,23.0,null,59.0,34.0,33.0,100.0,20.0,null,11.0,56.0,11.0,null,null,null,31.0,null,null,16.0,null,null,7.0,null,null,10.0,16.0,52.0,null,36.0,null,69.0,null,null,null,52.0,null,null,null,null,null,7.0,null,null,null,null,null,null,null,null,null,20.0,null,null,null,null,15.0,null,75.0,null,null,null,null,null,null,49.0,null,null,20.0,null,7.0,52.0,null,20.0,20.0,null,null,20.0,null,20.0,15.0,null,null,20.0,null,26.0,null,null,null,null,null,null,null,null,34.0,null,null,null,20.0,67.0,null,null,null,18.0,null,null,null,null,20.0,null,null,null,null,null,20.0,null,null,null,null,null,null,null,null,null,null,null,null,null,null,null,null,null,null,null,null,null,52.0,null,null,null,null,null,null,null,null,null,null,null,null,null,null,null,null,null,null,null,null,null,null,null,null,null,null],\"type\":\"choropleth\"}],                        {\"template\":{\"data\":{\"histogram2dcontour\":[{\"type\":\"histogram2dcontour\",\"colorbar\":{\"outlinewidth\":0,\"ticks\":\"\"},\"colorscale\":[[0.0,\"#0d0887\"],[0.1111111111111111,\"#46039f\"],[0.2222222222222222,\"#7201a8\"],[0.3333333333333333,\"#9c179e\"],[0.4444444444444444,\"#bd3786\"],[0.5555555555555556,\"#d8576b\"],[0.6666666666666666,\"#ed7953\"],[0.7777777777777778,\"#fb9f3a\"],[0.8888888888888888,\"#fdca26\"],[1.0,\"#f0f921\"]]}],\"choropleth\":[{\"type\":\"choropleth\",\"colorbar\":{\"outlinewidth\":0,\"ticks\":\"\"}}],\"histogram2d\":[{\"type\":\"histogram2d\",\"colorbar\":{\"outlinewidth\":0,\"ticks\":\"\"},\"colorscale\":[[0.0,\"#0d0887\"],[0.1111111111111111,\"#46039f\"],[0.2222222222222222,\"#7201a8\"],[0.3333333333333333,\"#9c179e\"],[0.4444444444444444,\"#bd3786\"],[0.5555555555555556,\"#d8576b\"],[0.6666666666666666,\"#ed7953\"],[0.7777777777777778,\"#fb9f3a\"],[0.8888888888888888,\"#fdca26\"],[1.0,\"#f0f921\"]]}],\"heatmap\":[{\"type\":\"heatmap\",\"colorbar\":{\"outlinewidth\":0,\"ticks\":\"\"},\"colorscale\":[[0.0,\"#0d0887\"],[0.1111111111111111,\"#46039f\"],[0.2222222222222222,\"#7201a8\"],[0.3333333333333333,\"#9c179e\"],[0.4444444444444444,\"#bd3786\"],[0.5555555555555556,\"#d8576b\"],[0.6666666666666666,\"#ed7953\"],[0.7777777777777778,\"#fb9f3a\"],[0.8888888888888888,\"#fdca26\"],[1.0,\"#f0f921\"]]}],\"heatmapgl\":[{\"type\":\"heatmapgl\",\"colorbar\":{\"outlinewidth\":0,\"ticks\":\"\"},\"colorscale\":[[0.0,\"#0d0887\"],[0.1111111111111111,\"#46039f\"],[0.2222222222222222,\"#7201a8\"],[0.3333333333333333,\"#9c179e\"],[0.4444444444444444,\"#bd3786\"],[0.5555555555555556,\"#d8576b\"],[0.6666666666666666,\"#ed7953\"],[0.7777777777777778,\"#fb9f3a\"],[0.8888888888888888,\"#fdca26\"],[1.0,\"#f0f921\"]]}],\"contourcarpet\":[{\"type\":\"contourcarpet\",\"colorbar\":{\"outlinewidth\":0,\"ticks\":\"\"}}],\"contour\":[{\"type\":\"contour\",\"colorbar\":{\"outlinewidth\":0,\"ticks\":\"\"},\"colorscale\":[[0.0,\"#0d0887\"],[0.1111111111111111,\"#46039f\"],[0.2222222222222222,\"#7201a8\"],[0.3333333333333333,\"#9c179e\"],[0.4444444444444444,\"#bd3786\"],[0.5555555555555556,\"#d8576b\"],[0.6666666666666666,\"#ed7953\"],[0.7777777777777778,\"#fb9f3a\"],[0.8888888888888888,\"#fdca26\"],[1.0,\"#f0f921\"]]}],\"surface\":[{\"type\":\"surface\",\"colorbar\":{\"outlinewidth\":0,\"ticks\":\"\"},\"colorscale\":[[0.0,\"#0d0887\"],[0.1111111111111111,\"#46039f\"],[0.2222222222222222,\"#7201a8\"],[0.3333333333333333,\"#9c179e\"],[0.4444444444444444,\"#bd3786\"],[0.5555555555555556,\"#d8576b\"],[0.6666666666666666,\"#ed7953\"],[0.7777777777777778,\"#fb9f3a\"],[0.8888888888888888,\"#fdca26\"],[1.0,\"#f0f921\"]]}],\"mesh3d\":[{\"type\":\"mesh3d\",\"colorbar\":{\"outlinewidth\":0,\"ticks\":\"\"}}],\"scatter\":[{\"fillpattern\":{\"fillmode\":\"overlay\",\"size\":10,\"solidity\":0.2},\"type\":\"scatter\"}],\"parcoords\":[{\"type\":\"parcoords\",\"line\":{\"colorbar\":{\"outlinewidth\":0,\"ticks\":\"\"}}}],\"scatterpolargl\":[{\"type\":\"scatterpolargl\",\"marker\":{\"colorbar\":{\"outlinewidth\":0,\"ticks\":\"\"}}}],\"bar\":[{\"error_x\":{\"color\":\"#2a3f5f\"},\"error_y\":{\"color\":\"#2a3f5f\"},\"marker\":{\"line\":{\"color\":\"#E5ECF6\",\"width\":0.5},\"pattern\":{\"fillmode\":\"overlay\",\"size\":10,\"solidity\":0.2}},\"type\":\"bar\"}],\"scattergeo\":[{\"type\":\"scattergeo\",\"marker\":{\"colorbar\":{\"outlinewidth\":0,\"ticks\":\"\"}}}],\"scatterpolar\":[{\"type\":\"scatterpolar\",\"marker\":{\"colorbar\":{\"outlinewidth\":0,\"ticks\":\"\"}}}],\"histogram\":[{\"marker\":{\"pattern\":{\"fillmode\":\"overlay\",\"size\":10,\"solidity\":0.2}},\"type\":\"histogram\"}],\"scattergl\":[{\"type\":\"scattergl\",\"marker\":{\"colorbar\":{\"outlinewidth\":0,\"ticks\":\"\"}}}],\"scatter3d\":[{\"type\":\"scatter3d\",\"line\":{\"colorbar\":{\"outlinewidth\":0,\"ticks\":\"\"}},\"marker\":{\"colorbar\":{\"outlinewidth\":0,\"ticks\":\"\"}}}],\"scattermapbox\":[{\"type\":\"scattermapbox\",\"marker\":{\"colorbar\":{\"outlinewidth\":0,\"ticks\":\"\"}}}],\"scatterternary\":[{\"type\":\"scatterternary\",\"marker\":{\"colorbar\":{\"outlinewidth\":0,\"ticks\":\"\"}}}],\"scattercarpet\":[{\"type\":\"scattercarpet\",\"marker\":{\"colorbar\":{\"outlinewidth\":0,\"ticks\":\"\"}}}],\"carpet\":[{\"aaxis\":{\"endlinecolor\":\"#2a3f5f\",\"gridcolor\":\"white\",\"linecolor\":\"white\",\"minorgridcolor\":\"white\",\"startlinecolor\":\"#2a3f5f\"},\"baxis\":{\"endlinecolor\":\"#2a3f5f\",\"gridcolor\":\"white\",\"linecolor\":\"white\",\"minorgridcolor\":\"white\",\"startlinecolor\":\"#2a3f5f\"},\"type\":\"carpet\"}],\"table\":[{\"cells\":{\"fill\":{\"color\":\"#EBF0F8\"},\"line\":{\"color\":\"white\"}},\"header\":{\"fill\":{\"color\":\"#C8D4E3\"},\"line\":{\"color\":\"white\"}},\"type\":\"table\"}],\"barpolar\":[{\"marker\":{\"line\":{\"color\":\"#E5ECF6\",\"width\":0.5},\"pattern\":{\"fillmode\":\"overlay\",\"size\":10,\"solidity\":0.2}},\"type\":\"barpolar\"}],\"pie\":[{\"automargin\":true,\"type\":\"pie\"}]},\"layout\":{\"autotypenumbers\":\"strict\",\"colorway\":[\"#636efa\",\"#EF553B\",\"#00cc96\",\"#ab63fa\",\"#FFA15A\",\"#19d3f3\",\"#FF6692\",\"#B6E880\",\"#FF97FF\",\"#FECB52\"],\"font\":{\"color\":\"#2a3f5f\"},\"hovermode\":\"closest\",\"hoverlabel\":{\"align\":\"left\"},\"paper_bgcolor\":\"white\",\"plot_bgcolor\":\"#E5ECF6\",\"polar\":{\"bgcolor\":\"#E5ECF6\",\"angularaxis\":{\"gridcolor\":\"white\",\"linecolor\":\"white\",\"ticks\":\"\"},\"radialaxis\":{\"gridcolor\":\"white\",\"linecolor\":\"white\",\"ticks\":\"\"}},\"ternary\":{\"bgcolor\":\"#E5ECF6\",\"aaxis\":{\"gridcolor\":\"white\",\"linecolor\":\"white\",\"ticks\":\"\"},\"baxis\":{\"gridcolor\":\"white\",\"linecolor\":\"white\",\"ticks\":\"\"},\"caxis\":{\"gridcolor\":\"white\",\"linecolor\":\"white\",\"ticks\":\"\"}},\"coloraxis\":{\"colorbar\":{\"outlinewidth\":0,\"ticks\":\"\"}},\"colorscale\":{\"sequential\":[[0.0,\"#0d0887\"],[0.1111111111111111,\"#46039f\"],[0.2222222222222222,\"#7201a8\"],[0.3333333333333333,\"#9c179e\"],[0.4444444444444444,\"#bd3786\"],[0.5555555555555556,\"#d8576b\"],[0.6666666666666666,\"#ed7953\"],[0.7777777777777778,\"#fb9f3a\"],[0.8888888888888888,\"#fdca26\"],[1.0,\"#f0f921\"]],\"sequentialminus\":[[0.0,\"#0d0887\"],[0.1111111111111111,\"#46039f\"],[0.2222222222222222,\"#7201a8\"],[0.3333333333333333,\"#9c179e\"],[0.4444444444444444,\"#bd3786\"],[0.5555555555555556,\"#d8576b\"],[0.6666666666666666,\"#ed7953\"],[0.7777777777777778,\"#fb9f3a\"],[0.8888888888888888,\"#fdca26\"],[1.0,\"#f0f921\"]],\"diverging\":[[0,\"#8e0152\"],[0.1,\"#c51b7d\"],[0.2,\"#de77ae\"],[0.3,\"#f1b6da\"],[0.4,\"#fde0ef\"],[0.5,\"#f7f7f7\"],[0.6,\"#e6f5d0\"],[0.7,\"#b8e186\"],[0.8,\"#7fbc41\"],[0.9,\"#4d9221\"],[1,\"#276419\"]]},\"xaxis\":{\"gridcolor\":\"white\",\"linecolor\":\"white\",\"ticks\":\"\",\"title\":{\"standoff\":15},\"zerolinecolor\":\"white\",\"automargin\":true,\"zerolinewidth\":2},\"yaxis\":{\"gridcolor\":\"white\",\"linecolor\":\"white\",\"ticks\":\"\",\"title\":{\"standoff\":15},\"zerolinecolor\":\"white\",\"automargin\":true,\"zerolinewidth\":2},\"scene\":{\"xaxis\":{\"backgroundcolor\":\"#E5ECF6\",\"gridcolor\":\"white\",\"linecolor\":\"white\",\"showbackground\":true,\"ticks\":\"\",\"zerolinecolor\":\"white\",\"gridwidth\":2},\"yaxis\":{\"backgroundcolor\":\"#E5ECF6\",\"gridcolor\":\"white\",\"linecolor\":\"white\",\"showbackground\":true,\"ticks\":\"\",\"zerolinecolor\":\"white\",\"gridwidth\":2},\"zaxis\":{\"backgroundcolor\":\"#E5ECF6\",\"gridcolor\":\"white\",\"linecolor\":\"white\",\"showbackground\":true,\"ticks\":\"\",\"zerolinecolor\":\"white\",\"gridwidth\":2}},\"shapedefaults\":{\"line\":{\"color\":\"#2a3f5f\"}},\"annotationdefaults\":{\"arrowcolor\":\"#2a3f5f\",\"arrowhead\":0,\"arrowwidth\":1},\"geo\":{\"bgcolor\":\"white\",\"landcolor\":\"#E5ECF6\",\"subunitcolor\":\"white\",\"showland\":true,\"showlakes\":true,\"lakecolor\":\"white\"},\"title\":{\"x\":0.05},\"mapbox\":{\"style\":\"light\"}}},\"geo\":{\"domain\":{\"x\":[0.0,1.0],\"y\":[0.0,1.0]},\"projection\":{\"type\":\"natural earth\"},\"center\":{}},\"coloraxis\":{\"colorbar\":{\"title\":{\"text\":\"WDIAttitudesTowardViolence_2019\"}},\"colorscale\":[[0.0,\"#0d0887\"],[0.1111111111111111,\"#46039f\"],[0.2222222222222222,\"#7201a8\"],[0.3333333333333333,\"#9c179e\"],[0.4444444444444444,\"#bd3786\"],[0.5555555555555556,\"#d8576b\"],[0.6666666666666666,\"#ed7953\"],[0.7777777777777778,\"#fb9f3a\"],[0.8888888888888888,\"#fdca26\"],[1.0,\"#f0f921\"]]},\"legend\":{\"tracegroupgap\":0},\"title\":{\"text\":\"WDIAttitudesTowardViolence_2019\"}},                        {\"responsive\": true}                    ).then(function(){\n",
       "                            \n",
       "var gd = document.getElementById('97d78d13-ca3f-43b5-9d71-5cf0419007ce');\n",
       "var x = new MutationObserver(function (mutations, observer) {{\n",
       "        var display = window.getComputedStyle(gd).display;\n",
       "        if (!display || display === 'none') {{\n",
       "            console.log([gd, 'removed!']);\n",
       "            Plotly.purge(gd);\n",
       "            observer.disconnect();\n",
       "        }}\n",
       "}});\n",
       "\n",
       "// Listen for the removal of the full notebook cells\n",
       "var notebookContainer = gd.closest('#notebook-container');\n",
       "if (notebookContainer) {{\n",
       "    x.observe(notebookContainer, {childList: true});\n",
       "}}\n",
       "\n",
       "// Listen for the clearing of the current output cell\n",
       "var outputEl = gd.closest('.output');\n",
       "if (outputEl) {{\n",
       "    x.observe(outputEl, {childList: true});\n",
       "}}\n",
       "\n",
       "                        })                };                });            </script>        </div>"
      ]
     },
     "metadata": {},
     "output_type": "display_data"
    }
   ],
   "execution_count": 304
  }
 ],
 "metadata": {
  "kernelspec": {
   "display_name": "Python 3",
   "language": "python",
   "name": "python3"
  },
  "language_info": {
   "codemirror_mode": {
    "name": "ipython",
    "version": 2
   },
   "file_extension": ".py",
   "mimetype": "text/x-python",
   "name": "python",
   "nbconvert_exporter": "python",
   "pygments_lexer": "ipython2",
   "version": "2.7.6"
  }
 },
 "nbformat": 4,
 "nbformat_minor": 5
}
