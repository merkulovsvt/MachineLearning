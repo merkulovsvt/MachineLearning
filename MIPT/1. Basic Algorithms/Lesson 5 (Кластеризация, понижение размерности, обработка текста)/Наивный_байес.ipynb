{
 "nbformat": 4,
 "nbformat_minor": 0,
 "metadata": {
  "colab": {
   "provenance": [],
   "toc_visible": true
  },
  "kernelspec": {
   "name": "python3",
   "display_name": "Python 3"
  }
 },
 "cells": [
  {
   "cell_type": "code",
   "metadata": {
    "id": "UZD07JID7AnI"
   },
   "source": [
    "import pandas as pd\n",
    "import numpy as np"
   ],
   "execution_count": null,
   "outputs": []
  },
  {
   "cell_type": "markdown",
   "metadata": {
    "id": "XrgCQCmU7HkZ"
   },
   "source": [
    "# Наивный байесовский классификатор"
   ]
  },
  {
   "cell_type": "markdown",
   "metadata": {
    "id": "5h0mpUCL7TCe"
   },
   "source": [
    "\n",
    "\n",
    "*   Теорема позволяет найти вероятность того, что именно эта причина привела к наблюдаемому событию\n",
    "\n"
   ]
  },
  {
   "cell_type": "markdown",
   "metadata": {
    "id": "kgoTGkt27yM2"
   },
   "source": [
    "<h1 align=\"center\"> $ P(A|B) = \\frac{ P(B|A)P(A) }{ P(B) } $ </h1>\n"
   ]
  },
  {
   "cell_type": "markdown",
   "metadata": {
    "id": "rvXBk6Tn8GPb"
   },
   "source": [
    "* $ P(A|B) $ — вероятность того, что событие $А$ истинно, если событие $B$ истинно\n",
    "* $ P(B|A) $ — вероятность того, что событие $B$ истинно, если событие $A$ истинно\n",
    "* $ P(A) $ — вероятность того, что событие $А$ истинно\n",
    "* $ P(B) $ — вероятность того, что событие $B$ истинно\n",
    "\n",
    "----"
   ]
  },
  {
   "cell_type": "markdown",
   "metadata": {
    "id": "IPLp3DIH-0N1"
   },
   "source": [
    "#### Подготовка данных"
   ]
  },
  {
   "cell_type": "code",
   "metadata": {
    "id": "VYwsONYlJKPM",
    "colab": {
     "base_uri": "https://localhost:8080/"
    },
    "outputId": "3243e534-9409-49dd-c900-e582d249377f"
   },
   "source": [
    "from keras.datasets import imdb\n",
    "import keras\n",
    "\n",
    "(x_train, y_train), (x_test, y_test) = imdb.load_data(path=\"imdb.npz\",\n",
    "                                                      num_words=None,\n",
    "                                                      skip_top=0,\n",
    "                                                      maxlen=None,\n",
    "                                                      seed=113,\n",
    "                                                      start_char=1,\n",
    "                                                      oov_char=2,\n",
    "                                                      index_from=3)"
   ],
   "execution_count": null,
   "outputs": [
    {
     "output_type": "stream",
     "name": "stdout",
     "text": [
      "Downloading data from https://storage.googleapis.com/tensorflow/tf-keras-datasets/imdb.npz\n",
      "17464789/17464789 [==============================] - 1s 0us/step\n"
     ]
    }
   ]
  },
  {
   "cell_type": "code",
   "metadata": {
    "id": "gsOCh209JpRm",
    "colab": {
     "base_uri": "https://localhost:8080/"
    },
    "outputId": "0f821a34-8b1d-4ed3-e653-c4e85a2c8335"
   },
   "source": [
    "x_train"
   ],
   "execution_count": null,
   "outputs": [
    {
     "output_type": "execute_result",
     "data": {
      "text/plain": [
       "array([list([1, 14, 22, 16, 43, 530, 973, 1622, 1385, 65, 458, 4468, 66, 3941, 4, 173, 36, 256, 5, 25, 100, 43, 838, 112, 50, 670, 22665, 9, 35, 480, 284, 5, 150, 4, 172, 112, 167, 21631, 336, 385, 39, 4, 172, 4536, 1111, 17, 546, 38, 13, 447, 4, 192, 50, 16, 6, 147, 2025, 19, 14, 22, 4, 1920, 4613, 469, 4, 22, 71, 87, 12, 16, 43, 530, 38, 76, 15, 13, 1247, 4, 22, 17, 515, 17, 12, 16, 626, 18, 19193, 5, 62, 386, 12, 8, 316, 8, 106, 5, 4, 2223, 5244, 16, 480, 66, 3785, 33, 4, 130, 12, 16, 38, 619, 5, 25, 124, 51, 36, 135, 48, 25, 1415, 33, 6, 22, 12, 215, 28, 77, 52, 5, 14, 407, 16, 82, 10311, 8, 4, 107, 117, 5952, 15, 256, 4, 31050, 7, 3766, 5, 723, 36, 71, 43, 530, 476, 26, 400, 317, 46, 7, 4, 12118, 1029, 13, 104, 88, 4, 381, 15, 297, 98, 32, 2071, 56, 26, 141, 6, 194, 7486, 18, 4, 226, 22, 21, 134, 476, 26, 480, 5, 144, 30, 5535, 18, 51, 36, 28, 224, 92, 25, 104, 4, 226, 65, 16, 38, 1334, 88, 12, 16, 283, 5, 16, 4472, 113, 103, 32, 15, 16, 5345, 19, 178, 32]),\n",
       "       list([1, 194, 1153, 194, 8255, 78, 228, 5, 6, 1463, 4369, 5012, 134, 26, 4, 715, 8, 118, 1634, 14, 394, 20, 13, 119, 954, 189, 102, 5, 207, 110, 3103, 21, 14, 69, 188, 8, 30, 23, 7, 4, 249, 126, 93, 4, 114, 9, 2300, 1523, 5, 647, 4, 116, 9, 35, 8163, 4, 229, 9, 340, 1322, 4, 118, 9, 4, 130, 4901, 19, 4, 1002, 5, 89, 29, 952, 46, 37, 4, 455, 9, 45, 43, 38, 1543, 1905, 398, 4, 1649, 26, 6853, 5, 163, 11, 3215, 10156, 4, 1153, 9, 194, 775, 7, 8255, 11596, 349, 2637, 148, 605, 15358, 8003, 15, 123, 125, 68, 23141, 6853, 15, 349, 165, 4362, 98, 5, 4, 228, 9, 43, 36893, 1157, 15, 299, 120, 5, 120, 174, 11, 220, 175, 136, 50, 9, 4373, 228, 8255, 5, 25249, 656, 245, 2350, 5, 4, 9837, 131, 152, 491, 18, 46151, 32, 7464, 1212, 14, 9, 6, 371, 78, 22, 625, 64, 1382, 9, 8, 168, 145, 23, 4, 1690, 15, 16, 4, 1355, 5, 28, 6, 52, 154, 462, 33, 89, 78, 285, 16, 145, 95]),\n",
       "       list([1, 14, 47, 8, 30, 31, 7, 4, 249, 108, 7, 4, 5974, 54, 61, 369, 13, 71, 149, 14, 22, 112, 4, 2401, 311, 12, 16, 3711, 33, 75, 43, 1829, 296, 4, 86, 320, 35, 534, 19, 263, 4821, 1301, 4, 1873, 33, 89, 78, 12, 66, 16, 4, 360, 7, 4, 58, 316, 334, 11, 4, 1716, 43, 645, 662, 8, 257, 85, 1200, 42, 1228, 2578, 83, 68, 3912, 15, 36, 165, 1539, 278, 36, 69, 44076, 780, 8, 106, 14, 6905, 1338, 18, 6, 22, 12, 215, 28, 610, 40, 6, 87, 326, 23, 2300, 21, 23, 22, 12, 272, 40, 57, 31, 11, 4, 22, 47, 6, 2307, 51, 9, 170, 23, 595, 116, 595, 1352, 13, 191, 79, 638, 89, 51428, 14, 9, 8, 106, 607, 624, 35, 534, 6, 227, 7, 129, 113]),\n",
       "       ...,\n",
       "       list([1, 11, 6, 230, 245, 6401, 9, 6, 1225, 446, 86527, 45, 2174, 84, 8322, 4007, 21, 4, 912, 84, 14532, 325, 725, 134, 15271, 1715, 84, 5, 36, 28, 57, 1099, 21, 8, 140, 8, 703, 5, 11656, 84, 56, 18, 1644, 14, 9, 31, 7, 4, 9406, 1209, 2295, 26094, 1008, 18, 6, 20, 207, 110, 563, 12, 8, 2901, 17793, 8, 97, 6, 20, 53, 4767, 74, 4, 460, 364, 1273, 29, 270, 11, 960, 108, 45, 40, 29, 2961, 395, 11, 6, 4065, 500, 7, 14492, 89, 364, 70, 29, 140, 4, 64, 4780, 11, 4, 2678, 26, 178, 4, 529, 443, 17793, 5, 27, 710, 117, 74936, 8123, 165, 47, 84, 37, 131, 818, 14, 595, 10, 10, 61, 1242, 1209, 10, 10, 288, 2260, 1702, 34, 2901, 17793, 4, 65, 496, 4, 231, 7, 790, 5, 6, 320, 234, 2766, 234, 1119, 1574, 7, 496, 4, 139, 929, 2901, 17793, 7750, 5, 4241, 18, 4, 8497, 13164, 250, 11, 1818, 7561, 4, 4217, 5408, 747, 1115, 372, 1890, 1006, 541, 9303, 7, 4, 59, 11027, 4, 3586, 22459]),\n",
       "       list([1, 1446, 7079, 69, 72, 3305, 13, 610, 930, 8, 12, 582, 23, 5, 16, 484, 685, 54, 349, 11, 4120, 2959, 45, 58, 1466, 13, 197, 12, 16, 43, 23, 21469, 5, 62, 30, 145, 402, 11, 4131, 51, 575, 32, 61, 369, 71, 66, 770, 12, 1054, 75, 100, 2198, 8, 4, 105, 37, 69, 147, 712, 75, 3543, 44, 257, 390, 5, 69, 263, 514, 105, 50, 286, 1814, 23, 4, 123, 13, 161, 40, 5, 421, 4, 116, 16, 897, 13, 40691, 40, 319, 5872, 112, 6700, 11, 4803, 121, 25, 70, 3468, 4, 719, 3798, 13, 18, 31, 62, 40, 8, 7200, 4, 29455, 7, 14, 123, 5, 942, 25, 8, 721, 12, 145, 5, 202, 12, 160, 580, 202, 12, 6, 52, 58, 11418, 92, 401, 728, 12, 39, 14, 251, 8, 15, 251, 5, 21213, 12, 38, 84, 80, 124, 12, 9, 23]),\n",
       "       list([1, 17, 6, 194, 337, 7, 4, 204, 22, 45, 254, 8, 106, 14, 123, 4, 12815, 270, 14437, 5, 16923, 12255, 732, 2098, 101, 405, 39, 14, 1034, 4, 1310, 9, 115, 50, 305, 12, 47, 4, 168, 5, 235, 7, 38, 111, 699, 102, 7, 4, 4039, 9245, 9, 24, 6, 78, 1099, 17, 2345, 16553, 21, 27, 9685, 6139, 5, 29043, 1603, 92, 1183, 4, 1310, 7, 4, 204, 42, 97, 90, 35, 221, 109, 29, 127, 27, 118, 8, 97, 12, 157, 21, 6789, 85010, 9, 6, 66, 78, 1099, 4, 631, 1191, 5, 2642, 272, 191, 1070, 6, 7585, 8, 2197, 70907, 10755, 544, 5, 383, 1271, 848, 1468, 12183, 497, 16876, 8, 1597, 8778, 19280, 21, 60, 27, 239, 9, 43, 8368, 209, 405, 10, 10, 12, 764, 40, 4, 248, 20, 12, 16, 5, 174, 1791, 72, 7, 51, 6, 1739, 22, 4, 204, 131, 9])],\n",
       "      dtype=object)"
      ]
     },
     "metadata": {},
     "execution_count": 2
    }
   ]
  },
  {
   "cell_type": "code",
   "metadata": {
    "id": "Bwh0nut-JtQJ",
    "colab": {
     "base_uri": "https://localhost:8080/"
    },
    "outputId": "c8045884-e073-4940-e5b9-f1ebacbb866f"
   },
   "source": [
    "y_train"
   ],
   "execution_count": null,
   "outputs": [
    {
     "output_type": "execute_result",
     "data": {
      "text/plain": [
       "array([1, 0, 0, ..., 0, 1, 0])"
      ]
     },
     "metadata": {},
     "execution_count": 3
    }
   ]
  },
  {
   "cell_type": "code",
   "metadata": {
    "id": "Nl9Dvo1gKH0g"
   },
   "source": [
    "def decode_review(sample):\n",
    "    NUM_WORDS=None\n",
    "    INDEX_FROM=3   # откуда индексирем\n",
    "\n",
    "    train,test = keras.datasets.imdb.load_data(num_words=NUM_WORDS, index_from=INDEX_FROM)\n",
    "\n",
    "    word_to_id = keras.datasets.imdb.get_word_index()\n",
    "    word_to_id = {k:(v+INDEX_FROM) for k,v in word_to_id.items()}\n",
    "    word_to_id[\"<PAD>\"] = 0\n",
    "    word_to_id[\"<START>\"] = 1\n",
    "    word_to_id[\"<UNK>\"] = 2\n",
    "    word_to_id[\"<UNUSED>\"] = 3\n",
    "\n",
    "    id_to_word = {value:key for key,value in word_to_id.items()}\n",
    "\n",
    "    return ' '.join(id_to_word[id] for id in sample)"
   ],
   "execution_count": null,
   "outputs": []
  },
  {
   "cell_type": "code",
   "metadata": {
    "id": "Tv9ExHFlKqdO",
    "colab": {
     "base_uri": "https://localhost:8080/"
    },
    "outputId": "b2724017-daac-4d05-eefe-8c0725a8c461"
   },
   "source": [
    "print(decode_review(x_train[0]))\n",
    "print(y_train[0])"
   ],
   "execution_count": null,
   "outputs": [
    {
     "output_type": "stream",
     "name": "stdout",
     "text": [
      "Downloading data from https://storage.googleapis.com/tensorflow/tf-keras-datasets/imdb_word_index.json\n",
      "1641221/1641221 [==============================] - 1s 0us/step\n",
      "<START> this film was just brilliant casting location scenery story direction everyone's really suited the part they played and you could just imagine being there robert redford's is an amazing actor and now the same being director norman's father came from the same scottish island as myself so i loved the fact there was a real connection with this film the witty remarks throughout the film were great it was just brilliant so much that i bought the film as soon as it was released for retail and would recommend it to everyone to watch and the fly fishing was amazing really cried at the end it was so sad and you know what they say if you cry at a film it must have been good and this definitely was also congratulations to the two little boy's that played the part's of norman and paul they were just brilliant children are often left out of the praising list i think because the stars that play them all grown up are such a big profile for the whole film but these children are amazing and should be praised for what they have done don't you think the whole story was so lovely because it was true and was someone's life after all that was shared with us all\n",
      "1\n"
     ]
    }
   ]
  },
  {
   "cell_type": "code",
   "metadata": {
    "id": "M2-M0TlOLxQh",
    "colab": {
     "base_uri": "https://localhost:8080/"
    },
    "outputId": "7a0ca880-b9d2-4bd9-bfeb-333c7e92ba36"
   },
   "source": [
    "print(decode_review(x_train[20]))\n",
    "print(y_train[20])"
   ],
   "execution_count": null,
   "outputs": [
    {
     "output_type": "stream",
     "name": "stdout",
     "text": [
      "<START> shown in australia as 'hydrosphere' this incredibly bad movie is so bad that you become hypnotised and have to watch it to the end just to see if it could get any worse and it does the storyline is so predictable it seems written by a high school dramatics class the sets are pathetic but marginally better than the miniatures and the acting is wooden br br the infant 'muppet' seems to have been stolen from the props cupboard of 'total recall' there didn't seem to be a single original idea in the whole movie br br i found this movie to be so bad that i laughed most of the way through br br malcolm mcdowell should hang his head in shame he obviously needed the money\n",
      "0\n"
     ]
    }
   ]
  },
  {
   "cell_type": "markdown",
   "metadata": {
    "id": "dY1fo4DwMFrW"
   },
   "source": [
    "----"
   ]
  },
  {
   "cell_type": "markdown",
   "metadata": {
    "id": "7Liqxl6O_IeS"
   },
   "source": [
    "#### Создание алгоритма и обучение"
   ]
  },
  {
   "cell_type": "markdown",
   "metadata": {
    "id": "8pjkuRRWQpy6"
   },
   "source": [
    "collections.defaultdict ничем не отличается от обычного словаря за исключением того, что по умолчанию всегда вызывается функция, возвращающая значение:"
   ]
  },
  {
   "cell_type": "code",
   "metadata": {
    "id": "q-h7FpsOQsRa",
    "colab": {
     "base_uri": "https://localhost:8080/"
    },
    "outputId": "df9b649f-f39c-422f-e911-feceba78cd8d"
   },
   "source": [
    "import collections\n",
    "\n",
    "defdict = collections.defaultdict(list)\n",
    "print(defdict)\n",
    "\n",
    "for i in range(5):\n",
    "    defdict[i] = i\n",
    "\n",
    "print(defdict)"
   ],
   "execution_count": null,
   "outputs": [
    {
     "output_type": "stream",
     "name": "stdout",
     "text": [
      "defaultdict(<class 'list'>, {})\n",
      "defaultdict(<class 'list'>, {0: 0, 1: 1, 2: 2, 3: 3, 4: 4})\n"
     ]
    }
   ]
  },
  {
   "cell_type": "markdown",
   "metadata": {
    "id": "0rzocQRBihqd"
   },
   "source": [
    "Пусть у нас есть строка текста $O$. Кроме того, имеются классы $С$, к одному из которых мы должны отнести строку. Нам необходимо найти такой класс с, при котором его вероятность для данной строки была бы максимальна. Найдем этот класс как\n",
    "\n",
    "<h4 align=\"center\"> $ С = argmax_c P(C|O) $ </h4>\n",
    "\n",
    "\n",
    "$argmax_x f(x)$ есть значение $x$, при котором $f(x)$ максимальна\n",
    "\n",
    "\n"
   ]
  },
  {
   "cell_type": "markdown",
   "metadata": {
    "id": "zYpRf-Z-jq3G"
   },
   "source": [
    "Т.к. получить $P(C|O)$ сложно легче вычислить косвенные вероятности используя теорему Байеса:\n",
    "\n",
    "<h4 align=\"center\"> $ P(C|O) = \\frac{ P(O|C)P(C) }{ P(O) } $ </h4>\n"
   ]
  },
  {
   "cell_type": "markdown",
   "metadata": {
    "id": "X_SBGj_EkBmy"
   },
   "source": [
    "Так как мы ищем максимум от функции, то знаменатель нас не интересует (он в данном случае константа). Кроме того, нужно взглянуть на строку O. Обычно, нет смысла работать со всей строкой. Намного эффективней выделить из нее определенные признаки (features). Таким образом формула примет вид:\n",
    "\n",
    "<h4 align=\"center\"> $ P(C|O) = \\frac{ P(o_1, o_2, ... , o_n)P(C) }{ P(o_1, o_2, ... , o_n) } $ </h4>"
   ]
  },
  {
   "cell_type": "markdown",
   "metadata": {
    "id": "vFTtcaqjkHTY"
   },
   "source": [
    "Используем «наивное» предположение о том, что переменные O зависят только от класса C, и не зависят друг от друга. Это сильно упрощение, но зачастую это работает. Числитель примет вид:\n",
    "\n",
    "(Числитель эквивалентен совместной вероятности модели, переписываем используя повторные приложения определений условной вероятности)\n",
    "\n",
    "<h4 align=\"center\"> $P(C)P(o_1|C)P(o_2|C_{o1})...P(o_n|C_{o1o2...on})$ </h4>\n"
   ]
  },
  {
   "cell_type": "code",
   "metadata": {
    "id": "ORQ4Fsi0L4UH"
   },
   "source": [
    "from collections import defaultdict\n",
    "from math import log\n",
    "\n",
    "def train(samples):\n",
    "    classes, freq = defaultdict(lambda:0), defaultdict(lambda:0)\n",
    "    for feats, label in samples:\n",
    "        # находим лэйбл класса и считаем его частоту\n",
    "        classes[label] += 1\n",
    "        # feats - элемент обучающей выборки, наш обзор\n",
    "        # [1, 14, 22, 16, 43, ... <- закодированные в словаре наборы слов\n",
    "        for feat in feats:\n",
    "            # проходимся по всем словам и считаем их частоты (кол-во элементов)\n",
    "            # ключ - (лейбл, слово) (пример (0, 11176): 26 )\n",
    "            freq[label, feat] += 1          # count features frequencies\n",
    "\n",
    "    # внутри freq содержится записи формата (лейбл(1 или 0 в нашем случае), слово(133)) : кол-во встречаний в тексте\n",
    "    # нормализуем частоты фичей и классов\n",
    "    # распаковываем лейбл и фичу из частот, делим на кол-во элементов этого класса\n",
    "    for label, feat in freq:\n",
    "        freq[label, feat] /= classes[label] # для получения частоты нормируем на кол-во элементов в классе\n",
    "\n",
    "    # кол-во элементов для каждого класса делим на кол-во семплов\n",
    "    for c in classes:\n",
    "        classes[c] /= len(samples)\n",
    "\n",
    "    # мы получили classes - соответсвует вероятности P(C)\n",
    "    # и freq - вероятности P(O|C)\n",
    "    return classes, freq"
   ],
   "execution_count": null,
   "outputs": []
  },
  {
   "cell_type": "markdown",
   "metadata": {
    "id": "Erz2oZ4koDVT"
   },
   "source": [
    "В функции train первые пять строк производят подсчет количества классов C, а также частоту появления фич O и С в одном семпле. Вторая часть метода просто нормирует эти частоты. Таким образом на выходе получаются вероятности $P(C)$ и $P(O|C)$."
   ]
  },
  {
   "cell_type": "code",
   "metadata": {
    "id": "QOvHzg4QoGpO"
   },
   "source": [
    "def classify(classifier, feats):\n",
    "    classes, prob = classifier\n",
    "    '''\n",
    "    print(classes)\n",
    "    print(prob)\n",
    "\n",
    "    print(-log(classes[0]) + sum(-log(prob.get((0,feat), 10**(-7))) for feat in feats) )\n",
    "    print(-log(classes[1]) + sum(-log(prob.get((1,feat), 10**(-7))) for feat in feats) )\n",
    "    '''\n",
    "    # max ( P(1|O), P(0|O))\n",
    "\n",
    "    # argmin(-log(C|O))\n",
    "    return min(classes.keys(),\n",
    "        key = lambda cl: -log(classes[cl]) + sum(-log(prob.get((cl,feat), 10**(-7))) for feat in feats) )"
   ],
   "execution_count": null,
   "outputs": []
  },
  {
   "cell_type": "markdown",
   "metadata": {
    "id": "6GhSkKFZoVh0"
   },
   "source": [
    "В функции classify происходит поиск наиболее вероятного класса. Тут заменяется произведение вероятностей на сумму логарифмов, взятых с отрицательным знаком, и вычисляю не argmax, а argmin. Переход к логарифмам — распространненный прием чтобы избежать слишком маленьких чисел, которые могли бы получится при произведении вероятностей + логарифм – монотонно возрастающая функция. Логарифм от функции достигнет максимума в той же точке (по оси абсцисс), что и сама функция.\n",
    "Число 10(^-7), которое подставляется в логарифм, это способ избежать нуля в аргументе логарифма (т.к. он будет иначе он будет неопределен)."
   ]
  },
  {
   "cell_type": "markdown",
   "metadata": {
    "id": "g09dDI0h7bC9"
   },
   "source": [
    "формат 1 элемента обучающей выборки\n",
    "([1, 2, 3, 123, ... <- слова], 1 <-ответ)\n",
    "\n",
    "обучающая выборка [(), (), () ]"
   ]
  },
  {
   "cell_type": "code",
   "metadata": {
    "id": "hVjVpMQ3MG1n"
   },
   "source": [
    "features = [(x_train[i], y_train[i]) for i in range(len(x_train))]"
   ],
   "execution_count": null,
   "outputs": []
  },
  {
   "cell_type": "code",
   "metadata": {
    "id": "WLFdGQSxM5At"
   },
   "source": [
    "classifier = train(features)"
   ],
   "execution_count": null,
   "outputs": []
  },
  {
   "cell_type": "markdown",
   "metadata": {
    "id": "j32v1e5mPI6d"
   },
   "source": [
    "----\n",
    "\n",
    "#### Проверка\n",
    "\n",
    "Проверим как работает на примере позитивного обзора"
   ]
  },
  {
   "cell_type": "code",
   "metadata": {
    "id": "pkLHwDL3PMA1",
    "colab": {
     "base_uri": "https://localhost:8080/",
     "height": 125
    },
    "outputId": "57ce3235-5e80-449f-acaf-1778358b2e9e"
   },
   "source": [
    "decode_review(x_test[11])"
   ],
   "execution_count": null,
   "outputs": [
    {
     "output_type": "execute_result",
     "data": {
      "text/plain": [
       "\"<START> when i first saw this movie in the theater i was so angry it completely blew in my opinion i didn't see it for a decade then decided what the hell let's see i'm watching all hellraiser movies now to see where it went wrong my guess is it was with sequel 5 that was the first to implement the whole i am in a dream omg i see weird stuff oh noes what is happening oh its a dream oh its not a dream oh wait i see something spooky oh never mind sucky storyline those sequels don't even require the box to be opened or stick to the rules from the first 4 movies that if you saw pinhead you are pretty much screwed and dead the first 3 sticked to this storyline which made it so scary in the first place nothing fantasy nothing weird the box got opened boom they came was the only one that could bargain her way out of it first because of uncle frank then because she had information about the this movie at least attempts to stick to all that even though it was a bad story it was still somewhat hellraiser no i'm pretty sure part 5 was the first part to completely and utterly destroy the hellraiser series now they are remaking 1 and i don't even think i will watch it oh who am i kidding i probably will and probably will be disappointed again\""
      ],
      "application/vnd.google.colaboratory.intrinsic+json": {
       "type": "string"
      }
     },
     "metadata": {},
     "execution_count": 15
    }
   ]
  },
  {
   "cell_type": "code",
   "metadata": {
    "id": "H8h7YDNsPRIx",
    "colab": {
     "base_uri": "https://localhost:8080/"
    },
    "outputId": "0f059511-97ca-439f-b9cf-fed18cc24390"
   },
   "source": [
    "print('true label', y_test[11])"
   ],
   "execution_count": null,
   "outputs": [
    {
     "output_type": "stream",
     "name": "stdout",
     "text": [
      "true label 0\n"
     ]
    }
   ]
  },
  {
   "cell_type": "code",
   "metadata": {
    "id": "osw9rVajNARj",
    "colab": {
     "base_uri": "https://localhost:8080/"
    },
    "outputId": "a89c9a5d-4059-4d7c-d0cf-c75678aee8d8"
   },
   "source": [
    "print('predicted', classify(classifier, (x_test[11])) )"
   ],
   "execution_count": null,
   "outputs": [
    {
     "output_type": "stream",
     "name": "stdout",
     "text": [
      "predicted 0\n"
     ]
    }
   ]
  },
  {
   "cell_type": "markdown",
   "metadata": {
    "id": "gs_2RbWvQE1l"
   },
   "source": [
    "Посмотрим на пример негативного обзора"
   ]
  },
  {
   "cell_type": "code",
   "metadata": {
    "id": "NZY8tCbhPhx4",
    "colab": {
     "base_uri": "https://localhost:8080/",
     "height": 89
    },
    "outputId": "5332d4a9-22fa-4485-f6a1-fe30bb538b0b"
   },
   "source": [
    "decode_review(x_test[30])"
   ],
   "execution_count": null,
   "outputs": [
    {
     "output_type": "execute_result",
     "data": {
      "text/plain": [
       "\"<START> tim robbins did a masterful job directing this film i say this because he avoided convention and cliché he also oversaw superb performances from susan sarandon who won an oscar for her role and sean penn even more amazing robbins doesn't patronize he just tells the story and lets the events play on the viewer's mind this is so effective because it allows the viewer to form his own opinions on the death penalty one of the most controversial subjects of our time without being unfairly manipulated in either direction i can't recommend this film enough 9 10\""
      ],
      "application/vnd.google.colaboratory.intrinsic+json": {
       "type": "string"
      }
     },
     "metadata": {},
     "execution_count": 18
    }
   ]
  },
  {
   "cell_type": "code",
   "metadata": {
    "id": "wJdF0BDIPjJv",
    "colab": {
     "base_uri": "https://localhost:8080/"
    },
    "outputId": "21978b73-df47-4dd6-dd08-821c4e4f367c"
   },
   "source": [
    "print('true label', y_test[30])"
   ],
   "execution_count": null,
   "outputs": [
    {
     "output_type": "stream",
     "name": "stdout",
     "text": [
      "true label 1\n"
     ]
    }
   ]
  },
  {
   "cell_type": "code",
   "metadata": {
    "id": "VtzHz_W0P52y",
    "colab": {
     "base_uri": "https://localhost:8080/"
    },
    "outputId": "a4b3b906-6dc3-41a1-e516-47db798a0a6b"
   },
   "source": [
    "print('predicted', classify(classifier, (x_test[30])) )"
   ],
   "execution_count": null,
   "outputs": [
    {
     "output_type": "stream",
     "name": "stdout",
     "text": [
      "predicted 1\n"
     ]
    }
   ]
  },
  {
   "cell_type": "markdown",
   "metadata": {
    "id": "bToQhej5P9ah"
   },
   "source": [
    "----\n",
    "\n",
    "Надо проверить все это на метриках качества"
   ]
  },
  {
   "cell_type": "code",
   "metadata": {
    "id": "JAGOfB6xNsDX"
   },
   "source": [
    "from sklearn.metrics import classification_report\n",
    "\n",
    "predicted = [classify(classifier, (x_test[i])) for i in range(len(x_test))]"
   ],
   "execution_count": null,
   "outputs": []
  },
  {
   "cell_type": "code",
   "metadata": {
    "id": "nLKa76hWOBmt",
    "colab": {
     "base_uri": "https://localhost:8080/"
    },
    "outputId": "75276fbb-aaef-4bef-d80a-556f1484ca1e"
   },
   "source": [
    "predicted[:5]"
   ],
   "execution_count": null,
   "outputs": [
    {
     "output_type": "execute_result",
     "data": {
      "text/plain": [
       "[0, 1, 1, 0, 1]"
      ]
     },
     "metadata": {},
     "execution_count": 20
    }
   ]
  },
  {
   "cell_type": "code",
   "metadata": {
    "id": "FvYfNZRgOCsu",
    "colab": {
     "base_uri": "https://localhost:8080/"
    },
    "outputId": "b96bd667-4236-4607-a64e-33668d1c8cc2"
   },
   "source": [
    "y_test[:5]"
   ],
   "execution_count": null,
   "outputs": [
    {
     "output_type": "execute_result",
     "data": {
      "text/plain": [
       "array([0, 1, 1, 0, 1])"
      ]
     },
     "metadata": {},
     "execution_count": 21
    }
   ]
  },
  {
   "cell_type": "code",
   "metadata": {
    "id": "X7TYH-3HOKyO",
    "colab": {
     "base_uri": "https://localhost:8080/"
    },
    "outputId": "a7b64b6d-be2f-4968-a6e5-dd884c321a88"
   },
   "source": [
    "print(classification_report(y_test, predicted))"
   ],
   "execution_count": null,
   "outputs": [
    {
     "output_type": "stream",
     "name": "stdout",
     "text": [
      "              precision    recall  f1-score   support\n",
      "\n",
      "           0       0.79      0.79      0.79     12500\n",
      "           1       0.79      0.79      0.79     12500\n",
      "\n",
      "    accuracy                           0.79     25000\n",
      "   macro avg       0.79      0.79      0.79     25000\n",
      "weighted avg       0.79      0.79      0.79     25000\n",
      "\n"
     ]
    }
   ]
  },
  {
   "cell_type": "markdown",
   "metadata": {
    "id": "KSgstOgZHIQA"
   },
   "source": [
    "----"
   ]
  },
  {
   "cell_type": "markdown",
   "metadata": {
    "id": "Nf6m3uz5t1hR"
   },
   "source": [
    "# Модификации и реализации Наивного Байеса"
   ]
  },
  {
   "cell_type": "code",
   "metadata": {
    "id": "U27JL4kT8a6J"
   },
   "source": [
    "import numpy as np\n",
    "import pandas as pd\n",
    "import matplotlib.pyplot as plt\n",
    "from sklearn.naive_bayes import ComplementNB, MultinomialNB, BernoulliNB, CategoricalNB, GaussianNB"
   ],
   "execution_count": null,
   "outputs": []
  },
  {
   "cell_type": "markdown",
   "metadata": {
    "id": "1ADOWyNnuBvZ"
   },
   "source": [
    "## Multinomial Naive Bayes\n",
    "\n",
    "Полиномиальный наивный байесовский классификатор подходит для классификации с дискретными признаками (например, количество слов для классификации текста). Полиномиальное распределение обычно требует целочисленного количества признаков. Однако, на практике, дробные, такие как tf-idf, также могут работать.\n"
   ]
  },
  {
   "cell_type": "markdown",
   "metadata": {
    "id": "aKo0xtONyH09"
   },
   "source": [
    "Оригинальный алгоритм:\n",
    "\n",
    "$$p(f_1,..., f_n|c) = \\prod_{i=1}^n p(f_i|c)$$\n",
    "\n",
    "До этого момента мы ничего не говорили о распределении каждого признака. Другими словами, мы оставили $p(fi | c)$ неопределенным. Термин «Полиномиальный наивный байесовский» просто дает нам знать, что каждый $p (fi | c)$ является многочленным распределением, а не каким-либо другим распределением. Это хорошо работает для данных, которые можно легко преобразовать в счетчики, например, слова в тексте.\n",
    "\n",
    "Наивный байесовский классификатор является общим термином, который относится к условной независимости каждой из функций в модели, в то время как полиномиальный наивный байесовский классификатор является конкретным экземпляром наивного байесовского классификатора, который использует полиномиальное распределение для каждой из функций."
   ]
  },
  {
   "cell_type": "markdown",
   "metadata": {
    "id": "vs1y5uuQjan4"
   },
   "source": [
    "MultinomialNB реализует наивный алгоритм Байеса для полиномиально распределенных данных и является одним из двух классических наивных байесовских вариантов, используемых в классификации текста (где данные обычно представлены в виде вектора количества слов из всех слов, или как tf-idf). Распределение параметризовано векторами $θy = (θy1,…, θyn)$ для каждого класса $y$, где $n$ - количество признаков (в текстовой классификации - размер словаря), а $θyi$ - вероятность $P (xi∣y)$ $i$-го признака появиться я появляется в документе, принадлежащем к классу у.\n",
    "\n",
    "Параметры оцениваются по сглаженной версии максимального правдоподобия, то есть относительного подсчета частоты:\n",
    "\n",
    "$$\\hat{\\theta}_{yi} = \\frac{ N_{yi} + \\alpha}{N_y + \\alpha n}$$\n",
    "\n",
    "Где $N_{yi} = \\sum_{x \\in T} x_i$ - количество раз, в котором i-й признак появляется в документа класса $y$ в обучающем наборе, а $N_{y} = \\sum_{i=1}^{n} N_{yi}$ - общее количество всех признаков класса $y$.\n",
    "\n",
    "Сглаживающий параметр $α≥0$ учитывают особенности, связанные с отсутствующими признаками в обучающих выборках, и предотвращают нулевые вероятности в дальнейших вычислениях. Установка $α = 1$ называется сглаживанием Лапласа, а $α <1$ называется сглаживанием Лидстона.\n",
    "\n",
    "\n"
   ]
  },
  {
   "cell_type": "markdown",
   "metadata": {
    "id": "484-pBPV2Yd8"
   },
   "source": [
    "Переписывая формулу для задачи классификация текста - вероятность вхождения слова $x_i$ d документ класса Q определяется как:\n",
    "\n",
    "$$P(x_i|Q_y) = \\frac{N_{iy} + \\alpha}{N_y + \\alpha n}$$\n",
    "\n",
    "где\n",
    "* $N_k$ - количества слов входящий в документ класса Q\n",
    "* $N_{ik}$ - количество вхождений слова x_{i} в документ класса $Q$\n",
    "* $\\alpha$ - параметр сглаживания [0, 1)\n",
    "* $n$ - количество слов из обучающей выборки\n",
    "\n",
    "Второй параметр формулы наивного Байеса: $P(Q_i) = \\frac{N_{Qy}}{N}$\n",
    "где\n",
    "* $N_{y}$ - количество документов класса y\n",
    "* $N$ - все количество документов\n",
    "\n",
    "Итого получаем:\n",
    "\n",
    "$$arg\\max[P(Q_y)\\prod_{i=1}^nP(x_i|Q_y)]$$\n",
    "\n",
    "Переходя к логарифмам:\n",
    "\n",
    "$$arg\\max[\\log{P(Q_y)}+\\sum_{i=1}^n\\log{P(x_i|Q_y)}]$$"
   ]
  },
  {
   "cell_type": "markdown",
   "metadata": {
    "id": "J3DBKmOp7ko5"
   },
   "source": [
    "### Подготовка данных"
   ]
  },
  {
   "cell_type": "markdown",
   "metadata": {
    "id": "IUi3Geh05udt"
   },
   "source": [
    "Используем оптимизированный в sklearn на примере русских твиттов"
   ]
  },
  {
   "cell_type": "markdown",
   "metadata": {
    "id": "yNPMRY3Z6Sn4"
   },
   "source": [
    "Данные взяты из статьи http://www.swsys.ru/index.php?page=article&id=3962&lang=\n",
    "\n",
    "В корпусе 114,911 положительных и 111,923 отрицательных записей. Представляют из себя разметку сентимента русскоязычных твитов. (сорс https://study.mokoron.com/ там есть и на 17 миллионов значений, кто хочет взять нечто подобное для проекта)\n"
   ]
  },
  {
   "cell_type": "code",
   "metadata": {
    "id": "f479dvP56A05"
   },
   "source": [
    "neg = pd.read_csv('https://raw.githubusercontent.com/tixonsit/mmdad_materials/master/negative.csv', encoding='utf8', sep=';', header=None)"
   ],
   "execution_count": null,
   "outputs": []
  },
  {
   "cell_type": "code",
   "metadata": {
    "id": "OiJ2hEnd7-Sk"
   },
   "source": [
    "pos = pd.read_csv('https://raw.githubusercontent.com/tixonsit/mmdad_materials/master/positive.csv', encoding='utf8', sep=';', header=None)"
   ],
   "execution_count": null,
   "outputs": []
  },
  {
   "cell_type": "code",
   "metadata": {
    "id": "FM34g-wH8ShZ",
    "colab": {
     "base_uri": "https://localhost:8080/"
    },
    "outputId": "7512ad91-a34a-4630-aea1-2c61aa4545e7"
   },
   "source": [
    "pos[3]"
   ],
   "execution_count": null,
   "outputs": [
    {
     "output_type": "execute_result",
     "data": {
      "text/plain": [
       "0         @first_timee хоть я и школота, но поверь, у на...\n",
       "1         Да, все-таки он немного похож на него. Но мой ...\n",
       "2         RT @KatiaCheh: Ну ты идиотка) я испугалась за ...\n",
       "3         RT @digger2912: \"Кто то в углу сидит и погибае...\n",
       "4         @irina_dyshkant Вот что значит страшилка :D\\nН...\n",
       "                                ...                        \n",
       "114906    Спала в родительском доме, на своей кровати......\n",
       "114907    RT @jebesilofyt: Эх... Мы немного решили сокра...\n",
       "114908    Что происходит со мной, когда в эфире #proacti...\n",
       "114909    \"Любимая,я подарю тебе эту звезду...\" Имя како...\n",
       "114910    @Ma_che_rie посмотри #непытайтесьпокинутьомск ...\n",
       "Name: 3, Length: 114911, dtype: object"
      ]
     },
     "metadata": {},
     "execution_count": 29
    }
   ]
  },
  {
   "cell_type": "code",
   "metadata": {
    "id": "ARLg_nmi8Wsx",
    "colab": {
     "base_uri": "https://localhost:8080/"
    },
    "outputId": "e84e2719-2c91-43ae-bbd0-8a6ba00e600f"
   },
   "source": [
    "neg[3]"
   ],
   "execution_count": null,
   "outputs": [
    {
     "output_type": "execute_result",
     "data": {
      "text/plain": [
       "0         на работе был полный пиддес :| и так каждое за...\n",
       "1         Коллеги сидят рубятся в Urban terror, а я из-з...\n",
       "2         @elina_4post как говорят обещаного три года жд...\n",
       "3         Желаю хорошего полёта и удачной посадки,я буду...\n",
       "4         Обновил за каким-то лешим surf, теперь не рабо...\n",
       "                                ...                        \n",
       "111918    Но не каждый хочет что то исправлять:( http://...\n",
       "111919    скучаю так :-( только @taaannyaaa вправляет мо...\n",
       "111920            Вот и в школу, в говно это идти уже надо(\n",
       "111921    RT @_Them__: @LisaBeroud Тауриэль, не грусти :...\n",
       "111922    Такси везет меня на работу. Раздумываю приплат...\n",
       "Name: 3, Length: 111923, dtype: object"
      ]
     },
     "metadata": {},
     "execution_count": 30
    }
   ]
  },
  {
   "cell_type": "code",
   "metadata": {
    "id": "nsV6ouHx6F7P",
    "colab": {
     "base_uri": "https://localhost:8080/"
    },
    "outputId": "3532aceb-b032-4929-ecc2-2882d45147df"
   },
   "source": [
    "df = pos.append(neg, ignore_index = True)\n",
    "df = df.sample(frac=1).reset_index(drop=True)\n",
    "len(df)"
   ],
   "execution_count": null,
   "outputs": [
    {
     "output_type": "stream",
     "name": "stderr",
     "text": [
      "<ipython-input-31-92c42d9e3d68>:1: FutureWarning: The frame.append method is deprecated and will be removed from pandas in a future version. Use pandas.concat instead.\n",
      "  df = pos.append(neg, ignore_index = True)\n"
     ]
    },
    {
     "output_type": "execute_result",
     "data": {
      "text/plain": [
       "226834"
      ]
     },
     "metadata": {},
     "execution_count": 31
    }
   ]
  },
  {
   "cell_type": "code",
   "metadata": {
    "id": "Cv0PQYN86wuC",
    "colab": {
     "base_uri": "https://localhost:8080/",
     "height": 206
    },
    "outputId": "137c2372-7968-4d8b-b138-1d4e1dd80468"
   },
   "source": [
    "df.head()"
   ],
   "execution_count": null,
   "outputs": [
    {
     "output_type": "execute_result",
     "data": {
      "text/plain": [
       "                   0           1               2   \\\n",
       "0  410032825472401408  1386594418     sheriffavip   \n",
       "1  411103327410089984  1386849645       buimova02   \n",
       "2  424165037289508864  1389963800      pachecopbu   \n",
       "3  409997134021144576  1386585908  igizatullina76   \n",
       "4  415540756397322241  1387907611   YanaPiskunova   \n",
       "\n",
       "                                                  3   4   5   6   7      8   \\\n",
       "0  Минутка эстетического удовольствия))) / #love ...   1   0   0   0  33378   \n",
       "1  @sofazbruy так и решила узнать у общественност...   1   0   0   0   1066   \n",
       "2  опять нуднейшая психология :( Хоть бы раз была...  -1   0   0   0      2   \n",
       "3  скучно мнееее, еще гузеля свинья не звонит:( h...  -1   0   0   0    265   \n",
       "4  но я всегда знала что люди дружбой со мной не ...  -1   0   0   0     87   \n",
       "\n",
       "    9    10  11  \n",
       "0  118  271   0  \n",
       "1   34   46   2  \n",
       "2    0    0   0  \n",
       "3   34   31   0  \n",
       "4   12   27   0  "
      ],
      "text/html": [
       "\n",
       "  <div id=\"df-0fd42d3c-7402-42ca-b7c4-1cf655648e0c\" class=\"colab-df-container\">\n",
       "    <div>\n",
       "<style scoped>\n",
       "    .dataframe tbody tr th:only-of-type {\n",
       "        vertical-align: middle;\n",
       "    }\n",
       "\n",
       "    .dataframe tbody tr th {\n",
       "        vertical-align: top;\n",
       "    }\n",
       "\n",
       "    .dataframe thead th {\n",
       "        text-align: right;\n",
       "    }\n",
       "</style>\n",
       "<table border=\"1\" class=\"dataframe\">\n",
       "  <thead>\n",
       "    <tr style=\"text-align: right;\">\n",
       "      <th></th>\n",
       "      <th>0</th>\n",
       "      <th>1</th>\n",
       "      <th>2</th>\n",
       "      <th>3</th>\n",
       "      <th>4</th>\n",
       "      <th>5</th>\n",
       "      <th>6</th>\n",
       "      <th>7</th>\n",
       "      <th>8</th>\n",
       "      <th>9</th>\n",
       "      <th>10</th>\n",
       "      <th>11</th>\n",
       "    </tr>\n",
       "  </thead>\n",
       "  <tbody>\n",
       "    <tr>\n",
       "      <th>0</th>\n",
       "      <td>410032825472401408</td>\n",
       "      <td>1386594418</td>\n",
       "      <td>sheriffavip</td>\n",
       "      <td>Минутка эстетического удовольствия))) / #love ...</td>\n",
       "      <td>1</td>\n",
       "      <td>0</td>\n",
       "      <td>0</td>\n",
       "      <td>0</td>\n",
       "      <td>33378</td>\n",
       "      <td>118</td>\n",
       "      <td>271</td>\n",
       "      <td>0</td>\n",
       "    </tr>\n",
       "    <tr>\n",
       "      <th>1</th>\n",
       "      <td>411103327410089984</td>\n",
       "      <td>1386849645</td>\n",
       "      <td>buimova02</td>\n",
       "      <td>@sofazbruy так и решила узнать у общественност...</td>\n",
       "      <td>1</td>\n",
       "      <td>0</td>\n",
       "      <td>0</td>\n",
       "      <td>0</td>\n",
       "      <td>1066</td>\n",
       "      <td>34</td>\n",
       "      <td>46</td>\n",
       "      <td>2</td>\n",
       "    </tr>\n",
       "    <tr>\n",
       "      <th>2</th>\n",
       "      <td>424165037289508864</td>\n",
       "      <td>1389963800</td>\n",
       "      <td>pachecopbu</td>\n",
       "      <td>опять нуднейшая психология :( Хоть бы раз была...</td>\n",
       "      <td>-1</td>\n",
       "      <td>0</td>\n",
       "      <td>0</td>\n",
       "      <td>0</td>\n",
       "      <td>2</td>\n",
       "      <td>0</td>\n",
       "      <td>0</td>\n",
       "      <td>0</td>\n",
       "    </tr>\n",
       "    <tr>\n",
       "      <th>3</th>\n",
       "      <td>409997134021144576</td>\n",
       "      <td>1386585908</td>\n",
       "      <td>igizatullina76</td>\n",
       "      <td>скучно мнееее, еще гузеля свинья не звонит:( h...</td>\n",
       "      <td>-1</td>\n",
       "      <td>0</td>\n",
       "      <td>0</td>\n",
       "      <td>0</td>\n",
       "      <td>265</td>\n",
       "      <td>34</td>\n",
       "      <td>31</td>\n",
       "      <td>0</td>\n",
       "    </tr>\n",
       "    <tr>\n",
       "      <th>4</th>\n",
       "      <td>415540756397322241</td>\n",
       "      <td>1387907611</td>\n",
       "      <td>YanaPiskunova</td>\n",
       "      <td>но я всегда знала что люди дружбой со мной не ...</td>\n",
       "      <td>-1</td>\n",
       "      <td>0</td>\n",
       "      <td>0</td>\n",
       "      <td>0</td>\n",
       "      <td>87</td>\n",
       "      <td>12</td>\n",
       "      <td>27</td>\n",
       "      <td>0</td>\n",
       "    </tr>\n",
       "  </tbody>\n",
       "</table>\n",
       "</div>\n",
       "    <div class=\"colab-df-buttons\">\n",
       "\n",
       "  <div class=\"colab-df-container\">\n",
       "    <button class=\"colab-df-convert\" onclick=\"convertToInteractive('df-0fd42d3c-7402-42ca-b7c4-1cf655648e0c')\"\n",
       "            title=\"Convert this dataframe to an interactive table.\"\n",
       "            style=\"display:none;\">\n",
       "\n",
       "  <svg xmlns=\"http://www.w3.org/2000/svg\" height=\"24px\" viewBox=\"0 -960 960 960\">\n",
       "    <path d=\"M120-120v-720h720v720H120Zm60-500h600v-160H180v160Zm220 220h160v-160H400v160Zm0 220h160v-160H400v160ZM180-400h160v-160H180v160Zm440 0h160v-160H620v160ZM180-180h160v-160H180v160Zm440 0h160v-160H620v160Z\"/>\n",
       "  </svg>\n",
       "    </button>\n",
       "\n",
       "  <style>\n",
       "    .colab-df-container {\n",
       "      display:flex;\n",
       "      gap: 12px;\n",
       "    }\n",
       "\n",
       "    .colab-df-convert {\n",
       "      background-color: #E8F0FE;\n",
       "      border: none;\n",
       "      border-radius: 50%;\n",
       "      cursor: pointer;\n",
       "      display: none;\n",
       "      fill: #1967D2;\n",
       "      height: 32px;\n",
       "      padding: 0 0 0 0;\n",
       "      width: 32px;\n",
       "    }\n",
       "\n",
       "    .colab-df-convert:hover {\n",
       "      background-color: #E2EBFA;\n",
       "      box-shadow: 0px 1px 2px rgba(60, 64, 67, 0.3), 0px 1px 3px 1px rgba(60, 64, 67, 0.15);\n",
       "      fill: #174EA6;\n",
       "    }\n",
       "\n",
       "    .colab-df-buttons div {\n",
       "      margin-bottom: 4px;\n",
       "    }\n",
       "\n",
       "    [theme=dark] .colab-df-convert {\n",
       "      background-color: #3B4455;\n",
       "      fill: #D2E3FC;\n",
       "    }\n",
       "\n",
       "    [theme=dark] .colab-df-convert:hover {\n",
       "      background-color: #434B5C;\n",
       "      box-shadow: 0px 1px 3px 1px rgba(0, 0, 0, 0.15);\n",
       "      filter: drop-shadow(0px 1px 2px rgba(0, 0, 0, 0.3));\n",
       "      fill: #FFFFFF;\n",
       "    }\n",
       "  </style>\n",
       "\n",
       "    <script>\n",
       "      const buttonEl =\n",
       "        document.querySelector('#df-0fd42d3c-7402-42ca-b7c4-1cf655648e0c button.colab-df-convert');\n",
       "      buttonEl.style.display =\n",
       "        google.colab.kernel.accessAllowed ? 'block' : 'none';\n",
       "\n",
       "      async function convertToInteractive(key) {\n",
       "        const element = document.querySelector('#df-0fd42d3c-7402-42ca-b7c4-1cf655648e0c');\n",
       "        const dataTable =\n",
       "          await google.colab.kernel.invokeFunction('convertToInteractive',\n",
       "                                                    [key], {});\n",
       "        if (!dataTable) return;\n",
       "\n",
       "        const docLinkHtml = 'Like what you see? Visit the ' +\n",
       "          '<a target=\"_blank\" href=https://colab.research.google.com/notebooks/data_table.ipynb>data table notebook</a>'\n",
       "          + ' to learn more about interactive tables.';\n",
       "        element.innerHTML = '';\n",
       "        dataTable['output_type'] = 'display_data';\n",
       "        await google.colab.output.renderOutput(dataTable, element);\n",
       "        const docLink = document.createElement('div');\n",
       "        docLink.innerHTML = docLinkHtml;\n",
       "        element.appendChild(docLink);\n",
       "      }\n",
       "    </script>\n",
       "  </div>\n",
       "\n",
       "\n",
       "<div id=\"df-84236aba-1ca1-4880-b4c3-157749bfbbaa\">\n",
       "  <button class=\"colab-df-quickchart\" onclick=\"quickchart('df-84236aba-1ca1-4880-b4c3-157749bfbbaa')\"\n",
       "            title=\"Suggest charts.\"\n",
       "            style=\"display:none;\">\n",
       "\n",
       "<svg xmlns=\"http://www.w3.org/2000/svg\" height=\"24px\"viewBox=\"0 0 24 24\"\n",
       "     width=\"24px\">\n",
       "    <g>\n",
       "        <path d=\"M19 3H5c-1.1 0-2 .9-2 2v14c0 1.1.9 2 2 2h14c1.1 0 2-.9 2-2V5c0-1.1-.9-2-2-2zM9 17H7v-7h2v7zm4 0h-2V7h2v10zm4 0h-2v-4h2v4z\"/>\n",
       "    </g>\n",
       "</svg>\n",
       "  </button>\n",
       "\n",
       "<style>\n",
       "  .colab-df-quickchart {\n",
       "      --bg-color: #E8F0FE;\n",
       "      --fill-color: #1967D2;\n",
       "      --hover-bg-color: #E2EBFA;\n",
       "      --hover-fill-color: #174EA6;\n",
       "      --disabled-fill-color: #AAA;\n",
       "      --disabled-bg-color: #DDD;\n",
       "  }\n",
       "\n",
       "  [theme=dark] .colab-df-quickchart {\n",
       "      --bg-color: #3B4455;\n",
       "      --fill-color: #D2E3FC;\n",
       "      --hover-bg-color: #434B5C;\n",
       "      --hover-fill-color: #FFFFFF;\n",
       "      --disabled-bg-color: #3B4455;\n",
       "      --disabled-fill-color: #666;\n",
       "  }\n",
       "\n",
       "  .colab-df-quickchart {\n",
       "    background-color: var(--bg-color);\n",
       "    border: none;\n",
       "    border-radius: 50%;\n",
       "    cursor: pointer;\n",
       "    display: none;\n",
       "    fill: var(--fill-color);\n",
       "    height: 32px;\n",
       "    padding: 0;\n",
       "    width: 32px;\n",
       "  }\n",
       "\n",
       "  .colab-df-quickchart:hover {\n",
       "    background-color: var(--hover-bg-color);\n",
       "    box-shadow: 0 1px 2px rgba(60, 64, 67, 0.3), 0 1px 3px 1px rgba(60, 64, 67, 0.15);\n",
       "    fill: var(--button-hover-fill-color);\n",
       "  }\n",
       "\n",
       "  .colab-df-quickchart-complete:disabled,\n",
       "  .colab-df-quickchart-complete:disabled:hover {\n",
       "    background-color: var(--disabled-bg-color);\n",
       "    fill: var(--disabled-fill-color);\n",
       "    box-shadow: none;\n",
       "  }\n",
       "\n",
       "  .colab-df-spinner {\n",
       "    border: 2px solid var(--fill-color);\n",
       "    border-color: transparent;\n",
       "    border-bottom-color: var(--fill-color);\n",
       "    animation:\n",
       "      spin 1s steps(1) infinite;\n",
       "  }\n",
       "\n",
       "  @keyframes spin {\n",
       "    0% {\n",
       "      border-color: transparent;\n",
       "      border-bottom-color: var(--fill-color);\n",
       "      border-left-color: var(--fill-color);\n",
       "    }\n",
       "    20% {\n",
       "      border-color: transparent;\n",
       "      border-left-color: var(--fill-color);\n",
       "      border-top-color: var(--fill-color);\n",
       "    }\n",
       "    30% {\n",
       "      border-color: transparent;\n",
       "      border-left-color: var(--fill-color);\n",
       "      border-top-color: var(--fill-color);\n",
       "      border-right-color: var(--fill-color);\n",
       "    }\n",
       "    40% {\n",
       "      border-color: transparent;\n",
       "      border-right-color: var(--fill-color);\n",
       "      border-top-color: var(--fill-color);\n",
       "    }\n",
       "    60% {\n",
       "      border-color: transparent;\n",
       "      border-right-color: var(--fill-color);\n",
       "    }\n",
       "    80% {\n",
       "      border-color: transparent;\n",
       "      border-right-color: var(--fill-color);\n",
       "      border-bottom-color: var(--fill-color);\n",
       "    }\n",
       "    90% {\n",
       "      border-color: transparent;\n",
       "      border-bottom-color: var(--fill-color);\n",
       "    }\n",
       "  }\n",
       "</style>\n",
       "\n",
       "  <script>\n",
       "    async function quickchart(key) {\n",
       "      const quickchartButtonEl =\n",
       "        document.querySelector('#' + key + ' button');\n",
       "      quickchartButtonEl.disabled = true;  // To prevent multiple clicks.\n",
       "      quickchartButtonEl.classList.add('colab-df-spinner');\n",
       "      try {\n",
       "        const charts = await google.colab.kernel.invokeFunction(\n",
       "            'suggestCharts', [key], {});\n",
       "      } catch (error) {\n",
       "        console.error('Error during call to suggestCharts:', error);\n",
       "      }\n",
       "      quickchartButtonEl.classList.remove('colab-df-spinner');\n",
       "      quickchartButtonEl.classList.add('colab-df-quickchart-complete');\n",
       "    }\n",
       "    (() => {\n",
       "      let quickchartButtonEl =\n",
       "        document.querySelector('#df-84236aba-1ca1-4880-b4c3-157749bfbbaa button');\n",
       "      quickchartButtonEl.style.display =\n",
       "        google.colab.kernel.accessAllowed ? 'block' : 'none';\n",
       "    })();\n",
       "  </script>\n",
       "</div>\n",
       "    </div>\n",
       "  </div>\n"
      ]
     },
     "metadata": {},
     "execution_count": 32
    }
   ]
  },
  {
   "cell_type": "code",
   "metadata": {
    "id": "xDcBjpy8-f60",
    "colab": {
     "base_uri": "https://localhost:8080/",
     "height": 206
    },
    "outputId": "6fde2520-597b-4e30-8181-2c6eee94f5d9"
   },
   "source": [
    "# сделаем привычные 1, 0\n",
    "df[4] = df[4].map({-1:0, 1:1})\n",
    "df.head()"
   ],
   "execution_count": null,
   "outputs": [
    {
     "output_type": "execute_result",
     "data": {
      "text/plain": [
       "                   0           1               2   \\\n",
       "0  410032825472401408  1386594418     sheriffavip   \n",
       "1  411103327410089984  1386849645       buimova02   \n",
       "2  424165037289508864  1389963800      pachecopbu   \n",
       "3  409997134021144576  1386585908  igizatullina76   \n",
       "4  415540756397322241  1387907611   YanaPiskunova   \n",
       "\n",
       "                                                  3   4   5   6   7      8   \\\n",
       "0  Минутка эстетического удовольствия))) / #love ...   1   0   0   0  33378   \n",
       "1  @sofazbruy так и решила узнать у общественност...   1   0   0   0   1066   \n",
       "2  опять нуднейшая психология :( Хоть бы раз была...   0   0   0   0      2   \n",
       "3  скучно мнееее, еще гузеля свинья не звонит:( h...   0   0   0   0    265   \n",
       "4  но я всегда знала что люди дружбой со мной не ...   0   0   0   0     87   \n",
       "\n",
       "    9    10  11  \n",
       "0  118  271   0  \n",
       "1   34   46   2  \n",
       "2    0    0   0  \n",
       "3   34   31   0  \n",
       "4   12   27   0  "
      ],
      "text/html": [
       "\n",
       "  <div id=\"df-4353969e-fc4c-441f-b60a-59c2e5a49216\" class=\"colab-df-container\">\n",
       "    <div>\n",
       "<style scoped>\n",
       "    .dataframe tbody tr th:only-of-type {\n",
       "        vertical-align: middle;\n",
       "    }\n",
       "\n",
       "    .dataframe tbody tr th {\n",
       "        vertical-align: top;\n",
       "    }\n",
       "\n",
       "    .dataframe thead th {\n",
       "        text-align: right;\n",
       "    }\n",
       "</style>\n",
       "<table border=\"1\" class=\"dataframe\">\n",
       "  <thead>\n",
       "    <tr style=\"text-align: right;\">\n",
       "      <th></th>\n",
       "      <th>0</th>\n",
       "      <th>1</th>\n",
       "      <th>2</th>\n",
       "      <th>3</th>\n",
       "      <th>4</th>\n",
       "      <th>5</th>\n",
       "      <th>6</th>\n",
       "      <th>7</th>\n",
       "      <th>8</th>\n",
       "      <th>9</th>\n",
       "      <th>10</th>\n",
       "      <th>11</th>\n",
       "    </tr>\n",
       "  </thead>\n",
       "  <tbody>\n",
       "    <tr>\n",
       "      <th>0</th>\n",
       "      <td>410032825472401408</td>\n",
       "      <td>1386594418</td>\n",
       "      <td>sheriffavip</td>\n",
       "      <td>Минутка эстетического удовольствия))) / #love ...</td>\n",
       "      <td>1</td>\n",
       "      <td>0</td>\n",
       "      <td>0</td>\n",
       "      <td>0</td>\n",
       "      <td>33378</td>\n",
       "      <td>118</td>\n",
       "      <td>271</td>\n",
       "      <td>0</td>\n",
       "    </tr>\n",
       "    <tr>\n",
       "      <th>1</th>\n",
       "      <td>411103327410089984</td>\n",
       "      <td>1386849645</td>\n",
       "      <td>buimova02</td>\n",
       "      <td>@sofazbruy так и решила узнать у общественност...</td>\n",
       "      <td>1</td>\n",
       "      <td>0</td>\n",
       "      <td>0</td>\n",
       "      <td>0</td>\n",
       "      <td>1066</td>\n",
       "      <td>34</td>\n",
       "      <td>46</td>\n",
       "      <td>2</td>\n",
       "    </tr>\n",
       "    <tr>\n",
       "      <th>2</th>\n",
       "      <td>424165037289508864</td>\n",
       "      <td>1389963800</td>\n",
       "      <td>pachecopbu</td>\n",
       "      <td>опять нуднейшая психология :( Хоть бы раз была...</td>\n",
       "      <td>0</td>\n",
       "      <td>0</td>\n",
       "      <td>0</td>\n",
       "      <td>0</td>\n",
       "      <td>2</td>\n",
       "      <td>0</td>\n",
       "      <td>0</td>\n",
       "      <td>0</td>\n",
       "    </tr>\n",
       "    <tr>\n",
       "      <th>3</th>\n",
       "      <td>409997134021144576</td>\n",
       "      <td>1386585908</td>\n",
       "      <td>igizatullina76</td>\n",
       "      <td>скучно мнееее, еще гузеля свинья не звонит:( h...</td>\n",
       "      <td>0</td>\n",
       "      <td>0</td>\n",
       "      <td>0</td>\n",
       "      <td>0</td>\n",
       "      <td>265</td>\n",
       "      <td>34</td>\n",
       "      <td>31</td>\n",
       "      <td>0</td>\n",
       "    </tr>\n",
       "    <tr>\n",
       "      <th>4</th>\n",
       "      <td>415540756397322241</td>\n",
       "      <td>1387907611</td>\n",
       "      <td>YanaPiskunova</td>\n",
       "      <td>но я всегда знала что люди дружбой со мной не ...</td>\n",
       "      <td>0</td>\n",
       "      <td>0</td>\n",
       "      <td>0</td>\n",
       "      <td>0</td>\n",
       "      <td>87</td>\n",
       "      <td>12</td>\n",
       "      <td>27</td>\n",
       "      <td>0</td>\n",
       "    </tr>\n",
       "  </tbody>\n",
       "</table>\n",
       "</div>\n",
       "    <div class=\"colab-df-buttons\">\n",
       "\n",
       "  <div class=\"colab-df-container\">\n",
       "    <button class=\"colab-df-convert\" onclick=\"convertToInteractive('df-4353969e-fc4c-441f-b60a-59c2e5a49216')\"\n",
       "            title=\"Convert this dataframe to an interactive table.\"\n",
       "            style=\"display:none;\">\n",
       "\n",
       "  <svg xmlns=\"http://www.w3.org/2000/svg\" height=\"24px\" viewBox=\"0 -960 960 960\">\n",
       "    <path d=\"M120-120v-720h720v720H120Zm60-500h600v-160H180v160Zm220 220h160v-160H400v160Zm0 220h160v-160H400v160ZM180-400h160v-160H180v160Zm440 0h160v-160H620v160ZM180-180h160v-160H180v160Zm440 0h160v-160H620v160Z\"/>\n",
       "  </svg>\n",
       "    </button>\n",
       "\n",
       "  <style>\n",
       "    .colab-df-container {\n",
       "      display:flex;\n",
       "      gap: 12px;\n",
       "    }\n",
       "\n",
       "    .colab-df-convert {\n",
       "      background-color: #E8F0FE;\n",
       "      border: none;\n",
       "      border-radius: 50%;\n",
       "      cursor: pointer;\n",
       "      display: none;\n",
       "      fill: #1967D2;\n",
       "      height: 32px;\n",
       "      padding: 0 0 0 0;\n",
       "      width: 32px;\n",
       "    }\n",
       "\n",
       "    .colab-df-convert:hover {\n",
       "      background-color: #E2EBFA;\n",
       "      box-shadow: 0px 1px 2px rgba(60, 64, 67, 0.3), 0px 1px 3px 1px rgba(60, 64, 67, 0.15);\n",
       "      fill: #174EA6;\n",
       "    }\n",
       "\n",
       "    .colab-df-buttons div {\n",
       "      margin-bottom: 4px;\n",
       "    }\n",
       "\n",
       "    [theme=dark] .colab-df-convert {\n",
       "      background-color: #3B4455;\n",
       "      fill: #D2E3FC;\n",
       "    }\n",
       "\n",
       "    [theme=dark] .colab-df-convert:hover {\n",
       "      background-color: #434B5C;\n",
       "      box-shadow: 0px 1px 3px 1px rgba(0, 0, 0, 0.15);\n",
       "      filter: drop-shadow(0px 1px 2px rgba(0, 0, 0, 0.3));\n",
       "      fill: #FFFFFF;\n",
       "    }\n",
       "  </style>\n",
       "\n",
       "    <script>\n",
       "      const buttonEl =\n",
       "        document.querySelector('#df-4353969e-fc4c-441f-b60a-59c2e5a49216 button.colab-df-convert');\n",
       "      buttonEl.style.display =\n",
       "        google.colab.kernel.accessAllowed ? 'block' : 'none';\n",
       "\n",
       "      async function convertToInteractive(key) {\n",
       "        const element = document.querySelector('#df-4353969e-fc4c-441f-b60a-59c2e5a49216');\n",
       "        const dataTable =\n",
       "          await google.colab.kernel.invokeFunction('convertToInteractive',\n",
       "                                                    [key], {});\n",
       "        if (!dataTable) return;\n",
       "\n",
       "        const docLinkHtml = 'Like what you see? Visit the ' +\n",
       "          '<a target=\"_blank\" href=https://colab.research.google.com/notebooks/data_table.ipynb>data table notebook</a>'\n",
       "          + ' to learn more about interactive tables.';\n",
       "        element.innerHTML = '';\n",
       "        dataTable['output_type'] = 'display_data';\n",
       "        await google.colab.output.renderOutput(dataTable, element);\n",
       "        const docLink = document.createElement('div');\n",
       "        docLink.innerHTML = docLinkHtml;\n",
       "        element.appendChild(docLink);\n",
       "      }\n",
       "    </script>\n",
       "  </div>\n",
       "\n",
       "\n",
       "<div id=\"df-12960149-cfc0-42c8-aac3-87f02438010f\">\n",
       "  <button class=\"colab-df-quickchart\" onclick=\"quickchart('df-12960149-cfc0-42c8-aac3-87f02438010f')\"\n",
       "            title=\"Suggest charts.\"\n",
       "            style=\"display:none;\">\n",
       "\n",
       "<svg xmlns=\"http://www.w3.org/2000/svg\" height=\"24px\"viewBox=\"0 0 24 24\"\n",
       "     width=\"24px\">\n",
       "    <g>\n",
       "        <path d=\"M19 3H5c-1.1 0-2 .9-2 2v14c0 1.1.9 2 2 2h14c1.1 0 2-.9 2-2V5c0-1.1-.9-2-2-2zM9 17H7v-7h2v7zm4 0h-2V7h2v10zm4 0h-2v-4h2v4z\"/>\n",
       "    </g>\n",
       "</svg>\n",
       "  </button>\n",
       "\n",
       "<style>\n",
       "  .colab-df-quickchart {\n",
       "      --bg-color: #E8F0FE;\n",
       "      --fill-color: #1967D2;\n",
       "      --hover-bg-color: #E2EBFA;\n",
       "      --hover-fill-color: #174EA6;\n",
       "      --disabled-fill-color: #AAA;\n",
       "      --disabled-bg-color: #DDD;\n",
       "  }\n",
       "\n",
       "  [theme=dark] .colab-df-quickchart {\n",
       "      --bg-color: #3B4455;\n",
       "      --fill-color: #D2E3FC;\n",
       "      --hover-bg-color: #434B5C;\n",
       "      --hover-fill-color: #FFFFFF;\n",
       "      --disabled-bg-color: #3B4455;\n",
       "      --disabled-fill-color: #666;\n",
       "  }\n",
       "\n",
       "  .colab-df-quickchart {\n",
       "    background-color: var(--bg-color);\n",
       "    border: none;\n",
       "    border-radius: 50%;\n",
       "    cursor: pointer;\n",
       "    display: none;\n",
       "    fill: var(--fill-color);\n",
       "    height: 32px;\n",
       "    padding: 0;\n",
       "    width: 32px;\n",
       "  }\n",
       "\n",
       "  .colab-df-quickchart:hover {\n",
       "    background-color: var(--hover-bg-color);\n",
       "    box-shadow: 0 1px 2px rgba(60, 64, 67, 0.3), 0 1px 3px 1px rgba(60, 64, 67, 0.15);\n",
       "    fill: var(--button-hover-fill-color);\n",
       "  }\n",
       "\n",
       "  .colab-df-quickchart-complete:disabled,\n",
       "  .colab-df-quickchart-complete:disabled:hover {\n",
       "    background-color: var(--disabled-bg-color);\n",
       "    fill: var(--disabled-fill-color);\n",
       "    box-shadow: none;\n",
       "  }\n",
       "\n",
       "  .colab-df-spinner {\n",
       "    border: 2px solid var(--fill-color);\n",
       "    border-color: transparent;\n",
       "    border-bottom-color: var(--fill-color);\n",
       "    animation:\n",
       "      spin 1s steps(1) infinite;\n",
       "  }\n",
       "\n",
       "  @keyframes spin {\n",
       "    0% {\n",
       "      border-color: transparent;\n",
       "      border-bottom-color: var(--fill-color);\n",
       "      border-left-color: var(--fill-color);\n",
       "    }\n",
       "    20% {\n",
       "      border-color: transparent;\n",
       "      border-left-color: var(--fill-color);\n",
       "      border-top-color: var(--fill-color);\n",
       "    }\n",
       "    30% {\n",
       "      border-color: transparent;\n",
       "      border-left-color: var(--fill-color);\n",
       "      border-top-color: var(--fill-color);\n",
       "      border-right-color: var(--fill-color);\n",
       "    }\n",
       "    40% {\n",
       "      border-color: transparent;\n",
       "      border-right-color: var(--fill-color);\n",
       "      border-top-color: var(--fill-color);\n",
       "    }\n",
       "    60% {\n",
       "      border-color: transparent;\n",
       "      border-right-color: var(--fill-color);\n",
       "    }\n",
       "    80% {\n",
       "      border-color: transparent;\n",
       "      border-right-color: var(--fill-color);\n",
       "      border-bottom-color: var(--fill-color);\n",
       "    }\n",
       "    90% {\n",
       "      border-color: transparent;\n",
       "      border-bottom-color: var(--fill-color);\n",
       "    }\n",
       "  }\n",
       "</style>\n",
       "\n",
       "  <script>\n",
       "    async function quickchart(key) {\n",
       "      const quickchartButtonEl =\n",
       "        document.querySelector('#' + key + ' button');\n",
       "      quickchartButtonEl.disabled = true;  // To prevent multiple clicks.\n",
       "      quickchartButtonEl.classList.add('colab-df-spinner');\n",
       "      try {\n",
       "        const charts = await google.colab.kernel.invokeFunction(\n",
       "            'suggestCharts', [key], {});\n",
       "      } catch (error) {\n",
       "        console.error('Error during call to suggestCharts:', error);\n",
       "      }\n",
       "      quickchartButtonEl.classList.remove('colab-df-spinner');\n",
       "      quickchartButtonEl.classList.add('colab-df-quickchart-complete');\n",
       "    }\n",
       "    (() => {\n",
       "      let quickchartButtonEl =\n",
       "        document.querySelector('#df-12960149-cfc0-42c8-aac3-87f02438010f button');\n",
       "      quickchartButtonEl.style.display =\n",
       "        google.colab.kernel.accessAllowed ? 'block' : 'none';\n",
       "    })();\n",
       "  </script>\n",
       "</div>\n",
       "    </div>\n",
       "  </div>\n"
      ]
     },
     "metadata": {},
     "execution_count": 33
    }
   ]
  },
  {
   "cell_type": "code",
   "metadata": {
    "id": "TFJXXSbx6dkX",
    "colab": {
     "base_uri": "https://localhost:8080/"
    },
    "outputId": "7868008a-e2ae-486a-9296-c6101193ac50"
   },
   "source": [
    "df[4].value_counts()"
   ],
   "execution_count": null,
   "outputs": [
    {
     "output_type": "execute_result",
     "data": {
      "text/plain": [
       "1    114911\n",
       "0    111923\n",
       "Name: 4, dtype: int64"
      ]
     },
     "metadata": {},
     "execution_count": 34
    }
   ]
  },
  {
   "cell_type": "markdown",
   "metadata": {
    "id": "shHzKBii_WOy"
   },
   "source": [
    "## Кодирования текста"
   ]
  },
  {
   "cell_type": "markdown",
   "metadata": {
    "id": "okgqtPA07beS"
   },
   "source": [
    "### Векторное представление текста"
   ]
  },
  {
   "cell_type": "markdown",
   "metadata": {
    "id": "rAic0i7x7q1d"
   },
   "source": [
    "Представим текст как вектор индикаторов вхождений слов из некоторого словаря в текст. Простейшая модель BOF (Bag of words или мешок слов)."
   ]
  },
  {
   "cell_type": "code",
   "metadata": {
    "id": "bdd-2tTr7AYU",
    "colab": {
     "base_uri": "https://localhost:8080/",
     "height": 75
    },
    "outputId": "1c12aab5-4ea0-4e4f-b58f-0cade8a3900c"
   },
   "source": [
    "from sklearn.feature_extraction.text import CountVectorizer\n",
    "\n",
    "vectorizer = CountVectorizer(binary=True)\n",
    "vectorizer.fit(df[3])"
   ],
   "execution_count": null,
   "outputs": [
    {
     "output_type": "execute_result",
     "data": {
      "text/plain": [
       "CountVectorizer(binary=True)"
      ],
      "text/html": [
       "<style>#sk-container-id-1 {color: black;background-color: white;}#sk-container-id-1 pre{padding: 0;}#sk-container-id-1 div.sk-toggleable {background-color: white;}#sk-container-id-1 label.sk-toggleable__label {cursor: pointer;display: block;width: 100%;margin-bottom: 0;padding: 0.3em;box-sizing: border-box;text-align: center;}#sk-container-id-1 label.sk-toggleable__label-arrow:before {content: \"▸\";float: left;margin-right: 0.25em;color: #696969;}#sk-container-id-1 label.sk-toggleable__label-arrow:hover:before {color: black;}#sk-container-id-1 div.sk-estimator:hover label.sk-toggleable__label-arrow:before {color: black;}#sk-container-id-1 div.sk-toggleable__content {max-height: 0;max-width: 0;overflow: hidden;text-align: left;background-color: #f0f8ff;}#sk-container-id-1 div.sk-toggleable__content pre {margin: 0.2em;color: black;border-radius: 0.25em;background-color: #f0f8ff;}#sk-container-id-1 input.sk-toggleable__control:checked~div.sk-toggleable__content {max-height: 200px;max-width: 100%;overflow: auto;}#sk-container-id-1 input.sk-toggleable__control:checked~label.sk-toggleable__label-arrow:before {content: \"▾\";}#sk-container-id-1 div.sk-estimator input.sk-toggleable__control:checked~label.sk-toggleable__label {background-color: #d4ebff;}#sk-container-id-1 div.sk-label input.sk-toggleable__control:checked~label.sk-toggleable__label {background-color: #d4ebff;}#sk-container-id-1 input.sk-hidden--visually {border: 0;clip: rect(1px 1px 1px 1px);clip: rect(1px, 1px, 1px, 1px);height: 1px;margin: -1px;overflow: hidden;padding: 0;position: absolute;width: 1px;}#sk-container-id-1 div.sk-estimator {font-family: monospace;background-color: #f0f8ff;border: 1px dotted black;border-radius: 0.25em;box-sizing: border-box;margin-bottom: 0.5em;}#sk-container-id-1 div.sk-estimator:hover {background-color: #d4ebff;}#sk-container-id-1 div.sk-parallel-item::after {content: \"\";width: 100%;border-bottom: 1px solid gray;flex-grow: 1;}#sk-container-id-1 div.sk-label:hover label.sk-toggleable__label {background-color: #d4ebff;}#sk-container-id-1 div.sk-serial::before {content: \"\";position: absolute;border-left: 1px solid gray;box-sizing: border-box;top: 0;bottom: 0;left: 50%;z-index: 0;}#sk-container-id-1 div.sk-serial {display: flex;flex-direction: column;align-items: center;background-color: white;padding-right: 0.2em;padding-left: 0.2em;position: relative;}#sk-container-id-1 div.sk-item {position: relative;z-index: 1;}#sk-container-id-1 div.sk-parallel {display: flex;align-items: stretch;justify-content: center;background-color: white;position: relative;}#sk-container-id-1 div.sk-item::before, #sk-container-id-1 div.sk-parallel-item::before {content: \"\";position: absolute;border-left: 1px solid gray;box-sizing: border-box;top: 0;bottom: 0;left: 50%;z-index: -1;}#sk-container-id-1 div.sk-parallel-item {display: flex;flex-direction: column;z-index: 1;position: relative;background-color: white;}#sk-container-id-1 div.sk-parallel-item:first-child::after {align-self: flex-end;width: 50%;}#sk-container-id-1 div.sk-parallel-item:last-child::after {align-self: flex-start;width: 50%;}#sk-container-id-1 div.sk-parallel-item:only-child::after {width: 0;}#sk-container-id-1 div.sk-dashed-wrapped {border: 1px dashed gray;margin: 0 0.4em 0.5em 0.4em;box-sizing: border-box;padding-bottom: 0.4em;background-color: white;}#sk-container-id-1 div.sk-label label {font-family: monospace;font-weight: bold;display: inline-block;line-height: 1.2em;}#sk-container-id-1 div.sk-label-container {text-align: center;}#sk-container-id-1 div.sk-container {/* jupyter's `normalize.less` sets `[hidden] { display: none; }` but bootstrap.min.css set `[hidden] { display: none !important; }` so we also need the `!important` here to be able to override the default hidden behavior on the sphinx rendered scikit-learn.org. See: https://github.com/scikit-learn/scikit-learn/issues/21755 */display: inline-block !important;position: relative;}#sk-container-id-1 div.sk-text-repr-fallback {display: none;}</style><div id=\"sk-container-id-1\" class=\"sk-top-container\"><div class=\"sk-text-repr-fallback\"><pre>CountVectorizer(binary=True)</pre><b>In a Jupyter environment, please rerun this cell to show the HTML representation or trust the notebook. <br />On GitHub, the HTML representation is unable to render, please try loading this page with nbviewer.org.</b></div><div class=\"sk-container\" hidden><div class=\"sk-item\"><div class=\"sk-estimator sk-toggleable\"><input class=\"sk-toggleable__control sk-hidden--visually\" id=\"sk-estimator-id-1\" type=\"checkbox\" checked><label for=\"sk-estimator-id-1\" class=\"sk-toggleable__label sk-toggleable__label-arrow\">CountVectorizer</label><div class=\"sk-toggleable__content\"><pre>CountVectorizer(binary=True)</pre></div></div></div></div></div>"
      ]
     },
     "metadata": {},
     "execution_count": 35
    }
   ]
  },
  {
   "cell_type": "code",
   "metadata": {
    "id": "8IaTKuDi7Af4",
    "colab": {
     "base_uri": "https://localhost:8080/"
    },
    "outputId": "b2bb3e10-5137-47cf-c6fb-835918969a4d"
   },
   "source": [
    "len(vectorizer.vocabulary_)"
   ],
   "execution_count": null,
   "outputs": [
    {
     "output_type": "execute_result",
     "data": {
      "text/plain": [
       "294600"
      ]
     },
     "metadata": {},
     "execution_count": 36
    }
   ]
  },
  {
   "cell_type": "markdown",
   "metadata": {
    "id": "aYQIs-1m7-xS"
   },
   "source": [
    "### Train-test split"
   ]
  },
  {
   "cell_type": "code",
   "metadata": {
    "id": "OfwThI317-PO"
   },
   "source": [
    "from sklearn.model_selection import train_test_split\n",
    "\n",
    "df_train, df_test = train_test_split(df, test_size=0.2, shuffle=True)"
   ],
   "execution_count": null,
   "outputs": []
  },
  {
   "cell_type": "code",
   "metadata": {
    "id": "RCrFC1sf7Aic",
    "colab": {
     "base_uri": "https://localhost:8080/"
    },
    "outputId": "493395bd-5660-4708-acb4-65b600225b1d"
   },
   "source": [
    "df_train.shape, df_test.shape"
   ],
   "execution_count": null,
   "outputs": [
    {
     "output_type": "execute_result",
     "data": {
      "text/plain": [
       "((181467, 12), (45367, 12))"
      ]
     },
     "metadata": {},
     "execution_count": 38
    }
   ]
  },
  {
   "cell_type": "code",
   "metadata": {
    "id": "pyi7hNjS8gm_"
   },
   "source": [
    "X_train = vectorizer.transform(df_train[3])\n",
    "X_test = vectorizer.transform(df_test[3])"
   ],
   "execution_count": null,
   "outputs": []
  },
  {
   "cell_type": "code",
   "metadata": {
    "id": "fh24iglJ7Alc",
    "colab": {
     "base_uri": "https://localhost:8080/"
    },
    "outputId": "e9a0c7e6-65d6-465f-dedc-882386c29448"
   },
   "source": [
    "X_train.shape, X_test.shape"
   ],
   "execution_count": null,
   "outputs": [
    {
     "output_type": "execute_result",
     "data": {
      "text/plain": [
       "((181467, 294600), (45367, 294600))"
      ]
     },
     "metadata": {},
     "execution_count": 40
    }
   ]
  },
  {
   "cell_type": "markdown",
   "metadata": {
    "id": "MmBF9qSF8tDS"
   },
   "source": [
    "### Алгоритм"
   ]
  },
  {
   "cell_type": "code",
   "metadata": {
    "id": "D6lImfg78sYi"
   },
   "source": [
    "clf = MultinomialNB().fit(X_train, df_train[4])"
   ],
   "execution_count": null,
   "outputs": []
  },
  {
   "cell_type": "code",
   "source": [
    "vectorizer"
   ],
   "metadata": {
    "colab": {
     "base_uri": "https://localhost:8080/",
     "height": 75
    },
    "id": "p2yRTyRDIUku",
    "outputId": "d2fcb485-1f37-4cf6-c4c9-3a19832a1ab6"
   },
   "execution_count": null,
   "outputs": [
    {
     "output_type": "execute_result",
     "data": {
      "text/plain": [
       "CountVectorizer(binary=True)"
      ],
      "text/html": [
       "<style>#sk-container-id-2 {color: black;background-color: white;}#sk-container-id-2 pre{padding: 0;}#sk-container-id-2 div.sk-toggleable {background-color: white;}#sk-container-id-2 label.sk-toggleable__label {cursor: pointer;display: block;width: 100%;margin-bottom: 0;padding: 0.3em;box-sizing: border-box;text-align: center;}#sk-container-id-2 label.sk-toggleable__label-arrow:before {content: \"▸\";float: left;margin-right: 0.25em;color: #696969;}#sk-container-id-2 label.sk-toggleable__label-arrow:hover:before {color: black;}#sk-container-id-2 div.sk-estimator:hover label.sk-toggleable__label-arrow:before {color: black;}#sk-container-id-2 div.sk-toggleable__content {max-height: 0;max-width: 0;overflow: hidden;text-align: left;background-color: #f0f8ff;}#sk-container-id-2 div.sk-toggleable__content pre {margin: 0.2em;color: black;border-radius: 0.25em;background-color: #f0f8ff;}#sk-container-id-2 input.sk-toggleable__control:checked~div.sk-toggleable__content {max-height: 200px;max-width: 100%;overflow: auto;}#sk-container-id-2 input.sk-toggleable__control:checked~label.sk-toggleable__label-arrow:before {content: \"▾\";}#sk-container-id-2 div.sk-estimator input.sk-toggleable__control:checked~label.sk-toggleable__label {background-color: #d4ebff;}#sk-container-id-2 div.sk-label input.sk-toggleable__control:checked~label.sk-toggleable__label {background-color: #d4ebff;}#sk-container-id-2 input.sk-hidden--visually {border: 0;clip: rect(1px 1px 1px 1px);clip: rect(1px, 1px, 1px, 1px);height: 1px;margin: -1px;overflow: hidden;padding: 0;position: absolute;width: 1px;}#sk-container-id-2 div.sk-estimator {font-family: monospace;background-color: #f0f8ff;border: 1px dotted black;border-radius: 0.25em;box-sizing: border-box;margin-bottom: 0.5em;}#sk-container-id-2 div.sk-estimator:hover {background-color: #d4ebff;}#sk-container-id-2 div.sk-parallel-item::after {content: \"\";width: 100%;border-bottom: 1px solid gray;flex-grow: 1;}#sk-container-id-2 div.sk-label:hover label.sk-toggleable__label {background-color: #d4ebff;}#sk-container-id-2 div.sk-serial::before {content: \"\";position: absolute;border-left: 1px solid gray;box-sizing: border-box;top: 0;bottom: 0;left: 50%;z-index: 0;}#sk-container-id-2 div.sk-serial {display: flex;flex-direction: column;align-items: center;background-color: white;padding-right: 0.2em;padding-left: 0.2em;position: relative;}#sk-container-id-2 div.sk-item {position: relative;z-index: 1;}#sk-container-id-2 div.sk-parallel {display: flex;align-items: stretch;justify-content: center;background-color: white;position: relative;}#sk-container-id-2 div.sk-item::before, #sk-container-id-2 div.sk-parallel-item::before {content: \"\";position: absolute;border-left: 1px solid gray;box-sizing: border-box;top: 0;bottom: 0;left: 50%;z-index: -1;}#sk-container-id-2 div.sk-parallel-item {display: flex;flex-direction: column;z-index: 1;position: relative;background-color: white;}#sk-container-id-2 div.sk-parallel-item:first-child::after {align-self: flex-end;width: 50%;}#sk-container-id-2 div.sk-parallel-item:last-child::after {align-self: flex-start;width: 50%;}#sk-container-id-2 div.sk-parallel-item:only-child::after {width: 0;}#sk-container-id-2 div.sk-dashed-wrapped {border: 1px dashed gray;margin: 0 0.4em 0.5em 0.4em;box-sizing: border-box;padding-bottom: 0.4em;background-color: white;}#sk-container-id-2 div.sk-label label {font-family: monospace;font-weight: bold;display: inline-block;line-height: 1.2em;}#sk-container-id-2 div.sk-label-container {text-align: center;}#sk-container-id-2 div.sk-container {/* jupyter's `normalize.less` sets `[hidden] { display: none; }` but bootstrap.min.css set `[hidden] { display: none !important; }` so we also need the `!important` here to be able to override the default hidden behavior on the sphinx rendered scikit-learn.org. See: https://github.com/scikit-learn/scikit-learn/issues/21755 */display: inline-block !important;position: relative;}#sk-container-id-2 div.sk-text-repr-fallback {display: none;}</style><div id=\"sk-container-id-2\" class=\"sk-top-container\"><div class=\"sk-text-repr-fallback\"><pre>CountVectorizer(binary=True)</pre><b>In a Jupyter environment, please rerun this cell to show the HTML representation or trust the notebook. <br />On GitHub, the HTML representation is unable to render, please try loading this page with nbviewer.org.</b></div><div class=\"sk-container\" hidden><div class=\"sk-item\"><div class=\"sk-estimator sk-toggleable\"><input class=\"sk-toggleable__control sk-hidden--visually\" id=\"sk-estimator-id-2\" type=\"checkbox\" checked><label for=\"sk-estimator-id-2\" class=\"sk-toggleable__label sk-toggleable__label-arrow\">CountVectorizer</label><div class=\"sk-toggleable__content\"><pre>CountVectorizer(binary=True)</pre></div></div></div></div></div>"
      ]
     },
     "metadata": {},
     "execution_count": 42
    }
   ]
  },
  {
   "cell_type": "code",
   "metadata": {
    "id": "BZvo3F547Any",
    "colab": {
     "base_uri": "https://localhost:8080/"
    },
    "outputId": "c92c854d-2225-4225-bdb6-d7a37881fe77"
   },
   "source": [
    "# выбрать n лучших (по вероятностям) слов для каждого класса\n",
    "def show_top(classifier, vectorizer, n, categories=('pos', 'neg')):\n",
    "    # получаем слова\n",
    "    feature_names = np.asarray(vectorizer.get_feature_names_out())\n",
    "    # проходимлся по словам\n",
    "    for i, category in enumerate(categories):\n",
    "        # выбираем лучшие по вероятностям\n",
    "        top = np.argsort(classifier.feature_log_prob_[i])[-n:]\n",
    "        print(\"%s: %s\" % (category, \" \".join(feature_names[top])))\n",
    "\n",
    "# отобразим 20 топовых слов\n",
    "show_top(clf, vectorizer, 20)"
   ],
   "execution_count": null,
   "outputs": [
    {
     "output_type": "stream",
     "name": "stdout",
     "text": [
      "pos: же ты за по уже ну это все но то мне так co http как меня rt на что не\n",
      "neg: вот да за по ну но мне все так ты меня то это как что на rt co http не\n"
     ]
    }
   ]
  },
  {
   "cell_type": "markdown",
   "metadata": {
    "id": "jY8ZwEJM-Uf3"
   },
   "source": [
    "### Оценка"
   ]
  },
  {
   "cell_type": "code",
   "metadata": {
    "id": "uDuWeKri_DPn",
    "colab": {
     "base_uri": "https://localhost:8080/"
    },
    "outputId": "863752c8-8063-44cd-ecbf-9c877610c0b3"
   },
   "source": [
    "predicts = clf.predict(X_test)\n",
    "print(classification_report(df_test[4], predicts, target_names=['Негативные', 'Позитивные']))"
   ],
   "execution_count": null,
   "outputs": [
    {
     "output_type": "stream",
     "name": "stdout",
     "text": [
      "              precision    recall  f1-score   support\n",
      "\n",
      "  Негативные       0.74      0.80      0.77     22424\n",
      "  Позитивные       0.79      0.72      0.75     22943\n",
      "\n",
      "    accuracy                           0.76     45367\n",
      "   macro avg       0.76      0.76      0.76     45367\n",
      "weighted avg       0.76      0.76      0.76     45367\n",
      "\n"
     ]
    }
   ]
  },
  {
   "cell_type": "markdown",
   "metadata": {
    "id": "eWRyi0bX_ai4"
   },
   "source": [
    "### Bag of words"
   ]
  },
  {
   "cell_type": "markdown",
   "metadata": {
    "id": "FQmMlfwS_fba"
   },
   "source": [
    "При построении вектора признаков будем учитывать не просто факт вхождения слова в текст, а подсчитывать количество вхождений:"
   ]
  },
  {
   "cell_type": "code",
   "metadata": {
    "id": "z_cvKBRF_dUc"
   },
   "source": [
    "count_vect = CountVectorizer(binary=False).fit(df[3])\n",
    "\n",
    "X_train_counts = count_vect.transform(df_train[3])\n",
    "X_test_counts = count_vect.transform(df_test[3])"
   ],
   "execution_count": null,
   "outputs": []
  },
  {
   "cell_type": "markdown",
   "metadata": {
    "id": "rDDGDLwM_pOY"
   },
   "source": [
    "Для примера выведем слова вместе и количеством вхождений для обучающего датасета:"
   ]
  },
  {
   "cell_type": "code",
   "metadata": {
    "id": "GvSAJa78_vmg",
    "colab": {
     "base_uri": "https://localhost:8080/"
    },
    "outputId": "4fcce6fa-da1c-428b-ced9-1f18f33a7cad"
   },
   "source": [
    "# представление 42го отзыва\n",
    "dict(zip(count_vect.inverse_transform(X_train_counts[199])[0], X_train_counts[0].data))"
   ],
   "execution_count": null,
   "outputs": [
    {
     "output_type": "execute_result",
     "data": {
      "text/plain": [
       "{'аксиому': 1,\n",
       " 'ахазахах': 1,\n",
       " 'брат': 1,\n",
       " 'брата': 1,\n",
       " 'взято': 1,\n",
       " 'девки': 1,\n",
       " 'допке': 1,\n",
       " 'за': 1,\n",
       " 'лааал': 1}"
      ]
     },
     "metadata": {},
     "execution_count": 46
    }
   ]
  },
  {
   "cell_type": "markdown",
   "metadata": {
    "id": "IN5HKbk-DQ89"
   },
   "source": [
    "### Алгоритм"
   ]
  },
  {
   "cell_type": "code",
   "metadata": {
    "id": "jzHN8bQRAImd"
   },
   "source": [
    "# обучим\n",
    "clf = MultinomialNB().fit(X_train_counts, df_train[4])"
   ],
   "execution_count": null,
   "outputs": []
  },
  {
   "cell_type": "code",
   "metadata": {
    "id": "eTWYsdJkAOGE",
    "colab": {
     "base_uri": "https://localhost:8080/"
    },
    "outputId": "4147e789-eddb-45cb-f31e-76ab92f022fd"
   },
   "source": [
    "# train\n",
    "predicts = clf.predict(X_train_counts)\n",
    "print(classification_report(df_train[4], predicts))"
   ],
   "execution_count": null,
   "outputs": [
    {
     "output_type": "stream",
     "name": "stdout",
     "text": [
      "              precision    recall  f1-score   support\n",
      "\n",
      "           0       0.87      0.92      0.89     89499\n",
      "           1       0.92      0.86      0.89     91968\n",
      "\n",
      "    accuracy                           0.89    181467\n",
      "   macro avg       0.89      0.89      0.89    181467\n",
      "weighted avg       0.89      0.89      0.89    181467\n",
      "\n"
     ]
    }
   ]
  },
  {
   "cell_type": "code",
   "metadata": {
    "id": "25gt01i_AOZk",
    "colab": {
     "base_uri": "https://localhost:8080/"
    },
    "outputId": "d5d2ee5b-3d6f-4c37-d1dc-0185477651e1"
   },
   "source": [
    "# test\n",
    "# конвертируем тестовые слова\n",
    "predicts = clf.predict(count_vect.transform(df_test[3]))\n",
    "print(classification_report(df_test[4], predicts))"
   ],
   "execution_count": null,
   "outputs": [
    {
     "output_type": "stream",
     "name": "stdout",
     "text": [
      "              precision    recall  f1-score   support\n",
      "\n",
      "           0       0.74      0.80      0.77     22424\n",
      "           1       0.79      0.72      0.75     22943\n",
      "\n",
      "    accuracy                           0.76     45367\n",
      "   macro avg       0.76      0.76      0.76     45367\n",
      "weighted avg       0.76      0.76      0.76     45367\n",
      "\n"
     ]
    }
   ]
  },
  {
   "cell_type": "code",
   "metadata": {
    "id": "BbGJWoJnAl0j",
    "colab": {
     "base_uri": "https://localhost:8080/"
    },
    "outputId": "d871597c-b55b-4fc5-9875-5bf8d7bd16b4"
   },
   "source": [
    "show_top(clf, vectorizer, 20)"
   ],
   "execution_count": null,
   "outputs": [
    {
     "output_type": "stream",
     "name": "stdout",
     "text": [
      "pos: хочу за уже ты по ну это все но мне co http так то как меня rt на что не\n",
      "neg: вот да за по ну но мне все так меня ты то это как что на rt co http не\n"
     ]
    }
   ]
  },
  {
   "cell_type": "markdown",
   "metadata": {
    "id": "I7BzbQCBDYh_"
   },
   "source": [
    "Пробуем убрать часто встречающиеся слова"
   ]
  },
  {
   "cell_type": "code",
   "metadata": {
    "id": "rOtlgaKEA_jI",
    "colab": {
     "base_uri": "https://localhost:8080/"
    },
    "outputId": "4df57f05-9a9b-4ef1-ac80-295bf2370148"
   },
   "source": [
    "'''\n",
    "в англ:\n",
    "\n",
    "from sklearn.feature_extraction.stop_words import ENGLISH_STOP_WORDS\n",
    "\n",
    "count_vect = CountVectorizer(stop_words=ENGLISH_STOP_WORDS, binary=False).fit(df[3])\n",
    "'''\n",
    "!pip install --user -U nltk"
   ],
   "execution_count": null,
   "outputs": [
    {
     "output_type": "stream",
     "name": "stdout",
     "text": [
      "Requirement already satisfied: nltk in /usr/local/lib/python3.10/dist-packages (3.8.1)\n",
      "Requirement already satisfied: click in /usr/local/lib/python3.10/dist-packages (from nltk) (8.1.7)\n",
      "Requirement already satisfied: joblib in /usr/local/lib/python3.10/dist-packages (from nltk) (1.3.2)\n",
      "Requirement already satisfied: regex>=2021.8.3 in /usr/local/lib/python3.10/dist-packages (from nltk) (2023.6.3)\n",
      "Requirement already satisfied: tqdm in /usr/local/lib/python3.10/dist-packages (from nltk) (4.66.1)\n"
     ]
    }
   ]
  },
  {
   "cell_type": "code",
   "metadata": {
    "id": "pV_Lu4raCV_O",
    "colab": {
     "base_uri": "https://localhost:8080/"
    },
    "outputId": "9173d148-0d26-461a-ddfa-2e157345d6d0"
   },
   "source": [
    "import nltk\n",
    "nltk.download(\"stopwords\")"
   ],
   "execution_count": null,
   "outputs": [
    {
     "output_type": "stream",
     "name": "stderr",
     "text": [
      "[nltk_data] Downloading package stopwords to /root/nltk_data...\n",
      "[nltk_data]   Unzipping corpora/stopwords.zip.\n"
     ]
    },
    {
     "output_type": "execute_result",
     "data": {
      "text/plain": [
       "True"
      ]
     },
     "metadata": {},
     "execution_count": 52
    }
   ]
  },
  {
   "cell_type": "code",
   "metadata": {
    "id": "HkSqU1mhCEo6",
    "colab": {
     "base_uri": "https://localhost:8080/"
    },
    "outputId": "b7dcda0b-739d-479e-c163-32d2eb7e43f2"
   },
   "source": [
    "from nltk.corpus import stopwords\n",
    "stopWords = stopwords.words('russian')\n",
    "stopWords"
   ],
   "execution_count": null,
   "outputs": [
    {
     "output_type": "execute_result",
     "data": {
      "text/plain": [
       "['и',\n",
       " 'в',\n",
       " 'во',\n",
       " 'не',\n",
       " 'что',\n",
       " 'он',\n",
       " 'на',\n",
       " 'я',\n",
       " 'с',\n",
       " 'со',\n",
       " 'как',\n",
       " 'а',\n",
       " 'то',\n",
       " 'все',\n",
       " 'она',\n",
       " 'так',\n",
       " 'его',\n",
       " 'но',\n",
       " 'да',\n",
       " 'ты',\n",
       " 'к',\n",
       " 'у',\n",
       " 'же',\n",
       " 'вы',\n",
       " 'за',\n",
       " 'бы',\n",
       " 'по',\n",
       " 'только',\n",
       " 'ее',\n",
       " 'мне',\n",
       " 'было',\n",
       " 'вот',\n",
       " 'от',\n",
       " 'меня',\n",
       " 'еще',\n",
       " 'нет',\n",
       " 'о',\n",
       " 'из',\n",
       " 'ему',\n",
       " 'теперь',\n",
       " 'когда',\n",
       " 'даже',\n",
       " 'ну',\n",
       " 'вдруг',\n",
       " 'ли',\n",
       " 'если',\n",
       " 'уже',\n",
       " 'или',\n",
       " 'ни',\n",
       " 'быть',\n",
       " 'был',\n",
       " 'него',\n",
       " 'до',\n",
       " 'вас',\n",
       " 'нибудь',\n",
       " 'опять',\n",
       " 'уж',\n",
       " 'вам',\n",
       " 'ведь',\n",
       " 'там',\n",
       " 'потом',\n",
       " 'себя',\n",
       " 'ничего',\n",
       " 'ей',\n",
       " 'может',\n",
       " 'они',\n",
       " 'тут',\n",
       " 'где',\n",
       " 'есть',\n",
       " 'надо',\n",
       " 'ней',\n",
       " 'для',\n",
       " 'мы',\n",
       " 'тебя',\n",
       " 'их',\n",
       " 'чем',\n",
       " 'была',\n",
       " 'сам',\n",
       " 'чтоб',\n",
       " 'без',\n",
       " 'будто',\n",
       " 'чего',\n",
       " 'раз',\n",
       " 'тоже',\n",
       " 'себе',\n",
       " 'под',\n",
       " 'будет',\n",
       " 'ж',\n",
       " 'тогда',\n",
       " 'кто',\n",
       " 'этот',\n",
       " 'того',\n",
       " 'потому',\n",
       " 'этого',\n",
       " 'какой',\n",
       " 'совсем',\n",
       " 'ним',\n",
       " 'здесь',\n",
       " 'этом',\n",
       " 'один',\n",
       " 'почти',\n",
       " 'мой',\n",
       " 'тем',\n",
       " 'чтобы',\n",
       " 'нее',\n",
       " 'сейчас',\n",
       " 'были',\n",
       " 'куда',\n",
       " 'зачем',\n",
       " 'всех',\n",
       " 'никогда',\n",
       " 'можно',\n",
       " 'при',\n",
       " 'наконец',\n",
       " 'два',\n",
       " 'об',\n",
       " 'другой',\n",
       " 'хоть',\n",
       " 'после',\n",
       " 'над',\n",
       " 'больше',\n",
       " 'тот',\n",
       " 'через',\n",
       " 'эти',\n",
       " 'нас',\n",
       " 'про',\n",
       " 'всего',\n",
       " 'них',\n",
       " 'какая',\n",
       " 'много',\n",
       " 'разве',\n",
       " 'три',\n",
       " 'эту',\n",
       " 'моя',\n",
       " 'впрочем',\n",
       " 'хорошо',\n",
       " 'свою',\n",
       " 'этой',\n",
       " 'перед',\n",
       " 'иногда',\n",
       " 'лучше',\n",
       " 'чуть',\n",
       " 'том',\n",
       " 'нельзя',\n",
       " 'такой',\n",
       " 'им',\n",
       " 'более',\n",
       " 'всегда',\n",
       " 'конечно',\n",
       " 'всю',\n",
       " 'между']"
      ]
     },
     "metadata": {},
     "execution_count": 53
    }
   ]
  },
  {
   "cell_type": "code",
   "metadata": {
    "id": "_uA8Hbx9BzCv"
   },
   "source": [
    "count_vect = CountVectorizer(stop_words=stopWords[:20], binary=False).fit(df[3])"
   ],
   "execution_count": null,
   "outputs": []
  },
  {
   "cell_type": "code",
   "metadata": {
    "id": "jnfp_nMqCwPY"
   },
   "source": [
    "X_train_counts = count_vect.transform(df_train[3])\n",
    "X_test_counts = count_vect.transform(df_test[3])"
   ],
   "execution_count": null,
   "outputs": []
  },
  {
   "cell_type": "code",
   "metadata": {
    "id": "7wJIQNOvC5XS"
   },
   "source": [
    "clf = MultinomialNB().fit(X_train_counts, df_train[4])"
   ],
   "execution_count": null,
   "outputs": []
  },
  {
   "cell_type": "code",
   "metadata": {
    "id": "wkvO5YjLC932",
    "colab": {
     "base_uri": "https://localhost:8080/"
    },
    "outputId": "a40c9624-dafb-4442-ee87-9983b56ff446"
   },
   "source": [
    "predicts = clf.predict(X_test_counts)\n",
    "print(classification_report(df_test[4], predicts))"
   ],
   "execution_count": null,
   "outputs": [
    {
     "output_type": "stream",
     "name": "stdout",
     "text": [
      "              precision    recall  f1-score   support\n",
      "\n",
      "           0       0.74      0.79      0.76     22424\n",
      "           1       0.78      0.72      0.75     22943\n",
      "\n",
      "    accuracy                           0.76     45367\n",
      "   macro avg       0.76      0.76      0.76     45367\n",
      "weighted avg       0.76      0.76      0.76     45367\n",
      "\n"
     ]
    }
   ]
  },
  {
   "cell_type": "code",
   "metadata": {
    "id": "_SVlY5jrDDu9",
    "colab": {
     "base_uri": "https://localhost:8080/"
    },
    "outputId": "66f61ef3-b5f9-486b-fb3b-6038084ff402"
   },
   "source": [
    "show_top(clf, count_vect, 20)"
   ],
   "execution_count": null,
   "outputs": [
    {
     "output_type": "stream",
     "name": "stdout",
     "text": [
      "pos: очень бы сегодня когда еще только вот нет же хочу за уже по ну это мне co http меня rt\n",
      "neg: просто тебе мы еще бы тебя же только сегодня уже вот за по ну мне меня это rt co http\n"
     ]
    }
   ]
  },
  {
   "cell_type": "markdown",
   "metadata": {
    "id": "SjoAipYTDJI7"
   },
   "source": [
    "### TF-IDF"
   ]
  },
  {
   "cell_type": "code",
   "metadata": {
    "id": "dDih79PbDdm6"
   },
   "source": [
    "from sklearn.feature_extraction.text import TfidfVectorizer\n",
    "\n",
    "vectorizer = TfidfVectorizer(stop_words=stopWords[:20])\n",
    "vectorizer = vectorizer.fit(df[3])"
   ],
   "execution_count": null,
   "outputs": []
  },
  {
   "cell_type": "code",
   "metadata": {
    "id": "sWuLArRSDdpx"
   },
   "source": [
    "X_train_vectors = vectorizer.transform(df_train[3])\n",
    "X_test_vectors = vectorizer.transform(df_test[3])"
   ],
   "execution_count": null,
   "outputs": []
  },
  {
   "cell_type": "code",
   "metadata": {
    "id": "h0Yk36HoDdsA",
    "colab": {
     "base_uri": "https://localhost:8080/"
    },
    "outputId": "c7b710b7-77ab-4d74-b365-6291c0b7a78a"
   },
   "source": [
    "num = 65\n",
    "X_train_vectors[num].data"
   ],
   "execution_count": null,
   "outputs": [
    {
     "output_type": "execute_result",
     "data": {
      "text/plain": [
       "array([0.18385251, 0.43615803, 0.14523008, 0.15699795, 0.41085   ,\n",
       "       0.42801066, 0.40654953, 0.46146606])"
      ]
     },
     "metadata": {},
     "execution_count": 61
    }
   ]
  },
  {
   "cell_type": "markdown",
   "metadata": {
    "id": "OjHaTY29Dppp"
   },
   "source": [
    "Выведем слова из первого документа в порядке увеличения из меры TF-IDF:"
   ]
  },
  {
   "cell_type": "code",
   "metadata": {
    "id": "KdX4CNBTDqiF",
    "colab": {
     "base_uri": "https://localhost:8080/"
    },
    "outputId": "d1e95bdf-9fc7-489b-9cfd-6d1aa71d07c8"
   },
   "source": [
    "vectorizer.inverse_transform(X_train_vectors[num])[0][np.argsort(X_train_vectors[num].data)]"
   ],
   "execution_count": null,
   "outputs": [
    {
     "output_type": "execute_result",
     "data": {
      "text/plain": [
       "array(['за', 'еще', 'почему', 'sergeilobachev', 'евроинтеграцию',\n",
       "       'ааахаха', 'отметился', 'and_bondar'], dtype='<U136')"
      ]
     },
     "metadata": {},
     "execution_count": 62
    }
   ]
  },
  {
   "cell_type": "markdown",
   "metadata": {
    "id": "uJ1w2Ha-DzOH"
   },
   "source": [
    "### Алгоритм"
   ]
  },
  {
   "cell_type": "code",
   "metadata": {
    "id": "6TGTHKy7D0yH"
   },
   "source": [
    "clf = MultinomialNB().fit(X_train_vectors, df_train[4])"
   ],
   "execution_count": null,
   "outputs": []
  },
  {
   "cell_type": "code",
   "metadata": {
    "id": "91v51qIzDyuX",
    "colab": {
     "base_uri": "https://localhost:8080/"
    },
    "outputId": "f868fd5a-3e9e-46b9-87d1-fed6a795f535"
   },
   "source": [
    "show_top(clf, vectorizer, 20)"
   ],
   "execution_count": null,
   "outputs": [
    {
     "output_type": "stream",
     "name": "stdout",
     "text": [
      "pos: бы очень когда еще сегодня только вот за по же нет ну уже хочу это http co мне rt меня\n",
      "neg: еще мы же только бы тебе сегодня спасибо уже тебя вот за по ну мне меня это rt http co\n"
     ]
    }
   ]
  },
  {
   "cell_type": "code",
   "metadata": {
    "id": "BvUvUVzBD5zy",
    "colab": {
     "base_uri": "https://localhost:8080/"
    },
    "outputId": "acd10080-9c38-450a-8666-d2909ff606ef"
   },
   "source": [
    "predicts = clf.predict(vectorizer.transform(df_test[3]))\n",
    "print(classification_report(df_test[4], predicts))"
   ],
   "execution_count": null,
   "outputs": [
    {
     "output_type": "stream",
     "name": "stdout",
     "text": [
      "              precision    recall  f1-score   support\n",
      "\n",
      "           0       0.74      0.78      0.76     22424\n",
      "           1       0.77      0.72      0.75     22943\n",
      "\n",
      "    accuracy                           0.75     45367\n",
      "   macro avg       0.76      0.75      0.75     45367\n",
      "weighted avg       0.76      0.75      0.75     45367\n",
      "\n"
     ]
    }
   ]
  },
  {
   "cell_type": "markdown",
   "metadata": {
    "id": "qHQSHhfRECA9"
   },
   "source": [
    "### TF-IDF + пары слов\n",
    "\n",
    "Попробуем подсчитывать не только одиночные слова, но и пары слов:"
   ]
  },
  {
   "cell_type": "code",
   "metadata": {
    "id": "euRBH3YQEC9C"
   },
   "source": [
    "vectorizer = TfidfVectorizer(ngram_range=(1, 3)).fit(df[3])\n",
    "\n",
    "X_train_vectors = vectorizer.transform(df_train[3])\n",
    "X_test_vectors = vectorizer.transform(df_test[3])"
   ],
   "execution_count": null,
   "outputs": []
  },
  {
   "cell_type": "markdown",
   "metadata": {
    "id": "IyqXGOnxFITc"
   },
   "source": [
    "Выведем слова из первого документа в порядке увеличения из меры TF-IDF:"
   ]
  },
  {
   "cell_type": "code",
   "metadata": {
    "id": "1bB3hAVFFHmc",
    "colab": {
     "base_uri": "https://localhost:8080/"
    },
    "outputId": "2ebd21be-d4ba-418c-ec40-63137ecc564a"
   },
   "source": [
    "vectorizer.inverse_transform(X_train_vectors[num])[0][np.argsort(X_train_vectors[num].data)]"
   ],
   "execution_count": null,
   "outputs": [
    {
     "output_type": "execute_result",
     "data": {
      "text/plain": [
       "array(['не', 'за', 'еще', 'он', 'почему', 'еще не', 'он еще', 'почему он',\n",
       "       'он еще не', 'sergeilobachev', 'евроинтеграцию',\n",
       "       'за евроинтеграцию', 'ааахаха', 'отметился',\n",
       "       'sergeilobachev ааахаха', 'sergeilobachev ааахаха почему',\n",
       "       'ааахаха почему', 'and_bondar sergeilobachev ааахаха',\n",
       "       'почему он еще', 'еще не отметился', 'and_bondar sergeilobachev',\n",
       "       'не отметился', 'не отметился за', 'отметился за',\n",
       "       'отметился за евроинтеграцию', 'ааахаха почему он', 'and_bondar'],\n",
       "      dtype='<U137')"
      ]
     },
     "metadata": {},
     "execution_count": 67
    }
   ]
  },
  {
   "cell_type": "markdown",
   "metadata": {
    "id": "XTcpfWQGIJ95"
   },
   "source": [
    "### Алгоритм"
   ]
  },
  {
   "cell_type": "code",
   "metadata": {
    "id": "D1g9NQTRFQu2"
   },
   "source": [
    "clf = MultinomialNB(alpha = 1).fit(X_train_vectors, df_train[4])"
   ],
   "execution_count": null,
   "outputs": []
  },
  {
   "cell_type": "code",
   "metadata": {
    "id": "RQt9vDT6FWDK",
    "colab": {
     "base_uri": "https://localhost:8080/"
    },
    "outputId": "e7f6264e-9bfd-4cc5-896a-491f907d0ca1"
   },
   "source": [
    "predicts = clf.predict(vectorizer.transform(df_test[3]))\n",
    "print(classification_report(df_test[4], predicts))"
   ],
   "execution_count": null,
   "outputs": [
    {
     "output_type": "stream",
     "name": "stdout",
     "text": [
      "              precision    recall  f1-score   support\n",
      "\n",
      "           0       0.75      0.81      0.78     22424\n",
      "           1       0.80      0.73      0.76     22943\n",
      "\n",
      "    accuracy                           0.77     45367\n",
      "   macro avg       0.77      0.77      0.77     45367\n",
      "weighted avg       0.77      0.77      0.77     45367\n",
      "\n"
     ]
    }
   ]
  },
  {
   "cell_type": "markdown",
   "metadata": {
    "id": "NfY9k73quJnJ"
   },
   "source": [
    "## Complement Naive Bayes"
   ]
  },
  {
   "cell_type": "markdown",
   "metadata": {
    "id": "UIERkVKdtG-W"
   },
   "source": [
    "Наивный байесовский классификатор ComplementNB был разработан для исправления «грубых допущений», сделанных стандартным полиномиальным наивным байесовским классификатором. Хорошо работает с несбалансированным набором данных.\n",
    "\n",
    "CNB - это адаптация стандартного полиномиального наивного байесовского алгоритма (MNB), который особенно подходит для несбалансированных наборов данных. В частности, CNB использует статистику из дополнения каждого класса для вычисления весов модели. Изобретатели CNB эмпирически показывают, что оценки параметров для CNB более стабильны, чем оценки для MNB. Кроме того, CNB регулярно опережает MNB (часто со значительным отрывом) по задачам классификации текста. Процедура расчета весов выглядит следующим образом:\n",
    "\n",
    "\\begin{align}\\begin{aligned}\\hat{\\theta}_{ci} = \\frac{\\alpha_i + \\sum_{j:y_j \\neq c} d_{ij}}\n",
    "                         {\\alpha + \\sum_{j:y_j \\neq c} \\sum_{k} d_{kj}}\\\\w_{ci} = \\log \\hat{\\theta}_{ci}\\\\w_{ci} = \\frac{w_{ci}}{\\sum_{j} |w_{cj}|}\\end{aligned}\\end{align}\n",
    "\n"
   ]
  },
  {
   "cell_type": "markdown",
   "metadata": {
    "id": "RcXIjliLF3ZQ"
   },
   "source": [
    "где суммирования по всем документам j, не относящимся к классу С, $d_{ij}$ - это значение tf-idf термина i в документе j, $αi$ - это сглаживающий гиперпараметр, подобный найденному в MNB, и $α = ∑_i αi$. Вторая нормализация учитывает тенденцию для более длинных документов доминировать в оценках параметров в MNB. Правило классификации:"
   ]
  },
  {
   "cell_type": "markdown",
   "metadata": {
    "id": "pkKheFy3GaCI"
   },
   "source": [
    "$$\\hat{c} = \\arg\\min_c \\sum_{i} t_i w_{ci}$$"
   ]
  },
  {
   "cell_type": "markdown",
   "metadata": {
    "id": "07AIWi0sGfId"
   },
   "source": [
    "то есть документ присваивается классу, который является самым плохим соответствием дополнения."
   ]
  },
  {
   "cell_type": "markdown",
   "metadata": {
    "id": "FSmrgYbnGvm7"
   },
   "source": [
    "Простыми словами:\n",
    "\n",
    "Сравнивая с классическим наивным байесовским алгоритмом, вместо вычисления вероятности появления слова в классе, мы вычисляем вероятность того, что оно встречается в других классах."
   ]
  },
  {
   "cell_type": "markdown",
   "metadata": {
    "id": "nkHiVE7-HGu-"
   },
   "source": [
    "Классический:\n",
    "$$argmax \\ p(y) \\bullet \\prod p(w | y)^{f_i}$$\n",
    "Преобразуется в:\n",
    "$$argmin \\ p(y) \\bullet \\prod {1 \\over p(w | \\hat y)^{f_i}}$$\n",
    "\n",
    "где $f_i$ - частота слова i документа d"
   ]
  },
  {
   "cell_type": "markdown",
   "metadata": {
    "id": "7WOIeJSDHnL4"
   },
   "source": [
    "Проверим предположение с помощью tfidf + пары слов и стоп слов для русского."
   ]
  },
  {
   "cell_type": "markdown",
   "metadata": {
    "id": "ObVD9QjdHuj0"
   },
   "source": [
    "### TF-IDF"
   ]
  },
  {
   "cell_type": "code",
   "metadata": {
    "id": "vN50jVvmF0Va"
   },
   "source": [
    "vectorizer = TfidfVectorizer(ngram_range=(1, 3)).fit(df[3])\n",
    "\n",
    "X_train_vectors = vectorizer.transform(df_train[3])\n",
    "X_test_vectors = vectorizer.transform(df_test[3])"
   ],
   "execution_count": null,
   "outputs": []
  },
  {
   "cell_type": "code",
   "metadata": {
    "id": "ng2J7vh2H1Fg"
   },
   "source": [
    "X_train_vectors = vectorizer.transform(df_train[3])\n",
    "X_test_vectors = vectorizer.transform(df_test[3])"
   ],
   "execution_count": null,
   "outputs": []
  },
  {
   "cell_type": "code",
   "metadata": {
    "id": "jw81Tyi7ITGV",
    "colab": {
     "base_uri": "https://localhost:8080/"
    },
    "outputId": "a019a40e-837f-41a0-f2f0-46f129ba94fb"
   },
   "source": [
    "vectorizer.inverse_transform(X_train_vectors[num])[0][np.argsort(X_train_vectors[num].data)]"
   ],
   "execution_count": null,
   "outputs": [
    {
     "output_type": "execute_result",
     "data": {
      "text/plain": [
       "array(['http', 'co', 'http co', 'но', 'со', 'долго', 'тварь', 'вкусом',\n",
       "       'со вкусом', 'сдохни', 'тварь но', 'но долго',\n",
       "       'http co ogyduulcjv', 'ogyduulcjv', 'вкусом http', 'долго со',\n",
       "       'со вкусом http', 'долго со вкусом', 'co ogyduulcjv',\n",
       "       'но долго со', 'сдохни тварь', 'сдохни тварь но', 'вкусом http co',\n",
       "       'тварь но долго'], dtype='<U137')"
      ]
     },
     "metadata": {},
     "execution_count": 77
    }
   ]
  },
  {
   "cell_type": "code",
   "metadata": {
    "colab": {
     "base_uri": "https://localhost:8080/",
     "height": 74
    },
    "id": "1muLvwESmUde",
    "outputId": "5e209c6b-d15a-49b0-c691-536ce2a31296"
   },
   "source": [
    "from sklearn.naive_bayes import ComplementNB\n",
    "clf = ComplementNB()\n",
    "clf.fit(X_train_vectors, df_train[4])"
   ],
   "execution_count": null,
   "outputs": [
    {
     "output_type": "execute_result",
     "data": {
      "text/plain": [
       "ComplementNB()"
      ],
      "text/html": [
       "<style>#sk-container-id-3 {color: black;background-color: white;}#sk-container-id-3 pre{padding: 0;}#sk-container-id-3 div.sk-toggleable {background-color: white;}#sk-container-id-3 label.sk-toggleable__label {cursor: pointer;display: block;width: 100%;margin-bottom: 0;padding: 0.3em;box-sizing: border-box;text-align: center;}#sk-container-id-3 label.sk-toggleable__label-arrow:before {content: \"▸\";float: left;margin-right: 0.25em;color: #696969;}#sk-container-id-3 label.sk-toggleable__label-arrow:hover:before {color: black;}#sk-container-id-3 div.sk-estimator:hover label.sk-toggleable__label-arrow:before {color: black;}#sk-container-id-3 div.sk-toggleable__content {max-height: 0;max-width: 0;overflow: hidden;text-align: left;background-color: #f0f8ff;}#sk-container-id-3 div.sk-toggleable__content pre {margin: 0.2em;color: black;border-radius: 0.25em;background-color: #f0f8ff;}#sk-container-id-3 input.sk-toggleable__control:checked~div.sk-toggleable__content {max-height: 200px;max-width: 100%;overflow: auto;}#sk-container-id-3 input.sk-toggleable__control:checked~label.sk-toggleable__label-arrow:before {content: \"▾\";}#sk-container-id-3 div.sk-estimator input.sk-toggleable__control:checked~label.sk-toggleable__label {background-color: #d4ebff;}#sk-container-id-3 div.sk-label input.sk-toggleable__control:checked~label.sk-toggleable__label {background-color: #d4ebff;}#sk-container-id-3 input.sk-hidden--visually {border: 0;clip: rect(1px 1px 1px 1px);clip: rect(1px, 1px, 1px, 1px);height: 1px;margin: -1px;overflow: hidden;padding: 0;position: absolute;width: 1px;}#sk-container-id-3 div.sk-estimator {font-family: monospace;background-color: #f0f8ff;border: 1px dotted black;border-radius: 0.25em;box-sizing: border-box;margin-bottom: 0.5em;}#sk-container-id-3 div.sk-estimator:hover {background-color: #d4ebff;}#sk-container-id-3 div.sk-parallel-item::after {content: \"\";width: 100%;border-bottom: 1px solid gray;flex-grow: 1;}#sk-container-id-3 div.sk-label:hover label.sk-toggleable__label {background-color: #d4ebff;}#sk-container-id-3 div.sk-serial::before {content: \"\";position: absolute;border-left: 1px solid gray;box-sizing: border-box;top: 0;bottom: 0;left: 50%;z-index: 0;}#sk-container-id-3 div.sk-serial {display: flex;flex-direction: column;align-items: center;background-color: white;padding-right: 0.2em;padding-left: 0.2em;position: relative;}#sk-container-id-3 div.sk-item {position: relative;z-index: 1;}#sk-container-id-3 div.sk-parallel {display: flex;align-items: stretch;justify-content: center;background-color: white;position: relative;}#sk-container-id-3 div.sk-item::before, #sk-container-id-3 div.sk-parallel-item::before {content: \"\";position: absolute;border-left: 1px solid gray;box-sizing: border-box;top: 0;bottom: 0;left: 50%;z-index: -1;}#sk-container-id-3 div.sk-parallel-item {display: flex;flex-direction: column;z-index: 1;position: relative;background-color: white;}#sk-container-id-3 div.sk-parallel-item:first-child::after {align-self: flex-end;width: 50%;}#sk-container-id-3 div.sk-parallel-item:last-child::after {align-self: flex-start;width: 50%;}#sk-container-id-3 div.sk-parallel-item:only-child::after {width: 0;}#sk-container-id-3 div.sk-dashed-wrapped {border: 1px dashed gray;margin: 0 0.4em 0.5em 0.4em;box-sizing: border-box;padding-bottom: 0.4em;background-color: white;}#sk-container-id-3 div.sk-label label {font-family: monospace;font-weight: bold;display: inline-block;line-height: 1.2em;}#sk-container-id-3 div.sk-label-container {text-align: center;}#sk-container-id-3 div.sk-container {/* jupyter's `normalize.less` sets `[hidden] { display: none; }` but bootstrap.min.css set `[hidden] { display: none !important; }` so we also need the `!important` here to be able to override the default hidden behavior on the sphinx rendered scikit-learn.org. See: https://github.com/scikit-learn/scikit-learn/issues/21755 */display: inline-block !important;position: relative;}#sk-container-id-3 div.sk-text-repr-fallback {display: none;}</style><div id=\"sk-container-id-3\" class=\"sk-top-container\"><div class=\"sk-text-repr-fallback\"><pre>ComplementNB()</pre><b>In a Jupyter environment, please rerun this cell to show the HTML representation or trust the notebook. <br />On GitHub, the HTML representation is unable to render, please try loading this page with nbviewer.org.</b></div><div class=\"sk-container\" hidden><div class=\"sk-item\"><div class=\"sk-estimator sk-toggleable\"><input class=\"sk-toggleable__control sk-hidden--visually\" id=\"sk-estimator-id-3\" type=\"checkbox\" checked><label for=\"sk-estimator-id-3\" class=\"sk-toggleable__label sk-toggleable__label-arrow\">ComplementNB</label><div class=\"sk-toggleable__content\"><pre>ComplementNB()</pre></div></div></div></div></div>"
      ]
     },
     "metadata": {},
     "execution_count": 78
    }
   ]
  },
  {
   "cell_type": "code",
   "metadata": {
    "colab": {
     "base_uri": "https://localhost:8080/"
    },
    "id": "ElJAvvQ_mY8b",
    "outputId": "07ff1946-200b-4ca6-d5ff-b326ed42eb64"
   },
   "source": [
    "predicts = clf.predict(vectorizer.transform(df_test[3]))\n",
    "print(classification_report(df_test[4], predicts))"
   ],
   "execution_count": null,
   "outputs": [
    {
     "output_type": "stream",
     "name": "stdout",
     "text": [
      "              precision    recall  f1-score   support\n",
      "\n",
      "           0       0.73      0.83      0.78     22427\n",
      "           1       0.81      0.70      0.75     22940\n",
      "\n",
      "    accuracy                           0.77     45367\n",
      "   macro avg       0.77      0.77      0.77     45367\n",
      "weighted avg       0.77      0.77      0.77     45367\n",
      "\n"
     ]
    }
   ]
  },
  {
   "cell_type": "markdown",
   "metadata": {
    "id": "6XbIn-bNH4lH"
   },
   "source": [
    "### Алгоритм"
   ]
  },
  {
   "cell_type": "code",
   "metadata": {
    "id": "pxzVEmDCH2VR"
   },
   "source": [
    "clf = BernoulliNB(alpha=0.5).fit(X_train_vectors, df_train[4])"
   ],
   "execution_count": null,
   "outputs": []
  },
  {
   "cell_type": "code",
   "metadata": {
    "id": "84NDDqH_H74q",
    "colab": {
     "base_uri": "https://localhost:8080/"
    },
    "outputId": "7acfa72a-e9e7-4546-c254-30a6d616a84c"
   },
   "source": [
    "show_top(clf, vectorizer, 20)"
   ],
   "execution_count": null,
   "outputs": [
    {
     "output_type": "stream",
     "name": "stdout",
     "text": [
      "pos: ты за по уже ну это все но то так мне http co co http как меня rt на что не\n",
      "neg: да за по ну но все мне так ты меня то это как что на rt http co co http не\n"
     ]
    }
   ]
  },
  {
   "cell_type": "code",
   "metadata": {
    "id": "SI_2rnZPH91Z",
    "colab": {
     "base_uri": "https://localhost:8080/"
    },
    "outputId": "817fb679-a59b-45f4-ec83-2eefb627cbb4"
   },
   "source": [
    "predicts = clf.predict(vectorizer.transform(df_test[3]))\n",
    "print(classification_report(df_test[4], predicts))"
   ],
   "execution_count": null,
   "outputs": [
    {
     "output_type": "stream",
     "name": "stdout",
     "text": [
      "              precision    recall  f1-score   support\n",
      "\n",
      "           0       0.69      0.88      0.78     22427\n",
      "           1       0.84      0.61      0.71     22940\n",
      "\n",
      "    accuracy                           0.75     45367\n",
      "   macro avg       0.77      0.75      0.74     45367\n",
      "weighted avg       0.77      0.75      0.74     45367\n",
      "\n"
     ]
    }
   ]
  },
  {
   "cell_type": "code",
   "metadata": {
    "id": "08ln1W5jIALZ",
    "colab": {
     "base_uri": "https://localhost:8080/",
     "height": 104
    },
    "outputId": "28a30208-2b71-4090-d3b5-ffb1c64af3b6"
   },
   "source": [
    "# ComplementNB, MultinomialNB, BernoulliNB, CategoricalNB\n",
    "\n",
    "from sklearn.model_selection import GridSearchCV\n",
    "\n",
    "alg = BernoulliNB()\n",
    "\n",
    "grid = {'alpha': np.array(np.linspace(0, 6, 30), dtype='float'),}\n",
    "\n",
    "gs = GridSearchCV(alg, grid, verbose=2, n_jobs = -1, scoring = 'f1')\n",
    "gs.fit(X_train_vectors, df_train[4])\n",
    "gs.best_params_, gs.best_score_"
   ],
   "execution_count": null,
   "outputs": [
    {
     "output_type": "stream",
     "text": [
      "Fitting 5 folds for each of 30 candidates, totalling 150 fits\n"
     ],
     "name": "stdout"
    },
    {
     "output_type": "stream",
     "text": [
      "[Parallel(n_jobs=-1)]: Using backend LokyBackend with 2 concurrent workers.\n",
      "[Parallel(n_jobs=-1)]: Done  37 tasks      | elapsed:   11.2s\n",
      "[Parallel(n_jobs=-1)]: Done 150 out of 150 | elapsed:   42.9s finished\n"
     ],
     "name": "stderr"
    },
    {
     "output_type": "execute_result",
     "data": {
      "text/plain": [
       "({'alpha': 4.9655172413793105}, 0.7657067839707224)"
      ]
     },
     "metadata": {
      "tags": []
     },
     "execution_count": 275
    }
   ]
  },
  {
   "cell_type": "code",
   "metadata": {
    "id": "bq3UKTRLsXXO"
   },
   "source": [
    "# Функция отрисовки графиков\n",
    "def grid_plot(x, y, x_label, title, y_label='f1'):\n",
    "    # определили размер графика\n",
    "    plt.figure(figsize=(12, 6))\n",
    "    # добавили сетку на фон\n",
    "    plt.grid(True)\n",
    "    # построили по х - число соседей, по y - точность\n",
    "    plt.plot(x, y, 'go-')\n",
    "    # добавили подписи осей и название графика\n",
    "    plt.xlabel(x_label)\n",
    "    plt.ylabel(y_label)\n",
    "    plt.title(title)"
   ],
   "execution_count": null,
   "outputs": []
  },
  {
   "cell_type": "code",
   "metadata": {
    "id": "R6MwJw_XsoKe",
    "colab": {
     "base_uri": "https://localhost:8080/",
     "height": 405
    },
    "outputId": "e2c05833-5bc5-47cd-f115-72e8c3e0b11a"
   },
   "source": [
    "# Строим график зависимости качества от числа соседей\n",
    "# замечание: результаты обучения хранятся в атрибуте cv_results_ объекта gs\n",
    "grid_plot(grid['alpha'], gs.cv_results_['mean_test_score'], 'n_neighbors', 'BernoulliNB')"
   ],
   "execution_count": null,
   "outputs": [
    {
     "output_type": "display_data",
     "data": {
      "image/png": "[encoded data removed]",
      "text/plain": [
       "<Figure size 864x432 with 1 Axes>"
      ]
     },
     "metadata": {
      "tags": [],
      "needs_background": "light"
     }
    }
   ]
  },
  {
   "cell_type": "markdown",
   "metadata": {
    "id": "8uCASc3GvWfX"
   },
   "source": [
    "## Фильтруем самые частотные"
   ]
  },
  {
   "cell_type": "code",
   "metadata": {
    "id": "4MeUrnAztWQz"
   },
   "source": [
    "def get_top_n_words(corpus, n=None):\n",
    "    vec = CountVectorizer().fit(corpus)\n",
    "    bag_of_words = vec.transform(corpus)\n",
    "    sum_words = bag_of_words.sum(axis=0)\n",
    "    words_freq = [(word, sum_words[0, idx]) for word, idx in     vec.vocabulary_.items()]\n",
    "    words_freq =sorted(words_freq, key = lambda x: x[1], reverse=True)\n",
    "    return words_freq[:n]"
   ],
   "execution_count": null,
   "outputs": []
  },
  {
   "cell_type": "code",
   "metadata": {
    "id": "qd93kL8uuux3"
   },
   "source": [
    "freq = get_top_n_words(df_test[3], 50)"
   ],
   "execution_count": null,
   "outputs": []
  },
  {
   "cell_type": "code",
   "metadata": {
    "id": "BJeFLKfDu6Y1"
   },
   "source": [
    "freq = [i[0] for i in freq]"
   ],
   "execution_count": null,
   "outputs": []
  },
  {
   "cell_type": "code",
   "metadata": {
    "id": "6JLKGFGMvUEt"
   },
   "source": [
    "vectorizer = TfidfVectorizer(stop_words=stopWords+freq+list(ENGLISH_STOP_WORDS), ngram_range=(1, 2)).fit(df[3])\n",
    "\n",
    "X_train_vectors = vectorizer.transform(df_train[3])\n",
    "X_test_vectors = vectorizer.transform(df_test[3])"
   ],
   "execution_count": null,
   "outputs": []
  },
  {
   "cell_type": "code",
   "metadata": {
    "id": "FISONPg9vxP_"
   },
   "source": [
    "clf = BernoulliNB(alpha=0.5).fit(X_train_vectors, df_train[4])"
   ],
   "execution_count": null,
   "outputs": []
  },
  {
   "cell_type": "code",
   "metadata": {
    "id": "RvtcCT5BvtrS",
    "colab": {
     "base_uri": "https://localhost:8080/",
     "height": 51
    },
    "outputId": "a058aa84-3e01-46a8-a4ee-611ce7e61bc0"
   },
   "source": [
    "show_top(clf, vectorizer, 20)"
   ],
   "execution_count": null,
   "outputs": [
    {
     "output_type": "stream",
     "text": [
      "pos: бля такое болит о_о время люблю новый жаль плохо хочется год делать дома спать знаю буду вообще почему могу блин\n",
      "neg: нам такая такие утро могу год почему дома dd новый ахаха время пока ахах знаю вообще буду всем люблю спасибо\n"
     ],
     "name": "stdout"
    }
   ]
  },
  {
   "cell_type": "code",
   "metadata": {
    "id": "X1nvDbcyvnCL",
    "colab": {
     "base_uri": "https://localhost:8080/",
     "height": 104
    },
    "outputId": "85ac58e7-e3e5-418b-8317-7cf4b3f187cb"
   },
   "source": [
    "# ComplementNB, MultinomialNB, BernoulliNB, CategoricalNB\n",
    "\n",
    "from sklearn.model_selection import GridSearchCV\n",
    "\n",
    "alg = BernoulliNB()\n",
    "\n",
    "grid = {'alpha': np.array(np.linspace(0, 6, 30), dtype='float'),}\n",
    "\n",
    "gs = GridSearchCV(alg, grid, verbose=2, n_jobs = -1, scoring = 'f1')\n",
    "gs.fit(X_train_vectors, df_train[4])\n",
    "gs.best_params_, gs.best_score_"
   ],
   "execution_count": null,
   "outputs": [
    {
     "output_type": "stream",
     "text": [
      "Fitting 5 folds for each of 30 candidates, totalling 150 fits\n"
     ],
     "name": "stdout"
    },
    {
     "output_type": "stream",
     "text": [
      "[Parallel(n_jobs=-1)]: Using backend LokyBackend with 2 concurrent workers.\n",
      "[Parallel(n_jobs=-1)]: Done  37 tasks      | elapsed:   10.7s\n",
      "[Parallel(n_jobs=-1)]: Done 150 out of 150 | elapsed:   37.6s finished\n"
     ],
     "name": "stderr"
    },
    {
     "output_type": "execute_result",
     "data": {
      "text/plain": [
       "({'alpha': 2.689655172413793}, 0.7613353634780609)"
      ]
     },
     "metadata": {
      "tags": []
     },
     "execution_count": 316
    }
   ]
  },
  {
   "cell_type": "code",
   "metadata": {
    "id": "PdILOWwev5Ip",
    "colab": {
     "base_uri": "https://localhost:8080/",
     "height": 405
    },
    "outputId": "82b406ad-7f35-42ee-f9af-1955a8250d31"
   },
   "source": [
    "# Строим график зависимости качества от числа соседей\n",
    "# замечание: результаты обучения хранятся в атрибуте cv_results_ объекта gs\n",
    "grid_plot(grid['alpha'], gs.cv_results_['mean_test_score'], 'n_neighbors', 'BernoulliNB')"
   ],
   "execution_count": null,
   "outputs": [
    {
     "output_type": "display_data",
     "data": {
      "image/png": "[encoded data removed]",
      "text/plain": [
       "<Figure size 864x432 with 1 Axes>"
      ]
     },
     "metadata": {
      "tags": [],
      "needs_background": "light"
     }
    }
   ]
  },
  {
   "cell_type": "code",
   "metadata": {
    "id": "ZgiITi1twTt8",
    "colab": {
     "base_uri": "https://localhost:8080/",
     "height": 1000
    },
    "outputId": "3476c89d-b70d-4645-bad7-79acb465e989"
   },
   "source": [
    "stopWords"
   ],
   "execution_count": null,
   "outputs": [
    {
     "output_type": "execute_result",
     "data": {
      "text/plain": [
       "['и',\n",
       " 'в',\n",
       " 'во',\n",
       " 'не',\n",
       " 'что',\n",
       " 'он',\n",
       " 'на',\n",
       " 'я',\n",
       " 'с',\n",
       " 'со',\n",
       " 'как',\n",
       " 'а',\n",
       " 'то',\n",
       " 'все',\n",
       " 'она',\n",
       " 'так',\n",
       " 'его',\n",
       " 'но',\n",
       " 'да',\n",
       " 'ты',\n",
       " 'к',\n",
       " 'у',\n",
       " 'же',\n",
       " 'вы',\n",
       " 'за',\n",
       " 'бы',\n",
       " 'по',\n",
       " 'только',\n",
       " 'ее',\n",
       " 'мне',\n",
       " 'было',\n",
       " 'вот',\n",
       " 'от',\n",
       " 'меня',\n",
       " 'еще',\n",
       " 'нет',\n",
       " 'о',\n",
       " 'из',\n",
       " 'ему',\n",
       " 'теперь',\n",
       " 'когда',\n",
       " 'даже',\n",
       " 'ну',\n",
       " 'вдруг',\n",
       " 'ли',\n",
       " 'если',\n",
       " 'уже',\n",
       " 'или',\n",
       " 'ни',\n",
       " 'быть',\n",
       " 'был',\n",
       " 'него',\n",
       " 'до',\n",
       " 'вас',\n",
       " 'нибудь',\n",
       " 'опять',\n",
       " 'уж',\n",
       " 'вам',\n",
       " 'ведь',\n",
       " 'там',\n",
       " 'потом',\n",
       " 'себя',\n",
       " 'ничего',\n",
       " 'ей',\n",
       " 'может',\n",
       " 'они',\n",
       " 'тут',\n",
       " 'где',\n",
       " 'есть',\n",
       " 'надо',\n",
       " 'ней',\n",
       " 'для',\n",
       " 'мы',\n",
       " 'тебя',\n",
       " 'их',\n",
       " 'чем',\n",
       " 'была',\n",
       " 'сам',\n",
       " 'чтоб',\n",
       " 'без',\n",
       " 'будто',\n",
       " 'чего',\n",
       " 'раз',\n",
       " 'тоже',\n",
       " 'себе',\n",
       " 'под',\n",
       " 'будет',\n",
       " 'ж',\n",
       " 'тогда',\n",
       " 'кто',\n",
       " 'этот',\n",
       " 'того',\n",
       " 'потому',\n",
       " 'этого',\n",
       " 'какой',\n",
       " 'совсем',\n",
       " 'ним',\n",
       " 'здесь',\n",
       " 'этом',\n",
       " 'один',\n",
       " 'почти',\n",
       " 'мой',\n",
       " 'тем',\n",
       " 'чтобы',\n",
       " 'нее',\n",
       " 'сейчас',\n",
       " 'были',\n",
       " 'куда',\n",
       " 'зачем',\n",
       " 'всех',\n",
       " 'никогда',\n",
       " 'можно',\n",
       " 'при',\n",
       " 'наконец',\n",
       " 'два',\n",
       " 'об',\n",
       " 'другой',\n",
       " 'хоть',\n",
       " 'после',\n",
       " 'над',\n",
       " 'больше',\n",
       " 'тот',\n",
       " 'через',\n",
       " 'эти',\n",
       " 'нас',\n",
       " 'про',\n",
       " 'всего',\n",
       " 'них',\n",
       " 'какая',\n",
       " 'много',\n",
       " 'разве',\n",
       " 'три',\n",
       " 'эту',\n",
       " 'моя',\n",
       " 'впрочем',\n",
       " 'хорошо',\n",
       " 'свою',\n",
       " 'этой',\n",
       " 'перед',\n",
       " 'иногда',\n",
       " 'лучше',\n",
       " 'чуть',\n",
       " 'том',\n",
       " 'нельзя',\n",
       " 'такой',\n",
       " 'им',\n",
       " 'более',\n",
       " 'всегда',\n",
       " 'конечно',\n",
       " 'всю',\n",
       " 'между']"
      ]
     },
     "metadata": {
      "tags": []
     },
     "execution_count": 318
    }
   ]
  },
  {
   "cell_type": "code",
   "metadata": {
    "id": "_IGt7E3sv69I"
   },
   "source": [
    "from nltk.stem.snowball import SnowballStemmer\n",
    "stem = SnowballStemmer(\"russian\")"
   ],
   "execution_count": null,
   "outputs": []
  },
  {
   "cell_type": "code",
   "metadata": {
    "id": "fQ1hBM11wkVY"
   },
   "source": [
    "def preprocess(doc):\n",
    "    doc = doc.split()\n",
    "    doc = [stem.stem(word) for word in doc]\n",
    "    doc = ' '.join(doc)\n",
    "    return doc\n",
    "\n",
    "df[3] = df[3].map(preprocess)"
   ],
   "execution_count": null,
   "outputs": []
  },
  {
   "cell_type": "code",
   "metadata": {
    "id": "5FkXBGV6wpEH",
    "colab": {
     "base_uri": "https://localhost:8080/",
     "height": 939
    },
    "outputId": "6064e916-d0b3-417b-a470-9490ba73ffde"
   },
   "source": [
    "df"
   ],
   "execution_count": null,
   "outputs": [
    {
     "output_type": "execute_result",
     "data": {
      "text/plain": [
       "                        0           1                2   \\\n",
       "0       413686280438829056  1387465469    Do_Or_Die_xxx   \n",
       "1       411150298346831872  1386860844      evilRaymond   \n",
       "2       411173655155322880  1386866413         skynettt   \n",
       "3       415132785766973441  1387810343      EpifanovaVE   \n",
       "4       417315283083067392  1388330691  worthless_loser   \n",
       "...                    ...         ...              ...   \n",
       "226829  409334579380903936  1386427943    alexdolgopoly   \n",
       "226830  410722098198622208  1386758753    Greatest_Mess   \n",
       "226831  412007215600795648  1387065149       YiffyWolfy   \n",
       "226832  411419591873945600  1386925049  mariiish_kishmi   \n",
       "226833  411126979379728385  1386855284  Eliz_Berezhnaya   \n",
       "\n",
       "                                                       3   4   5   6   7   \\\n",
       "0                RT @MO3GOBbIHOC: @Do_Or_Die_xxx уеб е с:   0   0   1   0   \n",
       "1       @mark_oliver_mew пот поищу. а вообщ мен больш ...   1   0   0   0   \n",
       "2       @InspiredSasha ну, как в 1307 год в этот ден т...   1   0   0   0   \n",
       "3       @freiner7 я не хоч завтр дежурить, перед ингли...   0   0   0   0   \n",
       "4       попа на сам стремн момент матриц ну почемуууу ...   0   0   0   0   \n",
       "...                                                   ...  ..  ..  ..  ..   \n",
       "226829  @FoolsNobodys там к нем провод подход электрич...   1   0   0   0   \n",
       "226830  @_gotta_be_u_ дочита -расскажешь) может я тож ...   1   0   0   0   \n",
       "226831  эпик фейл эт ноч объявля потер девствен вайлет...   0   0   0   0   \n",
       "226832  @kasimov_d_n вот как вы можете??!! я ж не виде...   0   0   0   0   \n",
       "226833  о капец... ну разв можн так сильн смеятся?чувс...   1   0   0   0   \n",
       "\n",
       "           8    9    10  11  \n",
       "0        4290  362  256   0  \n",
       "1       12238  192  154   2  \n",
       "2       10254  178   71   5  \n",
       "3         432   18   28   0  \n",
       "4        3854   57   31   0  \n",
       "...       ...  ...  ...  ..  \n",
       "226829    474   17   32   0  \n",
       "226830  11257  456  387   6  \n",
       "226831  29431  553  260  11  \n",
       "226832   2228  117   85   0  \n",
       "226833     53    7   15   1  \n",
       "\n",
       "[226834 rows x 12 columns]"
      ],
      "text/html": [
       "\n",
       "  <div id=\"df-40f3e898-b291-4647-8812-62fe32a3d6b9\">\n",
       "    <div class=\"colab-df-container\">\n",
       "      <div>\n",
       "<style scoped>\n",
       "    .dataframe tbody tr th:only-of-type {\n",
       "        vertical-align: middle;\n",
       "    }\n",
       "\n",
       "    .dataframe tbody tr th {\n",
       "        vertical-align: top;\n",
       "    }\n",
       "\n",
       "    .dataframe thead th {\n",
       "        text-align: right;\n",
       "    }\n",
       "</style>\n",
       "<table border=\"1\" class=\"dataframe\">\n",
       "  <thead>\n",
       "    <tr style=\"text-align: right;\">\n",
       "      <th></th>\n",
       "      <th>0</th>\n",
       "      <th>1</th>\n",
       "      <th>2</th>\n",
       "      <th>3</th>\n",
       "      <th>4</th>\n",
       "      <th>5</th>\n",
       "      <th>6</th>\n",
       "      <th>7</th>\n",
       "      <th>8</th>\n",
       "      <th>9</th>\n",
       "      <th>10</th>\n",
       "      <th>11</th>\n",
       "    </tr>\n",
       "  </thead>\n",
       "  <tbody>\n",
       "    <tr>\n",
       "      <th>0</th>\n",
       "      <td>413686280438829056</td>\n",
       "      <td>1387465469</td>\n",
       "      <td>Do_Or_Die_xxx</td>\n",
       "      <td>RT @MO3GOBbIHOC: @Do_Or_Die_xxx уеб е с:</td>\n",
       "      <td>0</td>\n",
       "      <td>0</td>\n",
       "      <td>1</td>\n",
       "      <td>0</td>\n",
       "      <td>4290</td>\n",
       "      <td>362</td>\n",
       "      <td>256</td>\n",
       "      <td>0</td>\n",
       "    </tr>\n",
       "    <tr>\n",
       "      <th>1</th>\n",
       "      <td>411150298346831872</td>\n",
       "      <td>1386860844</td>\n",
       "      <td>evilRaymond</td>\n",
       "      <td>@mark_oliver_mew пот поищу. а вообщ мен больш ...</td>\n",
       "      <td>1</td>\n",
       "      <td>0</td>\n",
       "      <td>0</td>\n",
       "      <td>0</td>\n",
       "      <td>12238</td>\n",
       "      <td>192</td>\n",
       "      <td>154</td>\n",
       "      <td>2</td>\n",
       "    </tr>\n",
       "    <tr>\n",
       "      <th>2</th>\n",
       "      <td>411173655155322880</td>\n",
       "      <td>1386866413</td>\n",
       "      <td>skynettt</td>\n",
       "      <td>@InspiredSasha ну, как в 1307 год в этот ден т...</td>\n",
       "      <td>1</td>\n",
       "      <td>0</td>\n",
       "      <td>0</td>\n",
       "      <td>0</td>\n",
       "      <td>10254</td>\n",
       "      <td>178</td>\n",
       "      <td>71</td>\n",
       "      <td>5</td>\n",
       "    </tr>\n",
       "    <tr>\n",
       "      <th>3</th>\n",
       "      <td>415132785766973441</td>\n",
       "      <td>1387810343</td>\n",
       "      <td>EpifanovaVE</td>\n",
       "      <td>@freiner7 я не хоч завтр дежурить, перед ингли...</td>\n",
       "      <td>0</td>\n",
       "      <td>0</td>\n",
       "      <td>0</td>\n",
       "      <td>0</td>\n",
       "      <td>432</td>\n",
       "      <td>18</td>\n",
       "      <td>28</td>\n",
       "      <td>0</td>\n",
       "    </tr>\n",
       "    <tr>\n",
       "      <th>4</th>\n",
       "      <td>417315283083067392</td>\n",
       "      <td>1388330691</td>\n",
       "      <td>worthless_loser</td>\n",
       "      <td>попа на сам стремн момент матриц ну почемуууу ...</td>\n",
       "      <td>0</td>\n",
       "      <td>0</td>\n",
       "      <td>0</td>\n",
       "      <td>0</td>\n",
       "      <td>3854</td>\n",
       "      <td>57</td>\n",
       "      <td>31</td>\n",
       "      <td>0</td>\n",
       "    </tr>\n",
       "    <tr>\n",
       "      <th>...</th>\n",
       "      <td>...</td>\n",
       "      <td>...</td>\n",
       "      <td>...</td>\n",
       "      <td>...</td>\n",
       "      <td>...</td>\n",
       "      <td>...</td>\n",
       "      <td>...</td>\n",
       "      <td>...</td>\n",
       "      <td>...</td>\n",
       "      <td>...</td>\n",
       "      <td>...</td>\n",
       "      <td>...</td>\n",
       "    </tr>\n",
       "    <tr>\n",
       "      <th>226829</th>\n",
       "      <td>409334579380903936</td>\n",
       "      <td>1386427943</td>\n",
       "      <td>alexdolgopoly</td>\n",
       "      <td>@FoolsNobodys там к нем провод подход электрич...</td>\n",
       "      <td>1</td>\n",
       "      <td>0</td>\n",
       "      <td>0</td>\n",
       "      <td>0</td>\n",
       "      <td>474</td>\n",
       "      <td>17</td>\n",
       "      <td>32</td>\n",
       "      <td>0</td>\n",
       "    </tr>\n",
       "    <tr>\n",
       "      <th>226830</th>\n",
       "      <td>410722098198622208</td>\n",
       "      <td>1386758753</td>\n",
       "      <td>Greatest_Mess</td>\n",
       "      <td>@_gotta_be_u_ дочита -расскажешь) может я тож ...</td>\n",
       "      <td>1</td>\n",
       "      <td>0</td>\n",
       "      <td>0</td>\n",
       "      <td>0</td>\n",
       "      <td>11257</td>\n",
       "      <td>456</td>\n",
       "      <td>387</td>\n",
       "      <td>6</td>\n",
       "    </tr>\n",
       "    <tr>\n",
       "      <th>226831</th>\n",
       "      <td>412007215600795648</td>\n",
       "      <td>1387065149</td>\n",
       "      <td>YiffyWolfy</td>\n",
       "      <td>эпик фейл эт ноч объявля потер девствен вайлет...</td>\n",
       "      <td>0</td>\n",
       "      <td>0</td>\n",
       "      <td>0</td>\n",
       "      <td>0</td>\n",
       "      <td>29431</td>\n",
       "      <td>553</td>\n",
       "      <td>260</td>\n",
       "      <td>11</td>\n",
       "    </tr>\n",
       "    <tr>\n",
       "      <th>226832</th>\n",
       "      <td>411419591873945600</td>\n",
       "      <td>1386925049</td>\n",
       "      <td>mariiish_kishmi</td>\n",
       "      <td>@kasimov_d_n вот как вы можете??!! я ж не виде...</td>\n",
       "      <td>0</td>\n",
       "      <td>0</td>\n",
       "      <td>0</td>\n",
       "      <td>0</td>\n",
       "      <td>2228</td>\n",
       "      <td>117</td>\n",
       "      <td>85</td>\n",
       "      <td>0</td>\n",
       "    </tr>\n",
       "    <tr>\n",
       "      <th>226833</th>\n",
       "      <td>411126979379728385</td>\n",
       "      <td>1386855284</td>\n",
       "      <td>Eliz_Berezhnaya</td>\n",
       "      <td>о капец... ну разв можн так сильн смеятся?чувс...</td>\n",
       "      <td>1</td>\n",
       "      <td>0</td>\n",
       "      <td>0</td>\n",
       "      <td>0</td>\n",
       "      <td>53</td>\n",
       "      <td>7</td>\n",
       "      <td>15</td>\n",
       "      <td>1</td>\n",
       "    </tr>\n",
       "  </tbody>\n",
       "</table>\n",
       "<p>226834 rows × 12 columns</p>\n",
       "</div>\n",
       "      <button class=\"colab-df-convert\" onclick=\"convertToInteractive('df-40f3e898-b291-4647-8812-62fe32a3d6b9')\"\n",
       "              title=\"Convert this dataframe to an interactive table.\"\n",
       "              style=\"display:none;\">\n",
       "        \n",
       "  <svg xmlns=\"http://www.w3.org/2000/svg\" height=\"24px\"viewBox=\"0 0 24 24\"\n",
       "       width=\"24px\">\n",
       "    <path d=\"M0 0h24v24H0V0z\" fill=\"none\"/>\n",
       "    <path d=\"M18.56 5.44l.94 2.06.94-2.06 2.06-.94-2.06-.94-.94-2.06-.94 2.06-2.06.94zm-11 1L8.5 8.5l.94-2.06 2.06-.94-2.06-.94L8.5 2.5l-.94 2.06-2.06.94zm10 10l.94 2.06.94-2.06 2.06-.94-2.06-.94-.94-2.06-.94 2.06-2.06.94z\"/><path d=\"M17.41 7.96l-1.37-1.37c-.4-.4-.92-.59-1.43-.59-.52 0-1.04.2-1.43.59L10.3 9.45l-7.72 7.72c-.78.78-.78 2.05 0 2.83L4 21.41c.39.39.9.59 1.41.59.51 0 1.02-.2 1.41-.59l7.78-7.78 2.81-2.81c.8-.78.8-2.07 0-2.86zM5.41 20L4 18.59l7.72-7.72 1.47 1.35L5.41 20z\"/>\n",
       "  </svg>\n",
       "      </button>\n",
       "      \n",
       "  <style>\n",
       "    .colab-df-container {\n",
       "      display:flex;\n",
       "      flex-wrap:wrap;\n",
       "      gap: 12px;\n",
       "    }\n",
       "\n",
       "    .colab-df-convert {\n",
       "      background-color: #E8F0FE;\n",
       "      border: none;\n",
       "      border-radius: 50%;\n",
       "      cursor: pointer;\n",
       "      display: none;\n",
       "      fill: #1967D2;\n",
       "      height: 32px;\n",
       "      padding: 0 0 0 0;\n",
       "      width: 32px;\n",
       "    }\n",
       "\n",
       "    .colab-df-convert:hover {\n",
       "      background-color: #E2EBFA;\n",
       "      box-shadow: 0px 1px 2px rgba(60, 64, 67, 0.3), 0px 1px 3px 1px rgba(60, 64, 67, 0.15);\n",
       "      fill: #174EA6;\n",
       "    }\n",
       "\n",
       "    [theme=dark] .colab-df-convert {\n",
       "      background-color: #3B4455;\n",
       "      fill: #D2E3FC;\n",
       "    }\n",
       "\n",
       "    [theme=dark] .colab-df-convert:hover {\n",
       "      background-color: #434B5C;\n",
       "      box-shadow: 0px 1px 3px 1px rgba(0, 0, 0, 0.15);\n",
       "      filter: drop-shadow(0px 1px 2px rgba(0, 0, 0, 0.3));\n",
       "      fill: #FFFFFF;\n",
       "    }\n",
       "  </style>\n",
       "\n",
       "      <script>\n",
       "        const buttonEl =\n",
       "          document.querySelector('#df-40f3e898-b291-4647-8812-62fe32a3d6b9 button.colab-df-convert');\n",
       "        buttonEl.style.display =\n",
       "          google.colab.kernel.accessAllowed ? 'block' : 'none';\n",
       "\n",
       "        async function convertToInteractive(key) {\n",
       "          const element = document.querySelector('#df-40f3e898-b291-4647-8812-62fe32a3d6b9');\n",
       "          const dataTable =\n",
       "            await google.colab.kernel.invokeFunction('convertToInteractive',\n",
       "                                                     [key], {});\n",
       "          if (!dataTable) return;\n",
       "\n",
       "          const docLinkHtml = 'Like what you see? Visit the ' +\n",
       "            '<a target=\"_blank\" href=https://colab.research.google.com/notebooks/data_table.ipynb>data table notebook</a>'\n",
       "            + ' to learn more about interactive tables.';\n",
       "          element.innerHTML = '';\n",
       "          dataTable['output_type'] = 'display_data';\n",
       "          await google.colab.output.renderOutput(dataTable, element);\n",
       "          const docLink = document.createElement('div');\n",
       "          docLink.innerHTML = docLinkHtml;\n",
       "          element.appendChild(docLink);\n",
       "        }\n",
       "      </script>\n",
       "    </div>\n",
       "  </div>\n",
       "  "
      ]
     },
     "metadata": {},
     "execution_count": 84
    }
   ]
  },
  {
   "cell_type": "code",
   "metadata": {
    "id": "vgQ6deFew0BP"
   },
   "source": [],
   "execution_count": null,
   "outputs": []
  }
 ]
}
