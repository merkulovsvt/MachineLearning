{
 "cells": [
  {
   "cell_type": "code",
   "execution_count": 4,
   "id": "initial_id",
   "metadata": {
    "collapsed": true,
    "ExecuteTime": {
     "end_time": "2024-04-06T18:41:30.048867Z",
     "start_time": "2024-04-06T18:41:19.408353Z"
    }
   },
   "outputs": [],
   "source": [
    "import pandas as pd\n",
    "from sklearn.ensemble import RandomForestClassifier\n",
    "from sklearn.model_selection import GridSearchCV\n",
    "from sklearn.preprocessing import LabelEncoder"
   ]
  },
  {
   "cell_type": "code",
   "outputs": [],
   "source": [
    "invasion = pd.read_csv('invasion.csv')\n",
    "operative_information = pd.read_csv('operative_information.csv')"
   ],
   "metadata": {
    "collapsed": false,
    "ExecuteTime": {
     "end_time": "2024-04-06T18:41:30.080584Z",
     "start_time": "2024-04-06T18:41:30.050868Z"
    }
   },
   "id": "2d74ff6b1fb2e5f2",
   "execution_count": 5
  },
  {
   "cell_type": "code",
   "outputs": [
    {
     "name": "stdout",
     "output_type": "stream",
     "text": [
      "(500, 7)\n"
     ]
    },
    {
     "data": {
      "text/plain": "       class  g_reflection  i_reflection       speed  brightness  \\\n0  transport      2.190672      6.716633   62.168208    0.347465   \n1  transport      3.453276      8.995909   62.994707    0.590094   \n2  transport      2.432994      6.938691   62.245807    0.329288   \n3    fighter      6.083763      3.019459   18.474555    0.174738   \n4    fighter     12.876769      2.452950  195.805771    0.150446   \n\n   time_of_observance     volume  \n0              158221  44.932446  \n1              385972  41.568300  \n2              446482  40.123467  \n3              210125  11.384865  \n4               23109  11.328806  ",
      "text/html": "<div>\n<style scoped>\n    .dataframe tbody tr th:only-of-type {\n        vertical-align: middle;\n    }\n\n    .dataframe tbody tr th {\n        vertical-align: top;\n    }\n\n    .dataframe thead th {\n        text-align: right;\n    }\n</style>\n<table border=\"1\" class=\"dataframe\">\n  <thead>\n    <tr style=\"text-align: right;\">\n      <th></th>\n      <th>class</th>\n      <th>g_reflection</th>\n      <th>i_reflection</th>\n      <th>speed</th>\n      <th>brightness</th>\n      <th>time_of_observance</th>\n      <th>volume</th>\n    </tr>\n  </thead>\n  <tbody>\n    <tr>\n      <th>0</th>\n      <td>transport</td>\n      <td>2.190672</td>\n      <td>6.716633</td>\n      <td>62.168208</td>\n      <td>0.347465</td>\n      <td>158221</td>\n      <td>44.932446</td>\n    </tr>\n    <tr>\n      <th>1</th>\n      <td>transport</td>\n      <td>3.453276</td>\n      <td>8.995909</td>\n      <td>62.994707</td>\n      <td>0.590094</td>\n      <td>385972</td>\n      <td>41.568300</td>\n    </tr>\n    <tr>\n      <th>2</th>\n      <td>transport</td>\n      <td>2.432994</td>\n      <td>6.938691</td>\n      <td>62.245807</td>\n      <td>0.329288</td>\n      <td>446482</td>\n      <td>40.123467</td>\n    </tr>\n    <tr>\n      <th>3</th>\n      <td>fighter</td>\n      <td>6.083763</td>\n      <td>3.019459</td>\n      <td>18.474555</td>\n      <td>0.174738</td>\n      <td>210125</td>\n      <td>11.384865</td>\n    </tr>\n    <tr>\n      <th>4</th>\n      <td>fighter</td>\n      <td>12.876769</td>\n      <td>2.452950</td>\n      <td>195.805771</td>\n      <td>0.150446</td>\n      <td>23109</td>\n      <td>11.328806</td>\n    </tr>\n  </tbody>\n</table>\n</div>"
     },
     "execution_count": 6,
     "metadata": {},
     "output_type": "execute_result"
    }
   ],
   "source": [
    "print(invasion.shape)\n",
    "invasion.head()"
   ],
   "metadata": {
    "collapsed": false,
    "ExecuteTime": {
     "end_time": "2024-04-06T18:41:30.126946Z",
     "start_time": "2024-04-06T18:41:30.083091Z"
    }
   },
   "id": "9ddb5fd99251eab8",
   "execution_count": 6
  },
  {
   "cell_type": "code",
   "outputs": [
    {
     "data": {
      "text/plain": "class\nfighter      225\ntransport    205\ncruiser       70\nName: count, dtype: int64"
     },
     "execution_count": 7,
     "metadata": {},
     "output_type": "execute_result"
    }
   ],
   "source": [
    "invasion['class'].value_counts()"
   ],
   "metadata": {
    "collapsed": false,
    "ExecuteTime": {
     "end_time": "2024-04-06T18:41:30.142774Z",
     "start_time": "2024-04-06T18:41:30.130568Z"
    }
   },
   "id": "5aa3e2525400223d",
   "execution_count": 7
  },
  {
   "cell_type": "code",
   "outputs": [
    {
     "data": {
      "text/plain": "array(['transport', 'transport', 'transport', 'fighter', 'fighter',\n       'cruiser', 'transport', 'fighter', 'transport', 'transport',\n       'fighter', 'fighter', 'fighter', 'fighter', 'transport', 'cruiser',\n       'transport', 'transport', 'transport', 'fighter', 'transport',\n       'fighter', 'transport', 'transport', 'transport', 'fighter',\n       'fighter', 'transport', 'fighter', 'fighter', 'fighter',\n       'transport', 'fighter', 'cruiser', 'cruiser', 'cruiser',\n       'transport', 'fighter', 'fighter', 'cruiser', 'fighter',\n       'transport', 'cruiser', 'fighter', 'transport', 'fighter',\n       'fighter', 'transport', 'fighter', 'transport', 'transport',\n       'transport', 'transport', 'transport', 'fighter', 'transport',\n       'fighter', 'fighter', 'transport', 'fighter', 'transport',\n       'transport', 'fighter', 'fighter', 'fighter', 'transport',\n       'transport', 'transport', 'fighter', 'fighter', 'transport',\n       'fighter', 'fighter', 'fighter', 'transport', 'fighter', 'fighter',\n       'transport', 'transport', 'fighter', 'fighter', 'fighter',\n       'cruiser', 'transport', 'fighter', 'transport', 'fighter',\n       'fighter', 'fighter', 'fighter', 'fighter', 'fighter', 'transport',\n       'fighter', 'fighter', 'transport', 'transport', 'fighter',\n       'transport', 'fighter', 'fighter', 'fighter', 'fighter', 'fighter',\n       'fighter', 'fighter', 'fighter', 'transport', 'transport',\n       'transport', 'transport', 'fighter', 'fighter', 'fighter',\n       'fighter', 'transport', 'fighter', 'fighter', 'transport',\n       'transport', 'transport', 'cruiser', 'fighter', 'fighter',\n       'fighter', 'cruiser', 'fighter', 'fighter', 'transport', 'fighter',\n       'cruiser', 'transport', 'transport', 'cruiser', 'transport',\n       'transport', 'fighter', 'fighter', 'cruiser', 'transport',\n       'fighter', 'transport', 'fighter', 'fighter', 'cruiser', 'fighter',\n       'cruiser', 'transport', 'transport', 'fighter', 'fighter',\n       'transport', 'fighter', 'transport', 'cruiser', 'fighter',\n       'fighter', 'fighter', 'transport', 'fighter', 'fighter', 'fighter',\n       'transport', 'fighter', 'transport', 'fighter', 'transport',\n       'transport', 'transport', 'cruiser', 'fighter', 'fighter',\n       'fighter', 'fighter', 'transport', 'fighter', 'transport',\n       'fighter', 'fighter', 'fighter', 'fighter', 'cruiser', 'fighter',\n       'fighter', 'transport', 'fighter', 'fighter', 'fighter',\n       'transport', 'fighter', 'transport', 'fighter', 'transport',\n       'transport', 'cruiser', 'transport', 'transport', 'transport',\n       'fighter', 'fighter', 'transport', 'fighter', 'transport',\n       'fighter', 'cruiser', 'transport', 'fighter', 'cruiser',\n       'transport', 'fighter', 'cruiser', 'transport', 'transport',\n       'transport', 'fighter', 'fighter', 'transport', 'transport',\n       'transport', 'fighter', 'fighter', 'fighter', 'fighter',\n       'transport', 'cruiser', 'transport', 'fighter', 'transport',\n       'fighter', 'transport', 'cruiser', 'fighter', 'fighter',\n       'transport', 'transport', 'transport', 'fighter', 'fighter',\n       'transport', 'transport', 'transport', 'transport', 'fighter',\n       'fighter', 'fighter', 'fighter', 'transport', 'fighter', 'cruiser',\n       'transport', 'fighter', 'fighter', 'cruiser', 'transport',\n       'fighter', 'fighter', 'fighter', 'transport', 'fighter', 'cruiser',\n       'transport', 'cruiser', 'transport', 'transport', 'fighter',\n       'cruiser', 'cruiser', 'fighter', 'fighter', 'transport',\n       'transport', 'transport', 'transport', 'transport', 'transport',\n       'transport', 'fighter', 'cruiser', 'fighter', 'transport',\n       'fighter', 'fighter', 'fighter', 'transport', 'transport',\n       'fighter', 'fighter', 'fighter', 'cruiser', 'cruiser', 'transport',\n       'transport', 'cruiser', 'cruiser', 'transport', 'transport',\n       'transport', 'transport', 'fighter', 'transport', 'cruiser',\n       'transport', 'fighter', 'transport', 'transport', 'cruiser',\n       'fighter', 'transport', 'transport', 'fighter', 'transport',\n       'fighter', 'fighter', 'fighter', 'transport', 'cruiser', 'fighter',\n       'transport', 'fighter', 'fighter', 'fighter', 'fighter',\n       'transport', 'cruiser', 'transport', 'fighter', 'transport',\n       'cruiser', 'fighter', 'transport', 'transport', 'transport',\n       'fighter', 'fighter', 'fighter', 'fighter', 'fighter', 'transport',\n       'transport', 'transport', 'transport', 'fighter', 'fighter',\n       'transport', 'fighter', 'fighter', 'transport', 'transport',\n       'fighter', 'fighter', 'transport', 'cruiser', 'cruiser', 'fighter',\n       'transport', 'cruiser', 'transport', 'transport', 'cruiser',\n       'transport', 'transport', 'cruiser', 'transport', 'fighter',\n       'transport', 'fighter', 'transport', 'cruiser', 'fighter',\n       'transport', 'fighter', 'cruiser', 'fighter', 'fighter', 'fighter',\n       'cruiser', 'transport', 'fighter', 'transport', 'fighter',\n       'fighter', 'cruiser', 'fighter', 'cruiser', 'transport', 'fighter',\n       'transport', 'cruiser', 'cruiser', 'cruiser', 'cruiser', 'cruiser',\n       'cruiser', 'fighter', 'fighter', 'cruiser', 'transport', 'fighter',\n       'transport', 'transport', 'transport', 'transport', 'transport',\n       'transport', 'fighter', 'transport', 'fighter', 'transport',\n       'fighter', 'fighter', 'cruiser', 'fighter', 'fighter', 'fighter',\n       'fighter', 'fighter', 'fighter', 'fighter', 'cruiser', 'transport',\n       'transport', 'cruiser', 'fighter', 'transport', 'transport',\n       'fighter', 'transport', 'transport', 'fighter', 'fighter',\n       'transport', 'transport', 'cruiser', 'transport', 'fighter',\n       'transport', 'fighter', 'fighter', 'transport', 'cruiser',\n       'transport', 'fighter', 'cruiser', 'transport', 'cruiser',\n       'fighter', 'fighter', 'cruiser', 'transport', 'fighter',\n       'transport', 'transport', 'fighter', 'fighter', 'transport',\n       'fighter', 'transport', 'transport', 'fighter', 'fighter',\n       'transport', 'transport', 'fighter', 'transport', 'cruiser',\n       'transport', 'fighter', 'transport', 'fighter', 'fighter',\n       'fighter', 'transport', 'transport', 'fighter', 'transport',\n       'transport', 'cruiser', 'fighter', 'transport', 'transport',\n       'cruiser', 'fighter', 'transport', 'fighter', 'transport',\n       'cruiser', 'transport', 'fighter', 'transport', 'transport',\n       'fighter', 'fighter', 'cruiser', 'transport', 'transport',\n       'fighter', 'transport', 'fighter', 'fighter', 'transport'],\n      dtype=object)"
     },
     "execution_count": 17,
     "metadata": {},
     "output_type": "execute_result"
    }
   ],
   "source": [
    "encoder = LabelEncoder()\n",
    "encoder.fit(invasion['class'])\n",
    "transformed_shit = encoder.transform(invasion['class'])\n",
    "encoder.inverse_transform(transformed_shit)\n",
    "# transformed_shit"
   ],
   "metadata": {
    "collapsed": false,
    "ExecuteTime": {
     "end_time": "2024-04-06T18:44:13.219843Z",
     "start_time": "2024-04-06T18:44:13.205358Z"
    }
   },
   "id": "9d7440b459ad8071",
   "execution_count": 17
  },
  {
   "cell_type": "code",
   "outputs": [],
   "source": [
    "# invasion['class'] = invasion['class'].replace({'fighter':3, \"transport\":2, \"cruiser\":1})"
   ],
   "metadata": {
    "collapsed": false,
    "ExecuteTime": {
     "end_time": "2024-04-06T18:41:30.411094Z",
     "start_time": "2024-04-06T18:41:30.411094Z"
    }
   },
   "id": "e3b66eead4731914",
   "execution_count": null
  },
  {
   "cell_type": "code",
   "outputs": [],
   "source": [
    "y_train = invasion['class']\n",
    "X_train = invasion.drop('class', axis=1)"
   ],
   "metadata": {
    "collapsed": false,
    "ExecuteTime": {
     "start_time": "2024-04-06T18:41:30.412094Z"
    }
   },
   "id": "fcd075c36c0ab168",
   "execution_count": null
  },
  {
   "cell_type": "code",
   "outputs": [],
   "source": [
    "print(operative_information.shape)\n",
    "operative_information.head()"
   ],
   "metadata": {
    "collapsed": false,
    "ExecuteTime": {
     "start_time": "2024-04-06T18:41:30.413096Z"
    }
   },
   "id": "a1545e31ab77b8fc",
   "execution_count": null
  },
  {
   "cell_type": "code",
   "outputs": [],
   "source": [
    "X_test = operative_information"
   ],
   "metadata": {
    "collapsed": false,
    "ExecuteTime": {
     "start_time": "2024-04-06T18:41:30.415095Z"
    }
   },
   "id": "fb703dbabb38e4a9",
   "execution_count": null
  },
  {
   "cell_type": "code",
   "outputs": [],
   "source": [
    "parameters = {'n_estimators': range(10, 51, 10), 'max_depth': range(1, 13, 2), 'min_samples_split': range(20, 80, 5),\n",
    "              'min_samples_leaf': range(20, 80, 5)}\n",
    "grid = GridSearchCV(RandomForestClassifier(), param_grid=parameters, cv=5)\n",
    "grid.fit(X_train, y_train)"
   ],
   "metadata": {
    "collapsed": false
   },
   "id": "33429272e1e0c3f0",
   "execution_count": null
  },
  {
   "cell_type": "code",
   "outputs": [],
   "source": [
    "grid.best_params_"
   ],
   "metadata": {
    "collapsed": false,
    "ExecuteTime": {
     "start_time": "2024-04-06T18:41:30.417617Z"
    }
   },
   "id": "c34e3a7e4ccc1d38",
   "execution_count": null
  },
  {
   "cell_type": "code",
   "outputs": [],
   "source": [
    "grid.feature_importances_"
   ],
   "metadata": {
    "collapsed": false,
    "ExecuteTime": {
     "start_time": "2024-04-06T18:41:30.418747Z"
    }
   },
   "id": "62c77bad7b3a359b",
   "execution_count": null
  },
  {
   "cell_type": "code",
   "outputs": [],
   "source": [
    "print(grid.classes_)\n",
    "y_predicted_prob = grid.predict_proba(X_test)\n",
    "pd.Series(y_predicted_prob[:, 1]).hist()"
   ],
   "metadata": {
    "collapsed": false
   },
   "id": "6a50ac2cabf76ebb",
   "execution_count": null
  },
  {
   "cell_type": "code",
   "outputs": [],
   "source": [
    "best_model = grid.best_estimator_\n",
    "best_model"
   ],
   "metadata": {
    "collapsed": false,
    "ExecuteTime": {
     "start_time": "2024-04-06T18:41:30.421779Z"
    }
   },
   "id": "4e081fb7d78a88a1",
   "execution_count": null
  },
  {
   "cell_type": "code",
   "outputs": [],
   "source": [
    "pd.DataFrame(data={\"nigga\": best_model.feature_importances_, \"balls\": list(X_train)}).sort_values(by='nigga',\n",
    "                                                                                                  ascending=False)"
   ],
   "metadata": {
    "collapsed": false,
    "ExecuteTime": {
     "start_time": "2024-04-06T18:41:30.422780Z"
    }
   },
   "id": "c39eb39de4654276",
   "execution_count": null
  },
  {
   "cell_type": "code",
   "outputs": [],
   "source": [
    "pd.Series(best_model.predict(X_test)).value_counts()"
   ],
   "metadata": {
    "collapsed": false,
    "ExecuteTime": {
     "start_time": "2024-04-06T18:41:30.423777Z"
    }
   },
   "id": "8d637d5c8b58ac19",
   "execution_count": null
  },
  {
   "cell_type": "code",
   "outputs": [],
   "source": [
    "model = RandomForestClassifier()\n",
    "model.fit(X_train, y_train)"
   ],
   "metadata": {
    "collapsed": false,
    "ExecuteTime": {
     "start_time": "2024-04-06T18:41:30.425065Z"
    }
   },
   "id": "b583742009280fe9",
   "execution_count": null
  },
  {
   "cell_type": "code",
   "outputs": [],
   "source": [
    "model.get_params()"
   ],
   "metadata": {
    "collapsed": false,
    "ExecuteTime": {
     "start_time": "2024-04-06T18:41:30.430105Z"
    }
   },
   "id": "17ec35d456f1c1e1",
   "execution_count": null
  },
  {
   "cell_type": "code",
   "outputs": [],
   "source": [
    "pd.Series(model.predict(X_test)).value_counts()"
   ],
   "metadata": {
    "collapsed": false,
    "ExecuteTime": {
     "start_time": "2024-04-06T18:41:30.431104Z"
    }
   },
   "id": "bd09b0a76beed7b1",
   "execution_count": null
  },
  {
   "cell_type": "code",
   "outputs": [],
   "source": [
    "model.predict_proba(X_test)"
   ],
   "metadata": {
    "collapsed": false
   },
   "id": "94717f7129714e69",
   "execution_count": null
  },
  {
   "cell_type": "code",
   "outputs": [],
   "source": [
    "data = pd.read_csv('space_can_be_a_dangerous_place.csv')\n",
    "data.head()"
   ],
   "metadata": {
    "collapsed": false
   },
   "id": "80f30a18cf83b35a",
   "execution_count": null
  },
  {
   "cell_type": "code",
   "outputs": [],
   "source": [
    "y2_train = data['dangerous']\n",
    "X2_train = data.drop('dangerous', axis=1)"
   ],
   "metadata": {
    "collapsed": false
   },
   "id": "71c507a52c0a5d7e"
  },
  {
   "cell_type": "code",
   "outputs": [],
   "source": [
    "cls = RandomForestClassifier()\n",
    "cls.fit(X2_train, y2_train)"
   ],
   "metadata": {
    "collapsed": false,
    "ExecuteTime": {
     "start_time": "2024-04-06T18:41:30.437653Z"
    }
   },
   "id": "f18f1df22331c870",
   "execution_count": null
  },
  {
   "cell_type": "code",
   "outputs": [],
   "source": [
    "pd.DataFrame(data={\"nigga\": cls.feature_importances_, \"balls\": list(X2_train)}).sort_values(by='nigga',\n",
    "                                                                                                  ascending=False)"
   ],
   "metadata": {
    "collapsed": false,
    "ExecuteTime": {
     "start_time": "2024-04-06T18:41:30.438893Z"
    }
   },
   "id": "3818d441acbdb58b",
   "execution_count": null
  },
  {
   "cell_type": "code",
   "outputs": [],
   "source": [
    "import seaborn as sns\n",
    "sns.heatmap(data.corr(), annot=True)"
   ],
   "metadata": {
    "collapsed": false
   },
   "id": "a0dbf616d713ee8",
   "execution_count": null
  }
 ],
 "metadata": {
  "kernelspec": {
   "display_name": "Python 3",
   "language": "python",
   "name": "python3"
  },
  "language_info": {
   "codemirror_mode": {
    "name": "ipython",
    "version": 2
   },
   "file_extension": ".py",
   "mimetype": "text/x-python",
   "name": "python",
   "nbconvert_exporter": "python",
   "pygments_lexer": "ipython2",
   "version": "2.7.6"
  }
 },
 "nbformat": 4,
 "nbformat_minor": 5
}
