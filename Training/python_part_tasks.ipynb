{
 "cells": [
  {
   "cell_type": "code",
   "execution_count": null,
   "id": "initial_id",
   "metadata": {
    "collapsed": true
   },
   "outputs": [],
   "source": [
    "import pandas as pd"
   ]
  },
  {
   "cell_type": "code",
   "outputs": [],
   "source": [
    "data = pd.read_csv(\"https://stepik.org/media/attachments/course/4852/dota_hero_stats.csv\", index_col=0)\n",
    "data.head()"
   ],
   "metadata": {
    "collapsed": false
   },
   "id": "12858efccdfae6fa",
   "execution_count": null
  },
  {
   "cell_type": "code",
   "outputs": [],
   "source": [
    "data.groupby(\"legs\").agg({\"legs\": \"count\"}).rename(columns={\"legs\": \"count\"}, inplace=True)"
   ],
   "metadata": {
    "collapsed": false
   },
   "id": "c86482f1b2be8ff7",
   "execution_count": null
  },
  {
   "cell_type": "code",
   "outputs": [],
   "source": [
    "data = pd.read_csv(\"https://stepik.org/media/attachments/course/4852/accountancy.csv\", index_col=0)\n",
    "data.head()"
   ],
   "metadata": {
    "collapsed": false
   },
   "id": "c0612524fe7ebd6e",
   "execution_count": null
  },
  {
   "cell_type": "code",
   "outputs": [],
   "source": [
    "(data.groupby(['Type', 'Executor'], as_index=False).Salary.mean()).groupby('Type', as_index=False).apply(\n",
    "    lambda x: x.nlargest(1, 'Salary')).reset_index(drop=True)"
   ],
   "metadata": {
    "collapsed": false
   },
   "id": "a27299af2eb354ef",
   "execution_count": null
  },
  {
   "cell_type": "code",
   "outputs": [],
   "source": [
    "data = pd.read_csv(\"https://stepik.org/media/attachments/course/4852/dota_hero_stats.csv\", index_col=0)\n",
    "data.head()"
   ],
   "metadata": {
    "collapsed": false
   },
   "id": "24cbfae7cf662e1f",
   "execution_count": null
  },
  {
   "cell_type": "code",
   "outputs": [],
   "source": [
    "(data.groupby(['attack_type', 'primary_attr'], as_index=False).id.count().rename(columns={'id': 'count'}).nlargest(1,\n",
    "                                                                                                                   'count'))"
   ],
   "metadata": {
    "collapsed": false
   },
   "id": "51b55334eeecec81",
   "execution_count": null
  },
  {
   "cell_type": "code",
   "outputs": [],
   "source": [
    "data = pd.read_csv('http://stepik.org/media/attachments/course/4852/algae.csv')\n",
    "data.head(10)\n",
    "data.columns"
   ],
   "metadata": {
    "collapsed": false
   },
   "id": "c52cc6948ade8ac1",
   "execution_count": null
  },
  {
   "cell_type": "code",
   "outputs": [],
   "source": [
    "data.groupby(['genus']).agg(min=pd.NamedAgg(column='alanin', aggfunc='min') ,\n",
    "                            mean=pd.NamedAgg(column='alanin', aggfunc='mean'),\n",
    "                            max=pd.NamedAgg(column='alanin', aggfunc='max')).loc['Fucus'].round(2)"
   ],
   "metadata": {
    "collapsed": false
   },
   "id": "d3214573c926d954",
   "execution_count": null
  },
  {
   "cell_type": "code",
   "outputs": [],
   "source": [
    "data.groupby('group').agg(cnt=pd.NamedAgg(column='genus', aggfunc=lambda x: x.count()),\n",
    "                          sucrose_scope=pd.NamedAgg(column='sucrose', aggfunc=lambda x: x.max() - x.min()),\n",
    "                          variability=pd.NamedAgg(column='citrate', aggfunc=\"var\")).round(2)"
   ],
   "metadata": {
    "collapsed": false
   },
   "id": "a316998db08fba75",
   "execution_count": null
  },
  {
   "cell_type": "code",
   "outputs": [],
   "source": [
    "df = pd.read_csv('https://stepik.org/media/attachments/course/4852/income.csv')\n",
    "df"
   ],
   "metadata": {
    "collapsed": false
   },
   "id": "922bcf537e0adab1",
   "execution_count": null
  },
  {
   "cell_type": "code",
   "outputs": [],
   "source": [
    "# df['income'].plot()\n",
    "# plt.plot(df.index, df.income)\n",
    "# sns.lineplot(data=df)\n",
    "# df.plot(kind='line')\n",
    "# sns.lineplot(x=df.index, y=df.income)\n",
    "# df.plot()\n",
    "# df.income.plot() "
   ],
   "metadata": {
    "collapsed": false
   },
   "id": "38ff3c341d826a5b",
   "execution_count": null
  },
  {
   "cell_type": "code",
   "outputs": [],
   "source": [
    "data = pd.read_csv('dataset_209770_6.txt')\n",
    "data_split = data[\"x y\"].str.split(' ', expand=True)\n",
    "data['x'], data['y'] = data_split[0], data_split[1]\n",
    "data.drop(['x y'], inplace=True, axis=1)\n",
    "data"
   ],
   "metadata": {
    "collapsed": false
   },
   "id": "9c60d725054b1d39",
   "execution_count": null
  },
  {
   "cell_type": "code",
   "outputs": [],
   "source": [
    "data = pd.read_csv('dataset_209770_6.txt', sep=\" \")\n",
    "data.plot(kind='scatter', x='x', y='y')"
   ],
   "metadata": {
    "collapsed": false
   },
   "id": "e4fca769f7d52671",
   "execution_count": null
  },
  {
   "cell_type": "code",
   "outputs": [],
   "source": [
    "import seaborn as sns\n",
    "\n",
    "data = pd.read_csv('https://stepik.org/media/attachments/course/4852/genome_matrix.csv', index_col=0)\n",
    "g = sns.heatmap(data, cmap=\"viridis\")\n",
    "g.xaxis.set_ticks_position('top')\n",
    "g.xaxis.set_tick_params(rotation=90)"
   ],
   "metadata": {
    "collapsed": false
   },
   "id": "56e902c1ab639a89",
   "execution_count": null
  },
  {
   "cell_type": "code",
   "outputs": [],
   "source": [
    "data = pd.read_csv('https://stepik.org/media/attachments/course/4852/dota_hero_stats.csv', index_col=0)\n",
    "data = data[['localized_name', 'roles']]\n",
    "# data.roles.astype('list')\n",
    "data['roles_count'] = data['roles'].apply(lambda x: len(x.split(',')))\n",
    "# data = data[['localized_name', 'roles_count']]\n",
    "# data\n",
    "# data.groupby(['localized_name']).agg(count=pd.NamedAgg(column='roles', aggfunc=lambda x: len(x['roles'])))\n",
    "sns.histplot(data=data['roles_count'], stat='count')"
   ],
   "metadata": {
    "collapsed": false
   },
   "id": "e3fd04a77affbf8d",
   "execution_count": null
  },
  {
   "cell_type": "code",
   "outputs": [],
   "source": [
    "import pandas as pd\n",
    "\n",
    "# Создание DataFrame с данными\n",
    "data = {'ArrayColumn': [[1, 2, 3], [4, 5], [6, 7, 8, 9], [10]]}\n",
    "df = pd.DataFrame(data)\n",
    "print(df)\n",
    "\n",
    "\n",
    "# Функция для вычисления длины массива\n",
    "def get_array_length(arr):\n",
    "    return len(arr)\n",
    "\n",
    "\n",
    "# Создание нового столбца с длинами массивов\n",
    "df['ArrayLength'] = df['ArrayColumn'].apply(lambda x: len(x))\n",
    "\n",
    "print(df)"
   ],
   "metadata": {
    "collapsed": false
   },
   "id": "91f92f10440037c4",
   "execution_count": null
  },
  {
   "cell_type": "code",
   "outputs": [],
   "source": [
    "data = pd.read_csv('https://stepik.org/media/attachments/course/4852/iris.csv', index_col=0)\n",
    "data_long = pd.melt(frame=data, id_vars=['species'],\n",
    "               value_vars=['sepal length', 'sepal width', 'petal length', 'petal width'],\n",
    "               var_name='data_type', value_name='value')\n",
    "sns.displot(data=data_long, hue='data_type', x='value', kde=True)\n",
    "# sns.histplot(data=data['sepal length'], kde=True)\n",
    "# for column in data:\n",
    "#     sns.histplot(data=column)"
   ],
   "metadata": {
    "collapsed": false
   },
   "id": "7149da2a9c67811b",
   "execution_count": null
  },
  {
   "cell_type": "code",
   "outputs": [],
   "source": [
    "sns.violinplot(data=data['sepal width'])"
   ],
   "metadata": {
    "collapsed": false
   },
   "id": "7c39040aa7792b4d",
   "execution_count": null
  },
  {
   "cell_type": "code",
   "outputs": [],
   "source": [
    "sns.pairplot(data=data.drop('species',axis=1))\n",
    "data.drop('species',axis=1).corr()"
   ],
   "metadata": {
    "collapsed": false
   },
   "id": "33c3e66533b33cf6",
   "execution_count": null
  }
 ],
 "metadata": {
  "kernelspec": {
   "display_name": "Python 3",
   "language": "python",
   "name": "python3"
  },
  "language_info": {
   "codemirror_mode": {
    "name": "ipython",
    "version": 2
   },
   "file_extension": ".py",
   "mimetype": "text/x-python",
   "name": "python",
   "nbconvert_exporter": "python",
   "pygments_lexer": "ipython2",
   "version": "2.7.6"
  }
 },
 "nbformat": 4,
 "nbformat_minor": 5
}
