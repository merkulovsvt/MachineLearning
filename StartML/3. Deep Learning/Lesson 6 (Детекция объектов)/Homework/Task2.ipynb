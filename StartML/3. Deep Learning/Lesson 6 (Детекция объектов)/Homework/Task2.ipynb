{
 "cells": [
  {
   "metadata": {
    "ExecuteTime": {
     "end_time": "2024-11-06T11:15:48.585107Z",
     "start_time": "2024-11-06T11:15:48.569955Z"
    }
   },
   "cell_type": "code",
   "source": [
    "import numpy as np\n",
    "import torch\n",
    "from torch import Tensor"
   ],
   "id": "5b888f4702ebfb31",
   "outputs": [],
   "execution_count": 48
  },
  {
   "cell_type": "code",
   "id": "initial_id",
   "metadata": {
    "collapsed": true,
    "ExecuteTime": {
     "end_time": "2024-11-06T11:15:48.677904Z",
     "start_time": "2024-11-06T11:15:48.665756Z"
    }
   },
   "source": [
    "y_pred = Tensor([\n",
    "    [1, 1, 2, 2, 2],\n",
    "    [1, 1, 2, 1, 2],\n",
    "    [1, 0, 0, 0, 0],\n",
    "    [2, 2, 2, 0, 0],\n",
    "    [2, 1, 1, 1, 2]\n",
    "]).flatten()\n",
    "\n",
    "y_true = Tensor([\n",
    "    [1, 1, 1, 2, 2],\n",
    "    [1, 1, 1, 2, 2],\n",
    "    [1, 1, 1, 2, 2],\n",
    "    [0, 0, 0, 2, 2],\n",
    "    [0, 0, 0, 2, 2]\n",
    "]).flatten()"
   ],
   "outputs": [],
   "execution_count": 49
  },
  {
   "metadata": {
    "ExecuteTime": {
     "end_time": "2024-11-06T11:15:48.786226Z",
     "start_time": "2024-11-06T11:15:48.761681Z"
    }
   },
   "cell_type": "code",
   "source": [
    "res = np.array([])\n",
    "\n",
    "r1 = torch.logical_and(y_true == 0, y_pred == 0).sum()\n",
    "r2 = torch.logical_or(y_true == 0, y_pred == 0).sum()\n",
    "\n",
    "res = np.append(res, r1 / r2)"
   ],
   "id": "d011c497f3c727df",
   "outputs": [],
   "execution_count": 50
  },
  {
   "metadata": {
    "ExecuteTime": {
     "end_time": "2024-11-06T11:15:48.847082Z",
     "start_time": "2024-11-06T11:15:48.825175Z"
    }
   },
   "cell_type": "code",
   "source": [
    "r1 = torch.logical_and(y_true == 1, y_pred == 1).sum()\n",
    "r2 = torch.logical_or(y_true == 1, y_pred == 1).sum()\n",
    "\n",
    "res = np.append(res, r1 / r2)"
   ],
   "id": "97ad558bc8d42999",
   "outputs": [],
   "execution_count": 51
  },
  {
   "metadata": {
    "ExecuteTime": {
     "end_time": "2024-11-06T11:15:48.894750Z",
     "start_time": "2024-11-06T11:15:48.873533Z"
    }
   },
   "cell_type": "code",
   "source": [
    "r1 = torch.logical_and(y_true == 2, y_pred == 2).sum()\n",
    "r2 = torch.logical_or(y_true == 2, y_pred == 2).sum()\n",
    "\n",
    "res = np.append(res, r1 / r2)"
   ],
   "id": "f338d0e3d92141",
   "outputs": [],
   "execution_count": 52
  },
  {
   "metadata": {
    "ExecuteTime": {
     "end_time": "2024-11-06T11:15:49.063978Z",
     "start_time": "2024-11-06T11:15:49.045206Z"
    }
   },
   "cell_type": "code",
   "source": "res.mean().round(4)",
   "id": "a6211f22e844fc75",
   "outputs": [
    {
     "data": {
      "text/plain": [
       "0.2115"
      ]
     },
     "execution_count": 53,
     "metadata": {},
     "output_type": "execute_result"
    }
   ],
   "execution_count": 53
  }
 ],
 "metadata": {
  "kernelspec": {
   "display_name": "Python 3",
   "language": "python",
   "name": "python3"
  },
  "language_info": {
   "codemirror_mode": {
    "name": "ipython",
    "version": 2
   },
   "file_extension": ".py",
   "mimetype": "text/x-python",
   "name": "python",
   "nbconvert_exporter": "python",
   "pygments_lexer": "ipython2",
   "version": "2.7.6"
  }
 },
 "nbformat": 4,
 "nbformat_minor": 5
}
