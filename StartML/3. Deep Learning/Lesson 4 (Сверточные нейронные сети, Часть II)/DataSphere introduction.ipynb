{
 "cells": [
  {
   "cell_type": "markdown",
   "id": "32c72f13",
   "metadata": {
    "cellId": "k1rdcpvtxne1uzrrqw40fk",
    "pycharm": {
     "name": "#%% md\n"
    }
   },
   "source": [
    "Не забываем поставить в докере нужный докер для проекта!\n",
    "\n",
    "Ставим `Repository` любой (например, `torch_image`), `tag` любой, например `1.0.0`, полностью убираем текст в докерфайле и заменяем на `FROM cr.yandex/crpno025j55b8v0aouc3/startml-dl:latest`\n",
    "\n",
    "Работа с git: https://cloud.yandex.ru/docs/datasphere/operations/projects/work-with-git\n",
    "\n",
    "Фоновые операции: https://cloud.yandex.ru/docs/datasphere/concepts/async"
   ]
  },
  {
   "cell_type": "code",
   "execution_count": null,
   "id": "73282ef1",
   "metadata": {
    "cellId": "e9xvd424r37gissryab4r",
    "pycharm": {
     "name": "#%%\n"
    }
   },
   "outputs": [],
   "source": [
    "import torch"
   ]
  },
  {
   "cell_type": "code",
   "execution_count": null,
   "id": "5468da6b",
   "metadata": {
    "cellId": "5qqp3s7fntlygtot74hnzs",
    "pycharm": {
     "name": "#%%\n"
    }
   },
   "outputs": [],
   "source": [
    "#!g1.1\n",
    "print(torch.cuda.is_available())\n",
    "print(torch.cuda.get_device_name())\n",
    "\n",
    "device = torch.device('cuda:0' if torch.cuda.is_available() else 'cpu')\n",
    "\n",
    "print(device)"
   ]
  },
  {
   "cell_type": "code",
   "execution_count": 4,
   "id": "b0c6a4a1",
   "metadata": {
    "cellId": "hlu183tukfaqm4862gft7",
    "pycharm": {
     "name": "#%%\n"
    }
   },
   "outputs": [
    {
     "data": {
      "application/vnd.jupyter.widget-view+json": {
       "model_id": "97da57a67f2442a78ff162afb68d1fe3",
       "version_major": 2,
       "version_minor": 0
      },
      "text/plain": [
       "  0%|          | 0/9912422 [00:00<?, ?it/s]"
      ]
     },
     "metadata": {},
     "output_type": "display_data"
    },
    {
     "data": {
      "application/vnd.jupyter.widget-view+json": {
       "model_id": "08b6191fdd6e4b8498b177c1e9d585a0",
       "version_major": 2,
       "version_minor": 0
      },
      "text/plain": [
       "  0%|          | 0/28881 [00:00<?, ?it/s]"
      ]
     },
     "metadata": {},
     "output_type": "display_data"
    },
    {
     "data": {
      "application/vnd.jupyter.widget-view+json": {
       "model_id": "af6d98d8e3324771821eeb963405b7aa",
       "version_major": 2,
       "version_minor": 0
      },
      "text/plain": [
       "  0%|          | 0/1648877 [00:00<?, ?it/s]"
      ]
     },
     "metadata": {},
     "output_type": "display_data"
    },
    {
     "data": {
      "application/vnd.jupyter.widget-view+json": {
       "model_id": "0007278d5c894e5389adb2cfbdc45846",
       "version_major": 2,
       "version_minor": 0
      },
      "text/plain": [
       "  0%|          | 0/4542 [00:00<?, ?it/s]"
      ]
     },
     "metadata": {},
     "output_type": "display_data"
    },
    {
     "name": "stdout",
     "output_type": "stream",
     "text": [
      "Background cell scheduled. Waiting for foreground cells to finish commits\n",
      "Preparing c1.4 instance...\n",
      "c1.4 instance is ready, running task...\n",
      "Downloading http://yann.lecun.com/exdb/mnist/train-images-idx3-ubyte.gz\n",
      "Downloading http://yann.lecun.com/exdb/mnist/train-images-idx3-ubyte.gz to /home/jupyter/mnt/datasets/mnist/MNIST/raw/train-images-idx3-ubyte.gz\n",
      "Extracting /home/jupyter/mnt/datasets/mnist/MNIST/raw/train-images-idx3-ubyte.gz to /home/jupyter/mnt/datasets/mnist/MNIST/raw\n",
      "\n",
      "Downloading http://yann.lecun.com/exdb/mnist/train-labels-idx1-ubyte.gz\n",
      "Downloading http://yann.lecun.com/exdb/mnist/train-labels-idx1-ubyte.gz to /home/jupyter/mnt/datasets/mnist/MNIST/raw/train-labels-idx1-ubyte.gz\n",
      "Extracting /home/jupyter/mnt/datasets/mnist/MNIST/raw/train-labels-idx1-ubyte.gz to /home/jupyter/mnt/datasets/mnist/MNIST/raw\n",
      "\n",
      "Downloading http://yann.lecun.com/exdb/mnist/t10k-images-idx3-ubyte.gz\n",
      "Downloading http://yann.lecun.com/exdb/mnist/t10k-images-idx3-ubyte.gz to /home/jupyter/mnt/datasets/mnist/MNIST/raw/t10k-images-idx3-ubyte.gz\n",
      "Extracting /home/jupyter/mnt/datasets/mnist/MNIST/raw/t10k-images-idx3-ubyte.gz to /home/jupyter/mnt/datasets/mnist/MNIST/raw\n",
      "\n",
      "Downloading http://yann.lecun.com/exdb/mnist/t10k-labels-idx1-ubyte.gz\n",
      "Downloading http://yann.lecun.com/exdb/mnist/t10k-labels-idx1-ubyte.gz to /home/jupyter/mnt/datasets/mnist/MNIST/raw/t10k-labels-idx1-ubyte.gz\n",
      "Extracting /home/jupyter/mnt/datasets/mnist/MNIST/raw/t10k-labels-idx1-ubyte.gz to /home/jupyter/mnt/datasets/mnist/MNIST/raw\n",
      "\n",
      "Task is done, waiting for foreground cells to finish...\n",
      "It's init dataset task. State result won't be merged.\n"
     ]
    }
   ],
   "source": [
    "#pragma dataset init mnist --size 1Gb\n",
    "from torchvision.datasets import MNIST\n",
    "\n",
    "mnist = MNIST('/home/jupyter/mnt/datasets/mnist', download=True)"
   ]
  },
  {
   "cell_type": "code",
   "execution_count": 6,
   "id": "6eb043e8",
   "metadata": {
    "cellId": "t6nux9plppefbwi4zn5pjp",
    "pycharm": {
     "name": "#%%\n"
    }
   },
   "outputs": [
    {
     "data": {
      "application/vnd.jupyter.widget-view+json": {
       "model_id": "227fa0efa7f6469f85e625b2f4ad6480",
       "version_major": 2,
       "version_minor": 0
      },
      "text/plain": [
       "  0%|          | 0/170498071 [00:00<?, ?it/s]"
      ]
     },
     "metadata": {},
     "output_type": "display_data"
    },
    {
     "name": "stdout",
     "output_type": "stream",
     "text": [
      "Background cell scheduled. Waiting for foreground cells to finish commits\n",
      "Preparing c1.4 instance...\n",
      "c1.4 instance is ready, running task...\n",
      "Downloading https://www.cs.toronto.edu/~kriz/cifar-10-python.tar.gz to /home/jupyter/mnt/datasets/cifar10/cifar-10-python.tar.gz\n",
      "Extracting /home/jupyter/mnt/datasets/cifar10/cifar-10-python.tar.gz to /home/jupyter/mnt/datasets/cifar10\n",
      "Mounting dataset cifar10... /home/jupyter/mnt/datasets/cifar10\n",
      "Task is done, waiting for foreground cells to finish...\n",
      "It's init dataset task. State result won't be merged.\n"
     ]
    }
   ],
   "source": [
    "#pragma dataset init cifar10 --size 1Gb\n",
    "from torchvision.datasets import CIFAR10\n",
    "\n",
    "cifar = CIFAR10('/home/jupyter/mnt/datasets/cifar10', download=True)"
   ]
  },
  {
   "cell_type": "code",
   "execution_count": 3,
   "id": "e4f760bd",
   "metadata": {
    "cellId": "bwpuqzp2cfmyw02nmytvd8",
    "pycharm": {
     "name": "#%%\n"
    }
   },
   "outputs": [
    {
     "name": "stdout",
     "output_type": "stream",
     "text": [
      "Mounting dataset mnist... /home/jupyter/mnt/datasets/mnist\n",
      "Datasets:\n",
      "mnist\t/home/jupyter/mnt/datasets/mnist\t1GB\n"
     ]
    }
   ],
   "source": [
    "#pragma datasets list"
   ]
  },
  {
   "cell_type": "code",
   "execution_count": null,
   "id": "db295757",
   "metadata": {
    "cellId": "ce04lfnme5e2anlnfiednf",
    "pycharm": {
     "name": "#%%\n"
    }
   },
   "outputs": [],
   "source": [
    "from torchvision.datasets import CIFAR10\n",
    "\n",
    "cifar = CIFAR10('/home/jupyter/mnt/datasets/cifar10')"
   ]
  }
 ],
 "metadata": {
  "kernelspec": {
   "display_name": "Yandex DataSphere Kernel",
   "language": "python",
   "name": "python3"
  },
  "language_info": {
   "codemirror_mode": {
    "name": "ipython",
    "version": 3
   },
   "file_extension": ".py",
   "mimetype": "text/x-python",
   "name": "python",
   "nbconvert_exporter": "python",
   "pygments_lexer": "ipython3",
   "version": "3.7.7"
  },
  "notebookId": "7d7a1a7d-80e8-42c2-8c93-a2a1ab3a11ed",
  "notebookPath": "DataSphere introduction.ipynb"
 },
 "nbformat": 4,
 "nbformat_minor": 5
}