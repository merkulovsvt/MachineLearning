{
 "cells": [
  {
   "cell_type": "code",
   "id": "initial_id",
   "metadata": {
    "collapsed": true,
    "ExecuteTime": {
     "end_time": "2024-10-25T10:18:57.372142Z",
     "start_time": "2024-10-25T10:18:57.351227Z"
    }
   },
   "source": [
    "import pandas as pd\n",
    "from sklearn.datasets import fetch_california_housing\n",
    "\n",
    "data = fetch_california_housing(as_frame=True, return_X_y=True)\n",
    "df, target = data[0], data[1]"
   ],
   "outputs": [],
   "execution_count": 115
  },
  {
   "metadata": {
    "ExecuteTime": {
     "end_time": "2024-10-25T10:18:57.512933Z",
     "start_time": "2024-10-25T10:18:57.495310Z"
    }
   },
   "cell_type": "code",
   "source": "df.head()",
   "id": "d538c60b702efd88",
   "outputs": [
    {
     "data": {
      "text/plain": [
       "   MedInc  HouseAge  AveRooms  AveBedrms  Population  AveOccup  Latitude  \\\n",
       "0  8.3252      41.0  6.984127   1.023810       322.0  2.555556     37.88   \n",
       "1  8.3014      21.0  6.238137   0.971880      2401.0  2.109842     37.86   \n",
       "2  7.2574      52.0  8.288136   1.073446       496.0  2.802260     37.85   \n",
       "3  5.6431      52.0  5.817352   1.073059       558.0  2.547945     37.85   \n",
       "4  3.8462      52.0  6.281853   1.081081       565.0  2.181467     37.85   \n",
       "\n",
       "   Longitude  \n",
       "0    -122.23  \n",
       "1    -122.22  \n",
       "2    -122.24  \n",
       "3    -122.25  \n",
       "4    -122.25  "
      ],
      "text/html": [
       "<div>\n",
       "<style scoped>\n",
       "    .dataframe tbody tr th:only-of-type {\n",
       "        vertical-align: middle;\n",
       "    }\n",
       "\n",
       "    .dataframe tbody tr th {\n",
       "        vertical-align: top;\n",
       "    }\n",
       "\n",
       "    .dataframe thead th {\n",
       "        text-align: right;\n",
       "    }\n",
       "</style>\n",
       "<table border=\"1\" class=\"dataframe\">\n",
       "  <thead>\n",
       "    <tr style=\"text-align: right;\">\n",
       "      <th></th>\n",
       "      <th>MedInc</th>\n",
       "      <th>HouseAge</th>\n",
       "      <th>AveRooms</th>\n",
       "      <th>AveBedrms</th>\n",
       "      <th>Population</th>\n",
       "      <th>AveOccup</th>\n",
       "      <th>Latitude</th>\n",
       "      <th>Longitude</th>\n",
       "    </tr>\n",
       "  </thead>\n",
       "  <tbody>\n",
       "    <tr>\n",
       "      <th>0</th>\n",
       "      <td>8.3252</td>\n",
       "      <td>41.0</td>\n",
       "      <td>6.984127</td>\n",
       "      <td>1.023810</td>\n",
       "      <td>322.0</td>\n",
       "      <td>2.555556</td>\n",
       "      <td>37.88</td>\n",
       "      <td>-122.23</td>\n",
       "    </tr>\n",
       "    <tr>\n",
       "      <th>1</th>\n",
       "      <td>8.3014</td>\n",
       "      <td>21.0</td>\n",
       "      <td>6.238137</td>\n",
       "      <td>0.971880</td>\n",
       "      <td>2401.0</td>\n",
       "      <td>2.109842</td>\n",
       "      <td>37.86</td>\n",
       "      <td>-122.22</td>\n",
       "    </tr>\n",
       "    <tr>\n",
       "      <th>2</th>\n",
       "      <td>7.2574</td>\n",
       "      <td>52.0</td>\n",
       "      <td>8.288136</td>\n",
       "      <td>1.073446</td>\n",
       "      <td>496.0</td>\n",
       "      <td>2.802260</td>\n",
       "      <td>37.85</td>\n",
       "      <td>-122.24</td>\n",
       "    </tr>\n",
       "    <tr>\n",
       "      <th>3</th>\n",
       "      <td>5.6431</td>\n",
       "      <td>52.0</td>\n",
       "      <td>5.817352</td>\n",
       "      <td>1.073059</td>\n",
       "      <td>558.0</td>\n",
       "      <td>2.547945</td>\n",
       "      <td>37.85</td>\n",
       "      <td>-122.25</td>\n",
       "    </tr>\n",
       "    <tr>\n",
       "      <th>4</th>\n",
       "      <td>3.8462</td>\n",
       "      <td>52.0</td>\n",
       "      <td>6.281853</td>\n",
       "      <td>1.081081</td>\n",
       "      <td>565.0</td>\n",
       "      <td>2.181467</td>\n",
       "      <td>37.85</td>\n",
       "      <td>-122.25</td>\n",
       "    </tr>\n",
       "  </tbody>\n",
       "</table>\n",
       "</div>"
      ]
     },
     "execution_count": 116,
     "metadata": {},
     "output_type": "execute_result"
    }
   ],
   "execution_count": 116
  },
  {
   "metadata": {
    "ExecuteTime": {
     "end_time": "2024-10-25T10:18:57.698705Z",
     "start_time": "2024-10-25T10:18:57.684844Z"
    }
   },
   "cell_type": "code",
   "source": "target.head()",
   "id": "a848a36ab1cb09e9",
   "outputs": [
    {
     "data": {
      "text/plain": [
       "0    4.526\n",
       "1    3.585\n",
       "2    3.521\n",
       "3    3.413\n",
       "4    3.422\n",
       "Name: MedHouseVal, dtype: float64"
      ]
     },
     "execution_count": 117,
     "metadata": {},
     "output_type": "execute_result"
    }
   ],
   "execution_count": 117
  },
  {
   "metadata": {
    "ExecuteTime": {
     "end_time": "2024-10-25T10:18:57.853962Z",
     "start_time": "2024-10-25T10:18:57.824958Z"
    }
   },
   "cell_type": "code",
   "source": "df.describe()",
   "id": "439173bd02ffd73c",
   "outputs": [
    {
     "data": {
      "text/plain": [
       "             MedInc      HouseAge      AveRooms     AveBedrms    Population  \\\n",
       "count  20640.000000  20640.000000  20640.000000  20640.000000  20640.000000   \n",
       "mean       3.870671     28.639486      5.429000      1.096675   1425.476744   \n",
       "std        1.899822     12.585558      2.474173      0.473911   1132.462122   \n",
       "min        0.499900      1.000000      0.846154      0.333333      3.000000   \n",
       "25%        2.563400     18.000000      4.440716      1.006079    787.000000   \n",
       "50%        3.534800     29.000000      5.229129      1.048780   1166.000000   \n",
       "75%        4.743250     37.000000      6.052381      1.099526   1725.000000   \n",
       "max       15.000100     52.000000    141.909091     34.066667  35682.000000   \n",
       "\n",
       "           AveOccup      Latitude     Longitude  \n",
       "count  20640.000000  20640.000000  20640.000000  \n",
       "mean       3.070655     35.631861   -119.569704  \n",
       "std       10.386050      2.135952      2.003532  \n",
       "min        0.692308     32.540000   -124.350000  \n",
       "25%        2.429741     33.930000   -121.800000  \n",
       "50%        2.818116     34.260000   -118.490000  \n",
       "75%        3.282261     37.710000   -118.010000  \n",
       "max     1243.333333     41.950000   -114.310000  "
      ],
      "text/html": [
       "<div>\n",
       "<style scoped>\n",
       "    .dataframe tbody tr th:only-of-type {\n",
       "        vertical-align: middle;\n",
       "    }\n",
       "\n",
       "    .dataframe tbody tr th {\n",
       "        vertical-align: top;\n",
       "    }\n",
       "\n",
       "    .dataframe thead th {\n",
       "        text-align: right;\n",
       "    }\n",
       "</style>\n",
       "<table border=\"1\" class=\"dataframe\">\n",
       "  <thead>\n",
       "    <tr style=\"text-align: right;\">\n",
       "      <th></th>\n",
       "      <th>MedInc</th>\n",
       "      <th>HouseAge</th>\n",
       "      <th>AveRooms</th>\n",
       "      <th>AveBedrms</th>\n",
       "      <th>Population</th>\n",
       "      <th>AveOccup</th>\n",
       "      <th>Latitude</th>\n",
       "      <th>Longitude</th>\n",
       "    </tr>\n",
       "  </thead>\n",
       "  <tbody>\n",
       "    <tr>\n",
       "      <th>count</th>\n",
       "      <td>20640.000000</td>\n",
       "      <td>20640.000000</td>\n",
       "      <td>20640.000000</td>\n",
       "      <td>20640.000000</td>\n",
       "      <td>20640.000000</td>\n",
       "      <td>20640.000000</td>\n",
       "      <td>20640.000000</td>\n",
       "      <td>20640.000000</td>\n",
       "    </tr>\n",
       "    <tr>\n",
       "      <th>mean</th>\n",
       "      <td>3.870671</td>\n",
       "      <td>28.639486</td>\n",
       "      <td>5.429000</td>\n",
       "      <td>1.096675</td>\n",
       "      <td>1425.476744</td>\n",
       "      <td>3.070655</td>\n",
       "      <td>35.631861</td>\n",
       "      <td>-119.569704</td>\n",
       "    </tr>\n",
       "    <tr>\n",
       "      <th>std</th>\n",
       "      <td>1.899822</td>\n",
       "      <td>12.585558</td>\n",
       "      <td>2.474173</td>\n",
       "      <td>0.473911</td>\n",
       "      <td>1132.462122</td>\n",
       "      <td>10.386050</td>\n",
       "      <td>2.135952</td>\n",
       "      <td>2.003532</td>\n",
       "    </tr>\n",
       "    <tr>\n",
       "      <th>min</th>\n",
       "      <td>0.499900</td>\n",
       "      <td>1.000000</td>\n",
       "      <td>0.846154</td>\n",
       "      <td>0.333333</td>\n",
       "      <td>3.000000</td>\n",
       "      <td>0.692308</td>\n",
       "      <td>32.540000</td>\n",
       "      <td>-124.350000</td>\n",
       "    </tr>\n",
       "    <tr>\n",
       "      <th>25%</th>\n",
       "      <td>2.563400</td>\n",
       "      <td>18.000000</td>\n",
       "      <td>4.440716</td>\n",
       "      <td>1.006079</td>\n",
       "      <td>787.000000</td>\n",
       "      <td>2.429741</td>\n",
       "      <td>33.930000</td>\n",
       "      <td>-121.800000</td>\n",
       "    </tr>\n",
       "    <tr>\n",
       "      <th>50%</th>\n",
       "      <td>3.534800</td>\n",
       "      <td>29.000000</td>\n",
       "      <td>5.229129</td>\n",
       "      <td>1.048780</td>\n",
       "      <td>1166.000000</td>\n",
       "      <td>2.818116</td>\n",
       "      <td>34.260000</td>\n",
       "      <td>-118.490000</td>\n",
       "    </tr>\n",
       "    <tr>\n",
       "      <th>75%</th>\n",
       "      <td>4.743250</td>\n",
       "      <td>37.000000</td>\n",
       "      <td>6.052381</td>\n",
       "      <td>1.099526</td>\n",
       "      <td>1725.000000</td>\n",
       "      <td>3.282261</td>\n",
       "      <td>37.710000</td>\n",
       "      <td>-118.010000</td>\n",
       "    </tr>\n",
       "    <tr>\n",
       "      <th>max</th>\n",
       "      <td>15.000100</td>\n",
       "      <td>52.000000</td>\n",
       "      <td>141.909091</td>\n",
       "      <td>34.066667</td>\n",
       "      <td>35682.000000</td>\n",
       "      <td>1243.333333</td>\n",
       "      <td>41.950000</td>\n",
       "      <td>-114.310000</td>\n",
       "    </tr>\n",
       "  </tbody>\n",
       "</table>\n",
       "</div>"
      ]
     },
     "execution_count": 118,
     "metadata": {},
     "output_type": "execute_result"
    }
   ],
   "execution_count": 118
  },
  {
   "metadata": {
    "ExecuteTime": {
     "end_time": "2024-10-25T10:18:58.651857Z",
     "start_time": "2024-10-25T10:18:58.637463Z"
    }
   },
   "cell_type": "code",
   "source": "df.MedInc.value_counts().sort_values(ascending=False)",
   "id": "8137482bb27b56b",
   "outputs": [
    {
     "data": {
      "text/plain": [
       "MedInc\n",
       "3.1250     49\n",
       "15.0001    49\n",
       "2.8750     46\n",
       "2.6250     44\n",
       "4.1250     44\n",
       "           ..\n",
       "2.0571      1\n",
       "2.5721      1\n",
       "2.9430      1\n",
       "3.1462      1\n",
       "2.0943      1\n",
       "Name: count, Length: 12928, dtype: int64"
      ]
     },
     "execution_count": 119,
     "metadata": {},
     "output_type": "execute_result"
    }
   ],
   "execution_count": 119
  },
  {
   "metadata": {
    "ExecuteTime": {
     "end_time": "2024-10-25T10:18:59.509068Z",
     "start_time": "2024-10-25T10:18:59.498401Z"
    }
   },
   "cell_type": "code",
   "source": "df.MedInc.mode()",
   "id": "a211b180cc0eeea0",
   "outputs": [
    {
     "data": {
      "text/plain": [
       "0     3.1250\n",
       "1    15.0001\n",
       "Name: MedInc, dtype: float64"
      ]
     },
     "execution_count": 120,
     "metadata": {},
     "output_type": "execute_result"
    }
   ],
   "execution_count": 120
  },
  {
   "metadata": {
    "ExecuteTime": {
     "end_time": "2024-10-25T10:19:00.751217Z",
     "start_time": "2024-10-25T10:19:00.601926Z"
    }
   },
   "cell_type": "code",
   "source": [
    "import seaborn as sns\n",
    "import matplotlib.pyplot as plt\n",
    "\n",
    "sns.histplot(df.MedInc, bins=20)\n",
    "\n",
    "plt.axvline(df.MedInc.mean(), c='g')\n",
    "plt.axvline(df.MedInc.median(), c='r')\n",
    "\n",
    "plt.axvline(df.MedInc.mode()[0], c='b', ls='--')\n",
    "plt.axvline(df.MedInc.mode()[1], c='b', ls=':')"
   ],
   "id": "e9a85b82c06c9b5",
   "outputs": [
    {
     "data": {
      "text/plain": [
       "<matplotlib.lines.Line2D at 0x229ae6bc070>"
      ]
     },
     "execution_count": 121,
     "metadata": {},
     "output_type": "execute_result"
    },
    {
     "data": {
      "text/plain": [
       "<Figure size 640x480 with 1 Axes>"
      ],
      "image/png": "[encoded data removed]"
     },
     "metadata": {},
     "output_type": "display_data"
    }
   ],
   "execution_count": 121
  },
  {
   "metadata": {
    "ExecuteTime": {
     "end_time": "2024-10-25T10:19:01.431638Z",
     "start_time": "2024-10-25T10:19:01.417144Z"
    }
   },
   "cell_type": "code",
   "source": "df.HouseAge.value_counts().sort_values(ascending=False)",
   "id": "869fa07ba2efcd44",
   "outputs": [
    {
     "data": {
      "text/plain": [
       "HouseAge\n",
       "52.0    1273\n",
       "36.0     862\n",
       "35.0     824\n",
       "16.0     771\n",
       "17.0     698\n",
       "34.0     689\n",
       "26.0     619\n",
       "33.0     615\n",
       "18.0     570\n",
       "25.0     566\n",
       "32.0     565\n",
       "37.0     537\n",
       "15.0     512\n",
       "19.0     502\n",
       "27.0     488\n",
       "24.0     478\n",
       "30.0     476\n",
       "28.0     471\n",
       "20.0     465\n",
       "29.0     461\n",
       "31.0     458\n",
       "23.0     448\n",
       "21.0     446\n",
       "14.0     412\n",
       "22.0     399\n",
       "38.0     394\n",
       "39.0     369\n",
       "42.0     368\n",
       "44.0     356\n",
       "43.0     353\n",
       "40.0     304\n",
       "13.0     302\n",
       "41.0     296\n",
       "45.0     294\n",
       "10.0     264\n",
       "11.0     254\n",
       "46.0     245\n",
       "5.0      244\n",
       "12.0     238\n",
       "8.0      206\n",
       "9.0      205\n",
       "47.0     198\n",
       "4.0      191\n",
       "48.0     177\n",
       "7.0      175\n",
       "6.0      160\n",
       "50.0     136\n",
       "49.0     134\n",
       "3.0       62\n",
       "2.0       58\n",
       "51.0      48\n",
       "1.0        4\n",
       "Name: count, dtype: int64"
      ]
     },
     "execution_count": 122,
     "metadata": {},
     "output_type": "execute_result"
    }
   ],
   "execution_count": 122
  },
  {
   "metadata": {
    "ExecuteTime": {
     "end_time": "2024-10-25T10:19:02.411126Z",
     "start_time": "2024-10-25T10:19:02.055717Z"
    }
   },
   "cell_type": "code",
   "source": [
    "a, b = 1, 2\n",
    "fig, ax = plt.subplots(a, b)\n",
    "fig.set_size_inches((10, 5))\n",
    "\n",
    "cols = ['MedInc', 'HouseAge']\n",
    "for column, id in zip(cols, range(len(cols))):\n",
    "    sns.histplot(ax=ax[id], x=column, data=df, stat='count', legend=None)\n",
    "\n",
    "    ax[id].axvline(df[column].mean(), c='g')\n",
    "    ax[id].axvline(df[column].median(), c='r')\n",
    "\n",
    "    for mode in df[column].mode():\n",
    "        ax[id].axvline(mode, c='b')\n",
    "\n",
    "    if id == 0:\n",
    "        print(column, abs(df[column].mean() - df[column].median()))\n",
    "    else:\n",
    "        print(column, abs(df[column].mean() - df[column].median()) / 5)\n",
    "\n",
    "plt.tight_layout()"
   ],
   "id": "b30a2006008bb1ef",
   "outputs": [
    {
     "name": "stdout",
     "output_type": "stream",
     "text": [
      "MedInc 0.3358710029069769\n",
      "HouseAge 0.07210271317829467\n"
     ]
    },
    {
     "data": {
      "text/plain": [
       "<Figure size 1000x500 with 2 Axes>"
      ],
      "image/png": "[encoded data removed]"
     },
     "metadata": {},
     "output_type": "display_data"
    }
   ],
   "execution_count": 123
  },
  {
   "metadata": {
    "ExecuteTime": {
     "end_time": "2024-10-25T10:19:03.324367Z",
     "start_time": "2024-10-25T10:19:03.154027Z"
    }
   },
   "cell_type": "code",
   "source": [
    "sns.histplot(target)\n",
    "plt.axvline(target.mean(), c='g')\n",
    "plt.axvline(target.median(), c='r')\n",
    "plt.axvline(target.mode()[0], c='b')\n",
    "\n",
    "plt.axvline(target.quantile(0.25), c='m')\n",
    "plt.axvline(target.quantile(0.75), c='m')\n",
    "\n",
    "target.quantile(0.75) - target.quantile(0.25)"
   ],
   "id": "3c424a2cb69bc152",
   "outputs": [
    {
     "data": {
      "text/plain": [
       "1.4512499999999997"
      ]
     },
     "execution_count": 124,
     "metadata": {},
     "output_type": "execute_result"
    },
    {
     "data": {
      "text/plain": [
       "<Figure size 640x480 with 1 Axes>"
      ],
      "image/png": "[encoded data removed]"
     },
     "metadata": {},
     "output_type": "display_data"
    }
   ],
   "execution_count": 124
  },
  {
   "metadata": {
    "ExecuteTime": {
     "end_time": "2024-10-25T10:19:05.687137Z",
     "start_time": "2024-10-25T10:19:05.661291Z"
    }
   },
   "cell_type": "code",
   "source": "df.describe()",
   "id": "d4cc9cf61f507ab4",
   "outputs": [
    {
     "data": {
      "text/plain": [
       "             MedInc      HouseAge      AveRooms     AveBedrms    Population  \\\n",
       "count  20640.000000  20640.000000  20640.000000  20640.000000  20640.000000   \n",
       "mean       3.870671     28.639486      5.429000      1.096675   1425.476744   \n",
       "std        1.899822     12.585558      2.474173      0.473911   1132.462122   \n",
       "min        0.499900      1.000000      0.846154      0.333333      3.000000   \n",
       "25%        2.563400     18.000000      4.440716      1.006079    787.000000   \n",
       "50%        3.534800     29.000000      5.229129      1.048780   1166.000000   \n",
       "75%        4.743250     37.000000      6.052381      1.099526   1725.000000   \n",
       "max       15.000100     52.000000    141.909091     34.066667  35682.000000   \n",
       "\n",
       "           AveOccup      Latitude     Longitude  \n",
       "count  20640.000000  20640.000000  20640.000000  \n",
       "mean       3.070655     35.631861   -119.569704  \n",
       "std       10.386050      2.135952      2.003532  \n",
       "min        0.692308     32.540000   -124.350000  \n",
       "25%        2.429741     33.930000   -121.800000  \n",
       "50%        2.818116     34.260000   -118.490000  \n",
       "75%        3.282261     37.710000   -118.010000  \n",
       "max     1243.333333     41.950000   -114.310000  "
      ],
      "text/html": [
       "<div>\n",
       "<style scoped>\n",
       "    .dataframe tbody tr th:only-of-type {\n",
       "        vertical-align: middle;\n",
       "    }\n",
       "\n",
       "    .dataframe tbody tr th {\n",
       "        vertical-align: top;\n",
       "    }\n",
       "\n",
       "    .dataframe thead th {\n",
       "        text-align: right;\n",
       "    }\n",
       "</style>\n",
       "<table border=\"1\" class=\"dataframe\">\n",
       "  <thead>\n",
       "    <tr style=\"text-align: right;\">\n",
       "      <th></th>\n",
       "      <th>MedInc</th>\n",
       "      <th>HouseAge</th>\n",
       "      <th>AveRooms</th>\n",
       "      <th>AveBedrms</th>\n",
       "      <th>Population</th>\n",
       "      <th>AveOccup</th>\n",
       "      <th>Latitude</th>\n",
       "      <th>Longitude</th>\n",
       "    </tr>\n",
       "  </thead>\n",
       "  <tbody>\n",
       "    <tr>\n",
       "      <th>count</th>\n",
       "      <td>20640.000000</td>\n",
       "      <td>20640.000000</td>\n",
       "      <td>20640.000000</td>\n",
       "      <td>20640.000000</td>\n",
       "      <td>20640.000000</td>\n",
       "      <td>20640.000000</td>\n",
       "      <td>20640.000000</td>\n",
       "      <td>20640.000000</td>\n",
       "    </tr>\n",
       "    <tr>\n",
       "      <th>mean</th>\n",
       "      <td>3.870671</td>\n",
       "      <td>28.639486</td>\n",
       "      <td>5.429000</td>\n",
       "      <td>1.096675</td>\n",
       "      <td>1425.476744</td>\n",
       "      <td>3.070655</td>\n",
       "      <td>35.631861</td>\n",
       "      <td>-119.569704</td>\n",
       "    </tr>\n",
       "    <tr>\n",
       "      <th>std</th>\n",
       "      <td>1.899822</td>\n",
       "      <td>12.585558</td>\n",
       "      <td>2.474173</td>\n",
       "      <td>0.473911</td>\n",
       "      <td>1132.462122</td>\n",
       "      <td>10.386050</td>\n",
       "      <td>2.135952</td>\n",
       "      <td>2.003532</td>\n",
       "    </tr>\n",
       "    <tr>\n",
       "      <th>min</th>\n",
       "      <td>0.499900</td>\n",
       "      <td>1.000000</td>\n",
       "      <td>0.846154</td>\n",
       "      <td>0.333333</td>\n",
       "      <td>3.000000</td>\n",
       "      <td>0.692308</td>\n",
       "      <td>32.540000</td>\n",
       "      <td>-124.350000</td>\n",
       "    </tr>\n",
       "    <tr>\n",
       "      <th>25%</th>\n",
       "      <td>2.563400</td>\n",
       "      <td>18.000000</td>\n",
       "      <td>4.440716</td>\n",
       "      <td>1.006079</td>\n",
       "      <td>787.000000</td>\n",
       "      <td>2.429741</td>\n",
       "      <td>33.930000</td>\n",
       "      <td>-121.800000</td>\n",
       "    </tr>\n",
       "    <tr>\n",
       "      <th>50%</th>\n",
       "      <td>3.534800</td>\n",
       "      <td>29.000000</td>\n",
       "      <td>5.229129</td>\n",
       "      <td>1.048780</td>\n",
       "      <td>1166.000000</td>\n",
       "      <td>2.818116</td>\n",
       "      <td>34.260000</td>\n",
       "      <td>-118.490000</td>\n",
       "    </tr>\n",
       "    <tr>\n",
       "      <th>75%</th>\n",
       "      <td>4.743250</td>\n",
       "      <td>37.000000</td>\n",
       "      <td>6.052381</td>\n",
       "      <td>1.099526</td>\n",
       "      <td>1725.000000</td>\n",
       "      <td>3.282261</td>\n",
       "      <td>37.710000</td>\n",
       "      <td>-118.010000</td>\n",
       "    </tr>\n",
       "    <tr>\n",
       "      <th>max</th>\n",
       "      <td>15.000100</td>\n",
       "      <td>52.000000</td>\n",
       "      <td>141.909091</td>\n",
       "      <td>34.066667</td>\n",
       "      <td>35682.000000</td>\n",
       "      <td>1243.333333</td>\n",
       "      <td>41.950000</td>\n",
       "      <td>-114.310000</td>\n",
       "    </tr>\n",
       "  </tbody>\n",
       "</table>\n",
       "</div>"
      ]
     },
     "execution_count": 125,
     "metadata": {},
     "output_type": "execute_result"
    }
   ],
   "execution_count": 125
  },
  {
   "metadata": {
    "ExecuteTime": {
     "end_time": "2024-10-25T10:17:41.434030Z",
     "start_time": "2024-10-25T10:17:41.400203Z"
    }
   },
   "cell_type": "code",
   "source": [
    "scaled_df = (df - df.mean()) / df.std(ddof=1)\n",
    "scaled_df"
   ],
   "id": "66a48f5467cab07b",
   "outputs": [
    {
     "data": {
      "text/plain": [
       "         MedInc  HouseAge  AveRooms  AveBedrms  Population  AveOccup  \\\n",
       "0      2.344709  0.982119  0.628544  -0.153754   -0.974405 -0.049595   \n",
       "1      2.332181 -0.607004  0.327033  -0.263329    0.861418 -0.092510   \n",
       "2      1.782656  1.856137  1.155592  -0.049015   -0.820757 -0.025842   \n",
       "3      0.932945  1.856137  0.156962  -0.049832   -0.766010 -0.050328   \n",
       "4     -0.012881  1.856137  0.344702  -0.032905   -0.759828 -0.085614   \n",
       "...         ...       ...       ...        ...         ...       ...   \n",
       "20635 -1.216099 -0.289180 -0.155020   0.077352   -0.512579 -0.049109   \n",
       "20636 -0.691576 -0.845373  0.276874   0.462353   -0.944382  0.005021   \n",
       "20637 -1.142566 -0.924829 -0.090316   0.049413   -0.369528 -0.071733   \n",
       "20638 -1.054557 -0.845373 -0.040210   0.158774   -0.604415 -0.091223   \n",
       "20639 -0.780111 -1.004285 -0.070441   0.138399   -0.033976 -0.043681   \n",
       "\n",
       "       Latitude  Longitude  \n",
       "0      1.052523  -1.327803  \n",
       "1      1.043159  -1.322812  \n",
       "2      1.038478  -1.332794  \n",
       "3      1.038478  -1.337785  \n",
       "4      1.038478  -1.337785  \n",
       "...         ...        ...  \n",
       "20635  1.801603  -0.758808  \n",
       "20636  1.806285  -0.818702  \n",
       "20637  1.778194  -0.823693  \n",
       "20638  1.778194  -0.873605  \n",
       "20639  1.750104  -0.833676  \n",
       "\n",
       "[20640 rows x 8 columns]"
      ],
      "text/html": [
       "<div>\n",
       "<style scoped>\n",
       "    .dataframe tbody tr th:only-of-type {\n",
       "        vertical-align: middle;\n",
       "    }\n",
       "\n",
       "    .dataframe tbody tr th {\n",
       "        vertical-align: top;\n",
       "    }\n",
       "\n",
       "    .dataframe thead th {\n",
       "        text-align: right;\n",
       "    }\n",
       "</style>\n",
       "<table border=\"1\" class=\"dataframe\">\n",
       "  <thead>\n",
       "    <tr style=\"text-align: right;\">\n",
       "      <th></th>\n",
       "      <th>MedInc</th>\n",
       "      <th>HouseAge</th>\n",
       "      <th>AveRooms</th>\n",
       "      <th>AveBedrms</th>\n",
       "      <th>Population</th>\n",
       "      <th>AveOccup</th>\n",
       "      <th>Latitude</th>\n",
       "      <th>Longitude</th>\n",
       "    </tr>\n",
       "  </thead>\n",
       "  <tbody>\n",
       "    <tr>\n",
       "      <th>0</th>\n",
       "      <td>2.344709</td>\n",
       "      <td>0.982119</td>\n",
       "      <td>0.628544</td>\n",
       "      <td>-0.153754</td>\n",
       "      <td>-0.974405</td>\n",
       "      <td>-0.049595</td>\n",
       "      <td>1.052523</td>\n",
       "      <td>-1.327803</td>\n",
       "    </tr>\n",
       "    <tr>\n",
       "      <th>1</th>\n",
       "      <td>2.332181</td>\n",
       "      <td>-0.607004</td>\n",
       "      <td>0.327033</td>\n",
       "      <td>-0.263329</td>\n",
       "      <td>0.861418</td>\n",
       "      <td>-0.092510</td>\n",
       "      <td>1.043159</td>\n",
       "      <td>-1.322812</td>\n",
       "    </tr>\n",
       "    <tr>\n",
       "      <th>2</th>\n",
       "      <td>1.782656</td>\n",
       "      <td>1.856137</td>\n",
       "      <td>1.155592</td>\n",
       "      <td>-0.049015</td>\n",
       "      <td>-0.820757</td>\n",
       "      <td>-0.025842</td>\n",
       "      <td>1.038478</td>\n",
       "      <td>-1.332794</td>\n",
       "    </tr>\n",
       "    <tr>\n",
       "      <th>3</th>\n",
       "      <td>0.932945</td>\n",
       "      <td>1.856137</td>\n",
       "      <td>0.156962</td>\n",
       "      <td>-0.049832</td>\n",
       "      <td>-0.766010</td>\n",
       "      <td>-0.050328</td>\n",
       "      <td>1.038478</td>\n",
       "      <td>-1.337785</td>\n",
       "    </tr>\n",
       "    <tr>\n",
       "      <th>4</th>\n",
       "      <td>-0.012881</td>\n",
       "      <td>1.856137</td>\n",
       "      <td>0.344702</td>\n",
       "      <td>-0.032905</td>\n",
       "      <td>-0.759828</td>\n",
       "      <td>-0.085614</td>\n",
       "      <td>1.038478</td>\n",
       "      <td>-1.337785</td>\n",
       "    </tr>\n",
       "    <tr>\n",
       "      <th>...</th>\n",
       "      <td>...</td>\n",
       "      <td>...</td>\n",
       "      <td>...</td>\n",
       "      <td>...</td>\n",
       "      <td>...</td>\n",
       "      <td>...</td>\n",
       "      <td>...</td>\n",
       "      <td>...</td>\n",
       "    </tr>\n",
       "    <tr>\n",
       "      <th>20635</th>\n",
       "      <td>-1.216099</td>\n",
       "      <td>-0.289180</td>\n",
       "      <td>-0.155020</td>\n",
       "      <td>0.077352</td>\n",
       "      <td>-0.512579</td>\n",
       "      <td>-0.049109</td>\n",
       "      <td>1.801603</td>\n",
       "      <td>-0.758808</td>\n",
       "    </tr>\n",
       "    <tr>\n",
       "      <th>20636</th>\n",
       "      <td>-0.691576</td>\n",
       "      <td>-0.845373</td>\n",
       "      <td>0.276874</td>\n",
       "      <td>0.462353</td>\n",
       "      <td>-0.944382</td>\n",
       "      <td>0.005021</td>\n",
       "      <td>1.806285</td>\n",
       "      <td>-0.818702</td>\n",
       "    </tr>\n",
       "    <tr>\n",
       "      <th>20637</th>\n",
       "      <td>-1.142566</td>\n",
       "      <td>-0.924829</td>\n",
       "      <td>-0.090316</td>\n",
       "      <td>0.049413</td>\n",
       "      <td>-0.369528</td>\n",
       "      <td>-0.071733</td>\n",
       "      <td>1.778194</td>\n",
       "      <td>-0.823693</td>\n",
       "    </tr>\n",
       "    <tr>\n",
       "      <th>20638</th>\n",
       "      <td>-1.054557</td>\n",
       "      <td>-0.845373</td>\n",
       "      <td>-0.040210</td>\n",
       "      <td>0.158774</td>\n",
       "      <td>-0.604415</td>\n",
       "      <td>-0.091223</td>\n",
       "      <td>1.778194</td>\n",
       "      <td>-0.873605</td>\n",
       "    </tr>\n",
       "    <tr>\n",
       "      <th>20639</th>\n",
       "      <td>-0.780111</td>\n",
       "      <td>-1.004285</td>\n",
       "      <td>-0.070441</td>\n",
       "      <td>0.138399</td>\n",
       "      <td>-0.033976</td>\n",
       "      <td>-0.043681</td>\n",
       "      <td>1.750104</td>\n",
       "      <td>-0.833676</td>\n",
       "    </tr>\n",
       "  </tbody>\n",
       "</table>\n",
       "<p>20640 rows × 8 columns</p>\n",
       "</div>"
      ]
     },
     "execution_count": 111,
     "metadata": {},
     "output_type": "execute_result"
    }
   ],
   "execution_count": 111
  },
  {
   "metadata": {
    "ExecuteTime": {
     "end_time": "2024-10-25T10:21:04.975315Z",
     "start_time": "2024-10-25T10:21:04.891315Z"
    }
   },
   "cell_type": "code",
   "source": [
    "pd.concat([scaled_df.corrwith(target, method='pearson').rename('Pearson'),\n",
    "           scaled_df.corrwith(target, method='spearman').rename('Spearman'),\n",
    "           scaled_df.corrwith(target, method='kendall').rename('Kendall')],\n",
    "          axis=1)"
   ],
   "id": "1893b6cdd90613f4",
   "outputs": [
    {
     "data": {
      "text/plain": [
       "             Pearson  Spearman   Kendall\n",
       "MedInc      0.688075  0.676778  0.495528\n",
       "HouseAge    0.105623  0.074855  0.049822\n",
       "AveRooms    0.151948  0.263367  0.179175\n",
       "AveBedrms  -0.046701 -0.125187 -0.083489\n",
       "Population -0.024650  0.003839  0.002172\n",
       "AveOccup   -0.023737 -0.256594 -0.174370\n",
       "Latitude   -0.144160 -0.165739 -0.109411\n",
       "Longitude  -0.045967 -0.069667 -0.052495"
      ],
      "text/html": [
       "<div>\n",
       "<style scoped>\n",
       "    .dataframe tbody tr th:only-of-type {\n",
       "        vertical-align: middle;\n",
       "    }\n",
       "\n",
       "    .dataframe tbody tr th {\n",
       "        vertical-align: top;\n",
       "    }\n",
       "\n",
       "    .dataframe thead th {\n",
       "        text-align: right;\n",
       "    }\n",
       "</style>\n",
       "<table border=\"1\" class=\"dataframe\">\n",
       "  <thead>\n",
       "    <tr style=\"text-align: right;\">\n",
       "      <th></th>\n",
       "      <th>Pearson</th>\n",
       "      <th>Spearman</th>\n",
       "      <th>Kendall</th>\n",
       "    </tr>\n",
       "  </thead>\n",
       "  <tbody>\n",
       "    <tr>\n",
       "      <th>MedInc</th>\n",
       "      <td>0.688075</td>\n",
       "      <td>0.676778</td>\n",
       "      <td>0.495528</td>\n",
       "    </tr>\n",
       "    <tr>\n",
       "      <th>HouseAge</th>\n",
       "      <td>0.105623</td>\n",
       "      <td>0.074855</td>\n",
       "      <td>0.049822</td>\n",
       "    </tr>\n",
       "    <tr>\n",
       "      <th>AveRooms</th>\n",
       "      <td>0.151948</td>\n",
       "      <td>0.263367</td>\n",
       "      <td>0.179175</td>\n",
       "    </tr>\n",
       "    <tr>\n",
       "      <th>AveBedrms</th>\n",
       "      <td>-0.046701</td>\n",
       "      <td>-0.125187</td>\n",
       "      <td>-0.083489</td>\n",
       "    </tr>\n",
       "    <tr>\n",
       "      <th>Population</th>\n",
       "      <td>-0.024650</td>\n",
       "      <td>0.003839</td>\n",
       "      <td>0.002172</td>\n",
       "    </tr>\n",
       "    <tr>\n",
       "      <th>AveOccup</th>\n",
       "      <td>-0.023737</td>\n",
       "      <td>-0.256594</td>\n",
       "      <td>-0.174370</td>\n",
       "    </tr>\n",
       "    <tr>\n",
       "      <th>Latitude</th>\n",
       "      <td>-0.144160</td>\n",
       "      <td>-0.165739</td>\n",
       "      <td>-0.109411</td>\n",
       "    </tr>\n",
       "    <tr>\n",
       "      <th>Longitude</th>\n",
       "      <td>-0.045967</td>\n",
       "      <td>-0.069667</td>\n",
       "      <td>-0.052495</td>\n",
       "    </tr>\n",
       "  </tbody>\n",
       "</table>\n",
       "</div>"
      ]
     },
     "execution_count": 133,
     "metadata": {},
     "output_type": "execute_result"
    }
   ],
   "execution_count": 133
  },
  {
   "metadata": {
    "ExecuteTime": {
     "end_time": "2024-10-25T11:09:41.516569Z",
     "start_time": "2024-10-25T11:09:40.210924Z"
    }
   },
   "cell_type": "code",
   "source": [
    "sns.histplot(df['AveRooms'])\n",
    "plt.axvline(df['AveRooms'].mean(), c='g')\n",
    "plt.axvline(df['AveRooms'].median(), c='r')\n",
    "plt.axvline(df['AveRooms'].mode()[0], c='b')"
   ],
   "id": "e44bceabf968f1f3",
   "outputs": [
    {
     "data": {
      "text/plain": [
       "<matplotlib.lines.Line2D at 0x229cc2f0070>"
      ]
     },
     "execution_count": 146,
     "metadata": {},
     "output_type": "execute_result"
    },
    {
     "data": {
      "text/plain": [
       "<Figure size 640x480 with 1 Axes>"
      ],
      "image/png": "[encoded data removed]"
     },
     "metadata": {},
     "output_type": "display_data"
    }
   ],
   "execution_count": 146
  },
  {
   "metadata": {
    "ExecuteTime": {
     "end_time": "2024-10-25T11:10:03.030617Z",
     "start_time": "2024-10-25T11:10:02.841689Z"
    }
   },
   "cell_type": "code",
   "source": "sns.histplot(df['AveRooms'][df['AveRooms'] < df['AveRooms'].quantile(0.99)])",
   "id": "4ccbd9e9febd34ed",
   "outputs": [
    {
     "data": {
      "text/plain": [
       "<Axes: xlabel='AveRooms', ylabel='Count'>"
      ]
     },
     "execution_count": 152,
     "metadata": {},
     "output_type": "execute_result"
    },
    {
     "data": {
      "text/plain": [
       "<Figure size 640x480 with 1 Axes>"
      ],
      "image/png": "[encoded data removed]"
     },
     "metadata": {},
     "output_type": "display_data"
    }
   ],
   "execution_count": 152
  },
  {
   "metadata": {
    "ExecuteTime": {
     "end_time": "2024-10-25T11:14:50.261928Z",
     "start_time": "2024-10-25T11:14:50.031929Z"
    }
   },
   "cell_type": "code",
   "source": [
    "ave_rooms = df['AveRooms'][(df['AveRooms'] < df['AveRooms'].quantile(0.975)) &\n",
    "                           (df['AveRooms'] > df['AveRooms'].quantile(0.025))]\n",
    "sns.histplot(ave_rooms)\n",
    "plt.axvline(ave_rooms.mean(), c='g')\n",
    "plt.axvline(ave_rooms.median(), c='r')\n",
    "plt.axvline(ave_rooms.mode()[0], c='b')\n",
    "\n",
    "\n",
    "pd.DataFrame([ave_rooms.corr(target, method='pearson'),\n",
    "              ave_rooms.corr(target, method='spearman'),\n",
    "              ave_rooms.corr(target, method='kendall')],\n",
    "             index=['Pearson', 'Spearman', 'Kendall'],\n",
    "             columns=['Corr'])"
   ],
   "id": "41364a87081123ce",
   "outputs": [
    {
     "data": {
      "text/plain": [
       "              Corr\n",
       "Pearson   0.327759\n",
       "Spearman  0.274793\n",
       "Kendall   0.186279"
      ],
      "text/html": [
       "<div>\n",
       "<style scoped>\n",
       "    .dataframe tbody tr th:only-of-type {\n",
       "        vertical-align: middle;\n",
       "    }\n",
       "\n",
       "    .dataframe tbody tr th {\n",
       "        vertical-align: top;\n",
       "    }\n",
       "\n",
       "    .dataframe thead th {\n",
       "        text-align: right;\n",
       "    }\n",
       "</style>\n",
       "<table border=\"1\" class=\"dataframe\">\n",
       "  <thead>\n",
       "    <tr style=\"text-align: right;\">\n",
       "      <th></th>\n",
       "      <th>Corr</th>\n",
       "    </tr>\n",
       "  </thead>\n",
       "  <tbody>\n",
       "    <tr>\n",
       "      <th>Pearson</th>\n",
       "      <td>0.327759</td>\n",
       "    </tr>\n",
       "    <tr>\n",
       "      <th>Spearman</th>\n",
       "      <td>0.274793</td>\n",
       "    </tr>\n",
       "    <tr>\n",
       "      <th>Kendall</th>\n",
       "      <td>0.186279</td>\n",
       "    </tr>\n",
       "  </tbody>\n",
       "</table>\n",
       "</div>"
      ]
     },
     "execution_count": 168,
     "metadata": {},
     "output_type": "execute_result"
    },
    {
     "data": {
      "text/plain": [
       "<Figure size 640x480 with 1 Axes>"
      ],
      "image/png": "[encoded data removed]"
     },
     "metadata": {},
     "output_type": "display_data"
    }
   ],
   "execution_count": 168
  },
  {
   "metadata": {
    "ExecuteTime": {
     "end_time": "2024-10-25T11:16:26.527241Z",
     "start_time": "2024-10-25T11:16:26.258454Z"
    }
   },
   "cell_type": "code",
   "source": "sns.heatmap(df.corr(method='pearson'),vmin=-1, vmax=1, center=0, cmap='plasma', annot=True)",
   "id": "66eba2e7ddb14d81",
   "outputs": [
    {
     "data": {
      "text/plain": [
       "<Axes: >"
      ]
     },
     "execution_count": 172,
     "metadata": {},
     "output_type": "execute_result"
    },
    {
     "data": {
      "text/plain": [
       "<Figure size 640x480 with 2 Axes>"
      ],
      "image/png": "[encoded data removed]"
     },
     "metadata": {},
     "output_type": "display_data"
    }
   ],
   "execution_count": 172
  }
 ],
 "metadata": {
  "kernelspec": {
   "display_name": "Python 3",
   "language": "python",
   "name": "python3"
  },
  "language_info": {
   "codemirror_mode": {
    "name": "ipython",
    "version": 2
   },
   "file_extension": ".py",
   "mimetype": "text/x-python",
   "name": "python",
   "nbconvert_exporter": "python",
   "pygments_lexer": "ipython2",
   "version": "2.7.6"
  }
 },
 "nbformat": 4,
 "nbformat_minor": 5
}
