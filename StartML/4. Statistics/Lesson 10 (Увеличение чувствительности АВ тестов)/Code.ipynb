{
 "cells": [
  {
   "cell_type": "code",
   "execution_count": 1,
   "id": "cd409229",
   "metadata": {
    "scrolled": true
   },
   "outputs": [],
   "source": [
    "import numpy as np\n",
    "import pandas as pd\n",
    "import matplotlib.pyplot as plt\n",
    "import seaborn as sns\n",
    "\n",
    "%matplotlib inline"
   ]
  },
  {
   "cell_type": "code",
   "execution_count": 2,
   "id": "e57c5b26",
   "metadata": {},
   "outputs": [],
   "source": [
    "plt.rcParams[\"figure.facecolor\"] = \"w\"\n",
    "sns.set_style('whitegrid')"
   ]
  },
  {
   "cell_type": "markdown",
   "id": "dade8557",
   "metadata": {},
   "source": [
    "### Пример CUPED"
   ]
  },
  {
   "cell_type": "code",
   "execution_count": 3,
   "id": "07838ec7",
   "metadata": {},
   "outputs": [],
   "source": [
    "users_num = 1000"
   ]
  },
  {
   "cell_type": "code",
   "execution_count": 4,
   "id": "1e67c8f8",
   "metadata": {},
   "outputs": [],
   "source": [
    "df = pd.DataFrame()\n",
    "df['user'] = range(users_num)\n",
    "df['group'] = np.random.rand(users_num) < 0.5\n",
    "\n",
    "df['user_mean'] = np.random.uniform(400, 1000, size=users_num)\n",
    "df['cost_before'] = df['user_mean'] + np.random.normal(0, 50, size=users_num)\n",
    "df['cost'] = df['user_mean'] + np.random.normal(0, 50, size=users_num)"
   ]
  },
  {
   "cell_type": "code",
   "execution_count": 5,
   "id": "6bd9c234",
   "metadata": {},
   "outputs": [
    {
     "data": {
      "text/plain": [
       "0.9272612977599674"
      ]
     },
     "execution_count": 5,
     "metadata": {},
     "output_type": "execute_result"
    }
   ],
   "source": [
    "theta = np.cov(df['cost'], df['cost_before'])[0, 1] / np.var(df['cost_before'])\n",
    "theta"
   ]
  },
  {
   "cell_type": "code",
   "execution_count": 6,
   "id": "83ec9e2d",
   "metadata": {},
   "outputs": [],
   "source": [
    "df['cost_cuped'] = (\n",
    "    df['cost'] -\n",
    "    theta * (df['cost_before'] - np.mean(df['cost_before']))\n",
    ")"
   ]
  },
  {
   "cell_type": "code",
   "execution_count": 7,
   "id": "dbd5d307",
   "metadata": {},
   "outputs": [
    {
     "data": {
      "text/plain": [
       "(695.1049272086817, 695.8322255986365)"
      ]
     },
     "execution_count": 7,
     "metadata": {},
     "output_type": "execute_result"
    }
   ],
   "source": [
    "np.mean(df[df.group == 0].cost), np.mean(df[df.group == 0].cost_cuped)"
   ]
  },
  {
   "cell_type": "code",
   "execution_count": 8,
   "id": "b5520a08",
   "metadata": {},
   "outputs": [
    {
     "data": {
      "text/plain": [
       "(33906.80385516056, 34233.38266033184)"
      ]
     },
     "execution_count": 8,
     "metadata": {},
     "output_type": "execute_result"
    }
   ],
   "source": [
    "np.var(df[df.group == 0].cost), np.var(df[df.group == 1].cost)"
   ]
  },
  {
   "cell_type": "code",
   "execution_count": 9,
   "id": "c23da3d0",
   "metadata": {
    "scrolled": true
   },
   "outputs": [
    {
     "data": {
      "text/plain": [
       "(4940.2242874283675, 4449.8573093173545)"
      ]
     },
     "execution_count": 9,
     "metadata": {},
     "output_type": "execute_result"
    }
   ],
   "source": [
    "np.var(df[df.group == 0].cost_cuped), np.var(df[df.group == 1].cost_cuped)"
   ]
  },
  {
   "cell_type": "markdown",
   "id": "bcdfdddb",
   "metadata": {},
   "source": [
    "### Измерение кликов"
   ]
  },
  {
   "cell_type": "code",
   "execution_count": 10,
   "id": "2c0ebe05",
   "metadata": {},
   "outputs": [],
   "source": [
    "users_num = 1000\n",
    "\n",
    "mean_user_ctr = 0.2\n",
    "beta = 20\n",
    "alpha = mean_user_ctr * beta / (1 - mean_user_ctr)"
   ]
  },
  {
   "cell_type": "code",
   "execution_count": 11,
   "id": "c69069ec",
   "metadata": {},
   "outputs": [],
   "source": [
    "df = pd.DataFrame()\n",
    "df['user'] = range(users_num)\n",
    "df['group'] = np.random.rand(users_num) < 0.5\n",
    "\n",
    "df['base_user_ctr'] = np.random.beta(alpha, beta, size=users_num)\n",
    "df['views'] = np.random.lognormal(mean=1, sigma=1, size=users_num).astype(int) + 1\n",
    "df['clicks'] = np.random.binomial(df['views'], df['base_user_ctr'])"
   ]
  },
  {
   "cell_type": "code",
   "execution_count": 12,
   "id": "fd15348c",
   "metadata": {},
   "outputs": [
    {
     "data": {
      "image/png": "[encoded data removed]",
      "text/plain": [
       "<Figure size 432x288 with 1 Axes>"
      ]
     },
     "metadata": {},
     "output_type": "display_data"
    }
   ],
   "source": [
    "sns.histplot(df.views, bins=20)\n",
    "plt.show()"
   ]
  },
  {
   "cell_type": "code",
   "execution_count": 13,
   "id": "303e1433",
   "metadata": {},
   "outputs": [
    {
     "data": {
      "image/png": "[encoded data removed]",
      "text/plain": [
       "<Figure size 432x288 with 1 Axes>"
      ]
     },
     "metadata": {},
     "output_type": "display_data"
    }
   ],
   "source": [
    "sns.histplot(df.clicks, bins=20)\n",
    "plt.show()"
   ]
  },
  {
   "cell_type": "code",
   "execution_count": 14,
   "id": "a871aeb3",
   "metadata": {
    "scrolled": true
   },
   "outputs": [
    {
     "data": {
      "text/plain": [
       "MannwhitneyuResult(statistic=130269.5, pvalue=0.21670073794925337)"
      ]
     },
     "execution_count": 14,
     "metadata": {},
     "output_type": "execute_result"
    }
   ],
   "source": [
    "from scipy.stats import mannwhitneyu\n",
    "\n",
    "mannwhitneyu(df[df.group == 0].clicks, df[df.group == 1].clicks)"
   ]
  },
  {
   "cell_type": "markdown",
   "id": "f7af6532",
   "metadata": {},
   "source": [
    "### Бутстрэп"
   ]
  },
  {
   "cell_type": "code",
   "execution_count": 15,
   "id": "c8d0325c",
   "metadata": {},
   "outputs": [],
   "source": [
    "n_iter = 1000\n",
    "\n",
    "data_1 = df[df.group == 0]\n",
    "data_2 = df[df.group == 1]\n",
    "\n",
    "stats = []\n",
    "for _ in range(n_iter):\n",
    "    sampled_data_1 = data_1.sample(n=len(data_1), replace=True)\n",
    "    sampled_data_2 = data_2.sample(n=len(data_2), replace=True)\n",
    "\n",
    "    ctr_1 = sampled_data_1.clicks.sum() / sampled_data_1.views.sum()\n",
    "    ctr_2 = sampled_data_2.clicks.sum() / sampled_data_2.views.sum()\n",
    "    stats.append(ctr_1 - ctr_2)\n",
    "\n",
    "stats = np.array(stats)"
   ]
  },
  {
   "cell_type": "code",
   "execution_count": 16,
   "id": "29a5acce",
   "metadata": {},
   "outputs": [
    {
     "data": {
      "image/png": "[encoded data removed]",
      "text/plain": [
       "<Figure size 432x288 with 1 Axes>"
      ]
     },
     "metadata": {},
     "output_type": "display_data"
    }
   ],
   "source": [
    "sns.histplot(stats)\n",
    "plt.show()"
   ]
  },
  {
   "cell_type": "code",
   "execution_count": 17,
   "id": "b1f87d35",
   "metadata": {},
   "outputs": [
    {
     "data": {
      "text/plain": [
       "0.67"
      ]
     },
     "execution_count": 17,
     "metadata": {},
     "output_type": "execute_result"
    }
   ],
   "source": [
    "2 * min(\n",
    "    sum(stats <= 0),\n",
    "    sum(stats >= 0)\n",
    ") / len(stats)"
   ]
  },
  {
   "cell_type": "markdown",
   "id": "23f9e9e2",
   "metadata": {},
   "source": [
    "### Бакетирование"
   ]
  },
  {
   "cell_type": "code",
   "execution_count": 18,
   "id": "142ab767",
   "metadata": {},
   "outputs": [
    {
     "data": {
      "image/png": "[encoded data removed]",
      "text/plain": [
       "<Figure size 432x288 with 1 Axes>"
      ]
     },
     "metadata": {},
     "output_type": "display_data"
    }
   ],
   "source": [
    "import hashlib\n",
    "\n",
    "df['bucket'] = df['user'].apply(\n",
    "    lambda x: int(hashlib.md5((str(x) + 'my_salt').encode()).hexdigest(), 16) % 100\n",
    ")\n",
    "\n",
    "sns.histplot(df.bucket)\n",
    "plt.show()"
   ]
  },
  {
   "cell_type": "code",
   "execution_count": 19,
   "id": "91f75ae4",
   "metadata": {},
   "outputs": [
    {
     "data": {
      "text/html": [
       "<div>\n",
       "<style scoped>\n",
       "    .dataframe tbody tr th:only-of-type {\n",
       "        vertical-align: middle;\n",
       "    }\n",
       "\n",
       "    .dataframe tbody tr th {\n",
       "        vertical-align: top;\n",
       "    }\n",
       "\n",
       "    .dataframe thead th {\n",
       "        text-align: right;\n",
       "    }\n",
       "</style>\n",
       "<table border=\"1\" class=\"dataframe\">\n",
       "  <thead>\n",
       "    <tr style=\"text-align: right;\">\n",
       "      <th></th>\n",
       "      <th>group</th>\n",
       "      <th>bucket</th>\n",
       "      <th>user</th>\n",
       "      <th>base_user_ctr</th>\n",
       "      <th>views</th>\n",
       "      <th>clicks</th>\n",
       "      <th>ctr</th>\n",
       "    </tr>\n",
       "  </thead>\n",
       "  <tbody>\n",
       "    <tr>\n",
       "      <th>0</th>\n",
       "      <td>False</td>\n",
       "      <td>0</td>\n",
       "      <td>2191</td>\n",
       "      <td>1.201540</td>\n",
       "      <td>27</td>\n",
       "      <td>3</td>\n",
       "      <td>0.111111</td>\n",
       "    </tr>\n",
       "    <tr>\n",
       "      <th>1</th>\n",
       "      <td>False</td>\n",
       "      <td>1</td>\n",
       "      <td>1747</td>\n",
       "      <td>0.813555</td>\n",
       "      <td>19</td>\n",
       "      <td>6</td>\n",
       "      <td>0.315789</td>\n",
       "    </tr>\n",
       "    <tr>\n",
       "      <th>2</th>\n",
       "      <td>False</td>\n",
       "      <td>2</td>\n",
       "      <td>2817</td>\n",
       "      <td>0.687339</td>\n",
       "      <td>34</td>\n",
       "      <td>6</td>\n",
       "      <td>0.176471</td>\n",
       "    </tr>\n",
       "    <tr>\n",
       "      <th>3</th>\n",
       "      <td>False</td>\n",
       "      <td>3</td>\n",
       "      <td>1723</td>\n",
       "      <td>1.117524</td>\n",
       "      <td>24</td>\n",
       "      <td>3</td>\n",
       "      <td>0.125000</td>\n",
       "    </tr>\n",
       "    <tr>\n",
       "      <th>4</th>\n",
       "      <td>False</td>\n",
       "      <td>4</td>\n",
       "      <td>2926</td>\n",
       "      <td>1.067735</td>\n",
       "      <td>30</td>\n",
       "      <td>9</td>\n",
       "      <td>0.300000</td>\n",
       "    </tr>\n",
       "  </tbody>\n",
       "</table>\n",
       "</div>"
      ],
      "text/plain": [
       "   group  bucket  user  base_user_ctr  views  clicks       ctr\n",
       "0  False       0  2191       1.201540     27       3  0.111111\n",
       "1  False       1  1747       0.813555     19       6  0.315789\n",
       "2  False       2  2817       0.687339     34       6  0.176471\n",
       "3  False       3  1723       1.117524     24       3  0.125000\n",
       "4  False       4  2926       1.067735     30       9  0.300000"
      ]
     },
     "execution_count": 19,
     "metadata": {},
     "output_type": "execute_result"
    }
   ],
   "source": [
    "new_df = df.groupby(['group', 'bucket']).sum(['views', 'ctr']).reset_index()\n",
    "new_df['ctr'] = new_df.clicks / new_df.views\n",
    "\n",
    "new_df.head()"
   ]
  },
  {
   "cell_type": "code",
   "execution_count": 20,
   "id": "92813443",
   "metadata": {},
   "outputs": [
    {
     "data": {
      "text/plain": [
       "MannwhitneyuResult(statistic=5331.0, pvalue=0.3487351178483513)"
      ]
     },
     "execution_count": 20,
     "metadata": {},
     "output_type": "execute_result"
    }
   ],
   "source": [
    "mannwhitneyu(new_df[new_df.group == 0].ctr, new_df[new_df.group == 1].ctr)"
   ]
  },
  {
   "cell_type": "markdown",
   "id": "ad611d6c",
   "metadata": {},
   "source": [
    "### Линеаризация"
   ]
  },
  {
   "cell_type": "code",
   "execution_count": 21,
   "id": "4c70a130",
   "metadata": {},
   "outputs": [
    {
     "data": {
      "image/png": "[encoded data removed]",
      "text/plain": [
       "<Figure size 432x288 with 1 Axes>"
      ]
     },
     "metadata": {},
     "output_type": "display_data"
    }
   ],
   "source": [
    "coef = df[df.group == 0].clicks.sum() / df[df.group == 0].views.sum()\n",
    "df['linearized_clicks'] = df.clicks - coef * df.views\n",
    "\n",
    "sns.histplot(df['linearized_clicks'])\n",
    "plt.show()"
   ]
  },
  {
   "cell_type": "code",
   "execution_count": 22,
   "id": "510f03e4",
   "metadata": {
    "scrolled": true
   },
   "outputs": [
    {
     "data": {
      "text/plain": [
       "MannwhitneyuResult(statistic=126743.0, pvalue=0.6998440693926202)"
      ]
     },
     "execution_count": 22,
     "metadata": {},
     "output_type": "execute_result"
    }
   ],
   "source": [
    "mannwhitneyu(\n",
    "    df[df.group == 0].linearized_clicks,\n",
    "    df[df.group == 1].linearized_clicks\n",
    ")"
   ]
  }
 ],
 "metadata": {
  "kernelspec": {
   "display_name": "Python 3 (ipykernel)",
   "language": "python",
   "name": "python3"
  },
  "language_info": {
   "codemirror_mode": {
    "name": "ipython",
    "version": 3
   },
   "file_extension": ".py",
   "mimetype": "text/x-python",
   "name": "python",
   "nbconvert_exporter": "python",
   "pygments_lexer": "ipython3",
   "version": "3.9.13"
  }
 },
 "nbformat": 4,
 "nbformat_minor": 5
}
