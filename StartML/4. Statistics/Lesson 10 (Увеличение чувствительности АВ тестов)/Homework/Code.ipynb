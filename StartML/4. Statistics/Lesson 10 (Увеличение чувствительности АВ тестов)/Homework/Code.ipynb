{
 "cells": [
  {
   "cell_type": "code",
   "id": "initial_id",
   "metadata": {
    "collapsed": true,
    "ExecuteTime": {
     "end_time": "2024-10-29T18:38:05.746033Z",
     "start_time": "2024-10-29T18:38:05.701435Z"
    }
   },
   "source": [
    "import numpy as np\n",
    "import pandas as pd\n",
    "\n",
    "users_num = 10000\n",
    "\n",
    "df = pd.DataFrame()\n",
    "df['user'] = range(users_num)\n",
    "df['group'] = np.random.rand(users_num) < 0.5\n",
    "\n",
    "df['user_mean'] = np.random.lognormal(mean=np.log(1000), sigma=0.5, size=users_num)\n",
    "df['cost_before'] = np.abs(\n",
    "    df['user_mean'] + np.random.normal(0, 100, size=users_num)\n",
    ")\n",
    "df['cost'] = np.abs(\n",
    "    df['user_mean'] + np.random.normal(50, 100, size=users_num)\n",
    ")"
   ],
   "outputs": [],
   "execution_count": 3
  },
  {
   "metadata": {
    "ExecuteTime": {
     "end_time": "2024-10-29T18:40:43.221238Z",
     "start_time": "2024-10-29T18:40:43.203762Z"
    }
   },
   "cell_type": "code",
   "source": [
    "teta = np.cov(df['cost_before'], df['cost'])[0, 1] / np.var(df['cost_before'])\n",
    "df['cost_cuped'] = df['cost'] - teta * (df['cost_before'] - df['cost_before'].mean())"
   ],
   "id": "4c3ebbe6dfb2fd1f",
   "outputs": [],
   "execution_count": 7
  },
  {
   "metadata": {
    "ExecuteTime": {
     "end_time": "2024-10-29T18:41:10.590760Z",
     "start_time": "2024-10-29T18:41:10.584269Z"
    }
   },
   "cell_type": "code",
   "source": "df['cost'].var() / df['cost_cuped'].var()",
   "id": "a1c9de47d5939eed",
   "outputs": [
    {
     "data": {
      "text/plain": [
       "18.605808616591027"
      ]
     },
     "execution_count": 13,
     "metadata": {},
     "output_type": "execute_result"
    }
   ],
   "execution_count": 13
  },
  {
   "metadata": {
    "ExecuteTime": {
     "end_time": "2024-10-29T18:43:22.829394Z",
     "start_time": "2024-10-29T18:43:22.807619Z"
    }
   },
   "cell_type": "code",
   "source": [
    "np.random.seed(6)\n",
    "\n",
    "users_num = 10000\n",
    "mean_user_ctr = 0.2\n",
    "beta = 20\n",
    "alpha = mean_user_ctr * beta / (1 - mean_user_ctr)\n",
    "\n",
    "df = pd.DataFrame()\n",
    "df['user'] = range(users_num)\n",
    "df['group'] = np.random.rand(users_num) < 0.5\n",
    "\n",
    "df['base_user_ctr'] = np.random.beta(alpha, beta, size=users_num)\n",
    "df['views'] = np.random.lognormal(mean=1, sigma=1, size=users_num).astype(int) + 1\n",
    "df['clicks'] = np.random.binomial(df['views'], df['base_user_ctr'])"
   ],
   "id": "b8cba3daca11f4e4",
   "outputs": [],
   "execution_count": 14
  },
  {
   "metadata": {
    "ExecuteTime": {
     "end_time": "2024-10-29T18:53:40.644531Z",
     "start_time": "2024-10-29T18:53:40.626188Z"
    }
   },
   "cell_type": "code",
   "source": "df",
   "id": "a077d89b4ab56131",
   "outputs": [
    {
     "data": {
      "text/plain": [
       "      user  group  base_user_ctr  views  clicks\n",
       "0        0  False       0.322688      2       2\n",
       "1        1   True       0.182517      6       1\n",
       "2        2  False       0.260975      6       3\n",
       "3        3   True       0.260439      2       0\n",
       "4        4   True       0.332355      1       1\n",
       "...    ...    ...            ...    ...     ...\n",
       "9995  9995  False       0.216499     25       5\n",
       "9996  9996  False       0.259650      2       1\n",
       "9997  9997   True       0.268912      2       0\n",
       "9998  9998   True       0.147879      4       0\n",
       "9999  9999  False       0.105200     35       3\n",
       "\n",
       "[10000 rows x 5 columns]"
      ],
      "text/html": [
       "<div>\n",
       "<style scoped>\n",
       "    .dataframe tbody tr th:only-of-type {\n",
       "        vertical-align: middle;\n",
       "    }\n",
       "\n",
       "    .dataframe tbody tr th {\n",
       "        vertical-align: top;\n",
       "    }\n",
       "\n",
       "    .dataframe thead th {\n",
       "        text-align: right;\n",
       "    }\n",
       "</style>\n",
       "<table border=\"1\" class=\"dataframe\">\n",
       "  <thead>\n",
       "    <tr style=\"text-align: right;\">\n",
       "      <th></th>\n",
       "      <th>user</th>\n",
       "      <th>group</th>\n",
       "      <th>base_user_ctr</th>\n",
       "      <th>views</th>\n",
       "      <th>clicks</th>\n",
       "    </tr>\n",
       "  </thead>\n",
       "  <tbody>\n",
       "    <tr>\n",
       "      <th>0</th>\n",
       "      <td>0</td>\n",
       "      <td>False</td>\n",
       "      <td>0.322688</td>\n",
       "      <td>2</td>\n",
       "      <td>2</td>\n",
       "    </tr>\n",
       "    <tr>\n",
       "      <th>1</th>\n",
       "      <td>1</td>\n",
       "      <td>True</td>\n",
       "      <td>0.182517</td>\n",
       "      <td>6</td>\n",
       "      <td>1</td>\n",
       "    </tr>\n",
       "    <tr>\n",
       "      <th>2</th>\n",
       "      <td>2</td>\n",
       "      <td>False</td>\n",
       "      <td>0.260975</td>\n",
       "      <td>6</td>\n",
       "      <td>3</td>\n",
       "    </tr>\n",
       "    <tr>\n",
       "      <th>3</th>\n",
       "      <td>3</td>\n",
       "      <td>True</td>\n",
       "      <td>0.260439</td>\n",
       "      <td>2</td>\n",
       "      <td>0</td>\n",
       "    </tr>\n",
       "    <tr>\n",
       "      <th>4</th>\n",
       "      <td>4</td>\n",
       "      <td>True</td>\n",
       "      <td>0.332355</td>\n",
       "      <td>1</td>\n",
       "      <td>1</td>\n",
       "    </tr>\n",
       "    <tr>\n",
       "      <th>...</th>\n",
       "      <td>...</td>\n",
       "      <td>...</td>\n",
       "      <td>...</td>\n",
       "      <td>...</td>\n",
       "      <td>...</td>\n",
       "    </tr>\n",
       "    <tr>\n",
       "      <th>9995</th>\n",
       "      <td>9995</td>\n",
       "      <td>False</td>\n",
       "      <td>0.216499</td>\n",
       "      <td>25</td>\n",
       "      <td>5</td>\n",
       "    </tr>\n",
       "    <tr>\n",
       "      <th>9996</th>\n",
       "      <td>9996</td>\n",
       "      <td>False</td>\n",
       "      <td>0.259650</td>\n",
       "      <td>2</td>\n",
       "      <td>1</td>\n",
       "    </tr>\n",
       "    <tr>\n",
       "      <th>9997</th>\n",
       "      <td>9997</td>\n",
       "      <td>True</td>\n",
       "      <td>0.268912</td>\n",
       "      <td>2</td>\n",
       "      <td>0</td>\n",
       "    </tr>\n",
       "    <tr>\n",
       "      <th>9998</th>\n",
       "      <td>9998</td>\n",
       "      <td>True</td>\n",
       "      <td>0.147879</td>\n",
       "      <td>4</td>\n",
       "      <td>0</td>\n",
       "    </tr>\n",
       "    <tr>\n",
       "      <th>9999</th>\n",
       "      <td>9999</td>\n",
       "      <td>False</td>\n",
       "      <td>0.105200</td>\n",
       "      <td>35</td>\n",
       "      <td>3</td>\n",
       "    </tr>\n",
       "  </tbody>\n",
       "</table>\n",
       "<p>10000 rows × 5 columns</p>\n",
       "</div>"
      ]
     },
     "execution_count": 15,
     "metadata": {},
     "output_type": "execute_result"
    }
   ],
   "execution_count": 15
  },
  {
   "metadata": {
    "ExecuteTime": {
     "end_time": "2024-10-29T18:56:22.932011Z",
     "start_time": "2024-10-29T18:56:22.706301Z"
    }
   },
   "cell_type": "code",
   "source": [
    "import hashlib\n",
    "import seaborn as sns\n",
    "\n",
    "df['bucket'] = df['user'].apply(\n",
    "    lambda x: int(hashlib.md5((str(x) + 'my_salt').encode()).hexdigest(), 16) % 20\n",
    "\n",
    ")\n",
    "\n",
    "sns.histplot(df.bucket)"
   ],
   "id": "5bff2006bfbf3e5c",
   "outputs": [
    {
     "data": {
      "text/plain": [
       "<Axes: xlabel='bucket', ylabel='Count'>"
      ]
     },
     "execution_count": 33,
     "metadata": {},
     "output_type": "execute_result"
    },
    {
     "data": {
      "text/plain": [
       "<Figure size 640x480 with 1 Axes>"
      ],
      "image/png": "[encoded data removed]"
     },
     "metadata": {},
     "output_type": "display_data"
    }
   ],
   "execution_count": 33
  },
  {
   "metadata": {
    "ExecuteTime": {
     "end_time": "2024-10-29T19:06:41.995930Z",
     "start_time": "2024-10-29T19:06:41.979190Z"
    }
   },
   "cell_type": "code",
   "source": "df['user_ctv'] = df['clicks'] / df['views']",
   "id": "a64347ed584ce743",
   "outputs": [],
   "execution_count": 39
  },
  {
   "metadata": {
    "ExecuteTime": {
     "end_time": "2024-10-29T19:07:03.486626Z",
     "start_time": "2024-10-29T19:07:03.470228Z"
    }
   },
   "cell_type": "code",
   "source": "df.groupby('bucket').agg({'user_ctv': 'mean'})",
   "id": "887ed319ec63c0a4",
   "outputs": [
    {
     "data": {
      "text/plain": [
       "        user_ctv\n",
       "bucket          \n",
       "0       0.208457\n",
       "1       0.176787\n",
       "2       0.177572\n",
       "3       0.204305\n",
       "4       0.194390\n",
       "5       0.192300\n",
       "6       0.176697\n",
       "7       0.202417\n",
       "8       0.195597\n",
       "9       0.200314\n",
       "10      0.202440\n",
       "11      0.197590\n",
       "12      0.202539\n",
       "13      0.201104\n",
       "14      0.180935\n",
       "15      0.208688\n",
       "16      0.183826\n",
       "17      0.201599\n",
       "18      0.210508\n",
       "19      0.202894"
      ],
      "text/html": [
       "<div>\n",
       "<style scoped>\n",
       "    .dataframe tbody tr th:only-of-type {\n",
       "        vertical-align: middle;\n",
       "    }\n",
       "\n",
       "    .dataframe tbody tr th {\n",
       "        vertical-align: top;\n",
       "    }\n",
       "\n",
       "    .dataframe thead th {\n",
       "        text-align: right;\n",
       "    }\n",
       "</style>\n",
       "<table border=\"1\" class=\"dataframe\">\n",
       "  <thead>\n",
       "    <tr style=\"text-align: right;\">\n",
       "      <th></th>\n",
       "      <th>user_ctv</th>\n",
       "    </tr>\n",
       "    <tr>\n",
       "      <th>bucket</th>\n",
       "      <th></th>\n",
       "    </tr>\n",
       "  </thead>\n",
       "  <tbody>\n",
       "    <tr>\n",
       "      <th>0</th>\n",
       "      <td>0.208457</td>\n",
       "    </tr>\n",
       "    <tr>\n",
       "      <th>1</th>\n",
       "      <td>0.176787</td>\n",
       "    </tr>\n",
       "    <tr>\n",
       "      <th>2</th>\n",
       "      <td>0.177572</td>\n",
       "    </tr>\n",
       "    <tr>\n",
       "      <th>3</th>\n",
       "      <td>0.204305</td>\n",
       "    </tr>\n",
       "    <tr>\n",
       "      <th>4</th>\n",
       "      <td>0.194390</td>\n",
       "    </tr>\n",
       "    <tr>\n",
       "      <th>5</th>\n",
       "      <td>0.192300</td>\n",
       "    </tr>\n",
       "    <tr>\n",
       "      <th>6</th>\n",
       "      <td>0.176697</td>\n",
       "    </tr>\n",
       "    <tr>\n",
       "      <th>7</th>\n",
       "      <td>0.202417</td>\n",
       "    </tr>\n",
       "    <tr>\n",
       "      <th>8</th>\n",
       "      <td>0.195597</td>\n",
       "    </tr>\n",
       "    <tr>\n",
       "      <th>9</th>\n",
       "      <td>0.200314</td>\n",
       "    </tr>\n",
       "    <tr>\n",
       "      <th>10</th>\n",
       "      <td>0.202440</td>\n",
       "    </tr>\n",
       "    <tr>\n",
       "      <th>11</th>\n",
       "      <td>0.197590</td>\n",
       "    </tr>\n",
       "    <tr>\n",
       "      <th>12</th>\n",
       "      <td>0.202539</td>\n",
       "    </tr>\n",
       "    <tr>\n",
       "      <th>13</th>\n",
       "      <td>0.201104</td>\n",
       "    </tr>\n",
       "    <tr>\n",
       "      <th>14</th>\n",
       "      <td>0.180935</td>\n",
       "    </tr>\n",
       "    <tr>\n",
       "      <th>15</th>\n",
       "      <td>0.208688</td>\n",
       "    </tr>\n",
       "    <tr>\n",
       "      <th>16</th>\n",
       "      <td>0.183826</td>\n",
       "    </tr>\n",
       "    <tr>\n",
       "      <th>17</th>\n",
       "      <td>0.201599</td>\n",
       "    </tr>\n",
       "    <tr>\n",
       "      <th>18</th>\n",
       "      <td>0.210508</td>\n",
       "    </tr>\n",
       "    <tr>\n",
       "      <th>19</th>\n",
       "      <td>0.202894</td>\n",
       "    </tr>\n",
       "  </tbody>\n",
       "</table>\n",
       "</div>"
      ]
     },
     "execution_count": 40,
     "metadata": {},
     "output_type": "execute_result"
    }
   ],
   "execution_count": 40
  },
  {
   "metadata": {
    "ExecuteTime": {
     "end_time": "2024-10-29T19:10:07.586263Z",
     "start_time": "2024-10-29T19:10:07.571880Z"
    }
   },
   "cell_type": "code",
   "source": [
    "ctv_group_bucket = df.groupby('bucket')[['clicks', 'views']].apply(lambda x: x['clicks'].sum() / x['views'].sum())\n",
    "\n",
    "ctv_user_bucket = df.groupby('bucket').agg({'user_ctv': 'mean'})"
   ],
   "id": "8ea675ed040be76f",
   "outputs": [],
   "execution_count": 53
  },
  {
   "metadata": {
    "ExecuteTime": {
     "end_time": "2024-10-29T19:11:09.641742Z",
     "start_time": "2024-10-29T19:11:09.636015Z"
    }
   },
   "cell_type": "code",
   "source": "ctv_group_bucket.std(), ctv_user_bucket.std().iloc[0]",
   "id": "8e01897b5be1116e",
   "outputs": [
    {
     "data": {
      "text/plain": [
       "(0.0077785860078430505, 0.01105002436591363)"
      ]
     },
     "execution_count": 67,
     "metadata": {},
     "output_type": "execute_result"
    }
   ],
   "execution_count": 67
  }
 ],
 "metadata": {
  "kernelspec": {
   "display_name": "Python 3",
   "language": "python",
   "name": "python3"
  },
  "language_info": {
   "codemirror_mode": {
    "name": "ipython",
    "version": 2
   },
   "file_extension": ".py",
   "mimetype": "text/x-python",
   "name": "python",
   "nbconvert_exporter": "python",
   "pygments_lexer": "ipython2",
   "version": "2.7.6"
  }
 },
 "nbformat": 4,
 "nbformat_minor": 5
}
