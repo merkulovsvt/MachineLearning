{
 "cells": [
  {
   "cell_type": "code",
   "id": "initial_id",
   "metadata": {
    "collapsed": true,
    "ExecuteTime": {
     "end_time": "2024-10-28T09:07:23.157711Z",
     "start_time": "2024-10-28T09:06:52.948259Z"
    }
   },
   "source": [
    "import numpy as np\n",
    "import seaborn as sns\n",
    "from scipy.stats import ttest_ind\n",
    "\n",
    "res = []\n",
    "for _ in range(10000):\n",
    "    data1 = np.random.binomial(1, 0.2, 1000)\n",
    "    data2 = np.random.binomial(1, 0.2, 1000)\n",
    "    res.append(ttest_ind(data1, data2).pvalue)\n",
    "\n",
    "res = np.array(res)\n",
    "sns.histplot(res)"
   ],
   "outputs": [
    {
     "data": {
      "text/plain": [
       "<Axes: ylabel='Count'>"
      ]
     },
     "execution_count": 29,
     "metadata": {},
     "output_type": "execute_result"
    },
    {
     "data": {
      "text/plain": [
       "<Figure size 640x480 with 1 Axes>"
      ],
      "image/png": "[encoded data removed]"
     },
     "metadata": {},
     "output_type": "display_data"
    }
   ],
   "execution_count": 29
  },
  {
   "metadata": {
    "ExecuteTime": {
     "end_time": "2024-10-28T09:07:23.174390Z",
     "start_time": "2024-10-28T09:07:23.159831Z"
    }
   },
   "cell_type": "code",
   "source": "np.mean(res < 0.05)",
   "id": "5aa0f95008c9d58f",
   "outputs": [
    {
     "data": {
      "text/plain": [
       "0.0509"
      ]
     },
     "execution_count": 30,
     "metadata": {},
     "output_type": "execute_result"
    }
   ],
   "execution_count": 30
  },
  {
   "metadata": {
    "ExecuteTime": {
     "end_time": "2024-10-28T09:41:22.807944Z",
     "start_time": "2024-10-28T09:41:22.783497Z"
    }
   },
   "cell_type": "code",
   "source": [
    "from scipy.stats import t\n",
    "\n",
    "alpha = 0.05\n",
    "power = 0.9\n",
    "sigma = 10\n",
    "MDE = 0.5\n",
    "\n",
    "N = 10000000\n",
    "2 * (t.ppf(1 - alpha / 2, N - 1) + t.ppf(power, N - 1)) * sigma ** 2 / MDE ** 0.5"
   ],
   "id": "ca2d909a15055a2b",
   "outputs": [
    {
     "data": {
      "text/plain": [
       "916.8391417576152"
      ]
     },
     "execution_count": 55,
     "metadata": {},
     "output_type": "execute_result"
    }
   ],
   "execution_count": 55
  },
  {
   "metadata": {
    "ExecuteTime": {
     "end_time": "2024-10-28T10:15:56.957896Z",
     "start_time": "2024-10-28T10:15:55.795144Z"
    }
   },
   "cell_type": "code",
   "source": [
    "res = []\n",
    "for _ in range(1000):\n",
    "    data1 = np.random.normal(loc=200, scale=30, size=500)\n",
    "    data2 = np.random.normal(loc=205, scale=30, size=500)\n",
    "    res.append(ttest_ind(data1, data2).pvalue)\n",
    "    \n",
    "np.mean(np.array(res) < 0.05)"
   ],
   "id": "da02caec2cbefdea",
   "outputs": [
    {
     "data": {
      "text/plain": [
       "0.76"
      ]
     },
     "execution_count": 81,
     "metadata": {},
     "output_type": "execute_result"
    }
   ],
   "execution_count": 81
  }
 ],
 "metadata": {
  "kernelspec": {
   "display_name": "Python 3",
   "language": "python",
   "name": "python3"
  },
  "language_info": {
   "codemirror_mode": {
    "name": "ipython",
    "version": 2
   },
   "file_extension": ".py",
   "mimetype": "text/x-python",
   "name": "python",
   "nbconvert_exporter": "python",
   "pygments_lexer": "ipython2",
   "version": "2.7.6"
  }
 },
 "nbformat": 4,
 "nbformat_minor": 5
}
