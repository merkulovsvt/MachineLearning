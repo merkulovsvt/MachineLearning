{
 "cells": [
  {
   "metadata": {
    "ExecuteTime": {
     "end_time": "2024-10-26T18:51:14.452969Z",
     "start_time": "2024-10-26T18:51:14.392024Z"
    }
   },
   "cell_type": "code",
   "source": [
    "\n",
    "from sklearn.datasets import fetch_california_housing\n",
    "from sklearn.linear_model import Ridge\n",
    "from sklearn.model_selection import KFold\n",
    "from sklearn.model_selection import cross_val_predict\n",
    "from sklearn.preprocessing import StandardScaler\n",
    "\n",
    "data = fetch_california_housing(as_frame=True, return_X_y=True)\n",
    "df, target = data[0], data[1]\n",
    "df = StandardScaler().fit_transform(df)\n",
    "\n",
    "cv = KFold(n_splits=4, shuffle=True, random_state=6)\n",
    "\n",
    "losses1 = []\n",
    "losses2 = []\n",
    "\n",
    "r1 = Ridge(alpha=1)\n",
    "r2 = Ridge(alpha=10)\n",
    "\n",
    "y_pred1 = cross_val_predict(r1, df, target, cv=cv)\n",
    "y_pred2 = cross_val_predict(r2, df, target, cv=cv)\n",
    "\n",
    "arr1 = (target - y_pred1) ** 2\n",
    "arr2 = (target - y_pred2) ** 2"
   ],
   "id": "675862dc59d06ff6",
   "outputs": [],
   "execution_count": 223
  },
  {
   "metadata": {
    "ExecuteTime": {
     "end_time": "2024-10-26T18:51:14.469075Z",
     "start_time": "2024-10-26T18:51:14.455216Z"
    }
   },
   "cell_type": "code",
   "source": [
    "from scipy.stats import binomtest\n",
    "\n",
    "binomtest(k=(arr1 > arr2).sum(), n=len(arr1), p=0.5, alternative='two-sided').pvalue"
   ],
   "id": "98929015bfdebbb1",
   "outputs": [
    {
     "data": {
      "text/plain": [
       "5.015427635331782e-08"
      ]
     },
     "execution_count": 224,
     "metadata": {},
     "output_type": "execute_result"
    }
   ],
   "execution_count": 224
  },
  {
   "metadata": {
    "ExecuteTime": {
     "end_time": "2024-10-26T18:51:14.485082Z",
     "start_time": "2024-10-26T18:51:14.469075Z"
    }
   },
   "cell_type": "code",
   "source": [
    "from scipy.stats import binom\n",
    "\n",
    "tN = (arr1 > arr2).sum()\n",
    "\n",
    "binom(n=len(arr1), p=0.5).cdf(tN) * 2"
   ],
   "id": "3f42d74534ed6ca0",
   "outputs": [
    {
     "data": {
      "text/plain": [
       "5.015427635331782e-08"
      ]
     },
     "execution_count": 225,
     "metadata": {},
     "output_type": "execute_result"
    }
   ],
   "execution_count": 225
  },
  {
   "metadata": {
    "ExecuteTime": {
     "end_time": "2024-10-26T18:51:14.501098Z",
     "start_time": "2024-10-26T18:51:14.487427Z"
    }
   },
   "cell_type": "code",
   "source": [
    "import pandas as pd\n",
    "\n",
    "pd.Series([7, 1, 5, 1, 3, 2, 5]).rank()"
   ],
   "id": "dcfd9d71164f6432",
   "outputs": [
    {
     "data": {
      "text/plain": [
       "0    7.0\n",
       "1    1.5\n",
       "2    5.5\n",
       "3    1.5\n",
       "4    4.0\n",
       "5    3.0\n",
       "6    5.5\n",
       "dtype: float64"
      ]
     },
     "execution_count": 226,
     "metadata": {},
     "output_type": "execute_result"
    }
   ],
   "execution_count": 226
  },
  {
   "metadata": {
    "ExecuteTime": {
     "end_time": "2024-10-26T19:03:12.284821Z",
     "start_time": "2024-10-26T19:03:12.253553Z"
    }
   },
   "cell_type": "code",
   "source": [
    "from sklearn.datasets import fetch_california_housing\n",
    "\n",
    "data = fetch_california_housing(as_frame=True, return_X_y=True)\n",
    "data = pd.concat([data[0], data[1]], axis=1)\n",
    "data['MedIncRank'] = data['MedInc'].rank()\n",
    "\n",
    "data_u_30, data_o_30 = data[data['HouseAge'] <= 30], data[data['HouseAge'] > 30]"
   ],
   "id": "52a35cf9bcd4d3e3",
   "outputs": [],
   "execution_count": 283
  },
  {
   "metadata": {
    "ExecuteTime": {
     "end_time": "2024-10-26T19:03:12.751482Z",
     "start_time": "2024-10-26T19:03:12.710925Z"
    }
   },
   "cell_type": "code",
   "source": "data_u_30",
   "id": "88bfaa9e8541ef2d",
   "outputs": [
    {
     "data": {
      "text/plain": [
       "       MedInc  HouseAge  AveRooms  AveBedrms  Population  AveOccup  Latitude  \\\n",
       "1      8.3014      21.0  6.238137   0.971880      2401.0  2.109842     37.86   \n",
       "50     0.9218      21.0  2.045662   1.034247       735.0  1.678082     37.82   \n",
       "59     2.5625       2.0  2.771930   0.754386        94.0  1.649123     37.82   \n",
       "70     1.7719      26.0  6.047244   1.196850       392.0  3.086614     37.81   \n",
       "74     2.4830      20.0  6.278195   1.210526       290.0  2.180451     37.81   \n",
       "...       ...       ...       ...        ...         ...       ...       ...   \n",
       "20635  1.5603      25.0  5.045455   1.133333       845.0  2.560606     39.48   \n",
       "20636  2.5568      18.0  6.114035   1.315789       356.0  3.122807     39.49   \n",
       "20637  1.7000      17.0  5.205543   1.120092      1007.0  2.325635     39.43   \n",
       "20638  1.8672      18.0  5.329513   1.171920       741.0  2.123209     39.43   \n",
       "20639  2.3886      16.0  5.254717   1.162264      1387.0  2.616981     39.37   \n",
       "\n",
       "       Longitude  MedHouseVal  MedIncRank  \n",
       "1        -122.22        3.585     20071.0  \n",
       "50       -122.27        1.719       103.0  \n",
       "59       -122.29        0.600      5150.0  \n",
       "70       -122.29        0.825      1648.0  \n",
       "74       -122.29        1.375      4717.5  \n",
       "...          ...          ...         ...  \n",
       "20635    -121.09        0.781       942.0  \n",
       "20636    -121.21        0.771      5116.5  \n",
       "20637    -121.22        0.923      1381.0  \n",
       "20638    -121.32        0.847      1932.0  \n",
       "20639    -121.24        0.894      4302.5  \n",
       "\n",
       "[11145 rows x 10 columns]"
      ],
      "text/html": [
       "<div>\n",
       "<style scoped>\n",
       "    .dataframe tbody tr th:only-of-type {\n",
       "        vertical-align: middle;\n",
       "    }\n",
       "\n",
       "    .dataframe tbody tr th {\n",
       "        vertical-align: top;\n",
       "    }\n",
       "\n",
       "    .dataframe thead th {\n",
       "        text-align: right;\n",
       "    }\n",
       "</style>\n",
       "<table border=\"1\" class=\"dataframe\">\n",
       "  <thead>\n",
       "    <tr style=\"text-align: right;\">\n",
       "      <th></th>\n",
       "      <th>MedInc</th>\n",
       "      <th>HouseAge</th>\n",
       "      <th>AveRooms</th>\n",
       "      <th>AveBedrms</th>\n",
       "      <th>Population</th>\n",
       "      <th>AveOccup</th>\n",
       "      <th>Latitude</th>\n",
       "      <th>Longitude</th>\n",
       "      <th>MedHouseVal</th>\n",
       "      <th>MedIncRank</th>\n",
       "    </tr>\n",
       "  </thead>\n",
       "  <tbody>\n",
       "    <tr>\n",
       "      <th>1</th>\n",
       "      <td>8.3014</td>\n",
       "      <td>21.0</td>\n",
       "      <td>6.238137</td>\n",
       "      <td>0.971880</td>\n",
       "      <td>2401.0</td>\n",
       "      <td>2.109842</td>\n",
       "      <td>37.86</td>\n",
       "      <td>-122.22</td>\n",
       "      <td>3.585</td>\n",
       "      <td>20071.0</td>\n",
       "    </tr>\n",
       "    <tr>\n",
       "      <th>50</th>\n",
       "      <td>0.9218</td>\n",
       "      <td>21.0</td>\n",
       "      <td>2.045662</td>\n",
       "      <td>1.034247</td>\n",
       "      <td>735.0</td>\n",
       "      <td>1.678082</td>\n",
       "      <td>37.82</td>\n",
       "      <td>-122.27</td>\n",
       "      <td>1.719</td>\n",
       "      <td>103.0</td>\n",
       "    </tr>\n",
       "    <tr>\n",
       "      <th>59</th>\n",
       "      <td>2.5625</td>\n",
       "      <td>2.0</td>\n",
       "      <td>2.771930</td>\n",
       "      <td>0.754386</td>\n",
       "      <td>94.0</td>\n",
       "      <td>1.649123</td>\n",
       "      <td>37.82</td>\n",
       "      <td>-122.29</td>\n",
       "      <td>0.600</td>\n",
       "      <td>5150.0</td>\n",
       "    </tr>\n",
       "    <tr>\n",
       "      <th>70</th>\n",
       "      <td>1.7719</td>\n",
       "      <td>26.0</td>\n",
       "      <td>6.047244</td>\n",
       "      <td>1.196850</td>\n",
       "      <td>392.0</td>\n",
       "      <td>3.086614</td>\n",
       "      <td>37.81</td>\n",
       "      <td>-122.29</td>\n",
       "      <td>0.825</td>\n",
       "      <td>1648.0</td>\n",
       "    </tr>\n",
       "    <tr>\n",
       "      <th>74</th>\n",
       "      <td>2.4830</td>\n",
       "      <td>20.0</td>\n",
       "      <td>6.278195</td>\n",
       "      <td>1.210526</td>\n",
       "      <td>290.0</td>\n",
       "      <td>2.180451</td>\n",
       "      <td>37.81</td>\n",
       "      <td>-122.29</td>\n",
       "      <td>1.375</td>\n",
       "      <td>4717.5</td>\n",
       "    </tr>\n",
       "    <tr>\n",
       "      <th>...</th>\n",
       "      <td>...</td>\n",
       "      <td>...</td>\n",
       "      <td>...</td>\n",
       "      <td>...</td>\n",
       "      <td>...</td>\n",
       "      <td>...</td>\n",
       "      <td>...</td>\n",
       "      <td>...</td>\n",
       "      <td>...</td>\n",
       "      <td>...</td>\n",
       "    </tr>\n",
       "    <tr>\n",
       "      <th>20635</th>\n",
       "      <td>1.5603</td>\n",
       "      <td>25.0</td>\n",
       "      <td>5.045455</td>\n",
       "      <td>1.133333</td>\n",
       "      <td>845.0</td>\n",
       "      <td>2.560606</td>\n",
       "      <td>39.48</td>\n",
       "      <td>-121.09</td>\n",
       "      <td>0.781</td>\n",
       "      <td>942.0</td>\n",
       "    </tr>\n",
       "    <tr>\n",
       "      <th>20636</th>\n",
       "      <td>2.5568</td>\n",
       "      <td>18.0</td>\n",
       "      <td>6.114035</td>\n",
       "      <td>1.315789</td>\n",
       "      <td>356.0</td>\n",
       "      <td>3.122807</td>\n",
       "      <td>39.49</td>\n",
       "      <td>-121.21</td>\n",
       "      <td>0.771</td>\n",
       "      <td>5116.5</td>\n",
       "    </tr>\n",
       "    <tr>\n",
       "      <th>20637</th>\n",
       "      <td>1.7000</td>\n",
       "      <td>17.0</td>\n",
       "      <td>5.205543</td>\n",
       "      <td>1.120092</td>\n",
       "      <td>1007.0</td>\n",
       "      <td>2.325635</td>\n",
       "      <td>39.43</td>\n",
       "      <td>-121.22</td>\n",
       "      <td>0.923</td>\n",
       "      <td>1381.0</td>\n",
       "    </tr>\n",
       "    <tr>\n",
       "      <th>20638</th>\n",
       "      <td>1.8672</td>\n",
       "      <td>18.0</td>\n",
       "      <td>5.329513</td>\n",
       "      <td>1.171920</td>\n",
       "      <td>741.0</td>\n",
       "      <td>2.123209</td>\n",
       "      <td>39.43</td>\n",
       "      <td>-121.32</td>\n",
       "      <td>0.847</td>\n",
       "      <td>1932.0</td>\n",
       "    </tr>\n",
       "    <tr>\n",
       "      <th>20639</th>\n",
       "      <td>2.3886</td>\n",
       "      <td>16.0</td>\n",
       "      <td>5.254717</td>\n",
       "      <td>1.162264</td>\n",
       "      <td>1387.0</td>\n",
       "      <td>2.616981</td>\n",
       "      <td>39.37</td>\n",
       "      <td>-121.24</td>\n",
       "      <td>0.894</td>\n",
       "      <td>4302.5</td>\n",
       "    </tr>\n",
       "  </tbody>\n",
       "</table>\n",
       "<p>11145 rows × 10 columns</p>\n",
       "</div>"
      ]
     },
     "execution_count": 284,
     "metadata": {},
     "output_type": "execute_result"
    }
   ],
   "execution_count": 284
  },
  {
   "metadata": {
    "ExecuteTime": {
     "end_time": "2024-10-26T19:03:13.480875Z",
     "start_time": "2024-10-26T19:03:13.466527Z"
    }
   },
   "cell_type": "code",
   "source": [
    "R1 = data_u_30['MedIncRank'].sum()\n",
    "R2 = data_o_30['MedIncRank'].sum()\n",
    "\n",
    "N1 = data_u_30.shape[0]\n",
    "N2 = data_o_30.shape[0]\n",
    "\n",
    "from scipy.stats import norm\n",
    "\n",
    "mu = N1 * (N1 + N2 + 1) / 2\n",
    "sigma = (N1 * N2 * (N1 + N2 + 1) / 12) ** 0.5\n",
    "\n",
    "norm(loc=mu, scale=sigma).cdf(R1) * 2"
   ],
   "id": "2944c16a0fc3765",
   "outputs": [
    {
     "data": {
      "text/plain": [
       "2.0"
      ]
     },
     "execution_count": 285,
     "metadata": {},
     "output_type": "execute_result"
    }
   ],
   "execution_count": 285
  },
  {
   "metadata": {},
   "cell_type": "markdown",
   "source": "Тут выходит говно, тк данные не очень независимы",
   "id": "c24b4f6a135bf46b"
  },
  {
   "metadata": {
    "ExecuteTime": {
     "end_time": "2024-10-26T19:03:15.220732Z",
     "start_time": "2024-10-26T19:03:15.204975Z"
    }
   },
   "cell_type": "code",
   "source": [
    "U1 = R1 - N1 * (N1 + 1) / 2\n",
    "U2 = R2 - N2 * (N2 + 1) / 2\n",
    "\n",
    "print(f'N1 - {N1}, N2 - {N2}\\nU1 - {U1}, U2 - {U2}')\n",
    "\n",
    "# По таблице не найдёшь:("
   ],
   "id": "ce1bbe8b35a97c10",
   "outputs": [
    {
     "name": "stdout",
     "output_type": "stream",
     "text": [
      "N1 - 11145, N2 - 9495\n",
      "U1 - 59254034.5, U2 - 46567740.5\n"
     ]
    }
   ],
   "execution_count": 287
  },
  {
   "metadata": {
    "ExecuteTime": {
     "end_time": "2024-10-26T19:03:15.747434Z",
     "start_time": "2024-10-26T19:03:15.722533Z"
    }
   },
   "cell_type": "code",
   "source": [
    "from scipy.stats import mannwhitneyu\n",
    "\n",
    "mannwhitneyu(\n",
    "    x=data_u_30['MedInc'],\n",
    "    y=data_o_30['MedInc'],\n",
    "    alternative=\"two-sided\",\n",
    "    method='auto'\n",
    ").pvalue"
   ],
   "id": "6b4efce8d61bde46",
   "outputs": [
    {
     "data": {
      "text/plain": [
       "5.345198689020034e-50"
      ]
     },
     "execution_count": 288,
     "metadata": {},
     "output_type": "execute_result"
    }
   ],
   "execution_count": 288
  },
  {
   "metadata": {
    "ExecuteTime": {
     "end_time": "2024-10-26T19:02:37.447651Z",
     "start_time": "2024-10-26T19:02:37.423622Z"
    }
   },
   "cell_type": "code",
   "source": [
    "mannwhitneyu(\n",
    "    x=data_u_30['MedInc'],\n",
    "    y=data_o_30['MedInc'],\n",
    "    alternative=\"two-sided\",\n",
    "    method='asymptotic'\n",
    ").pvalue"
   ],
   "id": "ac348f9ffa47df4b",
   "outputs": [
    {
     "data": {
      "text/plain": [
       "5.345198689020034e-50"
      ]
     },
     "execution_count": 282,
     "metadata": {},
     "output_type": "execute_result"
    }
   ],
   "execution_count": 282
  },
  {
   "metadata": {
    "ExecuteTime": {
     "end_time": "2024-10-26T18:52:08.875048Z",
     "start_time": "2024-10-26T18:51:14.675512Z"
    }
   },
   "cell_type": "code",
   "source": [
    "mannwhitneyu(\n",
    "    x=data_u_30['MedInc'],\n",
    "    y=data_o_30['MedInc'],\n",
    "    alternative=\"two-sided\",\n",
    "    method='exact'\n",
    ")  # Очень долго:("
   ],
   "id": "db7acf24dbe8f471",
   "outputs": [
    {
     "ename": "KeyboardInterrupt",
     "evalue": "",
     "output_type": "error",
     "traceback": [
      "\u001B[1;31m---------------------------------------------------------------------------\u001B[0m",
      "\u001B[1;31mKeyboardInterrupt\u001B[0m                         Traceback (most recent call last)",
      "Cell \u001B[1;32mIn[236], line 1\u001B[0m\n\u001B[1;32m----> 1\u001B[0m \u001B[43mmannwhitneyu\u001B[49m\u001B[43m(\u001B[49m\n\u001B[0;32m      2\u001B[0m \u001B[43m    \u001B[49m\u001B[43mx\u001B[49m\u001B[38;5;241;43m=\u001B[39;49m\u001B[43mdata_u_30\u001B[49m\u001B[43m[\u001B[49m\u001B[38;5;124;43m'\u001B[39;49m\u001B[38;5;124;43mMedInc\u001B[39;49m\u001B[38;5;124;43m'\u001B[39;49m\u001B[43m]\u001B[49m\u001B[43m,\u001B[49m\n\u001B[0;32m      3\u001B[0m \u001B[43m    \u001B[49m\u001B[43my\u001B[49m\u001B[38;5;241;43m=\u001B[39;49m\u001B[43mdata_o_30\u001B[49m\u001B[43m[\u001B[49m\u001B[38;5;124;43m'\u001B[39;49m\u001B[38;5;124;43mMedInc\u001B[39;49m\u001B[38;5;124;43m'\u001B[39;49m\u001B[43m]\u001B[49m\u001B[43m,\u001B[49m\n\u001B[0;32m      4\u001B[0m \u001B[43m    \u001B[49m\u001B[43malternative\u001B[49m\u001B[38;5;241;43m=\u001B[39;49m\u001B[38;5;124;43m\"\u001B[39;49m\u001B[38;5;124;43mtwo-sided\u001B[39;49m\u001B[38;5;124;43m\"\u001B[39;49m\u001B[43m,\u001B[49m\n\u001B[0;32m      5\u001B[0m \u001B[43m    \u001B[49m\u001B[43mmethod\u001B[49m\u001B[38;5;241;43m=\u001B[39;49m\u001B[38;5;124;43m'\u001B[39;49m\u001B[38;5;124;43mexact\u001B[39;49m\u001B[38;5;124;43m'\u001B[39;49m\n\u001B[0;32m      6\u001B[0m \u001B[43m)\u001B[49m  \u001B[38;5;66;03m# Очень долго:(\u001B[39;00m\n",
      "File \u001B[1;32m~\\.virtualenvs\\MachineLearning-x7kuzlXN\\lib\\site-packages\\scipy\\stats\\_axis_nan_policy.py:573\u001B[0m, in \u001B[0;36m_axis_nan_policy_factory.<locals>.axis_nan_policy_decorator.<locals>.axis_nan_policy_wrapper\u001B[1;34m(***failed resolving arguments***)\u001B[0m\n\u001B[0;32m    570\u001B[0m     res \u001B[38;5;241m=\u001B[39m _add_reduced_axes(res, reduced_axes, keepdims)\n\u001B[0;32m    571\u001B[0m     \u001B[38;5;28;01mreturn\u001B[39;00m tuple_to_result(\u001B[38;5;241m*\u001B[39mres)\n\u001B[1;32m--> 573\u001B[0m res \u001B[38;5;241m=\u001B[39m hypotest_fun_out(\u001B[38;5;241m*\u001B[39msamples, \u001B[38;5;241m*\u001B[39m\u001B[38;5;241m*\u001B[39mkwds)\n\u001B[0;32m    574\u001B[0m res \u001B[38;5;241m=\u001B[39m result_to_tuple(res)\n\u001B[0;32m    575\u001B[0m res \u001B[38;5;241m=\u001B[39m _add_reduced_axes(res, reduced_axes, keepdims)\n",
      "File \u001B[1;32m~\\.virtualenvs\\MachineLearning-x7kuzlXN\\lib\\site-packages\\scipy\\stats\\_mannwhitneyu.py:473\u001B[0m, in \u001B[0;36mmannwhitneyu\u001B[1;34m(x, y, use_continuity, alternative, axis, method)\u001B[0m\n\u001B[0;32m    471\u001B[0m \u001B[38;5;28;01mif\u001B[39;00m method \u001B[38;5;241m==\u001B[39m \u001B[38;5;124m\"\u001B[39m\u001B[38;5;124mexact\u001B[39m\u001B[38;5;124m\"\u001B[39m:\n\u001B[0;32m    472\u001B[0m     _mwu_state\u001B[38;5;241m.\u001B[39mset_shapes(n1, n2)\n\u001B[1;32m--> 473\u001B[0m     p \u001B[38;5;241m=\u001B[39m \u001B[43m_mwu_state\u001B[49m\u001B[38;5;241;43m.\u001B[39;49m\u001B[43msf\u001B[49m\u001B[43m(\u001B[49m\u001B[43mU\u001B[49m\u001B[38;5;241;43m.\u001B[39;49m\u001B[43mastype\u001B[49m\u001B[43m(\u001B[49m\u001B[38;5;28;43mint\u001B[39;49m\u001B[43m)\u001B[49m\u001B[43m)\u001B[49m\n\u001B[0;32m    474\u001B[0m \u001B[38;5;28;01melif\u001B[39;00m method \u001B[38;5;241m==\u001B[39m \u001B[38;5;124m\"\u001B[39m\u001B[38;5;124masymptotic\u001B[39m\u001B[38;5;124m\"\u001B[39m:\n\u001B[0;32m    475\u001B[0m     z \u001B[38;5;241m=\u001B[39m _get_mwu_z(U, n1, n2, t, continuity\u001B[38;5;241m=\u001B[39muse_continuity)\n",
      "File \u001B[1;32m~\\.virtualenvs\\MachineLearning-x7kuzlXN\\lib\\site-packages\\scipy\\stats\\_mannwhitneyu.py:79\u001B[0m, in \u001B[0;36m_MWU.sf\u001B[1;34m(self, k)\u001B[0m\n\u001B[0;32m     77\u001B[0m     cdfs[i] \u001B[38;5;241m=\u001B[39m \u001B[38;5;241m1.\u001B[39m \u001B[38;5;241m-\u001B[39m cdfs[i] \u001B[38;5;241m+\u001B[39m \u001B[38;5;28mself\u001B[39m\u001B[38;5;241m.\u001B[39mpmf(kc[i])\n\u001B[0;32m     78\u001B[0m \u001B[38;5;28;01melse\u001B[39;00m:\n\u001B[1;32m---> 79\u001B[0m     cdfs \u001B[38;5;241m=\u001B[39m np\u001B[38;5;241m.\u001B[39masarray(\u001B[38;5;28;43mself\u001B[39;49m\u001B[38;5;241;43m.\u001B[39;49m\u001B[43mcdf\u001B[49m\u001B[43m(\u001B[49m\u001B[43mkc\u001B[49m\u001B[43m)\u001B[49m)\n\u001B[0;32m     80\u001B[0m \u001B[38;5;28;01mreturn\u001B[39;00m cdfs[()]\n",
      "File \u001B[1;32m~\\.virtualenvs\\MachineLearning-x7kuzlXN\\lib\\site-packages\\scipy\\stats\\_mannwhitneyu.py:61\u001B[0m, in \u001B[0;36m_MWU.cdf\u001B[1;34m(self, k)\u001B[0m\n\u001B[0;32m     57\u001B[0m \u001B[38;5;250m\u001B[39m\u001B[38;5;124;03m'''Cumulative distribution function'''\u001B[39;00m\n\u001B[0;32m     59\u001B[0m \u001B[38;5;66;03m# In practice, `cdf` is never called with k > m*n/2.\u001B[39;00m\n\u001B[0;32m     60\u001B[0m \u001B[38;5;66;03m# If it were, we'd exploit symmetry here rather than in `sf`\u001B[39;00m\n\u001B[1;32m---> 61\u001B[0m pmfs \u001B[38;5;241m=\u001B[39m \u001B[38;5;28;43mself\u001B[39;49m\u001B[38;5;241;43m.\u001B[39;49m\u001B[43mbuild_u_freqs_array\u001B[49m\u001B[43m(\u001B[49m\u001B[43mnp\u001B[49m\u001B[38;5;241;43m.\u001B[39;49m\u001B[43mmax\u001B[49m\u001B[43m(\u001B[49m\u001B[43mk\u001B[49m\u001B[43m)\u001B[49m\u001B[43m)\u001B[49m\n\u001B[0;32m     62\u001B[0m cdfs \u001B[38;5;241m=\u001B[39m np\u001B[38;5;241m.\u001B[39mcumsum(pmfs)\n\u001B[0;32m     63\u001B[0m \u001B[38;5;28;01mreturn\u001B[39;00m cdfs[k]\n",
      "File \u001B[1;32m~\\.virtualenvs\\MachineLearning-x7kuzlXN\\lib\\site-packages\\scipy\\stats\\_mannwhitneyu.py:132\u001B[0m, in \u001B[0;36m_MWU.build_u_freqs_array\u001B[1;34m(self, maxu)\u001B[0m\n\u001B[0;32m    130\u001B[0m \u001B[38;5;28;01mfor\u001B[39;00m u \u001B[38;5;129;01min\u001B[39;00m np\u001B[38;5;241m.\u001B[39marange(\u001B[38;5;241m1\u001B[39m, maxu \u001B[38;5;241m+\u001B[39m \u001B[38;5;241m1\u001B[39m):\n\u001B[0;32m    131\u001B[0m     coeffs \u001B[38;5;241m=\u001B[39m s_array[u \u001B[38;5;241m-\u001B[39m \u001B[38;5;241m1\u001B[39m::\u001B[38;5;241m-\u001B[39m\u001B[38;5;241m1\u001B[39m]\n\u001B[1;32m--> 132\u001B[0m     new_val \u001B[38;5;241m=\u001B[39m \u001B[43mnp\u001B[49m\u001B[38;5;241;43m.\u001B[39;49m\u001B[43mdot\u001B[49m\u001B[43m(\u001B[49m\u001B[43mconfigurations\u001B[49m\u001B[43m[\u001B[49m\u001B[43m:\u001B[49m\u001B[43mu\u001B[49m\u001B[43m]\u001B[49m\u001B[43m,\u001B[49m\u001B[43m \u001B[49m\u001B[43mcoeffs\u001B[49m\u001B[43m)\u001B[49m \u001B[38;5;241m/\u001B[39m u\n\u001B[0;32m    133\u001B[0m     \u001B[38;5;28;01mif\u001B[39;00m new_val \u001B[38;5;241m>\u001B[39m uint_max \u001B[38;5;129;01mand\u001B[39;00m configurations_is_uint:\n\u001B[0;32m    134\u001B[0m         \u001B[38;5;66;03m# OK, we got into numbers too big for uint64.\u001B[39;00m\n\u001B[0;32m    135\u001B[0m         \u001B[38;5;66;03m# So now we start working with floats.\u001B[39;00m\n\u001B[0;32m    136\u001B[0m         \u001B[38;5;66;03m# By doing this since the beginning, we would have lost precision.\u001B[39;00m\n\u001B[0;32m    137\u001B[0m         \u001B[38;5;66;03m# (And working on python long ints would be unbearably slow)\u001B[39;00m\n\u001B[0;32m    138\u001B[0m         configurations \u001B[38;5;241m=\u001B[39m configurations\u001B[38;5;241m.\u001B[39mastype(\u001B[38;5;28mfloat\u001B[39m)\n",
      "\u001B[1;31mKeyboardInterrupt\u001B[0m: "
     ]
    }
   ],
   "execution_count": 236
  },
  {
   "metadata": {},
   "cell_type": "markdown",
   "source": [
    "В данном случае формула и функция выдают похожие результаты так как данные независимы (почти)\n",
    "\n",
    "Если group_1 и group_2 будут от оба от 0 до 100, то будет дерьмо:("
   ],
   "id": "c91bfaa925c11ec0"
  },
  {
   "metadata": {
    "ExecuteTime": {
     "end_time": "2024-10-26T19:03:34.999391Z",
     "start_time": "2024-10-26T19:03:34.967673Z"
    }
   },
   "cell_type": "code",
   "source": [
    "import numpy as np\n",
    "\n",
    "group_1 = np.random.randint(0,100, size=100)\n",
    "group_2 = np.random.randint(50,150, size=100)\n",
    "\n",
    "test_data = pd.DataFrame({\n",
    "    'Value': np.concatenate([group_1, group_2]),\n",
    "    'Group': [1] * len(group_1) + [2] * len(group_2)\n",
    "})\n",
    "test_data['rankValues'] = test_data['Value'].sort_values().rank()\n",
    "\n",
    "test_data_1, test_data_2 = (test_data[test_data['Group'] == 1]['rankValues'],\n",
    "                            test_data[test_data['Group'] == 2]['rankValues'])"
   ],
   "id": "48806505c39ea59f",
   "outputs": [],
   "execution_count": 289
  },
  {
   "metadata": {
    "ExecuteTime": {
     "end_time": "2024-10-26T19:03:43.144896Z",
     "start_time": "2024-10-26T19:03:43.126904Z"
    }
   },
   "cell_type": "code",
   "source": [
    "R1 = test_data_1.sum()\n",
    "R2 = test_data_2.sum()\n",
    "\n",
    "N1 = len(test_data_1)\n",
    "N2 = len(test_data_2)\n",
    "\n",
    "from scipy.stats import norm\n",
    "\n",
    "mu = N1 * (N1 + N2 + 1) / 2\n",
    "sigma = (N1 * N2 * (N1 + N2 + 1) / 12) ** 0.5\n",
    "\n",
    "norm(loc=mu, scale=sigma).cdf(R1) * 2"
   ],
   "id": "e4c8598b5b75d7a7",
   "outputs": [
    {
     "data": {
      "text/plain": [
       "1.75202851885393e-22"
      ]
     },
     "execution_count": 293,
     "metadata": {},
     "output_type": "execute_result"
    }
   ],
   "execution_count": 293
  },
  {
   "metadata": {
    "ExecuteTime": {
     "end_time": "2024-10-26T19:03:44.018666Z",
     "start_time": "2024-10-26T19:03:43.997016Z"
    }
   },
   "cell_type": "code",
   "source": [
    "from scipy.stats import mannwhitneyu\n",
    "\n",
    "mannwhitneyu(\n",
    "    x=group_1,\n",
    "    y=group_2,\n",
    "    alternative=\"two-sided\",\n",
    "    method='asymptotic'\n",
    ").pvalue"
   ],
   "id": "45240a1691a6ec7c",
   "outputs": [
    {
     "data": {
      "text/plain": [
       "1.7602566763379255e-22"
      ]
     },
     "execution_count": 294,
     "metadata": {},
     "output_type": "execute_result"
    }
   ],
   "execution_count": 294
  },
  {
   "metadata": {
    "ExecuteTime": {
     "end_time": "2024-10-26T19:04:26.904823Z",
     "start_time": "2024-10-26T19:04:26.896356Z"
    }
   },
   "cell_type": "code",
   "source": "1-0.99**12",
   "id": "5850d53c3990179b",
   "outputs": [
    {
     "data": {
      "text/plain": [
       "0.11361512828387077"
      ]
     },
     "execution_count": 295,
     "metadata": {},
     "output_type": "execute_result"
    }
   ],
   "execution_count": 295
  }
 ],
 "metadata": {
  "kernelspec": {
   "display_name": "Python 3",
   "language": "python",
   "name": "python3"
  },
  "language_info": {
   "codemirror_mode": {
    "name": "ipython",
    "version": 2
   },
   "file_extension": ".py",
   "mimetype": "text/x-python",
   "name": "python",
   "nbconvert_exporter": "python",
   "pygments_lexer": "ipython2",
   "version": "2.7.6"
  }
 },
 "nbformat": 4,
 "nbformat_minor": 5
}
