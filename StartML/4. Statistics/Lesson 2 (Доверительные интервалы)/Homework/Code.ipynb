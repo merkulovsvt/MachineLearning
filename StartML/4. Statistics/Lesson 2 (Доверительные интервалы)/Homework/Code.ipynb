{
 "cells": [
  {
   "metadata": {
    "ExecuteTime": {
     "end_time": "2024-10-18T12:01:20.952181Z",
     "start_time": "2024-10-18T12:01:20.922460Z"
    }
   },
   "cell_type": "code",
   "source": [
    "import numpy as np\n",
    "\n",
    "data = np.array([1, 3, 9, 2, 4, 0, 1, 5, -2, 12])\n",
    "np.quantile(data, 0.7)"
   ],
   "id": "303ef8872e5096d3",
   "outputs": [
    {
     "data": {
      "text/plain": [
       "4.3"
      ]
     },
     "execution_count": 12,
     "metadata": {},
     "output_type": "execute_result"
    }
   ],
   "execution_count": 12
  },
  {
   "metadata": {
    "ExecuteTime": {
     "end_time": "2024-10-18T12:01:12.152842Z",
     "start_time": "2024-10-18T12:01:12.124255Z"
    }
   },
   "cell_type": "code",
   "source": [
    "from scipy.special import comb\n",
    "\n",
    "comb(N=len(data), k=1) * (0.3) ** 1 * (0.7) ** (len(data) - 1) + comb(N=len(data), k=0) * (0.3) ** 0 * (0.7) ** (\n",
    "    len(data))"
   ],
   "id": "112d3ee32c62eb39",
   "outputs": [
    {
     "data": {
      "text/plain": [
       "0.14930834589999992"
      ]
     },
     "execution_count": 11,
     "metadata": {},
     "output_type": "execute_result"
    }
   ],
   "execution_count": 11
  },
  {
   "metadata": {
    "ExecuteTime": {
     "end_time": "2024-10-18T12:07:46.840414Z",
     "start_time": "2024-10-18T12:07:46.822416Z"
    }
   },
   "cell_type": "code",
   "source": [
    "res = 0\n",
    "for i in range(100):\n",
    "    res += comb(N=1000, k=i) * (0.3) ** i * (0.7) ** (1000 - i)\n",
    "res"
   ],
   "id": "86366c012e87a4d2",
   "outputs": [
    {
     "data": {
      "text/plain": [
       "4.43294355561438e-53"
      ]
     },
     "execution_count": 22,
     "metadata": {},
     "output_type": "execute_result"
    }
   ],
   "execution_count": 22
  },
  {
   "metadata": {
    "ExecuteTime": {
     "end_time": "2024-10-18T12:05:32.474126Z",
     "start_time": "2024-10-18T12:05:32.454555Z"
    }
   },
   "cell_type": "code",
   "source": [
    "from scipy.stats import binom\n",
    "\n",
    "binom.cdf(k=100, n=1000, p=0.3)"
   ],
   "id": "fc097be446973666",
   "outputs": [
    {
     "data": {
      "text/plain": [
       "1.7183404003299047e-52"
      ]
     },
     "execution_count": 19,
     "metadata": {},
     "output_type": "execute_result"
    }
   ],
   "execution_count": 19
  },
  {
   "metadata": {
    "ExecuteTime": {
     "end_time": "2024-10-18T12:05:53.199719Z",
     "start_time": "2024-10-18T12:05:53.179721Z"
    }
   },
   "cell_type": "code",
   "source": "binom.pmf(k=100, n=1000, p=0.3)",
   "id": "e7d15a09623ee0b3",
   "outputs": [
    {
     "data": {
      "text/plain": [
       "1.2750460447683011e-52"
      ]
     },
     "execution_count": 20,
     "metadata": {},
     "output_type": "execute_result"
    }
   ],
   "execution_count": 20
  },
  {
   "metadata": {
    "ExecuteTime": {
     "end_time": "2024-10-18T12:11:53.558862Z",
     "start_time": "2024-10-18T12:11:53.533703Z"
    }
   },
   "cell_type": "code",
   "source": [
    "from scipy.stats import norm\n",
    "\n",
    "norm.ppf(0.025, loc=0, scale=1), norm.cdf(3, loc=0, scale=1) * 100"
   ],
   "id": "224adc24f7cb80cd",
   "outputs": [
    {
     "data": {
      "text/plain": [
       "(-1.9599639845400545, 99.86501019683699)"
      ]
     },
     "execution_count": 30,
     "metadata": {},
     "output_type": "execute_result"
    }
   ],
   "execution_count": 30
  },
  {
   "metadata": {
    "ExecuteTime": {
     "end_time": "2024-10-18T12:25:22.462305Z",
     "start_time": "2024-10-18T12:25:22.450305Z"
    }
   },
   "cell_type": "code",
   "source": [
    "mean = 25\n",
    "sigma = 7\n",
    "N = 63\n",
    "\n",
    "se = sigma / np.sqrt(N)\n",
    "\n",
    "mean - 1.96 * se, mean + 1.96 * se"
   ],
   "id": "b7cd388c142f22bf",
   "outputs": [
    {
     "data": {
      "text/plain": [
       "(23.271442476771135, 26.728557523228865)"
      ]
     },
     "execution_count": 36,
     "metadata": {},
     "output_type": "execute_result"
    }
   ],
   "execution_count": 36
  },
  {
   "metadata": {},
   "cell_type": "markdown",
   "source": [
    "Почему мы можем использовать нормальное распределение:\n",
    "\n",
    "\n",
    "Центральная предельная теорема (ЦПТ): Согласно центральной предельной теореме, если размер выборки достаточно большой (обычно считается, что n≥30 достаточно), то распределение выборочного среднего будет стремиться к нормальному, даже если исходные данные распределены не по нормальному закону. У нас 63 примера, что больше 30, поэтому мы можем полагаться на ЦПТ.\n",
    "\n",
    "Известное стандартное отклонение (σ): В задаче указано, что стандартное отклонение известно заранее. Это делает ситуацию похожей на работу с генеральной совокупностью, где применимо нормальное распределение. В случае, если бы мы не знали стандартное отклонение и его пришлось бы оценивать по выборке, стоило бы использовать t-распределение Стьюдента, которое лучше подходит для малых выборок.\n",
    "\n",
    "Рассуждение о стандартизации: Стандартизация данных требуется в случаях, когда мы сравниваем разные выборки или данные с различными шкалами. Однако в данном контексте это не требуется, так как у нас уже есть среднее и стандартное отклонение для построения доверительного интервала для одного набора данных."
   ],
   "id": "bd32c31667419588"
  },
  {
   "metadata": {
    "ExecuteTime": {
     "end_time": "2024-10-18T12:32:41.779975Z",
     "start_time": "2024-10-18T12:32:41.760351Z"
    }
   },
   "cell_type": "code",
   "source": [
    "from scipy.stats import t\n",
    "\n",
    "N = 25\n",
    "mean = 170\n",
    "std = 12\n",
    "\n",
    "se = std / np.sqrt(N)\n",
    "\n",
    "mean + se * t.ppf(0.025, df=N - 1), mean + se * t.ppf(0.975, df=N - 1)"
   ],
   "id": "fe022fb3ff00268a",
   "outputs": [
    {
     "data": {
      "text/plain": [
       "(165.04664345209275, 174.95335654790725)"
      ]
     },
     "execution_count": 42,
     "metadata": {},
     "output_type": "execute_result"
    }
   ],
   "execution_count": 42
  },
  {
   "metadata": {},
   "cell_type": "markdown",
   "source": [
    "Здесь есть фокус — так как мы не знаем истинного значения стандартного отклонения, лучше использовать распределение Стьюдента.\n",
    "\n",
    "Для оценки доверительного интервала при использовании распределения Стьюдента мы предполагаем, что выборка взята из нормально распределенной генеральной совокупности. Однако, даже если у нас нет уверенности в нормальности исходных данных, согласно Центральной предельной теореме, для достаточно большого размера выборки (обычно считается достаточным размер около 30 и больше) распределение выборочной средней стремится к нормальному, независимо от формы исходного распределения.\n",
    "\n",
    "В данной задаче у нас есть выборка из 25 магазинов, и хотя это немного меньше 30, использование распределения Стьюдента оправдано тем, что его хвосты шире, и он более \"щадящий\" по отношению к малым выборкам, особенно когда генеральное"
   ],
   "id": "62c16e0e95a3b86b"
  },
  {
   "metadata": {
    "ExecuteTime": {
     "end_time": "2024-10-18T13:01:50.075504Z",
     "start_time": "2024-10-18T13:01:49.729152Z"
    }
   },
   "cell_type": "code",
   "source": [
    "import seaborn as sns\n",
    "import matplotlib.pyplot as plt\n",
    "\n",
    "data = np.random.poisson(lam=50, size=1000)\n",
    "se = data.std() / np.sqrt(1000)\n",
    "\n",
    "a = data.mean() + se * t.ppf(0.025, df=N - 1)\n",
    "b = data.mean() + se * t.ppf(0.975, df=N - 1)\n",
    "\n",
    "sns.histplot(data)\n",
    "plt.axvline(a)\n",
    "plt.axvline(b)\n",
    "\n",
    "abs(a - b), a, b"
   ],
   "id": "2b8efb13ca23c8b9",
   "outputs": [
    {
     "data": {
      "text/plain": [
       "(0.9136749185987014, 49.706162540700646, 50.61983745929935)"
      ]
     },
     "execution_count": 78,
     "metadata": {},
     "output_type": "execute_result"
    },
    {
     "data": {
      "text/plain": [
       "<Figure size 640x480 with 1 Axes>"
      ],
      "image/png": "[encoded data removed]"
     },
     "metadata": {},
     "output_type": "display_data"
    }
   ],
   "execution_count": 78
  },
  {
   "metadata": {
    "ExecuteTime": {
     "end_time": "2024-10-18T13:30:18.261019Z",
     "start_time": "2024-10-18T13:30:18.066228Z"
    }
   },
   "cell_type": "code",
   "source": [
    "bs_std_data = []\n",
    "for _ in range(1000):\n",
    "    bs_std_data.append(np.random.choice(a=data, size=1000, replace=True).std())\n",
    "\n",
    "q1 = np.quantile(bs_std_data, 0.025)\n",
    "q2 = np.quantile(bs_std_data, 0.975)\n",
    "\n",
    "sns.histplot(bs_std_data)\n",
    "plt.axvline(q1)\n",
    "plt.axvline(q2)\n",
    "\n",
    "q1, q2"
   ],
   "id": "7548723e7e3e7887",
   "outputs": [
    {
     "data": {
      "text/plain": [
       "(6.695072037054808, 7.327968710357009)"
      ]
     },
     "execution_count": 95,
     "metadata": {},
     "output_type": "execute_result"
    },
    {
     "data": {
      "text/plain": [
       "<Figure size 640x480 with 1 Axes>"
      ],
      "image/png": "[encoded data removed]"
     },
     "metadata": {},
     "output_type": "display_data"
    }
   ],
   "execution_count": 95
  },
  {
   "metadata": {
    "ExecuteTime": {
     "end_time": "2024-10-18T13:30:04.036907Z",
     "start_time": "2024-10-18T13:30:04.010109Z"
    }
   },
   "cell_type": "code",
   "source": [
    "from scipy.stats import bootstrap\n",
    "\n",
    "bootstrap(\n",
    "    data=(data,),\n",
    "    statistic=np.std,\n",
    "    confidence_level=0.95,\n",
    "    n_resamples=1000,\n",
    "    method='percentile'\n",
    ").confidence_interval"
   ],
   "id": "d01090c7f2ef7cd3",
   "outputs": [
    {
     "data": {
      "text/plain": [
       "ConfidenceInterval(low=6.688579719970224, high=7.344477299187267)"
      ]
     },
     "execution_count": 90,
     "metadata": {},
     "output_type": "execute_result"
    }
   ],
   "execution_count": 90
  },
  {
   "metadata": {
    "ExecuteTime": {
     "end_time": "2024-10-18T13:53:11.687792Z",
     "start_time": "2024-10-18T13:53:00.191927Z"
    }
   },
   "cell_type": "code",
   "source": [
    "from sklearn.datasets import fetch_california_housing\n",
    "from sklearn.linear_model import Ridge\n",
    "from sklearn.metrics import mean_squared_error\n",
    "\n",
    "X, y = fetch_california_housing(return_X_y=True, as_frame=True)\n",
    "\n",
    "res = []\n",
    "for _ in range(1000):\n",
    "    train_index = np.random.choice(X.index, size=X.shape[0], replace=True)\n",
    "    test_index = np.setdiff1d(X.index, train_index)\n",
    "\n",
    "    X_train, y_train = X.iloc[train_index, :], y.iloc[train_index]\n",
    "    X_test, y_test = X.iloc[test_index, :], y.iloc[test_index]\n",
    "\n",
    "    model = Ridge()\n",
    "    model.fit(X_train, y_train)\n",
    "    res.append(mean_squared_error(model.predict(X_test), y_test))\n",
    "\n",
    "q1 = np.quantile(res, 0.025)\n",
    "q2 = np.quantile(res, 0.975)\n",
    "\n",
    "sns.histplot(res)\n",
    "plt.axvline(q1)\n",
    "plt.axvline(q2)\n",
    "\n",
    "q1, q2"
   ],
   "id": "540bc115d518b8a3",
   "outputs": [
    {
     "data": {
      "text/plain": [
       "(0.5042219211866612, 1.128741276391879)"
      ]
     },
     "execution_count": 137,
     "metadata": {},
     "output_type": "execute_result"
    },
    {
     "data": {
      "text/plain": [
       "<Figure size 640x480 with 1 Axes>"
      ],
      "image/png": "[encoded data removed]"
     },
     "metadata": {},
     "output_type": "display_data"
    }
   ],
   "execution_count": 137
  },
  {
   "metadata": {
    "ExecuteTime": {
     "end_time": "2024-10-18T14:02:25.278162Z",
     "start_time": "2024-10-18T14:02:25.260493Z"
    }
   },
   "cell_type": "code",
   "source": [
    "def generate_norm_dist():\n",
    "    return np.random.normal(loc=3, scale=4, size=1000)"
   ],
   "id": "1904efd7def40aca",
   "outputs": [],
   "execution_count": 143
  },
  {
   "metadata": {
    "ExecuteTime": {
     "end_time": "2024-10-18T14:04:49.410250Z",
     "start_time": "2024-10-18T14:04:49.102490Z"
    }
   },
   "cell_type": "code",
   "source": [
    "res = []\n",
    "for _ in range(1000):\n",
    "    norm_dist = generate_norm_dist()\n",
    "\n",
    "    q1 = norm_dist.mean() + norm_dist.std() / np.sqrt(1000) * t.ppf(0.025, df=1000 - 1)\n",
    "    q2 = norm_dist.mean() + norm_dist.std() / np.sqrt(1000) * t.ppf(0.975, df=1000 - 1)\n",
    "    res.append(q1 <= 3 <= q2)\n",
    "\n",
    "np.mean(res)"
   ],
   "id": "9092b48536495930",
   "outputs": [
    {
     "data": {
      "text/plain": [
       "0.954"
      ]
     },
     "execution_count": 162,
     "metadata": {},
     "output_type": "execute_result"
    }
   ],
   "execution_count": 162
  }
 ],
 "metadata": {
  "kernelspec": {
   "display_name": "Python 3",
   "language": "python",
   "name": "python3"
  },
  "language_info": {
   "codemirror_mode": {
    "name": "ipython",
    "version": 2
   },
   "file_extension": ".py",
   "mimetype": "text/x-python",
   "name": "python",
   "nbconvert_exporter": "python",
   "pygments_lexer": "ipython2",
   "version": "2.7.6"
  }
 },
 "nbformat": 4,
 "nbformat_minor": 5
}
