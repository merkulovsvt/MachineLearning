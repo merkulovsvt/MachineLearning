{
 "cells": [
  {
   "cell_type": "code",
   "outputs": [],
   "source": [
    "class Triangle:\n",
    "    n_dots = 3\n",
    "\n",
    "    def __init__(self, a: float, b: float, c: float):\n",
    "        self.a = a\n",
    "        self.b = b\n",
    "        self.c = c\n",
    "\n",
    "\n",
    "tr_1 = Triangle(3, 4, 5)\n",
    "tr_2 = Triangle(3, 4, 5)"
   ],
   "metadata": {
    "collapsed": false
   },
   "id": "23d0cc31a55ce5d9",
   "execution_count": null
  },
  {
   "cell_type": "code",
   "outputs": [],
   "source": [
    "class Triangle:\n",
    "    n_dots = 3\n",
    "\n",
    "    def __init__(self, a: float, b: float, c: float):\n",
    "        if a < b + c and b < a + c and c < a + b:\n",
    "            self.a = a\n",
    "            self.b = b\n",
    "            self.c = c\n",
    "        else:\n",
    "            raise ValueError('triangle inequality does not hold')\n",
    "\n",
    "    def area(self):\n",
    "        p = (self.a + self.b + self.c) / 2\n",
    "        S = (p * (p - self.a) * (p - self.b) * (p - self.c)) ** 0.5\n",
    "        return S\n",
    "\n",
    "\n",
    "tr_1 = Triangle(3, 4, 5)\n",
    "tr_2 = Triangle(3, 4, 5)\n",
    "\n",
    "square_1 = tr_1.area()\n",
    "square_2 = tr_2.area()"
   ],
   "metadata": {
    "collapsed": false
   },
   "id": "f0e833fa80a256d7",
   "execution_count": null
  },
  {
   "cell_type": "code",
   "outputs": [],
   "source": [
    "class Rectangle(Triangle):\n",
    "    n_dots = 4\n",
    "\n",
    "    def __init__(self, a, b):\n",
    "        self.a = a\n",
    "        self.b = b\n",
    "\n",
    "    def area(self):\n",
    "        return self.a * self.b"
   ],
   "metadata": {
    "collapsed": false
   },
   "id": "cc74f5c495169489"
  },
  {
   "cell_type": "code",
   "outputs": [],
   "source": [
    "class BaseFigure:\n",
    "    n_dots = None\n",
    "\n",
    "    def __init__(self):\n",
    "        self.validate()\n",
    "\n",
    "    def area(self):\n",
    "        raise NotImplementedError\n",
    "\n",
    "    def validate(self):\n",
    "        raise NotImplementedError"
   ],
   "metadata": {
    "collapsed": false
   },
   "id": "7c74934966112d8",
   "execution_count": null
  },
  {
   "cell_type": "code",
   "outputs": [],
   "source": [
    "class Triangle(BaseFigure):\n",
    "    pass\n",
    "\n",
    "\n",
    "class Rectangle(BaseFigure):\n",
    "    pass"
   ],
   "metadata": {
    "collapsed": false
   },
   "id": "126fc870934a1b83",
   "execution_count": null
  },
  {
   "cell_type": "code",
   "outputs": [],
   "source": [
    "class Triangle(BaseFigure):\n",
    "    n_dots = 3\n",
    "\n",
    "    def __init__(self, a: float, b: float, c: float):\n",
    "        self.temp_data = [a, b, c]\n",
    "        super().__init__()\n",
    "        if self.validate():\n",
    "            self.a = a\n",
    "            self.b = b\n",
    "            self.c = c\n",
    "        else:\n",
    "            raise ValueError('triangle inequality does not hold')\n",
    "\n",
    "    def validate(self):\n",
    "        a, b, c = map(lambda x: x, self.temp_data)\n",
    "        return a < b + c and b < a + c and c < a + b\n",
    "\n",
    "    def area(self):\n",
    "        p = (self.a + self.b + self.c) / 2\n",
    "        S = (p * (p - self.a) * (p - self.b) * (p - self.c)) ** 0.5\n",
    "        return S\n",
    "\n",
    "\n",
    "class Rectangle(BaseFigure):\n",
    "    n_dots = 4\n",
    "\n",
    "    def __init__(self, a, b):\n",
    "        self.temp_data = [a, b]\n",
    "        super().__init__()\n",
    "        self.a = a\n",
    "        self.b = b\n",
    "\n",
    "    def validate(self):\n",
    "        return tuple(self.temp_data)\n",
    "\n",
    "    def area(self):\n",
    "        return self.a * self.b"
   ],
   "metadata": {
    "collapsed": false
   },
   "id": "80b3bcbbbd19781c",
   "execution_count": null
  },
  {
   "cell_type": "code",
   "outputs": [],
   "source": [
    "class Circle(BaseFigure):\n",
    "    n_dots = float('inf')\n",
    "\n",
    "    def __init__(self, r):\n",
    "        super().__init__()\n",
    "        self.r = r\n",
    "\n",
    "    def area(self):\n",
    "        return 3.14 * self.r ** 2\n",
    "\n",
    "    def validate(self):\n",
    "        pass"
   ],
   "metadata": {
    "collapsed": false
   },
   "id": "1ca2c955d0bb5d5c",
   "execution_count": null
  },
  {
   "cell_type": "code",
   "outputs": [],
   "source": [
    "class Vector():\n",
    "    def __init__(self, args):\n",
    "        self.coords = args\n",
    "\n",
    "    def __add__(self, other):\n",
    "        if len(self.coords) == len(other.coords):\n",
    "            new_coords = []\n",
    "            for i in range(len(self.coords)):\n",
    "                new_coords.append(self.coords[i] + other.coords[i])\n",
    "            return Vector(new_coords)\n",
    "        else:\n",
    "            raise ValueError(f'left and right lengths differ: {len(self.coords)} != {len(other.coords)}')"
   ],
   "metadata": {
    "collapsed": false,
    "ExecuteTime": {
     "end_time": "2024-04-11T06:35:03.756489Z",
     "start_time": "2024-04-11T06:35:03.737189Z"
    }
   },
   "id": "26c46c1d1e8a598",
   "execution_count": 80
  },
  {
   "cell_type": "code",
   "outputs": [
    {
     "data": {
      "text/plain": "[1, 2, 3]"
     },
     "execution_count": 88,
     "metadata": {},
     "output_type": "execute_result"
    }
   ],
   "source": [
    "class Vector():\n",
    "    def __init__(self, args):\n",
    "        self.coords = args\n",
    "\n",
    "    def __add__(self, other):\n",
    "        if len(self.coords) == len(other.coords):\n",
    "            new_coords = []\n",
    "            for i in range(len(self.coords)):\n",
    "                new_coords.append(self.coords[i] + other.coords[i])\n",
    "            return Vector(new_coords)\n",
    "        else:\n",
    "            raise ValueError(f'left and right lengths differ: {len(self.coords)} != {len(other.coords)}')\n",
    "\n",
    "    def __str__(self):\n",
    "        return f\"{self.coords}\"\n",
    "\n",
    "    def __repr__(self):  # для юпитера\n",
    "        return f\"{self.coords}\""
   ],
   "metadata": {
    "collapsed": false,
    "ExecuteTime": {
     "end_time": "2024-04-11T06:36:46.629438Z",
     "start_time": "2024-04-11T06:36:46.607502Z"
    }
   },
   "id": "f9c2f57759ec9e98",
   "execution_count": 88
  },
  {
   "cell_type": "code",
   "outputs": [],
   "source": [
    "class Vector():\n",
    "    def __init__(self, args):\n",
    "        self.coords = args\n",
    "\n",
    "    def __add__(self, other):\n",
    "        if len(self.coords) == len(other.coords):\n",
    "            new_coords = []\n",
    "            for i in range(len(self.coords)):\n",
    "                new_coords.append(self.coords[i] + other.coords[i])\n",
    "            return Vector(new_coords)\n",
    "        else:\n",
    "            raise ValueError(f'left and right lengths differ: {len(self.coords)} != {len(other.coords)}')\n",
    "\n",
    "    def __mul__(self, other):\n",
    "        if isinstance(other, Vector):\n",
    "            if len(self.coords) == len(other.coords):\n",
    "                mul_result = 0\n",
    "                for i in range(len(self.coords)):\n",
    "                    mul_result += (self.coords[i] * other.coords[i])\n",
    "                return mul_result\n",
    "            else:\n",
    "                raise ValueError(f'left and right lengths differ: {len(self.coords)} != {len(other.coords)}')\n",
    "        elif isinstance(other, float) or isinstance(other, int):\n",
    "            new_coords = []\n",
    "            for i in range(len(self.coords)):\n",
    "                new_coords.append(self.coords[i] * other)\n",
    "            return Vector(new_coords)\n",
    "\n",
    "    def __eq__(self, other):\n",
    "        if isinstance(other, Vector):\n",
    "            return self.coords == other.coords\n",
    "\n",
    "    def __abs__(self):\n",
    "        return sum([elem ** 2 for elem in self.coords]) ** 0.5\n",
    "\n",
    "    def __str__(self):\n",
    "        return f\"{self.coords}\"\n",
    "\n",
    "    def __repr__(self):  # для юпитера\n",
    "        return f\"{self.coords}\""
   ],
   "metadata": {
    "collapsed": false,
    "ExecuteTime": {
     "end_time": "2024-04-11T06:49:19.217981Z",
     "start_time": "2024-04-11T06:49:19.201053Z"
    }
   },
   "id": "b877458d032c1226",
   "execution_count": 117
  },
  {
   "cell_type": "code",
   "outputs": [],
   "source": [
    "class ParsesCookies:\n",
    "\n",
    "    def cookies(self):\n",
    "        return self.request.get('cookies')\n",
    "\n",
    "    def is_authed(self):\n",
    "        return 'auth_key' in self.request.get('cookies')\n",
    "\n",
    "\n",
    "class ParsesBody:\n",
    "\n",
    "    def body(self):\n",
    "        return self.request.get('body')\n",
    "\n",
    "\n",
    "class ParsesHeaders:\n",
    "\n",
    "    def headers(self):\n",
    "        return self.request.get('headers')\n",
    "\n",
    "    def need_json(self):\n",
    "        return self.request.get('headers').get('content-type') == \"application/json\""
   ],
   "metadata": {
    "collapsed": false,
    "ExecuteTime": {
     "end_time": "2024-04-11T10:17:36.699881Z",
     "start_time": "2024-04-11T10:17:36.681600Z"
    }
   },
   "id": "4ef6c01614a7659a",
   "execution_count": 144
  },
  {
   "cell_type": "code",
   "outputs": [],
   "source": [
    "\n",
    "\n",
    "\n",
    "class JsonHandler(ParsesBody, ParsesHeaders):\n",
    "    def __init__(self, request):\n",
    "        self.request = request\n",
    "\n",
    "    def process(self):\n",
    "        if super().need_json():\n",
    "            try:\n",
    "                body = json.loads(self.request.get('body'))\n",
    "                return len(body)\n",
    "            except:\n",
    "                return None\n",
    "        else:\n",
    "            return None"
   ],
   "metadata": {
    "collapsed": false,
    "ExecuteTime": {
     "end_time": "2024-04-11T10:40:38.615297Z",
     "start_time": "2024-04-11T10:40:38.606874Z"
    }
   },
   "id": "4f4b410070d01498",
   "execution_count": 154
  },
  {
   "cell_type": "code",
   "outputs": [],
   "source": [
    "class SecureTextHandler(ParsesBody, ParsesCookies):\n",
    "    def __init__(self, request):\n",
    "        self.request = request\n",
    "\n",
    "    def process(self):\n",
    "        if super().is_authed():\n",
    "            return len(self.request.get('body'))\n",
    "        else:\n",
    "            return None"
   ],
   "metadata": {
    "collapsed": false,
    "ExecuteTime": {
     "end_time": "2024-04-11T10:48:04.040782Z",
     "start_time": "2024-04-11T10:48:04.032518Z"
    }
   },
   "id": "5d3cec15be24801",
   "execution_count": 166
  }
 ],
 "metadata": {
  "kernelspec": {
   "display_name": "Python 3",
   "language": "python",
   "name": "python3"
  },
  "language_info": {
   "codemirror_mode": {
    "name": "ipython",
    "version": 2
   },
   "file_extension": ".py",
   "mimetype": "text/x-python",
   "name": "python",
   "nbconvert_exporter": "python",
   "pygments_lexer": "ipython2",
   "version": "2.7.6"
  }
 },
 "nbformat": 4,
 "nbformat_minor": 5
}
