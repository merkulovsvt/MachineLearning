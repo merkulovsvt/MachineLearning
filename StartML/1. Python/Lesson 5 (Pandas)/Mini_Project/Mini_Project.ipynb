{
 "cells": [
  {
   "cell_type": "code",
   "execution_count": 106,
   "id": "initial_id",
   "metadata": {
    "collapsed": true,
    "ExecuteTime": {
     "end_time": "2024-04-03T20:18:44.323406Z",
     "start_time": "2024-04-03T20:18:44.307520Z"
    }
   },
   "outputs": [],
   "source": [
    "import pandas as pd"
   ]
  },
  {
   "cell_type": "code",
   "outputs": [
    {
     "data": {
      "text/plain": "                                                 App        Category  Rating  \\\n0     Photo Editor & Candy Camera & Grid & ScrapBook  ART_AND_DESIGN     4.1   \n1                                Coloring book moana  ART_AND_DESIGN     3.9   \n2  U Launcher Lite – FREE Live Cool Themes, Hide ...  ART_AND_DESIGN     4.7   \n3                              Sketch - Draw & Paint  ART_AND_DESIGN     4.5   \n4              Pixel Draw - Number Art Coloring Book  ART_AND_DESIGN     4.3   \n\n   Reviews  Size     Installs  Type Price Content Rating  \\\n0      159   19M      10,000+  Free     0       Everyone   \n1      967   14M     500,000+  Free     0       Everyone   \n2    87510  8.7M   5,000,000+  Free     0       Everyone   \n3   215644   25M  50,000,000+  Free     0           Teen   \n4      967  2.8M     100,000+  Free     0       Everyone   \n\n                      Genres Last Updated         Current Ver   Android Ver  \n0               Art & Design   2018-01-07               1.0.0  4.0.3 and up  \n1  Art & Design;Pretend Play   2018-01-15               2.0.0  4.0.3 and up  \n2               Art & Design   2018-08-01               1.2.4  4.0.3 and up  \n3               Art & Design   2018-06-08  Varies with device    4.2 and up  \n4    Art & Design;Creativity   2018-06-20                 1.1    4.4 and up  ",
      "text/html": "<div>\n<style scoped>\n    .dataframe tbody tr th:only-of-type {\n        vertical-align: middle;\n    }\n\n    .dataframe tbody tr th {\n        vertical-align: top;\n    }\n\n    .dataframe thead th {\n        text-align: right;\n    }\n</style>\n<table border=\"1\" class=\"dataframe\">\n  <thead>\n    <tr style=\"text-align: right;\">\n      <th></th>\n      <th>App</th>\n      <th>Category</th>\n      <th>Rating</th>\n      <th>Reviews</th>\n      <th>Size</th>\n      <th>Installs</th>\n      <th>Type</th>\n      <th>Price</th>\n      <th>Content Rating</th>\n      <th>Genres</th>\n      <th>Last Updated</th>\n      <th>Current Ver</th>\n      <th>Android Ver</th>\n    </tr>\n  </thead>\n  <tbody>\n    <tr>\n      <th>0</th>\n      <td>Photo Editor &amp; Candy Camera &amp; Grid &amp; ScrapBook</td>\n      <td>ART_AND_DESIGN</td>\n      <td>4.1</td>\n      <td>159</td>\n      <td>19M</td>\n      <td>10,000+</td>\n      <td>Free</td>\n      <td>0</td>\n      <td>Everyone</td>\n      <td>Art &amp; Design</td>\n      <td>2018-01-07</td>\n      <td>1.0.0</td>\n      <td>4.0.3 and up</td>\n    </tr>\n    <tr>\n      <th>1</th>\n      <td>Coloring book moana</td>\n      <td>ART_AND_DESIGN</td>\n      <td>3.9</td>\n      <td>967</td>\n      <td>14M</td>\n      <td>500,000+</td>\n      <td>Free</td>\n      <td>0</td>\n      <td>Everyone</td>\n      <td>Art &amp; Design;Pretend Play</td>\n      <td>2018-01-15</td>\n      <td>2.0.0</td>\n      <td>4.0.3 and up</td>\n    </tr>\n    <tr>\n      <th>2</th>\n      <td>U Launcher Lite – FREE Live Cool Themes, Hide ...</td>\n      <td>ART_AND_DESIGN</td>\n      <td>4.7</td>\n      <td>87510</td>\n      <td>8.7M</td>\n      <td>5,000,000+</td>\n      <td>Free</td>\n      <td>0</td>\n      <td>Everyone</td>\n      <td>Art &amp; Design</td>\n      <td>2018-08-01</td>\n      <td>1.2.4</td>\n      <td>4.0.3 and up</td>\n    </tr>\n    <tr>\n      <th>3</th>\n      <td>Sketch - Draw &amp; Paint</td>\n      <td>ART_AND_DESIGN</td>\n      <td>4.5</td>\n      <td>215644</td>\n      <td>25M</td>\n      <td>50,000,000+</td>\n      <td>Free</td>\n      <td>0</td>\n      <td>Teen</td>\n      <td>Art &amp; Design</td>\n      <td>2018-06-08</td>\n      <td>Varies with device</td>\n      <td>4.2 and up</td>\n    </tr>\n    <tr>\n      <th>4</th>\n      <td>Pixel Draw - Number Art Coloring Book</td>\n      <td>ART_AND_DESIGN</td>\n      <td>4.3</td>\n      <td>967</td>\n      <td>2.8M</td>\n      <td>100,000+</td>\n      <td>Free</td>\n      <td>0</td>\n      <td>Everyone</td>\n      <td>Art &amp; Design;Creativity</td>\n      <td>2018-06-20</td>\n      <td>1.1</td>\n      <td>4.4 and up</td>\n    </tr>\n  </tbody>\n</table>\n</div>"
     },
     "execution_count": 107,
     "metadata": {},
     "output_type": "execute_result"
    }
   ],
   "source": [
    "playstore = pd.read_csv('playstore.csv', index_col=0, parse_dates=['Last Updated'])\n",
    "playstore.head()"
   ],
   "metadata": {
    "collapsed": false,
    "ExecuteTime": {
     "end_time": "2024-04-03T20:18:44.370573Z",
     "start_time": "2024-04-03T20:18:44.324580Z"
    }
   },
   "id": "8e02023727fddc7e",
   "execution_count": 107
  },
  {
   "cell_type": "code",
   "outputs": [],
   "source": [
    "data_head = playstore.head(3)\n",
    "data_tail = playstore.tail(3)"
   ],
   "metadata": {
    "collapsed": false,
    "ExecuteTime": {
     "end_time": "2024-04-03T20:18:44.386466Z",
     "start_time": "2024-04-03T20:18:44.371570Z"
    }
   },
   "id": "52910b05286b8992",
   "execution_count": 108
  },
  {
   "cell_type": "code",
   "outputs": [
    {
     "data": {
      "text/plain": "(10840, 13)"
     },
     "execution_count": 109,
     "metadata": {},
     "output_type": "execute_result"
    }
   ],
   "source": [
    "n_row, n_col = playstore.shape\n",
    "n_row, n_col"
   ],
   "metadata": {
    "collapsed": false,
    "ExecuteTime": {
     "end_time": "2024-04-03T20:18:44.401758Z",
     "start_time": "2024-04-03T20:18:44.388691Z"
    }
   },
   "id": "5676897a2a740180",
   "execution_count": 109
  },
  {
   "cell_type": "code",
   "outputs": [
    {
     "data": {
      "text/plain": "9659"
     },
     "execution_count": 110,
     "metadata": {},
     "output_type": "execute_result"
    }
   ],
   "source": [
    "playstore.App.nunique()"
   ],
   "metadata": {
    "collapsed": false,
    "ExecuteTime": {
     "end_time": "2024-04-03T20:18:44.417054Z",
     "start_time": "2024-04-03T20:18:44.403684Z"
    }
   },
   "id": "e166a02315930a73",
   "execution_count": 110
  },
  {
   "cell_type": "code",
   "outputs": [
    {
     "data": {
      "text/plain": "                                                     app             category  \\\n0         Photo Editor & Candy Camera & Grid & ScrapBook       ART_AND_DESIGN   \n1                                    Coloring book moana       ART_AND_DESIGN   \n2      U Launcher Lite – FREE Live Cool Themes, Hide ...       ART_AND_DESIGN   \n3                                  Sketch - Draw & Paint       ART_AND_DESIGN   \n4                  Pixel Draw - Number Art Coloring Book       ART_AND_DESIGN   \n...                                                  ...                  ...   \n10835                                   Sya9a Maroc - FR               FAMILY   \n10836                   Fr. Mike Schmitz Audio Teachings               FAMILY   \n10837                             Parkinson Exercices FR              MEDICAL   \n10838                      The SCP Foundation DB fr nn5n  BOOKS_AND_REFERENCE   \n10839      iHoroscope - 2018 Daily Horoscope & Astrology            LIFESTYLE   \n\n       rating  reviews                size     installs  type price  \\\n0         4.1      159                 19M      10,000+  Free     0   \n1         3.9      967                 14M     500,000+  Free     0   \n2         4.7    87510                8.7M   5,000,000+  Free     0   \n3         4.5   215644                 25M  50,000,000+  Free     0   \n4         4.3      967                2.8M     100,000+  Free     0   \n...       ...      ...                 ...          ...   ...   ...   \n10835     4.5       38                 53M       5,000+  Free     0   \n10836     5.0        4                3.6M         100+  Free     0   \n10837     NaN        3                9.5M       1,000+  Free     0   \n10838     4.5      114  Varies with device       1,000+  Free     0   \n10839     4.5   398307                 19M  10,000,000+  Free     0   \n\n      content_rating                     genres last_updated  \\\n0           Everyone               Art & Design   2018-01-07   \n1           Everyone  Art & Design;Pretend Play   2018-01-15   \n2           Everyone               Art & Design   2018-08-01   \n3               Teen               Art & Design   2018-06-08   \n4           Everyone    Art & Design;Creativity   2018-06-20   \n...              ...                        ...          ...   \n10835       Everyone                  Education   2017-07-25   \n10836       Everyone                  Education   2018-07-06   \n10837       Everyone                    Medical   2017-01-20   \n10838     Mature 17+          Books & Reference   2015-01-19   \n10839       Everyone                  Lifestyle   2018-07-25   \n\n              current_ver         android_ver  \n0                   1.0.0        4.0.3 and up  \n1                   2.0.0        4.0.3 and up  \n2                   1.2.4        4.0.3 and up  \n3      Varies with device          4.2 and up  \n4                     1.1          4.4 and up  \n...                   ...                 ...  \n10835                1.48          4.1 and up  \n10836                 1.0          4.1 and up  \n10837                 1.0          2.2 and up  \n10838  Varies with device  Varies with device  \n10839  Varies with device  Varies with device  \n\n[10840 rows x 13 columns]",
      "text/html": "<div>\n<style scoped>\n    .dataframe tbody tr th:only-of-type {\n        vertical-align: middle;\n    }\n\n    .dataframe tbody tr th {\n        vertical-align: top;\n    }\n\n    .dataframe thead th {\n        text-align: right;\n    }\n</style>\n<table border=\"1\" class=\"dataframe\">\n  <thead>\n    <tr style=\"text-align: right;\">\n      <th></th>\n      <th>app</th>\n      <th>category</th>\n      <th>rating</th>\n      <th>reviews</th>\n      <th>size</th>\n      <th>installs</th>\n      <th>type</th>\n      <th>price</th>\n      <th>content_rating</th>\n      <th>genres</th>\n      <th>last_updated</th>\n      <th>current_ver</th>\n      <th>android_ver</th>\n    </tr>\n  </thead>\n  <tbody>\n    <tr>\n      <th>0</th>\n      <td>Photo Editor &amp; Candy Camera &amp; Grid &amp; ScrapBook</td>\n      <td>ART_AND_DESIGN</td>\n      <td>4.1</td>\n      <td>159</td>\n      <td>19M</td>\n      <td>10,000+</td>\n      <td>Free</td>\n      <td>0</td>\n      <td>Everyone</td>\n      <td>Art &amp; Design</td>\n      <td>2018-01-07</td>\n      <td>1.0.0</td>\n      <td>4.0.3 and up</td>\n    </tr>\n    <tr>\n      <th>1</th>\n      <td>Coloring book moana</td>\n      <td>ART_AND_DESIGN</td>\n      <td>3.9</td>\n      <td>967</td>\n      <td>14M</td>\n      <td>500,000+</td>\n      <td>Free</td>\n      <td>0</td>\n      <td>Everyone</td>\n      <td>Art &amp; Design;Pretend Play</td>\n      <td>2018-01-15</td>\n      <td>2.0.0</td>\n      <td>4.0.3 and up</td>\n    </tr>\n    <tr>\n      <th>2</th>\n      <td>U Launcher Lite – FREE Live Cool Themes, Hide ...</td>\n      <td>ART_AND_DESIGN</td>\n      <td>4.7</td>\n      <td>87510</td>\n      <td>8.7M</td>\n      <td>5,000,000+</td>\n      <td>Free</td>\n      <td>0</td>\n      <td>Everyone</td>\n      <td>Art &amp; Design</td>\n      <td>2018-08-01</td>\n      <td>1.2.4</td>\n      <td>4.0.3 and up</td>\n    </tr>\n    <tr>\n      <th>3</th>\n      <td>Sketch - Draw &amp; Paint</td>\n      <td>ART_AND_DESIGN</td>\n      <td>4.5</td>\n      <td>215644</td>\n      <td>25M</td>\n      <td>50,000,000+</td>\n      <td>Free</td>\n      <td>0</td>\n      <td>Teen</td>\n      <td>Art &amp; Design</td>\n      <td>2018-06-08</td>\n      <td>Varies with device</td>\n      <td>4.2 and up</td>\n    </tr>\n    <tr>\n      <th>4</th>\n      <td>Pixel Draw - Number Art Coloring Book</td>\n      <td>ART_AND_DESIGN</td>\n      <td>4.3</td>\n      <td>967</td>\n      <td>2.8M</td>\n      <td>100,000+</td>\n      <td>Free</td>\n      <td>0</td>\n      <td>Everyone</td>\n      <td>Art &amp; Design;Creativity</td>\n      <td>2018-06-20</td>\n      <td>1.1</td>\n      <td>4.4 and up</td>\n    </tr>\n    <tr>\n      <th>...</th>\n      <td>...</td>\n      <td>...</td>\n      <td>...</td>\n      <td>...</td>\n      <td>...</td>\n      <td>...</td>\n      <td>...</td>\n      <td>...</td>\n      <td>...</td>\n      <td>...</td>\n      <td>...</td>\n      <td>...</td>\n      <td>...</td>\n    </tr>\n    <tr>\n      <th>10835</th>\n      <td>Sya9a Maroc - FR</td>\n      <td>FAMILY</td>\n      <td>4.5</td>\n      <td>38</td>\n      <td>53M</td>\n      <td>5,000+</td>\n      <td>Free</td>\n      <td>0</td>\n      <td>Everyone</td>\n      <td>Education</td>\n      <td>2017-07-25</td>\n      <td>1.48</td>\n      <td>4.1 and up</td>\n    </tr>\n    <tr>\n      <th>10836</th>\n      <td>Fr. Mike Schmitz Audio Teachings</td>\n      <td>FAMILY</td>\n      <td>5.0</td>\n      <td>4</td>\n      <td>3.6M</td>\n      <td>100+</td>\n      <td>Free</td>\n      <td>0</td>\n      <td>Everyone</td>\n      <td>Education</td>\n      <td>2018-07-06</td>\n      <td>1.0</td>\n      <td>4.1 and up</td>\n    </tr>\n    <tr>\n      <th>10837</th>\n      <td>Parkinson Exercices FR</td>\n      <td>MEDICAL</td>\n      <td>NaN</td>\n      <td>3</td>\n      <td>9.5M</td>\n      <td>1,000+</td>\n      <td>Free</td>\n      <td>0</td>\n      <td>Everyone</td>\n      <td>Medical</td>\n      <td>2017-01-20</td>\n      <td>1.0</td>\n      <td>2.2 and up</td>\n    </tr>\n    <tr>\n      <th>10838</th>\n      <td>The SCP Foundation DB fr nn5n</td>\n      <td>BOOKS_AND_REFERENCE</td>\n      <td>4.5</td>\n      <td>114</td>\n      <td>Varies with device</td>\n      <td>1,000+</td>\n      <td>Free</td>\n      <td>0</td>\n      <td>Mature 17+</td>\n      <td>Books &amp; Reference</td>\n      <td>2015-01-19</td>\n      <td>Varies with device</td>\n      <td>Varies with device</td>\n    </tr>\n    <tr>\n      <th>10839</th>\n      <td>iHoroscope - 2018 Daily Horoscope &amp; Astrology</td>\n      <td>LIFESTYLE</td>\n      <td>4.5</td>\n      <td>398307</td>\n      <td>19M</td>\n      <td>10,000,000+</td>\n      <td>Free</td>\n      <td>0</td>\n      <td>Everyone</td>\n      <td>Lifestyle</td>\n      <td>2018-07-25</td>\n      <td>Varies with device</td>\n      <td>Varies with device</td>\n    </tr>\n  </tbody>\n</table>\n<p>10840 rows × 13 columns</p>\n</div>"
     },
     "execution_count": 111,
     "metadata": {},
     "output_type": "execute_result"
    }
   ],
   "source": [
    "playstore.rename(columns=lambda x: x.lower().replace(\" \", \"_\"), inplace=True)\n",
    "playstore"
   ],
   "metadata": {
    "collapsed": false,
    "ExecuteTime": {
     "end_time": "2024-04-03T20:18:44.432730Z",
     "start_time": "2024-04-03T20:18:44.418533Z"
    }
   },
   "id": "f6febf47131ae6a1",
   "execution_count": 111
  },
  {
   "cell_type": "code",
   "outputs": [
    {
     "data": {
      "text/plain": "1474"
     },
     "execution_count": 112,
     "metadata": {},
     "output_type": "execute_result"
    }
   ],
   "source": [
    "rating_missing = playstore.rating.isna().sum()\n",
    "rating_missing"
   ],
   "metadata": {
    "collapsed": false,
    "ExecuteTime": {
     "end_time": "2024-04-03T20:18:44.448385Z",
     "start_time": "2024-04-03T20:18:44.433976Z"
    }
   },
   "id": "c9e7cd37836c0f65",
   "execution_count": 112
  },
  {
   "cell_type": "code",
   "outputs": [
    {
     "data": {
      "text/plain": "                                                  app  size  \\\n0      Photo Editor & Candy Camera & Grid & ScrapBook   19M   \n1                                 Coloring book moana   14M   \n2   U Launcher Lite – FREE Live Cool Themes, Hide ...  8.7M   \n5                          Paper flowers instructions  5.6M   \n6             Smoke Effect Photo Maker - Smoke Editor   19M   \n7                                    Infinite Painter   29M   \n15                    Learn To Draw Kawaii Characters  2.7M   \n16       Photo Designer - Write your name with shapes  5.5M   \n17                           350 Diy Room Decor Ideas   17M   \n18                      FlipaClip - Cartoon animation   39M   \n\n                       genres current_ver  \n0                Art & Design       1.0.0  \n1   Art & Design;Pretend Play       2.0.0  \n2                Art & Design       1.2.4  \n5                Art & Design         1.0  \n6                Art & Design         1.1  \n7                Art & Design    6.1.61.1  \n15               Art & Design         NaN  \n16               Art & Design         3.1  \n17               Art & Design         1.0  \n18               Art & Design       2.2.5  ",
      "text/html": "<div>\n<style scoped>\n    .dataframe tbody tr th:only-of-type {\n        vertical-align: middle;\n    }\n\n    .dataframe tbody tr th {\n        vertical-align: top;\n    }\n\n    .dataframe thead th {\n        text-align: right;\n    }\n</style>\n<table border=\"1\" class=\"dataframe\">\n  <thead>\n    <tr style=\"text-align: right;\">\n      <th></th>\n      <th>app</th>\n      <th>size</th>\n      <th>genres</th>\n      <th>current_ver</th>\n    </tr>\n  </thead>\n  <tbody>\n    <tr>\n      <th>0</th>\n      <td>Photo Editor &amp; Candy Camera &amp; Grid &amp; ScrapBook</td>\n      <td>19M</td>\n      <td>Art &amp; Design</td>\n      <td>1.0.0</td>\n    </tr>\n    <tr>\n      <th>1</th>\n      <td>Coloring book moana</td>\n      <td>14M</td>\n      <td>Art &amp; Design;Pretend Play</td>\n      <td>2.0.0</td>\n    </tr>\n    <tr>\n      <th>2</th>\n      <td>U Launcher Lite – FREE Live Cool Themes, Hide ...</td>\n      <td>8.7M</td>\n      <td>Art &amp; Design</td>\n      <td>1.2.4</td>\n    </tr>\n    <tr>\n      <th>5</th>\n      <td>Paper flowers instructions</td>\n      <td>5.6M</td>\n      <td>Art &amp; Design</td>\n      <td>1.0</td>\n    </tr>\n    <tr>\n      <th>6</th>\n      <td>Smoke Effect Photo Maker - Smoke Editor</td>\n      <td>19M</td>\n      <td>Art &amp; Design</td>\n      <td>1.1</td>\n    </tr>\n    <tr>\n      <th>7</th>\n      <td>Infinite Painter</td>\n      <td>29M</td>\n      <td>Art &amp; Design</td>\n      <td>6.1.61.1</td>\n    </tr>\n    <tr>\n      <th>15</th>\n      <td>Learn To Draw Kawaii Characters</td>\n      <td>2.7M</td>\n      <td>Art &amp; Design</td>\n      <td>NaN</td>\n    </tr>\n    <tr>\n      <th>16</th>\n      <td>Photo Designer - Write your name with shapes</td>\n      <td>5.5M</td>\n      <td>Art &amp; Design</td>\n      <td>3.1</td>\n    </tr>\n    <tr>\n      <th>17</th>\n      <td>350 Diy Room Decor Ideas</td>\n      <td>17M</td>\n      <td>Art &amp; Design</td>\n      <td>1.0</td>\n    </tr>\n    <tr>\n      <th>18</th>\n      <td>FlipaClip - Cartoon animation</td>\n      <td>39M</td>\n      <td>Art &amp; Design</td>\n      <td>2.2.5</td>\n    </tr>\n  </tbody>\n</table>\n</div>"
     },
     "execution_count": 113,
     "metadata": {},
     "output_type": "execute_result"
    }
   ],
   "source": [
    "data = playstore[['app', 'size', 'genres', 'current_ver']]\n",
    "result = pd.concat([data.iloc[:3], data.iloc[5:8], data.iloc[15:19]])\n",
    "result.to_csv('data.csv')\n",
    "result"
   ],
   "metadata": {
    "collapsed": false,
    "ExecuteTime": {
     "end_time": "2024-04-03T20:18:44.463694Z",
     "start_time": "2024-04-03T20:18:44.449387Z"
    }
   },
   "id": "5a35bf4309642a5b",
   "execution_count": 113
  },
  {
   "cell_type": "code",
   "outputs": [],
   "source": [
    "cnt_prev, unique_prev = playstore.app.count(), playstore.app.nunique()"
   ],
   "metadata": {
    "collapsed": false,
    "ExecuteTime": {
     "end_time": "2024-04-03T20:18:44.478919Z",
     "start_time": "2024-04-03T20:18:44.464842Z"
    }
   },
   "id": "39af1df419dd4745",
   "execution_count": 114
  },
  {
   "cell_type": "code",
   "outputs": [],
   "source": [
    "playstore.drop_duplicates(subset='app', inplace=True)"
   ],
   "metadata": {
    "collapsed": false,
    "ExecuteTime": {
     "end_time": "2024-04-03T20:18:44.494786Z",
     "start_time": "2024-04-03T20:18:44.481435Z"
    }
   },
   "id": "ac9e4b7d25565c2d",
   "execution_count": 115
  },
  {
   "cell_type": "code",
   "outputs": [
    {
     "data": {
      "text/plain": "(False, True)"
     },
     "execution_count": 116,
     "metadata": {},
     "output_type": "execute_result"
    }
   ],
   "source": [
    "cnt_prev == playstore.app.count(), unique_prev == playstore.app.nunique()"
   ],
   "metadata": {
    "collapsed": false,
    "ExecuteTime": {
     "end_time": "2024-04-03T20:18:44.510748Z",
     "start_time": "2024-04-03T20:18:44.496293Z"
    }
   },
   "id": "860b9ba6e9ce0cb3",
   "execution_count": 116
  },
  {
   "cell_type": "code",
   "outputs": [],
   "source": [
    "playstore.price = playstore.price.apply(lambda x: x.replace(\"$\", \"\"))\n",
    "playstore.price = playstore.price.astype('float')"
   ],
   "metadata": {
    "collapsed": false,
    "ExecuteTime": {
     "end_time": "2024-04-03T20:18:44.526350Z",
     "start_time": "2024-04-03T20:18:44.512252Z"
    }
   },
   "id": "d970d18f3bd61ad2",
   "execution_count": 117
  },
  {
   "cell_type": "code",
   "outputs": [
    {
     "data": {
      "text/plain": "type\nFree    0.92\nPaid    0.08\nName: proportion, dtype: float64"
     },
     "execution_count": 118,
     "metadata": {},
     "output_type": "execute_result"
    }
   ],
   "source": [
    "playstore.type.value_counts(normalize=True).round(2)"
   ],
   "metadata": {
    "collapsed": false,
    "ExecuteTime": {
     "end_time": "2024-04-03T20:18:44.541719Z",
     "start_time": "2024-04-03T20:18:44.527707Z"
    }
   },
   "id": "b9d6de14acd31ba2",
   "execution_count": 118
  },
  {
   "cell_type": "code",
   "outputs": [
    {
     "data": {
      "text/plain": "                                                  app   category  rating  \\\n0                      Duolingo: Learn Languages Free  EDUCATION     4.7   \n1                                                 TED  EDUCATION     4.6   \n2   English Communication - Learn English for Chin...  EDUCATION     4.7   \n3                                        Khan Academy  EDUCATION     4.6   \n4                          Learn English with Wlingua  EDUCATION     4.7   \n..                                                ...        ...     ...   \n93                  SoloLearn: Learn to Code for Free  EDUCATION     4.8   \n94                     Kids Learn Languages by Mondly  EDUCATION     4.4   \n95                        Blinkist - Nonfiction Books  EDUCATION     4.1   \n96                                    Toca Life: City  EDUCATION     4.7   \n97                                Toca Life: Hospital  EDUCATION     4.7   \n\n    reviews                size      installs  type  price content_rating  \\\n0   6289924  Varies with device  100,000,000+  Free   0.00       Everyone   \n1    181893                 18M   10,000,000+  Free   0.00   Everyone 10+   \n2      2544                 18M      100,000+  Free   0.00       Everyone   \n3     85375                 21M    5,000,000+  Free   0.00       Everyone   \n4    314299                3.3M   10,000,000+  Free   0.00       Everyone   \n..      ...                 ...           ...   ...    ...            ...   \n93   256079                7.6M    1,000,000+  Free   0.00           Teen   \n94     2078  Varies with device      100,000+  Free   0.00       Everyone   \n95    16103                 13M    1,000,000+  Free   0.00       Everyone   \n96    31085                 24M      500,000+  Paid   3.99       Everyone   \n97     3528                 24M      100,000+  Paid   3.99       Everyone   \n\n                    genres last_updated         current_ver  \\\n0      Education;Education   2018-08-01  Varies with device   \n1                Education   2018-07-27               3.2.5   \n2                Education   2017-12-29                 3.1   \n3                Education   2018-07-27               5.0.0   \n4                Education   2018-05-02              1.94.9   \n..                     ...          ...                 ...   \n93               Education   2018-07-12               2.2.4   \n94     Education;Education   2017-12-24               1.0.2   \n95               Education   2018-07-31               5.7.1   \n96  Education;Pretend Play   2018-07-06            1.5-play   \n97  Education;Pretend Play   2018-06-12          1.1.1-play   \n\n           android_ver  \n0   Varies with device  \n1           4.1 and up  \n2           4.0 and up  \n3           4.1 and up  \n4           4.0 and up  \n..                 ...  \n93        4.0.3 and up  \n94          4.1 and up  \n95          4.1 and up  \n96          4.4 and up  \n97          4.4 and up  \n\n[98 rows x 13 columns]",
      "text/html": "<div>\n<style scoped>\n    .dataframe tbody tr th:only-of-type {\n        vertical-align: middle;\n    }\n\n    .dataframe tbody tr th {\n        vertical-align: top;\n    }\n\n    .dataframe thead th {\n        text-align: right;\n    }\n</style>\n<table border=\"1\" class=\"dataframe\">\n  <thead>\n    <tr style=\"text-align: right;\">\n      <th></th>\n      <th>app</th>\n      <th>category</th>\n      <th>rating</th>\n      <th>reviews</th>\n      <th>size</th>\n      <th>installs</th>\n      <th>type</th>\n      <th>price</th>\n      <th>content_rating</th>\n      <th>genres</th>\n      <th>last_updated</th>\n      <th>current_ver</th>\n      <th>android_ver</th>\n    </tr>\n  </thead>\n  <tbody>\n    <tr>\n      <th>0</th>\n      <td>Duolingo: Learn Languages Free</td>\n      <td>EDUCATION</td>\n      <td>4.7</td>\n      <td>6289924</td>\n      <td>Varies with device</td>\n      <td>100,000,000+</td>\n      <td>Free</td>\n      <td>0.00</td>\n      <td>Everyone</td>\n      <td>Education;Education</td>\n      <td>2018-08-01</td>\n      <td>Varies with device</td>\n      <td>Varies with device</td>\n    </tr>\n    <tr>\n      <th>1</th>\n      <td>TED</td>\n      <td>EDUCATION</td>\n      <td>4.6</td>\n      <td>181893</td>\n      <td>18M</td>\n      <td>10,000,000+</td>\n      <td>Free</td>\n      <td>0.00</td>\n      <td>Everyone 10+</td>\n      <td>Education</td>\n      <td>2018-07-27</td>\n      <td>3.2.5</td>\n      <td>4.1 and up</td>\n    </tr>\n    <tr>\n      <th>2</th>\n      <td>English Communication - Learn English for Chin...</td>\n      <td>EDUCATION</td>\n      <td>4.7</td>\n      <td>2544</td>\n      <td>18M</td>\n      <td>100,000+</td>\n      <td>Free</td>\n      <td>0.00</td>\n      <td>Everyone</td>\n      <td>Education</td>\n      <td>2017-12-29</td>\n      <td>3.1</td>\n      <td>4.0 and up</td>\n    </tr>\n    <tr>\n      <th>3</th>\n      <td>Khan Academy</td>\n      <td>EDUCATION</td>\n      <td>4.6</td>\n      <td>85375</td>\n      <td>21M</td>\n      <td>5,000,000+</td>\n      <td>Free</td>\n      <td>0.00</td>\n      <td>Everyone</td>\n      <td>Education</td>\n      <td>2018-07-27</td>\n      <td>5.0.0</td>\n      <td>4.1 and up</td>\n    </tr>\n    <tr>\n      <th>4</th>\n      <td>Learn English with Wlingua</td>\n      <td>EDUCATION</td>\n      <td>4.7</td>\n      <td>314299</td>\n      <td>3.3M</td>\n      <td>10,000,000+</td>\n      <td>Free</td>\n      <td>0.00</td>\n      <td>Everyone</td>\n      <td>Education</td>\n      <td>2018-05-02</td>\n      <td>1.94.9</td>\n      <td>4.0 and up</td>\n    </tr>\n    <tr>\n      <th>...</th>\n      <td>...</td>\n      <td>...</td>\n      <td>...</td>\n      <td>...</td>\n      <td>...</td>\n      <td>...</td>\n      <td>...</td>\n      <td>...</td>\n      <td>...</td>\n      <td>...</td>\n      <td>...</td>\n      <td>...</td>\n      <td>...</td>\n    </tr>\n    <tr>\n      <th>93</th>\n      <td>SoloLearn: Learn to Code for Free</td>\n      <td>EDUCATION</td>\n      <td>4.8</td>\n      <td>256079</td>\n      <td>7.6M</td>\n      <td>1,000,000+</td>\n      <td>Free</td>\n      <td>0.00</td>\n      <td>Teen</td>\n      <td>Education</td>\n      <td>2018-07-12</td>\n      <td>2.2.4</td>\n      <td>4.0.3 and up</td>\n    </tr>\n    <tr>\n      <th>94</th>\n      <td>Kids Learn Languages by Mondly</td>\n      <td>EDUCATION</td>\n      <td>4.4</td>\n      <td>2078</td>\n      <td>Varies with device</td>\n      <td>100,000+</td>\n      <td>Free</td>\n      <td>0.00</td>\n      <td>Everyone</td>\n      <td>Education;Education</td>\n      <td>2017-12-24</td>\n      <td>1.0.2</td>\n      <td>4.1 and up</td>\n    </tr>\n    <tr>\n      <th>95</th>\n      <td>Blinkist - Nonfiction Books</td>\n      <td>EDUCATION</td>\n      <td>4.1</td>\n      <td>16103</td>\n      <td>13M</td>\n      <td>1,000,000+</td>\n      <td>Free</td>\n      <td>0.00</td>\n      <td>Everyone</td>\n      <td>Education</td>\n      <td>2018-07-31</td>\n      <td>5.7.1</td>\n      <td>4.1 and up</td>\n    </tr>\n    <tr>\n      <th>96</th>\n      <td>Toca Life: City</td>\n      <td>EDUCATION</td>\n      <td>4.7</td>\n      <td>31085</td>\n      <td>24M</td>\n      <td>500,000+</td>\n      <td>Paid</td>\n      <td>3.99</td>\n      <td>Everyone</td>\n      <td>Education;Pretend Play</td>\n      <td>2018-07-06</td>\n      <td>1.5-play</td>\n      <td>4.4 and up</td>\n    </tr>\n    <tr>\n      <th>97</th>\n      <td>Toca Life: Hospital</td>\n      <td>EDUCATION</td>\n      <td>4.7</td>\n      <td>3528</td>\n      <td>24M</td>\n      <td>100,000+</td>\n      <td>Paid</td>\n      <td>3.99</td>\n      <td>Everyone</td>\n      <td>Education;Pretend Play</td>\n      <td>2018-06-12</td>\n      <td>1.1.1-play</td>\n      <td>4.4 and up</td>\n    </tr>\n  </tbody>\n</table>\n<p>98 rows × 13 columns</p>\n</div>"
     },
     "execution_count": 119,
     "metadata": {},
     "output_type": "execute_result"
    }
   ],
   "source": [
    "education_playstore = playstore.query('category == \"EDUCATION\" and reviews > 1000').reset_index(drop=True)\n",
    "education_playstore"
   ],
   "metadata": {
    "collapsed": false,
    "ExecuteTime": {
     "end_time": "2024-04-03T20:18:44.572747Z",
     "start_time": "2024-04-03T20:18:44.543494Z"
    }
   },
   "id": "c6506d478dcbc63c",
   "execution_count": 119
  },
  {
   "cell_type": "code",
   "outputs": [
    {
     "data": {
      "text/plain": "                        mean_price  mean_rating  mean_reviews\ncategory          type                                       \nART_AND_DESIGN    Free        0.00          4.3      23230.11\n                  Paid        1.99          4.7        722.00\nAUTO_AND_VEHICLES Free        0.00          4.2      14140.28\n                  Paid        4.49          4.6       1387.67\nBEAUTY            Free        0.00          4.3       7476.23\n...                            ...          ...           ...\nTRAVEL_AND_LOCAL  Paid        4.16          4.1       1506.08\nVIDEO_PLAYERS     Free        0.00          4.0     424347.18\n                  Paid        2.62          4.1       3341.75\nWEATHER           Free        0.00          4.2     171249.62\n                  Paid        4.05          4.4      17055.12\n\n[63 rows x 3 columns]",
      "text/html": "<div>\n<style scoped>\n    .dataframe tbody tr th:only-of-type {\n        vertical-align: middle;\n    }\n\n    .dataframe tbody tr th {\n        vertical-align: top;\n    }\n\n    .dataframe thead th {\n        text-align: right;\n    }\n</style>\n<table border=\"1\" class=\"dataframe\">\n  <thead>\n    <tr style=\"text-align: right;\">\n      <th></th>\n      <th></th>\n      <th>mean_price</th>\n      <th>mean_rating</th>\n      <th>mean_reviews</th>\n    </tr>\n    <tr>\n      <th>category</th>\n      <th>type</th>\n      <th></th>\n      <th></th>\n      <th></th>\n    </tr>\n  </thead>\n  <tbody>\n    <tr>\n      <th rowspan=\"2\" valign=\"top\">ART_AND_DESIGN</th>\n      <th>Free</th>\n      <td>0.00</td>\n      <td>4.3</td>\n      <td>23230.11</td>\n    </tr>\n    <tr>\n      <th>Paid</th>\n      <td>1.99</td>\n      <td>4.7</td>\n      <td>722.00</td>\n    </tr>\n    <tr>\n      <th rowspan=\"2\" valign=\"top\">AUTO_AND_VEHICLES</th>\n      <th>Free</th>\n      <td>0.00</td>\n      <td>4.2</td>\n      <td>14140.28</td>\n    </tr>\n    <tr>\n      <th>Paid</th>\n      <td>4.49</td>\n      <td>4.6</td>\n      <td>1387.67</td>\n    </tr>\n    <tr>\n      <th>BEAUTY</th>\n      <th>Free</th>\n      <td>0.00</td>\n      <td>4.3</td>\n      <td>7476.23</td>\n    </tr>\n    <tr>\n      <th>...</th>\n      <th>...</th>\n      <td>...</td>\n      <td>...</td>\n      <td>...</td>\n    </tr>\n    <tr>\n      <th>TRAVEL_AND_LOCAL</th>\n      <th>Paid</th>\n      <td>4.16</td>\n      <td>4.1</td>\n      <td>1506.08</td>\n    </tr>\n    <tr>\n      <th rowspan=\"2\" valign=\"top\">VIDEO_PLAYERS</th>\n      <th>Free</th>\n      <td>0.00</td>\n      <td>4.0</td>\n      <td>424347.18</td>\n    </tr>\n    <tr>\n      <th>Paid</th>\n      <td>2.62</td>\n      <td>4.1</td>\n      <td>3341.75</td>\n    </tr>\n    <tr>\n      <th rowspan=\"2\" valign=\"top\">WEATHER</th>\n      <th>Free</th>\n      <td>0.00</td>\n      <td>4.2</td>\n      <td>171249.62</td>\n    </tr>\n    <tr>\n      <th>Paid</th>\n      <td>4.05</td>\n      <td>4.4</td>\n      <td>17055.12</td>\n    </tr>\n  </tbody>\n</table>\n<p>63 rows × 3 columns</p>\n</div>"
     },
     "execution_count": 120,
     "metadata": {},
     "output_type": "execute_result"
    }
   ],
   "source": [
    "final_table = pd.pivot_table(playstore, index=['category', 'type'], values=['price', 'rating', 'reviews'],\n",
    "                                   aggfunc={'price': 'mean',\n",
    "                                            'rating': 'mean',\n",
    "                                            'reviews': 'mean'}).rename(\n",
    "    columns={'price': 'mean_price',\n",
    "             'rating': 'mean_rating',\n",
    "             'reviews': 'mean_reviews'}).round({'mean_price': 2, 'mean_rating': 1, 'mean_reviews': 2})\n",
    "final_table.to_csv('result.csv', sep=',')\n",
    "final_table"
   ],
   "metadata": {
    "collapsed": false,
    "ExecuteTime": {
     "end_time": "2024-04-03T20:18:44.603564Z",
     "start_time": "2024-04-03T20:18:44.574710Z"
    }
   },
   "id": "cd7283d655c3f399",
   "execution_count": 120
  }
 ],
 "metadata": {
  "kernelspec": {
   "display_name": "Python 3",
   "language": "python",
   "name": "python3"
  },
  "language_info": {
   "codemirror_mode": {
    "name": "ipython",
    "version": 2
   },
   "file_extension": ".py",
   "mimetype": "text/x-python",
   "name": "python",
   "nbconvert_exporter": "python",
   "pygments_lexer": "ipython2",
   "version": "2.7.6"
  }
 },
 "nbformat": 4,
 "nbformat_minor": 5
}
