{
 "cells": [
  {
   "cell_type": "code",
   "execution_count": 213,
   "id": "initial_id",
   "metadata": {
    "collapsed": true,
    "ExecuteTime": {
     "end_time": "2024-04-02T16:03:06.717214Z",
     "start_time": "2024-04-02T16:03:06.699905Z"
    }
   },
   "outputs": [],
   "source": [
    "import pandas as pd\n"
   ]
  },
  {
   "cell_type": "code",
   "outputs": [
    {
     "data": {
      "text/plain": "                     id                   address  \\\n0  AVwc__cikufWRAb51QjV         610 Commercial St   \n1  AVwc__cikufWRAb51QjV         610 Commercial St   \n2  AVwc__dF_7pvs4fz1Ncy      9521 Morton Davis Dr   \n3  AVwc__kCByjofQCxkdm-  10550 W I 25 Frontage Rd   \n4  AVwc__WtByjofQCxkdkR             8495 W 3rd St   \n\n                                          categories         city  \\\n0  Restaurant Delivery Service,Restaurants,Pizza,...     Atchison   \n1  Restaurant Delivery Service,Restaurants,Pizza,...     Atchison   \n2       Golf Course, American Restaurant, and Resort    Patterson   \n3                               Fast Food Restaurant     Longmont   \n4  Mexican Restaurant Mid-City West,Mexican Resta...  Los Angeles   \n\n                      cuisines                 dateAdded  \\\n0  Restaurant Delivery Service 2016-03-02 11:49:34+00:00   \n1  Restaurant Delivery Service 2016-03-02 11:49:34+00:00   \n2                          NaN 2016-10-14 01:58:25+00:00   \n3                          NaN 2016-09-09 17:30:34+00:00   \n4                      Mexican 2016-05-19 11:50:25+00:00   \n\n                dateUpdated   latitude   longitude menus.category  \\\n0 2017-02-01 18:04:44+00:00  39.561570  -95.121020            NaN   \n1 2017-02-01 18:04:44+00:00  39.561570  -95.121020            NaN   \n2 2016-10-14 01:58:25+00:00  37.401855 -121.266703            NaN   \n3 2016-10-04 05:15:17+00:00        NaN         NaN            NaN   \n4 2016-09-11 00:06:37+00:00  34.080724 -118.389578            NaN   \n\n  menus.currency        menus.dateSeen  \\\n0            NaN  2017-02-01T18:04:44Z   \n1            NaN  2016-03-02T11:49:34Z   \n2            NaN  2016-10-14T01:58:25Z   \n3            NaN  2016-09-09T17:30:34Z   \n4            NaN  2016-05-19T11:50:25Z   \n\n                                   menus.description         menus.name  \\\n0                                                NaN               Taco   \n1  Beef, onion, cheddar cheese, lettuce,  refried...               Taco   \n2  Beef barbacoa or chicken, spanish rice, pico d...   Smotherd Burrito   \n3                                                NaN    Sausage Burrito   \n4  Wahoo, avocado, cabbage, pico de gallo  and av...  Wahoo Tacogrilled   \n\n                                name      province  \n0                    Gambino's Pizza            KS  \n1                    Gambino's Pizza            KS  \n2  Diablo Grande Golf & Country Club       Grayson  \n3                         Mcdonald's         Niwot  \n4           Baja Fresh Mexican Grill  Bicentennial  ",
      "text/html": "<div>\n<style scoped>\n    .dataframe tbody tr th:only-of-type {\n        vertical-align: middle;\n    }\n\n    .dataframe tbody tr th {\n        vertical-align: top;\n    }\n\n    .dataframe thead th {\n        text-align: right;\n    }\n</style>\n<table border=\"1\" class=\"dataframe\">\n  <thead>\n    <tr style=\"text-align: right;\">\n      <th></th>\n      <th>id</th>\n      <th>address</th>\n      <th>categories</th>\n      <th>city</th>\n      <th>cuisines</th>\n      <th>dateAdded</th>\n      <th>dateUpdated</th>\n      <th>latitude</th>\n      <th>longitude</th>\n      <th>menus.category</th>\n      <th>menus.currency</th>\n      <th>menus.dateSeen</th>\n      <th>menus.description</th>\n      <th>menus.name</th>\n      <th>name</th>\n      <th>province</th>\n    </tr>\n  </thead>\n  <tbody>\n    <tr>\n      <th>0</th>\n      <td>AVwc__cikufWRAb51QjV</td>\n      <td>610 Commercial St</td>\n      <td>Restaurant Delivery Service,Restaurants,Pizza,...</td>\n      <td>Atchison</td>\n      <td>Restaurant Delivery Service</td>\n      <td>2016-03-02 11:49:34+00:00</td>\n      <td>2017-02-01 18:04:44+00:00</td>\n      <td>39.561570</td>\n      <td>-95.121020</td>\n      <td>NaN</td>\n      <td>NaN</td>\n      <td>2017-02-01T18:04:44Z</td>\n      <td>NaN</td>\n      <td>Taco</td>\n      <td>Gambino's Pizza</td>\n      <td>KS</td>\n    </tr>\n    <tr>\n      <th>1</th>\n      <td>AVwc__cikufWRAb51QjV</td>\n      <td>610 Commercial St</td>\n      <td>Restaurant Delivery Service,Restaurants,Pizza,...</td>\n      <td>Atchison</td>\n      <td>Restaurant Delivery Service</td>\n      <td>2016-03-02 11:49:34+00:00</td>\n      <td>2017-02-01 18:04:44+00:00</td>\n      <td>39.561570</td>\n      <td>-95.121020</td>\n      <td>NaN</td>\n      <td>NaN</td>\n      <td>2016-03-02T11:49:34Z</td>\n      <td>Beef, onion, cheddar cheese, lettuce,  refried...</td>\n      <td>Taco</td>\n      <td>Gambino's Pizza</td>\n      <td>KS</td>\n    </tr>\n    <tr>\n      <th>2</th>\n      <td>AVwc__dF_7pvs4fz1Ncy</td>\n      <td>9521 Morton Davis Dr</td>\n      <td>Golf Course, American Restaurant, and Resort</td>\n      <td>Patterson</td>\n      <td>NaN</td>\n      <td>2016-10-14 01:58:25+00:00</td>\n      <td>2016-10-14 01:58:25+00:00</td>\n      <td>37.401855</td>\n      <td>-121.266703</td>\n      <td>NaN</td>\n      <td>NaN</td>\n      <td>2016-10-14T01:58:25Z</td>\n      <td>Beef barbacoa or chicken, spanish rice, pico d...</td>\n      <td>Smotherd Burrito</td>\n      <td>Diablo Grande Golf &amp; Country Club</td>\n      <td>Grayson</td>\n    </tr>\n    <tr>\n      <th>3</th>\n      <td>AVwc__kCByjofQCxkdm-</td>\n      <td>10550 W I 25 Frontage Rd</td>\n      <td>Fast Food Restaurant</td>\n      <td>Longmont</td>\n      <td>NaN</td>\n      <td>2016-09-09 17:30:34+00:00</td>\n      <td>2016-10-04 05:15:17+00:00</td>\n      <td>NaN</td>\n      <td>NaN</td>\n      <td>NaN</td>\n      <td>NaN</td>\n      <td>2016-09-09T17:30:34Z</td>\n      <td>NaN</td>\n      <td>Sausage Burrito</td>\n      <td>Mcdonald's</td>\n      <td>Niwot</td>\n    </tr>\n    <tr>\n      <th>4</th>\n      <td>AVwc__WtByjofQCxkdkR</td>\n      <td>8495 W 3rd St</td>\n      <td>Mexican Restaurant Mid-City West,Mexican Resta...</td>\n      <td>Los Angeles</td>\n      <td>Mexican</td>\n      <td>2016-05-19 11:50:25+00:00</td>\n      <td>2016-09-11 00:06:37+00:00</td>\n      <td>34.080724</td>\n      <td>-118.389578</td>\n      <td>NaN</td>\n      <td>NaN</td>\n      <td>2016-05-19T11:50:25Z</td>\n      <td>Wahoo, avocado, cabbage, pico de gallo  and av...</td>\n      <td>Wahoo Tacogrilled</td>\n      <td>Baja Fresh Mexican Grill</td>\n      <td>Bicentennial</td>\n    </tr>\n  </tbody>\n</table>\n</div>"
     },
     "execution_count": 250,
     "metadata": {},
     "output_type": "execute_result"
    }
   ],
   "source": [
    "data = pd.read_csv('data.csv', parse_dates=['dateAdded', 'dateUpdated', 'menus.dateSeen'])\n",
    "data.head()"
   ],
   "metadata": {
    "collapsed": false,
    "ExecuteTime": {
     "end_time": "2024-04-02T16:12:41.244610Z",
     "start_time": "2024-04-02T16:12:40.198428Z"
    }
   },
   "id": "cf705628635e2ced",
   "execution_count": 250
  },
  {
   "cell_type": "code",
   "outputs": [
    {
     "data": {
      "text/plain": "id                                object\naddress                           object\ncategories                        object\ncity                              object\ncuisines                          object\ndateAdded            datetime64[ns, UTC]\ndateUpdated          datetime64[ns, UTC]\nlatitude                         float64\nlongitude                        float64\nmenus.category                    object\nmenus.currency                    object\nmenus.dateSeen                    object\nmenus.description                 object\nmenus.name                        object\nname                              object\nprovince                          object\ndtype: object"
     },
     "execution_count": 215,
     "metadata": {},
     "output_type": "execute_result"
    }
   ],
   "source": [
    "data.dtypes"
   ],
   "metadata": {
    "collapsed": false,
    "ExecuteTime": {
     "end_time": "2024-04-02T16:03:07.548827Z",
     "start_time": "2024-04-02T16:03:07.535127Z"
    }
   },
   "id": "31a3cb573bf4c76c",
   "execution_count": 215
  },
  {
   "cell_type": "code",
   "outputs": [
    {
     "data": {
      "text/plain": "latitude     36.69\nlongitude   -98.71\nName: mean, dtype: float64"
     },
     "execution_count": 216,
     "metadata": {},
     "output_type": "execute_result"
    }
   ],
   "source": [
    "data.describe().loc['mean'].round(2)"
   ],
   "metadata": {
    "collapsed": false,
    "ExecuteTime": {
     "end_time": "2024-04-02T16:03:07.579759Z",
     "start_time": "2024-04-02T16:03:07.551337Z"
    }
   },
   "id": "af91a80e7c0e457c",
   "execution_count": 216
  },
  {
   "cell_type": "code",
   "outputs": [
    {
     "data": {
      "text/plain": "(1925, 16)"
     },
     "execution_count": 217,
     "metadata": {},
     "output_type": "execute_result"
    }
   ],
   "source": [
    "data.dropna().shape"
   ],
   "metadata": {
    "collapsed": false,
    "ExecuteTime": {
     "end_time": "2024-04-02T16:03:07.611202Z",
     "start_time": "2024-04-02T16:03:07.581386Z"
    }
   },
   "id": "58f93440d6c62006",
   "execution_count": 217
  },
  {
   "cell_type": "code",
   "outputs": [
    {
     "data": {
      "text/plain": "Index([52930, 52931, 52932, 52933, 52934, 52935, 52936, 52937, 52938, 52939], dtype='int64')"
     },
     "execution_count": 218,
     "metadata": {},
     "output_type": "execute_result"
    }
   ],
   "source": [
    "data.query('city == \"California\" and province == \"MO\" and name == \"Taco Bell\"').index"
   ],
   "metadata": {
    "collapsed": false,
    "ExecuteTime": {
     "end_time": "2024-04-02T16:03:07.642063Z",
     "start_time": "2024-04-02T16:03:07.612722Z"
    }
   },
   "id": "c5b3cabe4c6d72ad",
   "execution_count": 218
  },
  {
   "cell_type": "code",
   "outputs": [
    {
     "data": {
      "text/plain": "                         id          address  \\\n131    AVwc_9yCByjofQCxkdRX  322 S. Broadway   \n132    AVwc_9yCByjofQCxkdRX  322 S. Broadway   \n133    AVwc_9yCByjofQCxkdRX  322 S. Broadway   \n135    AVwc_9yCByjofQCxkdRX  322 S. Broadway   \n136    AVwc_9yCByjofQCxkdRX  322 S. Broadway   \n...                     ...              ...   \n76904  AVweZN9nByjofQCxxz4o    754 Ninth Ave   \n76905  AVweZN9nByjofQCxxz4o    754 Ninth Ave   \n76906  AVweZN9nByjofQCxxz4o    754 Ninth Ave   \n76907  AVweZN9nByjofQCxxz4o    754 Ninth Ave   \n76908  AVweZN9nByjofQCxxz4o    754 Ninth Ave   \n\n                                              categories      city  \\\n131    Fast Food,Restaurants,Mexican,Breakfast,Vegeta...     Salem   \n132    Fast Food,Restaurants,Mexican,Breakfast,Vegeta...     Salem   \n133    Fast Food,Restaurants,Mexican,Breakfast,Vegeta...     Salem   \n135    Fast Food,Restaurants,Mexican,Breakfast,Vegeta...     Salem   \n136    Fast Food,Restaurants,Mexican,Breakfast,Vegeta...     Salem   \n...                                                  ...       ...   \n76904                                         Restaurant  New York   \n76905                                         Restaurant  New York   \n76906                                         Restaurant  New York   \n76907                                         Restaurant  New York   \n76908                                         Restaurant  New York   \n\n                                     cuisines                 dateAdded  \\\n131                                   Mexican 2016-03-28 06:01:51+00:00   \n132                                   Mexican 2016-03-28 06:01:51+00:00   \n133                                   Mexican 2016-03-28 06:01:51+00:00   \n135                                   Mexican 2016-03-28 06:01:51+00:00   \n136                                   Mexican 2016-03-28 06:01:51+00:00   \n...                                       ...                       ...   \n76904  Mexican, American, Traditional Mexican 2015-10-19 20:44:15+00:00   \n76905  Mexican, American, Traditional Mexican 2015-10-19 20:44:15+00:00   \n76906  Mexican, American, Traditional Mexican 2015-10-19 20:44:15+00:00   \n76907  Mexican, American, Traditional Mexican 2015-10-19 20:44:15+00:00   \n76908  Mexican, American, Traditional Mexican 2015-10-19 20:44:15+00:00   \n\n                    dateUpdated   latitude  longitude menus.category  \\\n131   2017-06-27 10:01:48+00:00  42.755023 -71.209440            NaN   \n132   2017-06-27 10:01:48+00:00  42.755023 -71.209440            NaN   \n133   2017-06-27 10:01:48+00:00  42.755023 -71.209440            NaN   \n135   2017-06-27 10:01:48+00:00  42.755023 -71.209440            NaN   \n136   2017-06-27 10:01:48+00:00  42.755023 -71.209440            NaN   \n...                         ...        ...        ...            ...   \n76904 2016-08-22 11:24:07+00:00  40.763858 -73.988327          Tacos   \n76905 2016-08-22 11:24:07+00:00  40.763858 -73.988327   Huevos, Etc.   \n76906 2016-08-22 11:24:07+00:00  40.763858 -73.988327        Botanas   \n76907 2016-08-22 11:24:07+00:00  40.763858 -73.988327        Botanas   \n76908 2016-08-22 11:24:07+00:00  40.763858 -73.988327           Main   \n\n      menus.currency                             menus.dateSeen  \\\n131              NaN  2016-03-28T06:01:51Z,2016-06-06T16:15:44Z   \n132              NaN  2016-03-28T06:01:51Z,2016-06-06T16:15:44Z   \n133              NaN  2016-03-28T06:01:51Z,2016-06-06T16:15:44Z   \n135              NaN  2016-03-28T06:01:51Z,2016-06-06T16:15:44Z   \n136              NaN  2016-03-28T06:01:51Z,2016-06-06T16:15:44Z   \n...              ...                                        ...   \n76904            USD                       2016-08-21T00:00:00Z   \n76905            USD                       2016-08-07T00:00:00Z   \n76906            USD                       2016-08-07T00:00:00Z   \n76907            USD                       2016-08-07T00:00:00Z   \n76908            NaN                       2016-08-21T00:00:00Z   \n\n                 menus.description                      menus.name  \\\n131                            NaN                 Volcano Burrito   \n132                            NaN                    Taco 12 Pack   \n133                            NaN         Grilled Steak Soft Taco   \n135                            NaN  Fresco Grilled Steak Soft Taco   \n136                            NaN             Fresco Crunchy Taco   \n...                            ...                             ...   \n76904                          NaN                   Trio of Tacos   \n76905                          NaN                  Brunch Burrito   \n76906                          NaN    Grilled Chicken Mini Burrito   \n76907  with pumpkin seed guacamole  Grilled Vegetable Mini Burrito   \n76908                          NaN                        Burritos   \n\n                 name province  \n131         Taco Bell       NH  \n132         Taco Bell       NH  \n133         Taco Bell       NH  \n135         Taco Bell       NH  \n136         Taco Bell       NH  \n...               ...      ...  \n76904  Hell's Kitchen      Nyc  \n76905  Hell's Kitchen      Nyc  \n76906  Hell's Kitchen      Nyc  \n76907  Hell's Kitchen      Nyc  \n76908  Hell's Kitchen      Nyc  \n\n[3756 rows x 16 columns]",
      "text/html": "<div>\n<style scoped>\n    .dataframe tbody tr th:only-of-type {\n        vertical-align: middle;\n    }\n\n    .dataframe tbody tr th {\n        vertical-align: top;\n    }\n\n    .dataframe thead th {\n        text-align: right;\n    }\n</style>\n<table border=\"1\" class=\"dataframe\">\n  <thead>\n    <tr style=\"text-align: right;\">\n      <th></th>\n      <th>id</th>\n      <th>address</th>\n      <th>categories</th>\n      <th>city</th>\n      <th>cuisines</th>\n      <th>dateAdded</th>\n      <th>dateUpdated</th>\n      <th>latitude</th>\n      <th>longitude</th>\n      <th>menus.category</th>\n      <th>menus.currency</th>\n      <th>menus.dateSeen</th>\n      <th>menus.description</th>\n      <th>menus.name</th>\n      <th>name</th>\n      <th>province</th>\n    </tr>\n  </thead>\n  <tbody>\n    <tr>\n      <th>131</th>\n      <td>AVwc_9yCByjofQCxkdRX</td>\n      <td>322 S. Broadway</td>\n      <td>Fast Food,Restaurants,Mexican,Breakfast,Vegeta...</td>\n      <td>Salem</td>\n      <td>Mexican</td>\n      <td>2016-03-28 06:01:51+00:00</td>\n      <td>2017-06-27 10:01:48+00:00</td>\n      <td>42.755023</td>\n      <td>-71.209440</td>\n      <td>NaN</td>\n      <td>NaN</td>\n      <td>2016-03-28T06:01:51Z,2016-06-06T16:15:44Z</td>\n      <td>NaN</td>\n      <td>Volcano Burrito</td>\n      <td>Taco Bell</td>\n      <td>NH</td>\n    </tr>\n    <tr>\n      <th>132</th>\n      <td>AVwc_9yCByjofQCxkdRX</td>\n      <td>322 S. Broadway</td>\n      <td>Fast Food,Restaurants,Mexican,Breakfast,Vegeta...</td>\n      <td>Salem</td>\n      <td>Mexican</td>\n      <td>2016-03-28 06:01:51+00:00</td>\n      <td>2017-06-27 10:01:48+00:00</td>\n      <td>42.755023</td>\n      <td>-71.209440</td>\n      <td>NaN</td>\n      <td>NaN</td>\n      <td>2016-03-28T06:01:51Z,2016-06-06T16:15:44Z</td>\n      <td>NaN</td>\n      <td>Taco 12 Pack</td>\n      <td>Taco Bell</td>\n      <td>NH</td>\n    </tr>\n    <tr>\n      <th>133</th>\n      <td>AVwc_9yCByjofQCxkdRX</td>\n      <td>322 S. Broadway</td>\n      <td>Fast Food,Restaurants,Mexican,Breakfast,Vegeta...</td>\n      <td>Salem</td>\n      <td>Mexican</td>\n      <td>2016-03-28 06:01:51+00:00</td>\n      <td>2017-06-27 10:01:48+00:00</td>\n      <td>42.755023</td>\n      <td>-71.209440</td>\n      <td>NaN</td>\n      <td>NaN</td>\n      <td>2016-03-28T06:01:51Z,2016-06-06T16:15:44Z</td>\n      <td>NaN</td>\n      <td>Grilled Steak Soft Taco</td>\n      <td>Taco Bell</td>\n      <td>NH</td>\n    </tr>\n    <tr>\n      <th>135</th>\n      <td>AVwc_9yCByjofQCxkdRX</td>\n      <td>322 S. Broadway</td>\n      <td>Fast Food,Restaurants,Mexican,Breakfast,Vegeta...</td>\n      <td>Salem</td>\n      <td>Mexican</td>\n      <td>2016-03-28 06:01:51+00:00</td>\n      <td>2017-06-27 10:01:48+00:00</td>\n      <td>42.755023</td>\n      <td>-71.209440</td>\n      <td>NaN</td>\n      <td>NaN</td>\n      <td>2016-03-28T06:01:51Z,2016-06-06T16:15:44Z</td>\n      <td>NaN</td>\n      <td>Fresco Grilled Steak Soft Taco</td>\n      <td>Taco Bell</td>\n      <td>NH</td>\n    </tr>\n    <tr>\n      <th>136</th>\n      <td>AVwc_9yCByjofQCxkdRX</td>\n      <td>322 S. Broadway</td>\n      <td>Fast Food,Restaurants,Mexican,Breakfast,Vegeta...</td>\n      <td>Salem</td>\n      <td>Mexican</td>\n      <td>2016-03-28 06:01:51+00:00</td>\n      <td>2017-06-27 10:01:48+00:00</td>\n      <td>42.755023</td>\n      <td>-71.209440</td>\n      <td>NaN</td>\n      <td>NaN</td>\n      <td>2016-03-28T06:01:51Z,2016-06-06T16:15:44Z</td>\n      <td>NaN</td>\n      <td>Fresco Crunchy Taco</td>\n      <td>Taco Bell</td>\n      <td>NH</td>\n    </tr>\n    <tr>\n      <th>...</th>\n      <td>...</td>\n      <td>...</td>\n      <td>...</td>\n      <td>...</td>\n      <td>...</td>\n      <td>...</td>\n      <td>...</td>\n      <td>...</td>\n      <td>...</td>\n      <td>...</td>\n      <td>...</td>\n      <td>...</td>\n      <td>...</td>\n      <td>...</td>\n      <td>...</td>\n      <td>...</td>\n    </tr>\n    <tr>\n      <th>76904</th>\n      <td>AVweZN9nByjofQCxxz4o</td>\n      <td>754 Ninth Ave</td>\n      <td>Restaurant</td>\n      <td>New York</td>\n      <td>Mexican, American, Traditional Mexican</td>\n      <td>2015-10-19 20:44:15+00:00</td>\n      <td>2016-08-22 11:24:07+00:00</td>\n      <td>40.763858</td>\n      <td>-73.988327</td>\n      <td>Tacos</td>\n      <td>USD</td>\n      <td>2016-08-21T00:00:00Z</td>\n      <td>NaN</td>\n      <td>Trio of Tacos</td>\n      <td>Hell's Kitchen</td>\n      <td>Nyc</td>\n    </tr>\n    <tr>\n      <th>76905</th>\n      <td>AVweZN9nByjofQCxxz4o</td>\n      <td>754 Ninth Ave</td>\n      <td>Restaurant</td>\n      <td>New York</td>\n      <td>Mexican, American, Traditional Mexican</td>\n      <td>2015-10-19 20:44:15+00:00</td>\n      <td>2016-08-22 11:24:07+00:00</td>\n      <td>40.763858</td>\n      <td>-73.988327</td>\n      <td>Huevos, Etc.</td>\n      <td>USD</td>\n      <td>2016-08-07T00:00:00Z</td>\n      <td>NaN</td>\n      <td>Brunch Burrito</td>\n      <td>Hell's Kitchen</td>\n      <td>Nyc</td>\n    </tr>\n    <tr>\n      <th>76906</th>\n      <td>AVweZN9nByjofQCxxz4o</td>\n      <td>754 Ninth Ave</td>\n      <td>Restaurant</td>\n      <td>New York</td>\n      <td>Mexican, American, Traditional Mexican</td>\n      <td>2015-10-19 20:44:15+00:00</td>\n      <td>2016-08-22 11:24:07+00:00</td>\n      <td>40.763858</td>\n      <td>-73.988327</td>\n      <td>Botanas</td>\n      <td>USD</td>\n      <td>2016-08-07T00:00:00Z</td>\n      <td>NaN</td>\n      <td>Grilled Chicken Mini Burrito</td>\n      <td>Hell's Kitchen</td>\n      <td>Nyc</td>\n    </tr>\n    <tr>\n      <th>76907</th>\n      <td>AVweZN9nByjofQCxxz4o</td>\n      <td>754 Ninth Ave</td>\n      <td>Restaurant</td>\n      <td>New York</td>\n      <td>Mexican, American, Traditional Mexican</td>\n      <td>2015-10-19 20:44:15+00:00</td>\n      <td>2016-08-22 11:24:07+00:00</td>\n      <td>40.763858</td>\n      <td>-73.988327</td>\n      <td>Botanas</td>\n      <td>USD</td>\n      <td>2016-08-07T00:00:00Z</td>\n      <td>with pumpkin seed guacamole</td>\n      <td>Grilled Vegetable Mini Burrito</td>\n      <td>Hell's Kitchen</td>\n      <td>Nyc</td>\n    </tr>\n    <tr>\n      <th>76908</th>\n      <td>AVweZN9nByjofQCxxz4o</td>\n      <td>754 Ninth Ave</td>\n      <td>Restaurant</td>\n      <td>New York</td>\n      <td>Mexican, American, Traditional Mexican</td>\n      <td>2015-10-19 20:44:15+00:00</td>\n      <td>2016-08-22 11:24:07+00:00</td>\n      <td>40.763858</td>\n      <td>-73.988327</td>\n      <td>Main</td>\n      <td>NaN</td>\n      <td>2016-08-21T00:00:00Z</td>\n      <td>NaN</td>\n      <td>Burritos</td>\n      <td>Hell's Kitchen</td>\n      <td>Nyc</td>\n    </tr>\n  </tbody>\n</table>\n<p>3756 rows × 16 columns</p>\n</div>"
     },
     "execution_count": 219,
     "metadata": {},
     "output_type": "execute_result"
    }
   ],
   "source": [
    "result = data.query('(city == \"New York\" or name == \"Taco Bell\") and not `menus.name`.'\n",
    "                    'str.contains(\"Volcano Taco|Fresco Soft Taco\", na=False)')\n",
    "result"
   ],
   "metadata": {
    "collapsed": false,
    "ExecuteTime": {
     "end_time": "2024-04-02T16:03:07.704544Z",
     "start_time": "2024-04-02T16:03:07.643334Z"
    }
   },
   "id": "72633902b574efae",
   "execution_count": 219
  },
  {
   "cell_type": "code",
   "outputs": [
    {
     "data": {
      "text/plain": "                         id           address  \\\n15     AVwc_1y6kufWRAb51O6w   906 Park Ave SW   \n16     AVwc_1y6kufWRAb51O6w   906 Park Ave SW   \n17     AVwc_1y6kufWRAb51O6w   906 Park Ave SW   \n18     AVwc_2OQ_7pvs4fz1L5H  100 W Higgins Rd   \n19     AVwc_2OQ_7pvs4fz1L5H  100 W Higgins Rd   \n...                     ...               ...   \n77255  AVzRLlQNLD2H7whiWdH_     3919 24th St.   \n77256  AVzRLlQNLD2H7whiWdH_     3919 24th St.   \n77257  AVzRLlQNLD2H7whiWdH_     3919 24th St.   \n77258  AVzRLlQNLD2H7whiWdH_     3919 24th St.   \n77259  AVzRLlQNLD2H7whiWdH_     3919 24th St.   \n\n                                 categories           city  \\\n15     Coffee Shop,Restaurants,Coffeehouses    Albuquerque   \n16     Coffee Shop,Restaurants,Coffeehouses    Albuquerque   \n17     Coffee Shop,Restaurants,Coffeehouses    Albuquerque   \n18                               Restaurant     Barrington   \n19                               Restaurant     Barrington   \n...                                     ...            ...   \n77255                            Restaurant  San Francisco   \n77256                            Restaurant  San Francisco   \n77257                            Restaurant  San Francisco   \n77258                            Restaurant  San Francisco   \n77259                            Restaurant  San Francisco   \n\n                      cuisines                 dateAdded  \\\n15                Coffee Shops 2016-06-05 20:15:56+00:00   \n16                Coffee Shops 2016-06-05 20:15:56+00:00   \n17                Coffee Shops 2016-06-05 20:15:56+00:00   \n18     Mexican, Latin American 2016-07-26 17:39:41+00:00   \n19     Mexican, Latin American 2016-07-26 17:39:41+00:00   \n...                        ...                       ...   \n77255                  Mexican 2017-06-22 19:01:33+00:00   \n77256                  Mexican 2017-06-22 19:01:33+00:00   \n77257                  Mexican 2017-06-22 19:01:33+00:00   \n77258                  Mexican 2017-06-22 19:01:33+00:00   \n77259                  Mexican 2017-06-22 19:01:33+00:00   \n\n                    dateUpdated   latitude   longitude menus.category  \\\n15    2017-07-06 13:28:29+00:00  35.085320 -106.657616            NaN   \n16    2017-07-06 13:28:29+00:00  35.085320 -106.657616            NaN   \n17    2017-07-06 13:28:29+00:00  35.085320 -106.657616            NaN   \n18    2016-08-26 05:25:56+00:00  42.074974  -88.189151            NaN   \n19    2016-08-26 05:25:56+00:00  42.074974  -88.189151            NaN   \n...                         ...        ...         ...            ...   \n77255 2017-06-22 19:01:33+00:00  37.751392 -122.430180            NaN   \n77256 2017-06-22 19:01:33+00:00  37.751392 -122.430180            NaN   \n77257 2017-06-22 19:01:33+00:00  37.751392 -122.430180            NaN   \n77258 2017-06-22 19:01:33+00:00  37.751392 -122.430180            NaN   \n77259 2017-06-22 19:01:33+00:00  37.751392 -122.430180            NaN   \n\n      menus.currency                             menus.dateSeen  \\\n15               USD  2016-06-05T20:15:56Z,2016-10-20T07:09:38Z   \n16               USD  2016-06-05T20:15:56Z,2016-10-20T07:09:38Z   \n17               USD  2016-06-05T20:15:56Z,2016-10-20T07:09:38Z   \n18               USD                       2016-08-22T00:00:00Z   \n19               USD                       2016-08-22T00:00:00Z   \n...              ...                                        ...   \n77255            USD                   2017-06-22T16:40:06.448Z   \n77256            USD                   2017-06-22T16:40:06.448Z   \n77257            USD                   2017-06-22T16:40:06.448Z   \n77258            USD                   2017-06-22T16:40:06.448Z   \n77259            USD                   2017-06-22T16:40:06.448Z   \n\n                                       menus.description  \\\n15     Potatoes, onion, peppers, mushroom, avocado, b...   \n16     Grilled tofu, potatoes and your choice of chil...   \n17                                                   NaN   \n18                                                   NaN   \n19     lettuce, chihuahua cheese, black beans, mexica...   \n...                                                  ...   \n77255  meat, rice, beans, guacamole, sour cream, chee...   \n77256                 melted cheese, rice, beans & salsa   \n77257                                       meat & salsa   \n77258                          meat, rice, beans & salsa   \n77259  stuffed with rice, beans, meat, topped with en...   \n\n                     menus.name                                     name  \\\n15         Mondo Veggie Burrito                               Java Joe's   \n16                 Tofu Burrito                               Java Joe's   \n17           Black Bean Burrito                               Java Joe's   \n18             Burrito De Rajas  Mago Grill & Cantina - South Barrington   \n19                         Taco  Mago Grill & Cantina - South Barrington   \n...                         ...                                      ...   \n77255             Super Burrito                       La Casona Taqueria   \n77256  Steamed Broccoli Burrito                       La Casona Taqueria   \n77257              Regular Taco                       La Casona Taqueria   \n77258           Regular Burrito                       La Casona Taqueria   \n77259            Azteca Burrito                       La Casona Taqueria   \n\n            province  \n15                NM  \n16                NM  \n17                NM  \n18     Fox Rv Vly Gn  \n19     Fox Rv Vly Gn  \n...              ...  \n77255     California  \n77256     California  \n77257     California  \n77258     California  \n77259     California  \n\n[40511 rows x 16 columns]",
      "text/html": "<div>\n<style scoped>\n    .dataframe tbody tr th:only-of-type {\n        vertical-align: middle;\n    }\n\n    .dataframe tbody tr th {\n        vertical-align: top;\n    }\n\n    .dataframe thead th {\n        text-align: right;\n    }\n</style>\n<table border=\"1\" class=\"dataframe\">\n  <thead>\n    <tr style=\"text-align: right;\">\n      <th></th>\n      <th>id</th>\n      <th>address</th>\n      <th>categories</th>\n      <th>city</th>\n      <th>cuisines</th>\n      <th>dateAdded</th>\n      <th>dateUpdated</th>\n      <th>latitude</th>\n      <th>longitude</th>\n      <th>menus.category</th>\n      <th>menus.currency</th>\n      <th>menus.dateSeen</th>\n      <th>menus.description</th>\n      <th>menus.name</th>\n      <th>name</th>\n      <th>province</th>\n    </tr>\n  </thead>\n  <tbody>\n    <tr>\n      <th>15</th>\n      <td>AVwc_1y6kufWRAb51O6w</td>\n      <td>906 Park Ave SW</td>\n      <td>Coffee Shop,Restaurants,Coffeehouses</td>\n      <td>Albuquerque</td>\n      <td>Coffee Shops</td>\n      <td>2016-06-05 20:15:56+00:00</td>\n      <td>2017-07-06 13:28:29+00:00</td>\n      <td>35.085320</td>\n      <td>-106.657616</td>\n      <td>NaN</td>\n      <td>USD</td>\n      <td>2016-06-05T20:15:56Z,2016-10-20T07:09:38Z</td>\n      <td>Potatoes, onion, peppers, mushroom, avocado, b...</td>\n      <td>Mondo Veggie Burrito</td>\n      <td>Java Joe's</td>\n      <td>NM</td>\n    </tr>\n    <tr>\n      <th>16</th>\n      <td>AVwc_1y6kufWRAb51O6w</td>\n      <td>906 Park Ave SW</td>\n      <td>Coffee Shop,Restaurants,Coffeehouses</td>\n      <td>Albuquerque</td>\n      <td>Coffee Shops</td>\n      <td>2016-06-05 20:15:56+00:00</td>\n      <td>2017-07-06 13:28:29+00:00</td>\n      <td>35.085320</td>\n      <td>-106.657616</td>\n      <td>NaN</td>\n      <td>USD</td>\n      <td>2016-06-05T20:15:56Z,2016-10-20T07:09:38Z</td>\n      <td>Grilled tofu, potatoes and your choice of chil...</td>\n      <td>Tofu Burrito</td>\n      <td>Java Joe's</td>\n      <td>NM</td>\n    </tr>\n    <tr>\n      <th>17</th>\n      <td>AVwc_1y6kufWRAb51O6w</td>\n      <td>906 Park Ave SW</td>\n      <td>Coffee Shop,Restaurants,Coffeehouses</td>\n      <td>Albuquerque</td>\n      <td>Coffee Shops</td>\n      <td>2016-06-05 20:15:56+00:00</td>\n      <td>2017-07-06 13:28:29+00:00</td>\n      <td>35.085320</td>\n      <td>-106.657616</td>\n      <td>NaN</td>\n      <td>USD</td>\n      <td>2016-06-05T20:15:56Z,2016-10-20T07:09:38Z</td>\n      <td>NaN</td>\n      <td>Black Bean Burrito</td>\n      <td>Java Joe's</td>\n      <td>NM</td>\n    </tr>\n    <tr>\n      <th>18</th>\n      <td>AVwc_2OQ_7pvs4fz1L5H</td>\n      <td>100 W Higgins Rd</td>\n      <td>Restaurant</td>\n      <td>Barrington</td>\n      <td>Mexican, Latin American</td>\n      <td>2016-07-26 17:39:41+00:00</td>\n      <td>2016-08-26 05:25:56+00:00</td>\n      <td>42.074974</td>\n      <td>-88.189151</td>\n      <td>NaN</td>\n      <td>USD</td>\n      <td>2016-08-22T00:00:00Z</td>\n      <td>NaN</td>\n      <td>Burrito De Rajas</td>\n      <td>Mago Grill &amp; Cantina - South Barrington</td>\n      <td>Fox Rv Vly Gn</td>\n    </tr>\n    <tr>\n      <th>19</th>\n      <td>AVwc_2OQ_7pvs4fz1L5H</td>\n      <td>100 W Higgins Rd</td>\n      <td>Restaurant</td>\n      <td>Barrington</td>\n      <td>Mexican, Latin American</td>\n      <td>2016-07-26 17:39:41+00:00</td>\n      <td>2016-08-26 05:25:56+00:00</td>\n      <td>42.074974</td>\n      <td>-88.189151</td>\n      <td>NaN</td>\n      <td>USD</td>\n      <td>2016-08-22T00:00:00Z</td>\n      <td>lettuce, chihuahua cheese, black beans, mexica...</td>\n      <td>Taco</td>\n      <td>Mago Grill &amp; Cantina - South Barrington</td>\n      <td>Fox Rv Vly Gn</td>\n    </tr>\n    <tr>\n      <th>...</th>\n      <td>...</td>\n      <td>...</td>\n      <td>...</td>\n      <td>...</td>\n      <td>...</td>\n      <td>...</td>\n      <td>...</td>\n      <td>...</td>\n      <td>...</td>\n      <td>...</td>\n      <td>...</td>\n      <td>...</td>\n      <td>...</td>\n      <td>...</td>\n      <td>...</td>\n      <td>...</td>\n    </tr>\n    <tr>\n      <th>77255</th>\n      <td>AVzRLlQNLD2H7whiWdH_</td>\n      <td>3919 24th St.</td>\n      <td>Restaurant</td>\n      <td>San Francisco</td>\n      <td>Mexican</td>\n      <td>2017-06-22 19:01:33+00:00</td>\n      <td>2017-06-22 19:01:33+00:00</td>\n      <td>37.751392</td>\n      <td>-122.430180</td>\n      <td>NaN</td>\n      <td>USD</td>\n      <td>2017-06-22T16:40:06.448Z</td>\n      <td>meat, rice, beans, guacamole, sour cream, chee...</td>\n      <td>Super Burrito</td>\n      <td>La Casona Taqueria</td>\n      <td>California</td>\n    </tr>\n    <tr>\n      <th>77256</th>\n      <td>AVzRLlQNLD2H7whiWdH_</td>\n      <td>3919 24th St.</td>\n      <td>Restaurant</td>\n      <td>San Francisco</td>\n      <td>Mexican</td>\n      <td>2017-06-22 19:01:33+00:00</td>\n      <td>2017-06-22 19:01:33+00:00</td>\n      <td>37.751392</td>\n      <td>-122.430180</td>\n      <td>NaN</td>\n      <td>USD</td>\n      <td>2017-06-22T16:40:06.448Z</td>\n      <td>melted cheese, rice, beans &amp; salsa</td>\n      <td>Steamed Broccoli Burrito</td>\n      <td>La Casona Taqueria</td>\n      <td>California</td>\n    </tr>\n    <tr>\n      <th>77257</th>\n      <td>AVzRLlQNLD2H7whiWdH_</td>\n      <td>3919 24th St.</td>\n      <td>Restaurant</td>\n      <td>San Francisco</td>\n      <td>Mexican</td>\n      <td>2017-06-22 19:01:33+00:00</td>\n      <td>2017-06-22 19:01:33+00:00</td>\n      <td>37.751392</td>\n      <td>-122.430180</td>\n      <td>NaN</td>\n      <td>USD</td>\n      <td>2017-06-22T16:40:06.448Z</td>\n      <td>meat &amp; salsa</td>\n      <td>Regular Taco</td>\n      <td>La Casona Taqueria</td>\n      <td>California</td>\n    </tr>\n    <tr>\n      <th>77258</th>\n      <td>AVzRLlQNLD2H7whiWdH_</td>\n      <td>3919 24th St.</td>\n      <td>Restaurant</td>\n      <td>San Francisco</td>\n      <td>Mexican</td>\n      <td>2017-06-22 19:01:33+00:00</td>\n      <td>2017-06-22 19:01:33+00:00</td>\n      <td>37.751392</td>\n      <td>-122.430180</td>\n      <td>NaN</td>\n      <td>USD</td>\n      <td>2017-06-22T16:40:06.448Z</td>\n      <td>meat, rice, beans &amp; salsa</td>\n      <td>Regular Burrito</td>\n      <td>La Casona Taqueria</td>\n      <td>California</td>\n    </tr>\n    <tr>\n      <th>77259</th>\n      <td>AVzRLlQNLD2H7whiWdH_</td>\n      <td>3919 24th St.</td>\n      <td>Restaurant</td>\n      <td>San Francisco</td>\n      <td>Mexican</td>\n      <td>2017-06-22 19:01:33+00:00</td>\n      <td>2017-06-22 19:01:33+00:00</td>\n      <td>37.751392</td>\n      <td>-122.430180</td>\n      <td>NaN</td>\n      <td>USD</td>\n      <td>2017-06-22T16:40:06.448Z</td>\n      <td>stuffed with rice, beans, meat, topped with en...</td>\n      <td>Azteca Burrito</td>\n      <td>La Casona Taqueria</td>\n      <td>California</td>\n    </tr>\n  </tbody>\n</table>\n<p>40511 rows × 16 columns</p>\n</div>"
     },
     "execution_count": 220,
     "metadata": {},
     "output_type": "execute_result"
    }
   ],
   "source": [
    "result = data[~data['menus.currency'].isna()]\n",
    "result"
   ],
   "metadata": {
    "collapsed": false,
    "ExecuteTime": {
     "end_time": "2024-04-02T16:03:07.735767Z",
     "start_time": "2024-04-02T16:03:07.706577Z"
    }
   },
   "id": "4964f58e6a3e67b0",
   "execution_count": 220
  },
  {
   "cell_type": "code",
   "outputs": [
    {
     "data": {
      "text/plain": "dtype('O')"
     },
     "execution_count": 221,
     "metadata": {},
     "output_type": "execute_result"
    }
   ],
   "source": [
    "data['categories'].dtypes"
   ],
   "metadata": {
    "collapsed": false,
    "ExecuteTime": {
     "end_time": "2024-04-02T16:03:07.751198Z",
     "start_time": "2024-04-02T16:03:07.737112Z"
    }
   },
   "id": "335b33bdbad60f4f",
   "execution_count": 221
  },
  {
   "cell_type": "code",
   "outputs": [
    {
     "data": {
      "text/plain": "categories    object\ndtype: object"
     },
     "execution_count": 222,
     "metadata": {},
     "output_type": "execute_result"
    }
   ],
   "source": [
    "data[['categories']].dtypes"
   ],
   "metadata": {
    "collapsed": false,
    "ExecuteTime": {
     "end_time": "2024-04-02T16:03:07.767764Z",
     "start_time": "2024-04-02T16:03:07.755228Z"
    }
   },
   "id": "a0ffddbf75f86f5c",
   "execution_count": 222
  },
  {
   "cell_type": "code",
   "outputs": [
    {
     "data": {
      "text/plain": "               city  count\n2829      San Diego   1924\n1827    Los Angeles   1603\n569         Chicago   1186\n2832  San Francisco   1120\n2229       New York   1085\n...             ...    ...\n563    Chesterfield      1\n2189          Nephi      1\n1168        Glasgow      1\n2932         Sequim      1\n434         Cameron      1\n\n[3601 rows x 2 columns]",
      "text/html": "<div>\n<style scoped>\n    .dataframe tbody tr th:only-of-type {\n        vertical-align: middle;\n    }\n\n    .dataframe tbody tr th {\n        vertical-align: top;\n    }\n\n    .dataframe thead th {\n        text-align: right;\n    }\n</style>\n<table border=\"1\" class=\"dataframe\">\n  <thead>\n    <tr style=\"text-align: right;\">\n      <th></th>\n      <th>city</th>\n      <th>count</th>\n    </tr>\n  </thead>\n  <tbody>\n    <tr>\n      <th>2829</th>\n      <td>San Diego</td>\n      <td>1924</td>\n    </tr>\n    <tr>\n      <th>1827</th>\n      <td>Los Angeles</td>\n      <td>1603</td>\n    </tr>\n    <tr>\n      <th>569</th>\n      <td>Chicago</td>\n      <td>1186</td>\n    </tr>\n    <tr>\n      <th>2832</th>\n      <td>San Francisco</td>\n      <td>1120</td>\n    </tr>\n    <tr>\n      <th>2229</th>\n      <td>New York</td>\n      <td>1085</td>\n    </tr>\n    <tr>\n      <th>...</th>\n      <td>...</td>\n      <td>...</td>\n    </tr>\n    <tr>\n      <th>563</th>\n      <td>Chesterfield</td>\n      <td>1</td>\n    </tr>\n    <tr>\n      <th>2189</th>\n      <td>Nephi</td>\n      <td>1</td>\n    </tr>\n    <tr>\n      <th>1168</th>\n      <td>Glasgow</td>\n      <td>1</td>\n    </tr>\n    <tr>\n      <th>2932</th>\n      <td>Sequim</td>\n      <td>1</td>\n    </tr>\n    <tr>\n      <th>434</th>\n      <td>Cameron</td>\n      <td>1</td>\n    </tr>\n  </tbody>\n</table>\n<p>3601 rows × 2 columns</p>\n</div>"
     },
     "execution_count": 223,
     "metadata": {},
     "output_type": "execute_result"
    }
   ],
   "source": [
    "data.groupby('city', as_index=False).agg(count=pd.NamedAgg(column='id', aggfunc='count')).sort_values(by='count',\n",
    "                                                                                                      ascending=False)"
   ],
   "metadata": {
    "collapsed": false,
    "ExecuteTime": {
     "end_time": "2024-04-02T16:03:07.799104Z",
     "start_time": "2024-04-02T16:03:07.768838Z"
    }
   },
   "id": "7203e1170ee038a7",
   "execution_count": 223
  },
  {
   "cell_type": "code",
   "outputs": [
    {
     "data": {
      "text/plain": "51     Indianapolis\n30         Columbus\n21       Charleston\n117           Tampa\n42           Fresno\nName: city, dtype: object"
     },
     "execution_count": 224,
     "metadata": {},
     "output_type": "execute_result"
    }
   ],
   "source": [
    "result = data.query('name == \"Taco Bell\"').groupby('city', as_index=False).agg(\n",
    "    count=pd.NamedAgg(column='id', aggfunc='count')).sort_values(by='count', ascending=False)['city'].head(5)\n",
    "result"
   ],
   "metadata": {
    "collapsed": false,
    "ExecuteTime": {
     "end_time": "2024-04-02T16:03:07.830885Z",
     "start_time": "2024-04-02T16:03:07.800262Z"
    }
   },
   "id": "fd482f0eba7447a8",
   "execution_count": 224
  },
  {
   "cell_type": "code",
   "outputs": [
    {
     "data": {
      "text/plain": "Index([2, 21, 22, 23, 24], dtype='int64')"
     },
     "execution_count": 225,
     "metadata": {},
     "output_type": "execute_result"
    }
   ],
   "source": [
    "data[data['dateAdded'].dt.month == 10].head(5).index"
   ],
   "metadata": {
    "collapsed": false,
    "ExecuteTime": {
     "end_time": "2024-04-02T16:03:07.846103Z",
     "start_time": "2024-04-02T16:03:07.832034Z"
    }
   },
   "id": "a269e158e2cf74aa",
   "execution_count": 225
  },
  {
   "cell_type": "code",
   "outputs": [
    {
     "data": {
      "text/plain": "             id\ndateAdded      \n1           308\n2           257\n3          4970\n4          3224\n5          1141\n6          1356\n7           645\n8           479\n9           554\n10         4716\n11         1550\n12          239",
      "text/html": "<div>\n<style scoped>\n    .dataframe tbody tr th:only-of-type {\n        vertical-align: middle;\n    }\n\n    .dataframe tbody tr th {\n        vertical-align: top;\n    }\n\n    .dataframe thead th {\n        text-align: right;\n    }\n</style>\n<table border=\"1\" class=\"dataframe\">\n  <thead>\n    <tr style=\"text-align: right;\">\n      <th></th>\n      <th>id</th>\n    </tr>\n    <tr>\n      <th>dateAdded</th>\n      <th></th>\n    </tr>\n  </thead>\n  <tbody>\n    <tr>\n      <th>1</th>\n      <td>308</td>\n    </tr>\n    <tr>\n      <th>2</th>\n      <td>257</td>\n    </tr>\n    <tr>\n      <th>3</th>\n      <td>4970</td>\n    </tr>\n    <tr>\n      <th>4</th>\n      <td>3224</td>\n    </tr>\n    <tr>\n      <th>5</th>\n      <td>1141</td>\n    </tr>\n    <tr>\n      <th>6</th>\n      <td>1356</td>\n    </tr>\n    <tr>\n      <th>7</th>\n      <td>645</td>\n    </tr>\n    <tr>\n      <th>8</th>\n      <td>479</td>\n    </tr>\n    <tr>\n      <th>9</th>\n      <td>554</td>\n    </tr>\n    <tr>\n      <th>10</th>\n      <td>4716</td>\n    </tr>\n    <tr>\n      <th>11</th>\n      <td>1550</td>\n    </tr>\n    <tr>\n      <th>12</th>\n      <td>239</td>\n    </tr>\n  </tbody>\n</table>\n</div>"
     },
     "execution_count": 226,
     "metadata": {},
     "output_type": "execute_result"
    }
   ],
   "source": [
    "result = data.groupby(data['dateAdded'].dt.month).agg({'id': 'nunique'})\n",
    "result"
   ],
   "metadata": {
    "collapsed": false,
    "ExecuteTime": {
     "end_time": "2024-04-02T16:03:07.876987Z",
     "start_time": "2024-04-02T16:03:07.847103Z"
    }
   },
   "id": "a108805b43d05a5f",
   "execution_count": 226
  },
  {
   "cell_type": "code",
   "outputs": [],
   "source": [
    "data['update_delta'] = (data.dateUpdated - data.dateAdded).dt.days\n",
    "result = data.groupby('city', as_index=False).agg({'update_delta': 'mean', 'latitude': 'max'})\n",
    "zep_mean = result[result['city'] == 'Zephyrhills'].update_delta.iloc[0]"
   ],
   "metadata": {
    "collapsed": false,
    "ExecuteTime": {
     "end_time": "2024-04-02T16:03:07.908727Z",
     "start_time": "2024-04-02T16:03:07.878090Z"
    }
   },
   "id": "dacebcb4e0b8bc83",
   "execution_count": 227
  },
  {
   "cell_type": "code",
   "outputs": [
    {
     "data": {
      "text/plain": "id                                                AVwc_59U_7pvs4fz1Md3\naddress                                               3250 Kennedy Cir\ncategories           Pizza,Take Out Restaurants,Caterers,Restaurant...\ncity                                                           Dubuque\ncuisines                                                         Pizza\ndateAdded                                    2016-03-29 04:45:06+00:00\ndateUpdated                                  2016-05-05 12:40:51+00:00\nlatitude                                                     42.505264\nlongitude                                                    -90.72141\nmenus.category                                                     NaN\nmenus.currency                                                     NaN\nmenus.dateSeen               2016-05-05T12:40:51Z,2016-03-29T04:45:06Z\nmenus.description                                                  NaN\nmenus.name                                                Taco Supreme\nname                                               Falbo Bros Pizzeria\nprovince                                                            IA\nupdate_delta                                                        37\nName: 66, dtype: object"
     },
     "execution_count": 228,
     "metadata": {},
     "output_type": "execute_result"
    }
   ],
   "source": [
    "data.query('categories.str.contains(\"Pizza\", na=False)').iloc[2]"
   ],
   "metadata": {
    "collapsed": false,
    "ExecuteTime": {
     "end_time": "2024-04-02T16:03:07.955266Z",
     "start_time": "2024-04-02T16:03:07.910144Z"
    }
   },
   "id": "e02f6de6162dfa69",
   "execution_count": 228
  },
  {
   "cell_type": "code",
   "outputs": [
    {
     "data": {
      "text/plain": "mean    326.22\n50%     364.00\nName: update_delta, dtype: float64"
     },
     "execution_count": 229,
     "metadata": {},
     "output_type": "execute_result"
    }
   ],
   "source": [
    "data.update_delta.describe().round(2).loc[['mean', '50%']]"
   ],
   "metadata": {
    "collapsed": false,
    "ExecuteTime": {
     "end_time": "2024-04-02T16:03:07.971308Z",
     "start_time": "2024-04-02T16:03:07.956267Z"
    }
   },
   "id": "b3eb6cc9f5742760",
   "execution_count": 229
  },
  {
   "cell_type": "code",
   "outputs": [
    {
     "data": {
      "text/plain": "                         id                   address  \\\n0      AVwc__cikufWRAb51QjV         610 Commercial St   \n1      AVwc__cikufWRAb51QjV         610 Commercial St   \n2      AVwc__dF_7pvs4fz1Ncy      9521 Morton Davis Dr   \n3      AVwc__kCByjofQCxkdm-  10550 W I 25 Frontage Rd   \n4      AVwc__WtByjofQCxkdkR             8495 W 3rd St   \n...                     ...                       ...   \n77255  AVzRLlQNLD2H7whiWdH_             3919 24th St.   \n77256  AVzRLlQNLD2H7whiWdH_             3919 24th St.   \n77257  AVzRLlQNLD2H7whiWdH_             3919 24th St.   \n77258  AVzRLlQNLD2H7whiWdH_             3919 24th St.   \n77259  AVzRLlQNLD2H7whiWdH_             3919 24th St.   \n\n                                              categories           city  \\\n0      Restaurant Delivery Service,Restaurants,Pizza,...       Atchison   \n1      Restaurant Delivery Service,Restaurants,Pizza,...       Atchison   \n2           Golf Course, American Restaurant, and Resort      Patterson   \n3                                   Fast Food Restaurant       Longmont   \n4      Mexican Restaurant Mid-City West,Mexican Resta...    Los Angeles   \n...                                                  ...            ...   \n77255                                         Restaurant  San Francisco   \n77256                                         Restaurant  San Francisco   \n77257                                         Restaurant  San Francisco   \n77258                                         Restaurant  San Francisco   \n77259                                         Restaurant  San Francisco   \n\n                          cuisines                 dateAdded  \\\n0      Restaurant Delivery Service 2016-03-02 11:49:34+00:00   \n1      Restaurant Delivery Service 2016-03-02 11:49:34+00:00   \n2                              NaN 2016-10-14 01:58:25+00:00   \n3                              NaN 2016-09-09 17:30:34+00:00   \n4                          Mexican 2016-05-19 11:50:25+00:00   \n...                            ...                       ...   \n77255                      Mexican 2017-06-22 19:01:33+00:00   \n77256                      Mexican 2017-06-22 19:01:33+00:00   \n77257                      Mexican 2017-06-22 19:01:33+00:00   \n77258                      Mexican 2017-06-22 19:01:33+00:00   \n77259                      Mexican 2017-06-22 19:01:33+00:00   \n\n                    dateUpdated   latitude   longitude menus.category  \\\n0     2017-02-01 18:04:44+00:00  39.561570  -95.121020            NaN   \n1     2017-02-01 18:04:44+00:00  39.561570  -95.121020            NaN   \n2     2016-10-14 01:58:25+00:00  37.401855 -121.266703            NaN   \n3     2016-10-04 05:15:17+00:00        NaN         NaN            NaN   \n4     2016-09-11 00:06:37+00:00  34.080724 -118.389578            NaN   \n...                         ...        ...         ...            ...   \n77255 2017-06-22 19:01:33+00:00  37.751392 -122.430180            NaN   \n77256 2017-06-22 19:01:33+00:00  37.751392 -122.430180            NaN   \n77257 2017-06-22 19:01:33+00:00  37.751392 -122.430180            NaN   \n77258 2017-06-22 19:01:33+00:00  37.751392 -122.430180            NaN   \n77259 2017-06-22 19:01:33+00:00  37.751392 -122.430180            NaN   \n\n      menus.currency            menus.dateSeen  \\\n0                NaN      2017-02-01T18:04:44Z   \n1                NaN      2016-03-02T11:49:34Z   \n2                NaN      2016-10-14T01:58:25Z   \n3                NaN      2016-09-09T17:30:34Z   \n4                NaN      2016-05-19T11:50:25Z   \n...              ...                       ...   \n77255            USD  2017-06-22T16:40:06.448Z   \n77256            USD  2017-06-22T16:40:06.448Z   \n77257            USD  2017-06-22T16:40:06.448Z   \n77258            USD  2017-06-22T16:40:06.448Z   \n77259            USD  2017-06-22T16:40:06.448Z   \n\n                                       menus.description  \\\n0                                                    NaN   \n1      Beef, onion, cheddar cheese, lettuce,  refried...   \n2      Beef barbacoa or chicken, spanish rice, pico d...   \n3                                                    NaN   \n4      Wahoo, avocado, cabbage, pico de gallo  and av...   \n...                                                  ...   \n77255  meat, rice, beans, guacamole, sour cream, chee...   \n77256                 melted cheese, rice, beans & salsa   \n77257                                       meat & salsa   \n77258                          meat, rice, beans & salsa   \n77259  stuffed with rice, beans, meat, topped with en...   \n\n                     menus.name                               name  \\\n0                          Taco                    Gambino's Pizza   \n1                          Taco                    Gambino's Pizza   \n2              Smotherd Burrito  Diablo Grande Golf & Country Club   \n3               Sausage Burrito                         Mcdonald's   \n4             Wahoo Tacogrilled           Baja Fresh Mexican Grill   \n...                         ...                                ...   \n77255             Super Burrito                 La Casona Taqueria   \n77256  Steamed Broccoli Burrito                 La Casona Taqueria   \n77257              Regular Taco                 La Casona Taqueria   \n77258           Regular Burrito                 La Casona Taqueria   \n77259            Azteca Burrito                 La Casona Taqueria   \n\n           province  update_delta  \n0                KS           336  \n1                KS           336  \n2           Grayson             0  \n3             Niwot            24  \n4      Bicentennial           114  \n...             ...           ...  \n77255    California             0  \n77256    California             0  \n77257    California             0  \n77258    California             0  \n77259    California             0  \n\n[77260 rows x 17 columns]",
      "text/html": "<div>\n<style scoped>\n    .dataframe tbody tr th:only-of-type {\n        vertical-align: middle;\n    }\n\n    .dataframe tbody tr th {\n        vertical-align: top;\n    }\n\n    .dataframe thead th {\n        text-align: right;\n    }\n</style>\n<table border=\"1\" class=\"dataframe\">\n  <thead>\n    <tr style=\"text-align: right;\">\n      <th></th>\n      <th>id</th>\n      <th>address</th>\n      <th>categories</th>\n      <th>city</th>\n      <th>cuisines</th>\n      <th>dateAdded</th>\n      <th>dateUpdated</th>\n      <th>latitude</th>\n      <th>longitude</th>\n      <th>menus.category</th>\n      <th>menus.currency</th>\n      <th>menus.dateSeen</th>\n      <th>menus.description</th>\n      <th>menus.name</th>\n      <th>name</th>\n      <th>province</th>\n      <th>update_delta</th>\n    </tr>\n  </thead>\n  <tbody>\n    <tr>\n      <th>0</th>\n      <td>AVwc__cikufWRAb51QjV</td>\n      <td>610 Commercial St</td>\n      <td>Restaurant Delivery Service,Restaurants,Pizza,...</td>\n      <td>Atchison</td>\n      <td>Restaurant Delivery Service</td>\n      <td>2016-03-02 11:49:34+00:00</td>\n      <td>2017-02-01 18:04:44+00:00</td>\n      <td>39.561570</td>\n      <td>-95.121020</td>\n      <td>NaN</td>\n      <td>NaN</td>\n      <td>2017-02-01T18:04:44Z</td>\n      <td>NaN</td>\n      <td>Taco</td>\n      <td>Gambino's Pizza</td>\n      <td>KS</td>\n      <td>336</td>\n    </tr>\n    <tr>\n      <th>1</th>\n      <td>AVwc__cikufWRAb51QjV</td>\n      <td>610 Commercial St</td>\n      <td>Restaurant Delivery Service,Restaurants,Pizza,...</td>\n      <td>Atchison</td>\n      <td>Restaurant Delivery Service</td>\n      <td>2016-03-02 11:49:34+00:00</td>\n      <td>2017-02-01 18:04:44+00:00</td>\n      <td>39.561570</td>\n      <td>-95.121020</td>\n      <td>NaN</td>\n      <td>NaN</td>\n      <td>2016-03-02T11:49:34Z</td>\n      <td>Beef, onion, cheddar cheese, lettuce,  refried...</td>\n      <td>Taco</td>\n      <td>Gambino's Pizza</td>\n      <td>KS</td>\n      <td>336</td>\n    </tr>\n    <tr>\n      <th>2</th>\n      <td>AVwc__dF_7pvs4fz1Ncy</td>\n      <td>9521 Morton Davis Dr</td>\n      <td>Golf Course, American Restaurant, and Resort</td>\n      <td>Patterson</td>\n      <td>NaN</td>\n      <td>2016-10-14 01:58:25+00:00</td>\n      <td>2016-10-14 01:58:25+00:00</td>\n      <td>37.401855</td>\n      <td>-121.266703</td>\n      <td>NaN</td>\n      <td>NaN</td>\n      <td>2016-10-14T01:58:25Z</td>\n      <td>Beef barbacoa or chicken, spanish rice, pico d...</td>\n      <td>Smotherd Burrito</td>\n      <td>Diablo Grande Golf &amp; Country Club</td>\n      <td>Grayson</td>\n      <td>0</td>\n    </tr>\n    <tr>\n      <th>3</th>\n      <td>AVwc__kCByjofQCxkdm-</td>\n      <td>10550 W I 25 Frontage Rd</td>\n      <td>Fast Food Restaurant</td>\n      <td>Longmont</td>\n      <td>NaN</td>\n      <td>2016-09-09 17:30:34+00:00</td>\n      <td>2016-10-04 05:15:17+00:00</td>\n      <td>NaN</td>\n      <td>NaN</td>\n      <td>NaN</td>\n      <td>NaN</td>\n      <td>2016-09-09T17:30:34Z</td>\n      <td>NaN</td>\n      <td>Sausage Burrito</td>\n      <td>Mcdonald's</td>\n      <td>Niwot</td>\n      <td>24</td>\n    </tr>\n    <tr>\n      <th>4</th>\n      <td>AVwc__WtByjofQCxkdkR</td>\n      <td>8495 W 3rd St</td>\n      <td>Mexican Restaurant Mid-City West,Mexican Resta...</td>\n      <td>Los Angeles</td>\n      <td>Mexican</td>\n      <td>2016-05-19 11:50:25+00:00</td>\n      <td>2016-09-11 00:06:37+00:00</td>\n      <td>34.080724</td>\n      <td>-118.389578</td>\n      <td>NaN</td>\n      <td>NaN</td>\n      <td>2016-05-19T11:50:25Z</td>\n      <td>Wahoo, avocado, cabbage, pico de gallo  and av...</td>\n      <td>Wahoo Tacogrilled</td>\n      <td>Baja Fresh Mexican Grill</td>\n      <td>Bicentennial</td>\n      <td>114</td>\n    </tr>\n    <tr>\n      <th>...</th>\n      <td>...</td>\n      <td>...</td>\n      <td>...</td>\n      <td>...</td>\n      <td>...</td>\n      <td>...</td>\n      <td>...</td>\n      <td>...</td>\n      <td>...</td>\n      <td>...</td>\n      <td>...</td>\n      <td>...</td>\n      <td>...</td>\n      <td>...</td>\n      <td>...</td>\n      <td>...</td>\n      <td>...</td>\n    </tr>\n    <tr>\n      <th>77255</th>\n      <td>AVzRLlQNLD2H7whiWdH_</td>\n      <td>3919 24th St.</td>\n      <td>Restaurant</td>\n      <td>San Francisco</td>\n      <td>Mexican</td>\n      <td>2017-06-22 19:01:33+00:00</td>\n      <td>2017-06-22 19:01:33+00:00</td>\n      <td>37.751392</td>\n      <td>-122.430180</td>\n      <td>NaN</td>\n      <td>USD</td>\n      <td>2017-06-22T16:40:06.448Z</td>\n      <td>meat, rice, beans, guacamole, sour cream, chee...</td>\n      <td>Super Burrito</td>\n      <td>La Casona Taqueria</td>\n      <td>California</td>\n      <td>0</td>\n    </tr>\n    <tr>\n      <th>77256</th>\n      <td>AVzRLlQNLD2H7whiWdH_</td>\n      <td>3919 24th St.</td>\n      <td>Restaurant</td>\n      <td>San Francisco</td>\n      <td>Mexican</td>\n      <td>2017-06-22 19:01:33+00:00</td>\n      <td>2017-06-22 19:01:33+00:00</td>\n      <td>37.751392</td>\n      <td>-122.430180</td>\n      <td>NaN</td>\n      <td>USD</td>\n      <td>2017-06-22T16:40:06.448Z</td>\n      <td>melted cheese, rice, beans &amp; salsa</td>\n      <td>Steamed Broccoli Burrito</td>\n      <td>La Casona Taqueria</td>\n      <td>California</td>\n      <td>0</td>\n    </tr>\n    <tr>\n      <th>77257</th>\n      <td>AVzRLlQNLD2H7whiWdH_</td>\n      <td>3919 24th St.</td>\n      <td>Restaurant</td>\n      <td>San Francisco</td>\n      <td>Mexican</td>\n      <td>2017-06-22 19:01:33+00:00</td>\n      <td>2017-06-22 19:01:33+00:00</td>\n      <td>37.751392</td>\n      <td>-122.430180</td>\n      <td>NaN</td>\n      <td>USD</td>\n      <td>2017-06-22T16:40:06.448Z</td>\n      <td>meat &amp; salsa</td>\n      <td>Regular Taco</td>\n      <td>La Casona Taqueria</td>\n      <td>California</td>\n      <td>0</td>\n    </tr>\n    <tr>\n      <th>77258</th>\n      <td>AVzRLlQNLD2H7whiWdH_</td>\n      <td>3919 24th St.</td>\n      <td>Restaurant</td>\n      <td>San Francisco</td>\n      <td>Mexican</td>\n      <td>2017-06-22 19:01:33+00:00</td>\n      <td>2017-06-22 19:01:33+00:00</td>\n      <td>37.751392</td>\n      <td>-122.430180</td>\n      <td>NaN</td>\n      <td>USD</td>\n      <td>2017-06-22T16:40:06.448Z</td>\n      <td>meat, rice, beans &amp; salsa</td>\n      <td>Regular Burrito</td>\n      <td>La Casona Taqueria</td>\n      <td>California</td>\n      <td>0</td>\n    </tr>\n    <tr>\n      <th>77259</th>\n      <td>AVzRLlQNLD2H7whiWdH_</td>\n      <td>3919 24th St.</td>\n      <td>Restaurant</td>\n      <td>San Francisco</td>\n      <td>Mexican</td>\n      <td>2017-06-22 19:01:33+00:00</td>\n      <td>2017-06-22 19:01:33+00:00</td>\n      <td>37.751392</td>\n      <td>-122.430180</td>\n      <td>NaN</td>\n      <td>USD</td>\n      <td>2017-06-22T16:40:06.448Z</td>\n      <td>stuffed with rice, beans, meat, topped with en...</td>\n      <td>Azteca Burrito</td>\n      <td>La Casona Taqueria</td>\n      <td>California</td>\n      <td>0</td>\n    </tr>\n  </tbody>\n</table>\n<p>77260 rows × 17 columns</p>\n</div>"
     },
     "execution_count": 230,
     "metadata": {},
     "output_type": "execute_result"
    }
   ],
   "source": [
    "data"
   ],
   "metadata": {
    "collapsed": false,
    "ExecuteTime": {
     "end_time": "2024-04-02T16:03:08.002762Z",
     "start_time": "2024-04-02T16:03:07.972318Z"
    }
   },
   "id": "7ee2b883fb50e4ac",
   "execution_count": 230
  },
  {
   "cell_type": "code",
   "outputs": [
    {
     "data": {
      "text/plain": "        province  longitude\n0             AZ   -110.136\n1             CA   -122.417\n2             DC    -77.075\n3          G P O    -73.990\n4             KY    -87.455\n5             MA    -71.055\n6             MD    -77.453\n7             NY    -76.794\n8   St Simons Is    -81.394\n9             TX    -94.939\n10            VA    -77.093\n11            WA   -122.383\n12            WI    -89.377",
      "text/html": "<div>\n<style scoped>\n    .dataframe tbody tr th:only-of-type {\n        vertical-align: middle;\n    }\n\n    .dataframe tbody tr th {\n        vertical-align: top;\n    }\n\n    .dataframe thead th {\n        text-align: right;\n    }\n</style>\n<table border=\"1\" class=\"dataframe\">\n  <thead>\n    <tr style=\"text-align: right;\">\n      <th></th>\n      <th>province</th>\n      <th>longitude</th>\n    </tr>\n  </thead>\n  <tbody>\n    <tr>\n      <th>0</th>\n      <td>AZ</td>\n      <td>-110.136</td>\n    </tr>\n    <tr>\n      <th>1</th>\n      <td>CA</td>\n      <td>-122.417</td>\n    </tr>\n    <tr>\n      <th>2</th>\n      <td>DC</td>\n      <td>-77.075</td>\n    </tr>\n    <tr>\n      <th>3</th>\n      <td>G P O</td>\n      <td>-73.990</td>\n    </tr>\n    <tr>\n      <th>4</th>\n      <td>KY</td>\n      <td>-87.455</td>\n    </tr>\n    <tr>\n      <th>5</th>\n      <td>MA</td>\n      <td>-71.055</td>\n    </tr>\n    <tr>\n      <th>6</th>\n      <td>MD</td>\n      <td>-77.453</td>\n    </tr>\n    <tr>\n      <th>7</th>\n      <td>NY</td>\n      <td>-76.794</td>\n    </tr>\n    <tr>\n      <th>8</th>\n      <td>St Simons Is</td>\n      <td>-81.394</td>\n    </tr>\n    <tr>\n      <th>9</th>\n      <td>TX</td>\n      <td>-94.939</td>\n    </tr>\n    <tr>\n      <th>10</th>\n      <td>VA</td>\n      <td>-77.093</td>\n    </tr>\n    <tr>\n      <th>11</th>\n      <td>WA</td>\n      <td>-122.383</td>\n    </tr>\n    <tr>\n      <th>12</th>\n      <td>WI</td>\n      <td>-89.377</td>\n    </tr>\n  </tbody>\n</table>\n</div>"
     },
     "execution_count": 243,
     "metadata": {},
     "output_type": "execute_result"
    }
   ],
   "source": [
    "data['categories_count'] = data.categories.str.split(',').apply(lambda x: len(x))\n",
    "result = data.query('categories_count > 20').groupby('province', as_index=False).agg(\n",
    "    {'longitude': lambda x: round(x.min(), 3)})\n",
    "result"
   ],
   "metadata": {
    "collapsed": false,
    "ExecuteTime": {
     "end_time": "2024-04-02T16:08:21.531463Z",
     "start_time": "2024-04-02T16:08:21.304225Z"
    }
   },
   "id": "5a19aecada9459ff",
   "execution_count": 243
  },
  {
   "cell_type": "code",
   "outputs": [],
   "source": [
    "result.to_csv('hw_data.csv', sep=';', index=False)"
   ],
   "metadata": {
    "collapsed": false,
    "ExecuteTime": {
     "end_time": "2024-04-02T16:10:49.576939Z",
     "start_time": "2024-04-02T16:10:49.558198Z"
    }
   },
   "id": "42af7c6c84dbdc93",
   "execution_count": 246
  },
  {
   "cell_type": "code",
   "outputs": [
    {
     "data": {
      "text/plain": "         province  longitude\n0              AL    -87.586\n1              AR    -92.379\n2              AZ   -112.292\n3              CA   -122.444\n4              CO   -105.258\n5              CT    -73.405\n6              DC    -77.075\n7              FL    -81.695\n8           G P O    -73.990\n9              GA    -84.396\n10             ID   -116.367\n11             IL    -89.650\n12             IN    -86.157\n13             KS    -95.234\n14             KY    -87.455\n15             LA    -91.992\n16     Long Beach    -74.134\n17             MA    -72.509\n18             MD    -77.453\n19             MI    -83.749\n20             MN    -97.028\n21             MO    -94.666\n22             MT   -113.995\n23             NC    -80.850\n24             NJ    -74.445\n25             NV   -115.078\n26             NY    -77.630\n27         Naples   -118.116\n28    No Bethesda    -77.141\n29        Ny City    -73.996\n30             OH    -84.139\n31             OK    -97.599\n32             OR   -123.075\n33             PA    -76.885\n34    Playa Vista   -118.395\n35  Porter Square    -71.119\n36             RI    -71.486\n37             SC    -82.399\n38   St Simons Is    -81.394\n39             TN    -85.844\n40             TX    -99.071\n41             UT   -111.642\n42             VA    -77.108\n43    Vadnais Hts    -93.007\n44             WA   -122.383\n45             WI    -89.510\n46             WV    -81.666\n47      Wadsworth    -88.160\n48           Wilm    -77.829",
      "text/html": "<div>\n<style scoped>\n    .dataframe tbody tr th:only-of-type {\n        vertical-align: middle;\n    }\n\n    .dataframe tbody tr th {\n        vertical-align: top;\n    }\n\n    .dataframe thead th {\n        text-align: right;\n    }\n</style>\n<table border=\"1\" class=\"dataframe\">\n  <thead>\n    <tr style=\"text-align: right;\">\n      <th></th>\n      <th>province</th>\n      <th>longitude</th>\n    </tr>\n  </thead>\n  <tbody>\n    <tr>\n      <th>0</th>\n      <td>AL</td>\n      <td>-87.586</td>\n    </tr>\n    <tr>\n      <th>1</th>\n      <td>AR</td>\n      <td>-92.379</td>\n    </tr>\n    <tr>\n      <th>2</th>\n      <td>AZ</td>\n      <td>-112.292</td>\n    </tr>\n    <tr>\n      <th>3</th>\n      <td>CA</td>\n      <td>-122.444</td>\n    </tr>\n    <tr>\n      <th>4</th>\n      <td>CO</td>\n      <td>-105.258</td>\n    </tr>\n    <tr>\n      <th>5</th>\n      <td>CT</td>\n      <td>-73.405</td>\n    </tr>\n    <tr>\n      <th>6</th>\n      <td>DC</td>\n      <td>-77.075</td>\n    </tr>\n    <tr>\n      <th>7</th>\n      <td>FL</td>\n      <td>-81.695</td>\n    </tr>\n    <tr>\n      <th>8</th>\n      <td>G P O</td>\n      <td>-73.990</td>\n    </tr>\n    <tr>\n      <th>9</th>\n      <td>GA</td>\n      <td>-84.396</td>\n    </tr>\n    <tr>\n      <th>10</th>\n      <td>ID</td>\n      <td>-116.367</td>\n    </tr>\n    <tr>\n      <th>11</th>\n      <td>IL</td>\n      <td>-89.650</td>\n    </tr>\n    <tr>\n      <th>12</th>\n      <td>IN</td>\n      <td>-86.157</td>\n    </tr>\n    <tr>\n      <th>13</th>\n      <td>KS</td>\n      <td>-95.234</td>\n    </tr>\n    <tr>\n      <th>14</th>\n      <td>KY</td>\n      <td>-87.455</td>\n    </tr>\n    <tr>\n      <th>15</th>\n      <td>LA</td>\n      <td>-91.992</td>\n    </tr>\n    <tr>\n      <th>16</th>\n      <td>Long Beach</td>\n      <td>-74.134</td>\n    </tr>\n    <tr>\n      <th>17</th>\n      <td>MA</td>\n      <td>-72.509</td>\n    </tr>\n    <tr>\n      <th>18</th>\n      <td>MD</td>\n      <td>-77.453</td>\n    </tr>\n    <tr>\n      <th>19</th>\n      <td>MI</td>\n      <td>-83.749</td>\n    </tr>\n    <tr>\n      <th>20</th>\n      <td>MN</td>\n      <td>-97.028</td>\n    </tr>\n    <tr>\n      <th>21</th>\n      <td>MO</td>\n      <td>-94.666</td>\n    </tr>\n    <tr>\n      <th>22</th>\n      <td>MT</td>\n      <td>-113.995</td>\n    </tr>\n    <tr>\n      <th>23</th>\n      <td>NC</td>\n      <td>-80.850</td>\n    </tr>\n    <tr>\n      <th>24</th>\n      <td>NJ</td>\n      <td>-74.445</td>\n    </tr>\n    <tr>\n      <th>25</th>\n      <td>NV</td>\n      <td>-115.078</td>\n    </tr>\n    <tr>\n      <th>26</th>\n      <td>NY</td>\n      <td>-77.630</td>\n    </tr>\n    <tr>\n      <th>27</th>\n      <td>Naples</td>\n      <td>-118.116</td>\n    </tr>\n    <tr>\n      <th>28</th>\n      <td>No Bethesda</td>\n      <td>-77.141</td>\n    </tr>\n    <tr>\n      <th>29</th>\n      <td>Ny City</td>\n      <td>-73.996</td>\n    </tr>\n    <tr>\n      <th>30</th>\n      <td>OH</td>\n      <td>-84.139</td>\n    </tr>\n    <tr>\n      <th>31</th>\n      <td>OK</td>\n      <td>-97.599</td>\n    </tr>\n    <tr>\n      <th>32</th>\n      <td>OR</td>\n      <td>-123.075</td>\n    </tr>\n    <tr>\n      <th>33</th>\n      <td>PA</td>\n      <td>-76.885</td>\n    </tr>\n    <tr>\n      <th>34</th>\n      <td>Playa Vista</td>\n      <td>-118.395</td>\n    </tr>\n    <tr>\n      <th>35</th>\n      <td>Porter Square</td>\n      <td>-71.119</td>\n    </tr>\n    <tr>\n      <th>36</th>\n      <td>RI</td>\n      <td>-71.486</td>\n    </tr>\n    <tr>\n      <th>37</th>\n      <td>SC</td>\n      <td>-82.399</td>\n    </tr>\n    <tr>\n      <th>38</th>\n      <td>St Simons Is</td>\n      <td>-81.394</td>\n    </tr>\n    <tr>\n      <th>39</th>\n      <td>TN</td>\n      <td>-85.844</td>\n    </tr>\n    <tr>\n      <th>40</th>\n      <td>TX</td>\n      <td>-99.071</td>\n    </tr>\n    <tr>\n      <th>41</th>\n      <td>UT</td>\n      <td>-111.642</td>\n    </tr>\n    <tr>\n      <th>42</th>\n      <td>VA</td>\n      <td>-77.108</td>\n    </tr>\n    <tr>\n      <th>43</th>\n      <td>Vadnais Hts</td>\n      <td>-93.007</td>\n    </tr>\n    <tr>\n      <th>44</th>\n      <td>WA</td>\n      <td>-122.383</td>\n    </tr>\n    <tr>\n      <th>45</th>\n      <td>WI</td>\n      <td>-89.510</td>\n    </tr>\n    <tr>\n      <th>46</th>\n      <td>WV</td>\n      <td>-81.666</td>\n    </tr>\n    <tr>\n      <th>47</th>\n      <td>Wadsworth</td>\n      <td>-88.160</td>\n    </tr>\n    <tr>\n      <th>48</th>\n      <td>Wilm</td>\n      <td>-77.829</td>\n    </tr>\n  </tbody>\n</table>\n</div>"
     },
     "execution_count": 242,
     "metadata": {},
     "output_type": "execute_result"
    }
   ],
   "source": [
    "shit = pd.read_csv('hw_data.csv', sep=';')\n",
    "shit"
   ],
   "metadata": {
    "collapsed": false,
    "ExecuteTime": {
     "end_time": "2024-04-02T16:06:24.051251Z",
     "start_time": "2024-04-02T16:06:24.038975Z"
    }
   },
   "id": "1ee17f85c9a8c45e",
   "execution_count": 242
  }
 ],
 "metadata": {
  "kernelspec": {
   "display_name": "Python 3",
   "language": "python",
   "name": "python3"
  },
  "language_info": {
   "codemirror_mode": {
    "name": "ipython",
    "version": 2
   },
   "file_extension": ".py",
   "mimetype": "text/x-python",
   "name": "python",
   "nbconvert_exporter": "python",
   "pygments_lexer": "ipython2",
   "version": "2.7.6"
  }
 },
 "nbformat": 4,
 "nbformat_minor": 5
}
