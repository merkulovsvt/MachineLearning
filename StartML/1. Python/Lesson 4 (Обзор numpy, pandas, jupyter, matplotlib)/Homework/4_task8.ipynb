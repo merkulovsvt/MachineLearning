{
 "cells": [
  {
   "cell_type": "code",
   "execution_count": 22,
   "id": "1cca2d70",
   "metadata": {
    "ExecuteTime": {
     "end_time": "2024-04-02T08:36:18.694707Z",
     "start_time": "2024-04-02T08:36:18.686210Z"
    }
   },
   "outputs": [],
   "source": [
    "def gcd(a, b):\n",
    "    while a != 0:\n",
    "        if a < b:\n",
    "            b, a = a, b\n",
    "        a, b = a % b, b\n",
    "    print(b)"
   ]
  },
  {
   "cell_type": "code",
   "execution_count": 23,
   "id": "7c40cabd",
   "metadata": {
    "ExecuteTime": {
     "end_time": "2024-04-02T08:36:18.710104Z",
     "start_time": "2024-04-02T08:36:18.697185Z"
    }
   },
   "outputs": [
    {
     "name": "stdout",
     "output_type": "stream",
     "text": [
      "4\n"
     ]
    }
   ],
   "source": [
    "gcd(64, 4)"
   ]
  },
  {
   "cell_type": "code",
   "execution_count": 24,
   "id": "049b7f60",
   "metadata": {
    "ExecuteTime": {
     "end_time": "2024-04-02T08:36:18.725336Z",
     "start_time": "2024-04-02T08:36:18.711123Z"
    }
   },
   "outputs": [
    {
     "name": "stdout",
     "output_type": "stream",
     "text": [
      "success\n"
     ]
    }
   ],
   "source": [
    "print('success')"
   ]
  }
 ],
 "metadata": {
  "kernelspec": {
   "display_name": "Python 3 (ipykernel)",
   "language": "python",
   "name": "python3"
  },
  "language_info": {
   "codemirror_mode": {
    "name": "ipython",
    "version": 3
   },
   "file_extension": ".py",
   "mimetype": "text/x-python",
   "name": "python",
   "nbconvert_exporter": "python",
   "pygments_lexer": "ipython3",
   "version": "3.9.7"
  },
  "toc": {
   "base_numbering": 1,
   "nav_menu": {},
   "number_sections": true,
   "sideBar": true,
   "skip_h1_title": false,
   "title_cell": "Table of Contents",
   "title_sidebar": "Contents",
   "toc_cell": false,
   "toc_position": {},
   "toc_section_display": true,
   "toc_window_display": false
  },
  "varInspector": {
   "cols": {
    "lenName": 16,
    "lenType": 16,
    "lenVar": 40
   },
   "kernels_config": {
    "python": {
     "delete_cmd_postfix": "",
     "delete_cmd_prefix": "del ",
     "library": "var_list.py",
     "varRefreshCmd": "print(var_dic_list())"
    },
    "r": {
     "delete_cmd_postfix": ") ",
     "delete_cmd_prefix": "rm(",
     "library": "var_list.r",
     "varRefreshCmd": "cat(var_dic_list()) "
    }
   },
   "types_to_exclude": [
    "module",
    "function",
    "builtin_function_or_method",
    "instance",
    "_Feature"
   ],
   "window_display": false
  }
 },
 "nbformat": 4,
 "nbformat_minor": 5
}
