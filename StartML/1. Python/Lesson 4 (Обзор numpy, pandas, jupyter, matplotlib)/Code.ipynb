{
 "cells": [
  {
   "cell_type": "markdown",
   "id": "ec79bfc1",
   "metadata": {},
   "source": [
    "# Обзор jupyter, numpy, pandas, matplotlib\n",
    "\n",
    "Наших знаний достаточно, чтобы наконец познакомиться с главными инструментами в арсенале DS: `numpy`, `pandas`, `matplotlib`.\n",
    "Более того, мы достаточно освоились в Jupyter Notebook, чтобы пользоваться его продвинутыми командами.\n",
    "\n",
    "Почему изучать именно эти библиотеки?\n",
    "Без `pandas` не проходит и дня в работе DS: он используется для исследования данных, их преобразования, проверки гипотез, загрузки/выгрузки и много другого.\n",
    "`pandas` очень шустро работает, намного быстрее встренных в Python возможностей.\n",
    "\n",
    "Высокая скорость обработки в `pandas` дарит нам библиотека `numpy`. Хотя `numpy` сам по себе используется чуть реже в анализе данных, он очень важен - многие библиотеки для ML \"под капотом\" используют `numpy` для быстрых вычислений. О нем более подробно поговорим в блоке про машинное обучение.\n",
    "\n",
    "Наконец, для любого хорошего отчета необходима визуализация результатов. Для построения графиков чаще всего используется `matplotlib` и основнные на ней библиотеки (`seaborn`, к примеру). Про визуализацию подробнее поговорим в модуле \"Машинное обучение\".\n",
    "\n",
    "Поехали! Сначала разберемся с плюшками Jupyter Notebook, затем обзорно пройдемся по `numpy`, `pandas` и `matplotib`. В таком порядке будет удобнее знакомиться с каждым инструментом.\n",
    "\n",
    "## Jupyter: продвинутые команды"
   ]
  },
  {
   "cell_type": "markdown",
   "id": "5bab6e07",
   "metadata": {},
   "source": [
    "### Ячейки\n",
    "Весь Jupyter notebook состоит из _ячеек_ (англ. _cell_).\n",
    "\n",
    "Ячейки в ноутбуке бывают трех типов:\n",
    "1. `code` - содержат Python-код, который Jupyter выполнит.\n",
    "2. `text` - содержат текст в разметке Markdown.\n",
    "3. `raw` - содержат любые символы, которые Jupyter не будет пытаться как-либо выполнить (на практике используется редко).\n",
    "\n",
    "Эта ячейка имеет тип `text`, и в ней написан текст. Если вы кликнете по ней два раза, то откроется исходный код текста - он станет немного другим.\n",
    "Все дело в разметке: Markdown использует специальные символы для обозначения привычных вещей в тексте. Попробуйте кликнуть два раза по этому тексту и посмотрите на результат.\n",
    "\n",
    "Чтобы выйти из исходного кода, можно нажать `Esc` (фон текста станет серее), но текст при этом останется некрасивым (или, корректнее, без применения разметки) - jupyter не прогонит его через себя и не превратит в красивый текст. Чтобы попросить Jupyter применить разметку, надо кликнуть на ячейку и нажать `Ctrl + Enter`.\n",
    "\n",
    "Разметка Markdown проста и очень рекомендуется к изучению. Многие программные проекты используют ее для ведения документации (можно сказать, он так же часто используется для текстов в программирвании, как Word в бухгалтерии).\n",
    "[Начать можно отсюда](https://www.markdownguide.org/getting-started/)."
   ]
  },
  {
   "cell_type": "markdown",
   "source": [
    "### Горячие клавиши\n",
    "В Jupyter notebook много горячих клавиш (англ. _hotkey_). Это такие кнопки наподобие `Ctrl + C`, которые делают определенное действие.\n",
    "\n",
    "Чтобы пользоваться горячими клавишами, надо выйти из режима редактирования текста - нажать `esc`. Курсор в тексте должен пропасть.\n",
    "Горячих клавиш много, поэтому дадим список самых популярных:\n",
    "\n",
    "- `esc` - выйти из режима редактирования ячейки\n",
    "- `b` (как _below_) - создать ячейку внизу с типом `code`\n",
    "- `a` (как _above_) - создать ячейку сверху с типом `code`\n",
    "- `y` - сделать выбранной ячейке (это ячейка, вокруг которой зеленая рамка) тип `code`\n",
    "- `m` (как _markdown_) - сделать выбранной ячейке тип `text`\n",
    "- `dd` (как _delete_, только дважды) - удалить выбранную ячейку\n",
    "- `x` - удалить ячейку и сохранить во временную память (не `Ctrl + C` - у jupyter на ячейки отдельный буфер обмена)\n",
    "- `c` - скопировать ячейку и сохранить во временную память\n",
    "- `v` - вставить ячейку из временной памяти _под_ текущей\n",
    "- `V` (`shift + v`) - вставить ячейку из временной памяти _над_ текущей\n",
    "- стрелка вниз - выбрать ячейку ниже\n",
    "- стрелка вверх - выбрать ячейку выше\n",
    "- `Ctrl + Enter` - исполнить текущую ячейку\n",
    "- `Shift + Enter` - исполнить текущую ячейку и выбрать ячейку ниже\n",
    "\n",
    "Попробуйте поиграть с этой ячейкой:\n",
    "1. Создать под ней ячейку, превратить в тип `text` и написать туда, что вы ели сегодня на завтрак.\n",
    "2. Скопиривать ячейку с завтраком, вставить _над_ ней, дать тип `code` и отредактировать в `print('hello')`.\n",
    "3. Перейти на ячейку с завтраком и вырезать ее.\n",
    "4. Вставить ячейку с завтраком.\n",
    "\n",
    "Использования hotkeys неплохо экономит время на практике."
   ],
   "metadata": {
    "collapsed": false
   },
   "id": "3c0faceae8151e38"
  },
  {
   "cell_type": "markdown",
   "source": [
    "### Магические команды\n",
    "\n",
    "Магические команды (англ. _magic commands_) - это дополнительная функциональность Jupyter, которая дает возможность менять поведение кода, добавлять подсчеты и чуть-чуть упрощает работу.\n",
    "Давайте посмотрим на пример:"
   ],
   "metadata": {
    "collapsed": false
   },
   "id": "823dd4d58409b000"
  },
  {
   "cell_type": "code",
   "outputs": [
    {
     "name": "stdout",
     "output_type": "stream",
     "text": [
      "CPU times: total: 0 ns\n",
      "Wall time: 0 ns\n"
     ]
    },
    {
     "data": {
      "text/plain": "1000000000000.0"
     },
     "execution_count": 1,
     "metadata": {},
     "output_type": "execute_result"
    }
   ],
   "source": [
    "%time 1e6 ** 2"
   ],
   "metadata": {
    "collapsed": false,
    "ExecuteTime": {
     "end_time": "2024-04-02T09:18:20.699357Z",
     "start_time": "2024-04-02T09:18:20.680927Z"
    }
   },
   "id": "85777a872fe8f5d0",
   "execution_count": 1
  },
  {
   "cell_type": "code",
   "execution_count": 2,
   "id": "4df22b61",
   "metadata": {
    "ExecuteTime": {
     "end_time": "2024-04-02T09:18:23.600794Z",
     "start_time": "2024-04-02T09:18:20.740087Z"
    }
   },
   "outputs": [
    {
     "name": "stdout",
     "output_type": "stream",
     "text": [
      "CPU times: total: 1.47 s\n",
      "Wall time: 2.85 s\n"
     ]
    }
   ],
   "source": [
    "%%time\n",
    "# Все magic commands начинаются с символа % и далее идет название\n",
    "# Эта магия подсчитает время выполнения одной команды под ней\n",
    "import numpy as np\n",
    "for i in range(int(1e7)):\n",
    "    i**2"
   ]
  },
  {
   "cell_type": "markdown",
   "id": "5976cd4a",
   "metadata": {},
   "source": [
    "Магия с двумя `%%` будет действовать на всю ячейку, но должна быть поддержка со стороны magic command.\n",
    "`%time` по-умолчанию не работает с `%%`, надо ставить расширение на jupyter."
   ]
  },
  {
   "cell_type": "code",
   "execution_count": null,
   "id": "77bb351d",
   "metadata": {
    "scrolled": true,
    "is_executing": true,
    "ExecuteTime": {
     "start_time": "2024-04-02T09:18:23.602035Z"
    }
   },
   "outputs": [],
   "source": [
    "# Через ! можно сказать jupyter, что вся команду надо выполнить в терминале системы\n",
    "# Jupyter поймет, что это не Python код\n",
    "!pip uninstall notebook"
   ]
  },
  {
   "cell_type": "code",
   "execution_count": null,
   "id": "b689dc17",
   "metadata": {
    "is_executing": true
   },
   "outputs": [],
   "source": [
    "import numpy as np\n",
    "%timeit np.array([i**2 for i in range(int(1e6))])"
   ]
  },
  {
   "cell_type": "markdown",
   "id": "054d86ef",
   "metadata": {},
   "source": [
    "Обратите внимание: когда ячейка выполняется, она выглядит вот так:\n",
    "```\n",
    "In [*]:\n",
    "```\n",
    "а когда ячейка выполнена, она выглядит как\n",
    "```\n",
    "In [14]:\n",
    "```\n",
    "\n",
    "Это отличительный знак: когда Jupyter ждет выполнения ячейки, он выставляет в `In [...]` звездочку."
   ]
  },
  {
   "cell_type": "code",
   "execution_count": null,
   "id": "df3207e8",
   "metadata": {
    "is_executing": true
   },
   "outputs": [],
   "source": [
    "# Посмотрим, какая магия нам доступна\n",
    "%lsmagic"
   ]
  },
  {
   "cell_type": "code",
   "execution_count": null,
   "id": "102cc822",
   "metadata": {
    "is_executing": true
   },
   "outputs": [],
   "source": [
    "%%time\n",
    "# Cell magic - это магия, которая действует на всю ячейку\n",
    "# cell magic обязательно должна быть первой строкой в ячейке\n",
    "for i in range(int(1e6)):\n",
    "    a = i**2"
   ]
  },
  {
   "cell_type": "code",
   "execution_count": null,
   "id": "05a1dd59",
   "metadata": {
    "is_executing": true
   },
   "outputs": [],
   "source": [
    "%load_ext autoreload\n",
    "%autoreload 2\n",
    "# autoreload делает так, чтобы все модули пере-импортировались перед тем,\n",
    "# как запускать код.\n",
    "# По умолчанию Python так не делает: если модуль уже импортирован,\n",
    "# он просто игнорирует импорт.\n",
    "# Если вы меняете исходный код модуля,\n",
    "# изменения не подтянутся - autoreload как раз решает эту проблему."
   ]
  },
  {
   "cell_type": "markdown",
   "id": "3c0e3fbc",
   "metadata": {},
   "source": [
    "На практике чаще всего используют `%%time` для замера скорости ячейки, `%time` для замера скорости операции и `%autoreload` при разработке Python-пакета.\n",
    "\n",
    "Оставим ссылки на документацию (не бойтесь ее читать!):\n",
    "\n",
    "[Документация на magic](https://ipython.readthedocs.io/en/stable/interactive/magics.html) (IPython - это почти то же самое, что Jupyter)\n",
    "\n",
    "[Документация на autoreload](https://ipython.org/ipython-doc/3/config/extensions/autoreload.html)\n",
    "\n",
    "[Хорошая статья с полезными magic-командами](https://towardsdatascience.com/top-8-magic-commands-in-jupyter-notebook-c1582e813560)"
   ]
  },
  {
   "attachments": {
    "405cae3f-6d7d-4507-84dc-dfc6d0f12ecb.png": {
     "image/png": "[encoded data removed]"
    }
   },
   "cell_type": "markdown",
   "id": "653017f0",
   "metadata": {},
   "source": [
    "### Kernel\n",
    "\n",
    "В Jupyter можно выполнять не только Python-коды, но и коды на других языках! Мы этим пользоваться не будем, но про возможность полезно знать.\n",
    "\n",
    "За выполнение кода Python в Jupyter отвечает _ядро_ (англ. _kernel_). Нам здесь нужно знать две вещи: ядро можно менять на другое (скажем, то, где больше установленных пакетов) и ядро может зависать.\n",
    "\n",
    "Ранее мы видели, `In [*]` означает, что ячейка считается.\n",
    "На деле, эта запись означает другое: она говорит, что ядро занято.\n",
    "\n",
    "Если ядро зависло или команда выполняется слишком долго, можно его _прервать_ (англ. _interrupt_). Для этого на панели наверху есть кнопка с изображением квадратика.\n",
    "\n",
    "![image.png](attachment:405cae3f-6d7d-4507-84dc-dfc6d0f12ecb.png)\n",
    "\n",
    "Ядро содержит в ОЗУ все когда-либо объявленные переменные ноутбука и может \"жить\" долго.\n",
    "В больших проектах это может привести к тому, что ядро станет занимать очень много ОЗУ.\n",
    "\n",
    "Если вам кажется, что ядро \"раздулось\", до больших размеров, то его можно перезапустить кнопкой, находящейся справа от кнопки _прерывания_.\n",
    "Перезапуск ядра приведет к тому, что все переменные удалятся и все расчеты потеряются. Будьте готовы.\n",
    "\n",
    "Кстати, на панельке сверху есть немало операций, которые мы изучили в секции \"Горячие клавиши\"."
   ]
  },
  {
   "cell_type": "code",
   "execution_count": null,
   "id": "0097afca",
   "metadata": {
    "is_executing": true
   },
   "outputs": [],
   "source": [
    "# сымитируем ситуацию, когда ядро зависает\n",
    "# while True:\n",
    "#     continue"
   ]
  },
  {
   "cell_type": "markdown",
   "id": "fe795a2d",
   "metadata": {},
   "source": [
    "## Numpy\n",
    "\n",
    "Библиотека для работы с матрицами. [Оффициальный сайт](https://numpy.org). Название происходит от **Num**eric **Py**thon.\n",
    "\"Под капотом\" написана на C++ (это такой язык программирования, очень быстрый в умелых руках), а то, что видим в Python - это лишь \"рычаги управления\".\n",
    "\n",
    "Используется как фундамент для построения популярных библиотек в ML: `pandas`, `scikit-learn` и т.п. Вы познакомитесь с `numpy` поближе в модуле \"Машинное обучение\", а пока мы обзорно посмотрим на его возможности."
   ]
  },
  {
   "cell_type": "code",
   "execution_count": null,
   "id": "ed6f0947",
   "metadata": {
    "is_executing": true
   },
   "outputs": [],
   "source": [
    "import numpy as np\n",
    "\n",
    "# Создаем матрцы\n",
    "a = np.array([[1, 2, 3], [4, 5, 6], [7, 8, 9], [10, 11, 12]])\n",
    "a"
   ]
  },
  {
   "cell_type": "code",
   "execution_count": null,
   "id": "a6d143cb",
   "metadata": {
    "is_executing": true
   },
   "outputs": [],
   "source": [
    "# Матрицу можно транспонировать (\"повернуть на бок\")\n",
    "a.T"
   ]
  },
  {
   "cell_type": "code",
   "execution_count": null,
   "id": "bbd40111",
   "metadata": {
    "is_executing": true
   },
   "outputs": [],
   "source": [
    "# Можно считать скалярные произведения\n",
    "np.dot(a, np.array([1, 2, 3]))"
   ]
  },
  {
   "cell_type": "code",
   "execution_count": null,
   "id": "6d474052",
   "metadata": {
    "is_executing": true
   },
   "outputs": [],
   "source": [
    "# Обычные умножения делаются поэлементно. Немного непривычно для математиков\n",
    "b = np.array([[-1, -2, -3], [-4, -5, -6], [-7, -8, -9], [-10, -11, -12]])\n",
    "a * b"
   ]
  },
  {
   "cell_type": "code",
   "execution_count": null,
   "id": "72c48564",
   "metadata": {
    "is_executing": true
   },
   "outputs": [],
   "source": [
    "b * a"
   ]
  },
  {
   "cell_type": "code",
   "execution_count": null,
   "id": "f21e037e",
   "metadata": {
    "is_executing": true
   },
   "outputs": [],
   "source": [
    "# матричные умножения делаются через np.dot\n",
    "np.dot(a, b.T)"
   ]
  },
  {
   "cell_type": "code",
   "execution_count": null,
   "id": "27cf102c",
   "metadata": {
    "is_executing": true
   },
   "outputs": [],
   "source": [
    "# можно вытащить размерность через .shape - строки x столбцы\n",
    "a.shape"
   ]
  },
  {
   "cell_type": "markdown",
   "id": "7bf52b70",
   "metadata": {},
   "source": [
    "## Pandas\n",
    "Библиотека для работы с табличными данным. Подробнее познакомимся в следующем уроке, здесь же пройдемся обзорно."
   ]
  },
  {
   "cell_type": "code",
   "execution_count": null,
   "id": "e1d12662",
   "metadata": {
    "is_executing": true
   },
   "outputs": [],
   "source": [
    "import pandas as pd  # чаще всего импортируют под именем pd\n",
    "\n",
    "df = pd.DataFrame([(\"Python\", 6), (\"Python\", 8), (\"ML\", 20)],\n",
    "                  columns=['block', 'lessons'])\n",
    "df"
   ]
  },
  {
   "cell_type": "code",
   "execution_count": null,
   "id": "73f642fd",
   "metadata": {
    "is_executing": true
   },
   "outputs": [],
   "source": [
    "# Можно фильтровать записи через логические условия\n",
    "df[df['block'] == 'Python']"
   ]
  },
  {
   "cell_type": "code",
   "execution_count": null,
   "id": "3d02a630",
   "metadata": {
    "is_executing": true
   },
   "outputs": [],
   "source": [
    "# создавать колонки\n",
    "result = []\n",
    "for i in range(1, df.shape[0] + 1):\n",
    "    result.append(f'course_{i}')\n",
    "# df['#'] = [f\"course_{i}\" for i in range(1, df.shape[0] + 1)]\n",
    "df['#'] = result\n",
    "df"
   ]
  },
  {
   "cell_type": "code",
   "execution_count": null,
   "id": "727346f7",
   "metadata": {
    "is_executing": true
   },
   "outputs": [],
   "source": [
    "# Сгруппировать по колонке \"block\" и вывести сумму в пределах группы для каждой колонки\n",
    "df.groupby('block').sum()"
   ]
  },
  {
   "cell_type": "code",
   "execution_count": null,
   "id": "f1752fc0",
   "metadata": {
    "is_executing": true
   },
   "outputs": [],
   "source": [
    "# Сохраним результат в файл\n",
    "df.to_csv('1.csv', index=False)\n",
    "\n",
    "# Прочитаем файл\n",
    "df_1 = pd.read_csv('1.csv', index_col=0)\n",
    "df_1"
   ]
  },
  {
   "cell_type": "markdown",
   "id": "29a54819",
   "metadata": {},
   "source": [
    "## Matplotlib\n",
    "Популярная библиотека для визуализации данных. Тесно интегрируется с `numpy`.\n",
    "\n",
    "Будем активно использовать в блоке \"Машинное обучение\", пока что приведем обзор возможностей."
   ]
  },
  {
   "cell_type": "code",
   "execution_count": null,
   "id": "21c9819d",
   "metadata": {
    "is_executing": true
   },
   "outputs": [],
   "source": [
    "import matplotlib.pyplot as plt\n",
    "\n",
    "# попросим размер графика (16, 9)\n",
    "plt.figure(figsize=(16, 9))\n",
    "# Простые линии\n",
    "\n",
    "x = np.arange(-10, 11, 0.5)  # это range(-10, 11), только вернет тип np.array\n",
    "y = x**2  # np.array вот так умеет - это возведет каждый элемент в квадрат\n",
    "plt.plot(x, y)"
   ]
  },
  {
   "cell_type": "code",
   "execution_count": null,
   "id": "90948785",
   "metadata": {
    "is_executing": true
   },
   "outputs": [],
   "source": [
    "plt.figure(figsize=(16, 9))\n",
    "plt.plot(x, y)\n",
    "# Сетка добавляется через последующий вызов функции plt.grid()\n",
    "plt.grid()"
   ]
  },
  {
   "cell_type": "code",
   "execution_count": null,
   "id": "dcda916a",
   "metadata": {
    "is_executing": true
   },
   "outputs": [],
   "source": [
    "plt.figure(figsize=(16, 9))\n",
    "plt.plot(x, y)\n",
    "plt.grid()\n",
    "plt.title('График $y=x^2$')\n",
    "# есть ограниченная поддержка latex, в основном для уравнений\n",
    "plt.xlabel('x')\n",
    "plt.ylabel('y')\n",
    "plt.savefig('1.pdf')"
   ]
  },
  {
   "cell_type": "code",
   "execution_count": null,
   "id": "2c8bc9dc",
   "metadata": {
    "is_executing": true
   },
   "outputs": [],
   "source": [
    "plt.figure(figsize=(16, 9))\n",
    "# Можно рисовать точки\n",
    "plt.scatter(x, y)\n",
    "# Можно и график рядом\n",
    "# plt.plot(x, y)\n",
    "\n",
    "plt.grid()\n",
    "plt.title('График $y=x^2$')\n",
    "# есть ограниченная поддержка latex, в основном для уравнений\n",
    "plt.xlabel('x')\n",
    "plt.ylabel('y')"
   ]
  },
  {
   "cell_type": "code",
   "execution_count": null,
   "id": "dfdd0347",
   "metadata": {
    "is_executing": true
   },
   "outputs": [],
   "source": [
    "# И гистограммы\n",
    "plt.figure(figsize=(16, 9))\n",
    "plt.hist([1, 1, 2, 3, 5, 5], bins=50)\n",
    "# bins - число столбиков. Если много, будут тонкими\n",
    "plt.grid()"
   ]
  }
 ],
 "metadata": {
  "kernelspec": {
   "display_name": "Python 3 (ipykernel)",
   "language": "python",
   "name": "python3"
  },
  "language_info": {
   "codemirror_mode": {
    "name": "ipython",
    "version": 3
   },
   "file_extension": ".py",
   "mimetype": "text/x-python",
   "name": "python",
   "nbconvert_exporter": "python",
   "pygments_lexer": "ipython3",
   "version": "3.8.10"
  },
  "toc": {
   "base_numbering": 1,
   "nav_menu": {},
   "number_sections": true,
   "sideBar": true,
   "skip_h1_title": false,
   "title_cell": "Table of Contents",
   "title_sidebar": "Contents",
   "toc_cell": false,
   "toc_position": {
    "height": "calc(100% - 180px)",
    "left": "10px",
    "top": "150px",
    "width": "384px"
   },
   "toc_section_display": true,
   "toc_window_display": false
  },
  "varInspector": {
   "cols": {
    "lenName": 16,
    "lenType": 16,
    "lenVar": 40
   },
   "kernels_config": {
    "python": {
     "delete_cmd_postfix": "",
     "delete_cmd_prefix": "del ",
     "library": "var_list.py",
     "varRefreshCmd": "print(var_dic_list())"
    },
    "r": {
     "delete_cmd_postfix": ") ",
     "delete_cmd_prefix": "rm(",
     "library": "var_list.r",
     "varRefreshCmd": "cat(var_dic_list()) "
    }
   },
   "types_to_exclude": [
    "module",
    "function",
    "builtin_function_or_method",
    "instance",
    "_Feature"
   ],
   "window_display": false
  }
 },
 "nbformat": 4,
 "nbformat_minor": 5
}
