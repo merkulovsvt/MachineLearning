{
 "cells": [
  {
   "metadata": {
    "ExecuteTime": {
     "end_time": "2024-11-11T11:23:56.919381Z",
     "start_time": "2024-11-11T11:23:56.898018Z"
    }
   },
   "cell_type": "code",
   "source": [
    "import numpy as np\n",
    "from sklearn.base import BaseEstimator, RegressorMixin\n",
    "from sklearn.tree import DecisionTreeRegressor\n",
    "\n",
    "\n",
    "class BoostingRegressorDIY(BaseEstimator, RegressorMixin):\n",
    "    def __init__(self, max_depth, n_estimators=100, learning_rate=0.01, gamma=0.01):\n",
    "\n",
    "        self.max_depth = max_depth\n",
    "\n",
    "        self.n_estimators = n_estimators\n",
    "        self.learning_rate = learning_rate\n",
    "\n",
    "        self.trees = []\n",
    "        self.y_base = 0\n",
    "        self.y_pred = 0\n",
    "\n",
    "        self.gamma = gamma\n",
    "\n",
    "    @staticmethod\n",
    "    def loss(y_true, y_pred):\n",
    "        return y_true - y_pred\n",
    "\n",
    "    def regularization(self, tree):\n",
    "        \"\"\"\n",
    "        Будем штрафовать нашу модель за количество листьев. Смысл простой: чем больше листьев, тем лучше модель запоминает данные (т.е. переобучается) и тем ниже ее обобщающая способность. Поэтому будем немного \"портить\" предсказываемые значения, чтобы модель хуже запоминала данные. И чем больше листьев будет в модели тем сильнее будет это влияние.\n",
    "        \"\"\"\n",
    "        return self.gamma * tree.tree_.n_leaves\n",
    "\n",
    "    def fit(self, X, y):\n",
    "        self.y_pred = np.mean(y, axis=0)\n",
    "        self.y_base = self.y_pred\n",
    "\n",
    "        for i in range(self.n_estimators):\n",
    "            clf = DecisionTreeRegressor(max_depth=self.max_depth)\n",
    "            clf.fit(X, self.loss(y, self.y_pred))\n",
    "\n",
    "            self.trees.append(clf)\n",
    "            self.y_pred += self.learning_rate * clf.predict(X) + self.regularization(clf)\n",
    "\n",
    "    def predict(self, X):\n",
    "        return self.y_base + self.learning_rate * np.sum([tree.predict(X) for tree in self.trees], axis=0) + np.sum(\n",
    "            [self.regularization(tree) for tree in self.trees], axis=0)\n",
    "\n",
    "    def get_params(self, deep=True):\n",
    "        return {\"n_estimators\": self.n_estimators, \"learning_rate\": self.learning_rate, \"gamma\": self.gamma}\n",
    "\n",
    "    def set_params(self, **params):\n",
    "        for key, value in params.items():\n",
    "            setattr(self, key, value)\n",
    "        return self"
   ],
   "id": "fad1b48862d07725",
   "outputs": [],
   "execution_count": 89
  },
  {
   "metadata": {
    "ExecuteTime": {
     "end_time": "2024-11-11T10:03:58.111928Z",
     "start_time": "2024-11-11T10:03:58.094916Z"
    }
   },
   "cell_type": "code",
   "source": [
    "from sklearn.datasets import load_diabetes\n",
    "from sklearn.model_selection import train_test_split\n",
    "\n",
    "X, y = load_diabetes(return_X_y=True)\n",
    "X_train, X_test, y_train, y_test = train_test_split(X, y)"
   ],
   "id": "de1670edcd975518",
   "outputs": [],
   "execution_count": 46
  },
  {
   "metadata": {
    "ExecuteTime": {
     "end_time": "2024-11-11T11:24:24.317879Z",
     "start_time": "2024-11-11T11:24:24.000150Z"
    }
   },
   "cell_type": "code",
   "source": [
    "from sklearn.metrics import mean_squared_error\n",
    "\n",
    "model = BoostingRegressorDIY(max_depth=100)\n",
    "model.fit(X_train, y_train)\n",
    "\n",
    "(mean_squared_error(y_train, model.predict(X_train)),\n",
    " mean_squared_error(y_test, model.predict(X_test)))"
   ],
   "id": "b3aee9398d3ea2fa",
   "outputs": [
    {
     "data": {
      "text/plain": [
       "(42715.12127463869, 39234.09601057829)"
      ]
     },
     "execution_count": 96,
     "metadata": {},
     "output_type": "execute_result"
    }
   ],
   "execution_count": 96
  },
  {
   "metadata": {
    "ExecuteTime": {
     "end_time": "2024-11-11T10:51:56.394759Z",
     "start_time": "2024-11-11T10:49:16.677600Z"
    }
   },
   "cell_type": "code",
   "source": [
    "from sklearn.model_selection import cross_val_score\n",
    "\n",
    "cross_val_score(estimator=BoostingRegressorDIY(max_depth=100),\n",
    "                X=X,\n",
    "                y=y,\n",
    "                scoring='neg_mean_squared_error',\n",
    "                cv=len(X))"
   ],
   "id": "d854e986ca09a9e7",
   "outputs": [
    {
     "data": {
      "text/plain": [
       "array([-127451.18857408, -108267.84083432,  -98804.71856036,\n",
       "        -65197.66838067,  -50007.55107739, -106244.3122677 ,\n",
       "        -50170.04072188, -176093.45183544,  -96902.39369121,\n",
       "         -4082.8276469 , -117196.73538573, -150473.63675573,\n",
       "        -63001.04089109,  -49286.8278537 ,  -72637.40140835,\n",
       "       -101078.25024294,  -87017.38428752,  -70909.97581945,\n",
       "        -75696.09854206,  -38299.90996906,  -92112.81211683,\n",
       "       -134764.84443951, -137363.81652918,  -72734.61021725,\n",
       "        -62047.10897065,  -89409.84777041,  -48956.54301111,\n",
       "       -109192.45380112, -135337.78409653,  -22397.10658307,\n",
       "        -69296.40230695, -109304.44018548,  -37158.90376348,\n",
       "        -99713.67531818,  -91347.56535203,  -77772.76771004,\n",
       "        -51484.66143461,  -25154.98973153,  -49049.96957737,\n",
       "       -132945.90341201,  -82439.64405782, -105846.58771633,\n",
       "       -110806.86670663,  -79010.3521077 ,  -40190.84538112,\n",
       "       -145441.0655388 ,  -63433.30022615,  -85132.95295316,\n",
       "        -93685.97963297, -125734.33283234,  -53054.32007326,\n",
       "        -34546.81472867, -109128.89330826,  -66585.31427552,\n",
       "        -43677.8834272 ,  -61218.25931092, -199525.1462707 ,\n",
       "       -146199.09724022,  -48328.16203601,  -45009.55613026,\n",
       "       -117617.60299168, -130576.1577643 ,  -98100.70499771,\n",
       "       -113782.42707426, -152534.93282825,  -47869.01746298,\n",
       "       -117857.0560921 ,  -79433.77946904,  -45785.8680715 ,\n",
       "        -39944.53205039, -108182.18504241,  -60655.43826769,\n",
       "        -67912.17845356,  -82195.5000631 , -109520.0467454 ,\n",
       "       -119423.36586084,  -46751.30012503,  -26237.87625882,\n",
       "        -34816.68670347,  -60720.49840526, -111885.26705124,\n",
       "       -164270.52484673, -105646.95281377,  -44763.02414551,\n",
       "       -101217.48570969,  -68995.85249887, -126309.23250973,\n",
       "       -111610.90140558,  -98535.02997912,  -81291.09839148,\n",
       "        -85404.96552088,  -77201.86471617, -122768.15529233,\n",
       "        -73541.78356122, -103201.07078612,  -40181.13788641,\n",
       "       -140334.30213225,  -39685.4254632 ,  -67277.83761593,\n",
       "       -141907.05099376, -134446.88305321,  -66032.02547788,\n",
       "        -20286.11915664,  -33240.59460887, -103086.13172089,\n",
       "       -106524.20220816,  -75413.08613239,  -71363.37235739,\n",
       "        -76759.7334633 ,  -79388.67686722,  -86265.42041711,\n",
       "       -105638.33807939,  -76094.94967201,  -48586.42256985,\n",
       "        -60524.76601595,  -67153.89953229,  -24455.87729697,\n",
       "        -15638.34804609, -110267.31016281,  -28820.79993292,\n",
       "        -33969.94959265,  -73330.43098565,  -89900.18482799,\n",
       "       -167853.20968822,  -62588.92036891, -103410.28085015,\n",
       "       -104512.34984423,  -94932.4280657 ,  -64643.12541291,\n",
       "        -44782.84365325,  -69188.89766699,  -58568.8948892 ,\n",
       "        -78246.66352581, -128844.09614055,  -97413.72714678,\n",
       "         -9434.19557058,  -77798.81776165,  -51624.4760413 ,\n",
       "        -28685.73809879,  -27155.6375721 ,  -87755.784461  ,\n",
       "         -3447.27230391,  -60807.76653819, -105844.61880368,\n",
       "        -46760.92945736,  -63796.77985816,  -76073.98751593,\n",
       "       -134429.08923882, -133105.22583359, -123831.2391265 ,\n",
       "        -14408.19131452, -116537.77307569,  -17553.53211635,\n",
       "       -101498.849562  ,  -63064.50287045,  -78632.49401925,\n",
       "       -160839.1323867 ,  -94681.79411585,  -76131.45606416,\n",
       "        -96814.45645198, -101380.52041308,  -89030.68309898,\n",
       "        -38518.10505651, -138696.77378093,  -78975.67304065,\n",
       "        -89758.38608453, -135206.35192959,  -78924.40939934,\n",
       "        -37671.04821575,  -87482.2527174 , -100868.51176891,\n",
       "        -79412.5343604 ,  -53501.14603319, -128633.36933521,\n",
       "       -118176.23422267, -111319.12311171,  -39554.07233701,\n",
       "        -57718.73533163,  -78943.10495928,  -97737.29637631,\n",
       "       -153642.14462489,  -94203.87804451, -112536.6479478 ,\n",
       "        -64047.41269178,  -12617.16410262, -156508.09706071,\n",
       "       -130660.22244842,  -58863.00848043,  -72328.58814953,\n",
       "       -130535.67206312,  -11515.02395685,  -88925.68492723,\n",
       "        -80454.29327168,  -84610.90413878, -133962.56471177,\n",
       "        -83864.15340725, -113702.89996779, -139588.22192595,\n",
       "        -93637.52246933, -124736.40686715,  -50880.1287305 ,\n",
       "       -122068.98797592,  -65328.40451719,  -54592.2835911 ,\n",
       "        -14400.75728443, -177570.67345986,  -37320.95050732,\n",
       "        -88253.5517516 , -114908.01089997,  -96693.56374101,\n",
       "        -60214.32972209, -181545.85391215, -106200.04207854,\n",
       "       -117785.51562958, -105020.30156446,  -67575.26840231,\n",
       "        -53307.46920074,  -40306.01408132,  -29170.57594445,\n",
       "        -72375.02410526,  -83080.90835676, -114151.52979485,\n",
       "        -12180.40168374,  -49829.73102131,  -89381.1475624 ,\n",
       "        -87310.48621287,  -78435.27976882,  -69425.81777858,\n",
       "        -68904.60030719,  -94483.60937311,  -85695.59278089,\n",
       "        -49933.25314153,  -24793.16513691,  -98284.50269069,\n",
       "        -45463.59966645,  -66303.43407944, -201203.53427801,\n",
       "        -84533.43477598,  -22947.89009132,  -22351.46641122,\n",
       "        -68656.1631405 ,  -55467.68081244,  -86736.26397589,\n",
       "       -124853.93807751,  -53680.58707741,  -55581.46309975,\n",
       "       -146736.28186989, -119416.7505673 ,  -25718.79667479,\n",
       "        -77411.28783186,  -31779.94933216,  -68159.34028361,\n",
       "       -106620.96290359,  -86121.20587047,  -28009.46260925,\n",
       "        -57431.93160522,   -1212.10081094,  -88214.91619877,\n",
       "        -95342.16511599, -140099.1377109 , -145042.09922779,\n",
       "       -117584.31214476,  -42823.69864707,  -58157.70638478,\n",
       "        -82825.08464014, -133803.02553158, -105452.20443815,\n",
       "        -76729.68612347,  -44815.72251767, -108539.44687353,\n",
       "        -92665.14750557,  -79120.56078728,  -59509.48676369,\n",
       "        -24735.81144164, -114403.80361962, -155147.62104626,\n",
       "        -29222.47871326,  -90375.34304998,  -95600.36388416,\n",
       "        -26106.52208656,  -37395.46200607,  -86944.16050198,\n",
       "        -20935.46126634,  -52123.9279158 , -116432.93438405,\n",
       "        -32540.61666412, -108097.98202909,  -37982.06742054,\n",
       "        -83320.39261686, -159451.14077239,  -32068.93879599,\n",
       "        -53166.87154718,  -91474.28329809,  -27847.23684532,\n",
       "       -105049.84914804, -189200.29790192, -116574.05506238,\n",
       "       -118610.93001366,  -62340.78037663, -120586.06598236,\n",
       "        -52862.02878358,  -96981.37558322,  -91767.10488813,\n",
       "        -60825.1866904 ,  -14154.90446335,  -64370.30682799,\n",
       "       -157508.46073924,  -50556.07494126,  -75670.1344298 ,\n",
       "        -92823.26590469, -159958.78545766,  -56688.93498034,\n",
       "        -46021.57122591, -104021.5222731 ,  -71076.33203946,\n",
       "       -111390.35271777,  -51403.79317726,  -63888.2269542 ,\n",
       "        -72478.3724385 , -112489.47951677,  -76987.67296088,\n",
       "        -87275.57774298,  -56378.25556273,  -62382.85302884,\n",
       "        -25153.94579056,  -79592.27686045,  -96341.51409176,\n",
       "        -63978.98737419,  -94643.46615714,  -79791.85758703,\n",
       "        -40171.59557699,  -30638.92848347,  -56162.37941806,\n",
       "       -108690.09676283,  -90652.56777389,  -78339.16081586,\n",
       "        -25461.1504806 , -107074.02801029,  -43236.7210455 ,\n",
       "       -141362.5651359 ,  -42409.25332775,  -18086.49545181,\n",
       "        -52087.93937069, -111940.61770862,  -50000.36300245,\n",
       "        -57723.57656779, -129197.43295851,  -74705.22514188,\n",
       "        -69299.03699073,  -81036.25126569,  -68916.93611456,\n",
       "        -98840.16842535,  -83199.59387186, -121679.98603647,\n",
       "        -35422.13253193, -108257.27516186, -129534.65766824,\n",
       "        -28330.77914163,  -75553.15557386,   -4574.55350304,\n",
       "        -28372.8498112 ,  -40978.77812616,  -32124.46840173,\n",
       "       -136591.77014515,  -30915.13925582,  -45143.04141597,\n",
       "        -47488.95438568,  -52368.00977639, -105718.1352581 ,\n",
       "        -44707.44014616, -107541.21965842,  -60671.32185818,\n",
       "        -91999.50124585,  -41435.89848854, -122718.18868879,\n",
       "        -41624.93335829, -134784.20564338,  -30122.16655405,\n",
       "        -49946.95920615, -148196.87362697, -132904.44084529,\n",
       "        -92269.04774292, -123597.36625879,  -73863.89242795,\n",
       "       -100663.01203539,  -21630.75843587,  -99093.66264691,\n",
       "        -54976.18239692, -105934.35797153,  -98939.04418346,\n",
       "        -42672.10298288,  -89997.61623398,  -59040.30541624,\n",
       "       -122467.53685966,  -32129.34895791,  -22702.21874082,\n",
       "       -110960.98899971,  -49272.09749849,  -27469.61720521,\n",
       "        -56968.64219914, -116420.2458211 ,  -99228.40693979,\n",
       "        -43231.81915742,  -52430.4968307 ,   -7186.16768994,\n",
       "        -65084.56798381,  -87269.61638309, -110637.11498347,\n",
       "        -66491.01409458,  -56473.83266427,  -50975.04914534,\n",
       "        -97232.04229117,  -71325.25291346,  -64876.95489442,\n",
       "       -118135.44784171,  -48377.57296589,  -21553.98761106,\n",
       "       -133069.01078639,  -93465.22555995, -107280.61416978,\n",
       "        -51208.22280322,  -49927.68524952,  -54534.99079724,\n",
       "        -96882.19006829, -154053.86424314,  -41304.56263149,\n",
       "        -97698.44113416, -151932.85546516,  -17435.61750799,\n",
       "        -95883.19571984,  -37658.33489417, -100266.27099715,\n",
       "       -106781.73172758,  -86045.52275291, -102900.26556337,\n",
       "        -86285.62812874,  -99919.65519101, -106562.15258835,\n",
       "       -116394.23100501,  -54945.02834513,  -29507.49792184,\n",
       "        -94254.78465741])"
      ]
     },
     "execution_count": 87,
     "metadata": {},
     "output_type": "execute_result"
    }
   ],
   "execution_count": 87
  },
  {
   "metadata": {
    "ExecuteTime": {
     "end_time": "2024-11-11T11:41:02.848119Z",
     "start_time": "2024-11-11T11:41:00.838436Z"
    }
   },
   "cell_type": "code",
   "source": [
    "res_train = []\n",
    "res_test = []\n",
    "\n",
    "for max_depth in [10, 50, 100, 200, 500, 1000]:\n",
    "    model = BoostingRegressorDIY(max_depth=max_depth)\n",
    "    model.fit(X_train, y_train)\n",
    "\n",
    "    res_train.append(mean_squared_error(y_train, model.predict(X_train)))\n",
    "    res_test.append(mean_squared_error(y_test, model.predict(X_test)))\n",
    "    \n",
    "import seaborn as sns\n",
    "\n",
    "sns.lineplot(x=[10, 50, 100, 200, 500, 1000], y=res_train, color='red')\n",
    "sns.lineplot(x=[10, 50, 100, 200, 500, 1000], y=res_test, color='blue')"
   ],
   "id": "ac267e617b6ac065",
   "outputs": [
    {
     "data": {
      "text/plain": [
       "<Axes: >"
      ]
     },
     "execution_count": 102,
     "metadata": {},
     "output_type": "execute_result"
    },
    {
     "data": {
      "text/plain": [
       "<Figure size 640x480 with 1 Axes>"
      ],
      "image/png": "[encoded data removed]"
     },
     "metadata": {},
     "output_type": "display_data"
    }
   ],
   "execution_count": 102
  }
 ],
 "metadata": {
  "kernelspec": {
   "display_name": "Python 3",
   "language": "python",
   "name": "python3"
  },
  "language_info": {
   "codemirror_mode": {
    "name": "ipython",
    "version": 2
   },
   "file_extension": ".py",
   "mimetype": "text/x-python",
   "name": "python",
   "nbconvert_exporter": "python",
   "pygments_lexer": "ipython2",
   "version": "2.7.6"
  }
 },
 "nbformat": 4,
 "nbformat_minor": 5
}
