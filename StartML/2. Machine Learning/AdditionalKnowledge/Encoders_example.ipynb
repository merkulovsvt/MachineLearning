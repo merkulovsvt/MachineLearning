{
 "cells": [
  {
   "metadata": {},
   "cell_type": "markdown",
   "source": [
    "### One-Hot Encoder\n",
    "- Нужно для: преобразования категориальных данных без учета их порядка или относительной важности. Это полезно, когда все категории являются равноправными, и их взаимосвязь не важна. Например, для кодирования цветов, городов или других категорий, где порядок не имеет значения."
   ],
   "id": "b71535e77db9df4c"
  },
  {
   "metadata": {},
   "cell_type": "markdown",
   "source": [
    "### Target Encoding \n",
    "- Нужно для: кодирования категориальных данных на основе целевой переменной. Это может быть полезно в задачах прогнозирования, где категориальные признаки имеют сильную корреляцию с целевой переменной. Например, для кодирования регионов на основе среднего дохода или успеха продаж в данном регионе."
   ],
   "id": "b8efc15895e50d43"
  },
  {
   "metadata": {},
   "cell_type": "markdown",
   "source": [
    "###  Label Encoding\n",
    " - Нужно для: преобразования категориальных данных в числовые значения, когда категории можно упорядочить. Это особенно полезно для алгоритмов, которые могут работать с числовыми данными, таких как деревья решений. Например, для кодирования полов (мужчина, женщина) или других категорий, где порядок не имеет значения, но числовое представление допустимо."
   ],
   "id": "d78b1168f7526cfe"
  },
  {
   "metadata": {},
   "cell_type": "markdown",
   "source": [
    "### OrdinalEncoder\n",
    "- Нужно для: кодирования категориальных данных, имеющих естественный порядок. Это полезно, когда важен порядок значений, но расстояние между ними не имеет значения. Например, для кодирования уровней образования (начальное, среднее, высшее) или размеров (маленький, средний, большой)."
   ],
   "id": "8f658b2915005a4b"
  },
  {
   "cell_type": "code",
   "execution_count": null,
   "id": "initial_id",
   "metadata": {
    "collapsed": true
   },
   "outputs": [],
   "source": [
    "import numpy as np\n",
    "from sklearn.preprocessing import OrdinalEncoder\n",
    "\n",
    "# Данные: список из трёх категорий\n",
    "data = np.array([[\"плохо\"], [\"хорошо\"], [\"средне\"], [\"хорошо\"]])\n",
    "\n",
    "# Создание экземпляра OrdinalEncoder\n",
    "encoder = OrdinalEncoder(categories=[[\"плохо\", \"средне\", \"хорошо\"]])\n",
    "\n",
    "# Обучение энкодера (фиксация порядка категорий)\n",
    "encoder.fit(data)\n",
    "\n",
    "# Преобразование категорий в числа\n",
    "encoded_data = encoder.transform(data)\n",
    "\n",
    "print(\"Закодированные данные:\")\n",
    "print(encoded_data)"
   ]
  },
  {
   "metadata": {},
   "cell_type": "markdown",
   "source": "### FeatureHasher",
   "id": "72f8a69509102705"
  },
  {
   "metadata": {
    "ExecuteTime": {
     "end_time": "2024-06-04T09:11:57.059985Z",
     "start_time": "2024-06-04T09:11:57.041986Z"
    }
   },
   "cell_type": "code",
   "source": [
    "from sklearn.feature_extraction import FeatureHasher\n",
    "h = FeatureHasher(n_features=10)\n",
    "D = [{'dog': 1, 'cat':2, 'elephant':4},{'dog': 2, 'run': 5}]\n",
    "f = h.fit_transform(D)\n",
    "f.toarray()"
   ],
   "id": "da79b127706f3a18",
   "outputs": [
    {
     "data": {
      "text/plain": [
       "array([[ 0.,  0., -4., -1.,  0.,  0.,  0.,  0.,  0.,  2.],\n",
       "       [ 0.,  0.,  0., -2., -5.,  0.,  0.,  0.,  0.,  0.]])"
      ]
     },
     "execution_count": 26,
     "metadata": {},
     "output_type": "execute_result"
    }
   ],
   "execution_count": 26
  },
  {
   "metadata": {},
   "cell_type": "markdown",
   "source": "With input_type=\"string\", the input must be an iterable over iterables of strings:",
   "id": "901fc4ab6ce3ba70"
  },
  {
   "metadata": {
    "ExecuteTime": {
     "end_time": "2024-06-04T09:46:08.306804Z",
     "start_time": "2024-06-04T09:46:08.292916Z"
    }
   },
   "cell_type": "code",
   "source": [
    "h = FeatureHasher(n_features=8, input_type=\"string\")\n",
    "raw_X = [[\"dog\", \"cat\", \"snake\"], [\"snake\", \"dog\"], [\"cat\", \"bird\"]]\n",
    "f = h.fit_transform(raw_X)\n",
    "f.toarray()"
   ],
   "id": "6adf3d9681f343d",
   "outputs": [
    {
     "data": {
      "text/plain": [
       "array([[ 0.,  0.,  0., -1.,  0., -1.,  0.,  1.],\n",
       "       [ 0.,  0.,  0., -1.,  0., -1.,  0.,  0.],\n",
       "       [ 0., -1.,  0.,  0.,  0.,  0.,  0.,  1.]])"
      ]
     },
     "execution_count": 29,
     "metadata": {},
     "output_type": "execute_result"
    }
   ],
   "execution_count": 29
  },
  {
   "metadata": {},
   "cell_type": "markdown",
   "source": "###  Binary Encoding",
   "id": "ccfb5c4e4ea1a79d"
  },
  {
   "metadata": {},
   "cell_type": "code",
   "outputs": [],
   "execution_count": null,
   "source": "",
   "id": "8511f27f8e10e334"
  }
 ],
 "metadata": {
  "kernelspec": {
   "display_name": "Python 3",
   "language": "python",
   "name": "python3"
  },
  "language_info": {
   "codemirror_mode": {
    "name": "ipython",
    "version": 2
   },
   "file_extension": ".py",
   "mimetype": "text/x-python",
   "name": "python",
   "nbconvert_exporter": "python",
   "pygments_lexer": "ipython2",
   "version": "2.7.6"
  }
 },
 "nbformat": 4,
 "nbformat_minor": 5
}
