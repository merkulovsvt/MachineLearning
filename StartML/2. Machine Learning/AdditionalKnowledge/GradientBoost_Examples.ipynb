{
 "cells": [
  {
   "metadata": {},
   "cell_type": "markdown",
   "source": "### Sklearn",
   "id": "3258835a8ad75dc5"
  },
  {
   "metadata": {},
   "cell_type": "code",
   "outputs": [],
   "execution_count": null,
   "source": "from",
   "id": "5b2ad15a9107207e"
  },
  {
   "metadata": {},
   "cell_type": "markdown",
   "source": "### CatBoost",
   "id": "99b8ad5b168fc0d1"
  },
  {
   "metadata": {
    "ExecuteTime": {
     "end_time": "2024-06-04T10:28:52.540849Z",
     "start_time": "2024-06-04T10:28:52.520698Z"
    }
   },
   "cell_type": "code",
   "source": [
    "from catboost import Pool\n",
    "import pandas as pd\n",
    "\n",
    "df = pd.read_csv('Data/LED.csv')\n",
    "df.rename(columns={'Life expectancy ': 'Life expectancy'}, inplace=True)\n",
    "# df.dropna(subset=['Life expectancy'], inplace=True)\n",
    "\n",
    "X = df.drop(columns='Life expectancy')\n",
    "y = df['Life expectancy']\n",
    "\n",
    "from sklearn.model_selection import train_test_split\n",
    "\n",
    "X_train, X_test, y_train, y_test = train_test_split(X, y, test_size=0.2)\n",
    "pool_train = Pool(X_train, y_train,\n",
    "                  cat_features=['Country', 'Year', 'Status'])\n",
    "\n",
    "pool_test = Pool(X_test, cat_features=['Country', 'Year', 'Status'])\n",
    "\n",
    "#CatBoost\n",
    "\n",
    "# import time\n",
    "# \n",
    "# start = time.time()\n",
    "# \n",
    "# cbr = CatBoostRegressor()"
   ],
   "id": "678618273f67fce8",
   "outputs": [],
   "execution_count": 47
  },
  {
   "metadata": {
    "ExecuteTime": {
     "end_time": "2024-06-04T10:27:35.695705Z",
     "start_time": "2024-06-04T10:27:35.672980Z"
    }
   },
   "cell_type": "code",
   "source": [
    "# df.nunique()\n",
    "df.isna().sum()\n",
    "a = df.dropna(subset=['Life expectancy '])\n",
    "a.isna().sum()"
   ],
   "id": "f4752b8d0cd34fbf",
   "outputs": [
    {
     "data": {
      "text/plain": [
       "Country                              0\n",
       "Year                                 0\n",
       "Status                               0\n",
       "Life expectancy                      0\n",
       "Adult Mortality                      0\n",
       "infant deaths                        0\n",
       "Alcohol                            193\n",
       "percentage expenditure               0\n",
       "Hepatitis B                        553\n",
       "Measles                              0\n",
       " BMI                                32\n",
       "under-five deaths                    0\n",
       "Polio                               19\n",
       "Total expenditure                  226\n",
       "Diphtheria                          19\n",
       " HIV/AIDS                            0\n",
       "GDP                                443\n",
       "Population                         644\n",
       " thinness  1-19 years               32\n",
       " thinness 5-9 years                 32\n",
       "Income composition of resources    160\n",
       "Schooling                          160\n",
       "dtype: int64"
      ]
     },
     "execution_count": 41,
     "metadata": {},
     "output_type": "execute_result"
    }
   ],
   "execution_count": 41
  },
  {
   "metadata": {
    "ExecuteTime": {
     "end_time": "2024-06-04T10:25:26.819674Z",
     "start_time": "2024-06-04T10:25:26.807608Z"
    }
   },
   "cell_type": "code",
   "source": "pool_train.shape",
   "id": "69dc431c7b084bc3",
   "outputs": [
    {
     "data": {
      "text/plain": [
       "(2350, 21)"
      ]
     },
     "execution_count": 22,
     "metadata": {},
     "output_type": "execute_result"
    }
   ],
   "execution_count": 22
  },
  {
   "metadata": {
    "ExecuteTime": {
     "end_time": "2024-06-04T10:32:02.911158Z",
     "start_time": "2024-06-04T10:32:02.895400Z"
    }
   },
   "cell_type": "code",
   "source": "pool_test.get_features",
   "id": "dd77b682f8b8076d",
   "outputs": [
    {
     "data": {
      "text/plain": [
       "<function Pool.get_features>"
      ]
     },
     "execution_count": 52,
     "metadata": {},
     "output_type": "execute_result"
    }
   ],
   "execution_count": 52
  },
  {
   "metadata": {},
   "cell_type": "markdown",
   "source": "### XGBoost",
   "id": "40b05236266fc57d"
  },
  {
   "metadata": {},
   "cell_type": "code",
   "outputs": [],
   "execution_count": null,
   "source": "",
   "id": "9025e1761c0f9649"
  },
  {
   "metadata": {},
   "cell_type": "markdown",
   "source": "### LightGBM",
   "id": "cb969d2d71b1424d"
  },
  {
   "metadata": {},
   "cell_type": "code",
   "outputs": [],
   "execution_count": null,
   "source": "\n",
   "id": "d1580859214f670c"
  }
 ],
 "metadata": {
  "kernelspec": {
   "display_name": "Python 3",
   "language": "python",
   "name": "python3"
  },
  "language_info": {
   "codemirror_mode": {
    "name": "ipython",
    "version": 2
   },
   "file_extension": ".py",
   "mimetype": "text/x-python",
   "name": "python",
   "nbconvert_exporter": "python",
   "pygments_lexer": "ipython2",
   "version": "2.7.6"
  }
 },
 "nbformat": 4,
 "nbformat_minor": 5
}
