{
 "cells": [
  {
   "cell_type": "markdown",
   "id": "1a40efc0",
   "metadata": {},
   "source": [
    "### Блок тестовых вопросов"
   ]
  },
  {
   "cell_type": "markdown",
   "id": "c386d896",
   "metadata": {},
   "source": [
    "*Выберите верные утверждения про Lasso и Ridge*: \n",
    "\n",
    "1. Ridge-регуляризация более склонна занулять веса модели, нежели Lasso.\n",
    "2. Lasso-регуляризация более склонна занулять веса модели, нежели Ridge.\n",
    "3. Ridge и Lasso регуляризация призваны бороться с ситуацией недообучения. \n",
    "4. Суть Lasso регуляризации заключается в прибавлении к минимизируемому функционалу суммы модулей обучаемых коэффициентов.\n",
    "5. Суть Lasso регуляризации заключается в прибавлении к минимизируемому функционалу суммы квадратов обучаемых коэффициентов.\n",
    "\n",
    "\n",
    "\n",
    "**Ответ: 2, 4)** Оба вида регуляризации, как было показано в лекции, можно свести к поиску условного экстремума на некотором компактном множестве. В случае Ridge регуляризации данное множество оказывается выпуклым (например, в двухмерном пространстве – это круг), ровно как минимизируемый функционал. Тогда шанс того, что линия уровня и граница множества из ограничения соприкоснутся где-то на оси, достаточно маленький. В случае Lasso ситуация обратная (см. Визуальное объяснение в лекции). \n",
    "_______________________________________________________"
   ]
  },
  {
   "cell_type": "markdown",
   "id": "2f243fe2",
   "metadata": {},
   "source": [
    "*Выберите верные утверждения про Мультиколлинеарность*: \n",
    "\n",
    "1. Мультиколлинеарность гарантирует, что мы получим переобученную модель.\n",
    "2. Мультиколлинеарность возникает при сильной линейной зависимости в матрице объект-признак.\n",
    "3. Если в матрице объект-признак присутствуют линейно зависимые признаки, тогда с вероятностью 50% матричную формулу поиска оптимальных коэффициентов регрессии применить нельзя.\n",
    "4. Если в матрице объект-признак присутствуют линейно зависимые признаки, тогда у минимизируемого функционала оказывается не одна единственная, а уже 2-3 точки минимума.\n",
    "5. Если в матрице объект-признак присутствуют линейно зависимые признаки, тогда у минимизируемого функционала оказывается бесконечное количество минимумов.\n",
    "6. Мультиколлинеарность можно полечить, удалив зависимые признаки или используя регуляризацию.\n",
    "\n",
    "\n",
    "\n",
    "\n",
    "**Ответ: 2, 5, 6)** важно понимать, что данные рассуждения относятся именно к задаче построения линейной регрессии прям как в лекции назад. Для других моделей мультиколлинеарность может, вообще говоря, ни к каким проблемам не приводить.\n",
    "_______________________________________________________"
   ]
  },
  {
   "cell_type": "markdown",
   "id": "5ac62d9f",
   "metadata": {},
   "source": [
    "*Выберите верные утверждения про масштабирование признаков:* \n",
    "\n",
    "1. Масштабировать признаки необходимо всегда. Иначе качество на трейне может сильно превышать качество на тесте.\n",
    "2. Масштабировать признаки рекомендуется всегда. Особенно в задачах, где используется метод градиентного спуска: он становится быстрее.\n",
    "3. Мы масштабируем признаки, регуляризируя модели, чтобы с одинаковой степенью справедливости учитывать порядок фичей, и, соответственно, чтобы случайно не штрафовать сильно больше те коэффициенты, которые по природе своей должны быть на порядок выше остальных.\n",
    "4. Подход StandardScaler масштабирует признаки таким образом, что все значения переводятся в промежуток [0; 1].\n",
    "5. Подход MinMaxScaler масштабирует признаки таким образом, что все значения переводятся в промежуток [0; 1].\n",
    "\n",
    "\n",
    "\n",
    "**Ответ: 2, 3, 5)** знак производной (положительная она или отрицательная) поясняет нам: возрастает функция или убывает. Минимумы у функции возникают там, где она какое-то время убывала, а потом в моменте стала возрастать. Поэтому такой переход для искомых точек подходит под 1 вариант ответа.\n",
    "\n",
    "_______________________________________________________"
   ]
  },
  {
   "cell_type": "markdown",
   "id": "58416f5b",
   "metadata": {},
   "source": [
    "### Блок практики"
   ]
  },
  {
   "cell_type": "markdown",
   "id": "5dae0a99",
   "metadata": {},
   "source": [
    "### Задание 4"
   ]
  },
  {
   "cell_type": "markdown",
   "id": "3ac13292",
   "metadata": {},
   "source": [
    "### Замерим качество Линейной регрессии после обработки данных на Кросс-Валидации на 4 фолдах! (в прошлый раз делали 20 фолдов)"
   ]
  },
  {
   "cell_type": "code",
   "execution_count": 6,
   "id": "1c2b72ac",
   "metadata": {},
   "outputs": [],
   "source": [
    "import numpy as np\n",
    "import pandas as pd\n",
    "\n",
    "processed_data = pd.read_csv('processed_data.csv', index_col='id')"
   ]
  },
  {
   "cell_type": "code",
   "execution_count": 7,
   "id": "98e1d22d",
   "metadata": {},
   "outputs": [
    {
     "data": {
      "text/html": [
       "<div>\n",
       "<style scoped>\n",
       "    .dataframe tbody tr th:only-of-type {\n",
       "        vertical-align: middle;\n",
       "    }\n",
       "\n",
       "    .dataframe tbody tr th {\n",
       "        vertical-align: top;\n",
       "    }\n",
       "\n",
       "    .dataframe thead th {\n",
       "        text-align: right;\n",
       "    }\n",
       "</style>\n",
       "<table border=\"1\" class=\"dataframe\">\n",
       "  <thead>\n",
       "    <tr style=\"text-align: right;\">\n",
       "      <th></th>\n",
       "      <th>vendor_id</th>\n",
       "      <th>passenger_count</th>\n",
       "      <th>store_and_fwd_flag</th>\n",
       "      <th>distance_km</th>\n",
       "      <th>log_trip_duration</th>\n",
       "    </tr>\n",
       "    <tr>\n",
       "      <th>id</th>\n",
       "      <th></th>\n",
       "      <th></th>\n",
       "      <th></th>\n",
       "      <th></th>\n",
       "      <th></th>\n",
       "    </tr>\n",
       "  </thead>\n",
       "  <tbody>\n",
       "    <tr>\n",
       "      <th>id2875421</th>\n",
       "      <td>1</td>\n",
       "      <td>930.399753</td>\n",
       "      <td>0</td>\n",
       "      <td>1.500479</td>\n",
       "      <td>6.122493</td>\n",
       "    </tr>\n",
       "    <tr>\n",
       "      <th>id2377394</th>\n",
       "      <td>0</td>\n",
       "      <td>930.399753</td>\n",
       "      <td>0</td>\n",
       "      <td>1.807119</td>\n",
       "      <td>6.498282</td>\n",
       "    </tr>\n",
       "    <tr>\n",
       "      <th>id3858529</th>\n",
       "      <td>1</td>\n",
       "      <td>930.399753</td>\n",
       "      <td>0</td>\n",
       "      <td>6.392080</td>\n",
       "      <td>7.661527</td>\n",
       "    </tr>\n",
       "    <tr>\n",
       "      <th>id3504673</th>\n",
       "      <td>1</td>\n",
       "      <td>930.399753</td>\n",
       "      <td>0</td>\n",
       "      <td>1.487155</td>\n",
       "      <td>6.063785</td>\n",
       "    </tr>\n",
       "    <tr>\n",
       "      <th>id2181028</th>\n",
       "      <td>1</td>\n",
       "      <td>930.399753</td>\n",
       "      <td>0</td>\n",
       "      <td>1.189925</td>\n",
       "      <td>6.077642</td>\n",
       "    </tr>\n",
       "  </tbody>\n",
       "</table>\n",
       "</div>"
      ],
      "text/plain": [
       "           vendor_id  passenger_count  store_and_fwd_flag  distance_km  \\\n",
       "id                                                                       \n",
       "id2875421          1       930.399753                   0     1.500479   \n",
       "id2377394          0       930.399753                   0     1.807119   \n",
       "id3858529          1       930.399753                   0     6.392080   \n",
       "id3504673          1       930.399753                   0     1.487155   \n",
       "id2181028          1       930.399753                   0     1.189925   \n",
       "\n",
       "           log_trip_duration  \n",
       "id                            \n",
       "id2875421           6.122493  \n",
       "id2377394           6.498282  \n",
       "id3858529           7.661527  \n",
       "id3504673           6.063785  \n",
       "id2181028           6.077642  "
      ]
     },
     "execution_count": 7,
     "metadata": {},
     "output_type": "execute_result"
    }
   ],
   "source": [
    "processed_data.head()"
   ]
  },
  {
   "cell_type": "code",
   "execution_count": 8,
   "id": "4bd08313",
   "metadata": {},
   "outputs": [
    {
     "name": "stdout",
     "output_type": "stream",
     "text": [
      "RMSLE на Кросс-валидации: 0.425\n"
     ]
    }
   ],
   "source": [
    "from sklearn.model_selection import KFold\n",
    "\n",
    "selector = KFold(n_splits=4, shuffle=True, random_state=33)\n",
    "\n",
    "from sklearn.model_selection import cross_validate\n",
    "from sklearn.linear_model import LinearRegression\n",
    "\n",
    "### Построим обыкновенную модель линейной регрессии\n",
    "### И замерим качество на установленной кросс-валидации\n",
    "\n",
    "model = LinearRegression()\n",
    "\n",
    "X = processed_data.drop('log_trip_duration', axis=1)\n",
    "Y = processed_data['log_trip_duration']\n",
    "\n",
    "cv_result_1 = cross_validate(model, X, Y, \n",
    "                             scoring='neg_mean_squared_error',\n",
    "                             cv=selector, return_train_score=True)\n",
    "\n",
    "cross_val_error = -np.mean(cv_result_1['test_score'])\n",
    "\n",
    "print(f\"RMSLE на Кросс-валидации: {round(cross_val_error, 3)}\")"
   ]
  },
  {
   "cell_type": "markdown",
   "id": "6ab71a0a",
   "metadata": {},
   "source": [
    "### Задание 5"
   ]
  },
  {
   "cell_type": "markdown",
   "id": "61e241dc",
   "metadata": {},
   "source": [
    "## Поработал один из хитрых гномов!"
   ]
  },
  {
   "cell_type": "markdown",
   "id": "bc70d999",
   "metadata": {},
   "source": [
    "В отличие от своих собратьев, третий гном оказался тем еще бездельником в школьные годы, но все равно страстно желал во всем догнать первых двух. И сейчас, желая помочь им в построении модели по предсказанию длительности поездки такси, добавил в данные 20 зашифрованных фичей (их смысл нам не рассказали: какая-то секретная информация о водителях).\n",
    "\n",
    "Гном думал следующим образом: \"Ну не может же модель стать хуже! А тут вот авось и мое нововведение уменьшит ошибку в разы! Тогда и меня станут звать на гномий  data-саммит.\"\n",
    "\n",
    "Проверим на кросс-валидации, насколько гном оказался прав!"
   ]
  },
  {
   "cell_type": "code",
   "execution_count": 13,
   "id": "c2a2c7dd",
   "metadata": {},
   "outputs": [],
   "source": [
    "### Загрузим новый гномий датасет\n",
    "\n",
    "new_data = pd.read_csv('new_data.csv', index_col='id')"
   ]
  },
  {
   "cell_type": "code",
   "execution_count": 14,
   "id": "02d219f3",
   "metadata": {},
   "outputs": [
    {
     "data": {
      "text/html": [
       "<div>\n",
       "<style scoped>\n",
       "    .dataframe tbody tr th:only-of-type {\n",
       "        vertical-align: middle;\n",
       "    }\n",
       "\n",
       "    .dataframe tbody tr th {\n",
       "        vertical-align: top;\n",
       "    }\n",
       "\n",
       "    .dataframe thead th {\n",
       "        text-align: right;\n",
       "    }\n",
       "</style>\n",
       "<table border=\"1\" class=\"dataframe\">\n",
       "  <thead>\n",
       "    <tr style=\"text-align: right;\">\n",
       "      <th></th>\n",
       "      <th>vendor_id</th>\n",
       "      <th>passenger_count</th>\n",
       "      <th>store_and_fwd_flag</th>\n",
       "      <th>distance_km</th>\n",
       "      <th>log_trip_duration</th>\n",
       "      <th>feature_1</th>\n",
       "      <th>feature_2</th>\n",
       "      <th>feature_3</th>\n",
       "      <th>feature_4</th>\n",
       "      <th>feature_5</th>\n",
       "      <th>...</th>\n",
       "      <th>feature_11</th>\n",
       "      <th>feature_12</th>\n",
       "      <th>feature_13</th>\n",
       "      <th>feature_14</th>\n",
       "      <th>feature_15</th>\n",
       "      <th>feature_16</th>\n",
       "      <th>feature_17</th>\n",
       "      <th>feature_18</th>\n",
       "      <th>feature_19</th>\n",
       "      <th>feature_20</th>\n",
       "    </tr>\n",
       "    <tr>\n",
       "      <th>id</th>\n",
       "      <th></th>\n",
       "      <th></th>\n",
       "      <th></th>\n",
       "      <th></th>\n",
       "      <th></th>\n",
       "      <th></th>\n",
       "      <th></th>\n",
       "      <th></th>\n",
       "      <th></th>\n",
       "      <th></th>\n",
       "      <th></th>\n",
       "      <th></th>\n",
       "      <th></th>\n",
       "      <th></th>\n",
       "      <th></th>\n",
       "      <th></th>\n",
       "      <th></th>\n",
       "      <th></th>\n",
       "      <th></th>\n",
       "      <th></th>\n",
       "      <th></th>\n",
       "    </tr>\n",
       "  </thead>\n",
       "  <tbody>\n",
       "    <tr>\n",
       "      <th>id2875421</th>\n",
       "      <td>1</td>\n",
       "      <td>930.399753</td>\n",
       "      <td>0</td>\n",
       "      <td>1.500479</td>\n",
       "      <td>6.122493</td>\n",
       "      <td>1</td>\n",
       "      <td>1</td>\n",
       "      <td>1</td>\n",
       "      <td>1</td>\n",
       "      <td>1</td>\n",
       "      <td>...</td>\n",
       "      <td>0</td>\n",
       "      <td>0</td>\n",
       "      <td>0</td>\n",
       "      <td>0</td>\n",
       "      <td>0</td>\n",
       "      <td>1.500479</td>\n",
       "      <td>2.251437</td>\n",
       "      <td>3.378234</td>\n",
       "      <td>5.068969</td>\n",
       "      <td>7.605881</td>\n",
       "    </tr>\n",
       "    <tr>\n",
       "      <th>id2377394</th>\n",
       "      <td>0</td>\n",
       "      <td>930.399753</td>\n",
       "      <td>0</td>\n",
       "      <td>1.807119</td>\n",
       "      <td>6.498282</td>\n",
       "      <td>0</td>\n",
       "      <td>0</td>\n",
       "      <td>0</td>\n",
       "      <td>0</td>\n",
       "      <td>0</td>\n",
       "      <td>...</td>\n",
       "      <td>0</td>\n",
       "      <td>0</td>\n",
       "      <td>0</td>\n",
       "      <td>0</td>\n",
       "      <td>0</td>\n",
       "      <td>1.807119</td>\n",
       "      <td>3.265681</td>\n",
       "      <td>5.901475</td>\n",
       "      <td>10.664670</td>\n",
       "      <td>19.272331</td>\n",
       "    </tr>\n",
       "    <tr>\n",
       "      <th>id3858529</th>\n",
       "      <td>1</td>\n",
       "      <td>930.399753</td>\n",
       "      <td>0</td>\n",
       "      <td>6.392080</td>\n",
       "      <td>7.661527</td>\n",
       "      <td>1</td>\n",
       "      <td>1</td>\n",
       "      <td>1</td>\n",
       "      <td>1</td>\n",
       "      <td>1</td>\n",
       "      <td>...</td>\n",
       "      <td>0</td>\n",
       "      <td>0</td>\n",
       "      <td>0</td>\n",
       "      <td>0</td>\n",
       "      <td>0</td>\n",
       "      <td>6.392080</td>\n",
       "      <td>40.858690</td>\n",
       "      <td>261.172025</td>\n",
       "      <td>1669.432545</td>\n",
       "      <td>10671.146803</td>\n",
       "    </tr>\n",
       "    <tr>\n",
       "      <th>id3504673</th>\n",
       "      <td>1</td>\n",
       "      <td>930.399753</td>\n",
       "      <td>0</td>\n",
       "      <td>1.487155</td>\n",
       "      <td>6.063785</td>\n",
       "      <td>1</td>\n",
       "      <td>1</td>\n",
       "      <td>1</td>\n",
       "      <td>1</td>\n",
       "      <td>1</td>\n",
       "      <td>...</td>\n",
       "      <td>0</td>\n",
       "      <td>0</td>\n",
       "      <td>0</td>\n",
       "      <td>0</td>\n",
       "      <td>0</td>\n",
       "      <td>1.487155</td>\n",
       "      <td>2.211629</td>\n",
       "      <td>3.289035</td>\n",
       "      <td>4.891303</td>\n",
       "      <td>7.274125</td>\n",
       "    </tr>\n",
       "    <tr>\n",
       "      <th>id2181028</th>\n",
       "      <td>1</td>\n",
       "      <td>930.399753</td>\n",
       "      <td>0</td>\n",
       "      <td>1.189925</td>\n",
       "      <td>6.077642</td>\n",
       "      <td>1</td>\n",
       "      <td>1</td>\n",
       "      <td>1</td>\n",
       "      <td>1</td>\n",
       "      <td>1</td>\n",
       "      <td>...</td>\n",
       "      <td>0</td>\n",
       "      <td>0</td>\n",
       "      <td>0</td>\n",
       "      <td>0</td>\n",
       "      <td>0</td>\n",
       "      <td>1.189925</td>\n",
       "      <td>1.415923</td>\n",
       "      <td>1.684842</td>\n",
       "      <td>2.004837</td>\n",
       "      <td>2.385606</td>\n",
       "    </tr>\n",
       "  </tbody>\n",
       "</table>\n",
       "<p>5 rows × 25 columns</p>\n",
       "</div>"
      ],
      "text/plain": [
       "           vendor_id  passenger_count  store_and_fwd_flag  distance_km  \\\n",
       "id                                                                       \n",
       "id2875421          1       930.399753                   0     1.500479   \n",
       "id2377394          0       930.399753                   0     1.807119   \n",
       "id3858529          1       930.399753                   0     6.392080   \n",
       "id3504673          1       930.399753                   0     1.487155   \n",
       "id2181028          1       930.399753                   0     1.189925   \n",
       "\n",
       "           log_trip_duration  feature_1  feature_2  feature_3  feature_4  \\\n",
       "id                                                                         \n",
       "id2875421           6.122493          1          1          1          1   \n",
       "id2377394           6.498282          0          0          0          0   \n",
       "id3858529           7.661527          1          1          1          1   \n",
       "id3504673           6.063785          1          1          1          1   \n",
       "id2181028           6.077642          1          1          1          1   \n",
       "\n",
       "           feature_5  ...  feature_11  feature_12  feature_13  feature_14  \\\n",
       "id                    ...                                                   \n",
       "id2875421          1  ...           0           0           0           0   \n",
       "id2377394          0  ...           0           0           0           0   \n",
       "id3858529          1  ...           0           0           0           0   \n",
       "id3504673          1  ...           0           0           0           0   \n",
       "id2181028          1  ...           0           0           0           0   \n",
       "\n",
       "           feature_15  feature_16  feature_17  feature_18   feature_19  \\\n",
       "id                                                                       \n",
       "id2875421           0    1.500479    2.251437    3.378234     5.068969   \n",
       "id2377394           0    1.807119    3.265681    5.901475    10.664670   \n",
       "id3858529           0    6.392080   40.858690  261.172025  1669.432545   \n",
       "id3504673           0    1.487155    2.211629    3.289035     4.891303   \n",
       "id2181028           0    1.189925    1.415923    1.684842     2.004837   \n",
       "\n",
       "             feature_20  \n",
       "id                       \n",
       "id2875421      7.605881  \n",
       "id2377394     19.272331  \n",
       "id3858529  10671.146803  \n",
       "id3504673      7.274125  \n",
       "id2181028      2.385606  \n",
       "\n",
       "[5 rows x 25 columns]"
      ]
     },
     "execution_count": 14,
     "metadata": {},
     "output_type": "execute_result"
    }
   ],
   "source": [
    "new_data.head()"
   ]
  },
  {
   "cell_type": "code",
   "execution_count": 15,
   "id": "466e05ef",
   "metadata": {},
   "outputs": [],
   "source": [
    "### Замерим теперь качество с новыми фичами\n",
    "\n",
    "X_2 = new_data.drop('log_trip_duration', axis=1)\n",
    "Y_2 = new_data['log_trip_duration']\n",
    "\n",
    "cv_result_2 = cross_validate(model, X_2, Y_2, \n",
    "                             scoring='neg_mean_squared_error',\n",
    "                             cv=selector, return_train_score=True)"
   ]
  },
  {
   "cell_type": "code",
   "execution_count": 16,
   "id": "d1b4a31a",
   "metadata": {},
   "outputs": [
    {
     "name": "stdout",
     "output_type": "stream",
     "text": [
      "RMSLE на Кросс-валидации: 144.716\n"
     ]
    }
   ],
   "source": [
    "cross_val_error_2 = -np.mean(cv_result_2['test_score'])\n",
    "\n",
    "print(f\"RMSLE на Кросс-валидации: {round(cross_val_error_2, 3)}\")"
   ]
  },
  {
   "cell_type": "markdown",
   "id": "16cc0745",
   "metadata": {},
   "source": [
    "### Задание 6"
   ]
  },
  {
   "cell_type": "markdown",
   "id": "a1335581",
   "metadata": {},
   "source": [
    "В линейной алгербре зачастую используют понятие **ранга матрицы**. Оно соответствует кол-ву линейно независимых столбцов в матрице. Иными словами, позволяет оценить, есть ли избыток информации в нашем датафрейме. Если ранг матрицы меньше, чем кол-во используемых столбцов, то некоторые фичи следует удалить, ведь иначе возникате ситуация строгой мультиколлинеарности.\n",
    "\n",
    "Чтобы замерить ранг в наших матрицах объект-признак, можно воспользоваться функцией numpy.linalg.matrix_rank\n",
    "\n",
    "Константным признаком в данном упражнении можно пренебречь."
   ]
  },
  {
   "cell_type": "code",
   "execution_count": 17,
   "id": "1f833257",
   "metadata": {},
   "outputs": [
    {
     "name": "stdout",
     "output_type": "stream",
     "text": [
      "В первой модели всего фичей: 4, - а ранг равен 4\n",
      "В первой модели всего фичей: 24, - а ранг равен 5\n"
     ]
    }
   ],
   "source": [
    "print(f\"В первой модели всего фичей: {X.shape[1]}, - а ранг равен {np.linalg.matrix_rank(X)}\")\n",
    "\n",
    "print(f\"В первой модели всего фичей: {X_2.shape[1]}, - а ранг равен {np.linalg.matrix_rank(X_2)}\")"
   ]
  },
  {
   "cell_type": "markdown",
   "id": "326568b8",
   "metadata": {},
   "source": [
    "### Задания 7, 8"
   ]
  },
  {
   "cell_type": "markdown",
   "id": "a0ef9af5",
   "metadata": {},
   "source": [
    "Не кажется ли нам, что из-за новых 20 фичей появилась проблема мультиколлинеарности? Как поступить гному, чтобы, с одной стороны, получить адекватное качество, а с другой стороны, не повредить свое самолюбие и не убирать новые признаки?\n",
    "\n",
    "Верно! Например, с помощью регуляризации.\n",
    "\n",
    "Найдите такой параметр регуляризации $\\lambda$ для Ridge и Lasso случая, чтобы ошибка RMSLE на кросс-валидации оказалась строго меньше 0.4\n",
    "\n",
    "**ALARM**: используйте процедуру масшратибрования данных (воспользуйтесь методом MinMaxScaler) перед тем как применить регуляризацию. Важно - чтобы сохранить концепцию независимости обучения на трейне и на тесте, на каждой итерации кросс-валидации необходимо замерять параметры стандартизации исключительно на трейне, а потом применять на валидационном фолде."
   ]
  },
  {
   "cell_type": "code",
   "execution_count": 19,
   "id": "7dd92bb0",
   "metadata": {},
   "outputs": [],
   "source": [
    "from sklearn.preprocessing import MinMaxScaler\n",
    "\n",
    "from sklearn.pipeline import Pipeline\n",
    "\n",
    "from sklearn.linear_model import Lasso, Ridge\n",
    "\n",
    "from sklearn.model_selection import GridSearchCV"
   ]
  },
  {
   "cell_type": "code",
   "execution_count": 20,
   "id": "95eb24b3",
   "metadata": {},
   "outputs": [
    {
     "data": {
      "text/plain": [
       "GridSearchCV(cv=KFold(n_splits=4, random_state=33, shuffle=True),\n",
       "             estimator=Pipeline(steps=[('scaler', MinMaxScaler()),\n",
       "                                       ('lasso', Lasso(max_iter=100000))]),\n",
       "             param_grid={'lasso__alpha': array([1.00000000e-05, 1.31034483e-05, 1.62068966e-05, 1.93103448e-05,\n",
       "       2.24137931e-05, 2.55172414e-05, 2.86206897e-05, 3.17241379e-05,\n",
       "       3.48275862e-05, 3.79310345e-05, 4.10344828e-05, 4.41379310e-05,\n",
       "       4.72413793e-05, 5.03448276e-05, 5.34482759e-05, 5.65517241e-05,\n",
       "       5.96551724e-05, 6.27586207e-05, 6.58620690e-05, 6.89655172e-05,\n",
       "       7.20689655e-05, 7.51724138e-05, 7.82758621e-05, 8.13793103e-05,\n",
       "       8.44827586e-05, 8.75862069e-05, 9.06896552e-05, 9.37931034e-05,\n",
       "       9.68965517e-05, 1.00000000e-04])},\n",
       "             return_train_score=True, scoring='neg_mean_squared_error')"
      ]
     },
     "execution_count": 20,
     "metadata": {},
     "output_type": "execute_result"
    }
   ],
   "source": [
    "### Добавить масштабирование как шаг в Pipeline и обучим lasso\n",
    "\n",
    "pipe_lasso = Pipeline([('scaler', MinMaxScaler()),\n",
    "                       ('lasso', Lasso(max_iter=100000))])\n",
    "\n",
    "alphas = np.linspace(0.00001, 0.0001, num=30)\n",
    "\n",
    "### Переберем кучу степеней регуляризации\n",
    "### Заметим, что найдутся лучшие, у которых качество лучше,\n",
    "### Чем требуемое\n",
    "\n",
    "cv_lasso = GridSearchCV(pipe_lasso, param_grid={'lasso__alpha':alphas},\n",
    "                        scoring='neg_mean_squared_error', cv=selector,\n",
    "                        return_train_score=True)\n",
    "\n",
    "cv_lasso.fit(X_2, Y_2)"
   ]
  },
  {
   "cell_type": "code",
   "execution_count": 21,
   "id": "01a984ff",
   "metadata": {},
   "outputs": [
    {
     "data": {
      "text/plain": [
       "Pipeline(steps=[('scaler', MinMaxScaler()),\n",
       "                ('lasso', Lasso(alpha=1.310344827586207e-05, max_iter=100000))])"
      ]
     },
     "execution_count": 21,
     "metadata": {},
     "output_type": "execute_result"
    }
   ],
   "source": [
    "### Самая лучшая модель на Кросс-Валидации\n",
    "\n",
    "cv_lasso.best_estimator_"
   ]
  },
  {
   "cell_type": "code",
   "execution_count": 22,
   "id": "08a4398b",
   "metadata": {},
   "outputs": [
    {
     "data": {
      "text/plain": [
       "array([-0.39997066, -0.3905583 , -0.39340447, -0.40079674, -0.40039685,\n",
       "       -0.40003784, -0.39972019, -0.39944458, -0.39920975, -0.39901531,\n",
       "       -0.3988616 , -0.39874874, -0.39867429, -0.3986393 , -0.39864062,\n",
       "       -0.39867251, -0.39873549, -0.39882859, -0.3989591 , -0.39912467,\n",
       "       -0.39932886, -0.39957195, -0.39985352, -0.400174  , -0.40053304,\n",
       "       -0.40093091, -0.40136755, -0.4018427 , -0.40235664, -0.40290931])"
      ]
     },
     "execution_count": 22,
     "metadata": {},
     "output_type": "execute_result"
    }
   ],
   "source": [
    "### Список различных скоров для всех моделей\n",
    "### Которые были перебраны выше\n",
    "\n",
    "cv_lasso.cv_results_['mean_test_score']"
   ]
  },
  {
   "cell_type": "code",
   "execution_count": 23,
   "id": "7beb1534",
   "metadata": {},
   "outputs": [
    {
     "data": {
      "text/plain": [
       "GridSearchCV(cv=KFold(n_splits=4, random_state=33, shuffle=True),\n",
       "             estimator=Pipeline(steps=[('scaler', MinMaxScaler()),\n",
       "                                       ('ridge', Ridge())]),\n",
       "             param_grid={'ridge__alpha': array([1.00000000e-05, 1.31034483e-05, 1.62068966e-05, 1.93103448e-05,\n",
       "       2.24137931e-05, 2.55172414e-05, 2.86206897e-05, 3.17241379e-05,\n",
       "       3.48275862e-05, 3.79310345e-05, 4.10344828e-05, 4.41379310e-05,\n",
       "       4.72413793e-05, 5.03448276e-05, 5.34482759e-05, 5.65517241e-05,\n",
       "       5.96551724e-05, 6.27586207e-05, 6.58620690e-05, 6.89655172e-05,\n",
       "       7.20689655e-05, 7.51724138e-05, 7.82758621e-05, 8.13793103e-05,\n",
       "       8.44827586e-05, 8.75862069e-05, 9.06896552e-05, 9.37931034e-05,\n",
       "       9.68965517e-05, 1.00000000e-04])},\n",
       "             return_train_score=True, scoring='neg_mean_squared_error')"
      ]
     },
     "execution_count": 23,
     "metadata": {},
     "output_type": "execute_result"
    }
   ],
   "source": [
    "### Ridge\n",
    "\n",
    "pipe_ridge = Pipeline([('scaler', MinMaxScaler()), ('ridge', Ridge())])\n",
    "\n",
    "cv_ridge = GridSearchCV(pipe_ridge, param_grid={'ridge__alpha':alphas},\n",
    "                        scoring='neg_mean_squared_error', cv=selector,\n",
    "                        return_train_score=True)\n",
    "\n",
    "cv_ridge.fit(X_2, Y_2)"
   ]
  },
  {
   "cell_type": "code",
   "execution_count": 24,
   "id": "3bba94b5",
   "metadata": {},
   "outputs": [
    {
     "data": {
      "text/plain": [
       "Pipeline(steps=[('scaler', MinMaxScaler()),\n",
       "                ('ridge', Ridge(alpha=5.9655172413793106e-05))])"
      ]
     },
     "execution_count": 24,
     "metadata": {},
     "output_type": "execute_result"
    }
   ],
   "source": [
    "cv_ridge.best_estimator_"
   ]
  },
  {
   "cell_type": "code",
   "execution_count": 25,
   "id": "a3fa606e",
   "metadata": {},
   "outputs": [
    {
     "data": {
      "text/plain": [
       "array([-0.39997066, -0.3905583 , -0.39340447, -0.40079674, -0.40039685,\n",
       "       -0.40003784, -0.39972019, -0.39944458, -0.39920975, -0.39901531,\n",
       "       -0.3988616 , -0.39874874, -0.39867429, -0.3986393 , -0.39864062,\n",
       "       -0.39867251, -0.39873549, -0.39882859, -0.3989591 , -0.39912467,\n",
       "       -0.39932886, -0.39957195, -0.39985352, -0.400174  , -0.40053304,\n",
       "       -0.40093091, -0.40136755, -0.4018427 , -0.40235664, -0.40290931])"
      ]
     },
     "execution_count": 25,
     "metadata": {},
     "output_type": "execute_result"
    }
   ],
   "source": [
    "cv_lasso.cv_results_['mean_test_score']"
   ]
  }
 ],
 "metadata": {
  "kernelspec": {
   "display_name": "Python 3 (ipykernel)",
   "language": "python",
   "name": "python3"
  },
  "language_info": {
   "codemirror_mode": {
    "name": "ipython",
    "version": 3
   },
   "file_extension": ".py",
   "mimetype": "text/x-python",
   "name": "python",
   "nbconvert_exporter": "python",
   "pygments_lexer": "ipython3",
   "version": "3.7.9"
  }
 },
 "nbformat": 4,
 "nbformat_minor": 5
}
