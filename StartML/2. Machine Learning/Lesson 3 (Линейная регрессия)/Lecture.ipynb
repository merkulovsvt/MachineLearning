{
 "cells": [
  {
   "cell_type": "code",
   "id": "c891860e",
   "metadata": {
    "ExecuteTime": {
     "end_time": "2024-09-23T17:52:04.074903Z",
     "start_time": "2024-09-23T17:52:04.058821Z"
    }
   },
   "source": [
    "import warnings\n",
    "\n",
    "warnings.filterwarnings('ignore')"
   ],
   "outputs": [],
   "execution_count": 1
  },
  {
   "cell_type": "markdown",
   "id": "9a8cb469",
   "metadata": {},
   "source": [
    "## Numpy"
   ]
  },
  {
   "cell_type": "markdown",
   "id": "8aae0060",
   "metadata": {},
   "source": [
    "Numpy - библиотека python, позволяющая делать сложные вычисления и операции с массивами.\n",
    "\n",
    "Главный объект Numpy - это однородный многомерный массив. \n",
    "\n",
    "Массив - упорядоченный набор однородных данных, доступных по индексу. Чаще всего это одномерная последовательность или двумерная таблица, заполненные элементами одного типа.\n",
    "\n",
    "[Подробнее](https://pyprog.pro/introduction.html) о массивах"
   ]
  },
  {
   "cell_type": "code",
   "id": "71602e3a",
   "metadata": {
    "ExecuteTime": {
     "end_time": "2024-05-30T09:58:39.157777Z",
     "start_time": "2024-05-30T09:58:39.145027Z"
    }
   },
   "source": [
    "import numpy as np"
   ],
   "outputs": [],
   "execution_count": 2
  },
  {
   "cell_type": "code",
   "id": "9a9116f9",
   "metadata": {
    "ExecuteTime": {
     "end_time": "2024-05-30T09:58:39.172822Z",
     "start_time": "2024-05-30T09:58:39.159778Z"
    }
   },
   "source": [
    "a = np.array([1, 3, 2])\n",
    "\n",
    "a"
   ],
   "outputs": [
    {
     "data": {
      "text/plain": [
       "array([1, 3, 2])"
      ]
     },
     "execution_count": 3,
     "metadata": {},
     "output_type": "execute_result"
    }
   ],
   "execution_count": 3
  },
  {
   "cell_type": "code",
   "id": "57119d4f",
   "metadata": {
    "ExecuteTime": {
     "end_time": "2024-05-30T09:58:39.188826Z",
     "start_time": "2024-05-30T09:58:39.173917Z"
    }
   },
   "source": [
    "a = np.array([[1.5, 2, 3], [4, 5, 6]],\n",
    "             dtype=np.complex128)  #В отличие от списков, в массиве все элементы обязательно принадлежат одному типу\n",
    "\n",
    "a"
   ],
   "outputs": [
    {
     "data": {
      "text/plain": [
       "array([[1.5+0.j, 2. +0.j, 3. +0.j],\n",
       "       [4. +0.j, 5. +0.j, 6. +0.j]])"
      ]
     },
     "execution_count": 4,
     "metadata": {},
     "output_type": "execute_result"
    }
   ],
   "execution_count": 4
  },
  {
   "cell_type": "code",
   "id": "dbdde97d",
   "metadata": {
    "ExecuteTime": {
     "end_time": "2024-05-30T09:58:39.204131Z",
     "start_time": "2024-05-30T09:58:39.190845Z"
    }
   },
   "source": [
    "a = np.array([[1.5, 2, 3], [4, 5, 600000]],\n",
    "             dtype=np.int16)  #создаст одномерную матрицу размером 2 х 3 c типом данных int16 \n",
    "\n",
    "a\n",
    "\n",
    "#Массив будет преобразован в соответствии с данным типом и на выходе полчим следующее:\n",
    "#Дробные числа переведены в целочисленный формат в соответствии с типом\n",
    "#Число 600000 не умещается в тип int16, происходит \"переполнение типа\"\n"
   ],
   "outputs": [
    {
     "data": {
      "text/plain": [
       "array([[    1,     2,     3],\n",
       "       [    4,     5, 10176]], dtype=int16)"
      ]
     },
     "execution_count": 5,
     "metadata": {},
     "output_type": "execute_result"
    }
   ],
   "execution_count": 5
  },
  {
   "cell_type": "markdown",
   "id": "8e80b8d3",
   "metadata": {},
   "source": [
    "## Сложение / Вычитание матриц"
   ]
  },
  {
   "cell_type": "code",
   "id": "43a62cd0",
   "metadata": {
    "ExecuteTime": {
     "end_time": "2024-05-30T09:58:39.219813Z",
     "start_time": "2024-05-30T09:58:39.205369Z"
    }
   },
   "source": [
    "### Матрица A размера 2x3\n",
    "A = np.array([[3, 4, 5],\n",
    "              [1, 1, 1]])\n",
    "\n",
    "### Матрица B размера 2x3\n",
    "B = np.array([[5, 5, 1],\n",
    "              [3, 1, 1]])\n",
    "\n",
    "### Так как размеры совпадают, можно вычитать и складывать!"
   ],
   "outputs": [],
   "execution_count": 6
  },
  {
   "cell_type": "code",
   "id": "7660eaf3",
   "metadata": {
    "ExecuteTime": {
     "end_time": "2024-05-30T09:58:39.235253Z",
     "start_time": "2024-05-30T09:58:39.221017Z"
    }
   },
   "source": "A - B",
   "outputs": [
    {
     "data": {
      "text/plain": [
       "array([[-2, -1,  4],\n",
       "       [-2,  0,  0]])"
      ]
     },
     "execution_count": 7,
     "metadata": {},
     "output_type": "execute_result"
    }
   ],
   "execution_count": 7
  },
  {
   "cell_type": "markdown",
   "id": "f760165d",
   "metadata": {},
   "source": [
    "## Умножение матриц"
   ]
  },
  {
   "cell_type": "code",
   "id": "3c35f50d",
   "metadata": {
    "ExecuteTime": {
     "end_time": "2024-05-30T09:58:39.250304Z",
     "start_time": "2024-05-30T09:58:39.238259Z"
    }
   },
   "source": [
    "### Матрица A размера 2x3\n",
    "A = np.array([[3, 4, 5],\n",
    "              [1, 1, 1]])\n",
    "\n",
    "### Матрица B размера 3x3\n",
    "B = np.array([[5, 5, 5],\n",
    "              [3, 1, 10],\n",
    "              [4, 4, 12]])\n",
    "\n",
    "C = np.array([[5, 5, 5],\n",
    "              [3, 1, 10],\n",
    "              [4, 4, 12]])\n",
    "\n",
    "### Так как кол-во строк матрицы A совпадает с кол-вом строк матрицы B,\n",
    "### Можем умножить A * B"
   ],
   "outputs": [],
   "execution_count": 8
  },
  {
   "metadata": {
    "ExecuteTime": {
     "end_time": "2024-05-30T09:58:39.265747Z",
     "start_time": "2024-05-30T09:58:39.252263Z"
    }
   },
   "cell_type": "code",
   "source": "A @ B",
   "id": "41a7fea0624cedab",
   "outputs": [
    {
     "data": {
      "text/plain": [
       "array([[ 47,  39, 115],\n",
       "       [ 12,  10,  27]])"
      ]
     },
     "execution_count": 9,
     "metadata": {},
     "output_type": "execute_result"
    }
   ],
   "execution_count": 9
  },
  {
   "cell_type": "code",
   "id": "9806079d",
   "metadata": {
    "ExecuteTime": {
     "end_time": "2024-05-30T09:58:39.281785Z",
     "start_time": "2024-05-30T09:58:39.266747Z"
    }
   },
   "source": "np.dot(A, B)",
   "outputs": [
    {
     "data": {
      "text/plain": [
       "array([[ 47,  39, 115],\n",
       "       [ 12,  10,  27]])"
      ]
     },
     "execution_count": 10,
     "metadata": {},
     "output_type": "execute_result"
    }
   ],
   "execution_count": 10
  },
  {
   "metadata": {
    "ExecuteTime": {
     "end_time": "2024-05-30T09:58:39.297748Z",
     "start_time": "2024-05-30T09:58:39.282784Z"
    }
   },
   "cell_type": "code",
   "source": "B * C  #Поэлементное умножение",
   "id": "df248cf2f7f4abb6",
   "outputs": [
    {
     "data": {
      "text/plain": [
       "array([[ 25,  25,  25],\n",
       "       [  9,   1, 100],\n",
       "       [ 16,  16, 144]])"
      ]
     },
     "execution_count": 11,
     "metadata": {},
     "output_type": "execute_result"
    }
   ],
   "execution_count": 11
  },
  {
   "cell_type": "markdown",
   "id": "92f34d16",
   "metadata": {},
   "source": [
    "## Транспонирование матриц"
   ]
  },
  {
   "cell_type": "code",
   "id": "33848cc7",
   "metadata": {
    "ExecuteTime": {
     "end_time": "2024-05-30T09:58:39.313200Z",
     "start_time": "2024-05-30T09:58:39.298948Z"
    }
   },
   "source": [
    "A = np.array([[3, 4, 5],\n",
    "              [1, 1, 1]])"
   ],
   "outputs": [],
   "execution_count": 12
  },
  {
   "cell_type": "code",
   "id": "727dc085",
   "metadata": {
    "ExecuteTime": {
     "end_time": "2024-05-30T09:58:39.328369Z",
     "start_time": "2024-05-30T09:58:39.314392Z"
    }
   },
   "source": [
    "A.T"
   ],
   "outputs": [
    {
     "data": {
      "text/plain": [
       "array([[3, 1],\n",
       "       [4, 1],\n",
       "       [5, 1]])"
      ]
     },
     "execution_count": 13,
     "metadata": {},
     "output_type": "execute_result"
    }
   ],
   "execution_count": 13
  },
  {
   "cell_type": "markdown",
   "id": "4b8b8046",
   "metadata": {},
   "source": [
    "## Единичная матрица"
   ]
  },
  {
   "cell_type": "code",
   "id": "6a65779f",
   "metadata": {
    "ExecuteTime": {
     "end_time": "2024-05-30T09:58:39.344230Z",
     "start_time": "2024-05-30T09:58:39.329647Z"
    }
   },
   "source": [
    "np.eye(4)"
   ],
   "outputs": [
    {
     "data": {
      "text/plain": [
       "array([[1., 0., 0., 0.],\n",
       "       [0., 1., 0., 0.],\n",
       "       [0., 0., 1., 0.],\n",
       "       [0., 0., 0., 1.]])"
      ]
     },
     "execution_count": 14,
     "metadata": {},
     "output_type": "execute_result"
    }
   ],
   "execution_count": 14
  },
  {
   "cell_type": "markdown",
   "id": "e4e43a7d",
   "metadata": {},
   "source": [
    "## Обращение матриц"
   ]
  },
  {
   "cell_type": "code",
   "id": "32b5638b",
   "metadata": {
    "ExecuteTime": {
     "end_time": "2024-05-30T09:58:39.359536Z",
     "start_time": "2024-05-30T09:58:39.345235Z"
    }
   },
   "source": [
    "### Матрица A размера 3x3 => Ее можно обращать\n",
    "A = np.array([[5, 5, 5],\n",
    "              [3, 2, 10],\n",
    "              [4, 4, 12]])"
   ],
   "outputs": [],
   "execution_count": 15
  },
  {
   "cell_type": "code",
   "id": "b7083cc4",
   "metadata": {
    "ExecuteTime": {
     "end_time": "2024-05-30T09:58:39.375220Z",
     "start_time": "2024-05-30T09:58:39.360539Z"
    }
   },
   "source": [
    "np.linalg.inv(A)"
   ],
   "outputs": [
    {
     "data": {
      "text/plain": [
       "array([[ 0.4  ,  1.   , -1.   ],\n",
       "       [-0.1  , -1.   ,  0.875],\n",
       "       [-0.1  ,  0.   ,  0.125]])"
      ]
     },
     "execution_count": 16,
     "metadata": {},
     "output_type": "execute_result"
    }
   ],
   "execution_count": 16
  },
  {
   "cell_type": "markdown",
   "id": "ad7442d6",
   "metadata": {},
   "source": [
    "## $\\beta^* = (X^T \\cdot X)^{-1}\\cdot X^T \\cdot Y$"
   ]
  },
  {
   "cell_type": "code",
   "id": "3e553a7f",
   "metadata": {
    "ExecuteTime": {
     "end_time": "2024-05-30T09:58:39.390523Z",
     "start_time": "2024-05-30T09:58:39.376231Z"
    }
   },
   "source": [
    "X = np.array([[23, 0.5, 1],\n",
    "              [35, 1, 1],\n",
    "              [18, 0, 1]])\n",
    "\n",
    "Y = np.array([55, 100, 45])\n"
   ],
   "outputs": [],
   "execution_count": 17
  },
  {
   "cell_type": "code",
   "id": "d9162067",
   "metadata": {
    "ExecuteTime": {
     "end_time": "2024-05-30T09:58:39.484174Z",
     "start_time": "2024-05-30T09:58:39.392130Z"
    }
   },
   "source": [
    "xxt = np.dot(X.T, X)\n",
    "xxt_inv = np.linalg.inv(xxt)\n",
    "xxt_inv_xxt = np.dot(xxt_inv, X.T)\n",
    "final_betas = np.dot(xxt_inv_xxt, Y)\n",
    "\n",
    "final_betas"
   ],
   "outputs": [
    {
     "data": {
      "text/plain": [
       "array([  5., -30., -45.])"
      ]
     },
     "execution_count": 18,
     "metadata": {},
     "output_type": "execute_result"
    }
   ],
   "execution_count": 18
  },
  {
   "cell_type": "markdown",
   "id": "077bd1aa",
   "metadata": {},
   "source": [
    "## Пример с первого практического занятия"
   ]
  },
  {
   "cell_type": "code",
   "id": "8ca6db69",
   "metadata": {
    "ExecuteTime": {
     "end_time": "2024-05-30T09:58:40.637111Z",
     "start_time": "2024-05-30T09:58:39.485410Z"
    }
   },
   "source": [
    "import pandas as pd\n",
    "\n",
    "X = pd.read_csv('X.csv').drop('Предсказание', axis=1)\n",
    "Y = pd.read_csv('Y.csv')"
   ],
   "outputs": [
    {
     "ename": "FileNotFoundError",
     "evalue": "[Errno 2] No such file or directory: 'X.csv'",
     "output_type": "error",
     "traceback": [
      "\u001B[1;31m---------------------------------------------------------------------------\u001B[0m",
      "\u001B[1;31mFileNotFoundError\u001B[0m                         Traceback (most recent call last)",
      "Cell \u001B[1;32mIn[19], line 3\u001B[0m\n\u001B[0;32m      1\u001B[0m \u001B[38;5;28;01mimport\u001B[39;00m \u001B[38;5;21;01mpandas\u001B[39;00m \u001B[38;5;28;01mas\u001B[39;00m \u001B[38;5;21;01mpd\u001B[39;00m\n\u001B[1;32m----> 3\u001B[0m X \u001B[38;5;241m=\u001B[39m \u001B[43mpd\u001B[49m\u001B[38;5;241;43m.\u001B[39;49m\u001B[43mread_csv\u001B[49m\u001B[43m(\u001B[49m\u001B[38;5;124;43m'\u001B[39;49m\u001B[38;5;124;43mX.csv\u001B[39;49m\u001B[38;5;124;43m'\u001B[39;49m\u001B[43m)\u001B[49m\u001B[38;5;241m.\u001B[39mdrop(\u001B[38;5;124m'\u001B[39m\u001B[38;5;124mПредсказание\u001B[39m\u001B[38;5;124m'\u001B[39m, axis\u001B[38;5;241m=\u001B[39m\u001B[38;5;241m1\u001B[39m)\n\u001B[0;32m      4\u001B[0m Y \u001B[38;5;241m=\u001B[39m pd\u001B[38;5;241m.\u001B[39mread_csv(\u001B[38;5;124m'\u001B[39m\u001B[38;5;124mY.csv\u001B[39m\u001B[38;5;124m'\u001B[39m)\n",
      "File \u001B[1;32m~\\.virtualenvs\\MachineLearning-x7kuzlXN\\lib\\site-packages\\pandas\\io\\parsers\\readers.py:1026\u001B[0m, in \u001B[0;36mread_csv\u001B[1;34m(filepath_or_buffer, sep, delimiter, header, names, index_col, usecols, dtype, engine, converters, true_values, false_values, skipinitialspace, skiprows, skipfooter, nrows, na_values, keep_default_na, na_filter, verbose, skip_blank_lines, parse_dates, infer_datetime_format, keep_date_col, date_parser, date_format, dayfirst, cache_dates, iterator, chunksize, compression, thousands, decimal, lineterminator, quotechar, quoting, doublequote, escapechar, comment, encoding, encoding_errors, dialect, on_bad_lines, delim_whitespace, low_memory, memory_map, float_precision, storage_options, dtype_backend)\u001B[0m\n\u001B[0;32m   1013\u001B[0m kwds_defaults \u001B[38;5;241m=\u001B[39m _refine_defaults_read(\n\u001B[0;32m   1014\u001B[0m     dialect,\n\u001B[0;32m   1015\u001B[0m     delimiter,\n\u001B[1;32m   (...)\u001B[0m\n\u001B[0;32m   1022\u001B[0m     dtype_backend\u001B[38;5;241m=\u001B[39mdtype_backend,\n\u001B[0;32m   1023\u001B[0m )\n\u001B[0;32m   1024\u001B[0m kwds\u001B[38;5;241m.\u001B[39mupdate(kwds_defaults)\n\u001B[1;32m-> 1026\u001B[0m \u001B[38;5;28;01mreturn\u001B[39;00m \u001B[43m_read\u001B[49m\u001B[43m(\u001B[49m\u001B[43mfilepath_or_buffer\u001B[49m\u001B[43m,\u001B[49m\u001B[43m \u001B[49m\u001B[43mkwds\u001B[49m\u001B[43m)\u001B[49m\n",
      "File \u001B[1;32m~\\.virtualenvs\\MachineLearning-x7kuzlXN\\lib\\site-packages\\pandas\\io\\parsers\\readers.py:620\u001B[0m, in \u001B[0;36m_read\u001B[1;34m(filepath_or_buffer, kwds)\u001B[0m\n\u001B[0;32m    617\u001B[0m _validate_names(kwds\u001B[38;5;241m.\u001B[39mget(\u001B[38;5;124m\"\u001B[39m\u001B[38;5;124mnames\u001B[39m\u001B[38;5;124m\"\u001B[39m, \u001B[38;5;28;01mNone\u001B[39;00m))\n\u001B[0;32m    619\u001B[0m \u001B[38;5;66;03m# Create the parser.\u001B[39;00m\n\u001B[1;32m--> 620\u001B[0m parser \u001B[38;5;241m=\u001B[39m TextFileReader(filepath_or_buffer, \u001B[38;5;241m*\u001B[39m\u001B[38;5;241m*\u001B[39mkwds)\n\u001B[0;32m    622\u001B[0m \u001B[38;5;28;01mif\u001B[39;00m chunksize \u001B[38;5;129;01mor\u001B[39;00m iterator:\n\u001B[0;32m    623\u001B[0m     \u001B[38;5;28;01mreturn\u001B[39;00m parser\n",
      "File \u001B[1;32m~\\.virtualenvs\\MachineLearning-x7kuzlXN\\lib\\site-packages\\pandas\\io\\parsers\\readers.py:1620\u001B[0m, in \u001B[0;36mTextFileReader.__init__\u001B[1;34m(self, f, engine, **kwds)\u001B[0m\n\u001B[0;32m   1617\u001B[0m     \u001B[38;5;28mself\u001B[39m\u001B[38;5;241m.\u001B[39moptions[\u001B[38;5;124m\"\u001B[39m\u001B[38;5;124mhas_index_names\u001B[39m\u001B[38;5;124m\"\u001B[39m] \u001B[38;5;241m=\u001B[39m kwds[\u001B[38;5;124m\"\u001B[39m\u001B[38;5;124mhas_index_names\u001B[39m\u001B[38;5;124m\"\u001B[39m]\n\u001B[0;32m   1619\u001B[0m \u001B[38;5;28mself\u001B[39m\u001B[38;5;241m.\u001B[39mhandles: IOHandles \u001B[38;5;241m|\u001B[39m \u001B[38;5;28;01mNone\u001B[39;00m \u001B[38;5;241m=\u001B[39m \u001B[38;5;28;01mNone\u001B[39;00m\n\u001B[1;32m-> 1620\u001B[0m \u001B[38;5;28mself\u001B[39m\u001B[38;5;241m.\u001B[39m_engine \u001B[38;5;241m=\u001B[39m \u001B[38;5;28;43mself\u001B[39;49m\u001B[38;5;241;43m.\u001B[39;49m\u001B[43m_make_engine\u001B[49m\u001B[43m(\u001B[49m\u001B[43mf\u001B[49m\u001B[43m,\u001B[49m\u001B[43m \u001B[49m\u001B[38;5;28;43mself\u001B[39;49m\u001B[38;5;241;43m.\u001B[39;49m\u001B[43mengine\u001B[49m\u001B[43m)\u001B[49m\n",
      "File \u001B[1;32m~\\.virtualenvs\\MachineLearning-x7kuzlXN\\lib\\site-packages\\pandas\\io\\parsers\\readers.py:1880\u001B[0m, in \u001B[0;36mTextFileReader._make_engine\u001B[1;34m(self, f, engine)\u001B[0m\n\u001B[0;32m   1878\u001B[0m     \u001B[38;5;28;01mif\u001B[39;00m \u001B[38;5;124m\"\u001B[39m\u001B[38;5;124mb\u001B[39m\u001B[38;5;124m\"\u001B[39m \u001B[38;5;129;01mnot\u001B[39;00m \u001B[38;5;129;01min\u001B[39;00m mode:\n\u001B[0;32m   1879\u001B[0m         mode \u001B[38;5;241m+\u001B[39m\u001B[38;5;241m=\u001B[39m \u001B[38;5;124m\"\u001B[39m\u001B[38;5;124mb\u001B[39m\u001B[38;5;124m\"\u001B[39m\n\u001B[1;32m-> 1880\u001B[0m \u001B[38;5;28mself\u001B[39m\u001B[38;5;241m.\u001B[39mhandles \u001B[38;5;241m=\u001B[39m \u001B[43mget_handle\u001B[49m\u001B[43m(\u001B[49m\n\u001B[0;32m   1881\u001B[0m \u001B[43m    \u001B[49m\u001B[43mf\u001B[49m\u001B[43m,\u001B[49m\n\u001B[0;32m   1882\u001B[0m \u001B[43m    \u001B[49m\u001B[43mmode\u001B[49m\u001B[43m,\u001B[49m\n\u001B[0;32m   1883\u001B[0m \u001B[43m    \u001B[49m\u001B[43mencoding\u001B[49m\u001B[38;5;241;43m=\u001B[39;49m\u001B[38;5;28;43mself\u001B[39;49m\u001B[38;5;241;43m.\u001B[39;49m\u001B[43moptions\u001B[49m\u001B[38;5;241;43m.\u001B[39;49m\u001B[43mget\u001B[49m\u001B[43m(\u001B[49m\u001B[38;5;124;43m\"\u001B[39;49m\u001B[38;5;124;43mencoding\u001B[39;49m\u001B[38;5;124;43m\"\u001B[39;49m\u001B[43m,\u001B[49m\u001B[43m \u001B[49m\u001B[38;5;28;43;01mNone\u001B[39;49;00m\u001B[43m)\u001B[49m\u001B[43m,\u001B[49m\n\u001B[0;32m   1884\u001B[0m \u001B[43m    \u001B[49m\u001B[43mcompression\u001B[49m\u001B[38;5;241;43m=\u001B[39;49m\u001B[38;5;28;43mself\u001B[39;49m\u001B[38;5;241;43m.\u001B[39;49m\u001B[43moptions\u001B[49m\u001B[38;5;241;43m.\u001B[39;49m\u001B[43mget\u001B[49m\u001B[43m(\u001B[49m\u001B[38;5;124;43m\"\u001B[39;49m\u001B[38;5;124;43mcompression\u001B[39;49m\u001B[38;5;124;43m\"\u001B[39;49m\u001B[43m,\u001B[49m\u001B[43m \u001B[49m\u001B[38;5;28;43;01mNone\u001B[39;49;00m\u001B[43m)\u001B[49m\u001B[43m,\u001B[49m\n\u001B[0;32m   1885\u001B[0m \u001B[43m    \u001B[49m\u001B[43mmemory_map\u001B[49m\u001B[38;5;241;43m=\u001B[39;49m\u001B[38;5;28;43mself\u001B[39;49m\u001B[38;5;241;43m.\u001B[39;49m\u001B[43moptions\u001B[49m\u001B[38;5;241;43m.\u001B[39;49m\u001B[43mget\u001B[49m\u001B[43m(\u001B[49m\u001B[38;5;124;43m\"\u001B[39;49m\u001B[38;5;124;43mmemory_map\u001B[39;49m\u001B[38;5;124;43m\"\u001B[39;49m\u001B[43m,\u001B[49m\u001B[43m \u001B[49m\u001B[38;5;28;43;01mFalse\u001B[39;49;00m\u001B[43m)\u001B[49m\u001B[43m,\u001B[49m\n\u001B[0;32m   1886\u001B[0m \u001B[43m    \u001B[49m\u001B[43mis_text\u001B[49m\u001B[38;5;241;43m=\u001B[39;49m\u001B[43mis_text\u001B[49m\u001B[43m,\u001B[49m\n\u001B[0;32m   1887\u001B[0m \u001B[43m    \u001B[49m\u001B[43merrors\u001B[49m\u001B[38;5;241;43m=\u001B[39;49m\u001B[38;5;28;43mself\u001B[39;49m\u001B[38;5;241;43m.\u001B[39;49m\u001B[43moptions\u001B[49m\u001B[38;5;241;43m.\u001B[39;49m\u001B[43mget\u001B[49m\u001B[43m(\u001B[49m\u001B[38;5;124;43m\"\u001B[39;49m\u001B[38;5;124;43mencoding_errors\u001B[39;49m\u001B[38;5;124;43m\"\u001B[39;49m\u001B[43m,\u001B[49m\u001B[43m \u001B[49m\u001B[38;5;124;43m\"\u001B[39;49m\u001B[38;5;124;43mstrict\u001B[39;49m\u001B[38;5;124;43m\"\u001B[39;49m\u001B[43m)\u001B[49m\u001B[43m,\u001B[49m\n\u001B[0;32m   1888\u001B[0m \u001B[43m    \u001B[49m\u001B[43mstorage_options\u001B[49m\u001B[38;5;241;43m=\u001B[39;49m\u001B[38;5;28;43mself\u001B[39;49m\u001B[38;5;241;43m.\u001B[39;49m\u001B[43moptions\u001B[49m\u001B[38;5;241;43m.\u001B[39;49m\u001B[43mget\u001B[49m\u001B[43m(\u001B[49m\u001B[38;5;124;43m\"\u001B[39;49m\u001B[38;5;124;43mstorage_options\u001B[39;49m\u001B[38;5;124;43m\"\u001B[39;49m\u001B[43m,\u001B[49m\u001B[43m \u001B[49m\u001B[38;5;28;43;01mNone\u001B[39;49;00m\u001B[43m)\u001B[49m\u001B[43m,\u001B[49m\n\u001B[0;32m   1889\u001B[0m \u001B[43m\u001B[49m\u001B[43m)\u001B[49m\n\u001B[0;32m   1890\u001B[0m \u001B[38;5;28;01massert\u001B[39;00m \u001B[38;5;28mself\u001B[39m\u001B[38;5;241m.\u001B[39mhandles \u001B[38;5;129;01mis\u001B[39;00m \u001B[38;5;129;01mnot\u001B[39;00m \u001B[38;5;28;01mNone\u001B[39;00m\n\u001B[0;32m   1891\u001B[0m f \u001B[38;5;241m=\u001B[39m \u001B[38;5;28mself\u001B[39m\u001B[38;5;241m.\u001B[39mhandles\u001B[38;5;241m.\u001B[39mhandle\n",
      "File \u001B[1;32m~\\.virtualenvs\\MachineLearning-x7kuzlXN\\lib\\site-packages\\pandas\\io\\common.py:873\u001B[0m, in \u001B[0;36mget_handle\u001B[1;34m(path_or_buf, mode, encoding, compression, memory_map, is_text, errors, storage_options)\u001B[0m\n\u001B[0;32m    868\u001B[0m \u001B[38;5;28;01melif\u001B[39;00m \u001B[38;5;28misinstance\u001B[39m(handle, \u001B[38;5;28mstr\u001B[39m):\n\u001B[0;32m    869\u001B[0m     \u001B[38;5;66;03m# Check whether the filename is to be opened in binary mode.\u001B[39;00m\n\u001B[0;32m    870\u001B[0m     \u001B[38;5;66;03m# Binary mode does not support 'encoding' and 'newline'.\u001B[39;00m\n\u001B[0;32m    871\u001B[0m     \u001B[38;5;28;01mif\u001B[39;00m ioargs\u001B[38;5;241m.\u001B[39mencoding \u001B[38;5;129;01mand\u001B[39;00m \u001B[38;5;124m\"\u001B[39m\u001B[38;5;124mb\u001B[39m\u001B[38;5;124m\"\u001B[39m \u001B[38;5;129;01mnot\u001B[39;00m \u001B[38;5;129;01min\u001B[39;00m ioargs\u001B[38;5;241m.\u001B[39mmode:\n\u001B[0;32m    872\u001B[0m         \u001B[38;5;66;03m# Encoding\u001B[39;00m\n\u001B[1;32m--> 873\u001B[0m         handle \u001B[38;5;241m=\u001B[39m \u001B[38;5;28;43mopen\u001B[39;49m\u001B[43m(\u001B[49m\n\u001B[0;32m    874\u001B[0m \u001B[43m            \u001B[49m\u001B[43mhandle\u001B[49m\u001B[43m,\u001B[49m\n\u001B[0;32m    875\u001B[0m \u001B[43m            \u001B[49m\u001B[43mioargs\u001B[49m\u001B[38;5;241;43m.\u001B[39;49m\u001B[43mmode\u001B[49m\u001B[43m,\u001B[49m\n\u001B[0;32m    876\u001B[0m \u001B[43m            \u001B[49m\u001B[43mencoding\u001B[49m\u001B[38;5;241;43m=\u001B[39;49m\u001B[43mioargs\u001B[49m\u001B[38;5;241;43m.\u001B[39;49m\u001B[43mencoding\u001B[49m\u001B[43m,\u001B[49m\n\u001B[0;32m    877\u001B[0m \u001B[43m            \u001B[49m\u001B[43merrors\u001B[49m\u001B[38;5;241;43m=\u001B[39;49m\u001B[43merrors\u001B[49m\u001B[43m,\u001B[49m\n\u001B[0;32m    878\u001B[0m \u001B[43m            \u001B[49m\u001B[43mnewline\u001B[49m\u001B[38;5;241;43m=\u001B[39;49m\u001B[38;5;124;43m\"\u001B[39;49m\u001B[38;5;124;43m\"\u001B[39;49m\u001B[43m,\u001B[49m\n\u001B[0;32m    879\u001B[0m \u001B[43m        \u001B[49m\u001B[43m)\u001B[49m\n\u001B[0;32m    880\u001B[0m     \u001B[38;5;28;01melse\u001B[39;00m:\n\u001B[0;32m    881\u001B[0m         \u001B[38;5;66;03m# Binary mode\u001B[39;00m\n\u001B[0;32m    882\u001B[0m         handle \u001B[38;5;241m=\u001B[39m \u001B[38;5;28mopen\u001B[39m(handle, ioargs\u001B[38;5;241m.\u001B[39mmode)\n",
      "\u001B[1;31mFileNotFoundError\u001B[0m: [Errno 2] No such file or directory: 'X.csv'"
     ]
    }
   ],
   "execution_count": 19
  },
  {
   "cell_type": "code",
   "id": "69eae9d1",
   "metadata": {},
   "source": [
    "X.head()"
   ],
   "outputs": [],
   "execution_count": null
  },
  {
   "cell_type": "code",
   "id": "3283cc7b",
   "metadata": {},
   "source": [
    "Y.head()"
   ],
   "outputs": [],
   "execution_count": null
  },
  {
   "cell_type": "code",
   "id": "048de074",
   "metadata": {},
   "source": [
    "from sklearn.linear_model import LinearRegression\n",
    "\n",
    "model = LinearRegression()\n",
    "model.fit(X, Y)\n",
    "\n",
    "for column, coef in zip(X.columns, model.coef_):\n",
    "    print(column, coef)\n",
    "\n",
    "print(model.intercept_)"
   ],
   "outputs": [],
   "execution_count": null
  },
  {
   "cell_type": "code",
   "id": "e68529b6",
   "metadata": {},
   "source": [
    "X['constant'] = 1"
   ],
   "outputs": [],
   "execution_count": null
  },
  {
   "cell_type": "code",
   "id": "24bbbc7c",
   "metadata": {},
   "source": [
    "xxt = np.dot(X.T, X)\n",
    "xxt_inv = np.linalg.inv(xxt)\n",
    "xxt_inv_xxt = np.dot(xxt_inv, X.T)\n",
    "final_betas = np.dot(xxt_inv_xxt, Y)\n",
    "\n",
    "final_betas"
   ],
   "outputs": [],
   "execution_count": null
  },
  {
   "cell_type": "code",
   "id": "ae621f0d",
   "metadata": {},
   "source": [
    "for column, coef in zip(X.columns, final_betas):\n",
    "    print(column, coef)"
   ],
   "outputs": [],
   "execution_count": null
  },
  {
   "cell_type": "markdown",
   "id": "dff59636",
   "metadata": {},
   "source": [
    "## А что, если данных, в т.ч. признаков, очень много?"
   ]
  },
  {
   "cell_type": "code",
   "id": "ae3abb6c",
   "metadata": {},
   "source": "matrix = np.random.rand(50000, 50000)",
   "outputs": [],
   "execution_count": null
  },
  {
   "cell_type": "code",
   "id": "585749ee",
   "metadata": {},
   "source": [
    "# Зависнет, тк нужно 50_000^3 операций для каждого действия\n",
    "matrixdot = np.dot(matrix.T, matrix) \n",
    "matrix_inv = np.linalg.inv(matrixdot)"
   ],
   "outputs": [],
   "execution_count": null
  }
 ],
 "metadata": {
  "kernelspec": {
   "display_name": "Python 3 (ipykernel)",
   "language": "python",
   "name": "python3"
  },
  "language_info": {
   "codemirror_mode": {
    "name": "ipython",
    "version": 3
   },
   "file_extension": ".py",
   "mimetype": "text/x-python",
   "name": "python",
   "nbconvert_exporter": "python",
   "pygments_lexer": "ipython3",
   "version": "3.8.10"
  }
 },
 "nbformat": 4,
 "nbformat_minor": 5
}
